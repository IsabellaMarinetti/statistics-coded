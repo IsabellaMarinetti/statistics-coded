{
 "cells": [
  {
   "cell_type": "markdown",
   "metadata": {},
   "source": [
    "Statistics coded: Tourism Statistics\n",
    "\n",
    "Prepared by Sarah Hadj Hassen."
   ]
  },
  {
   "cell_type": "code",
   "execution_count": null,
   "metadata": {},
   "outputs": [],
   "source": [
    "#install.packages(c(\"ggplot2\", \"plotly\", \"tidyr\", \"repr\", \"dplyr\", \"devtools\", \"restatapi\"))\n",
    "#install.packages(\"eurostat\")\n",
    "#install.packages(\"patchwork\")\n",
    "#install.packages(\"Matching\")\n",
    "\n",
    "library(ggplot2)\n",
    "library(tidyr)\n",
    "library(dplyr)\n",
    "library(eurostat)\n",
    "library(Matching)\n",
    "library(stats)"
   ]
  },
  {
   "cell_type": "markdown",
   "metadata": {},
   "source": [
    "create first graph"
   ]
  },
  {
   "cell_type": "code",
   "execution_count": null,
   "metadata": {},
   "outputs": [],
   "source": [
    "## tourism destinations - nights spent at toursit accommondation establishments, 2018\n",
    "\n",
    "data <- get_eurostat(id=\"tour_occ_ninat\")\n",
    "nrow(data)\n",
    "\n",
    "# first check whether all countries needed and create countries vector\n",
    "countr <- c(\"ES\",\"IT\",\"FR\",\"EL\",\"AT\",\"DE\",\"HR\",\"PT\",\"NL\",\"CZ\",\"BE\",\"BG\",\"PL\",\"IE\",\"CY\",\"SE\",\"HU\",\"DK\",\"SI\",\n",
    "                         \"MT\",\"FI\",\"SK\",\"RO\",\"EE\",\"LV\",\"LT\",\"LU\",\"UK\",\"CH\",\"NO\",\"IS\",\"LI\",\"TR\",\"ME\",\"RS\",\"MK\",\"XK\")\n",
    "levels(data$geo)\n",
    "levels(data$c_resid)\n",
    "levels(data$nace_r2)"
   ]
  },
  {
   "cell_type": "code",
   "execution_count": null,
   "metadata": {},
   "outputs": [],
   "source": [
    "# for Ireland, Slovenia, United Kingdom, Switzerland, Norway, Iceland, Montenegro, Serbia and Kosovo we need 2018 monthly data\n",
    "data_month <- get_eurostat(id=\"tour_occ_nim\")\n",
    "nrow(data_month)\n",
    "\n",
    "data_month$year <- as.integer(substr(data_month$time,1,4))\n",
    "data_month$month <- as.integer(substr(data_month$time,6,7))\n",
    "\n",
    "countr2 <- c(\"IE\",\"SI\",\"UK\",\"CH\",\"NO\",\"IS\",\"ME\",\"RS\",\"XK\")\n",
    "\n",
    "data_mod <- subset(data_month, \n",
    "                    data_month$geo %in% countr2 & \n",
    "                    data_month$year==2018 &\n",
    "                    data_month$c_resid==\"FOR\" &\n",
    "                    data_month$nace_r2==\"I551-I553\"&\n",
    "                    data_month$unit==\"NR\")\n",
    "\n",
    "nrow(data_mod)\n",
    "levels(data_mod$geo)\n",
    "\n",
    "data_mod1 <- aggregate(data_mod$values, by = list(geo = data_mod$geo), FUN = sum)\n",
    "names(data_mod1)[2] <- \"values\""
   ]
  },
  {
   "cell_type": "code",
   "execution_count": null,
   "metadata": {
    "scrolled": true
   },
   "outputs": [],
   "source": [
    "# building needed subset for the other countries\n",
    "data$year <- as.integer(substr(data$time,1,4))\n",
    "head(data)\n",
    "\n",
    "data_mod2 <- subset(data, \n",
    "                    data$geo %in% countr & \n",
    "                    data$year==2018 &\n",
    "                    data$c_resid==\"FOR\" &\n",
    "                    data$nace_r2==\"I551-I553\"&\n",
    "                    data$unit==\"NR\")\n",
    "nrow(data_mod2)\n",
    "data_mod2 <- data_mod2[,c(4,6)]\n",
    "data_mod2"
   ]
  },
  {
   "cell_type": "code",
   "execution_count": null,
   "metadata": {},
   "outputs": [],
   "source": [
    "# for Turkey we need data from 2016\n",
    "countr3 <- c(\"TR\")\n",
    "\n",
    "data_mod3 <- subset(data, \n",
    "                    data$geo %in% countr3 & \n",
    "                    data$year==2016 &\n",
    "                    data$c_resid==\"FOR\" &\n",
    "                    data$nace_r2==\"I551-I553\"&\n",
    "                    data$unit==\"NR\")\n",
    "data_mod3 <- data_mod3[,c(4,6)]\n",
    "data_mod3  "
   ]
  },
  {
   "cell_type": "code",
   "execution_count": null,
   "metadata": {},
   "outputs": [],
   "source": [
    "#match data_mod1 and data_mod2 and data_mod3\n",
    "data_mod4 <- rbind(data_mod1,data_mod2,data_mod3)\n",
    "data_mod4"
   ]
  },
  {
   "cell_type": "code",
   "execution_count": null,
   "metadata": {},
   "outputs": [],
   "source": [
    "# bring the country names in the order the grpahik shows\n",
    "data_mod4$geo <- factor(data_mod4$geo,\n",
    "                        levels = c(\"ES\",\"IT\",\"FR\",\"EL\",\"AT\",\"DE\",\"HR\",\"PT\",\"NL\",\"CZ\",\"BE\",\"BG\",\"PL\",\"IE\",\"CY\",\"SE\",\"HU\",\n",
    "                                   \"DK\",\"SI\", \"MT\",\"FI\",\"SK\",\"RO\",\"EE\",\"LV\",\"LT\",\"LU\",\"UK\",\"CH\",\"NO\",\"IS\",\"LI\",\"TR\",\"ME\",\n",
    "                                   \"RS\",\"MK\",\"XK\"))\n",
    "data_mod4"
   ]
  },
  {
   "cell_type": "code",
   "execution_count": 56,
   "metadata": {},
   "outputs": [
    {
     "data": {
      "image/png": "[encoded data removed]",
      "text/plain": [
       "plot without title"
      ]
     },
     "metadata": {},
     "output_type": "display_data"
    }
   ],
   "source": [
    "options(scipen=999)\n",
    "ggplot(data_mod4, aes(x=geo,y=values)) +\n",
    "            geom_bar(stat = \"identity\", position=\"dodge\", width=0.5, fill=\"steelblue3\") +\n",
    "            theme_classic() +\n",
    "            scale_y_continuous(limits = c(0, 310000000), breaks = seq(0, 300000000, by = 50000000)) +\n",
    "            ggtitle(\"Tourism destinations - nights spent at tourist accomodation establishments, 2018\")"
   ]
  },
  {
   "cell_type": "markdown",
   "metadata": {},
   "source": [
    "create first table"
   ]
  },
  {
   "cell_type": "code",
   "execution_count": null,
   "metadata": {},
   "outputs": [],
   "source": [
    "## tourist accomodation establishments, 2018\n",
    "\n",
    "# we need 3 datasets for each column\n",
    "countr_0 <- c(\"BE\",\"BG\",\"CZ\",\"DK\",\"DE\",\"EE\",\"IE\",\"EL\",\"ES\",\"FR\",\"HR\",\"IT\",\"CY\",\"LV\",\"LT\",\"LU\",\"HU\",\"MT\",\"NL\",\n",
    "              \"AT\",\"PL\",\"PT\",\"RO\",\"SI\",\"SK\",\"FI\",\"SE\",\"UK\",\"IS\",\"LI\",\"NO\",\"CH\",\"ME\",\"MK\",\"RS\",\"TR\",\"XK\")"
   ]
  },
  {
   "cell_type": "code",
   "execution_count": null,
   "metadata": {},
   "outputs": [],
   "source": [
    "# column 1: number of establishments (units)\n",
    "data_1 <- get_eurostat(id=\"tour_cap_nat\")\n",
    "\n",
    "data_1$year <- as.integer(substr(data_1$time,1,4))\n",
    "\n",
    "levels(data_1$geo)\n",
    "levels(data_1$nace_r2)\n",
    "levels(data_1$unit)\n",
    "levels(data_1$accommod)\n",
    "\n",
    "# exclude the countries, which need data from 2016 and 2017\n",
    "countr_1 <- c(\"BE\",\"BG\",\"CZ\",\"DK\",\"DE\",\"EE\",\"EL\",\"ES\",\"FR\",\"HR\",\"IT\",\"CY\",\"LV\",\"LT\",\"HU\",\"MT\",\"NL\",\n",
    "                         \"AT\",\"PL\",\"PT\",\"RO\",\"SK\",\"FI\",\"SE\",\"IS\",\"LI\",\"NO\",\"CH\",\"ME\",\"MK\",\"RS\")\n",
    "data_tab1 <- subset(data_1, \n",
    "                    data_1$geo %in% countr_1 & \n",
    "                    data_1$year==2018 &\n",
    "                    data_1$nace_r2==\"I551-I553\"&\n",
    "                    data_1$unit==\"NR\"&\n",
    "                    data_1$accommod==\"ESTBL\")\n",
    "data_tab1 <- data_tab1[,c(4,6)]\n",
    "\n",
    "# for Ireland and United Kingdom we need data from 2016\n",
    "countr_1_1 <- c(\"IE\",\"UK\")\n",
    "data_tab1_1 <- subset(data_1, \n",
    "                      data_1$geo %in% countr_1_1 & \n",
    "                      data_1$year==2016 &\n",
    "                      data_1$nace_r2==\"I551-I553\"&\n",
    "                      data_1$unit==\"NR\"&\n",
    "                      data_1$accommod==\"ESTBL\")\n",
    "data_tab1_1 <- data_tab1_1[,c(4,6)]\n",
    "\n",
    "# for Luxembourg, Slovenia and Kosovo we need data from 2017\n",
    "countr_1_2 <- c(\"LU\",\"SI\",\"XK\")\n",
    "data_tab1_2 <- subset(data_1, \n",
    "                      data_1$geo %in% countr_1_2 & \n",
    "                      data_1$year==2017 &\n",
    "                      data_1$nace_r2==\"I551-I553\"&\n",
    "                      data_1$unit==\"NR\"&\n",
    "                      data_1$accommod==\"ESTBL\")\n",
    "data_tab1_2 <- data_tab1_2[,c(4,6)]\n",
    "\n",
    "# for Turkey we have NA\n",
    "data_tab1_3 <- data.frame( geo = \"TR\", values=  NA)\n",
    "\n",
    "#matching\n",
    "data_tab_col1 <- rbind(data_tab1,data_tab1_1,data_tab1_2,data_tab1_3)\n",
    "\n",
    "# bring the country names in the order the grpahik shows\n",
    "data_tab_col1 <- data_tab_col1[order(factor(data_tab_col1$geo, levels= countr_0)),]\n",
    "data_tab_col1"
   ]
  },
  {
   "cell_type": "code",
   "execution_count": null,
   "metadata": {},
   "outputs": [],
   "source": [
    "# column 2: number of bed places (thousands)\n",
    "\n",
    "# exclude the countries, which need data from 2016 and 2017\n",
    "countr_2 <- c(\"BE\",\"BG\",\"CZ\",\"DK\",\"DE\",\"EE\",\"EL\",\"ES\",\"FR\",\"HR\",\"IT\",\"CY\",\"LV\",\"LT\",\"HU\",\"MT\",\"NL\",\n",
    "                         \"AT\",\"PL\",\"PT\",\"RO\",\"SK\",\"FI\",\"SE\",\"IS\",\"LI\",\"NO\",\"CH\",\"ME\",\"MK\",\"RS\",\"TR\")\n",
    "data_tab2 <- subset(data_1, \n",
    "                    data_1$geo %in% countr_2 & \n",
    "                    data_1$year==2018 &\n",
    "                    data_1$nace_r2==\"I551-I553\"&\n",
    "                    data_1$unit==\"NR\"&\n",
    "                    data_1$accommod==\"BEDPL\")\n",
    "data_tab2 <- data_tab2[,c(4,6)]\n",
    "\n",
    "# for Ireland and United Kingdom we need data from 2016\n",
    "countr_2_1 <- c(\"IE\",\"UK\")\n",
    "data_tab2_1 <- subset(data_1, \n",
    "                      data_1$geo %in% countr_2_1 & \n",
    "                      data_1$year==2016 &\n",
    "                      data_1$nace_r2==\"I551-I553\"&\n",
    "                      data_1$unit==\"NR\"&\n",
    "                      data_1$accommod==\"BEDPL\")\n",
    "data_tab2_1 <- data_tab2_1[,c(4,6)]\n",
    "\n",
    "# for Luxembourg, Slovenia and Kosovo we need data from 2017\n",
    "countr_2_2 <- c(\"LU\",\"SI\",\"XK\")\n",
    "data_tab2_2 <- subset(data_1, \n",
    "                      data_1$geo %in% countr_1_2 & \n",
    "                      data_1$year==2017 &\n",
    "                      data_1$nace_r2==\"I551-I553\"&\n",
    "                      data_1$unit==\"NR\"&\n",
    "                      data_1$accommod==\"BEDPL\")\n",
    "data_tab2_2 <- data_tab2_2[,c(4,6)]\n",
    "\n",
    "# for Turkey we have NA\n",
    "data_tab2_3 <- data.frame( geo = \"TR\", values=  NA)\n",
    "\n",
    "#matching\n",
    "data_tab_col2 <- rbind(data_tab2,data_tab2_1,data_tab2_2,data_tab2_3)\n",
    "\n",
    "# bring the country names in the order the grpahik shows\n",
    "data_tab_col2 <- data_tab_col2[order(factor(data_tab_col2$geo, levels= countr_0)),]\n",
    "data_tab_col2"
   ]
  },
  {
   "cell_type": "code",
   "execution_count": null,
   "metadata": {},
   "outputs": [],
   "source": [
    "# column 3: nights spent by residents and non-residents (millions)\n",
    "\n",
    "# we already load the data for the graph before\n",
    "# exclude the countries, which need data from 2016 and monthly from 2018\n",
    "countr_3 <- c(\"BE\",\"BG\",\"CZ\",\"DK\",\"DE\",\"EE\",\"EL\",\"ES\",\"FR\",\"HR\",\"IT\",\"CY\",\"LV\",\"LT\",\"LU\",\"HU\",\"MT\",\"NL\",\n",
    "                         \"AT\",\"PL\",\"PT\",\"RO\",\"SK\",\"FI\",\"SE\",\"LI\",\"MK\")\n",
    "data_tab3 <- subset(data, \n",
    "                    data$geo %in% countr_3 & \n",
    "                    data$year==2018 &\n",
    "                    data$c_resid==\"TOTAL\" &\n",
    "                    data$nace_r2==\"I551-I553\"&\n",
    "                    data$unit==\"NR\")\n",
    "\n",
    "data_tab3 <- data_tab3[,c(4,6)]\n",
    "\n",
    "# for Ireland, Slovenia, United Kingdom, Switzerland, Norway, Iceland, Montenegro, Serbia and Kosovo we need 2018 monthly data\n",
    "# we already load the data for the graph before\n",
    "countr_3_1 <- c(\"IE\",\"SI\",\"UK\",\"CH\",\"NO\",\"IS\",\"ME\",\"RS\",\"XK\")\n",
    "\n",
    "data_tab3_1 <- subset(data_month, \n",
    "                    data_month$geo %in% countr_3_1 & \n",
    "                    data_month$year==2018 &\n",
    "                    data_month$c_resid==\"TOTAL\" &\n",
    "                    data_month$nace_r2==\"I551-I553\"&\n",
    "                    data_month$unit==\"NR\")\n",
    "\n",
    "data_tab3_1 <- aggregate(data_tab3_1$values, by = list(geo = data_tab3_1$geo), FUN = sum)\n",
    "names(data_tab3_1)[2] <- \"values\"\n",
    "\n",
    "# for Turkey we need data from 2016\n",
    "countr_3_2 <- c(\"TR\")\n",
    "\n",
    "data_tab3_2 <- subset(data, \n",
    "                      data$geo %in% countr_3_2 & \n",
    "                      data$year==2016 &\n",
    "                      data$c_resid==\"TOTAL\" &\n",
    "                      data$nace_r2==\"I551-I553\"&\n",
    "                      data$unit==\"NR\")\n",
    "data_tab3_2 <- data_tab3_2[,c(4,6)]\n",
    " \n",
    "\n",
    "#matching\n",
    "data_tab_col3 <- rbind(data_tab3,data_tab3_1,data_tab3_2)\n",
    "\n",
    "# bring the country names in the order the grpahik shows\n",
    "data_tab_col3 <- data_tab_col3[order(factor(data_tab_col3$geo, levels= countr_0)),]\n",
    "data_tab_col3"
   ]
  },
  {
   "cell_type": "code",
   "execution_count": null,
   "metadata": {},
   "outputs": [],
   "source": [
    "# create column with the names of the countries\n",
    "countr_names <- c(\"Belgium\",\"Bulgaria\",\"Czechia\",\"Denmark\",\"Germany\",\"Estonia\", \"Ireland\", \"Greece\", \"Spain\", \"France\", \n",
    "                  \"Croatia\", \"Italy\", \"Cyprus\", \"Latvia\", \"Lithuania\", \"Luxembourg\", \"Hungary\", \"Malta\", \"Netherlands\", \n",
    "                  \"Austria\", \"Poland\", \"Portugal\", \"Romania\", \"Slovenia\", \"Slovakia\", \"Finland\", \"Sweden\",\n",
    "                 \"United Kingdom\", \"Iceland\", \"Liechtenstein\", \"Norway\", \"Switzerland\", \"Montenegro\", \"North Macedonia\", \n",
    "                  \"Serbia\", \"Turkey\", \"Kosovo\")\n",
    "\n",
    "nrow(data_tab_col1)\n",
    "nrow(data_tab_col2)\n",
    "nrow(data_tab_col3)\n",
    "\n",
    "# matching all columns together\n",
    "table <- cbind(countr_names, data_tab_col1[,2], data_tab_col2[,2], data_tab_col3[,2])\n",
    "table"
   ]
  },
  {
   "cell_type": "code",
   "execution_count": 57,
   "metadata": {},
   "outputs": [
    {
     "data": {
      "text/html": [
       "<style>\n",
       ".dl-inline {width: auto; margin:0; padding: 0}\n",
       ".dl-inline>dt, .dl-inline>dd {float: none; width: auto; display: inline-block}\n",
       ".dl-inline>dt::after {content: \":\\0020\"; padding-right: .5ex}\n",
       ".dl-inline>dt:not(:first-of-type) {padding-left: .5ex}\n",
       "</style><dl class=dl-inline><dt>1</dt><dd>'EU-27'</dd><dt>values</dt><dd>'600157'</dd><dt>values.1</dt><dd>'28293931'</dd><dt>values.2</dt><dd>'2791211461'</dd></dl>\n"
      ],
      "text/latex": [
       "\\begin{description*}\n",
       "\\item[1] 'EU-27'\n",
       "\\item[values] '600157'\n",
       "\\item[values.1] '28293931'\n",
       "\\item[values.2] '2791211461'\n",
       "\\end{description*}\n"
      ],
      "text/markdown": [
       "1\n",
       ":   'EU-27'values\n",
       ":   '600157'values.1\n",
       ":   '28293931'values.2\n",
       ":   '2791211461'\n",
       "\n"
      ],
      "text/plain": [
       "                   values     values.1     values.2 \n",
       "     \"EU-27\"     \"600157\"   \"28293931\" \"2791211461\" "
      ]
     },
     "metadata": {},
     "output_type": "display_data"
    },
    {
     "name": "stderr",
     "output_type": "stream",
     "text": [
      "Warning message in `[<-.factor`(`*tmp*`, ri, value = \"EU-27\"):\n",
      "\"invalid factor level, NA generated\""
     ]
    },
    {
     "data": {
      "text/html": [
       "<table>\n",
       "<caption>A data.frame: 38 × 4</caption>\n",
       "<thead>\n",
       "\t<tr><th scope=col>countr_names</th><th scope=col>values</th><th scope=col>values</th><th scope=col>values</th></tr>\n",
       "\t<tr><th scope=col>&lt;fct&gt;</th><th scope=col>&lt;chr&gt;</th><th scope=col>&lt;chr&gt;</th><th scope=col>&lt;chr&gt;</th></tr>\n",
       "</thead>\n",
       "<tbody>\n",
       "\t<tr><td>NA             </td><td>600157</td><td>28293931</td><td>2791211461</td></tr>\n",
       "\t<tr><td>Belgium        </td><td>9211  </td><td>389826  </td><td>41320284  </td></tr>\n",
       "\t<tr><td>Bulgaria       </td><td>3458  </td><td>335597  </td><td>26845013  </td></tr>\n",
       "\t<tr><td>Czechia        </td><td>9426  </td><td>741235  </td><td>55513922  </td></tr>\n",
       "\t<tr><td>Denmark        </td><td>1167  </td><td>426075  </td><td>33280395  </td></tr>\n",
       "\t<tr><td>Germany        </td><td>50020 </td><td>3473630 </td><td>419556284 </td></tr>\n",
       "\t<tr><td>Estonia        </td><td>1535  </td><td>61193   </td><td>6630315   </td></tr>\n",
       "\t<tr><td>Ireland        </td><td>3145  </td><td>199756  </td><td>33382184  </td></tr>\n",
       "\t<tr><td>Greece         </td><td>38180 </td><td>1340451 </td><td>123087178 </td></tr>\n",
       "\t<tr><td>Spain          </td><td>51418 </td><td>3599886 </td><td>466940717 </td></tr>\n",
       "\t<tr><td>France         </td><td>29652 </td><td>5111960 </td><td>442760050 </td></tr>\n",
       "\t<tr><td>Croatia        </td><td>108212</td><td>1115659 </td><td>89567653  </td></tr>\n",
       "\t<tr><td>Italy          </td><td>216141</td><td>5113197 </td><td>428844937 </td></tr>\n",
       "\t<tr><td>Cyprus         </td><td>802   </td><td>87240   </td><td>17164182  </td></tr>\n",
       "\t<tr><td>Latvia         </td><td>1145  </td><td>53948   </td><td>5368739   </td></tr>\n",
       "\t<tr><td>Lithuania      </td><td>3616  </td><td>89813   </td><td>8091647   </td></tr>\n",
       "\t<tr><td>Luxembourg     </td><td>425   </td><td>63612   </td><td>2920245   </td></tr>\n",
       "\t<tr><td>Hungary        </td><td>4587  </td><td>419199  </td><td>32830120  </td></tr>\n",
       "\t<tr><td>Malta          </td><td>211   </td><td>45239   </td><td>10114196  </td></tr>\n",
       "\t<tr><td>Netherlands    </td><td>9145  </td><td>1397897 </td><td>116081577 </td></tr>\n",
       "\t<tr><td>Austria        </td><td>21494 </td><td>1045637 </td><td>125229170 </td></tr>\n",
       "\t<tr><td>Poland         </td><td>11076 </td><td>798723  </td><td>88860463  </td></tr>\n",
       "\t<tr><td>Portugal       </td><td>5964  </td><td>648530  </td><td>74407596  </td></tr>\n",
       "\t<tr><td>Romania        </td><td>7720  </td><td>348592  </td><td>28461153  </td></tr>\n",
       "\t<tr><td>Slovenia       </td><td>3699  </td><td>117137  </td><td>15673343  </td></tr>\n",
       "\t<tr><td>Slovakia       </td><td>3087  </td><td>190773  </td><td>15188140  </td></tr>\n",
       "\t<tr><td>Finland        </td><td>1372  </td><td>260071  </td><td>22235084  </td></tr>\n",
       "\t<tr><td>Sweden         </td><td>4249  </td><td>819055  </td><td>60856874  </td></tr>\n",
       "\t<tr><td>United Kingdom </td><td>84580 </td><td>3943507 </td><td>354449034 </td></tr>\n",
       "\t<tr><td>Iceland        </td><td>1120  </td><td>46867   </td><td>8551201   </td></tr>\n",
       "\t<tr><td>Liechtenstein  </td><td>96    </td><td>2459    </td><td>162161    </td></tr>\n",
       "\t<tr><td>Norway         </td><td>2351  </td><td>588267  </td><td>33829306  </td></tr>\n",
       "\t<tr><td>Switzerland    </td><td>39057 </td><td>664663  </td><td>55318921  </td></tr>\n",
       "\t<tr><td>Montenegro     </td><td>382   </td><td>43175   </td><td>4208955   </td></tr>\n",
       "\t<tr><td>North Macedonia</td><td>494   </td><td>48247   </td><td>2211589   </td></tr>\n",
       "\t<tr><td>Serbia         </td><td>3651  </td><td>109165  </td><td>9315225   </td></tr>\n",
       "\t<tr><td>Turkey         </td><td>NA    </td><td>NA      </td><td>112545487 </td></tr>\n",
       "\t<tr><td>Kosovo         </td><td>217   </td><td>8433    </td><td>326429    </td></tr>\n",
       "</tbody>\n",
       "</table>\n"
      ],
      "text/latex": [
       "A data.frame: 38 × 4\n",
       "\\begin{tabular}{llll}\n",
       " countr\\_names & values & values & values\\\\\n",
       " <fct> & <chr> & <chr> & <chr>\\\\\n",
       "\\hline\n",
       "\t NA              & 600157 & 28293931 & 2791211461\\\\\n",
       "\t Belgium         & 9211   & 389826   & 41320284  \\\\\n",
       "\t Bulgaria        & 3458   & 335597   & 26845013  \\\\\n",
       "\t Czechia         & 9426   & 741235   & 55513922  \\\\\n",
       "\t Denmark         & 1167   & 426075   & 33280395  \\\\\n",
       "\t Germany         & 50020  & 3473630  & 419556284 \\\\\n",
       "\t Estonia         & 1535   & 61193    & 6630315   \\\\\n",
       "\t Ireland         & 3145   & 199756   & 33382184  \\\\\n",
       "\t Greece          & 38180  & 1340451  & 123087178 \\\\\n",
       "\t Spain           & 51418  & 3599886  & 466940717 \\\\\n",
       "\t France          & 29652  & 5111960  & 442760050 \\\\\n",
       "\t Croatia         & 108212 & 1115659  & 89567653  \\\\\n",
       "\t Italy           & 216141 & 5113197  & 428844937 \\\\\n",
       "\t Cyprus          & 802    & 87240    & 17164182  \\\\\n",
       "\t Latvia          & 1145   & 53948    & 5368739   \\\\\n",
       "\t Lithuania       & 3616   & 89813    & 8091647   \\\\\n",
       "\t Luxembourg      & 425    & 63612    & 2920245   \\\\\n",
       "\t Hungary         & 4587   & 419199   & 32830120  \\\\\n",
       "\t Malta           & 211    & 45239    & 10114196  \\\\\n",
       "\t Netherlands     & 9145   & 1397897  & 116081577 \\\\\n",
       "\t Austria         & 21494  & 1045637  & 125229170 \\\\\n",
       "\t Poland          & 11076  & 798723   & 88860463  \\\\\n",
       "\t Portugal        & 5964   & 648530   & 74407596  \\\\\n",
       "\t Romania         & 7720   & 348592   & 28461153  \\\\\n",
       "\t Slovenia        & 3699   & 117137   & 15673343  \\\\\n",
       "\t Slovakia        & 3087   & 190773   & 15188140  \\\\\n",
       "\t Finland         & 1372   & 260071   & 22235084  \\\\\n",
       "\t Sweden          & 4249   & 819055   & 60856874  \\\\\n",
       "\t United Kingdom  & 84580  & 3943507  & 354449034 \\\\\n",
       "\t Iceland         & 1120   & 46867    & 8551201   \\\\\n",
       "\t Liechtenstein   & 96     & 2459     & 162161    \\\\\n",
       "\t Norway          & 2351   & 588267   & 33829306  \\\\\n",
       "\t Switzerland     & 39057  & 664663   & 55318921  \\\\\n",
       "\t Montenegro      & 382    & 43175    & 4208955   \\\\\n",
       "\t North Macedonia & 494    & 48247    & 2211589   \\\\\n",
       "\t Serbia          & 3651   & 109165   & 9315225   \\\\\n",
       "\t Turkey          & NA     & NA       & 112545487 \\\\\n",
       "\t Kosovo          & 217    & 8433     & 326429    \\\\\n",
       "\\end{tabular}\n"
      ],
      "text/markdown": [
       "\n",
       "A data.frame: 38 × 4\n",
       "\n",
       "| countr_names &lt;fct&gt; | values &lt;chr&gt; | values &lt;chr&gt; | values &lt;chr&gt; |\n",
       "|---|---|---|---|\n",
       "| NA              | 600157 | 28293931 | 2791211461 |\n",
       "| Belgium         | 9211   | 389826   | 41320284   |\n",
       "| Bulgaria        | 3458   | 335597   | 26845013   |\n",
       "| Czechia         | 9426   | 741235   | 55513922   |\n",
       "| Denmark         | 1167   | 426075   | 33280395   |\n",
       "| Germany         | 50020  | 3473630  | 419556284  |\n",
       "| Estonia         | 1535   | 61193    | 6630315    |\n",
       "| Ireland         | 3145   | 199756   | 33382184   |\n",
       "| Greece          | 38180  | 1340451  | 123087178  |\n",
       "| Spain           | 51418  | 3599886  | 466940717  |\n",
       "| France          | 29652  | 5111960  | 442760050  |\n",
       "| Croatia         | 108212 | 1115659  | 89567653   |\n",
       "| Italy           | 216141 | 5113197  | 428844937  |\n",
       "| Cyprus          | 802    | 87240    | 17164182   |\n",
       "| Latvia          | 1145   | 53948    | 5368739    |\n",
       "| Lithuania       | 3616   | 89813    | 8091647    |\n",
       "| Luxembourg      | 425    | 63612    | 2920245    |\n",
       "| Hungary         | 4587   | 419199   | 32830120   |\n",
       "| Malta           | 211    | 45239    | 10114196   |\n",
       "| Netherlands     | 9145   | 1397897  | 116081577  |\n",
       "| Austria         | 21494  | 1045637  | 125229170  |\n",
       "| Poland          | 11076  | 798723   | 88860463   |\n",
       "| Portugal        | 5964   | 648530   | 74407596   |\n",
       "| Romania         | 7720   | 348592   | 28461153   |\n",
       "| Slovenia        | 3699   | 117137   | 15673343   |\n",
       "| Slovakia        | 3087   | 190773   | 15188140   |\n",
       "| Finland         | 1372   | 260071   | 22235084   |\n",
       "| Sweden          | 4249   | 819055   | 60856874   |\n",
       "| United Kingdom  | 84580  | 3943507  | 354449034  |\n",
       "| Iceland         | 1120   | 46867    | 8551201    |\n",
       "| Liechtenstein   | 96     | 2459     | 162161     |\n",
       "| Norway          | 2351   | 588267   | 33829306   |\n",
       "| Switzerland     | 39057  | 664663   | 55318921   |\n",
       "| Montenegro      | 382    | 43175    | 4208955    |\n",
       "| North Macedonia | 494    | 48247    | 2211589    |\n",
       "| Serbia          | 3651   | 109165   | 9315225    |\n",
       "| Turkey          | NA     | NA       | 112545487  |\n",
       "| Kosovo          | 217    | 8433     | 326429     |\n",
       "\n"
      ],
      "text/plain": [
       "   countr_names    values values   values    \n",
       "1  NA              600157 28293931 2791211461\n",
       "2  Belgium         9211   389826   41320284  \n",
       "3  Bulgaria        3458   335597   26845013  \n",
       "4  Czechia         9426   741235   55513922  \n",
       "5  Denmark         1167   426075   33280395  \n",
       "6  Germany         50020  3473630  419556284 \n",
       "7  Estonia         1535   61193    6630315   \n",
       "8  Ireland         3145   199756   33382184  \n",
       "9  Greece          38180  1340451  123087178 \n",
       "10 Spain           51418  3599886  466940717 \n",
       "11 France          29652  5111960  442760050 \n",
       "12 Croatia         108212 1115659  89567653  \n",
       "13 Italy           216141 5113197  428844937 \n",
       "14 Cyprus          802    87240    17164182  \n",
       "15 Latvia          1145   53948    5368739   \n",
       "16 Lithuania       3616   89813    8091647   \n",
       "17 Luxembourg      425    63612    2920245   \n",
       "18 Hungary         4587   419199   32830120  \n",
       "19 Malta           211    45239    10114196  \n",
       "20 Netherlands     9145   1397897  116081577 \n",
       "21 Austria         21494  1045637  125229170 \n",
       "22 Poland          11076  798723   88860463  \n",
       "23 Portugal        5964   648530   74407596  \n",
       "24 Romania         7720   348592   28461153  \n",
       "25 Slovenia        3699   117137   15673343  \n",
       "26 Slovakia        3087   190773   15188140  \n",
       "27 Finland         1372   260071   22235084  \n",
       "28 Sweden          4249   819055   60856874  \n",
       "29 United Kingdom  84580  3943507  354449034 \n",
       "30 Iceland         1120   46867    8551201   \n",
       "31 Liechtenstein   96     2459     162161    \n",
       "32 Norway          2351   588267   33829306  \n",
       "33 Switzerland     39057  664663   55318921  \n",
       "34 Montenegro      382    43175    4208955   \n",
       "35 North Macedonia 494    48247    2211589   \n",
       "36 Serbia          3651   109165   9315225   \n",
       "37 Turkey          NA     NA       112545487 \n",
       "38 Kosovo          217    8433     326429    "
      ]
     },
     "metadata": {},
     "output_type": "display_data"
    }
   ],
   "source": [
    "# calculate the EU-27 value by summing up\n",
    "EU_27 <- c(\"AT\",\"BE\", \"BG\",\"HR\",\"CY\", \"CZ\",\"DK\", \"DE\", \"EE\",\"FI\",\"FR\",\"EL\",\"HU\",\"IE\",\n",
    "           \"IT\",\"LV\",\"LT\",\"LU\",\"MT\",\"NL\",\"PL\",\"PT\",\"RO\",\"SK\",\"SI\",\"ES\",\"SE\")\n",
    "# we need the table from above with shortcuts instead of full names to exclude the not-EU countriesdata with the EU_27 vector\n",
    "tab_prep <- cbind(countr_0,data_tab_col1[,2], data_tab_col2[,2], data_tab_col3[,2])\n",
    "\n",
    "EU_27_prep <- tab_prep$countr_0 %in% EU_27\n",
    "\n",
    "tab_EU <- c(\"EU-27\",sapply(table[EU_27_prep,2:4],sum))                \n",
    "tab_EU\n",
    "\n",
    "# put the summarized values to the calculated table from above\n",
    "\n",
    "table_final <- rbind(tab_EU,table)\n",
    "table_final"
   ]
  },
  {
   "cell_type": "markdown",
   "metadata": {},
   "source": [
    "create figure 2"
   ]
  },
  {
   "cell_type": "code",
   "execution_count": 58,
   "metadata": {},
   "outputs": [
    {
     "data": {
      "image/png": "[encoded data removed]",
      "text/plain": [
       "plot without title"
      ]
     },
     "metadata": {},
     "output_type": "display_data"
    }
   ],
   "source": [
    "ggplot(data_mod4, aes(x=geo,y=values)) +\n",
    "            geom_bar(stat = \"identity\", position=\"dodge\", width=0.5, fill=\"steelblue3\") +\n",
    "            theme_classic() +\n",
    "            scale_y_continuous(limits = c(0, 310000000), breaks = seq(0, 300000000, by = 50000000)) +\n",
    "            ggtitle(\"Tourism destinations - nights spent at tourist accomodation establishments, 2018\") +\n",
    "            coord_flip() +\n",
    "            scale_x_discrete(limits = rev(levels(data_mod4$geo)),\n",
    "                             labels = c(\"Kosovo\", \"North Macedonia\", \"Serbia\", \"Montenegro\", \"Turkey\", \"Liechtenstein\", \n",
    "                                        \"Iceland\", \"Norway\", \"Switzerland\", \"United Kingdom\", \"Luxembourg\", \"Lithuania\", \n",
    "                                        \"Latvia\", \"Estonia\", \"Romania\", \"Slovakia\", \"Finland\", \"Malta\", \"Slovenia\", \n",
    "                                        \"Denmark\", \"Hungary\", \"Sweden\", \"Cyprus\", \"Ireland\", \"Poland\", \"Bulgaria\", \n",
    "                                        \"Belgium\", \"Czechia\", \"Netherlands\", \"Portugal\", \"Croatia\", \"Germany\", \"Austria\", \n",
    "                                        \"Greece\", \"France\", \"Italy\", \"Spain\"))"
   ]
  },
  {
   "cell_type": "markdown",
   "metadata": {},
   "source": [
    "create figure 4"
   ]
  },
  {
   "cell_type": "code",
   "execution_count": null,
   "metadata": {},
   "outputs": [],
   "source": [
    "### we already load the dataset and can use the values from the third colomn from table 1\n",
    "bev <- get_eurostat(id=\"demo_gind\")\n",
    "\n",
    "bev_subs <- subset(bev, \n",
    "                   bev$geo %in% countr & \n",
    "                   bev$indic_de==\"JAN\" &\n",
    "                   bev$time==\"2018-01-01\")\n",
    "bev_subs2 <- bev_subs[,c(2,4)]\n",
    "\n",
    "# bring the country names in the same order like the table above to add the columns with the tourist accomodation\n",
    "bev_subs2 <- bev_subs2[order(factor(bev_subs2$geo, levels= countr_0)),]\n",
    "bev_subs2 <- cbind(bev_subs2,data_tab_col3)\n",
    "# add the ratio-column\n",
    "bev_subs2 <- cbind(bev_subs2,bev_subs2[,4]/bev_subs2[,2])\n",
    "names(bev_subs2)[5] <- \"values\"\n",
    "bev_subs2\n",
    "\n",
    "# create new country vector to bring the countries in the right order\n",
    "countr_fig4 <- c(\"HR\", \"MT\",\"CY\",\"AT\",\"EL\",\"ES\",\"SI\",\"PT\",\"IT\",\"IE\",\"NL\",\"FR\",\"SE\",\"DK\",\"CZ\",\"DE\",\"EE\",\"LU\",\"FI\",\"BG\",\n",
    "                 \"BE\",\"HU\",\"LT\",\"SK\",\"LV\",\"PL\",\"RO\", \"UK\", \"IS\",\"CH\",\"NO\",\"LI\",\"ME\",\"TR\",\"RS\",\"MK\",\"XK\")\n",
    "bev_subs3 <- bev_subs2[,c(1,5)]\n",
    "bev_subs3 <- bev_subs3[order(factor(bev_subs3$geo, levels= countr_fig4)),]\n",
    "bev_subs3$geo <- factor(bev_subs3$geo,\n",
    "                        levels = c(\"HR\", \"MT\",\"CY\",\"AT\",\"EL\",\"ES\",\"SI\",\"PT\",\"IT\",\"IE\",\"NL\",\"FR\",\"SE\",\"DK\",\"CZ\",\"DE\",\n",
    "                                   \"EE\",\"LU\",\"FI\",\"BG\",\"BE\",\"HU\",\"LT\",\"SK\",\"LV\",\"PL\",\"RO\", \"UK\", \"IS\",\"CH\",\"NO\",\"LI\",\n",
    "                                   \"ME\",\"TR\",\"RS\",\"MK\",\"XK\"))"
   ]
  },
  {
   "cell_type": "code",
   "execution_count": 59,
   "metadata": {},
   "outputs": [
    {
     "data": {
      "image/png": "[encoded data removed]",
      "text/plain": [
       "plot without title"
      ]
     },
     "metadata": {},
     "output_type": "display_data"
    }
   ],
   "source": [
    "ggplot(bev_subs3, aes(x=geo,y=values)) +\n",
    "            geom_bar(stat = \"identity\", position=\"dodge\", width=0.5, fill=\"steelblue3\") +\n",
    "            theme_classic() +\n",
    "            scale_y_continuous(limits = c(0, 30), breaks = seq(0, 30, by = 5)) +\n",
    "            ggtitle(\"Tourism intensity, 2018\") +\n",
    "            coord_flip() +\n",
    "            scale_x_discrete(limits = rev(levels(bev_subs3$geo)),\n",
    "                             labels = c(\"Croatia\", \"Malta\", \"Cyprus\", \"Austria\", \"Greece\", \"Spain\", \"Slovenia\", \n",
    "                                        \"Portugal\", \"Italy\", \"Ireland\", \"Netherlands\", \"France\", \"Sweden\", \"Denmark\", \n",
    "                                        \"Czechia\", \"Germany\", \"Estonia\", \"Luxembourg\", \"Finland\", \"Bulgaria\", \"Belgium\",\n",
    "                                        \"Hungary\", \"Lithuania\", \"Slovakia\", \"Latvia\", \"Poland\", \"Romania\", \"United Kingdom\",\n",
    "                                        \"Iceland\", \"Switzerland\", \"Norway\", \"Liechtenstein\", \"Montenegro\", \"Turkey\", \n",
    "                                        \"Serbia\", \"North Macedonia\", \"Kosovo\"))"
   ]
  },
  {
   "cell_type": "code",
   "execution_count": null,
   "metadata": {},
   "outputs": [],
   "source": []
  }
 ],
 "metadata": {
  "kernelspec": {
   "display_name": "R",
   "language": "R",
   "name": "ir"
  },
  "language_info": {
   "codemirror_mode": "r",
   "file_extension": ".r",
   "mimetype": "text/x-r-source",
   "name": "R",
   "pygments_lexer": "r",
   "version": "3.6.1"
  }
 },
 "nbformat": 4,
 "nbformat_minor": 4
}
