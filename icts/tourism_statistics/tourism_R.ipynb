{
 "cells": [
  {
   "cell_type": "markdown",
   "metadata": {},
   "source": [
    "Statistics coded: Tourism Statistics\n",
    "\n",
    "Prepared by Sarah Hadj Hassen."
   ]
  },
  {
   "cell_type": "code",
   "execution_count": null,
   "metadata": {},
   "outputs": [],
   "source": [
    "#install.packages(c(\"ggplot2\", \"plotly\", \"tidyr\", \"repr\", \"dplyr\", \"devtools\", \"restatapi\"))\n",
    "#install.packages(\"eurostat\")\n",
    "#install.packages(\"patchwork\")\n",
    "#install.packages(\"Matching\")\n",
    "\n",
    "library(ggplot2)\n",
    "library(tidyr)\n",
    "library(dplyr)\n",
    "library(eurostat)\n",
    "library(Matching)\n",
    "library(stats)"
   ]
  },
  {
   "cell_type": "code",
   "execution_count": null,
   "metadata": {},
   "outputs": [],
   "source": [
    "# create first graph\n",
    "## tourism destinations - nights spent at toursit accommondation establishments, 2018\n",
    "\n",
    "data <- get_eurostat(id=\"tour_occ_ninat\")\n",
    "nrow(data)\n",
    "\n",
    "# first check whether all countries needed and create countries vector\n",
    "countr <- c(\"ES\",\"IT\",\"FR\",\"EL\",\"AT\",\"DE\",\"HR\",\"PT\",\"NL\",\"CZ\",\"BE\",\"BG\",\"PL\",\"IE\",\"CY\",\"SE\",\"HU\",\"DK\",\"SI\",\n",
    "                         \"MT\",\"FI\",\"SK\",\"RO\",\"EE\",\"LV\",\"LT\",\"LU\",\"UK\",\"CH\",\"NO\",\"IS\",\"LI\",\"TR\",\"ME\",\"RS\",\"MK\",\"XK\")\n",
    "sort(countr)\n",
    "sort(levels(data$geo))\n",
    "levels(data$c_resid)\n",
    "levels(data$nace_r2)"
   ]
  },
  {
   "cell_type": "code",
   "execution_count": null,
   "metadata": {},
   "outputs": [],
   "source": [
    "# for Ireland, Slovenia, United Kingdom, Switzerland, Norway, Iceland, Montenegro, Serbia and Kosovo we need 2018 monthly data\n",
    "data_month <- get_eurostat(id=\"tour_occ_nim\")\n",
    "nrow(data_month)\n",
    "\n",
    "data_month$year <- as.integer(substr(data_month$time,1,4))\n",
    "data_month$month <- as.integer(substr(data_month$time,6,7))\n",
    "\n",
    "countr2 <- c(\"IE\",\"SI\",\"UK\",\"CH\",\"NO\",\"IS\",\"ME\",\"RS\",\"XK\")\n",
    "\n",
    "data_mod <- subset(data_month, \n",
    "                    data_month$geo %in% countr2 & \n",
    "                    data_month$year==2018 &\n",
    "                    data_month$c_resid==\"FOR\" &\n",
    "                    data_month$nace_r2==\"I551-I553\"&\n",
    "                    data_month$unit==\"NR\")\n",
    "\n",
    "nrow(data_mod)\n",
    "levels(data_mod$geo)\n",
    "\n",
    "data_mod1 <- aggregate(data_mod$values, by = list(geo = data_mod$geo), FUN = sum)\n",
    "names(data_mod1)[2] <- \"values\""
   ]
  },
  {
   "cell_type": "code",
   "execution_count": null,
   "metadata": {
    "scrolled": true
   },
   "outputs": [],
   "source": [
    "# building needed subset for the other countries\n",
    "data$year <- as.integer(substr(data$time,1,4))\n",
    "head(data)\n",
    "\n",
    "data_mod2 <- subset(data, \n",
    "                    data$geo %in% countr & \n",
    "                    data$year==2018 &\n",
    "                    data$c_resid==\"FOR\" &\n",
    "                    data$nace_r2==\"I551-I553\"&\n",
    "                    data$unit==\"NR\")\n",
    "nrow(data_mod2)\n",
    "data_mod2 <- data_mod2[,c(4,6)]\n",
    "data_mod2"
   ]
  },
  {
   "cell_type": "code",
   "execution_count": null,
   "metadata": {},
   "outputs": [],
   "source": [
    "# for Turkey we need data from 2016\n",
    "countr3 <- c(\"TR\")\n",
    "\n",
    "data_mod3 <- subset(data, \n",
    "                    data$geo %in% countr3 & \n",
    "                    data$year==2016 &\n",
    "                    data$c_resid==\"FOR\" &\n",
    "                    data$nace_r2==\"I551-I553\"&\n",
    "                    data$unit==\"NR\")\n",
    "data_mod3 <- data_mod3[,c(4,6)]\n",
    "data_mod3  "
   ]
  },
  {
   "cell_type": "code",
   "execution_count": null,
   "metadata": {},
   "outputs": [],
   "source": [
    "#match data_mod1 and data_mod2 and data_mod3\n",
    "data_mod4 <- rbind(data_mod1,data_mod2,data_mod3)\n",
    "data_mod4"
   ]
  },
  {
   "cell_type": "code",
   "execution_count": null,
   "metadata": {},
   "outputs": [],
   "source": [
    "# bring the country names in the order the grpahik shows\n",
    "data_mod4$geo <- factor(data_mod4$geo,\n",
    "                        levels = c(\"ES\",\"IT\",\"FR\",\"EL\",\"AT\",\"DE\",\"HR\",\"PT\",\"NL\",\"CZ\",\"BE\",\"BG\",\"PL\",\"IE\",\"CY\",\"SE\",\"HU\",\n",
    "                                   \"DK\",\"SI\", \"MT\",\"FI\",\"SK\",\"RO\",\"EE\",\"LV\",\"LT\",\"LU\",\"UK\",\"CH\",\"NO\",\"IS\",\"LI\",\"TR\",\"ME\",\n",
    "                                   \"RS\",\"MK\",\"XK\"))\n",
    "data_mod4"
   ]
  },
  {
   "cell_type": "code",
   "execution_count": null,
   "metadata": {},
   "outputs": [],
   "source": [
    "options(scipen=999)\n",
    "ggplot(data_mod4, aes(x=geo,y=values)) +\n",
    "            geom_bar(stat = \"identity\", position=\"dodge\", width=0.5, fill=\"steelblue3\") +\n",
    "            theme_classic() +\n",
    "            scale_y_continuous(limits = c(0, 310000000), breaks = seq(0, 300000000, by = 50000000)) +\n",
    "            ggtitle(\"Tourism destinations - nights spent at tourist accomodation establishments, 2018\")"
   ]
  },
  {
   "cell_type": "code",
   "execution_count": null,
   "metadata": {},
   "outputs": [],
   "source": []
  },
  {
   "cell_type": "code",
   "execution_count": null,
   "metadata": {},
   "outputs": [],
   "source": []
  },
  {
   "cell_type": "code",
   "execution_count": null,
   "metadata": {},
   "outputs": [],
   "source": []
  }
 ],
 "metadata": {
  "kernelspec": {
   "display_name": "R",
   "language": "R",
   "name": "ir"
  },
  "language_info": {
   "codemirror_mode": "r",
   "file_extension": ".r",
   "mimetype": "text/x-r-source",
   "name": "R",
   "pygments_lexer": "r",
   "version": "3.6.1"
  }
 },
 "nbformat": 4,
 "nbformat_minor": 4
}
