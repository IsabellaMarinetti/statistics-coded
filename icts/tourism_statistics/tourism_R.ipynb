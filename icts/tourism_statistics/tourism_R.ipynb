{
 "cells": [
  {
   "cell_type": "markdown",
   "metadata": {},
   "source": [
    "Statistics coded: Tourism Statistics\n",
    "\n",
    "Prepared by Sarah Hadj Hassen."
   ]
  },
  {
   "cell_type": "code",
   "execution_count": null,
   "metadata": {},
   "outputs": [],
   "source": [
    "#install.packages(c(\"ggplot2\", \"plotly\", \"tidyr\", \"repr\", \"dplyr\", \"devtools\", \"restatapi\"))\n",
    "#install.packages(\"eurostat\")\n",
    "#install.packages(\"patchwork\")\n",
    "#install.packages(\"Matching\")\n",
    "\n",
    "library(ggplot2)\n",
    "library(tidyr)\n",
    "library(dplyr)\n",
    "library(eurostat)\n",
    "library(Matching)\n",
    "library(stats)"
   ]
  },
  {
   "cell_type": "code",
   "execution_count": null,
   "metadata": {},
   "outputs": [],
   "source": [
    "# create first graph\n",
    "## tourism destinations - nights spent at toursit accommondation establishments, 2018\n",
    "\n",
    "data <- get_eurostat(id=\"tour_occ_ninat\")\n",
    "nrow(data)\n",
    "\n",
    "# first check whether all countries needed and create countries vector\n",
    "countr <- c(\"ES\",\"IT\",\"FR\",\"EL\",\"AT\",\"DE\",\"HR\",\"PT\",\"NL\",\"CZ\",\"BE\",\"BG\",\"PL\",\"IE\",\"CY\",\"SE\",\"HU\",\"DK\",\"SI\",\n",
    "                         \"MT\",\"FI\",\"SK\",\"RO\",\"EE\",\"LV\",\"LT\",\"LU\",\"UK\",\"CH\",\"NO\",\"IS\",\"LI\",\"TR\",\"ME\",\"RS\",\"MK\",\"XK\")\n",
    "levels(data$geo)\n",
    "levels(data$c_resid)\n",
    "levels(data$nace_r2)"
   ]
  },
  {
   "cell_type": "code",
   "execution_count": null,
   "metadata": {},
   "outputs": [],
   "source": [
    "# for Ireland, Slovenia, United Kingdom, Switzerland, Norway, Iceland, Montenegro, Serbia and Kosovo we need 2018 monthly data\n",
    "data_month <- get_eurostat(id=\"tour_occ_nim\")\n",
    "nrow(data_month)\n",
    "\n",
    "data_month$year <- as.integer(substr(data_month$time,1,4))\n",
    "data_month$month <- as.integer(substr(data_month$time,6,7))\n",
    "\n",
    "countr2 <- c(\"IE\",\"SI\",\"UK\",\"CH\",\"NO\",\"IS\",\"ME\",\"RS\",\"XK\")\n",
    "\n",
    "data_mod <- subset(data_month, \n",
    "                    data_month$geo %in% countr2 & \n",
    "                    data_month$year==2018 &\n",
    "                    data_month$c_resid==\"FOR\" &\n",
    "                    data_month$nace_r2==\"I551-I553\"&\n",
    "                    data_month$unit==\"NR\")\n",
    "\n",
    "nrow(data_mod)\n",
    "levels(data_mod$geo)\n",
    "\n",
    "data_mod1 <- aggregate(data_mod$values, by = list(geo = data_mod$geo), FUN = sum)\n",
    "names(data_mod1)[2] <- \"values\""
   ]
  },
  {
   "cell_type": "code",
   "execution_count": null,
   "metadata": {
    "scrolled": true
   },
   "outputs": [],
   "source": [
    "# building needed subset for the other countries\n",
    "data$year <- as.integer(substr(data$time,1,4))\n",
    "head(data)\n",
    "\n",
    "data_mod2 <- subset(data, \n",
    "                    data$geo %in% countr & \n",
    "                    data$year==2018 &\n",
    "                    data$c_resid==\"FOR\" &\n",
    "                    data$nace_r2==\"I551-I553\"&\n",
    "                    data$unit==\"NR\")\n",
    "nrow(data_mod2)\n",
    "data_mod2 <- data_mod2[,c(4,6)]\n",
    "data_mod2"
   ]
  },
  {
   "cell_type": "code",
   "execution_count": null,
   "metadata": {},
   "outputs": [],
   "source": [
    "# for Turkey we need data from 2016\n",
    "countr3 <- c(\"TR\")\n",
    "\n",
    "data_mod3 <- subset(data, \n",
    "                    data$geo %in% countr3 & \n",
    "                    data$year==2016 &\n",
    "                    data$c_resid==\"FOR\" &\n",
    "                    data$nace_r2==\"I551-I553\"&\n",
    "                    data$unit==\"NR\")\n",
    "data_mod3 <- data_mod3[,c(4,6)]\n",
    "data_mod3  "
   ]
  },
  {
   "cell_type": "code",
   "execution_count": null,
   "metadata": {},
   "outputs": [],
   "source": [
    "#match data_mod1 and data_mod2 and data_mod3\n",
    "data_mod4 <- rbind(data_mod1,data_mod2,data_mod3)\n",
    "data_mod4"
   ]
  },
  {
   "cell_type": "code",
   "execution_count": null,
   "metadata": {},
   "outputs": [],
   "source": [
    "# bring the country names in the order the grpahik shows\n",
    "data_mod4$geo <- factor(data_mod4$geo,\n",
    "                        levels = c(\"ES\",\"IT\",\"FR\",\"EL\",\"AT\",\"DE\",\"HR\",\"PT\",\"NL\",\"CZ\",\"BE\",\"BG\",\"PL\",\"IE\",\"CY\",\"SE\",\"HU\",\n",
    "                                   \"DK\",\"SI\", \"MT\",\"FI\",\"SK\",\"RO\",\"EE\",\"LV\",\"LT\",\"LU\",\"UK\",\"CH\",\"NO\",\"IS\",\"LI\",\"TR\",\"ME\",\n",
    "                                   \"RS\",\"MK\",\"XK\"))\n",
    "data_mod4"
   ]
  },
  {
   "cell_type": "code",
   "execution_count": null,
   "metadata": {},
   "outputs": [],
   "source": [
    "options(scipen=999)\n",
    "ggplot(data_mod4, aes(x=geo,y=values)) +\n",
    "            geom_bar(stat = \"identity\", position=\"dodge\", width=0.5, fill=\"steelblue3\") +\n",
    "            theme_classic() +\n",
    "            scale_y_continuous(limits = c(0, 310000000), breaks = seq(0, 300000000, by = 50000000)) +\n",
    "            ggtitle(\"Tourism destinations - nights spent at tourist accomodation establishments, 2018\")"
   ]
  },
  {
   "cell_type": "code",
   "execution_count": null,
   "metadata": {},
   "outputs": [],
   "source": [
    "# create first table \n",
    "## tourist accomodation establishments, 2018\n",
    "\n",
    "# we need 3 datasets for each column"
   ]
  },
  {
   "cell_type": "code",
   "execution_count": null,
   "metadata": {},
   "outputs": [],
   "source": [
    "# column 1: number of establishments (units)\n",
    "data_1 <- get_eurostat(id=\"tour_cap_nat\")\n",
    "\n",
    "data_1$year <- as.integer(substr(data_1$time,1,4))\n",
    "\n",
    "# first check whether all countries needed and create countries vector\n",
    "countr_1 <- c(\"BE\",\"BG\",\"CZ\",\"DK\",\"DE\",\"EE\",\"IE\",\"EL\",\"ES\",\"FR\",\"HR\",\"IT\",\"CY\",\"LV\",\"LT\",\"LU\",\"HU\",\"MT\",\"NL\",\n",
    "                         \"AT\",\"PL\",\"PT\",\"RO\",\"SI\",\"SK\",\"FI\",\"SE\",\"UK\",\"IS\",\"LI\",\"NO\",\"CH\",\"ME\",\"MK\",\"RS\",\"TR\",\"XK\")\n",
    "\n",
    "levels(data_1$geo)\n",
    "levels(data_1$nace_r2)\n",
    "levels(data_1$unit)\n",
    "levels(data_1$accommod)\n",
    "\n",
    "data_tab1 <- subset(data_1, \n",
    "                    data_1$geo %in% countr_1 & \n",
    "                    data_1$year==2018 &\n",
    "                    data_1$nace_r2==\"I551-I553\"&\n",
    "                    data_1$unit==\"NR\"&\n",
    "                    data_1$accommod==\"ESTBL\")\n",
    "data_tab1 <- data_tab1[,c(4,6)]\n",
    "\n",
    "# for Ireland and United Kingdom we need data from 2016\n",
    "countr_1_1 <- c(\"IE\",\"UK\")\n",
    "data_tab1_1 <- subset(data_1, \n",
    "                      data_1$geo %in% countr_1_1 & \n",
    "                      data_1$year==2016 &\n",
    "                      data_1$nace_r2==\"I551-I553\"&\n",
    "                      data_1$unit==\"NR\"&\n",
    "                      data_1$accommod==\"ESTBL\")\n",
    "data_tab1_1 <- data_tab1_1[,c(4,6)]\n",
    "\n",
    "# for Luxembourg, Slovenia and Kosovo we need data from 2017\n",
    "countr_1_2 <- c(\"LU\",\"SI\",\"XK\")\n",
    "data_tab1_2 <- subset(data_1, \n",
    "                      data_1$geo %in% countr_1_2 & \n",
    "                      data_1$year==2017 &\n",
    "                      data_1$nace_r2==\"I551-I553\"&\n",
    "                      data_1$unit==\"NR\"&\n",
    "                      data_1$accommod==\"ESTBL\")\n",
    "data_tab1_2 <- data_tab1_2[,c(4,6)]\n",
    "\n",
    "#matching\n",
    "data_tab_col1 <- rbind(data_tab1,data_tab1_1,data_tab1_2)\n",
    "\n",
    "# bring the country names in the order the grpahik shows\n",
    "data_tab_col1 <- data_tab_col1[order(factor(data_tab_col1$geo, levels= countr_1)),]\n",
    "data_tab_col1"
   ]
  },
  {
   "cell_type": "code",
   "execution_count": null,
   "metadata": {},
   "outputs": [],
   "source": [
    "# column 2: number of bed places (thousands)\n",
    "data_tab2 <- subset(data_1, \n",
    "                    data_1$geo %in% countr_1 & \n",
    "                    data_1$year==2018 &\n",
    "                    data_1$nace_r2==\"I551-I553\"&\n",
    "                    data_1$unit==\"NR\"&\n",
    "                    data_1$accommod==\"BEDPL\")\n",
    "data_tab2 <- data_tab2[,c(4,6)]\n",
    "\n",
    "# for Ireland and United Kingdom we need data from 2016\n",
    "countr_2_1 <- c(\"IE\",\"UK\")\n",
    "data_tab2_1 <- subset(data_1, \n",
    "                      data_1$geo %in% countr_2_1 & \n",
    "                      data_1$year==2016 &\n",
    "                      data_1$nace_r2==\"I551-I553\"&\n",
    "                      data_1$unit==\"NR\"&\n",
    "                      data_1$accommod==\"BEDPL\")\n",
    "data_tab2_1 <- data_tab2_1[,c(4,6)]\n",
    "\n",
    "# for Luxembourg, Slovenia and Kosovo we need data from 2017\n",
    "countr_2_2 <- c(\"LU\",\"SI\",\"XK\")\n",
    "data_tab2_2 <- subset(data_1, \n",
    "                      data_1$geo %in% countr_1_2 & \n",
    "                      data_1$year==2017 &\n",
    "                      data_1$nace_r2==\"I551-I553\"&\n",
    "                      data_1$unit==\"NR\"&\n",
    "                      data_1$accommod==\"BEDPL\")\n",
    "data_tab2_2 <- data_tab2_2[,c(4,6)]\n",
    "\n",
    "#matching\n",
    "data_tab_col2 <- rbind(data_tab2,data_tab2_1,data_tab2_2)\n",
    "\n",
    "# bring the country names in the order the grpahik shows\n",
    "data_tab_col2 <- data_tab_col2[order(factor(data_tab_col2$geo, levels= countr_1)),]"
   ]
  },
  {
   "cell_type": "code",
   "execution_count": null,
   "metadata": {},
   "outputs": [],
   "source": [
    "# column 3: nights spent by residents and non-residents (millions)\n",
    "\n",
    "# we already load the data for the graph before\n",
    "data_tab3 <- subset(data, \n",
    "                    data$geo %in% countr_1 & \n",
    "                    data$year==2018 &\n",
    "                    data$c_resid==\"TOTAL\" &\n",
    "                    data$nace_r2==\"I551-I553\"&\n",
    "                    data$unit==\"NR\")\n",
    "\n",
    "data_tab3 <- data_tab3[,c(4,6)]\n",
    "\n",
    "# for Ireland, Slovenia, United Kingdom, Switzerland, Norway, Iceland, Montenegro, Serbia and Kosovo we need 2018 monthly data\n",
    "# we already load the data for the graph before\n",
    "countr_3_1 <- c(\"IE\",\"SI\",\"UK\",\"CH\",\"NO\",\"IS\",\"ME\",\"RS\",\"XK\")\n",
    "\n",
    "data_tab3_1 <- subset(data_month, \n",
    "                    data_month$geo %in% countr_3_1 & \n",
    "                    data_month$year==2018 &\n",
    "                    data_month$c_resid==\"TOTAL\" &\n",
    "                    data_month$nace_r2==\"I551-I553\"&\n",
    "                    data_month$unit==\"NR\")\n",
    "\n",
    "data_tab3_1 <- aggregate(data_tab3_1$values, by = list(geo = data_tab3_1$geo), FUN = sum)\n",
    "names(data_tab3_1)[2] <- \"values\"\n",
    "\n",
    "# for Turkey we need data from 2016\n",
    "countr_3_2 <- c(\"TR\")\n",
    "\n",
    "data_tab3_2 <- subset(data, \n",
    "                      data$geo %in% countr3 & \n",
    "                      data$year==2016 &\n",
    "                      data$c_resid==\"TOTAL\" &\n",
    "                      data$nace_r2==\"I551-I553\"&\n",
    "                      data$unit==\"NR\")\n",
    "data_tab3_2 <- data_tab3_2[,c(4,6)]\n",
    " \n",
    "\n",
    "#matching\n",
    "data_tab_col3 <- rbind(data_tab3,data_tab3_1,data_tab3_2)\n",
    "\n",
    "# bring the country names in the order the grpahik shows\n",
    "data_tab_col3 <- data_tab_col3[order(factor(data_tab_col3$geo, levels= countr_1)),]\n",
    "data_tab_col3\n"
   ]
  },
  {
   "cell_type": "code",
   "execution_count": null,
   "metadata": {},
   "outputs": [],
   "source": [
    "# create column with the names of the countries\n",
    "countr_names <- c(\"Belgium\",\"Bulgaria\",\"Czechia\",\"Denmark\",\"Germany\",\"Estonia\", \"Ireland\", \"Greece\", \"Spain\", \"France\", \n",
    "                  \"Croatia\", \"Italy\", \"Cyprus\", \"Latvia\", \"Lithuania\", \"Luxembourg\", \"Hungary\", \"Malta\", \"Netherlands\", \n",
    "                  \"Austria\", \"Poland\", \"Portugal\", \"Romania\", \"Slovenia\", \"Slovakia\", \"Finland\", \"Sweden\",\n",
    "                 \"United Kingdom\", \"Iceland\", \"Liechtenstein\", \"Norway\", \"Switzerland\", \"Montenegro\", \"North Macedonia\", \n",
    "                  \"Serbia\", \"Turkey\", \"Kosovo\")\n",
    "\n",
    "# matching all columns together\n",
    "table <- cbind(countr_names, data_tab_col1[,2], data_tab_col2[,2], data_tab_col3[,2])\n",
    "table"
   ]
  },
  {
   "cell_type": "code",
   "execution_count": 83,
   "metadata": {},
   "outputs": [
    {
     "data": {
      "image/png": "[encoded data removed]",
      "text/plain": [
       "plot without title"
      ]
     },
     "metadata": {},
     "output_type": "display_data"
    }
   ],
   "source": [
    "ggplot(data_mod4, aes(x=geo,y=values)) +\n",
    "            geom_bar(stat = \"identity\", position=\"dodge\", width=0.5, fill=\"steelblue3\") +\n",
    "            theme_classic() +\n",
    "            scale_y_continuous(limits = c(0, 310000000), breaks = seq(0, 300000000, by = 50000000)) +\n",
    "            ggtitle(\"Tourism destinations - nights spent at tourist accomodation establishments, 2018\") +\n",
    "            coord_flip() +\n",
    "            scale_x_discrete(limits = rev(levels(data_mod4$geo)),\n",
    "                             labels = c(\"Kosovo\", \"North Macedonia\", \"Serbia\", \"Montenegro\", \"Turkey\", \"Liechtenstein\", \n",
    "                                        \"Iceland\", \"Norway\", \"Switzerland\", \"United Kingdom\", \"Luxembourg\", \"Lithuania\", \n",
    "                                        \"Latvia\", \"Estonia\", \"Romania\", \"Slovakia\", \"Finland\", \"Malta\", \"Slovenia\", \n",
    "                                        \"Denmark\", \"Hungary\", \"Sweden\", \"Cyprus\", \"Ireland\", \"Poland\", \"Bulgaria\", \n",
    "                                        \"Belgium\", \"Czechia\", \"Netherlands\", \"Portugal\", \"Croatia\", \"Germany\", \"Austria\", \n",
    "                                        \"Greece\", \"France\", \"Italy\", \"Spain\"))"
   ]
  },
  {
   "cell_type": "code",
   "execution_count": null,
   "metadata": {},
   "outputs": [],
   "source": [
    "#to do\n",
    "#Lücken zwischen EU-Ländern und Nicht-EU-Ländern in Graphiken"
   ]
  }
 ],
 "metadata": {
  "kernelspec": {
   "display_name": "R",
   "language": "R",
   "name": "ir"
  },
  "language_info": {
   "codemirror_mode": "r",
   "file_extension": ".r",
   "mimetype": "text/x-r-source",
   "name": "R",
   "pygments_lexer": "r",
   "version": "3.6.1"
  }
 },
 "nbformat": 4,
 "nbformat_minor": 4
}
