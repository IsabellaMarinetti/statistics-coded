{
 "cells": [
  {
   "cell_type": "markdown",
   "metadata": {},
   "source": [
    "# Statistics coded: \n",
    "\n",
    "Objective of this notebook is illustrating the \"Statistics Explained\" article.\n",
    "Each step in the code is explained by commands over the cells.\n",
    "\n",
    "\"Statistics Explained\" in general: \n",
    "\"https://ec.europa.eu/eurostat/statistics-explained/index.php/Main_Page\"\n",
    "\n",
    "Article: \n",
    "#### Tourism Statistics \"https://ec.europa.eu/eurostat/statistics-explained/index.php?title=Tourism_statistics\"\n",
    "\n",
    "Prepared by:\n",
    "#### Sarah Hadj Hassen."
   ]
  },
  {
   "cell_type": "markdown",
   "metadata": {},
   "source": [
    "#### Start:\n",
    "If necessary install the following packages and load them afterwards."
   ]
  },
  {
   "cell_type": "code",
   "execution_count": null,
   "metadata": {},
   "outputs": [],
   "source": [
    "# install.packages(c(\"ggplot2\", \"plotly\", \"tidyr\", \"repr\", \"dplyr\", \"devtools\", \"restatapi\", \"eurostat\", \n",
    "#                    \"patchwork\", \"Matching\", \"ggforce\", \"h2o\", \"plyr\"))"
   ]
  },
  {
   "cell_type": "code",
   "execution_count": 2,
   "metadata": {},
   "outputs": [
    {
     "name": "stderr",
     "output_type": "stream",
     "text": [
      "Warning message:\n",
      "\"package 'ggplot2' was built under R version 3.6.3\"Warning message:\n",
      "\"package 'tidyr' was built under R version 3.6.3\"Warning message:\n",
      "\"package 'dplyr' was built under R version 3.6.3\"\n",
      "Attaching package: 'dplyr'\n",
      "\n",
      "The following objects are masked from 'package:stats':\n",
      "\n",
      "    filter, lag\n",
      "\n",
      "The following objects are masked from 'package:base':\n",
      "\n",
      "    intersect, setdiff, setequal, union\n",
      "\n",
      "Warning message:\n",
      "\"package 'eurostat' was built under R version 3.6.3\"Warning message:\n",
      "\"package 'Matching' was built under R version 3.6.3\"Loading required package: MASS\n",
      "\n",
      "Attaching package: 'MASS'\n",
      "\n",
      "The following object is masked from 'package:dplyr':\n",
      "\n",
      "    select\n",
      "\n",
      "## \n",
      "##  Matching (Version 4.9-7, Build Date: 2020-02-05)\n",
      "##  See http://sekhon.berkeley.edu/matching for additional documentation.\n",
      "##  Please cite software as:\n",
      "##   Jasjeet S. Sekhon. 2011. ``Multivariate and Propensity Score Matching\n",
      "##   Software with Automated Balance Optimization: The Matching package for R.''\n",
      "##   Journal of Statistical Software, 42(7): 1-52. \n",
      "##\n",
      "\n",
      "Warning message:\n",
      "\"package 'ggforce' was built under R version 3.6.3\"\n",
      "----------------------------------------------------------------------\n",
      "\n",
      "Your next step is to start H2O:\n",
      "    > h2o.init()\n",
      "\n",
      "For H2O package documentation, ask for help:\n",
      "    > ??h2o\n",
      "\n",
      "After starting H2O, you can use the Web UI at http://localhost:54321\n",
      "For more information visit https://docs.h2o.ai\n",
      "\n",
      "----------------------------------------------------------------------\n",
      "\n",
      "\n",
      "Attaching package: 'h2o'\n",
      "\n",
      "The following objects are masked from 'package:stats':\n",
      "\n",
      "    cor, sd, var\n",
      "\n",
      "The following objects are masked from 'package:base':\n",
      "\n",
      "    %*%, %in%, &&, ||, apply, as.factor, as.numeric, colnames,\n",
      "    colnames<-, ifelse, is.character, is.factor, is.numeric, log,\n",
      "    log10, log1p, log2, round, signif, trunc\n",
      "\n",
      "------------------------------------------------------------------------------\n",
      "You have loaded plyr after dplyr - this is likely to cause problems.\n",
      "If you need functions from both plyr and dplyr, please load plyr first, then dplyr:\n",
      "library(plyr); library(dplyr)\n",
      "------------------------------------------------------------------------------\n",
      "\n",
      "Attaching package: 'plyr'\n",
      "\n",
      "The following objects are masked from 'package:dplyr':\n",
      "\n",
      "    arrange, count, desc, failwith, id, mutate, rename, summarise,\n",
      "    summarize\n",
      "\n"
     ]
    }
   ],
   "source": [
    "library(ggplot2)\n",
    "library(tidyr)\n",
    "library(dplyr)\n",
    "library(eurostat)\n",
    "library(Matching)\n",
    "library(stats)\n",
    "library(base)\n",
    "library(ggforce)\n",
    "library(h2o)\n",
    "library(plyr)"
   ]
  },
  {
   "cell_type": "markdown",
   "metadata": {},
   "source": [
    "## Tourism destinations - nights spent at tourist accomodation establishments, 2018\n",
    "\n",
    "### Create graph in abstract\n",
    "\n",
    "#### First step:\n",
    "- load the needed data: `data`\n",
    "- we just need the data for 2018, therefore we add a column, which indicates only the year - we will do this for each subsequent datset\n",
    "- create a vector with all needed countries: `countr`"
   ]
  },
  {
   "cell_type": "code",
   "execution_count": 3,
   "metadata": {},
   "outputs": [
    {
     "name": "stderr",
     "output_type": "stream",
     "text": [
      "Table tour_occ_ninat cached at C:\\Users\\sarah\\AppData\\Local\\Temp\\Rtmp0oFI1n/eurostat/tour_occ_ninat_date_code_TF.rds\n"
     ]
    }
   ],
   "source": [
    "data <- get_eurostat(id=\"tour_occ_ninat\") \n",
    "\n",
    "data$year <- as.integer(substr(data$time,1,4))\n",
    "\n",
    "countr <- c(\"ES\",\"IT\",\"FR\",\"EL\",\"AT\",\"DE\",\"HR\",\"PT\",\"NL\",\"CZ\",\"BE\",\"BG\",\"PL\",\"IE\",\"CY\",\"SE\",\"HU\",\"DK\",\"SI\",\n",
    "            \"MT\",\"FI\",\"SK\",\"RO\",\"EE\",\"LV\",\"LT\",\"LU\",\"UK\",\"CH\",\"NO\",\"IS\",\"LI\",\"TR\",\"ME\",\"RS\",\"MK\",\"XK\")"
   ]
  },
  {
   "cell_type": "markdown",
   "metadata": {},
   "source": [
    "For Ireland, Slovenia, United Kingdom, Switzerland, Norway, Iceland, Montenegro, Serbia and Kosovo we need 2018 monthly data.\n",
    "- therefore we need another dataset and have to load it: `data_month`\n",
    "- add a column, which indicates only the year and one with the month\n",
    "- create a vector, which includes only the countries mentioned above: `countr_fig0`"
   ]
  },
  {
   "cell_type": "code",
   "execution_count": 4,
   "metadata": {},
   "outputs": [
    {
     "name": "stderr",
     "output_type": "stream",
     "text": [
      "Table tour_occ_nim cached at C:\\Users\\sarah\\AppData\\Local\\Temp\\Rtmp0oFI1n/eurostat/tour_occ_nim_date_code_TF.rds\n"
     ]
    }
   ],
   "source": [
    "data_month <- get_eurostat(id=\"tour_occ_nim\")\n",
    "\n",
    "data_month$year <- as.integer(substr(data_month$time,1,4))\n",
    "data_month$month <- as.integer(substr(data_month$time,6,7))\n",
    "\n",
    "countr_fig0 <- c(\"IE\",\"SI\",\"UK\",\"CH\",\"NO\",\"IS\",\"ME\",\"RS\",\"XK\")"
   ]
  },
  {
   "cell_type": "markdown",
   "metadata": {},
   "source": [
    "- build the subset, which we need for the graph: `data_mod`\n",
    "- because we have monthly data - but need yearly data - we have to aggregate the data per country\n",
    "- name the second column "
   ]
  },
  {
   "cell_type": "code",
   "execution_count": 5,
   "metadata": {},
   "outputs": [],
   "source": [
    "data_mod <- subset(data_month, \n",
    "                    data_month$geo %in% countr_fig0 & #include just the countries of the vector above\n",
    "                    data_month$year==2018 & #only values for 2018\n",
    "                    data_month$c_resid==\"FOR\" & #just non-residents\n",
    "                    data_month$nace_r2==\"I551-I553\"& #the classification we need\n",
    "                    data_month$unit==\"NR\") #we need the unit \"number\"\n",
    "\n",
    "data_mod <- aggregate(data_mod$values, by = list(geo = data_mod$geo), FUN = sum)\n",
    "\n",
    "names(data_mod)[2] <- \"values\""
   ]
  },
  {
   "cell_type": "markdown",
   "metadata": {},
   "source": [
    "Build needed subset for the other countries (same like above with the dataset `data`): `data_mod2`\n",
    "- we only need column 4 and 6 for the following analysis"
   ]
  },
  {
   "cell_type": "code",
   "execution_count": 6,
   "metadata": {
    "scrolled": true
   },
   "outputs": [],
   "source": [
    "data_mod2 <- subset(data, \n",
    "                    data$geo %in% countr & \n",
    "                    data$year==2018 &\n",
    "                    data$c_resid==\"FOR\" &\n",
    "                    data$nace_r2==\"I551-I553\"&\n",
    "                    data$unit==\"NR\")\n",
    "\n",
    "data_mod2 <- data_mod2[,c(4,6)]"
   ]
  },
  {
   "cell_type": "markdown",
   "metadata": {},
   "source": [
    "For Turkey (`countr_fig0_1`) we need data from 2016. Build subset `data_mod3`"
   ]
  },
  {
   "cell_type": "code",
   "execution_count": 7,
   "metadata": {},
   "outputs": [],
   "source": [
    "countr_fig0_1 <- c(\"TR\")\n",
    "\n",
    "data_mod3 <- subset(data, \n",
    "                    data$geo %in% countr_fig0_1 & \n",
    "                    data$year==2016 & \n",
    "                    data$c_resid==\"FOR\" &\n",
    "                    data$nace_r2==\"I551-I553\"&\n",
    "                    data$unit==\"NR\")\n",
    "\n",
    "data_mod3 <- data_mod3[,c(4,6)] "
   ]
  },
  {
   "cell_type": "markdown",
   "metadata": {},
   "source": [
    "#### Second step:\n",
    "Match `data_mod1` and `data_mod2` and `data_mod3`\n",
    "- i.e. use rbind to stick the data frames together - we get the final dataset for the graph: `data_mod4`\n",
    "\n",
    "Bring the country names in the order the graphik shows: you can do this due to modify the levels of the variable \"geo\""
   ]
  },
  {
   "cell_type": "code",
   "execution_count": 8,
   "metadata": {},
   "outputs": [],
   "source": [
    "data_mod4 <- rbind(data_mod,data_mod2,data_mod3)"
   ]
  },
  {
   "cell_type": "code",
   "execution_count": 9,
   "metadata": {},
   "outputs": [
    {
     "data": {
      "text/html": [
       "<table>\n",
       "<caption>A data.frame: 6 × 2</caption>\n",
       "<thead>\n",
       "\t<tr><th></th><th scope=col>geo</th><th scope=col>values</th></tr>\n",
       "\t<tr><th></th><th scope=col>&lt;fct&gt;</th><th scope=col>&lt;dbl&gt;</th></tr>\n",
       "</thead>\n",
       "<tbody>\n",
       "\t<tr><th scope=row>1</th><td>NO</td><td> 10138183</td></tr>\n",
       "\t<tr><th scope=row>2</th><td>CH</td><td> 26720046</td></tr>\n",
       "\t<tr><th scope=row>3</th><td>IS</td><td>  7446807</td></tr>\n",
       "\t<tr><th scope=row>4</th><td>RS</td><td>  3656787</td></tr>\n",
       "\t<tr><th scope=row>5</th><td>SI</td><td> 11159025</td></tr>\n",
       "\t<tr><th scope=row>6</th><td>UK</td><td>140385998</td></tr>\n",
       "</tbody>\n",
       "</table>\n"
      ],
      "text/latex": [
       "A data.frame: 6 × 2\n",
       "\\begin{tabular}{r|ll}\n",
       "  & geo & values\\\\\n",
       "  & <fct> & <dbl>\\\\\n",
       "\\hline\n",
       "\t1 & NO &  10138183\\\\\n",
       "\t2 & CH &  26720046\\\\\n",
       "\t3 & IS &   7446807\\\\\n",
       "\t4 & RS &   3656787\\\\\n",
       "\t5 & SI &  11159025\\\\\n",
       "\t6 & UK & 140385998\\\\\n",
       "\\end{tabular}\n"
      ],
      "text/markdown": [
       "\n",
       "A data.frame: 6 × 2\n",
       "\n",
       "| <!--/--> | geo &lt;fct&gt; | values &lt;dbl&gt; |\n",
       "|---|---|---|\n",
       "| 1 | NO |  10138183 |\n",
       "| 2 | CH |  26720046 |\n",
       "| 3 | IS |   7446807 |\n",
       "| 4 | RS |   3656787 |\n",
       "| 5 | SI |  11159025 |\n",
       "| 6 | UK | 140385998 |\n",
       "\n"
      ],
      "text/plain": [
       "  geo values   \n",
       "1 NO   10138183\n",
       "2 CH   26720046\n",
       "3 IS    7446807\n",
       "4 RS    3656787\n",
       "5 SI   11159025\n",
       "6 UK  140385998"
      ]
     },
     "metadata": {},
     "output_type": "display_data"
    }
   ],
   "source": [
    "data_mod4$geo <- factor(data_mod4$geo,\n",
    "                        levels = c(\"ES\",\"IT\",\"FR\",\"EL\",\"AT\",\"DE\",\"HR\",\"PT\",\"NL\",\"CZ\",\"BE\",\"BG\",\"PL\",\"IE\",\"CY\",\"SE\",\"HU\",\n",
    "                                   \"DK\",\"SI\", \"MT\",\"FI\",\"SK\",\"RO\",\"EE\",\"LV\",\"LT\",\"LU\",\"UK\",\"CH\",\"NO\",\"IS\",\"LI\",\"TR\",\"ME\",\n",
    "                                   \"RS\",\"MK\",\"XK\"))\n",
    "\n",
    "head(data_mod4)"
   ]
  },
  {
   "cell_type": "markdown",
   "metadata": {},
   "source": [
    "#### Third step:\n",
    "Finally use the modified dataset `data_mod4` and build the graph by using ggplot."
   ]
  },
  {
   "cell_type": "code",
   "execution_count": 10,
   "metadata": {},
   "outputs": [
    {
     "data": {
      "image/png": "[encoded data removed]",
      "text/plain": [
       "plot without title"
      ]
     },
     "metadata": {},
     "output_type": "display_data"
    }
   ],
   "source": [
    "options(scipen=999) #prevent scientific notation\n",
    "label_axes1 <- seq(0, 300, by = 50) #we need this later to label the axes\n",
    "\n",
    "ggplot(data_mod4, #needed dataset\n",
    "       aes(x=geo,y=values)) + #the axes you want\n",
    "            geom_bar(stat = \"identity\", position=\"dodge\", width=0.5, fill=\"steelblue3\") + #for creating a bar chart\n",
    "            theme_classic() +\n",
    "            scale_y_continuous(limits = c(0, 310000000), breaks = seq(0, 300000000, by = 50000000), #limit the axes\n",
    "                              labels=label_axes1) + #label the axes\n",
    "            ggtitle(\"Tourism destinations - nights spent at tourist accomodation establishments, 2018\") +\n",
    "            ylab(\"(million nights spent in the country by non-residents\") + #name the axes\n",
    "            xlab(\" \")"
   ]
  },
  {
   "cell_type": "markdown",
   "metadata": {},
   "source": [
    "## Bed places in the EU-27: Italy and France predominate\n",
    "\n",
    "\n",
    "### Create table 1\n",
    "\n",
    "We need 3 datasets - one for each column.\n",
    "- create a countries vector - the countries are already in the same order the table shows: `countr_0`"
   ]
  },
  {
   "cell_type": "code",
   "execution_count": 58,
   "metadata": {},
   "outputs": [],
   "source": [
    "countr_0 <- c(\"BE\",\"BG\",\"CZ\",\"DK\",\"DE\",\"EE\",\"IE\",\"EL\",\"ES\",\"FR\",\"HR\",\"IT\",\"CY\",\"LV\",\"LT\",\"LU\",\"HU\",\"MT\",\"NL\",\n",
    "              \"AT\",\"PL\",\"PT\",\"RO\",\"SI\",\"SK\",\"FI\",\"SE\",\"UK\",\"IS\",\"LI\",\"NO\",\"CH\",\"ME\",\"MK\",\"RS\",\"TR\",\"XK\")"
   ]
  },
  {
   "cell_type": "markdown",
   "metadata": {},
   "source": [
    "#### First step:\n",
    "column 1: number of establishments (units)\n",
    "- load the needed data and add the year-column: `data_1`\n",
    "- exclude the countries from the country-vector, which need data from 2016 and 2017: `countr_tab1`"
   ]
  },
  {
   "cell_type": "code",
   "execution_count": 12,
   "metadata": {},
   "outputs": [
    {
     "name": "stderr",
     "output_type": "stream",
     "text": [
      "Table tour_cap_nat cached at C:\\Users\\sarah\\AppData\\Local\\Temp\\Rtmp0oFI1n/eurostat/tour_cap_nat_date_code_TF.rds\n"
     ]
    }
   ],
   "source": [
    "data_1 <- get_eurostat(id=\"tour_cap_nat\")\n",
    "data_1$year <- as.integer(substr(data_1$time,1,4))\n",
    "\n",
    "countr_tab1 <- c(\"BE\",\"BG\",\"CZ\",\"DK\",\"DE\",\"EE\",\"EL\",\"ES\",\"FR\",\"HR\",\"IT\",\"CY\",\"LV\",\"LT\",\"HU\",\"MT\",\"NL\",\n",
    "              \"AT\",\"PL\",\"PT\",\"RO\",\"SK\",\"FI\",\"SE\",\"IS\",\"LI\",\"NO\",\"CH\",\"ME\",\"MK\",\"RS\")"
   ]
  },
  {
   "cell_type": "markdown",
   "metadata": {},
   "source": [
    "Build the subset we need for the first column of the table and choose column 4 and 6 again: `data_tab1`"
   ]
  },
  {
   "cell_type": "code",
   "execution_count": 13,
   "metadata": {},
   "outputs": [],
   "source": [
    "data_tab1 <- subset(data_1, \n",
    "                    data_1$geo %in% countr_tab1 & \n",
    "                    data_1$year==2018 &\n",
    "                    data_1$nace_r2==\"I551-I553\"&\n",
    "                    data_1$unit==\"NR\"&\n",
    "                    data_1$accommod==\"ESTBL\")\n",
    "data_tab1 <- data_tab1[,c(4,6)]"
   ]
  },
  {
   "cell_type": "markdown",
   "metadata": {},
   "source": [
    "For Ireland and United Kingdom (`countr_tab1_1`) we need data from 2016. Build the subset: `data_tab1_1`"
   ]
  },
  {
   "cell_type": "code",
   "execution_count": 14,
   "metadata": {},
   "outputs": [],
   "source": [
    "countr_tab1_1 <- c(\"IE\",\"UK\")\n",
    "data_tab1_1 <- subset(data_1, \n",
    "                      data_1$geo %in% countr_tab1_1 & \n",
    "                      data_1$year==2016 &\n",
    "                      data_1$nace_r2==\"I551-I553\"&\n",
    "                      data_1$unit==\"NR\"&\n",
    "                      data_1$accommod==\"ESTBL\")\n",
    "data_tab1_1 <- data_tab1_1[,c(4,6)]"
   ]
  },
  {
   "cell_type": "markdown",
   "metadata": {},
   "source": [
    "For Luxembourg, Slovenia and Kosovo (`countr_tab1_2`) we need data from 2017. Build the subset: `data_tab1_2`"
   ]
  },
  {
   "cell_type": "code",
   "execution_count": 15,
   "metadata": {},
   "outputs": [],
   "source": [
    "countr_tab1_2 <- c(\"LU\",\"SI\",\"XK\")\n",
    "data_tab1_2 <- subset(data_1, \n",
    "                      data_1$geo %in% countr_tab1_2 & \n",
    "                      data_1$year==2017 &\n",
    "                      data_1$nace_r2==\"I551-I553\"&\n",
    "                      data_1$unit==\"NR\"&\n",
    "                      data_1$accommod==\"ESTBL\")\n",
    "data_tab1_2 <- data_tab1_2[,c(4,6)]"
   ]
  },
  {
   "cell_type": "markdown",
   "metadata": {},
   "source": [
    "For Turkey we have NA. Assign to `data_tab1_3`"
   ]
  },
  {
   "cell_type": "code",
   "execution_count": 16,
   "metadata": {},
   "outputs": [],
   "source": [
    "data_tab1_3 <- data.frame( geo = \"TR\", values=  NA)"
   ]
  },
  {
   "cell_type": "markdown",
   "metadata": {},
   "source": [
    "Match the three calculated datasets to `data_tab_col1` and bring the country names in the order the grpahik shows"
   ]
  },
  {
   "cell_type": "code",
   "execution_count": 17,
   "metadata": {},
   "outputs": [
    {
     "data": {
      "text/html": [
       "<table>\n",
       "<caption>A tibble: 6 × 2</caption>\n",
       "<thead>\n",
       "\t<tr><th scope=col>geo</th><th scope=col>values</th></tr>\n",
       "\t<tr><th scope=col>&lt;fct&gt;</th><th scope=col>&lt;dbl&gt;</th></tr>\n",
       "</thead>\n",
       "<tbody>\n",
       "\t<tr><td>BE</td><td> 9211</td></tr>\n",
       "\t<tr><td>BG</td><td> 3458</td></tr>\n",
       "\t<tr><td>CZ</td><td> 9426</td></tr>\n",
       "\t<tr><td>DK</td><td> 1167</td></tr>\n",
       "\t<tr><td>DE</td><td>50020</td></tr>\n",
       "\t<tr><td>EE</td><td> 1535</td></tr>\n",
       "</tbody>\n",
       "</table>\n"
      ],
      "text/latex": [
       "A tibble: 6 × 2\n",
       "\\begin{tabular}{ll}\n",
       " geo & values\\\\\n",
       " <fct> & <dbl>\\\\\n",
       "\\hline\n",
       "\t BE &  9211\\\\\n",
       "\t BG &  3458\\\\\n",
       "\t CZ &  9426\\\\\n",
       "\t DK &  1167\\\\\n",
       "\t DE & 50020\\\\\n",
       "\t EE &  1535\\\\\n",
       "\\end{tabular}\n"
      ],
      "text/markdown": [
       "\n",
       "A tibble: 6 × 2\n",
       "\n",
       "| geo &lt;fct&gt; | values &lt;dbl&gt; |\n",
       "|---|---|\n",
       "| BE |  9211 |\n",
       "| BG |  3458 |\n",
       "| CZ |  9426 |\n",
       "| DK |  1167 |\n",
       "| DE | 50020 |\n",
       "| EE |  1535 |\n",
       "\n"
      ],
      "text/plain": [
       "  geo values\n",
       "1 BE   9211 \n",
       "2 BG   3458 \n",
       "3 CZ   9426 \n",
       "4 DK   1167 \n",
       "5 DE  50020 \n",
       "6 EE   1535 "
      ]
     },
     "metadata": {},
     "output_type": "display_data"
    }
   ],
   "source": [
    "data_tab_col1 <- rbind(data_tab1,data_tab1_1,data_tab1_2,data_tab1_3)\n",
    "\n",
    "data_tab_col1 <- data_tab_col1[order(factor(data_tab_col1$geo, levels= countr_0)),]\n",
    "\n",
    "head(data_tab_col1)"
   ]
  },
  {
   "cell_type": "markdown",
   "metadata": {},
   "source": [
    "#### Second step:\n",
    "\n",
    "column 2: number of bed places (thousands)\n",
    "- exclude the countries, which need data from 2016 and 2017: `countr_tab2`\n",
    "- build the subset and choose again column 4 and 6: `data_tab2`"
   ]
  },
  {
   "cell_type": "code",
   "execution_count": 18,
   "metadata": {},
   "outputs": [],
   "source": [
    "countr_tab2 <- c(\"BE\",\"BG\",\"CZ\",\"DK\",\"DE\",\"EE\",\"EL\",\"ES\",\"FR\",\"HR\",\"IT\",\"CY\",\"LV\",\"LT\",\"HU\",\"MT\",\"NL\",\n",
    "              \"AT\",\"PL\",\"PT\",\"RO\",\"SK\",\"FI\",\"SE\",\"IS\",\"LI\",\"NO\",\"CH\",\"ME\",\"MK\",\"RS\",\"TR\")\n",
    "data_tab2 <- subset(data_1, \n",
    "                    data_1$geo %in% countr_tab2 & \n",
    "                    data_1$year==2018 &\n",
    "                    data_1$nace_r2==\"I551-I553\"&\n",
    "                    data_1$unit==\"NR\"&\n",
    "                    data_1$accommod==\"BEDPL\")\n",
    "data_tab2 <- data_tab2[,c(4,6)]"
   ]
  },
  {
   "cell_type": "markdown",
   "metadata": {},
   "source": [
    "For Ireland and United Kingdom (`countr_tab2_1`) we need data from 2016. Build the subset: `data_tab2_1`"
   ]
  },
  {
   "cell_type": "code",
   "execution_count": 19,
   "metadata": {},
   "outputs": [],
   "source": [
    "countr_tab2_1 <- c(\"IE\",\"UK\")\n",
    "data_tab2_1 <- subset(data_1, \n",
    "                      data_1$geo %in% countr_tab2_1 & \n",
    "                      data_1$year==2016 &\n",
    "                      data_1$nace_r2==\"I551-I553\"&\n",
    "                      data_1$unit==\"NR\"&\n",
    "                      data_1$accommod==\"BEDPL\")\n",
    "data_tab2_1 <- data_tab2_1[,c(4,6)]"
   ]
  },
  {
   "cell_type": "markdown",
   "metadata": {},
   "source": [
    "For Luxembourg, Slovenia and Kosovo (`countr_tab2_2`) we need data from 2017. Build the subset: `data_tab2_2`"
   ]
  },
  {
   "cell_type": "code",
   "execution_count": 20,
   "metadata": {},
   "outputs": [],
   "source": [
    "countr_tab2_2 <- c(\"LU\",\"SI\",\"XK\")\n",
    "data_tab2_2 <- subset(data_1, \n",
    "                      data_1$geo %in% countr_tab2_2 & \n",
    "                      data_1$year==2017 &\n",
    "                      data_1$nace_r2==\"I551-I553\"&\n",
    "                      data_1$unit==\"NR\"&\n",
    "                      data_1$accommod==\"BEDPL\")\n",
    "data_tab2_2 <- data_tab2_2[,c(4,6)]"
   ]
  },
  {
   "cell_type": "markdown",
   "metadata": {},
   "source": [
    "For Turkey we have NA. Assign to `data_tab2_3`"
   ]
  },
  {
   "cell_type": "code",
   "execution_count": 21,
   "metadata": {},
   "outputs": [],
   "source": [
    "data_tab2_3 <- data.frame( geo = \"TR\", values=  NA)"
   ]
  },
  {
   "cell_type": "markdown",
   "metadata": {},
   "source": [
    "Match the three calculated datasets to `data_tab_col2` and bring the country names in the order the graph shows"
   ]
  },
  {
   "cell_type": "code",
   "execution_count": 22,
   "metadata": {},
   "outputs": [
    {
     "data": {
      "text/html": [
       "<table>\n",
       "<caption>A tibble: 6 × 2</caption>\n",
       "<thead>\n",
       "\t<tr><th scope=col>geo</th><th scope=col>values</th></tr>\n",
       "\t<tr><th scope=col>&lt;fct&gt;</th><th scope=col>&lt;dbl&gt;</th></tr>\n",
       "</thead>\n",
       "<tbody>\n",
       "\t<tr><td>BE</td><td> 389826</td></tr>\n",
       "\t<tr><td>BG</td><td> 335597</td></tr>\n",
       "\t<tr><td>CZ</td><td> 741235</td></tr>\n",
       "\t<tr><td>DK</td><td> 426075</td></tr>\n",
       "\t<tr><td>DE</td><td>3473630</td></tr>\n",
       "\t<tr><td>EE</td><td>  61193</td></tr>\n",
       "</tbody>\n",
       "</table>\n"
      ],
      "text/latex": [
       "A tibble: 6 × 2\n",
       "\\begin{tabular}{ll}\n",
       " geo & values\\\\\n",
       " <fct> & <dbl>\\\\\n",
       "\\hline\n",
       "\t BE &  389826\\\\\n",
       "\t BG &  335597\\\\\n",
       "\t CZ &  741235\\\\\n",
       "\t DK &  426075\\\\\n",
       "\t DE & 3473630\\\\\n",
       "\t EE &   61193\\\\\n",
       "\\end{tabular}\n"
      ],
      "text/markdown": [
       "\n",
       "A tibble: 6 × 2\n",
       "\n",
       "| geo &lt;fct&gt; | values &lt;dbl&gt; |\n",
       "|---|---|\n",
       "| BE |  389826 |\n",
       "| BG |  335597 |\n",
       "| CZ |  741235 |\n",
       "| DK |  426075 |\n",
       "| DE | 3473630 |\n",
       "| EE |   61193 |\n",
       "\n"
      ],
      "text/plain": [
       "  geo values \n",
       "1 BE   389826\n",
       "2 BG   335597\n",
       "3 CZ   741235\n",
       "4 DK   426075\n",
       "5 DE  3473630\n",
       "6 EE    61193"
      ]
     },
     "metadata": {},
     "output_type": "display_data"
    }
   ],
   "source": [
    "data_tab_col2 <- rbind(data_tab2,data_tab2_1,data_tab2_2,data_tab2_3)\n",
    "\n",
    "data_tab_col2 <- data_tab_col2[order(factor(data_tab_col2$geo, levels= countr_0)),]\n",
    "\n",
    "head(data_tab_col2)"
   ]
  },
  {
   "cell_type": "markdown",
   "metadata": {},
   "source": [
    "#### Third step:\n",
    "column 3: nights spent by residents and non-residents (millions)\n",
    "- exclude the countries, which need monthly data and data from 2016: `countr_tab3`\n",
    "- we already load the data (`data`) for a graph before. Build the subset: `data_tab3`"
   ]
  },
  {
   "cell_type": "code",
   "execution_count": 23,
   "metadata": {},
   "outputs": [],
   "source": [
    "countr_tab3 <- c(\"BE\",\"BG\",\"CZ\",\"DK\",\"DE\",\"EE\",\"EL\",\"ES\",\"FR\",\"HR\",\"IT\",\"CY\",\"LV\",\"LT\",\"LU\",\"HU\",\"MT\",\"NL\",\n",
    "                 \"AT\",\"PL\",\"PT\",\"RO\",\"SK\",\"FI\",\"SE\",\"LI\",\"MK\",\"TR\")\n",
    "\n",
    "data_tab3 <- subset(data, \n",
    "                    data$geo %in% countr_tab3 & \n",
    "                    data$year==2018 &\n",
    "                    data$c_resid==\"TOTAL\" &\n",
    "                    data$nace_r2==\"I551-I553\"&\n",
    "                    data$unit==\"NR\")\n",
    "data_tab3 <- data_tab3[,c(4,6)]"
   ]
  },
  {
   "cell_type": "markdown",
   "metadata": {},
   "source": [
    "For Ireland, Slovenia, United Kingdom, Switzerland, Norway, Iceland, Montenegro, Serbia and Kosovo (`countr_tab3_1`) we need 2018 monthly data\n",
    "- we already load the data (`data_month`) for a graph before. Build the subset: `data_tab3_1`\n",
    "- because we have monthly data - but need yearly data - we have to aggregate the data per country\n",
    "- name the second column "
   ]
  },
  {
   "cell_type": "code",
   "execution_count": 24,
   "metadata": {},
   "outputs": [],
   "source": [
    "countr_tab3_1 <- c(\"IE\",\"SI\",\"UK\",\"CH\",\"NO\",\"IS\",\"ME\",\"RS\",\"XK\")\n",
    "\n",
    "data_tab3_1 <- subset(data_month, \n",
    "                    data_month$geo %in% countr_tab3_1 & \n",
    "                    data_month$year==2018 &\n",
    "                    data_month$c_resid==\"TOTAL\" &\n",
    "                    data_month$nace_r2==\"I551-I553\"&\n",
    "                    data_month$unit==\"NR\")\n",
    "data_tab3_1 <- aggregate(data_tab3_1$values, by = list(geo = data_tab3_1$geo), FUN = sum)\n",
    "names(data_tab3_1)[2] <- \"values\""
   ]
  },
  {
   "cell_type": "markdown",
   "metadata": {},
   "source": [
    "For Turkey (`countr_tab3_2`) we need data from 2016. Build the subset: `data_tab3_2`"
   ]
  },
  {
   "cell_type": "code",
   "execution_count": 25,
   "metadata": {},
   "outputs": [],
   "source": [
    "countr_tab3_2 <- c(\"TR\")\n",
    "\n",
    "data_tab3_2 <- subset(data, \n",
    "                      data$geo %in% countr_tab3_2 & \n",
    "                      data$year==2016 &\n",
    "                      data$c_resid==\"TOTAL\" &\n",
    "                      data$nace_r2==\"I551-I553\"&\n",
    "                      data$unit==\"NR\")\n",
    "data_tab3_2 <- data_tab3_2[,c(4,6)]"
   ]
  },
  {
   "cell_type": "markdown",
   "metadata": {},
   "source": [
    "Match the three calculated datasets to `data_tab_col3` and bring the country names in the order the grpahik shows"
   ]
  },
  {
   "cell_type": "code",
   "execution_count": 49,
   "metadata": {},
   "outputs": [
    {
     "data": {
      "text/html": [
       "<table>\n",
       "<caption>A tibble: 6 × 2</caption>\n",
       "<thead>\n",
       "\t<tr><th scope=col>geo</th><th scope=col>values</th></tr>\n",
       "\t<tr><th scope=col>&lt;fct&gt;</th><th scope=col>&lt;dbl&gt;</th></tr>\n",
       "</thead>\n",
       "<tbody>\n",
       "\t<tr><td>BE</td><td> 41320284</td></tr>\n",
       "\t<tr><td>BG</td><td> 26845013</td></tr>\n",
       "\t<tr><td>CZ</td><td> 55513922</td></tr>\n",
       "\t<tr><td>DK</td><td> 33280395</td></tr>\n",
       "\t<tr><td>DE</td><td>419556284</td></tr>\n",
       "\t<tr><td>EE</td><td>  6630315</td></tr>\n",
       "</tbody>\n",
       "</table>\n"
      ],
      "text/latex": [
       "A tibble: 6 × 2\n",
       "\\begin{tabular}{ll}\n",
       " geo & values\\\\\n",
       " <fct> & <dbl>\\\\\n",
       "\\hline\n",
       "\t BE &  41320284\\\\\n",
       "\t BG &  26845013\\\\\n",
       "\t CZ &  55513922\\\\\n",
       "\t DK &  33280395\\\\\n",
       "\t DE & 419556284\\\\\n",
       "\t EE &   6630315\\\\\n",
       "\\end{tabular}\n"
      ],
      "text/markdown": [
       "\n",
       "A tibble: 6 × 2\n",
       "\n",
       "| geo &lt;fct&gt; | values &lt;dbl&gt; |\n",
       "|---|---|\n",
       "| BE |  41320284 |\n",
       "| BG |  26845013 |\n",
       "| CZ |  55513922 |\n",
       "| DK |  33280395 |\n",
       "| DE | 419556284 |\n",
       "| EE |   6630315 |\n",
       "\n"
      ],
      "text/plain": [
       "  geo values   \n",
       "1 BE   41320284\n",
       "2 BG   26845013\n",
       "3 CZ   55513922\n",
       "4 DK   33280395\n",
       "5 DE  419556284\n",
       "6 EE    6630315"
      ]
     },
     "metadata": {},
     "output_type": "display_data"
    }
   ],
   "source": [
    "data_tab_col3 <- rbind(data_tab3,data_tab3_1,data_tab3_2)\n",
    "\n",
    "data_tab_col3 <- data_tab_col3[order(factor(data_tab_col3$geo, levels= countr_0)),]\n",
    "\n",
    "head(data_tab_col3)"
   ]
  },
  {
   "cell_type": "markdown",
   "metadata": {},
   "source": [
    "#### Forth step:\n",
    "- create a column with the names of the countries: `countr_names`\n",
    "- match all columns together to create the data for the final table: `table`"
   ]
  },
  {
   "cell_type": "code",
   "execution_count": 27,
   "metadata": {},
   "outputs": [
    {
     "data": {
      "text/html": [
       "<table>\n",
       "<caption>A data.frame: 6 × 4</caption>\n",
       "<thead>\n",
       "\t<tr><th></th><th scope=col>countr_names</th><th scope=col>values</th><th scope=col>values</th><th scope=col>values</th></tr>\n",
       "\t<tr><th></th><th scope=col>&lt;fct&gt;</th><th scope=col>&lt;dbl&gt;</th><th scope=col>&lt;dbl&gt;</th><th scope=col>&lt;dbl&gt;</th></tr>\n",
       "</thead>\n",
       "<tbody>\n",
       "\t<tr><th scope=row>1</th><td>Belgium </td><td> 9211</td><td> 389826</td><td> 41320284</td></tr>\n",
       "\t<tr><th scope=row>2</th><td>Bulgaria</td><td> 3458</td><td> 335597</td><td> 26845013</td></tr>\n",
       "\t<tr><th scope=row>3</th><td>Czechia </td><td> 9426</td><td> 741235</td><td> 55513922</td></tr>\n",
       "\t<tr><th scope=row>4</th><td>Denmark </td><td> 1167</td><td> 426075</td><td> 33280395</td></tr>\n",
       "\t<tr><th scope=row>5</th><td>Germany </td><td>50020</td><td>3473630</td><td>419556284</td></tr>\n",
       "\t<tr><th scope=row>6</th><td>Estonia </td><td> 1535</td><td>  61193</td><td>  6630315</td></tr>\n",
       "</tbody>\n",
       "</table>\n"
      ],
      "text/latex": [
       "A data.frame: 6 × 4\n",
       "\\begin{tabular}{r|llll}\n",
       "  & countr\\_names & values & values & values\\\\\n",
       "  & <fct> & <dbl> & <dbl> & <dbl>\\\\\n",
       "\\hline\n",
       "\t1 & Belgium  &  9211 &  389826 &  41320284\\\\\n",
       "\t2 & Bulgaria &  3458 &  335597 &  26845013\\\\\n",
       "\t3 & Czechia  &  9426 &  741235 &  55513922\\\\\n",
       "\t4 & Denmark  &  1167 &  426075 &  33280395\\\\\n",
       "\t5 & Germany  & 50020 & 3473630 & 419556284\\\\\n",
       "\t6 & Estonia  &  1535 &   61193 &   6630315\\\\\n",
       "\\end{tabular}\n"
      ],
      "text/markdown": [
       "\n",
       "A data.frame: 6 × 4\n",
       "\n",
       "| <!--/--> | countr_names &lt;fct&gt; | values &lt;dbl&gt; | values &lt;dbl&gt; | values &lt;dbl&gt; |\n",
       "|---|---|---|---|---|\n",
       "| 1 | Belgium  |  9211 |  389826 |  41320284 |\n",
       "| 2 | Bulgaria |  3458 |  335597 |  26845013 |\n",
       "| 3 | Czechia  |  9426 |  741235 |  55513922 |\n",
       "| 4 | Denmark  |  1167 |  426075 |  33280395 |\n",
       "| 5 | Germany  | 50020 | 3473630 | 419556284 |\n",
       "| 6 | Estonia  |  1535 |   61193 |   6630315 |\n",
       "\n"
      ],
      "text/plain": [
       "  countr_names values values  values   \n",
       "1 Belgium       9211   389826  41320284\n",
       "2 Bulgaria      3458   335597  26845013\n",
       "3 Czechia       9426   741235  55513922\n",
       "4 Denmark       1167   426075  33280395\n",
       "5 Germany      50020  3473630 419556284\n",
       "6 Estonia       1535    61193   6630315"
      ]
     },
     "metadata": {},
     "output_type": "display_data"
    }
   ],
   "source": [
    "countr_names <- c(\"Belgium\",\"Bulgaria\",\"Czechia\",\"Denmark\",\"Germany\",\"Estonia\", \"Ireland\", \"Greece\", \"Spain\", \"France\", \n",
    "                  \"Croatia\", \"Italy\", \"Cyprus\", \"Latvia\", \"Lithuania\", \"Luxembourg\", \"Hungary\", \"Malta\", \"Netherlands\", \n",
    "                  \"Austria\", \"Poland\", \"Portugal\", \"Romania\", \"Slovenia\", \"Slovakia\", \"Finland\", \"Sweden\",\n",
    "                 \"United Kingdom\", \"Iceland\", \"Liechtenstein\", \"Norway\", \"Switzerland\", \"Montenegro\", \"North Macedonia\", \n",
    "                  \"Serbia\", \"Turkey\", \"Kosovo\")\n",
    "\n",
    "table <- cbind(countr_names, data_tab_col1[,2], data_tab_col2[,2], data_tab_col3[,2])\n",
    "\n",
    "head(table)"
   ]
  },
  {
   "cell_type": "markdown",
   "metadata": {},
   "source": [
    "#### Fifth step:\n",
    "Calculate the EU-27 value by summing up\n",
    "- first we create the vector with the 27 countries, we will use this vector in other graphics, too: `EU_27`"
   ]
  },
  {
   "cell_type": "code",
   "execution_count": 28,
   "metadata": {},
   "outputs": [],
   "source": [
    "EU_27 <- c(\"AT\",\"BE\", \"BG\",\"HR\",\"CY\", \"CZ\",\"DK\", \"DE\", \"EE\",\"FI\",\"FR\",\"EL\",\"HU\",\"IE\",\n",
    "           \"IT\",\"LV\",\"LT\",\"LU\",\"MT\",\"NL\",\"PL\",\"PT\",\"RO\",\"SK\",\"SI\",\"ES\",\"SE\")"
   ]
  },
  {
   "cell_type": "markdown",
   "metadata": {},
   "source": [
    "- We need the `table` from above (the three columns) with shortcuts instead of full names to exclude the not-EU countries: `tab_prep`\n",
    "    - do this by using the `EU_27` vector\n",
    "    - therefore we add the `countr_0` vector, which we create in the first step\n",
    "- then create a vector, which indicates due to FALSE and TRUE at the exact position, which countries of `countr_0` are within EU_27: `EU_27_prep`\n",
    "- by using the sapply-command we can calculate the sum for each column of the table `table`"
   ]
  },
  {
   "cell_type": "code",
   "execution_count": 151,
   "metadata": {},
   "outputs": [],
   "source": [
    "tab_prep <- cbind(countr_0,data_tab_col1[,2], data_tab_col2[,2], data_tab_col3[,2])\n",
    "\n",
    "EU_27_prep <- tab_prep$countr_0 %in% EU_27\n",
    "\n",
    "tab_EU <- c(\"EU-27\",sapply(table[EU_27_prep,2:4],sum))                "
   ]
  },
  {
   "cell_type": "markdown",
   "metadata": {},
   "source": [
    "- put the summarized values to the calculated `table` from above: `table_final`\n",
    "    - at this stage we get the warning message, that one NA for \"EU-27\" get generated: we solve this problem two steps later\n",
    "- give the columns the correct names\n",
    "- we have to convert the class, because we have to add \"EU-27\" and this only works by converting it from a factor first, then doing the change and re-convert it back\n",
    "- we want to modify the numbers: second column in thousands and third columns in millions"
   ]
  },
  {
   "cell_type": "code",
   "execution_count": 156,
   "metadata": {},
   "outputs": [
    {
     "name": "stderr",
     "output_type": "stream",
     "text": [
      "Warning message in `[<-.factor`(`*tmp*`, ri, value = \"EU-27\"):\n",
      "\"invalid factor level, NA generated\""
     ]
    },
    {
     "data": {
      "text/html": [
       "<table>\n",
       "<caption>A matrix: 38 × 4 of type chr</caption>\n",
       "<thead>\n",
       "\t<tr><th scope=col></th><th scope=col>Number of establishments (units)</th><th scope=col>Number of bed places (thousands)</th><th scope=col>Nights spent by residents and non-residents (millions)</th></tr>\n",
       "</thead>\n",
       "<tbody>\n",
       "\t<tr><td>EU-27          </td><td>600157</td><td>28294</td><td>2791.2</td></tr>\n",
       "\t<tr><td>Belgium        </td><td>9211  </td><td>  390</td><td>  41.3</td></tr>\n",
       "\t<tr><td>Bulgaria       </td><td>3458  </td><td>  336</td><td>  26.8</td></tr>\n",
       "\t<tr><td>Czechia        </td><td>9426  </td><td>  741</td><td>  55.5</td></tr>\n",
       "\t<tr><td>Denmark        </td><td>1167  </td><td>  426</td><td>  33.3</td></tr>\n",
       "\t<tr><td>Germany        </td><td>50020 </td><td> 3474</td><td> 419.6</td></tr>\n",
       "\t<tr><td>Estonia        </td><td>1535  </td><td>   61</td><td>   6.6</td></tr>\n",
       "\t<tr><td>Ireland        </td><td>3145  </td><td>  200</td><td>  33.4</td></tr>\n",
       "\t<tr><td>Greece         </td><td>38180 </td><td> 1340</td><td> 123.1</td></tr>\n",
       "\t<tr><td>Spain          </td><td>51418 </td><td> 3600</td><td> 466.9</td></tr>\n",
       "\t<tr><td>France         </td><td>29652 </td><td> 5112</td><td> 442.8</td></tr>\n",
       "\t<tr><td>Croatia        </td><td>108212</td><td> 1116</td><td>  89.6</td></tr>\n",
       "\t<tr><td>Italy          </td><td>216141</td><td> 5113</td><td> 428.8</td></tr>\n",
       "\t<tr><td>Cyprus         </td><td>802   </td><td>   87</td><td>  17.2</td></tr>\n",
       "\t<tr><td>Latvia         </td><td>1145  </td><td>   54</td><td>   5.4</td></tr>\n",
       "\t<tr><td>Lithuania      </td><td>3616  </td><td>   90</td><td>   8.1</td></tr>\n",
       "\t<tr><td>Luxembourg     </td><td>425   </td><td>   64</td><td>   2.9</td></tr>\n",
       "\t<tr><td>Hungary        </td><td>4587  </td><td>  419</td><td>  32.8</td></tr>\n",
       "\t<tr><td>Malta          </td><td>211   </td><td>   45</td><td>  10.1</td></tr>\n",
       "\t<tr><td>Netherlands    </td><td>9145  </td><td> 1398</td><td> 116.1</td></tr>\n",
       "\t<tr><td>Austria        </td><td>21494 </td><td> 1046</td><td> 125.2</td></tr>\n",
       "\t<tr><td>Poland         </td><td>11076 </td><td>  799</td><td>  88.9</td></tr>\n",
       "\t<tr><td>Portugal       </td><td>5964  </td><td>  649</td><td>  74.4</td></tr>\n",
       "\t<tr><td>Romania        </td><td>7720  </td><td>  349</td><td>  28.5</td></tr>\n",
       "\t<tr><td>Slovenia       </td><td>3699  </td><td>  117</td><td>  15.7</td></tr>\n",
       "\t<tr><td>Slovakia       </td><td>3087  </td><td>  191</td><td>  15.2</td></tr>\n",
       "\t<tr><td>Finland        </td><td>1372  </td><td>  260</td><td>  22.2</td></tr>\n",
       "\t<tr><td>Sweden         </td><td>4249  </td><td>  819</td><td>  60.9</td></tr>\n",
       "\t<tr><td>United Kingdom </td><td>84580 </td><td> 3944</td><td> 354.4</td></tr>\n",
       "\t<tr><td>Iceland        </td><td>1120  </td><td>   47</td><td>   8.6</td></tr>\n",
       "\t<tr><td>Liechtenstein  </td><td>96    </td><td>    2</td><td>   0.2</td></tr>\n",
       "\t<tr><td>Norway         </td><td>2351  </td><td>  588</td><td>  33.8</td></tr>\n",
       "\t<tr><td>Switzerland    </td><td>39057 </td><td>  665</td><td>  55.3</td></tr>\n",
       "\t<tr><td>Montenegro     </td><td>382   </td><td>   43</td><td>   4.2</td></tr>\n",
       "\t<tr><td>North Macedonia</td><td>494   </td><td>   48</td><td>   2.2</td></tr>\n",
       "\t<tr><td>Serbia         </td><td>3651  </td><td>  109</td><td>   9.3</td></tr>\n",
       "\t<tr><td>Turkey         </td><td>NA    </td><td>NA   </td><td> 112.5</td></tr>\n",
       "\t<tr><td>Kosovo         </td><td>217   </td><td>    8</td><td>   0.3</td></tr>\n",
       "</tbody>\n",
       "</table>\n"
      ],
      "text/latex": [
       "A matrix: 38 × 4 of type chr\n",
       "\\begin{tabular}{llll}\n",
       "  & Number of establishments (units) & Number of bed places (thousands) & Nights spent by residents and non-residents (millions)\\\\\n",
       "\\hline\n",
       "\t EU-27           & 600157 & 28294 & 2791.2\\\\\n",
       "\t Belgium         & 9211   &   390 &   41.3\\\\\n",
       "\t Bulgaria        & 3458   &   336 &   26.8\\\\\n",
       "\t Czechia         & 9426   &   741 &   55.5\\\\\n",
       "\t Denmark         & 1167   &   426 &   33.3\\\\\n",
       "\t Germany         & 50020  &  3474 &  419.6\\\\\n",
       "\t Estonia         & 1535   &    61 &    6.6\\\\\n",
       "\t Ireland         & 3145   &   200 &   33.4\\\\\n",
       "\t Greece          & 38180  &  1340 &  123.1\\\\\n",
       "\t Spain           & 51418  &  3600 &  466.9\\\\\n",
       "\t France          & 29652  &  5112 &  442.8\\\\\n",
       "\t Croatia         & 108212 &  1116 &   89.6\\\\\n",
       "\t Italy           & 216141 &  5113 &  428.8\\\\\n",
       "\t Cyprus          & 802    &    87 &   17.2\\\\\n",
       "\t Latvia          & 1145   &    54 &    5.4\\\\\n",
       "\t Lithuania       & 3616   &    90 &    8.1\\\\\n",
       "\t Luxembourg      & 425    &    64 &    2.9\\\\\n",
       "\t Hungary         & 4587   &   419 &   32.8\\\\\n",
       "\t Malta           & 211    &    45 &   10.1\\\\\n",
       "\t Netherlands     & 9145   &  1398 &  116.1\\\\\n",
       "\t Austria         & 21494  &  1046 &  125.2\\\\\n",
       "\t Poland          & 11076  &   799 &   88.9\\\\\n",
       "\t Portugal        & 5964   &   649 &   74.4\\\\\n",
       "\t Romania         & 7720   &   349 &   28.5\\\\\n",
       "\t Slovenia        & 3699   &   117 &   15.7\\\\\n",
       "\t Slovakia        & 3087   &   191 &   15.2\\\\\n",
       "\t Finland         & 1372   &   260 &   22.2\\\\\n",
       "\t Sweden          & 4249   &   819 &   60.9\\\\\n",
       "\t United Kingdom  & 84580  &  3944 &  354.4\\\\\n",
       "\t Iceland         & 1120   &    47 &    8.6\\\\\n",
       "\t Liechtenstein   & 96     &     2 &    0.2\\\\\n",
       "\t Norway          & 2351   &   588 &   33.8\\\\\n",
       "\t Switzerland     & 39057  &   665 &   55.3\\\\\n",
       "\t Montenegro      & 382    &    43 &    4.2\\\\\n",
       "\t North Macedonia & 494    &    48 &    2.2\\\\\n",
       "\t Serbia          & 3651   &   109 &    9.3\\\\\n",
       "\t Turkey          & NA     & NA    &  112.5\\\\\n",
       "\t Kosovo          & 217    &     8 &    0.3\\\\\n",
       "\\end{tabular}\n"
      ],
      "text/markdown": [
       "\n",
       "A matrix: 38 × 4 of type chr\n",
       "\n",
       "| <!----> | Number of establishments (units) | Number of bed places (thousands) | Nights spent by residents and non-residents (millions) |\n",
       "|---|---|---|---|\n",
       "| EU-27           | 600157 | 28294 | 2791.2 |\n",
       "| Belgium         | 9211   |   390 |   41.3 |\n",
       "| Bulgaria        | 3458   |   336 |   26.8 |\n",
       "| Czechia         | 9426   |   741 |   55.5 |\n",
       "| Denmark         | 1167   |   426 |   33.3 |\n",
       "| Germany         | 50020  |  3474 |  419.6 |\n",
       "| Estonia         | 1535   |    61 |    6.6 |\n",
       "| Ireland         | 3145   |   200 |   33.4 |\n",
       "| Greece          | 38180  |  1340 |  123.1 |\n",
       "| Spain           | 51418  |  3600 |  466.9 |\n",
       "| France          | 29652  |  5112 |  442.8 |\n",
       "| Croatia         | 108212 |  1116 |   89.6 |\n",
       "| Italy           | 216141 |  5113 |  428.8 |\n",
       "| Cyprus          | 802    |    87 |   17.2 |\n",
       "| Latvia          | 1145   |    54 |    5.4 |\n",
       "| Lithuania       | 3616   |    90 |    8.1 |\n",
       "| Luxembourg      | 425    |    64 |    2.9 |\n",
       "| Hungary         | 4587   |   419 |   32.8 |\n",
       "| Malta           | 211    |    45 |   10.1 |\n",
       "| Netherlands     | 9145   |  1398 |  116.1 |\n",
       "| Austria         | 21494  |  1046 |  125.2 |\n",
       "| Poland          | 11076  |   799 |   88.9 |\n",
       "| Portugal        | 5964   |   649 |   74.4 |\n",
       "| Romania         | 7720   |   349 |   28.5 |\n",
       "| Slovenia        | 3699   |   117 |   15.7 |\n",
       "| Slovakia        | 3087   |   191 |   15.2 |\n",
       "| Finland         | 1372   |   260 |   22.2 |\n",
       "| Sweden          | 4249   |   819 |   60.9 |\n",
       "| United Kingdom  | 84580  |  3944 |  354.4 |\n",
       "| Iceland         | 1120   |    47 |    8.6 |\n",
       "| Liechtenstein   | 96     |     2 |    0.2 |\n",
       "| Norway          | 2351   |   588 |   33.8 |\n",
       "| Switzerland     | 39057  |   665 |   55.3 |\n",
       "| Montenegro      | 382    |    43 |    4.2 |\n",
       "| North Macedonia | 494    |    48 |    2.2 |\n",
       "| Serbia          | 3651   |   109 |    9.3 |\n",
       "| Turkey          | NA     | NA    |  112.5 |\n",
       "| Kosovo          | 217    |     8 |    0.3 |\n",
       "\n"
      ],
      "text/plain": [
       "                      Number of establishments (units)\n",
       " [1,] EU-27           600157                          \n",
       " [2,] Belgium         9211                            \n",
       " [3,] Bulgaria        3458                            \n",
       " [4,] Czechia         9426                            \n",
       " [5,] Denmark         1167                            \n",
       " [6,] Germany         50020                           \n",
       " [7,] Estonia         1535                            \n",
       " [8,] Ireland         3145                            \n",
       " [9,] Greece          38180                           \n",
       "[10,] Spain           51418                           \n",
       "[11,] France          29652                           \n",
       "[12,] Croatia         108212                          \n",
       "[13,] Italy           216141                          \n",
       "[14,] Cyprus          802                             \n",
       "[15,] Latvia          1145                            \n",
       "[16,] Lithuania       3616                            \n",
       "[17,] Luxembourg      425                             \n",
       "[18,] Hungary         4587                            \n",
       "[19,] Malta           211                             \n",
       "[20,] Netherlands     9145                            \n",
       "[21,] Austria         21494                           \n",
       "[22,] Poland          11076                           \n",
       "[23,] Portugal        5964                            \n",
       "[24,] Romania         7720                            \n",
       "[25,] Slovenia        3699                            \n",
       "[26,] Slovakia        3087                            \n",
       "[27,] Finland         1372                            \n",
       "[28,] Sweden          4249                            \n",
       "[29,] United Kingdom  84580                           \n",
       "[30,] Iceland         1120                            \n",
       "[31,] Liechtenstein   96                              \n",
       "[32,] Norway          2351                            \n",
       "[33,] Switzerland     39057                           \n",
       "[34,] Montenegro      382                             \n",
       "[35,] North Macedonia 494                             \n",
       "[36,] Serbia          3651                            \n",
       "[37,] Turkey          NA                              \n",
       "[38,] Kosovo          217                             \n",
       "      Number of bed places (thousands)\n",
       " [1,] 28294                           \n",
       " [2,]   390                           \n",
       " [3,]   336                           \n",
       " [4,]   741                           \n",
       " [5,]   426                           \n",
       " [6,]  3474                           \n",
       " [7,]    61                           \n",
       " [8,]   200                           \n",
       " [9,]  1340                           \n",
       "[10,]  3600                           \n",
       "[11,]  5112                           \n",
       "[12,]  1116                           \n",
       "[13,]  5113                           \n",
       "[14,]    87                           \n",
       "[15,]    54                           \n",
       "[16,]    90                           \n",
       "[17,]    64                           \n",
       "[18,]   419                           \n",
       "[19,]    45                           \n",
       "[20,]  1398                           \n",
       "[21,]  1046                           \n",
       "[22,]   799                           \n",
       "[23,]   649                           \n",
       "[24,]   349                           \n",
       "[25,]   117                           \n",
       "[26,]   191                           \n",
       "[27,]   260                           \n",
       "[28,]   819                           \n",
       "[29,]  3944                           \n",
       "[30,]    47                           \n",
       "[31,]     2                           \n",
       "[32,]   588                           \n",
       "[33,]   665                           \n",
       "[34,]    43                           \n",
       "[35,]    48                           \n",
       "[36,]   109                           \n",
       "[37,] NA                              \n",
       "[38,]     8                           \n",
       "      Nights spent by residents and non-residents (millions)\n",
       " [1,] 2791.2                                                \n",
       " [2,]   41.3                                                \n",
       " [3,]   26.8                                                \n",
       " [4,]   55.5                                                \n",
       " [5,]   33.3                                                \n",
       " [6,]  419.6                                                \n",
       " [7,]    6.6                                                \n",
       " [8,]   33.4                                                \n",
       " [9,]  123.1                                                \n",
       "[10,]  466.9                                                \n",
       "[11,]  442.8                                                \n",
       "[12,]   89.6                                                \n",
       "[13,]  428.8                                                \n",
       "[14,]   17.2                                                \n",
       "[15,]    5.4                                                \n",
       "[16,]    8.1                                                \n",
       "[17,]    2.9                                                \n",
       "[18,]   32.8                                                \n",
       "[19,]   10.1                                                \n",
       "[20,]  116.1                                                \n",
       "[21,]  125.2                                                \n",
       "[22,]   88.9                                                \n",
       "[23,]   74.4                                                \n",
       "[24,]   28.5                                                \n",
       "[25,]   15.7                                                \n",
       "[26,]   15.2                                                \n",
       "[27,]   22.2                                                \n",
       "[28,]   60.9                                                \n",
       "[29,]  354.4                                                \n",
       "[30,]    8.6                                                \n",
       "[31,]    0.2                                                \n",
       "[32,]   33.8                                                \n",
       "[33,]   55.3                                                \n",
       "[34,]    4.2                                                \n",
       "[35,]    2.2                                                \n",
       "[36,]    9.3                                                \n",
       "[37,]  112.5                                                \n",
       "[38,]    0.3                                                "
      ]
     },
     "metadata": {},
     "output_type": "display_data"
    }
   ],
   "source": [
    "table_final <- rbind(tab_EU,table)\n",
    "\n",
    "names(table_final) <- c(\"\", \"Number of establishments (units)\", \"Number of bed places (thousands)\",\n",
    "                       \"Nights spent by residents and non-residents (millions)\")\n",
    "\n",
    "table_final[,1] <- as.character(table_final[,1])\n",
    "table_final[1,1] <- \"EU-27\"\n",
    "table_final[,1] <- factor(table_final[,1])\n",
    "\n",
    "table_final[,3] <- round(as.numeric(table_final[,3])/ 1000,0)\n",
    "table_final[,4] <- round(as.numeric(table_final[,4])/ 1000000,1)\n",
    "\n",
    "as.matrix(table_final)"
   ]
  },
  {
   "cell_type": "markdown",
   "metadata": {},
   "source": [
    "## Nights spent by non-residents in the EU-27: Spain on top\n",
    "\n",
    "### create figure 1\n",
    "\n",
    "#### First step:\n",
    "- choose the countries from the EU 2020 and build the country vector like we did above: `EU_27`\n",
    "- we already load the data (`data`) for the first graph we create"
   ]
  },
  {
   "cell_type": "code",
   "execution_count": 32,
   "metadata": {},
   "outputs": [],
   "source": [
    "EU_27 <- c(\"AT\",\"BE\", \"BG\",\"HR\",\"CY\", \"CZ\",\"DK\", \"DE\", \"EE\",\"FI\",\"FR\",\"EL\",\"HU\",\"IE\",\n",
    "           \"IT\",\"LV\",\"LT\",\"LU\",\"MT\",\"NL\",\"PL\",\"PT\",\"RO\",\"SK\",\"SI\",\"ES\",\"SE\")"
   ]
  },
  {
   "cell_type": "markdown",
   "metadata": {},
   "source": [
    "Build a loop for getting the data for the three lines\n",
    "- we have to create a vector with the essential difference between the three columns: `night`\n",
    "- create an empty data frame, which we can fill while running the loop: `data_fig1_final`\n",
    "- when we look at the data `data`, we see that there are some years without datapoints, therefore we can omit them\n",
    "- for every year we have data from the 27 EU-countries - we just need one aggregate value for every year\n",
    "- assign the calculated data `data_fig1` in each intermediate step to the empty data frame"
   ]
  },
  {
   "cell_type": "code",
   "execution_count": 149,
   "metadata": {},
   "outputs": [
    {
     "data": {
      "text/html": [
       "<table>\n",
       "<caption>A data.frame: 6 × 4</caption>\n",
       "<thead>\n",
       "\t<tr><th></th><th scope=col>FOR.year</th><th scope=col>FOR.x</th><th scope=col>NAT.x</th><th scope=col>TOTAL.x</th></tr>\n",
       "\t<tr><th></th><th scope=col>&lt;int&gt;</th><th scope=col>&lt;dbl&gt;</th><th scope=col>&lt;dbl&gt;</th><th scope=col>&lt;dbl&gt;</th></tr>\n",
       "</thead>\n",
       "<tbody>\n",
       "\t<tr><th scope=row>1</th><td>2005</td><td>861934580</td><td>1143692910</td><td>2005627490</td></tr>\n",
       "\t<tr><th scope=row>2</th><td>2006</td><td>897421835</td><td>1178407554</td><td>2075829389</td></tr>\n",
       "\t<tr><th scope=row>3</th><td>2007</td><td>923129509</td><td>1167029322</td><td>2090158831</td></tr>\n",
       "\t<tr><th scope=row>4</th><td>2008</td><td>917291027</td><td>1168537632</td><td>2085828659</td></tr>\n",
       "\t<tr><th scope=row>5</th><td>2009</td><td>865984766</td><td>1161870294</td><td>2027855060</td></tr>\n",
       "\t<tr><th scope=row>6</th><td>2010</td><td>921187045</td><td>1240792245</td><td>2161979290</td></tr>\n",
       "</tbody>\n",
       "</table>\n"
      ],
      "text/latex": [
       "A data.frame: 6 × 4\n",
       "\\begin{tabular}{r|llll}\n",
       "  & FOR.year & FOR.x & NAT.x & TOTAL.x\\\\\n",
       "  & <int> & <dbl> & <dbl> & <dbl>\\\\\n",
       "\\hline\n",
       "\t1 & 2005 & 861934580 & 1143692910 & 2005627490\\\\\n",
       "\t2 & 2006 & 897421835 & 1178407554 & 2075829389\\\\\n",
       "\t3 & 2007 & 923129509 & 1167029322 & 2090158831\\\\\n",
       "\t4 & 2008 & 917291027 & 1168537632 & 2085828659\\\\\n",
       "\t5 & 2009 & 865984766 & 1161870294 & 2027855060\\\\\n",
       "\t6 & 2010 & 921187045 & 1240792245 & 2161979290\\\\\n",
       "\\end{tabular}\n"
      ],
      "text/markdown": [
       "\n",
       "A data.frame: 6 × 4\n",
       "\n",
       "| <!--/--> | FOR.year &lt;int&gt; | FOR.x &lt;dbl&gt; | NAT.x &lt;dbl&gt; | TOTAL.x &lt;dbl&gt; |\n",
       "|---|---|---|---|---|\n",
       "| 1 | 2005 | 861934580 | 1143692910 | 2005627490 |\n",
       "| 2 | 2006 | 897421835 | 1178407554 | 2075829389 |\n",
       "| 3 | 2007 | 923129509 | 1167029322 | 2090158831 |\n",
       "| 4 | 2008 | 917291027 | 1168537632 | 2085828659 |\n",
       "| 5 | 2009 | 865984766 | 1161870294 | 2027855060 |\n",
       "| 6 | 2010 | 921187045 | 1240792245 | 2161979290 |\n",
       "\n"
      ],
      "text/plain": [
       "  FOR.year FOR.x     NAT.x      TOTAL.x   \n",
       "1 2005     861934580 1143692910 2005627490\n",
       "2 2006     897421835 1178407554 2075829389\n",
       "3 2007     923129509 1167029322 2090158831\n",
       "4 2008     917291027 1168537632 2085828659\n",
       "5 2009     865984766 1161870294 2027855060\n",
       "6 2010     921187045 1240792245 2161979290"
      ]
     },
     "metadata": {},
     "output_type": "display_data"
    }
   ],
   "source": [
    "night <- c(\"FOR\",\"NAT\",\"TOTAL\")\n",
    "\n",
    "data_fig1_final <- list(year = c(2018,2017,2016,2015,2014,2013,2012,2011,2010,2009,2008,2007,2006,2005),\n",
    "                                 FOR = matrix(ncol=2, nrow=14),\n",
    "                                 NAT = matrix(ncol=2, nrow=14),\n",
    "                                TOTAL = matrix(ncol=2, nrow=14))\n",
    "# build the loop\n",
    "for (i in 1:3) {\n",
    "\n",
    "data_fig1 <- subset(data, \n",
    "                    data$geo %in% EU_27 & \n",
    "                    data$year %in% c(2005,2006, 2007, 2008,2009,2010,2011,2012, 2013,2014,2015,2016,2017,2018) &\n",
    "                    data$c_resid== night[i] & #here we have the essential difference between the columns we create\n",
    "                    data$unit==\"NR\" &\n",
    "                    data$nace_r2==\"I551-I553\") \n",
    "\n",
    "data_fig1 <- aggregate(data_fig1$values, by = list(year = data_fig1$year), FUN = sum) \n",
    "    \n",
    "# print(data_fig1) #if you want to see the intermediate steps\n",
    "\n",
    "data_fig1_final[[i+1]] <- data_fig1 \n",
    "    \n",
    " }\n",
    "\n",
    "data_fig1_final <- as.data.frame(data_fig1_final)\n",
    "data_fig1_final <- data_fig1_final[,c(2,3,5,7)] #attention! the first year-column is wrongly in an decreasing order!\n",
    "data_fig1_final <- data_fig1_final[order(data_fig1_final[,1]),]\n",
    "head(data_fig1_final)"
   ]
  },
  {
   "cell_type": "markdown",
   "metadata": {},
   "source": [
    "#### Second step:\n",
    "Now we have to calculate the changes from year to year \n",
    "- index: 2005=100: `index`\n",
    "- create an empty data frame, which we can fill while running the loop: `data_fig1_final_perc`\n",
    "- we take the values for 2005 as reference value. Each value from the subsequent years should be devided by the reference value from 2005. We have to multiply the result by 100 to achieve, that we start in 2005 with the value 100."
   ]
  },
  {
   "cell_type": "code",
   "execution_count": 215,
   "metadata": {},
   "outputs": [
    {
     "data": {
      "text/html": [
       "<table>\n",
       "<caption>A data.frame: 6 × 4</caption>\n",
       "<thead>\n",
       "\t<tr><th></th><th scope=col>V1</th><th scope=col>V2</th><th scope=col>V3</th><th scope=col>V4</th></tr>\n",
       "\t<tr><th></th><th scope=col>&lt;dbl&gt;</th><th scope=col>&lt;dbl&gt;</th><th scope=col>&lt;dbl&gt;</th><th scope=col>&lt;dbl&gt;</th></tr>\n",
       "</thead>\n",
       "<tbody>\n",
       "\t<tr><th scope=row>1</th><td>2005</td><td>100.0000</td><td>100.0000</td><td>100.0000</td></tr>\n",
       "\t<tr><th scope=row>2</th><td>2006</td><td>104.1172</td><td>103.0353</td><td>103.5002</td></tr>\n",
       "\t<tr><th scope=row>3</th><td>2007</td><td>107.0997</td><td>102.0404</td><td>104.2147</td></tr>\n",
       "\t<tr><th scope=row>4</th><td>2008</td><td>106.4223</td><td>102.1723</td><td>103.9988</td></tr>\n",
       "\t<tr><th scope=row>5</th><td>2009</td><td>100.4699</td><td>101.5894</td><td>101.1083</td></tr>\n",
       "\t<tr><th scope=row>6</th><td>2010</td><td>106.8744</td><td>108.4900</td><td>107.7957</td></tr>\n",
       "</tbody>\n",
       "</table>\n"
      ],
      "text/latex": [
       "A data.frame: 6 × 4\n",
       "\\begin{tabular}{r|llll}\n",
       "  & V1 & V2 & V3 & V4\\\\\n",
       "  & <dbl> & <dbl> & <dbl> & <dbl>\\\\\n",
       "\\hline\n",
       "\t1 & 2005 & 100.0000 & 100.0000 & 100.0000\\\\\n",
       "\t2 & 2006 & 104.1172 & 103.0353 & 103.5002\\\\\n",
       "\t3 & 2007 & 107.0997 & 102.0404 & 104.2147\\\\\n",
       "\t4 & 2008 & 106.4223 & 102.1723 & 103.9988\\\\\n",
       "\t5 & 2009 & 100.4699 & 101.5894 & 101.1083\\\\\n",
       "\t6 & 2010 & 106.8744 & 108.4900 & 107.7957\\\\\n",
       "\\end{tabular}\n"
      ],
      "text/markdown": [
       "\n",
       "A data.frame: 6 × 4\n",
       "\n",
       "| <!--/--> | V1 &lt;dbl&gt; | V2 &lt;dbl&gt; | V3 &lt;dbl&gt; | V4 &lt;dbl&gt; |\n",
       "|---|---|---|---|---|\n",
       "| 1 | 2005 | 100.0000 | 100.0000 | 100.0000 |\n",
       "| 2 | 2006 | 104.1172 | 103.0353 | 103.5002 |\n",
       "| 3 | 2007 | 107.0997 | 102.0404 | 104.2147 |\n",
       "| 4 | 2008 | 106.4223 | 102.1723 | 103.9988 |\n",
       "| 5 | 2009 | 100.4699 | 101.5894 | 101.1083 |\n",
       "| 6 | 2010 | 106.8744 | 108.4900 | 107.7957 |\n",
       "\n"
      ],
      "text/plain": [
       "  V1   V2       V3       V4      \n",
       "1 2005 100.0000 100.0000 100.0000\n",
       "2 2006 104.1172 103.0353 103.5002\n",
       "3 2007 107.0997 102.0404 104.2147\n",
       "4 2008 106.4223 102.1723 103.9988\n",
       "5 2009 100.4699 101.5894 101.1083\n",
       "6 2010 106.8744 108.4900 107.7957"
      ]
     },
     "metadata": {},
     "output_type": "display_data"
    }
   ],
   "source": [
    "index <- data_fig1_final[1,2:4]\n",
    "\n",
    "data_fig1_final_perc <- as.data.frame(matrix(ncol=4, nrow=14))\n",
    "\n",
    "for (i in 1:14) {\n",
    "data_fig1_final_perc[i,2:4] <- (data_fig1_final[i,2:4]/index)*100 }\n",
    "\n",
    "data_fig1_final_perc$V1 <- c(2005,2006, 2007, 2008,2009,2010,2011,2012, 2013,2014,2015,2016,2017,2018)\n",
    "head(data_fig1_final_perc)"
   ]
  },
  {
   "cell_type": "markdown",
   "metadata": {},
   "source": [
    "#### Thrid step:\n",
    "Finally use the modified dataset `data_fig1_final_perc` and build the graph by using ggplot"
   ]
  },
  {
   "cell_type": "code",
   "execution_count": 40,
   "metadata": {
    "scrolled": false
   },
   "outputs": [
    {
     "name": "stderr",
     "output_type": "stream",
     "text": [
      "Warning message:\n",
      "\"Continuous limits supplied to discrete scale.\n",
      "Did you mean `limits = factor(...)` or `scale_*_continuous()`?\""
     ]
    },
    {
     "data": {
      "image/png": "[encoded data removed]",
      "text/plain": [
       "plot without title"
      ]
     },
     "metadata": {},
     "output_type": "display_data"
    }
   ],
   "source": [
    "ggplot(data_fig1_final_perc,aes(x=V1)) + \n",
    "  geom_line(aes(y=V2, group=1, color=\"line\"), color=\"lightblue\", size=1) + #we add three lines\n",
    "  geom_line(aes(y=V3, group=1, color=\"line\"), color=\"darkblue\", size=1) +\n",
    "  geom_line(aes(y=V4, group=1, color=\"line\"), color=\"darkorange\", size=2) +\n",
    "    ggtitle(\"Trends in nights spent at EU-27 tourist accommodation establishments, EU-27, 2005-2018\",\n",
    "        subtitle=\"(index 2005=100)\") +\n",
    "    scale_y_continuous(limits = c(100, 155), breaks = seq(100, 155, by = 5)) +\n",
    "    scale_x_discrete(limits = c(2005,2006, 2007, 2008,2009,2010,2011,2012, 2013,2014,2015,2016,2017,2018)) +\n",
    "    ylab(\" \") +\n",
    "    xlab(\" \") +\n",
    "    theme(panel.grid.major.y = element_line(color=\"grey\"),\n",
    "          panel.background = element_rect(fill = NA),\n",
    "          axis.ticks.y = element_line(colour= \"white\"))"
   ]
  },
  {
   "cell_type": "markdown",
   "metadata": {},
   "source": [
    "### create figure 2\n",
    "\n",
    "It's in principal the same graph like in the abstract part. Check the code there."
   ]
  },
  {
   "cell_type": "code",
   "execution_count": 41,
   "metadata": {},
   "outputs": [
    {
     "data": {
      "image/png": "[encoded data removed]",
      "text/plain": [
       "plot without title"
      ]
     },
     "metadata": {},
     "output_type": "display_data"
    }
   ],
   "source": [
    "label_axes2 <- seq(0, 320, by = 20)\n",
    "\n",
    "ggplot(data_mod4, aes(x=geo,y=values)) +\n",
    "            geom_bar(stat = \"identity\", position=\"dodge\", width=0.5, fill=\"steelblue3\") +\n",
    "            scale_y_continuous(limits = c(0, 320000000), breaks = seq(0, 320000000, by = 20000000),\n",
    "                              labels=label_axes2) +\n",
    "            ggtitle(\"Tourism destinations - nights spent at tourist accomodation establishments, 2018\",\n",
    "                   subtitle = \"(million nights spent in the country by non-residents)\") +\n",
    "            coord_flip() +\n",
    "            scale_x_discrete(limits = rev(levels(data_mod4$geo)),\n",
    "                             labels = c(\"Kosovo\", \"North Macedonia\", \"Serbia\", \"Montenegro\", \"Turkey\", \"Liechtenstein\", \n",
    "                                        \"Iceland\", \"Norway\", \"Switzerland\", \"United Kingdom\", \"Luxembourg\", \"Lithuania\", \n",
    "                                        \"Latvia\", \"Estonia\", \"Romania\", \"Slovakia\", \"Finland\", \"Malta\", \"Slovenia\", \n",
    "                                        \"Denmark\", \"Hungary\", \"Sweden\", \"Cyprus\", \"Ireland\", \"Poland\", \"Bulgaria\", \n",
    "                                        \"Belgium\", \"Czechia\", \"Netherlands\", \"Portugal\", \"Croatia\", \"Germany\", \"Austria\", \n",
    "                                        \"Greece\", \"France\", \"Italy\", \"Spain\")) +\n",
    "            ylab(\" \") +\n",
    "            xlab(\" \") +\n",
    "            theme(panel.grid.major.x = element_line(color=\"grey\"),\n",
    "                  panel.background = element_rect(fill = NA),\n",
    "                  axis.line = element_line(colour = \"white\"),\n",
    "                  axis.ticks = element_line(colour= \"white\"))"
   ]
  },
  {
   "cell_type": "markdown",
   "metadata": {},
   "source": [
    "## create figure 3\n",
    "\n",
    "#### First step:\n",
    "Calculate the EU-27 value by summing up\n",
    "- create again a vector, which indicates due to FALSE and TRUE at the exact position, which countries of `countr_0` are within `EU_27`: `EU_27_prep2`\n",
    "- by using the sapply-command we can calculate the sum for each column of `data_mod4`"
   ]
  },
  {
   "cell_type": "code",
   "execution_count": 42,
   "metadata": {},
   "outputs": [],
   "source": [
    "EU_27_prep2 <- data_mod4$geo %in% EU_27\n",
    "\n",
    "tab_EU2 <- sapply(as.data.frame(data_mod4[EU_27_prep2,2]),sum)"
   ]
  },
  {
   "cell_type": "markdown",
   "metadata": {},
   "source": [
    "Add a column with the ratios we need for the pie chart: `tab_ratio`\n",
    "- shorten the table through `EU_27_prep2` (countries outside the EU should be delete)\n",
    "- sort the ratios in a decreasing order\n",
    "- keep the top 9 countries in `tab_ratio_top9` and summing up the others to \"Rest of EU-27\" in `tab_ratio_other` by using again the sapply command\n",
    "- add afterwards the sum in `tab_ratio_other_sum` to the top 9: `tab_ratio_new`"
   ]
  },
  {
   "cell_type": "code",
   "execution_count": 43,
   "metadata": {},
   "outputs": [
    {
     "name": "stderr",
     "output_type": "stream",
     "text": [
      "Warning message in `[<-.factor`(`*tmp*`, ri, value = 15.9651602486859):\n",
      "\"invalid factor level, NA generated\""
     ]
    },
    {
     "data": {
      "text/html": [
       "<table>\n",
       "<caption>A data.frame: 10 × 2</caption>\n",
       "<thead>\n",
       "\t<tr><th></th><th scope=col>geo</th><th scope=col>values</th></tr>\n",
       "\t<tr><th></th><th scope=col>&lt;fct&gt;</th><th scope=col>&lt;dbl&gt;</th></tr>\n",
       "</thead>\n",
       "<tbody>\n",
       "\t<tr><th scope=row>19</th><td>ES</td><td>22.645198</td></tr>\n",
       "\t<tr><th scope=row>24</th><td>IT</td><td>16.287560</td></tr>\n",
       "\t<tr><th scope=row>21</th><td>FR</td><td>10.586126</td></tr>\n",
       "\t<tr><th scope=row>18</th><td>EL</td><td> 7.716184</td></tr>\n",
       "\t<tr><th scope=row>10</th><td>AT</td><td> 6.717353</td></tr>\n",
       "\t<tr><th scope=row>15</th><td>DE</td><td> 6.541928</td></tr>\n",
       "\t<tr><th scope=row>22</th><td>HR</td><td> 6.254410</td></tr>\n",
       "\t<tr><th scope=row>33</th><td>PT</td><td> 3.750269</td></tr>\n",
       "\t<tr><th scope=row>31</th><td>NL</td><td> 3.535812</td></tr>\n",
       "\t<tr><th scope=row>101</th><td>NA</td><td>15.965160</td></tr>\n",
       "</tbody>\n",
       "</table>\n"
      ],
      "text/latex": [
       "A data.frame: 10 × 2\n",
       "\\begin{tabular}{r|ll}\n",
       "  & geo & values\\\\\n",
       "  & <fct> & <dbl>\\\\\n",
       "\\hline\n",
       "\t19 & ES & 22.645198\\\\\n",
       "\t24 & IT & 16.287560\\\\\n",
       "\t21 & FR & 10.586126\\\\\n",
       "\t18 & EL &  7.716184\\\\\n",
       "\t10 & AT &  6.717353\\\\\n",
       "\t15 & DE &  6.541928\\\\\n",
       "\t22 & HR &  6.254410\\\\\n",
       "\t33 & PT &  3.750269\\\\\n",
       "\t31 & NL &  3.535812\\\\\n",
       "\t101 & NA & 15.965160\\\\\n",
       "\\end{tabular}\n"
      ],
      "text/markdown": [
       "\n",
       "A data.frame: 10 × 2\n",
       "\n",
       "| <!--/--> | geo &lt;fct&gt; | values &lt;dbl&gt; |\n",
       "|---|---|---|\n",
       "| 19 | ES | 22.645198 |\n",
       "| 24 | IT | 16.287560 |\n",
       "| 21 | FR | 10.586126 |\n",
       "| 18 | EL |  7.716184 |\n",
       "| 10 | AT |  6.717353 |\n",
       "| 15 | DE |  6.541928 |\n",
       "| 22 | HR |  6.254410 |\n",
       "| 33 | PT |  3.750269 |\n",
       "| 31 | NL |  3.535812 |\n",
       "| 101 | NA | 15.965160 |\n",
       "\n"
      ],
      "text/plain": [
       "    geo values   \n",
       "19  ES  22.645198\n",
       "24  IT  16.287560\n",
       "21  FR  10.586126\n",
       "18  EL   7.716184\n",
       "10  AT   6.717353\n",
       "15  DE   6.541928\n",
       "22  HR   6.254410\n",
       "33  PT   3.750269\n",
       "31  NL   3.535812\n",
       "101 NA  15.965160"
      ]
     },
     "metadata": {},
     "output_type": "display_data"
    }
   ],
   "source": [
    "tab_ratio <- cbind(data_mod4,data_mod4[2]/tab_EU2*100)\n",
    "\n",
    "tab_ratio <- tab_ratio[EU_27_prep2,]\n",
    "\n",
    "tab_ratio <- tab_ratio[order(tab_ratio[,3], decreasing=T),]\n",
    "\n",
    "tab_ratio_top9 <- tab_ratio[1:9,]\n",
    "tab_ratio_other <- tab_ratio[10:27,]\n",
    "tab_ratio_other_sum <- sapply(as.data.frame(tab_ratio_other[,3]),sum)\n",
    "\n",
    "tab_ratio_new <- rbind(tab_ratio_top9[,c(1,3)], tab_ratio_other_sum)\n",
    "tab_ratio_new"
   ]
  },
  {
   "cell_type": "markdown",
   "metadata": {},
   "source": [
    "#### Second step:\n",
    "Plot the pie chart \n",
    "- first create the labels\n",
    "    - round the values and put a \"%\" behind it: `label_pie1`\n",
    "    - create a vector with the needed country names: `label_pie2`\n",
    "    - combine the both created label parts: `label_pie3`\n",
    "- within ggplot we have to create bars first. Afterwards we can convert it to a pie chart"
   ]
  },
  {
   "cell_type": "code",
   "execution_count": 220,
   "metadata": {},
   "outputs": [
    {
     "data": {
      "image/png": "[encoded data removed]",
      "text/plain": [
       "plot without title"
      ]
     },
     "metadata": {},
     "output_type": "display_data"
    }
   ],
   "source": [
    "label_pie1 <- paste(round(tab_ratio_new$values,0), \"%\")\n",
    "label_pie2 <- c(\"Spain\",\"Italy\",\"France\",\"Greece\",\"Austria\",\"Germany\",\"Croatia\",\"Portugal\",\"Netherlands\",\"Rest of EU-27\")\n",
    "label_pie3 <- paste(label_pie2,\"\\n\",label_pie1) #we can add \"/n\" to achieve a line break\n",
    "\n",
    "ggplot(tab_ratio_new, aes(x=\"\", y=values, fill=geo)) +\n",
    "       geom_bar(stat = \"identity\", width=1) + \n",
    "       coord_polar(\"y\", direction = -1, start=0) +\n",
    "       geom_text(label = label_pie3, position = position_stack(vjust = 0.5)) +\n",
    "       ylab(\" \") +\n",
    "       xlab(\" \") +\n",
    "       ggtitle(\"Share of nights spent at EU-27 tourist accommodation by tourists travelling outside their own country \n",
    "                of residence, 2018\",\n",
    "                subtitle = \"(% of all nights spent in EU-27 tourist accommodation establishements)\") +\n",
    "       theme_classic() + \n",
    "       theme(legend.position = \"none\",\n",
    "             axis.line = element_blank(),\n",
    "             axis.text = element_blank(),\n",
    "             axis.ticks = element_blank(),\n",
    "             panel.grid  = element_blank())"
   ]
  },
  {
   "cell_type": "markdown",
   "metadata": {},
   "source": [
    "### create figure 4\n",
    "\n",
    "#### First step:\n",
    "- we already load the dataset and can therefore use the values from the third colomn of `table_final`\n",
    "- additionally we need the subsequent dataset: `bev`\n",
    "- build the needed subset and choose only the relevant columns: `bev_subs`"
   ]
  },
  {
   "cell_type": "code",
   "execution_count": 71,
   "metadata": {},
   "outputs": [
    {
     "name": "stderr",
     "output_type": "stream",
     "text": [
      "Reading cache file C:\\Users\\sarah\\AppData\\Local\\Temp\\Rtmp0oFI1n/eurostat/demo_gind_date_code_TF.rds\n",
      "Table  demo_gind  read from cache file:  C:\\Users\\sarah\\AppData\\Local\\Temp\\Rtmp0oFI1n/eurostat/demo_gind_date_code_TF.rds\n"
     ]
    }
   ],
   "source": [
    "bev <- get_eurostat(id=\"demo_gind\")\n",
    "\n",
    "bev_subs <- subset(bev, \n",
    "                   bev$geo %in% countr_0 & \n",
    "                   bev$indic_de==\"AVG\" &\n",
    "                   bev$time==\"2018-01-01\")\n",
    "bev_subs <- bev_subs[,c(2,4)]"
   ]
  },
  {
   "cell_type": "markdown",
   "metadata": {},
   "source": [
    "- bring the country's names in the same order (`countr_0`) like the table above, that we can add the columns with the tourist accomodation\n",
    "- add the columns with the tourist accomodation from `data_tab_col3` and add the needed ratio-column"
   ]
  },
  {
   "cell_type": "code",
   "execution_count": 72,
   "metadata": {},
   "outputs": [],
   "source": [
    "bev_subs <- bev_subs[order(factor(bev_subs$geo, levels= countr_0)),]\n",
    "\n",
    "bev_subs <- cbind(bev_subs,data_tab_col3)\n",
    "\n",
    "bev_subs <- cbind(bev_subs,bev_subs[,4]/bev_subs[,2])\n",
    "\n",
    "names(bev_subs)[5] <- \"values\"\n",
    "bev_subs <- bev_subs[,c(1,5)]"
   ]
  },
  {
   "cell_type": "markdown",
   "metadata": {},
   "source": [
    "-  create new country vector `countr_fig4` to bring the countries in the order the graph shows"
   ]
  },
  {
   "cell_type": "code",
   "execution_count": 73,
   "metadata": {},
   "outputs": [],
   "source": [
    "countr_fig4 <- c(\"HR\", \"MT\",\"CY\",\"AT\",\"EL\",\"ES\",\"SI\",\"PT\",\"IT\",\"IE\",\"NL\",\"FR\",\"SE\",\"DK\",\"CZ\",\"DE\",\"EE\",\"LU\",\"FI\",\"BG\",\n",
    "                 \"BE\",\"HU\",\"LT\",\"SK\",\"LV\",\"PL\",\"RO\", \"UK\", \"IS\",\"CH\",\"NO\",\"LI\",\"ME\",\"TR\",\"RS\",\"MK\",\"XK\")\n",
    "\n",
    "bev_subs <- bev_subs[order(factor(bev_subs$geo, levels= countr_fig4)),]"
   ]
  },
  {
   "cell_type": "markdown",
   "metadata": {},
   "source": [
    "#### Second step:\n",
    "Calculate the EU-27 value by summing up \n",
    "- create a vector, which indicates due to FALSE and TRUE at the exact position, which countries of bev_subs are within `EU_27`: `EU_27_prep_2_1`\n",
    "- by using the sapply-command we can calculate the average for the column of the table \"bev_subs\"\n",
    "    - at this stage we get the warning message, that one NA for \"Eu-27\" get generated: we solve this problem two steps later\n",
    "- put the summarized values to the calculated table from above\n",
    "- we have to convert the class, because we have to add \"EU-27\" and this only works by converting it from a factor first, then doing the change and re-convert it back"
   ]
  },
  {
   "cell_type": "code",
   "execution_count": 74,
   "metadata": {},
   "outputs": [
    {
     "name": "stderr",
     "output_type": "stream",
     "text": [
      "Warning message in `[<-.factor`(`*tmp*`, ri, value = \"EU-27\"):\n",
      "\"invalid factor level, NA generated\""
     ]
    },
    {
     "data": {
      "text/html": [
       "<table>\n",
       "<caption>A data.frame: 6 × 2</caption>\n",
       "<thead>\n",
       "\t<tr><th></th><th scope=col>geo</th><th scope=col>values</th></tr>\n",
       "\t<tr><th></th><th scope=col>&lt;fct&gt;</th><th scope=col>&lt;chr&gt;</th></tr>\n",
       "</thead>\n",
       "<tbody>\n",
       "\t<tr><th scope=row>1</th><td>EU-27</td><td>7.37476857884317</td></tr>\n",
       "\t<tr><th scope=row>11</th><td>HR   </td><td>21.894524392122 </td></tr>\n",
       "\t<tr><th scope=row>18</th><td>MT   </td><td>20.8699337639024</td></tr>\n",
       "\t<tr><th scope=row>13</th><td>CY   </td><td>19.7274029156342</td></tr>\n",
       "\t<tr><th scope=row>20</th><td>AT   </td><td>14.1653608424209</td></tr>\n",
       "\t<tr><th scope=row>8</th><td>EL   </td><td>11.4682317386886</td></tr>\n",
       "</tbody>\n",
       "</table>\n"
      ],
      "text/latex": [
       "A data.frame: 6 × 2\n",
       "\\begin{tabular}{r|ll}\n",
       "  & geo & values\\\\\n",
       "  & <fct> & <chr>\\\\\n",
       "\\hline\n",
       "\t1 & EU-27 & 7.37476857884317\\\\\n",
       "\t11 & HR    & 21.894524392122 \\\\\n",
       "\t18 & MT    & 20.8699337639024\\\\\n",
       "\t13 & CY    & 19.7274029156342\\\\\n",
       "\t20 & AT    & 14.1653608424209\\\\\n",
       "\t8 & EL    & 11.4682317386886\\\\\n",
       "\\end{tabular}\n"
      ],
      "text/markdown": [
       "\n",
       "A data.frame: 6 × 2\n",
       "\n",
       "| <!--/--> | geo &lt;fct&gt; | values &lt;chr&gt; |\n",
       "|---|---|---|\n",
       "| 1 | EU-27 | 7.37476857884317 |\n",
       "| 11 | HR    | 21.894524392122  |\n",
       "| 18 | MT    | 20.8699337639024 |\n",
       "| 13 | CY    | 19.7274029156342 |\n",
       "| 20 | AT    | 14.1653608424209 |\n",
       "| 8 | EL    | 11.4682317386886 |\n",
       "\n"
      ],
      "text/plain": [
       "   geo   values          \n",
       "1  EU-27 7.37476857884317\n",
       "11 HR    21.894524392122 \n",
       "18 MT    20.8699337639024\n",
       "13 CY    19.7274029156342\n",
       "20 AT    14.1653608424209\n",
       "8  EL    11.4682317386886"
      ]
     },
     "metadata": {},
     "output_type": "display_data"
    }
   ],
   "source": [
    "EU_27_prep_2_1 <- bev_subs$geo %in% EU_27\n",
    "\n",
    "tab_EU2_1 <- c(\"EU-27\",sapply(as.data.frame(bev_subs[EU_27_prep_2_1,2]),mean))\n",
    "\n",
    "bev_subs <- rbind(tab_EU2_1,bev_subs)\n",
    "\n",
    "bev_subs[,1] <- as.character(bev_subs[,1])\n",
    "bev_subs[1,1] <- \"EU-27\"\n",
    "bev_subs[,1] <- factor(bev_subs[,1])\n",
    "\n",
    "head(bev_subs)"
   ]
  },
  {
   "cell_type": "markdown",
   "metadata": {},
   "source": [
    "#### Third step:\n",
    "Plot the graph via ggplot\n",
    "- bring the country names in the order the graphik shows: you can do this due to modify the levels of the variable \"geo\"\n",
    "- to achieve that the y-axes in the chart is later in an ascending order, we have to convert the ratio-axes to numeric"
   ]
  },
  {
   "cell_type": "code",
   "execution_count": 76,
   "metadata": {},
   "outputs": [
    {
     "data": {
      "image/png": "[encoded data removed]",
      "text/plain": [
       "plot without title"
      ]
     },
     "metadata": {},
     "output_type": "display_data"
    }
   ],
   "source": [
    "bev_subs$geo <- factor(bev_subs$geo,\n",
    "                        levels = c(\"EU-27\",\"HR\", \"MT\",\"CY\",\"AT\",\"EL\",\"ES\",\"SI\",\"PT\",\"IT\",\"IE\",\"NL\",\"FR\",\"SE\",\"DK\",\"CZ\",\"DE\",\n",
    "                                   \"EE\",\"LU\",\"FI\",\"BG\",\"BE\",\"HU\",\"LT\",\"SK\",\"LV\",\"PL\",\"RO\", \"UK\", \"IS\",\"CH\",\"NO\",\"LI\",\n",
    "                                   \"ME\",\"TR\",\"RS\",\"MK\",\"XK\"))\n",
    "\n",
    "bev_subs$values <- as.numeric(as.character(bev_subs$values))\n",
    "\n",
    "ggplot(bev_subs, aes(x=geo,y=values)) +\n",
    "            geom_bar(stat = \"identity\", position=\"dodge\", width=0.5, fill=\"steelblue3\") +\n",
    "            scale_y_continuous(limits = c(0, 30), breaks = seq(0, 30, by = 5)) +\n",
    "            ggtitle(\"Tourism intensity, 2018\",\n",
    "                   subtitle=\"(nights spent by residents and non-residents at tourist accommodation \n",
    "                              establishments per inhabitant)\") +\n",
    "            coord_flip() +\n",
    "            scale_x_discrete(limits = rev(levels(bev_subs$geo)),\n",
    "                             labels = c(\"Kosovo\", \"North Macedonia\", \"Serbia\", \"Turkey\", \"Montenegro\", \"Liechtenstein\", \n",
    "                                        \"Norway\", \"Switzerland\", \"Iceland\", \"United Kingdom\", \"Romania\", \"Poland\", \n",
    "                                        \"Latvia\", \"Slovakia\", \"Lithuania\", \"Hungary\", \"Belgium\", \"Bulgaria\", \"Finland\", \n",
    "                                        \"Luxembourg\", \"Estonia\", \"Germany\", \"Czechia\", \"Denmark\", \"Sweden\", \"France\", \n",
    "                                        \"Netherlands\", \"Ireland\", \"Italy\", \"Portugal\", \"Slovenia\", \"Spain\", \"Greece\", \n",
    "                                        \"Austria\", \"Cyprus\", \"Malta\", \"Croatia\", \"EU-27\")) +\n",
    "            ylab(\" \") +\n",
    "            xlab(\" \") +\n",
    "            theme(panel.grid.major.x = element_line(color=\"grey\"),\n",
    "                  panel.background = element_rect(fill = NA),\n",
    "                  axis.line = element_line(colour = \"white\"),\n",
    "                  axis.ticks = element_line(colour= \"white\"))\n"
   ]
  },
  {
   "cell_type": "markdown",
   "metadata": {},
   "source": [
    "## Tourism trips: Residents of Luxembourg, Belgium, Malta and Slovenia made more outbound than domestic trips\n",
    "\n",
    "### create table 2\n",
    "First we create the table and afterwards figure 5, because it is easier to build the graph with the data from the table\n",
    "\n",
    "#### First step:\n",
    "We start with the first three columns, which are based on the same dataset\n",
    "- load the dataset: `data_2`\n",
    "- again we add a year-column"
   ]
  },
  {
   "cell_type": "code",
   "execution_count": 77,
   "metadata": {},
   "outputs": [
    {
     "name": "stderr",
     "output_type": "stream",
     "text": [
      "Table tour_dem_tttot cached at C:\\Users\\sarah\\AppData\\Local\\Temp\\Rtmp0oFI1n/eurostat/tour_dem_tttot_date_code_TF.rds\n"
     ]
    }
   ],
   "source": [
    "data_2 <- get_eurostat(id=\"tour_dem_tttot\")\n",
    "\n",
    "data_2$year <- as.integer(substr(data_2$time,1,4))"
   ]
  },
  {
   "cell_type": "markdown",
   "metadata": {},
   "source": [
    "Build a loop\n",
    "- due to we want to use a loop for getting the data for the three columns, we have to create a vector with the essential difference between the three columns: `duration_vec`\n",
    "- create an empty data frame, which we can fill while running the loop: `data_tab2_part1`\n",
    "    - we have 3 columns in the needed dataset\n",
    "    - and we have data for 30 countries and therefore 30 rows in the needed dataset"
   ]
  },
  {
   "cell_type": "code",
   "execution_count": 78,
   "metadata": {},
   "outputs": [],
   "source": [
    "duration_vec <-  c(\"N_GE1\",\"N1-3\",\"N_GE4\")\n",
    "\n",
    "data_tab2_part1 <- as.data.frame(matrix(ncol = 3, nrow = 30))"
   ]
  },
  {
   "cell_type": "markdown",
   "metadata": {},
   "source": [
    "Within the loop create several subsets from `data_2`\n",
    "- first subset `data_2_col1_1`: exclude the countries `countr_tab2_1_1`, which need data from 2017\n",
    "- second subset `data_2_col1_2`: for Poland and Romania in `countr_tab2_1_2` we need data from 2017\n",
    "- third subset `data_2_col1_3`: for United Kingdom we have NA\n",
    "- we match afterwards in `data_tab2_col1` the three calculated subsets in every step within the loop\n",
    "- then we bring the country names in the order the table shows: we can use the vector `countr_0` from beginning\n",
    "- we calculate the `data_tab2_col1` three times for each case of duration_vec\n",
    "    - to look at the three intermediate step we can print it\n",
    "- last but not least we assign the three intermediate step to the empty data frame `data_tab2_part1` we create before"
   ]
  },
  {
   "cell_type": "code",
   "execution_count": 79,
   "metadata": {},
   "outputs": [
    {
     "data": {
      "text/html": [
       "<table>\n",
       "<caption>A data.frame: 6 × 3</caption>\n",
       "<thead>\n",
       "\t<tr><th></th><th scope=col>V1</th><th scope=col>V2</th><th scope=col>V3</th></tr>\n",
       "\t<tr><th></th><th scope=col>&lt;dbl&gt;</th><th scope=col>&lt;dbl&gt;</th><th scope=col>&lt;dbl&gt;</th></tr>\n",
       "</thead>\n",
       "<tbody>\n",
       "\t<tr><th scope=row>1</th><td> 16893</td><td>  7058</td><td>  9835</td></tr>\n",
       "\t<tr><th scope=row>2</th><td>  5090</td><td>  2748</td><td>  2343</td></tr>\n",
       "\t<tr><th scope=row>3</th><td> 34569</td><td> 21380</td><td> 13189</td></tr>\n",
       "\t<tr><th scope=row>4</th><td> 18875</td><td> 10380</td><td>  8495</td></tr>\n",
       "\t<tr><th scope=row>5</th><td>267879</td><td>132289</td><td>135591</td></tr>\n",
       "\t<tr><th scope=row>6</th><td>  6468</td><td>  5109</td><td>  1358</td></tr>\n",
       "</tbody>\n",
       "</table>\n"
      ],
      "text/latex": [
       "A data.frame: 6 × 3\n",
       "\\begin{tabular}{r|lll}\n",
       "  & V1 & V2 & V3\\\\\n",
       "  & <dbl> & <dbl> & <dbl>\\\\\n",
       "\\hline\n",
       "\t1 &  16893 &   7058 &   9835\\\\\n",
       "\t2 &   5090 &   2748 &   2343\\\\\n",
       "\t3 &  34569 &  21380 &  13189\\\\\n",
       "\t4 &  18875 &  10380 &   8495\\\\\n",
       "\t5 & 267879 & 132289 & 135591\\\\\n",
       "\t6 &   6468 &   5109 &   1358\\\\\n",
       "\\end{tabular}\n"
      ],
      "text/markdown": [
       "\n",
       "A data.frame: 6 × 3\n",
       "\n",
       "| <!--/--> | V1 &lt;dbl&gt; | V2 &lt;dbl&gt; | V3 &lt;dbl&gt; |\n",
       "|---|---|---|---|\n",
       "| 1 |  16893 |   7058 |   9835 |\n",
       "| 2 |   5090 |   2748 |   2343 |\n",
       "| 3 |  34569 |  21380 |  13189 |\n",
       "| 4 |  18875 |  10380 |   8495 |\n",
       "| 5 | 267879 | 132289 | 135591 |\n",
       "| 6 |   6468 |   5109 |   1358 |\n",
       "\n"
      ],
      "text/plain": [
       "  V1     V2     V3    \n",
       "1  16893   7058   9835\n",
       "2   5090   2748   2343\n",
       "3  34569  21380  13189\n",
       "4  18875  10380   8495\n",
       "5 267879 132289 135591\n",
       "6   6468   5109   1358"
      ]
     },
     "metadata": {},
     "output_type": "display_data"
    }
   ],
   "source": [
    "for (i in 1:3) {\n",
    "\n",
    "countr_tab2_1_1 <- c(\"BE\",\"BG\",\"CZ\",\"DK\",\"DE\",\"EE\",\"IE\",\"EL\",\"ES\",\"FR\",\"HR\",\"IT\",\"CY\",\"LV\",\"LT\",\"LU\",\"HU\",\"MT\",\"NL\",\n",
    "                     \"AT\",\"PT\",\"SI\",\"SK\",\"FI\",\"SE\",\"UK\",\"IS\",\"LI\",\"NO\",\"CH\",\"ME\",\"MK\",\"RS\",\"TR\",\"XK\")\n",
    "data_2_col1_1 <- subset(data_2, \n",
    "                    data_2$geo %in% countr_tab2_1_1 & \n",
    "                    data_2$year==2018 &\n",
    "                    data_2$purpose==\"TOTAL\"&\n",
    "                    data_2$duration==duration_vec[i]&\n",
    "                    data_2$unit==\"THS\" &\n",
    "                    data_2$partner==\"WORLD\")\n",
    "data_2_col1_1 <- data_2_col1_1[,c(5,7)]\n",
    "\n",
    "countr_tab2_1_2 <- c(\"PL\",\"RO\")\n",
    "data_2_col1_2 <- subset(data_2, \n",
    "                    data_2$geo %in% countr_tab2_1_2 & \n",
    "                    data_2$year==2017 &\n",
    "                    data_2$purpose==\"TOTAL\"&\n",
    "                    data_2$duration==duration_vec[i]&\n",
    "                    data_2$unit==\"THS\" &\n",
    "                    data_2$partner==\"WORLD\")\n",
    "data_2_col1_2  <- data_2_col1_2[,c(5,7)]\n",
    "\n",
    "data_2_col1_3 <- data.frame( geo = \"UK\", values=  NA)\n",
    "\n",
    "data_tab2_col1 <- rbind(data_2_col1_1,data_2_col1_2,data_2_col1_3)\n",
    "\n",
    "data_tab2_col1 <- data_tab2_col1[order(factor(data_tab2_col1$geo, levels= countr_0)),]\n",
    "\n",
    "data_tab2_col1$values <- round(data_tab2_col1$values,0)\n",
    "data_tab2_col1\n",
    "  \n",
    "# print(data_tab2_col1) \n",
    "\n",
    "data_tab2_part1[,i] <- data_tab2_col1[,2]\n",
    "    \n",
    " }\n",
    "\n",
    "head(data_tab2_part1)"
   ]
  },
  {
   "cell_type": "markdown",
   "metadata": {},
   "source": [
    "Create a column with the names of the countries (`countr_names2`), this will be the first column of the complete table 2. Add this column to the three calculated columns from above: `table2_vers1`"
   ]
  },
  {
   "cell_type": "code",
   "execution_count": 80,
   "metadata": {},
   "outputs": [
    {
     "data": {
      "text/html": [
       "<table>\n",
       "<caption>A data.frame: 6 × 4</caption>\n",
       "<thead>\n",
       "\t<tr><th></th><th scope=col>countr_names2</th><th scope=col>V1</th><th scope=col>V2</th><th scope=col>V3</th></tr>\n",
       "\t<tr><th></th><th scope=col>&lt;fct&gt;</th><th scope=col>&lt;dbl&gt;</th><th scope=col>&lt;dbl&gt;</th><th scope=col>&lt;dbl&gt;</th></tr>\n",
       "</thead>\n",
       "<tbody>\n",
       "\t<tr><th scope=row>1</th><td>Belgium </td><td> 16893</td><td>  7058</td><td>  9835</td></tr>\n",
       "\t<tr><th scope=row>2</th><td>Bulgaria</td><td>  5090</td><td>  2748</td><td>  2343</td></tr>\n",
       "\t<tr><th scope=row>3</th><td>Czechia </td><td> 34569</td><td> 21380</td><td> 13189</td></tr>\n",
       "\t<tr><th scope=row>4</th><td>Denmark </td><td> 18875</td><td> 10380</td><td>  8495</td></tr>\n",
       "\t<tr><th scope=row>5</th><td>Germany </td><td>267879</td><td>132289</td><td>135591</td></tr>\n",
       "\t<tr><th scope=row>6</th><td>Estonia </td><td>  6468</td><td>  5109</td><td>  1358</td></tr>\n",
       "</tbody>\n",
       "</table>\n"
      ],
      "text/latex": [
       "A data.frame: 6 × 4\n",
       "\\begin{tabular}{r|llll}\n",
       "  & countr\\_names2 & V1 & V2 & V3\\\\\n",
       "  & <fct> & <dbl> & <dbl> & <dbl>\\\\\n",
       "\\hline\n",
       "\t1 & Belgium  &  16893 &   7058 &   9835\\\\\n",
       "\t2 & Bulgaria &   5090 &   2748 &   2343\\\\\n",
       "\t3 & Czechia  &  34569 &  21380 &  13189\\\\\n",
       "\t4 & Denmark  &  18875 &  10380 &   8495\\\\\n",
       "\t5 & Germany  & 267879 & 132289 & 135591\\\\\n",
       "\t6 & Estonia  &   6468 &   5109 &   1358\\\\\n",
       "\\end{tabular}\n"
      ],
      "text/markdown": [
       "\n",
       "A data.frame: 6 × 4\n",
       "\n",
       "| <!--/--> | countr_names2 &lt;fct&gt; | V1 &lt;dbl&gt; | V2 &lt;dbl&gt; | V3 &lt;dbl&gt; |\n",
       "|---|---|---|---|---|\n",
       "| 1 | Belgium  |  16893 |   7058 |   9835 |\n",
       "| 2 | Bulgaria |   5090 |   2748 |   2343 |\n",
       "| 3 | Czechia  |  34569 |  21380 |  13189 |\n",
       "| 4 | Denmark  |  18875 |  10380 |   8495 |\n",
       "| 5 | Germany  | 267879 | 132289 | 135591 |\n",
       "| 6 | Estonia  |   6468 |   5109 |   1358 |\n",
       "\n"
      ],
      "text/plain": [
       "  countr_names2 V1     V2     V3    \n",
       "1 Belgium        16893   7058   9835\n",
       "2 Bulgaria        5090   2748   2343\n",
       "3 Czechia        34569  21380  13189\n",
       "4 Denmark        18875  10380   8495\n",
       "5 Germany       267879 132289 135591\n",
       "6 Estonia         6468   5109   1358"
      ]
     },
     "metadata": {},
     "output_type": "display_data"
    }
   ],
   "source": [
    "countr_names2 <- c(\"Belgium\",\"Bulgaria\",\"Czechia\",\"Denmark\",\"Germany\",\"Estonia\", \"Ireland\", \"Greece\", \"Spain\", \"France\", \n",
    "                  \"Croatia\", \"Italy\", \"Cyprus\", \"Latvia\", \"Lithuania\", \"Luxembourg\", \"Hungary\", \"Malta\", \"Netherlands\", \n",
    "                  \"Austria\", \"Poland\", \"Portugal\", \"Romania\", \"Slovenia\", \"Slovakia\", \"Finland\", \"Sweden\",\n",
    "                 \"United Kingdom\", \"Norway\", \"Switzerland\")\n",
    "\n",
    "table2_vers1 <- cbind(countr_names2, data_tab2_part1)\n",
    "head(table2_vers1)"
   ]
  },
  {
   "cell_type": "markdown",
   "metadata": {},
   "source": [
    "#### Second step:\n",
    "Continuing with column four and five, which are based on the same dataset like column one to three (`data_2`), but with different arguments.\n",
    "- due to the different arguments we need another for-loop, but basically we have the same process\n",
    "- create again a vector with the essential difference between the two columns: `duration_vec2`\n",
    "- create an empty data frame, which we can fill while running the loop: `data_tab2_part2`\n",
    "\n",
    "We want to calculate the ratio, also for the EU (this we will do later on).\n",
    "- we need therefore the sum of the column we will create here\n",
    "- we will save the two sums in a vector called `EU_tab2_sum1` (first we create the empty vector and assign the sums during the loop)"
   ]
  },
  {
   "cell_type": "code",
   "execution_count": 81,
   "metadata": {},
   "outputs": [],
   "source": [
    "duration_vec2 <-  c(\"N1-3\",\"N_GE4\")\n",
    "\n",
    "data_tab2_part2 <- as.data.frame(matrix(ncol = 2, nrow = 30))\n",
    " \n",
    "EU_tab2_sum1 <- as.data.frame(matrix(ncol = 2, nrow = 1))"
   ]
  },
  {
   "cell_type": "markdown",
   "metadata": {},
   "source": [
    "Within the loop create several subsets\n",
    "- first subset `data_2_col2_1`: exclude the countries (`countr_tab2_1_1`), which need data from 2017\n",
    "- for Poland and Romania in `countr_tab2_1_2` we need data from 2017. Assign in `data_2_col2_2`\n",
    "- for United Kingdom we have NA. Assign in `data_2_col2_3`\n",
    "- we match afterwards the three calculated subsets in every step within the loop in `data_tab2_col2`\n",
    "- bring the country names in the order the table shows (we can use the vector `countr_0` from beginning)\n",
    "\n",
    "Within the loop calculate the ratio for each country and a sum for the EU-value\n",
    "- create a vector, which indicates due to FALSE and TRUE at the exact position, which countries of data_tab2_col3 are within EU_27: `EU_27_prep_col3`\n",
    "- by using the sapply-command we can calculate the sum: `tab_EU3_col3`\n",
    "- build the ratio we need (the column just calculated devided by the first column from above (all trips))\n",
    "- then we assign the ratios to the empty data frame we create before: `data_tab2_part2`"
   ]
  },
  {
   "cell_type": "code",
   "execution_count": 82,
   "metadata": {},
   "outputs": [
    {
     "data": {
      "text/html": [
       "<table>\n",
       "<caption>A data.frame: 6 × 2</caption>\n",
       "<thead>\n",
       "\t<tr><th></th><th scope=col>V1</th><th scope=col>V2</th></tr>\n",
       "\t<tr><th></th><th scope=col>&lt;dbl&gt;</th><th scope=col>&lt;dbl&gt;</th></tr>\n",
       "</thead>\n",
       "<tbody>\n",
       "\t<tr><th scope=row>1</th><td>15.7</td><td> 6.8</td></tr>\n",
       "\t<tr><th scope=row>2</th><td>48.0</td><td>33.5</td></tr>\n",
       "\t<tr><th scope=row>3</th><td>55.7</td><td>23.0</td></tr>\n",
       "\t<tr><th scope=row>4</th><td>44.0</td><td>19.2</td></tr>\n",
       "\t<tr><th scope=row>5</th><td>40.0</td><td>19.5</td></tr>\n",
       "\t<tr><th scope=row>6</th><td>63.5</td><td> 4.5</td></tr>\n",
       "</tbody>\n",
       "</table>\n"
      ],
      "text/latex": [
       "A data.frame: 6 × 2\n",
       "\\begin{tabular}{r|ll}\n",
       "  & V1 & V2\\\\\n",
       "  & <dbl> & <dbl>\\\\\n",
       "\\hline\n",
       "\t1 & 15.7 &  6.8\\\\\n",
       "\t2 & 48.0 & 33.5\\\\\n",
       "\t3 & 55.7 & 23.0\\\\\n",
       "\t4 & 44.0 & 19.2\\\\\n",
       "\t5 & 40.0 & 19.5\\\\\n",
       "\t6 & 63.5 &  4.5\\\\\n",
       "\\end{tabular}\n"
      ],
      "text/markdown": [
       "\n",
       "A data.frame: 6 × 2\n",
       "\n",
       "| <!--/--> | V1 &lt;dbl&gt; | V2 &lt;dbl&gt; |\n",
       "|---|---|---|\n",
       "| 1 | 15.7 |  6.8 |\n",
       "| 2 | 48.0 | 33.5 |\n",
       "| 3 | 55.7 | 23.0 |\n",
       "| 4 | 44.0 | 19.2 |\n",
       "| 5 | 40.0 | 19.5 |\n",
       "| 6 | 63.5 |  4.5 |\n",
       "\n"
      ],
      "text/plain": [
       "  V1   V2  \n",
       "1 15.7  6.8\n",
       "2 48.0 33.5\n",
       "3 55.7 23.0\n",
       "4 44.0 19.2\n",
       "5 40.0 19.5\n",
       "6 63.5  4.5"
      ]
     },
     "metadata": {},
     "output_type": "display_data"
    }
   ],
   "source": [
    "for (i in 1:2) {\n",
    "\n",
    "countr_tab2_1_1 <- c(\"BE\",\"BG\",\"CZ\",\"DK\",\"DE\",\"EE\",\"IE\",\"EL\",\"ES\",\"FR\",\"HR\",\"IT\",\"CY\",\"LV\",\"LT\",\"LU\",\"HU\",\"MT\",\"NL\",\n",
    "                     \"AT\",\"PT\",\"SI\",\"SK\",\"FI\",\"SE\",\"UK\",\"IS\",\"LI\",\"NO\",\"CH\",\"ME\",\"MK\",\"RS\",\"TR\",\"XK\")\n",
    "data_2_col2_1 <- subset(data_2, \n",
    "                    data_2$geo %in% countr_tab2_1_1 & \n",
    "                    data_2$year==2018 &\n",
    "                    data_2$purpose==\"TOTAL\"&\n",
    "                    data_2$duration==duration_vec2[i]&\n",
    "                    data_2$unit==\"THS\" &\n",
    "                    data_2$partner==\"DOM\")\n",
    "data_2_col2_1 <- data_2_col2_1[,c(5,7)]\n",
    "\n",
    "countr_tab2_1_2 <- c(\"PL\",\"RO\")\n",
    "data_2_col2_2 <- subset(data_2, \n",
    "                    data_2$geo %in% countr_tab2_1_2 & \n",
    "                    data_2$year==2017 &\n",
    "                    data_2$purpose==\"TOTAL\"&\n",
    "                    data_2$duration==duration_vec2[i]&\n",
    "                    data_2$unit==\"THS\" &\n",
    "                    data_2$partner==\"DOM\")\n",
    "data_2_col2_2  <- data_2_col2_2[,c(5,7)]\n",
    "\n",
    "data_2_col2_3 <- data.frame( geo = \"UK\", values=  NA)\n",
    "    \n",
    "data_tab2_col2 <- rbind(data_2_col2_1,data_2_col2_2,data_2_col2_3)\n",
    "\n",
    "data_tab2_col2 <- data_tab2_col2[order(factor(data_tab2_col2$geo, levels= countr_0)),]\n",
    "    \n",
    "data_tab2_col2$values <- round(data_tab2_col2$values,0)\n",
    "\n",
    "EU_27_prep_col3 <- data_tab2_col2$geo %in% EU_27\n",
    " \n",
    "tab_EU3_col3 <- sapply(data_tab2_col2[EU_27_prep_col3,2],sum)\n",
    "EU_tab2_sum1[,i] <- tab_EU3_col3\n",
    "    \n",
    "data_tab2_part2[,i] <- round(data_tab2_col2[,2]/table2_vers1[,2]*100,1)\n",
    "    \n",
    " }\n",
    "\n",
    "head(data_tab2_part2)"
   ]
  },
  {
   "cell_type": "markdown",
   "metadata": {},
   "source": [
    "#### Third step:\n",
    "Continue with column six and seven, which are based on the same data like column four to five, the only difference is the variable \"partner\"."
   ]
  },
  {
   "cell_type": "code",
   "execution_count": 83,
   "metadata": {},
   "outputs": [],
   "source": [
    "duration_vec2 <-  c(\"N1-3\",\"N_GE4\")\n",
    "\n",
    "data_tab2_part3 <- as.data.frame(matrix(ncol = 2, nrow = 30))\n",
    "\n",
    "EU_tab2_sum2 <- as.data.frame(matrix(ncol = 2, nrow = 1))"
   ]
  },
  {
   "cell_type": "code",
   "execution_count": 84,
   "metadata": {},
   "outputs": [
    {
     "data": {
      "text/html": [
       "<table>\n",
       "<caption>A data.frame: 6 × 2</caption>\n",
       "<thead>\n",
       "\t<tr><th></th><th scope=col>V1</th><th scope=col>V2</th></tr>\n",
       "\t<tr><th></th><th scope=col>&lt;dbl&gt;</th><th scope=col>&lt;dbl&gt;</th></tr>\n",
       "</thead>\n",
       "<tbody>\n",
       "\t<tr><th scope=row>1</th><td>26.1</td><td>51.4</td></tr>\n",
       "\t<tr><th scope=row>2</th><td> 6.0</td><td>12.5</td></tr>\n",
       "\t<tr><th scope=row>3</th><td> 6.2</td><td>15.2</td></tr>\n",
       "\t<tr><th scope=row>4</th><td>11.0</td><td>25.8</td></tr>\n",
       "\t<tr><th scope=row>5</th><td> 9.4</td><td>31.1</td></tr>\n",
       "\t<tr><th scope=row>6</th><td>15.5</td><td>16.5</td></tr>\n",
       "</tbody>\n",
       "</table>\n"
      ],
      "text/latex": [
       "A data.frame: 6 × 2\n",
       "\\begin{tabular}{r|ll}\n",
       "  & V1 & V2\\\\\n",
       "  & <dbl> & <dbl>\\\\\n",
       "\\hline\n",
       "\t1 & 26.1 & 51.4\\\\\n",
       "\t2 &  6.0 & 12.5\\\\\n",
       "\t3 &  6.2 & 15.2\\\\\n",
       "\t4 & 11.0 & 25.8\\\\\n",
       "\t5 &  9.4 & 31.1\\\\\n",
       "\t6 & 15.5 & 16.5\\\\\n",
       "\\end{tabular}\n"
      ],
      "text/markdown": [
       "\n",
       "A data.frame: 6 × 2\n",
       "\n",
       "| <!--/--> | V1 &lt;dbl&gt; | V2 &lt;dbl&gt; |\n",
       "|---|---|---|\n",
       "| 1 | 26.1 | 51.4 |\n",
       "| 2 |  6.0 | 12.5 |\n",
       "| 3 |  6.2 | 15.2 |\n",
       "| 4 | 11.0 | 25.8 |\n",
       "| 5 |  9.4 | 31.1 |\n",
       "| 6 | 15.5 | 16.5 |\n",
       "\n"
      ],
      "text/plain": [
       "  V1   V2  \n",
       "1 26.1 51.4\n",
       "2  6.0 12.5\n",
       "3  6.2 15.2\n",
       "4 11.0 25.8\n",
       "5  9.4 31.1\n",
       "6 15.5 16.5"
      ]
     },
     "metadata": {},
     "output_type": "display_data"
    }
   ],
   "source": [
    "for (i in 1:2) {\n",
    "\n",
    "countr_tab2_1_1 <- c(\"BE\",\"BG\",\"CZ\",\"DK\",\"DE\",\"EE\",\"IE\",\"EL\",\"ES\",\"FR\",\"HR\",\"IT\",\"CY\",\"LV\",\"LT\",\"LU\",\"HU\",\"MT\",\"NL\",\n",
    "                 \"AT\",\"PT\",\"SI\",\"SK\",\"FI\",\"SE\",\"UK\",\"IS\",\"LI\",\"NO\",\"CH\",\"ME\",\"MK\",\"RS\",\"TR\",\"XK\")\n",
    "data_2_col3_1 <- subset(data_2, \n",
    "                    data_2$geo %in% countr_tab2_1_1 & \n",
    "                    data_2$year==2018 &\n",
    "                    data_2$purpose==\"TOTAL\"&\n",
    "                    data_2$duration==duration_vec2[i]&\n",
    "                    data_2$unit==\"THS\" &\n",
    "                    data_2$partner==\"OUT\") #the only difference to column four and five\n",
    "data_2_col3_1 <- data_2_col3_1[,c(5,7)]\n",
    "\n",
    "countr_tab2_1_2 <- c(\"PL\",\"RO\")\n",
    "data_2_col3_2 <- subset(data_2, \n",
    "                    data_2$geo %in% countr_tab2_1_2 & \n",
    "                    data_2$year==2017 &\n",
    "                    data_2$purpose==\"TOTAL\"&\n",
    "                    data_2$duration==duration_vec2[i]&\n",
    "                    data_2$unit==\"THS\" &\n",
    "                    data_2$partner==\"OUT\") #the only difference to column four and five\n",
    "data_2_col3_2  <- data_2_col3_2[,c(5,7)]\n",
    "\n",
    "data_2_col3_3 <- data.frame( geo = \"UK\", values=  NA)\n",
    "    \n",
    "data_tab2_col3 <- rbind(data_2_col3_1,data_2_col3_2,data_2_col3_3)\n",
    "\n",
    "data_tab2_col3 <- data_tab2_col3[order(factor(data_tab2_col3$geo, levels= countr_0)),]\n",
    "    \n",
    "data_tab2_col3$values <- round(data_tab2_col3$values,0)\n",
    "\n",
    "EU_27_prep_col3 <- data_tab2_col3$geo %in% EU_27\n",
    "tab_EU3_col3 <- sapply(data_tab2_col3[EU_27_prep_col3,2],sum)\n",
    "EU_tab2_sum2[,i] <- tab_EU3_col3\n",
    "    \n",
    "data_tab2_part3[,i] <- round(data_tab2_col3[,2]/table2_vers1[,2]*100,1)\n",
    "    \n",
    " }\n",
    "\n",
    "head(data_tab2_part3)"
   ]
  },
  {
   "cell_type": "markdown",
   "metadata": {},
   "source": [
    "Match `table2_vers1` with the remaining columns (i.e. column 4-7; `data_tab2_part2`,`data_tab2_part3`) to `table2_vers2`"
   ]
  },
  {
   "cell_type": "code",
   "execution_count": 85,
   "metadata": {},
   "outputs": [
    {
     "data": {
      "text/html": [
       "<table>\n",
       "<caption>A data.frame: 6 × 8</caption>\n",
       "<thead>\n",
       "\t<tr><th></th><th scope=col>countr_names2</th><th scope=col>V1</th><th scope=col>V2</th><th scope=col>V3</th><th scope=col>V1</th><th scope=col>V2</th><th scope=col>V1</th><th scope=col>V2</th></tr>\n",
       "\t<tr><th></th><th scope=col>&lt;fct&gt;</th><th scope=col>&lt;dbl&gt;</th><th scope=col>&lt;dbl&gt;</th><th scope=col>&lt;dbl&gt;</th><th scope=col>&lt;dbl&gt;</th><th scope=col>&lt;dbl&gt;</th><th scope=col>&lt;dbl&gt;</th><th scope=col>&lt;dbl&gt;</th></tr>\n",
       "</thead>\n",
       "<tbody>\n",
       "\t<tr><th scope=row>1</th><td>Belgium </td><td> 16893</td><td>  7058</td><td>  9835</td><td>15.7</td><td> 6.8</td><td>26.1</td><td>51.4</td></tr>\n",
       "\t<tr><th scope=row>2</th><td>Bulgaria</td><td>  5090</td><td>  2748</td><td>  2343</td><td>48.0</td><td>33.5</td><td> 6.0</td><td>12.5</td></tr>\n",
       "\t<tr><th scope=row>3</th><td>Czechia </td><td> 34569</td><td> 21380</td><td> 13189</td><td>55.7</td><td>23.0</td><td> 6.2</td><td>15.2</td></tr>\n",
       "\t<tr><th scope=row>4</th><td>Denmark </td><td> 18875</td><td> 10380</td><td>  8495</td><td>44.0</td><td>19.2</td><td>11.0</td><td>25.8</td></tr>\n",
       "\t<tr><th scope=row>5</th><td>Germany </td><td>267879</td><td>132289</td><td>135591</td><td>40.0</td><td>19.5</td><td> 9.4</td><td>31.1</td></tr>\n",
       "\t<tr><th scope=row>6</th><td>Estonia </td><td>  6468</td><td>  5109</td><td>  1358</td><td>63.5</td><td> 4.5</td><td>15.5</td><td>16.5</td></tr>\n",
       "</tbody>\n",
       "</table>\n"
      ],
      "text/latex": [
       "A data.frame: 6 × 8\n",
       "\\begin{tabular}{r|llllllll}\n",
       "  & countr\\_names2 & V1 & V2 & V3 & V1 & V2 & V1 & V2\\\\\n",
       "  & <fct> & <dbl> & <dbl> & <dbl> & <dbl> & <dbl> & <dbl> & <dbl>\\\\\n",
       "\\hline\n",
       "\t1 & Belgium  &  16893 &   7058 &   9835 & 15.7 &  6.8 & 26.1 & 51.4\\\\\n",
       "\t2 & Bulgaria &   5090 &   2748 &   2343 & 48.0 & 33.5 &  6.0 & 12.5\\\\\n",
       "\t3 & Czechia  &  34569 &  21380 &  13189 & 55.7 & 23.0 &  6.2 & 15.2\\\\\n",
       "\t4 & Denmark  &  18875 &  10380 &   8495 & 44.0 & 19.2 & 11.0 & 25.8\\\\\n",
       "\t5 & Germany  & 267879 & 132289 & 135591 & 40.0 & 19.5 &  9.4 & 31.1\\\\\n",
       "\t6 & Estonia  &   6468 &   5109 &   1358 & 63.5 &  4.5 & 15.5 & 16.5\\\\\n",
       "\\end{tabular}\n"
      ],
      "text/markdown": [
       "\n",
       "A data.frame: 6 × 8\n",
       "\n",
       "| <!--/--> | countr_names2 &lt;fct&gt; | V1 &lt;dbl&gt; | V2 &lt;dbl&gt; | V3 &lt;dbl&gt; | V1 &lt;dbl&gt; | V2 &lt;dbl&gt; | V1 &lt;dbl&gt; | V2 &lt;dbl&gt; |\n",
       "|---|---|---|---|---|---|---|---|---|\n",
       "| 1 | Belgium  |  16893 |   7058 |   9835 | 15.7 |  6.8 | 26.1 | 51.4 |\n",
       "| 2 | Bulgaria |   5090 |   2748 |   2343 | 48.0 | 33.5 |  6.0 | 12.5 |\n",
       "| 3 | Czechia  |  34569 |  21380 |  13189 | 55.7 | 23.0 |  6.2 | 15.2 |\n",
       "| 4 | Denmark  |  18875 |  10380 |   8495 | 44.0 | 19.2 | 11.0 | 25.8 |\n",
       "| 5 | Germany  | 267879 | 132289 | 135591 | 40.0 | 19.5 |  9.4 | 31.1 |\n",
       "| 6 | Estonia  |   6468 |   5109 |   1358 | 63.5 |  4.5 | 15.5 | 16.5 |\n",
       "\n"
      ],
      "text/plain": [
       "  countr_names2 V1     V2     V3     V1   V2   V1   V2  \n",
       "1 Belgium        16893   7058   9835 15.7  6.8 26.1 51.4\n",
       "2 Bulgaria        5090   2748   2343 48.0 33.5  6.0 12.5\n",
       "3 Czechia        34569  21380  13189 55.7 23.0  6.2 15.2\n",
       "4 Denmark        18875  10380   8495 44.0 19.2 11.0 25.8\n",
       "5 Germany       267879 132289 135591 40.0 19.5  9.4 31.1\n",
       "6 Estonia         6468   5109   1358 63.5  4.5 15.5 16.5"
      ]
     },
     "metadata": {},
     "output_type": "display_data"
    }
   ],
   "source": [
    "table2_vers2 <- cbind(table2_vers1, data_tab2_part2, data_tab2_part3)\n",
    "\n",
    "head(table2_vers2)"
   ]
  },
  {
   "cell_type": "markdown",
   "metadata": {},
   "source": [
    "#### Fourth step:\n",
    "Now we add the last column, which has another dataset `data_3`\n",
    "- load the dataset first\n",
    "- again we add a year-column"
   ]
  },
  {
   "cell_type": "code",
   "execution_count": 86,
   "metadata": {},
   "outputs": [
    {
     "name": "stderr",
     "output_type": "stream",
     "text": [
      "Table tour_dem_totot cached at C:\\Users\\sarah\\AppData\\Local\\Temp\\Rtmp0oFI1n/eurostat/tour_dem_totot_date_code_TF.rds\n"
     ]
    }
   ],
   "source": [
    "data_3 <- get_eurostat(id=\"tour_dem_totot\")\n",
    "\n",
    "data_3$year <- as.integer(substr(data_3$time,1,4))"
   ]
  },
  {
   "cell_type": "markdown",
   "metadata": {},
   "source": [
    "Exclude the countries, which need data from 2016 and 2017 (`countr_tab2_2_1`). Build the subset `data_2_col4_1`"
   ]
  },
  {
   "cell_type": "code",
   "execution_count": 87,
   "metadata": {},
   "outputs": [],
   "source": [
    "countr_tab2_2_1 <- c(\"BE\",\"BG\",\"CZ\",\"DK\",\"DE\",\"EE\",\"IE\",\"EL\",\"ES\",\"FR\",\"HR\",\"IT\",\"CY\",\"LT\",\"LU\",\"HU\",\"MT\",\"NL\",\n",
    "                     \"PL\",\"PT\",\"RO\",\"SI\",\"SK\",\"FI\",\"SE\",\"IS\",\"LI\",\"NO\",\"CH\",\"ME\",\"RS\",\"TR\")\n",
    "data_2_col4_1 <- subset(data_3, \n",
    "                    data_3$geo %in% countr_tab2_2_1 & \n",
    "                    data_3$year==2018 &\n",
    "                    data_3$duration==\"N_GE1\"&\n",
    "                    data_3$unit==\"PC_POP\"&\n",
    "                    data_3$partner==\"WORLD\")\n",
    "data_2_col4_1 <- data_2_col4_1[,c(4,6)]"
   ]
  },
  {
   "cell_type": "markdown",
   "metadata": {},
   "source": [
    "For United Kingdom (`countr_tab2_2_2`) we need data from 2016. Build the subset `data_2_col4_2`"
   ]
  },
  {
   "cell_type": "code",
   "execution_count": 88,
   "metadata": {},
   "outputs": [],
   "source": [
    "countr_tab2_2_2 <- c(\"UK\")\n",
    "data_2_col4_2 <- subset(data_3, \n",
    "                    data_3$geo %in% countr_tab2_2_2 & \n",
    "                    data_3$year==2016 &\n",
    "                    data_3$duration==\"N_GE1\"&\n",
    "                    data_3$unit==\"PC_POP\"&\n",
    "                    data_3$partner==\"WORLD\")\n",
    "data_2_col4_2 <- data_2_col4_2[,c(4,6)]"
   ]
  },
  {
   "cell_type": "markdown",
   "metadata": {},
   "source": [
    "For Austria and Latvia (`countr_tab2_2_3`) we need data from 2017. Build the subset `data_2_col4_3`"
   ]
  },
  {
   "cell_type": "code",
   "execution_count": 89,
   "metadata": {},
   "outputs": [],
   "source": [
    "countr_tab2_2_3 <- c(\"LV\",\"AT\")\n",
    "data_2_col4_3 <- subset(data_3, \n",
    "                    data_3$geo %in% countr_tab2_2_3 & \n",
    "                    data_3$year==2017 &\n",
    "                    data_3$duration==\"N_GE1\"&\n",
    "                    data_3$unit==\"PC_POP\"&\n",
    "                    data_3$partner==\"WORLD\")\n",
    "data_2_col4_3 <- data_2_col4_3[,c(4,6)]"
   ]
  },
  {
   "cell_type": "markdown",
   "metadata": {},
   "source": [
    "- match the subsets to `data_tab2_part4`\n",
    "- bring the country names in the order the table shows (use `countr_0`)\n",
    "\n",
    "- here we can keep the country shortcuts, because we need them to calculate the EU-value later \n",
    "- by matching the last column to `table2_vers2`, we can delete the shortcut column, because we need the full names here: `table2_vers3`"
   ]
  },
  {
   "cell_type": "code",
   "execution_count": 221,
   "metadata": {},
   "outputs": [
    {
     "data": {
      "text/html": [
       "<table>\n",
       "<caption>A data.frame: 6 × 9</caption>\n",
       "<thead>\n",
       "\t<tr><th></th><th scope=col>countr_names2</th><th scope=col>V1</th><th scope=col>V2</th><th scope=col>V3</th><th scope=col>V1</th><th scope=col>V2</th><th scope=col>V1</th><th scope=col>V2</th><th scope=col>values</th></tr>\n",
       "\t<tr><th></th><th scope=col>&lt;fct&gt;</th><th scope=col>&lt;dbl&gt;</th><th scope=col>&lt;dbl&gt;</th><th scope=col>&lt;dbl&gt;</th><th scope=col>&lt;dbl&gt;</th><th scope=col>&lt;dbl&gt;</th><th scope=col>&lt;dbl&gt;</th><th scope=col>&lt;dbl&gt;</th><th scope=col>&lt;dbl&gt;</th></tr>\n",
       "</thead>\n",
       "<tbody>\n",
       "\t<tr><th scope=row>1</th><td>Belgium </td><td> 16893</td><td>  7058</td><td>  9835</td><td>15.7</td><td> 6.8</td><td>26.1</td><td>51.4</td><td>67.7</td></tr>\n",
       "\t<tr><th scope=row>2</th><td>Bulgaria</td><td>  5090</td><td>  2748</td><td>  2343</td><td>48.0</td><td>33.5</td><td> 6.0</td><td>12.5</td><td>33.8</td></tr>\n",
       "\t<tr><th scope=row>3</th><td>Czechia </td><td> 34569</td><td> 21380</td><td> 13189</td><td>55.7</td><td>23.0</td><td> 6.2</td><td>15.2</td><td>78.1</td></tr>\n",
       "\t<tr><th scope=row>4</th><td>Denmark </td><td> 18875</td><td> 10380</td><td>  8495</td><td>44.0</td><td>19.2</td><td>11.0</td><td>25.8</td><td>69.9</td></tr>\n",
       "\t<tr><th scope=row>5</th><td>Germany </td><td>267879</td><td>132289</td><td>135591</td><td>40.0</td><td>19.5</td><td> 9.4</td><td>31.1</td><td>75.3</td></tr>\n",
       "\t<tr><th scope=row>6</th><td>Estonia </td><td>  6468</td><td>  5109</td><td>  1358</td><td>63.5</td><td> 4.5</td><td>15.5</td><td>16.5</td><td>79.5</td></tr>\n",
       "</tbody>\n",
       "</table>\n"
      ],
      "text/latex": [
       "A data.frame: 6 × 9\n",
       "\\begin{tabular}{r|lllllllll}\n",
       "  & countr\\_names2 & V1 & V2 & V3 & V1 & V2 & V1 & V2 & values\\\\\n",
       "  & <fct> & <dbl> & <dbl> & <dbl> & <dbl> & <dbl> & <dbl> & <dbl> & <dbl>\\\\\n",
       "\\hline\n",
       "\t1 & Belgium  &  16893 &   7058 &   9835 & 15.7 &  6.8 & 26.1 & 51.4 & 67.7\\\\\n",
       "\t2 & Bulgaria &   5090 &   2748 &   2343 & 48.0 & 33.5 &  6.0 & 12.5 & 33.8\\\\\n",
       "\t3 & Czechia  &  34569 &  21380 &  13189 & 55.7 & 23.0 &  6.2 & 15.2 & 78.1\\\\\n",
       "\t4 & Denmark  &  18875 &  10380 &   8495 & 44.0 & 19.2 & 11.0 & 25.8 & 69.9\\\\\n",
       "\t5 & Germany  & 267879 & 132289 & 135591 & 40.0 & 19.5 &  9.4 & 31.1 & 75.3\\\\\n",
       "\t6 & Estonia  &   6468 &   5109 &   1358 & 63.5 &  4.5 & 15.5 & 16.5 & 79.5\\\\\n",
       "\\end{tabular}\n"
      ],
      "text/markdown": [
       "\n",
       "A data.frame: 6 × 9\n",
       "\n",
       "| <!--/--> | countr_names2 &lt;fct&gt; | V1 &lt;dbl&gt; | V2 &lt;dbl&gt; | V3 &lt;dbl&gt; | V1 &lt;dbl&gt; | V2 &lt;dbl&gt; | V1 &lt;dbl&gt; | V2 &lt;dbl&gt; | values &lt;dbl&gt; |\n",
       "|---|---|---|---|---|---|---|---|---|---|\n",
       "| 1 | Belgium  |  16893 |   7058 |   9835 | 15.7 |  6.8 | 26.1 | 51.4 | 67.7 |\n",
       "| 2 | Bulgaria |   5090 |   2748 |   2343 | 48.0 | 33.5 |  6.0 | 12.5 | 33.8 |\n",
       "| 3 | Czechia  |  34569 |  21380 |  13189 | 55.7 | 23.0 |  6.2 | 15.2 | 78.1 |\n",
       "| 4 | Denmark  |  18875 |  10380 |   8495 | 44.0 | 19.2 | 11.0 | 25.8 | 69.9 |\n",
       "| 5 | Germany  | 267879 | 132289 | 135591 | 40.0 | 19.5 |  9.4 | 31.1 | 75.3 |\n",
       "| 6 | Estonia  |   6468 |   5109 |   1358 | 63.5 |  4.5 | 15.5 | 16.5 | 79.5 |\n",
       "\n"
      ],
      "text/plain": [
       "  countr_names2 V1     V2     V3     V1   V2   V1   V2   values\n",
       "1 Belgium        16893   7058   9835 15.7  6.8 26.1 51.4 67.7  \n",
       "2 Bulgaria        5090   2748   2343 48.0 33.5  6.0 12.5 33.8  \n",
       "3 Czechia        34569  21380  13189 55.7 23.0  6.2 15.2 78.1  \n",
       "4 Denmark        18875  10380   8495 44.0 19.2 11.0 25.8 69.9  \n",
       "5 Germany       267879 132289 135591 40.0 19.5  9.4 31.1 75.3  \n",
       "6 Estonia         6468   5109   1358 63.5  4.5 15.5 16.5 79.5  "
      ]
     },
     "metadata": {},
     "output_type": "display_data"
    }
   ],
   "source": [
    "data_tab2_part4 <- rbind(data_2_col4_1, data_2_col4_2, data_2_col4_3)\n",
    "\n",
    "data_tab2_part4 <- data_tab2_part4[order(factor(data_tab2_part4$geo, levels= countr_0)),]\n",
    "\n",
    "data_tab2_part4$values <- round(data_tab2_part4$values, 1)\n",
    "\n",
    "table2_vers3 <- cbind(table2_vers2, data_tab2_part4[,2])\n",
    "\n",
    "head(table2_vers3)"
   ]
  },
  {
   "cell_type": "markdown",
   "metadata": {},
   "source": [
    "#### Fifth step:\n",
    "Calculate the EU value\n",
    "- we need one time again the table `table2_vers3` with shortcuts instead of full names to exclude the not-EU countries by using the `EU_27` vector.\n",
    "- remember that by calculating the last column to `table2_vers3` we keeped the shortcuts for the countries: \"data_tab2_part4[,1]\" --> this are the shortcuts\n",
    "- add this to `table2_vers3`"
   ]
  },
  {
   "cell_type": "code",
   "execution_count": 91,
   "metadata": {},
   "outputs": [],
   "source": [
    "tab_prep3 <- cbind(data_tab2_part4[,1], table2_vers3[,2:9])"
   ]
  },
  {
   "cell_type": "markdown",
   "metadata": {},
   "source": [
    "- which countries of `tab_prep3` are within `EU_27`: `EU_27_prep3`\n",
    "- by using the sapply-command we can calculate the sum of the column one to three of the table `table2_vers3`: `tab_EU3_1`"
   ]
  },
  {
   "cell_type": "code",
   "execution_count": 92,
   "metadata": {},
   "outputs": [],
   "source": [
    "EU_27_prep3 <- tab_prep3$geo %in% EU_27\n",
    "\n",
    "tab_EU3_1 <- sapply(table2_vers3[EU_27_prep3,2:4],sum)"
   ]
  },
  {
   "cell_type": "markdown",
   "metadata": {},
   "source": [
    "- for column four to seven we have to calculate the ratio\n",
    "- we already calculated the sum above: `EU_tab2_sum1` and `EU_tab2_sum2`\n",
    "- we have to devide this to the sum of \"all trips\": \"tab_EU3_1[1]\"\n",
    "- for the last column we have to take the average, because there is no suitable data in the dataset"
   ]
  },
  {
   "cell_type": "code",
   "execution_count": 93,
   "metadata": {},
   "outputs": [],
   "source": [
    "tab_EU3_2 <- round(EU_tab2_sum1/tab_EU3_1[1]*100,1)\n",
    "tab_EU3_3 <- round(EU_tab2_sum2/tab_EU3_1[1]*100,1)\n",
    "\n",
    "tab_EU3_4 <- round(mean(table2_vers3[EU_27_prep3,9]),1)"
   ]
  },
  {
   "cell_type": "markdown",
   "metadata": {},
   "source": [
    "Match all EU-values in `tab_EU3`\n",
    "- at this stage we get the warning message, that one NA for \"EU-27\" get generated: we solve this problem two steps later\n",
    "- put the summarized values to the calculated table from above: `table2_final`\n",
    "- give the columns the correct names"
   ]
  },
  {
   "cell_type": "code",
   "execution_count": 94,
   "metadata": {},
   "outputs": [
    {
     "name": "stderr",
     "output_type": "stream",
     "text": [
      "Warning message in base::as.numeric(x):\n",
      "\"NAs durch Umwandlung erzeugt\""
     ]
    }
   ],
   "source": [
    "tab_EU3 <- as.numeric(c(\"EU-27\", tab_EU3_1, tab_EU3_2, tab_EU3_3, tab_EU3_4))\n",
    "\n",
    "table2_final <- rbind(tab_EU3,table2_vers3)\n",
    "\n",
    "names(table2_final) <- c(\"\",\n",
    "                        \"All trips\", \n",
    "                        \"Short trips (1-3 nights)\",\n",
    "                        \"Long trips (4+ nights)\",\n",
    "                        \"Short domestic trips (1-3 nights)\",\n",
    "                        \"Long domestic trips (4+ nights)\",\n",
    "                        \"Short outbound trips (1-3 nights)\",\n",
    "                        \"Long outbound trips (4+ nights)\",\n",
    "                        \"Share of the population (aged 15+) taking part in tourism trips for personal purposes (%)\")"
   ]
  },
  {
   "cell_type": "markdown",
   "metadata": {},
   "source": [
    "- we have to convert the class, because we have to add \"EU-27\" and this only works by converting it from a factor first, then doing the change and re-convert it back"
   ]
  },
  {
   "cell_type": "code",
   "execution_count": 157,
   "metadata": {},
   "outputs": [
    {
     "data": {
      "text/html": [
       "<table>\n",
       "<caption>A matrix: 31 × 9 of type chr</caption>\n",
       "<thead>\n",
       "\t<tr><th scope=col></th><th scope=col>All trips</th><th scope=col>Short trips (1-3 nights)</th><th scope=col>Long trips (4+ nights)</th><th scope=col>Short domestic trips (1-3 nights)</th><th scope=col>Long domestic trips (4+ nights)</th><th scope=col>Short outbound trips (1-3 nights)</th><th scope=col>Long outbound trips (4+ nights)</th><th scope=col>Share of the population (aged 15+) taking part in tourism trips for personal purposes (%)</th></tr>\n",
       "</thead>\n",
       "<tbody>\n",
       "\t<tr><td>EU-27         </td><td>1130622</td><td>619562</td><td>511063</td><td>46.0</td><td>24.5</td><td> 8.8</td><td>20.7</td><td>65.1</td></tr>\n",
       "\t<tr><td>Belgium       </td><td>  16893</td><td>  7058</td><td>  9835</td><td>15.7</td><td> 6.8</td><td>26.1</td><td>51.4</td><td>67.7</td></tr>\n",
       "\t<tr><td>Bulgaria      </td><td>   5090</td><td>  2748</td><td>  2343</td><td>48.0</td><td>33.5</td><td> 6.0</td><td>12.5</td><td>33.8</td></tr>\n",
       "\t<tr><td>Czechia       </td><td>  34569</td><td> 21380</td><td> 13189</td><td>55.7</td><td>23.0</td><td> 6.2</td><td>15.2</td><td>78.1</td></tr>\n",
       "\t<tr><td>Denmark       </td><td>  18875</td><td> 10380</td><td>  8495</td><td>44.0</td><td>19.2</td><td>11.0</td><td>25.8</td><td>69.9</td></tr>\n",
       "\t<tr><td>Germany       </td><td> 267879</td><td>132289</td><td>135591</td><td>40.0</td><td>19.5</td><td> 9.4</td><td>31.1</td><td>75.3</td></tr>\n",
       "\t<tr><td>Estonia       </td><td>   6468</td><td>  5109</td><td>  1358</td><td>63.5</td><td> 4.5</td><td>15.5</td><td>16.5</td><td>79.5</td></tr>\n",
       "\t<tr><td>Ireland       </td><td>  15941</td><td> 10110</td><td>  5831</td><td>45.9</td><td> 8.0</td><td>17.5</td><td>28.6</td><td>74.7</td></tr>\n",
       "\t<tr><td>Greece        </td><td>   6565</td><td>  1834</td><td>  4731</td><td>25.0</td><td>61.7</td><td> 2.9</td><td>10.4</td><td>42.8</td></tr>\n",
       "\t<tr><td>Spain         </td><td> 156370</td><td>110284</td><td> 46086</td><td>66.9</td><td>22.6</td><td> 3.6</td><td> 6.9</td><td>67.4</td></tr>\n",
       "\t<tr><td>France        </td><td> 220225</td><td> 98403</td><td>121822</td><td>37.3</td><td>38.5</td><td> 7.4</td><td>16.9</td><td>74.3</td></tr>\n",
       "\t<tr><td>Croatia       </td><td>   5255</td><td>  2754</td><td>  2501</td><td>31.9</td><td>28.9</td><td>20.5</td><td>18.6</td><td>46.5</td></tr>\n",
       "\t<tr><td>Italy         </td><td>  68186</td><td> 35285</td><td> 32901</td><td>45.1</td><td>33.9</td><td> 6.7</td><td>14.4</td><td>44.9</td></tr>\n",
       "\t<tr><td>Cyprus        </td><td>   3001</td><td>  1717</td><td>  1284</td><td>44.7</td><td> 7.5</td><td>12.5</td><td>35.3</td><td>69.5</td></tr>\n",
       "\t<tr><td>Latvia        </td><td>   3952</td><td>  2952</td><td>  1000</td><td>58.6</td><td> 6.7</td><td>16.0</td><td>18.6</td><td>57.7</td></tr>\n",
       "\t<tr><td>Lithuania     </td><td>   4885</td><td>  2925</td><td>  1960</td><td>45.1</td><td> 9.0</td><td>14.8</td><td>31.1</td><td>57.3</td></tr>\n",
       "\t<tr><td>Luxembourg    </td><td>   2555</td><td>  1167</td><td>  1388</td><td> 1.5</td><td> 0.3</td><td>44.2</td><td>54.0</td><td>81.1</td></tr>\n",
       "\t<tr><td>Hungary       </td><td>  19230</td><td> 12506</td><td>  6724</td><td>46.2</td><td>15.8</td><td>18.9</td><td>19.2</td><td>57.6</td></tr>\n",
       "\t<tr><td>Malta         </td><td>    874</td><td>   391</td><td>   483</td><td>23.2</td><td> 4.9</td><td>21.6</td><td>50.3</td><td>65.5</td></tr>\n",
       "\t<tr><td>Netherlands   </td><td>  44551</td><td> 21955</td><td> 22596</td><td>37.3</td><td>15.9</td><td>12.0</td><td>34.9</td><td>85.0</td></tr>\n",
       "\t<tr><td>Austria       </td><td>  24391</td><td> 13395</td><td> 10997</td><td>36.8</td><td>14.4</td><td>18.1</td><td>30.7</td><td>76.6</td></tr>\n",
       "\t<tr><td>Poland        </td><td>  57910</td><td> 30364</td><td> 27546</td><td>48.3</td><td>31.1</td><td> 4.1</td><td>16.5</td><td>61.9</td></tr>\n",
       "\t<tr><td>Portugal      </td><td>  18298</td><td> 12846</td><td>  5452</td><td>66.3</td><td>21.8</td><td> 3.9</td><td> 8.0</td><td>44.8</td></tr>\n",
       "\t<tr><td>Romania       </td><td>  17902</td><td> 11291</td><td>  6612</td><td>62.3</td><td>31.7</td><td> 0.8</td><td> 5.2</td><td>27.0</td></tr>\n",
       "\t<tr><td>Slovenia      </td><td>   5191</td><td>  3203</td><td>  1988</td><td>32.1</td><td> 6.5</td><td>29.6</td><td>31.8</td><td>69.3</td></tr>\n",
       "\t<tr><td>Slovakia      </td><td>  12423</td><td>  7497</td><td>  4926</td><td>45.6</td><td>16.9</td><td>14.8</td><td>22.8</td><td>73.2</td></tr>\n",
       "\t<tr><td>Finland       </td><td>  38602</td><td> 27837</td><td> 10765</td><td>60.4</td><td>15.0</td><td>11.7</td><td>12.9</td><td>91.0</td></tr>\n",
       "\t<tr><td>Sweden        </td><td>  54541</td><td> 31882</td><td> 22659</td><td>47.2</td><td>18.3</td><td>11.3</td><td>23.3</td><td>84.9</td></tr>\n",
       "\t<tr><td>United Kingdom</td><td>NA     </td><td>NA    </td><td>NA    </td><td>NA  </td><td>NA  </td><td>NA  </td><td>NA  </td><td>64.1</td></tr>\n",
       "\t<tr><td>Norway        </td><td>  27084</td><td> 17813</td><td>  9270</td><td>53.6</td><td>16.5</td><td>12.2</td><td>17.7</td><td>92.5</td></tr>\n",
       "\t<tr><td>Switzerland   </td><td>  21946</td><td>  9605</td><td> 12341</td><td>19.6</td><td>10.8</td><td>24.2</td><td>45.5</td><td>89.8</td></tr>\n",
       "</tbody>\n",
       "</table>\n"
      ],
      "text/latex": [
       "A matrix: 31 × 9 of type chr\n",
       "\\begin{tabular}{lllllllll}\n",
       "  & All trips & Short trips (1-3 nights) & Long trips (4+ nights) & Short domestic trips (1-3 nights) & Long domestic trips (4+ nights) & Short outbound trips (1-3 nights) & Long outbound trips (4+ nights) & Share of the population (aged 15+) taking part in tourism trips for personal purposes (\\%)\\\\\n",
       "\\hline\n",
       "\t EU-27          & 1130622 & 619562 & 511063 & 46.0 & 24.5 &  8.8 & 20.7 & 65.1\\\\\n",
       "\t Belgium        &   16893 &   7058 &   9835 & 15.7 &  6.8 & 26.1 & 51.4 & 67.7\\\\\n",
       "\t Bulgaria       &    5090 &   2748 &   2343 & 48.0 & 33.5 &  6.0 & 12.5 & 33.8\\\\\n",
       "\t Czechia        &   34569 &  21380 &  13189 & 55.7 & 23.0 &  6.2 & 15.2 & 78.1\\\\\n",
       "\t Denmark        &   18875 &  10380 &   8495 & 44.0 & 19.2 & 11.0 & 25.8 & 69.9\\\\\n",
       "\t Germany        &  267879 & 132289 & 135591 & 40.0 & 19.5 &  9.4 & 31.1 & 75.3\\\\\n",
       "\t Estonia        &    6468 &   5109 &   1358 & 63.5 &  4.5 & 15.5 & 16.5 & 79.5\\\\\n",
       "\t Ireland        &   15941 &  10110 &   5831 & 45.9 &  8.0 & 17.5 & 28.6 & 74.7\\\\\n",
       "\t Greece         &    6565 &   1834 &   4731 & 25.0 & 61.7 &  2.9 & 10.4 & 42.8\\\\\n",
       "\t Spain          &  156370 & 110284 &  46086 & 66.9 & 22.6 &  3.6 &  6.9 & 67.4\\\\\n",
       "\t France         &  220225 &  98403 & 121822 & 37.3 & 38.5 &  7.4 & 16.9 & 74.3\\\\\n",
       "\t Croatia        &    5255 &   2754 &   2501 & 31.9 & 28.9 & 20.5 & 18.6 & 46.5\\\\\n",
       "\t Italy          &   68186 &  35285 &  32901 & 45.1 & 33.9 &  6.7 & 14.4 & 44.9\\\\\n",
       "\t Cyprus         &    3001 &   1717 &   1284 & 44.7 &  7.5 & 12.5 & 35.3 & 69.5\\\\\n",
       "\t Latvia         &    3952 &   2952 &   1000 & 58.6 &  6.7 & 16.0 & 18.6 & 57.7\\\\\n",
       "\t Lithuania      &    4885 &   2925 &   1960 & 45.1 &  9.0 & 14.8 & 31.1 & 57.3\\\\\n",
       "\t Luxembourg     &    2555 &   1167 &   1388 &  1.5 &  0.3 & 44.2 & 54.0 & 81.1\\\\\n",
       "\t Hungary        &   19230 &  12506 &   6724 & 46.2 & 15.8 & 18.9 & 19.2 & 57.6\\\\\n",
       "\t Malta          &     874 &    391 &    483 & 23.2 &  4.9 & 21.6 & 50.3 & 65.5\\\\\n",
       "\t Netherlands    &   44551 &  21955 &  22596 & 37.3 & 15.9 & 12.0 & 34.9 & 85.0\\\\\n",
       "\t Austria        &   24391 &  13395 &  10997 & 36.8 & 14.4 & 18.1 & 30.7 & 76.6\\\\\n",
       "\t Poland         &   57910 &  30364 &  27546 & 48.3 & 31.1 &  4.1 & 16.5 & 61.9\\\\\n",
       "\t Portugal       &   18298 &  12846 &   5452 & 66.3 & 21.8 &  3.9 &  8.0 & 44.8\\\\\n",
       "\t Romania        &   17902 &  11291 &   6612 & 62.3 & 31.7 &  0.8 &  5.2 & 27.0\\\\\n",
       "\t Slovenia       &    5191 &   3203 &   1988 & 32.1 &  6.5 & 29.6 & 31.8 & 69.3\\\\\n",
       "\t Slovakia       &   12423 &   7497 &   4926 & 45.6 & 16.9 & 14.8 & 22.8 & 73.2\\\\\n",
       "\t Finland        &   38602 &  27837 &  10765 & 60.4 & 15.0 & 11.7 & 12.9 & 91.0\\\\\n",
       "\t Sweden         &   54541 &  31882 &  22659 & 47.2 & 18.3 & 11.3 & 23.3 & 84.9\\\\\n",
       "\t United Kingdom & NA      & NA     & NA     & NA   & NA   & NA   & NA   & 64.1\\\\\n",
       "\t Norway         &   27084 &  17813 &   9270 & 53.6 & 16.5 & 12.2 & 17.7 & 92.5\\\\\n",
       "\t Switzerland    &   21946 &   9605 &  12341 & 19.6 & 10.8 & 24.2 & 45.5 & 89.8\\\\\n",
       "\\end{tabular}\n"
      ],
      "text/markdown": [
       "\n",
       "A matrix: 31 × 9 of type chr\n",
       "\n",
       "| <!----> | All trips | Short trips (1-3 nights) | Long trips (4+ nights) | Short domestic trips (1-3 nights) | Long domestic trips (4+ nights) | Short outbound trips (1-3 nights) | Long outbound trips (4+ nights) | Share of the population (aged 15+) taking part in tourism trips for personal purposes (%) |\n",
       "|---|---|---|---|---|---|---|---|---|\n",
       "| EU-27          | 1130622 | 619562 | 511063 | 46.0 | 24.5 |  8.8 | 20.7 | 65.1 |\n",
       "| Belgium        |   16893 |   7058 |   9835 | 15.7 |  6.8 | 26.1 | 51.4 | 67.7 |\n",
       "| Bulgaria       |    5090 |   2748 |   2343 | 48.0 | 33.5 |  6.0 | 12.5 | 33.8 |\n",
       "| Czechia        |   34569 |  21380 |  13189 | 55.7 | 23.0 |  6.2 | 15.2 | 78.1 |\n",
       "| Denmark        |   18875 |  10380 |   8495 | 44.0 | 19.2 | 11.0 | 25.8 | 69.9 |\n",
       "| Germany        |  267879 | 132289 | 135591 | 40.0 | 19.5 |  9.4 | 31.1 | 75.3 |\n",
       "| Estonia        |    6468 |   5109 |   1358 | 63.5 |  4.5 | 15.5 | 16.5 | 79.5 |\n",
       "| Ireland        |   15941 |  10110 |   5831 | 45.9 |  8.0 | 17.5 | 28.6 | 74.7 |\n",
       "| Greece         |    6565 |   1834 |   4731 | 25.0 | 61.7 |  2.9 | 10.4 | 42.8 |\n",
       "| Spain          |  156370 | 110284 |  46086 | 66.9 | 22.6 |  3.6 |  6.9 | 67.4 |\n",
       "| France         |  220225 |  98403 | 121822 | 37.3 | 38.5 |  7.4 | 16.9 | 74.3 |\n",
       "| Croatia        |    5255 |   2754 |   2501 | 31.9 | 28.9 | 20.5 | 18.6 | 46.5 |\n",
       "| Italy          |   68186 |  35285 |  32901 | 45.1 | 33.9 |  6.7 | 14.4 | 44.9 |\n",
       "| Cyprus         |    3001 |   1717 |   1284 | 44.7 |  7.5 | 12.5 | 35.3 | 69.5 |\n",
       "| Latvia         |    3952 |   2952 |   1000 | 58.6 |  6.7 | 16.0 | 18.6 | 57.7 |\n",
       "| Lithuania      |    4885 |   2925 |   1960 | 45.1 |  9.0 | 14.8 | 31.1 | 57.3 |\n",
       "| Luxembourg     |    2555 |   1167 |   1388 |  1.5 |  0.3 | 44.2 | 54.0 | 81.1 |\n",
       "| Hungary        |   19230 |  12506 |   6724 | 46.2 | 15.8 | 18.9 | 19.2 | 57.6 |\n",
       "| Malta          |     874 |    391 |    483 | 23.2 |  4.9 | 21.6 | 50.3 | 65.5 |\n",
       "| Netherlands    |   44551 |  21955 |  22596 | 37.3 | 15.9 | 12.0 | 34.9 | 85.0 |\n",
       "| Austria        |   24391 |  13395 |  10997 | 36.8 | 14.4 | 18.1 | 30.7 | 76.6 |\n",
       "| Poland         |   57910 |  30364 |  27546 | 48.3 | 31.1 |  4.1 | 16.5 | 61.9 |\n",
       "| Portugal       |   18298 |  12846 |   5452 | 66.3 | 21.8 |  3.9 |  8.0 | 44.8 |\n",
       "| Romania        |   17902 |  11291 |   6612 | 62.3 | 31.7 |  0.8 |  5.2 | 27.0 |\n",
       "| Slovenia       |    5191 |   3203 |   1988 | 32.1 |  6.5 | 29.6 | 31.8 | 69.3 |\n",
       "| Slovakia       |   12423 |   7497 |   4926 | 45.6 | 16.9 | 14.8 | 22.8 | 73.2 |\n",
       "| Finland        |   38602 |  27837 |  10765 | 60.4 | 15.0 | 11.7 | 12.9 | 91.0 |\n",
       "| Sweden         |   54541 |  31882 |  22659 | 47.2 | 18.3 | 11.3 | 23.3 | 84.9 |\n",
       "| United Kingdom | NA      | NA     | NA     | NA   | NA   | NA   | NA   | 64.1 |\n",
       "| Norway         |   27084 |  17813 |   9270 | 53.6 | 16.5 | 12.2 | 17.7 | 92.5 |\n",
       "| Switzerland    |   21946 |   9605 |  12341 | 19.6 | 10.8 | 24.2 | 45.5 | 89.8 |\n",
       "\n"
      ],
      "text/plain": [
       "                     All trips Short trips (1-3 nights) Long trips (4+ nights)\n",
       " [1,] EU-27          1130622   619562                   511063                \n",
       " [2,] Belgium          16893     7058                     9835                \n",
       " [3,] Bulgaria          5090     2748                     2343                \n",
       " [4,] Czechia          34569    21380                    13189                \n",
       " [5,] Denmark          18875    10380                     8495                \n",
       " [6,] Germany         267879   132289                   135591                \n",
       " [7,] Estonia           6468     5109                     1358                \n",
       " [8,] Ireland          15941    10110                     5831                \n",
       " [9,] Greece            6565     1834                     4731                \n",
       "[10,] Spain           156370   110284                    46086                \n",
       "[11,] France          220225    98403                   121822                \n",
       "[12,] Croatia           5255     2754                     2501                \n",
       "[13,] Italy            68186    35285                    32901                \n",
       "[14,] Cyprus            3001     1717                     1284                \n",
       "[15,] Latvia            3952     2952                     1000                \n",
       "[16,] Lithuania         4885     2925                     1960                \n",
       "[17,] Luxembourg        2555     1167                     1388                \n",
       "[18,] Hungary          19230    12506                     6724                \n",
       "[19,] Malta              874      391                      483                \n",
       "[20,] Netherlands      44551    21955                    22596                \n",
       "[21,] Austria          24391    13395                    10997                \n",
       "[22,] Poland           57910    30364                    27546                \n",
       "[23,] Portugal         18298    12846                     5452                \n",
       "[24,] Romania          17902    11291                     6612                \n",
       "[25,] Slovenia          5191     3203                     1988                \n",
       "[26,] Slovakia         12423     7497                     4926                \n",
       "[27,] Finland          38602    27837                    10765                \n",
       "[28,] Sweden           54541    31882                    22659                \n",
       "[29,] United Kingdom NA        NA                       NA                    \n",
       "[30,] Norway           27084    17813                     9270                \n",
       "[31,] Switzerland      21946     9605                    12341                \n",
       "      Short domestic trips (1-3 nights) Long domestic trips (4+ nights)\n",
       " [1,] 46.0                              24.5                           \n",
       " [2,] 15.7                               6.8                           \n",
       " [3,] 48.0                              33.5                           \n",
       " [4,] 55.7                              23.0                           \n",
       " [5,] 44.0                              19.2                           \n",
       " [6,] 40.0                              19.5                           \n",
       " [7,] 63.5                               4.5                           \n",
       " [8,] 45.9                               8.0                           \n",
       " [9,] 25.0                              61.7                           \n",
       "[10,] 66.9                              22.6                           \n",
       "[11,] 37.3                              38.5                           \n",
       "[12,] 31.9                              28.9                           \n",
       "[13,] 45.1                              33.9                           \n",
       "[14,] 44.7                               7.5                           \n",
       "[15,] 58.6                               6.7                           \n",
       "[16,] 45.1                               9.0                           \n",
       "[17,]  1.5                               0.3                           \n",
       "[18,] 46.2                              15.8                           \n",
       "[19,] 23.2                               4.9                           \n",
       "[20,] 37.3                              15.9                           \n",
       "[21,] 36.8                              14.4                           \n",
       "[22,] 48.3                              31.1                           \n",
       "[23,] 66.3                              21.8                           \n",
       "[24,] 62.3                              31.7                           \n",
       "[25,] 32.1                               6.5                           \n",
       "[26,] 45.6                              16.9                           \n",
       "[27,] 60.4                              15.0                           \n",
       "[28,] 47.2                              18.3                           \n",
       "[29,] NA                                NA                             \n",
       "[30,] 53.6                              16.5                           \n",
       "[31,] 19.6                              10.8                           \n",
       "      Short outbound trips (1-3 nights) Long outbound trips (4+ nights)\n",
       " [1,]  8.8                              20.7                           \n",
       " [2,] 26.1                              51.4                           \n",
       " [3,]  6.0                              12.5                           \n",
       " [4,]  6.2                              15.2                           \n",
       " [5,] 11.0                              25.8                           \n",
       " [6,]  9.4                              31.1                           \n",
       " [7,] 15.5                              16.5                           \n",
       " [8,] 17.5                              28.6                           \n",
       " [9,]  2.9                              10.4                           \n",
       "[10,]  3.6                               6.9                           \n",
       "[11,]  7.4                              16.9                           \n",
       "[12,] 20.5                              18.6                           \n",
       "[13,]  6.7                              14.4                           \n",
       "[14,] 12.5                              35.3                           \n",
       "[15,] 16.0                              18.6                           \n",
       "[16,] 14.8                              31.1                           \n",
       "[17,] 44.2                              54.0                           \n",
       "[18,] 18.9                              19.2                           \n",
       "[19,] 21.6                              50.3                           \n",
       "[20,] 12.0                              34.9                           \n",
       "[21,] 18.1                              30.7                           \n",
       "[22,]  4.1                              16.5                           \n",
       "[23,]  3.9                               8.0                           \n",
       "[24,]  0.8                               5.2                           \n",
       "[25,] 29.6                              31.8                           \n",
       "[26,] 14.8                              22.8                           \n",
       "[27,] 11.7                              12.9                           \n",
       "[28,] 11.3                              23.3                           \n",
       "[29,] NA                                NA                             \n",
       "[30,] 12.2                              17.7                           \n",
       "[31,] 24.2                              45.5                           \n",
       "      Share of the population (aged 15+) taking part in tourism trips for personal purposes (%)\n",
       " [1,] 65.1                                                                                     \n",
       " [2,] 67.7                                                                                     \n",
       " [3,] 33.8                                                                                     \n",
       " [4,] 78.1                                                                                     \n",
       " [5,] 69.9                                                                                     \n",
       " [6,] 75.3                                                                                     \n",
       " [7,] 79.5                                                                                     \n",
       " [8,] 74.7                                                                                     \n",
       " [9,] 42.8                                                                                     \n",
       "[10,] 67.4                                                                                     \n",
       "[11,] 74.3                                                                                     \n",
       "[12,] 46.5                                                                                     \n",
       "[13,] 44.9                                                                                     \n",
       "[14,] 69.5                                                                                     \n",
       "[15,] 57.7                                                                                     \n",
       "[16,] 57.3                                                                                     \n",
       "[17,] 81.1                                                                                     \n",
       "[18,] 57.6                                                                                     \n",
       "[19,] 65.5                                                                                     \n",
       "[20,] 85.0                                                                                     \n",
       "[21,] 76.6                                                                                     \n",
       "[22,] 61.9                                                                                     \n",
       "[23,] 44.8                                                                                     \n",
       "[24,] 27.0                                                                                     \n",
       "[25,] 69.3                                                                                     \n",
       "[26,] 73.2                                                                                     \n",
       "[27,] 91.0                                                                                     \n",
       "[28,] 84.9                                                                                     \n",
       "[29,] 64.1                                                                                     \n",
       "[30,] 92.5                                                                                     \n",
       "[31,] 89.8                                                                                     "
      ]
     },
     "metadata": {},
     "output_type": "display_data"
    }
   ],
   "source": [
    "table2_final[,1] <- as.character(table2_final[,1])\n",
    "table2_final[1,1] <- \"EU-27\"\n",
    "table2_final[,1] <- factor(table2_final[,1])\n",
    "\n",
    "as.matrix(table2_final)"
   ]
  },
  {
   "cell_type": "markdown",
   "metadata": {},
   "source": [
    "## Tourism participation: More than nine out of ten residents of Finland participated in tourism\n",
    "\n",
    "### create figure 5\n",
    "\n",
    "#### First step:\n",
    "We calculated the needed data already for `table2_final` (last column)\n",
    "- but Albania and North Mazedonia are missing and we have to do the same analysis like above for the both countries "
   ]
  },
  {
   "cell_type": "code",
   "execution_count": 96,
   "metadata": {},
   "outputs": [],
   "source": [
    "countr_tab2_2_4 <- c(\"AL\",\"MK\")\n",
    "data_2_col4_4 <- subset(data_3, \n",
    "                    data_3$geo %in% countr_tab2_2_4 & \n",
    "                    data_3$year==2018 &\n",
    "                    data_3$duration==\"N_GE1\"&\n",
    "                    data_3$unit==\"PC_POP\"&\n",
    "                    data_3$partner==\"WORLD\")\n",
    "data_2_col4_4 <- data_2_col4_4[,c(4,6)]"
   ]
  },
  {
   "cell_type": "markdown",
   "metadata": {},
   "source": [
    "- Bring the column from the table above in the order, the graph shows. We create therefore a new country vector `countr_fig5`\n",
    "- Match the EU-value \"tab_EU3[9]\", the ordered column from above `data_tab2_part4.1` and the two additional countries `data_2_col4_4` in `data_tab2_part5`"
   ]
  },
  {
   "cell_type": "code",
   "execution_count": 97,
   "metadata": {},
   "outputs": [
    {
     "name": "stderr",
     "output_type": "stream",
     "text": [
      "Warning message in `[<-.factor`(`*tmp*`, ri, value = 65.1):\n",
      "\"invalid factor level, NA generated\""
     ]
    }
   ],
   "source": [
    "countr_fig5 <- c(\"EU-27\",\"FI\", \"NL\",\"SE\",\"LU\",\"EE\",\"CZ\",\"AT\",\"DE\",\"IE\",\"FR\",\"SK\",\"DK\",\"CY\",\"SI\",\"BE\",\"ES\",\"MT\",\"PL\",\"LV\",\n",
    "                 \"HU\",\"LT\",\"HR\",\"IT\",\"PT\",\"EL\",\"BG\",\"RO\", \"UK\", \"NO\",\"CH\",\"AL\",\"MK\")\n",
    "data_tab2_part4.1 <- data_tab2_part4[order(factor(data_tab2_part4$geo, levels= countr_fig5)),]\n",
    "\n",
    "data_tab2_part5 <- rbind(tab_EU3[9], data_tab2_part4.1, data_2_col4_4)"
   ]
  },
  {
   "cell_type": "markdown",
   "metadata": {},
   "source": [
    "We have to convert the class, because we have to add \"EU-27\" and this only works by converting it from a factor first, then doing the change and re-convert it back."
   ]
  },
  {
   "cell_type": "code",
   "execution_count": 98,
   "metadata": {},
   "outputs": [
    {
     "data": {
      "text/html": [
       "<table>\n",
       "<caption>A tibble: 6 × 2</caption>\n",
       "<thead>\n",
       "\t<tr><th scope=col>geo</th><th scope=col>values</th></tr>\n",
       "\t<tr><th scope=col>&lt;fct&gt;</th><th scope=col>&lt;dbl&gt;</th></tr>\n",
       "</thead>\n",
       "<tbody>\n",
       "\t<tr><td>EU-27</td><td>65.1</td></tr>\n",
       "\t<tr><td>FI   </td><td>91.0</td></tr>\n",
       "\t<tr><td>NL   </td><td>85.0</td></tr>\n",
       "\t<tr><td>SE   </td><td>84.9</td></tr>\n",
       "\t<tr><td>LU   </td><td>81.1</td></tr>\n",
       "\t<tr><td>EE   </td><td>79.5</td></tr>\n",
       "</tbody>\n",
       "</table>\n"
      ],
      "text/latex": [
       "A tibble: 6 × 2\n",
       "\\begin{tabular}{ll}\n",
       " geo & values\\\\\n",
       " <fct> & <dbl>\\\\\n",
       "\\hline\n",
       "\t EU-27 & 65.1\\\\\n",
       "\t FI    & 91.0\\\\\n",
       "\t NL    & 85.0\\\\\n",
       "\t SE    & 84.9\\\\\n",
       "\t LU    & 81.1\\\\\n",
       "\t EE    & 79.5\\\\\n",
       "\\end{tabular}\n"
      ],
      "text/markdown": [
       "\n",
       "A tibble: 6 × 2\n",
       "\n",
       "| geo &lt;fct&gt; | values &lt;dbl&gt; |\n",
       "|---|---|\n",
       "| EU-27 | 65.1 |\n",
       "| FI    | 91.0 |\n",
       "| NL    | 85.0 |\n",
       "| SE    | 84.9 |\n",
       "| LU    | 81.1 |\n",
       "| EE    | 79.5 |\n",
       "\n"
      ],
      "text/plain": [
       "  geo   values\n",
       "1 EU-27 65.1  \n",
       "2 FI    91.0  \n",
       "3 NL    85.0  \n",
       "4 SE    84.9  \n",
       "5 LU    81.1  \n",
       "6 EE    79.5  "
      ]
     },
     "metadata": {},
     "output_type": "display_data"
    }
   ],
   "source": [
    "data_tab2_part5[,1] <- as.character(data_tab2_part5[,1])\n",
    "data_tab2_part5[1,1] <- \"EU-27\"\n",
    "data_tab2_part5[,1] <- factor(countr_fig5)\n",
    "\n",
    "head(data_tab2_part5)"
   ]
  },
  {
   "cell_type": "markdown",
   "metadata": {},
   "source": [
    "#### Second step:\n",
    "Bring the countries in the order the graph shows. You can do this due to modify the levels of the variable \"geo\"."
   ]
  },
  {
   "cell_type": "code",
   "execution_count": 99,
   "metadata": {},
   "outputs": [],
   "source": [
    "data_tab2_part5$geo <- factor(data_tab2_part5$geo,\n",
    "                        levels = c(\"EU-27\",\"FI\", \"NL\",\"SE\",\"LU\",\"EE\",\"CZ\",\"AT\",\"DE\",\"IE\",\"FR\",\"SK\",\"DK\",\"CY\",\"SI\",\"BE\",\n",
    "                                   \"ES\",\"MT\",\"PL\",\"LV\",\"HU\",\"LT\",\"HR\",\"IT\",\"PT\",\"EL\",\"BG\",\"RO\", \"UK\", \"NO\",\"CH\",\"AL\",\"MK\"))\n"
   ]
  },
  {
   "cell_type": "markdown",
   "metadata": {},
   "source": [
    "Plot the graph via ggplot"
   ]
  },
  {
   "cell_type": "code",
   "execution_count": 100,
   "metadata": {},
   "outputs": [
    {
     "data": {
      "image/png": "[encoded data removed]",
      "text/plain": [
       "plot without title"
      ]
     },
     "metadata": {},
     "output_type": "display_data"
    }
   ],
   "source": [
    "ggplot(data_tab2_part5, aes(x=geo,y=values)) +\n",
    "            geom_bar(stat = \"identity\", position=\"dodge\", width=0.5, fill=\"steelblue3\") +\n",
    "            scale_y_continuous(limits = c(0, 100), breaks = seq(0, 100, by = 10)) +\n",
    "            ggtitle(\"Share of population participating in tourism, 2018\",\n",
    "                   subtitle=\"(% of population aged 15 years or more)\") +\n",
    "            coord_flip()+\n",
    "            scale_x_discrete(limits = rev(levels(data_tab2_part5$geo)),\n",
    "                             labels = c(\"North Macedonia\", \"Albania\", \"Switzerland\", \"Norway\", \"United Kingdom\", \n",
    "                                        \"Romania\", \"Bulgaria\", \"Greece\", \"Portugal\", \"Italy\", \"Croatia\", \"Lithuania\", \n",
    "                                        \"Hungary\", \"Latvia\", \"Poland\", \"Malta\", \"Spain\", \"Belgium\", \"Slovenia\", \"Cyprus\", \n",
    "                                        \"Denmark\", \"Slovakia\", \"France\", \"Ireland\", \"Germany\", \"Austria\", \"Czechia\", \n",
    "                                        \"Estonia\", \"Luxembourg\", \"Sweden\", \"Netherlands\", \"Finland\", \"EU-27\")) +\n",
    "            ylab(\" \") +\n",
    "            xlab(\" \") +\n",
    "            theme(panel.grid.major.x = element_line(color=\"grey\"),\n",
    "                  panel.background = element_rect(fill = NA),\n",
    "                  axis.line = element_line(colour = \"white\"),\n",
    "                  axis.ticks = element_line(colour= \"white\")) "
   ]
  },
  {
   "cell_type": "markdown",
   "metadata": {},
   "source": [
    "## Nights spent abroad by EU-27 residents: Luxembourg leads in nights per inhabitant\n",
    "\n",
    "### create figure 6\n",
    "\n",
    "#### First step:\n",
    "- load the data `data_fig6`\n",
    "- again we add a year-column"
   ]
  },
  {
   "cell_type": "code",
   "execution_count": 101,
   "metadata": {},
   "outputs": [
    {
     "name": "stderr",
     "output_type": "stream",
     "text": [
      "Table tour_dem_tntot cached at C:\\Users\\sarah\\AppData\\Local\\Temp\\Rtmp0oFI1n/eurostat/tour_dem_tntot_date_code_TF.rds\n"
     ]
    }
   ],
   "source": [
    "data_fig6 <- get_eurostat(id=\"tour_dem_tntot\")\n",
    "\n",
    "data_fig6$year <- as.integer(substr(data_fig6$time,1,4))"
   ]
  },
  {
   "cell_type": "markdown",
   "metadata": {},
   "source": [
    "Create a new contry vector `countr_fig6` and exclude the countries, which need data from 2017. Build the subset `data_fig6_subs`"
   ]
  },
  {
   "cell_type": "code",
   "execution_count": 102,
   "metadata": {},
   "outputs": [],
   "source": [
    "countr_fig6 <- countr <- c(\"ES\",\"IT\",\"FR\",\"EL\",\"AT\",\"DE\",\"HR\",\"PT\",\"NL\",\"CZ\",\"BE\",\"BG\",\"IE\",\"CY\",\"SE\",\"HU\",\"DK\",\"SI\",\n",
    "                           \"MT\",\"FI\",\"SK\",\"EE\",\"LV\",\"LT\",\"LU\",\"UK\",\"CH\",\"NO\",\"IS\",\"LI\",\"TR\",\"ME\",\"RS\",\"MK\",\"XK\")\n",
    "data_fig6_subs <- subset(data_fig6, \n",
    "                    data_fig6$geo %in% countr_fig6 & \n",
    "                    data_fig6$year==2018 &\n",
    "                    data_fig6$purpose==\"TOTAL\" &\n",
    "                    data_fig6$duration==\"N_GE1\"&\n",
    "                    data_fig6$unit==\"NR\"&\n",
    "                    data_fig6$partner==\"OUT\")\n",
    "data_fig6_subs <- data_fig6_subs[,c(5,7)]"
   ]
  },
  {
   "cell_type": "markdown",
   "metadata": {},
   "source": [
    "For Poland (`countr_fig6_2`) we need data from 2017. Build the subset `data_fig6_subs2`"
   ]
  },
  {
   "cell_type": "code",
   "execution_count": 103,
   "metadata": {},
   "outputs": [],
   "source": [
    "countr_fig6_2 <- c(\"PL\",\"RO\")\n",
    "data_fig6_subs2 <- subset(data_fig6, \n",
    "                    data_fig6$geo %in% countr_fig6_2 & \n",
    "                    data_fig6$year==2017 &\n",
    "                    data_fig6$purpose==\"TOTAL\" &\n",
    "                    data_fig6$duration==\"N_GE1\"&\n",
    "                    data_fig6$unit==\"NR\"&\n",
    "                    data_fig6$partner==\"OUT\")\n",
    "data_fig6_subs2 <- data_fig6_subs2[,c(5,7)]"
   ]
  },
  {
   "cell_type": "markdown",
   "metadata": {},
   "source": [
    "Match the two calculated subsets in `data_fig6_subs`"
   ]
  },
  {
   "cell_type": "code",
   "execution_count": 104,
   "metadata": {},
   "outputs": [
    {
     "data": {
      "text/html": [
       "<table>\n",
       "<caption>A tibble: 6 × 2</caption>\n",
       "<thead>\n",
       "\t<tr><th scope=col>geo</th><th scope=col>values</th></tr>\n",
       "\t<tr><th scope=col>&lt;fct&gt;</th><th scope=col>&lt;dbl&gt;</th></tr>\n",
       "</thead>\n",
       "<tbody>\n",
       "\t<tr><td>AT</td><td> 74626464</td></tr>\n",
       "\t<tr><td>BE</td><td>104276180</td></tr>\n",
       "\t<tr><td>BG</td><td>  6397986</td></tr>\n",
       "\t<tr><td>CH</td><td>118774558</td></tr>\n",
       "\t<tr><td>CY</td><td> 11955548</td></tr>\n",
       "\t<tr><td>CZ</td><td> 46994452</td></tr>\n",
       "</tbody>\n",
       "</table>\n"
      ],
      "text/latex": [
       "A tibble: 6 × 2\n",
       "\\begin{tabular}{ll}\n",
       " geo & values\\\\\n",
       " <fct> & <dbl>\\\\\n",
       "\\hline\n",
       "\t AT &  74626464\\\\\n",
       "\t BE & 104276180\\\\\n",
       "\t BG &   6397986\\\\\n",
       "\t CH & 118774558\\\\\n",
       "\t CY &  11955548\\\\\n",
       "\t CZ &  46994452\\\\\n",
       "\\end{tabular}\n"
      ],
      "text/markdown": [
       "\n",
       "A tibble: 6 × 2\n",
       "\n",
       "| geo &lt;fct&gt; | values &lt;dbl&gt; |\n",
       "|---|---|\n",
       "| AT |  74626464 |\n",
       "| BE | 104276180 |\n",
       "| BG |   6397986 |\n",
       "| CH | 118774558 |\n",
       "| CY |  11955548 |\n",
       "| CZ |  46994452 |\n",
       "\n"
      ],
      "text/plain": [
       "  geo values   \n",
       "1 AT   74626464\n",
       "2 BE  104276180\n",
       "3 BG    6397986\n",
       "4 CH  118774558\n",
       "5 CY   11955548\n",
       "6 CZ   46994452"
      ]
     },
     "metadata": {},
     "output_type": "display_data"
    }
   ],
   "source": [
    "data_fig6_subs <- rbind(data_fig6_subs,data_fig6_subs2)\n",
    "\n",
    "head(data_fig6_subs)"
   ]
  },
  {
   "cell_type": "markdown",
   "metadata": {},
   "source": [
    "#### Second step:\n",
    "Calculate the EU-27 value by summing up\n",
    "- create a vector, which indicates due to FALSE and TRUE at the exact position, which countries of `data_fig6_subs` are within `EU_27`: `EU_27_prep4`\n",
    "- by using the sapply-command we can calculate the sum: `tab_EU4`"
   ]
  },
  {
   "cell_type": "code",
   "execution_count": 105,
   "metadata": {},
   "outputs": [],
   "source": [
    "EU_27_prep4 <- data_fig6_subs$geo %in% EU_27\n",
    "\n",
    "tab_EU4 <- sapply(as.data.frame(data_fig6_subs[EU_27_prep4,2]),sum)"
   ]
  },
  {
   "cell_type": "markdown",
   "metadata": {},
   "source": [
    "Add a column with the ratio we need for the pie chart\n",
    "- build the ratio `tab_ratio2`\n",
    "- just keep the EU-countries\n",
    "- sort the values decreasing\n",
    "- keep the top 9 countries (`tab_ratio_top9_2`) and summing up the others to \"Rest of EU-27\" (`tab_ratio_other_2_sum`) by using again the sapply command\n",
    "- add the sum to the top 9: `tab_ratio_new_2`"
   ]
  },
  {
   "cell_type": "code",
   "execution_count": 106,
   "metadata": {},
   "outputs": [
    {
     "name": "stderr",
     "output_type": "stream",
     "text": [
      "Warning message in `[<-.factor`(`*tmp*`, ri, value = 15.3142164698757):\n",
      "\"invalid factor level, NA generated\""
     ]
    },
    {
     "data": {
      "text/html": [
       "<table>\n",
       "<caption>A data.frame: 10 × 2</caption>\n",
       "<thead>\n",
       "\t<tr><th></th><th scope=col>geo</th><th scope=col>values</th></tr>\n",
       "\t<tr><th></th><th scope=col>&lt;fct&gt;</th><th scope=col>&lt;dbl&gt;</th></tr>\n",
       "</thead>\n",
       "<tbody>\n",
       "\t<tr><th scope=row>7</th><td>DE</td><td>35.407430</td></tr>\n",
       "\t<tr><th scope=row>13</th><td>FR</td><td>15.544253</td></tr>\n",
       "\t<tr><th scope=row>22</th><td>NL</td><td> 7.500622</td></tr>\n",
       "\t<tr><th scope=row>25</th><td>SE</td><td> 5.559875</td></tr>\n",
       "\t<tr><th scope=row>11</th><td>ES</td><td> 4.806601</td></tr>\n",
       "\t<tr><th scope=row>28</th><td>PL</td><td> 4.630022</td></tr>\n",
       "\t<tr><th scope=row>17</th><td>IT</td><td> 4.284631</td></tr>\n",
       "\t<tr><th scope=row>2</th><td>BE</td><td> 4.052285</td></tr>\n",
       "\t<tr><th scope=row>1</th><td>AT</td><td> 2.900065</td></tr>\n",
       "\t<tr><th scope=row>10</th><td>NA</td><td>15.314216</td></tr>\n",
       "</tbody>\n",
       "</table>\n"
      ],
      "text/latex": [
       "A data.frame: 10 × 2\n",
       "\\begin{tabular}{r|ll}\n",
       "  & geo & values\\\\\n",
       "  & <fct> & <dbl>\\\\\n",
       "\\hline\n",
       "\t7 & DE & 35.407430\\\\\n",
       "\t13 & FR & 15.544253\\\\\n",
       "\t22 & NL &  7.500622\\\\\n",
       "\t25 & SE &  5.559875\\\\\n",
       "\t11 & ES &  4.806601\\\\\n",
       "\t28 & PL &  4.630022\\\\\n",
       "\t17 & IT &  4.284631\\\\\n",
       "\t2 & BE &  4.052285\\\\\n",
       "\t1 & AT &  2.900065\\\\\n",
       "\t10 & NA & 15.314216\\\\\n",
       "\\end{tabular}\n"
      ],
      "text/markdown": [
       "\n",
       "A data.frame: 10 × 2\n",
       "\n",
       "| <!--/--> | geo &lt;fct&gt; | values &lt;dbl&gt; |\n",
       "|---|---|---|\n",
       "| 7 | DE | 35.407430 |\n",
       "| 13 | FR | 15.544253 |\n",
       "| 22 | NL |  7.500622 |\n",
       "| 25 | SE |  5.559875 |\n",
       "| 11 | ES |  4.806601 |\n",
       "| 28 | PL |  4.630022 |\n",
       "| 17 | IT |  4.284631 |\n",
       "| 2 | BE |  4.052285 |\n",
       "| 1 | AT |  2.900065 |\n",
       "| 10 | NA | 15.314216 |\n",
       "\n"
      ],
      "text/plain": [
       "   geo values   \n",
       "7  DE  35.407430\n",
       "13 FR  15.544253\n",
       "22 NL   7.500622\n",
       "25 SE   5.559875\n",
       "11 ES   4.806601\n",
       "28 PL   4.630022\n",
       "17 IT   4.284631\n",
       "2  BE   4.052285\n",
       "1  AT   2.900065\n",
       "10 NA  15.314216"
      ]
     },
     "metadata": {},
     "output_type": "display_data"
    }
   ],
   "source": [
    "tab_ratio2 <- cbind(data_fig6_subs,data_fig6_subs[2]/tab_EU4*100)\n",
    "\n",
    "tab_ratio2 <- tab_ratio2[EU_27_prep4,]\n",
    "\n",
    "tab_ratio2 <- tab_ratio2[order(tab_ratio2[,3], decreasing=T),]\n",
    "\n",
    "tab_ratio_top9_2 <- tab_ratio2[1:9,]\n",
    "tab_ratio_other_2 <- tab_ratio2[10:27,]\n",
    "tab_ratio_other_2_sum <- sapply(as.data.frame(tab_ratio_other_2[,3]),sum)\n",
    "\n",
    "tab_ratio_new_2 <- rbind(tab_ratio_top9_2[,c(1,3)], tab_ratio_other_2_sum)\n",
    "tab_ratio_new_2"
   ]
  },
  {
   "cell_type": "markdown",
   "metadata": {},
   "source": [
    "Create the labels we need for the pie chart \n",
    "- round the values and put a \"%\" behind it: `label_pie2_1`\n",
    "- create a vector with the needed country names: `label_pie2_2`\n",
    "- combine the both created label parts: `label_pie2_3`"
   ]
  },
  {
   "cell_type": "code",
   "execution_count": 107,
   "metadata": {},
   "outputs": [],
   "source": [
    "label_pie2_1 <- paste(round(tab_ratio_new_2$values,0), \"%\")\n",
    "\n",
    "label_pie2_2 <- c(\"Germany\",\"France\",\"Netherlands\",\"Sweden\",\"Spain\",\"Poland\",\"Italy\",\"Belgium\",\n",
    "                  \"Austria\",\"Rest of EU-27\")\n",
    "\n",
    "label_pie2_3 <- paste(label_pie2_2,\"\\n\",label_pie2_1) #we can use a \"/n\" to get a line break"
   ]
  },
  {
   "cell_type": "markdown",
   "metadata": {},
   "source": [
    "#### Third step:\n",
    "Create variables for the position of the labels in the pie chart. Additionally change the colors in the vector `colors`, as you want.\n",
    " \n",
    "Plot the pie chart"
   ]
  },
  {
   "cell_type": "code",
   "execution_count": 223,
   "metadata": {},
   "outputs": [
    {
     "data": {
      "image/png": "[encoded data removed]",
      "text/plain": [
       "plot without title"
      ]
     },
     "metadata": {},
     "output_type": "display_data"
    }
   ],
   "source": [
    "tab_ratio_new_2 <- tab_ratio_new_2 %>% \n",
    "  mutate(end = 2 * pi * cumsum(values)/sum(values),\n",
    "         start = lag(end, default = 0),\n",
    "         middle = 0.5 * (start + end),\n",
    "         hjust = ifelse(middle > pi, 1, 0),\n",
    "         vjust = ifelse(middle < pi/2 | middle > 3 * pi/2, 0, 1))\n",
    "\n",
    "colors <- c(\"deepskyblue1\",\"skyblue1\",\"lightblue1\",\"tomato2\",\"tan1\",\"peachpuff1\",\"dodgerblue3\",\"blue\",\"tan\")\n",
    "\n",
    "ggplot(tab_ratio_new_2) + \n",
    "  geom_arc_bar(aes(x0 = 0, y0 = 0, r0 = 0, r = 1,\n",
    "                   start = start, end = end, fill = geo)) +\n",
    "  geom_text(aes(x = 1.05 * sin(middle), y = 1.05 * cos(middle), label = label_pie2_3,\n",
    "                hjust = hjust, vjust = vjust)) +\n",
    "  scale_fill_manual(values=colors) +\n",
    "  coord_fixed() +\n",
    "  scale_x_continuous(limits = c(-1.5, 1.4),        #Adjust so labels are not cut off\n",
    "                     name = \"\", breaks = NULL, labels = NULL) +\n",
    "  scale_y_continuous(limits = c(-1.15, 1.05),      #Adjust so labels are not cut off\n",
    "                     name = \"\", breaks = NULL, labels = NULL) +\n",
    "  ylab(\" \") +\n",
    "  xlab(\" \") +\n",
    "  theme_classic() + \n",
    "  theme(legend.position = \"none\",\n",
    "        axis.line = element_blank(),\n",
    "        axis.text = element_blank(),\n",
    "        axis.ticks = element_blank(),\n",
    "        panel.grid  = element_blank()) +\n",
    "  ggtitle(\"Share of nights spent during outbound holidays of Europeans, by country of residence of the tourist, 2018\",\n",
    "         subtitle=\"(% of nights spent abroad by residents of the EU-27)\")\n",
    "\n"
   ]
  },
  {
   "cell_type": "markdown",
   "metadata": {},
   "source": [
    "### create figure 7\n",
    "\n",
    "#### First step:\n",
    "We need the number of population by people aged over 15 years.\n",
    "- load the data: `data_fig7`\n",
    "- add again a year-column\n",
    "- create a new country vector: `countr_fig7`"
   ]
  },
  {
   "cell_type": "code",
   "execution_count": 109,
   "metadata": {
    "scrolled": true
   },
   "outputs": [
    {
     "name": "stderr",
     "output_type": "stream",
     "text": [
      "Table demo_pjanbroad cached at C:\\Users\\sarah\\AppData\\Local\\Temp\\Rtmp0oFI1n/eurostat/demo_pjanbroad_date_code_TF.rds\n"
     ]
    }
   ],
   "source": [
    "data_fig7 <- get_eurostat(id=\"demo_pjanbroad\")\n",
    "\n",
    "data_fig7$year <- as.integer(substr(data_fig7$time,1,4))\n",
    "\n",
    "countr_fig7 <- c(\"LU\",\"SE\",\"CY\",\"NL\",\"IE\",\"DE\",\"FI\",\"EE\",\"BE\",\"AT\",\"DK\",\"SI\",\"MT\",\"FR\",\"LT\",\"SK\",\n",
    "                 \"CZ\",\"LV\",\"HU\",\"PL\",\"HR\",\"ES\",\"IT\",\"PT\",\"BG\",\"EL\",\"RO\",\"CH\",\"NO\")"
   ]
  },
  {
   "cell_type": "markdown",
   "metadata": {},
   "source": [
    "Build the subset `data_fig7_subs`\n",
    "- because we have per country several data points, we have to aggregate the data per country"
   ]
  },
  {
   "cell_type": "code",
   "execution_count": 110,
   "metadata": {},
   "outputs": [],
   "source": [
    "data_fig7_subs <- subset(data_fig7, \n",
    "                    data_fig7$geo %in% countr_fig7 & \n",
    "                    data_fig7$year==2018 &\n",
    "                    data_fig7$age %in% c(\"Y15-64\",\"Y_GE65\") &\n",
    "                    data_fig7$sex==\"T\")\n",
    "data_fig7_subs <- data_fig7_subs[,c(4,6)]\n",
    "\n",
    "data_fig7_subs <- aggregate(data_fig7_subs$values, by = list(geo = data_fig7_subs$geo), FUN = sum)"
   ]
  },
  {
   "cell_type": "markdown",
   "metadata": {},
   "source": [
    "Bring the countries in the order the graphik shows (we have to do this for both needed datasets, i.e. `data_fig7_subs` and `data_fig6_subs`).\n",
    "- data_fig7_subs_2; data_fig6_subs_fig7 --> compare the countries: are they in the same order? then we can match\n",
    "- match the two data frames and calculate the ratio in `data_fig7_final`"
   ]
  },
  {
   "cell_type": "code",
   "execution_count": 111,
   "metadata": {},
   "outputs": [],
   "source": [
    "data_fig6_subs_fig7 <- data_fig6_subs[order(factor(data_fig6_subs$geo, levels= countr_fig7)),]\n",
    "data_fig7_subs_2 <- data_fig7_subs[order(factor(data_fig7_subs$geo, levels= countr_fig7)),]"
   ]
  },
  {
   "cell_type": "code",
   "execution_count": 112,
   "metadata": {},
   "outputs": [],
   "source": [
    "data_fig7_final <- cbind(data_fig6_subs_fig7,data_fig7_subs_2[,2])\n",
    "data_fig7_final$ratio <- round(data_fig7_final[,2]/data_fig7_final[,3],1)"
   ]
  },
  {
   "cell_type": "markdown",
   "metadata": {},
   "source": [
    "#### Second step:\n",
    "Calculate the EU-27 value by summing up\n",
    "- create a vector, which indicates due to FALSE and TRUE at the exact position, which countries of `data_fig7_final` are within `EU_27`: `EU_27_prep5`\n",
    "- by using the sapply-command we can calculate the sum: `tab_EU5` \n",
    "- calculate the ratio `tab_EU5_ratio` and match them to `tab_EU5_final` (at this stage we get the warning message, that one NA for \"Eu-27\" get generated: we solve this problem two steps later)"
   ]
  },
  {
   "cell_type": "code",
   "execution_count": 113,
   "metadata": {},
   "outputs": [],
   "source": [
    "EU_27_prep5 <- data_fig7_final$geo %in% EU_27\n",
    "\n",
    "tab_EU5 <- sapply(as.data.frame(data_fig7_final[EU_27_prep5,2:3]),sum)\n",
    "\n",
    "tab_EU5_ratio <- round(tab_EU5[1]/tab_EU5[2],1)\n",
    "\n",
    "tab_EU5_final <- c(\"EU-27\",tab_EU5,tab_EU5_ratio)"
   ]
  },
  {
   "cell_type": "markdown",
   "metadata": {},
   "source": [
    "- put the calculates EU values to the table above: `data_fig7_final`\n",
    "- we have to convert the class, because we have to add \"EU-27\" and this only works by converting it from a factor first, then doing the change and re-convert it back"
   ]
  },
  {
   "cell_type": "code",
   "execution_count": 114,
   "metadata": {},
   "outputs": [
    {
     "name": "stderr",
     "output_type": "stream",
     "text": [
      "Warning message in `[<-.factor`(`*tmp*`, ri, value = \"EU-27\"):\n",
      "\"invalid factor level, NA generated\""
     ]
    },
    {
     "data": {
      "text/html": [
       "<table>\n",
       "<caption>A data.frame: 6 × 4</caption>\n",
       "<thead>\n",
       "\t<tr><th></th><th scope=col>geo</th><th scope=col>values</th><th scope=col>data_fig7_subs_2[, 2]</th><th scope=col>ratio</th></tr>\n",
       "\t<tr><th></th><th scope=col>&lt;fct&gt;</th><th scope=col>&lt;chr&gt;</th><th scope=col>&lt;chr&gt;</th><th scope=col>&lt;chr&gt;</th></tr>\n",
       "</thead>\n",
       "<tbody>\n",
       "\t<tr><th scope=row>1</th><td>EU-27</td><td>2573268471</td><td>378201085</td><td>6.8 </td></tr>\n",
       "\t<tr><th scope=row>2</th><td>LU   </td><td>15819287  </td><td>504883   </td><td>31.3</td></tr>\n",
       "\t<tr><th scope=row>3</th><td>SE   </td><td>143070504 </td><td>8325565  </td><td>17.2</td></tr>\n",
       "\t<tr><th scope=row>4</th><td>CY   </td><td>11955548  </td><td>723947   </td><td>16.5</td></tr>\n",
       "\t<tr><th scope=row>5</th><td>NL   </td><td>193011133 </td><td>14418460 </td><td>13.4</td></tr>\n",
       "\t<tr><th scope=row>6</th><td>IE   </td><td>50197497  </td><td>3823944  </td><td>13.1</td></tr>\n",
       "</tbody>\n",
       "</table>\n"
      ],
      "text/latex": [
       "A data.frame: 6 × 4\n",
       "\\begin{tabular}{r|llll}\n",
       "  & geo & values & data\\_fig7\\_subs\\_2{[}, 2{]} & ratio\\\\\n",
       "  & <fct> & <chr> & <chr> & <chr>\\\\\n",
       "\\hline\n",
       "\t1 & EU-27 & 2573268471 & 378201085 & 6.8 \\\\\n",
       "\t2 & LU    & 15819287   & 504883    & 31.3\\\\\n",
       "\t3 & SE    & 143070504  & 8325565   & 17.2\\\\\n",
       "\t4 & CY    & 11955548   & 723947    & 16.5\\\\\n",
       "\t5 & NL    & 193011133  & 14418460  & 13.4\\\\\n",
       "\t6 & IE    & 50197497   & 3823944   & 13.1\\\\\n",
       "\\end{tabular}\n"
      ],
      "text/markdown": [
       "\n",
       "A data.frame: 6 × 4\n",
       "\n",
       "| <!--/--> | geo &lt;fct&gt; | values &lt;chr&gt; | data_fig7_subs_2[, 2] &lt;chr&gt; | ratio &lt;chr&gt; |\n",
       "|---|---|---|---|---|\n",
       "| 1 | EU-27 | 2573268471 | 378201085 | 6.8  |\n",
       "| 2 | LU    | 15819287   | 504883    | 31.3 |\n",
       "| 3 | SE    | 143070504  | 8325565   | 17.2 |\n",
       "| 4 | CY    | 11955548   | 723947    | 16.5 |\n",
       "| 5 | NL    | 193011133  | 14418460  | 13.4 |\n",
       "| 6 | IE    | 50197497   | 3823944   | 13.1 |\n",
       "\n"
      ],
      "text/plain": [
       "  geo   values     data_fig7_subs_2[, 2] ratio\n",
       "1 EU-27 2573268471 378201085             6.8  \n",
       "2 LU    15819287   504883                31.3 \n",
       "3 SE    143070504  8325565               17.2 \n",
       "4 CY    11955548   723947                16.5 \n",
       "5 NL    193011133  14418460              13.4 \n",
       "6 IE    50197497   3823944               13.1 "
      ]
     },
     "metadata": {},
     "output_type": "display_data"
    }
   ],
   "source": [
    "data_fig7_final <- rbind(tab_EU5_final,data_fig7_final)\n",
    "\n",
    "data_fig7_final[,1] <- as.character(data_fig7_final[,1])\n",
    "data_fig7_final[1,1] <- \"EU-27\"\n",
    "data_fig7_final[,1] <- factor(data_fig7_final[,1])\n",
    "\n",
    "head(data_fig7_final)"
   ]
  },
  {
   "cell_type": "markdown",
   "metadata": {},
   "source": [
    "#### Third step:\n",
    "- bring the country names in the order the graphik shows you can do this due to modify the levels of the variable \"geo\"\n",
    "- to achieve that the y-axes in the chart is later in an ascending order, we have to convert the ratio-axes to numeric\n",
    "\n",
    "Plot the bar chart"
   ]
  },
  {
   "cell_type": "code",
   "execution_count": 115,
   "metadata": {},
   "outputs": [],
   "source": [
    "data_fig7_final$geo <- factor(data_fig7_final$geo,\n",
    "                        levels = c(\"EU-27\",\"LU\",\"SE\",\"CY\",\"NL\",\"IE\",\"DE\",\"FI\",\"EE\",\"BE\",\"AT\",\"DK\",\"SI\",\"MT\",\"FR\",\"LT\",\n",
    "                                   \"SK\",\"CZ\",\"LV\",\"HU\",\"PL\",\"HR\",\"ES\",\"IT\",\"PT\",\"BG\",\"EL\",\"RO\",\"CH\",\"NO\"))\n",
    "\n",
    "data_fig7_final$ratio <- as.numeric(as.character(data_fig7_final$ratio))"
   ]
  },
  {
   "cell_type": "code",
   "execution_count": 132,
   "metadata": {},
   "outputs": [
    {
     "data": {
      "image/png": "[encoded data removed]",
      "text/plain": [
       "plot without title"
      ]
     },
     "metadata": {},
     "output_type": "display_data"
    }
   ],
   "source": [
    "ggplot(data_fig7_final, aes(x=geo,y=ratio)) +\n",
    "            geom_bar(stat = \"identity\", position=\"dodge\", width=0.5, fill=\"steelblue3\") +\n",
    "            theme_classic() +\n",
    "            ggtitle(\"Country of origin for outbound tourism trips, 2018\",\n",
    "                   subtitle = \"(average nights spent abroad per inhabitant aged 15 years or more)\") +\n",
    "            coord_flip()+\n",
    "            scale_x_discrete(limits = rev(levels(data_fig7_final$geo)),\n",
    "                             labels = c(\"Norway\", \"Switzerland\", \"Romania\", \"Greece\", \"Bulgaria\", \"Portugal\", \"Italy\", \n",
    "                                        \"Spain\", \"Croatia\", \"Poland\", \"Hungary\", \"Latvia\", \"Czechia\", \"Slovakia\", \n",
    "                                        \"Lithuania\", \"France\", \"Malta\", \"Slovenia\", \"Denmark\", \"Austria\",\n",
    "                                        \"Belgium\", \"Estonia\", \"Finland\", \"Germany\", \"Ireland\", \"Netherlands\",\n",
    "                                        \"Cyprus\", \"Sweden\", \"Luxembourg\",\"EU-27\")) +\n",
    "            ylab(\" \") +\n",
    "            xlab(\" \") +\n",
    "            theme(axis.title.x=element_blank(), #remove labels at x-axes\n",
    "                  axis.text.x=element_blank(),\n",
    "                  axis.ticks.x=element_blank()) +\n",
    "                  geom_text(aes(label=ratio)) #add the ratio values after the bars"
   ]
  },
  {
   "cell_type": "markdown",
   "metadata": {},
   "source": [
    "## Tourism expenditure: highest spending by German residents\n",
    "\n",
    "### create table 3\n",
    "\n",
    "#### First step:\n",
    "- load the needed data `data_3` and add the year-column\n",
    "- create a country-vector (in the order the table shows): `countr_tab3_1_1`"
   ]
  },
  {
   "cell_type": "code",
   "execution_count": 172,
   "metadata": {},
   "outputs": [
    {
     "data": {
      "text/html": [
       "9999999999"
      ],
      "text/latex": [
       "9999999999"
      ],
      "text/markdown": [
       "9999999999"
      ],
      "text/plain": [
       "[1] 9999999999"
      ]
     },
     "metadata": {},
     "output_type": "display_data"
    },
    {
     "name": "stderr",
     "output_type": "stream",
     "text": [
      "Table bop_c6_a cached at C:\\Users\\sarah\\AppData\\Local\\Temp\\Rtmp0oFI1n/eurostat/bop_c6_a_date_code_TF.rds\n"
     ]
    }
   ],
   "source": [
    "memory.limit(size=9999999999)\n",
    "\n",
    "data_3 <- get_eurostat(id=\"bop_c6_a\")\n",
    "data_3$year <- as.integer(substr(data_3$time,1,4))"
   ]
  },
  {
   "cell_type": "code",
   "execution_count": 173,
   "metadata": {},
   "outputs": [],
   "source": [
    "countr_tab3_1_1 <- c(\"BE\",\"BG\",\"CZ\",\"DK\",\"DE\",\"EE\",\"IE\",\"EL\",\"ES\",\"FR\",\"HR\",\"IT\",\"CY\",\"LV\",\"LT\",\"LU\",\"HU\",\"MT\",\"NL\",\n",
    "                     \"AT\",\"PL\",\"PT\",\"RO\",\"SI\",\"SK\",\"FI\",\"SE\",\"UK\",\"IS\",\"NO\",\"CH\",\"ME\",\"MK\",\"AL\",\"RS\",\"TR\",\"BA\",\"XK\")"
   ]
  },
  {
   "cell_type": "markdown",
   "metadata": {},
   "source": [
    "#### Second step:\n",
    "We create first the columns for 2018 and afterwards the same for 2013\n",
    "- due to we want to use a loop for getting the data for the three columns, we have to create a vector with the essential difference between the three columns (here: the variable \"stk_flow\"): `cred_deb_bal`\n",
    "- create an empty data frame, which we can fill while running the loop: `data_tab3_part1`\n",
    "    - we have 4 columns in the needed dataset: one country-column and three data-columns\n",
    "    - and we have data for 38 countries and therefore 38 rows \n",
    "    \n",
    "Build the subset `data_3_col1` within the loop\n",
    "- the first column with the countries is the same for each of the three calculated datasets, therefore we can overwrite the country column in each intermediate step (we get of course a warning message)\n",
    "- we assign the second column of each intermediate step to the three remaining columns of the empty data frame `data_tab3_part1` from above"
   ]
  },
  {
   "cell_type": "code",
   "execution_count": 174,
   "metadata": {},
   "outputs": [],
   "source": [
    "cred_deb_bal <- c(\"CRE\",\"DEB\",\"BAL\")\n",
    "\n",
    "data_tab3_part1 <- as.data.frame(matrix(ncol = 4, nrow = 38))"
   ]
  },
  {
   "cell_type": "code",
   "execution_count": 175,
   "metadata": {},
   "outputs": [],
   "source": [
    "for (i in 1:3) {\n",
    "    \n",
    "data_3_col1 <- subset(data_3, \n",
    "                    data_3$geo %in% countr_tab3_1_1 & \n",
    "                    data_3$year == 2018 &\n",
    "                    data_3$currency ==\"MIO_EUR\"&\n",
    "                    data_3$bop_item== \"SD\" &\n",
    "                    data_3$stk_flow == cred_deb_bal[i] &\n",
    "                    data_3$partner == \"WRL_REST\")\n",
    "data_3_col1 <- data_3_col1[,c(7,9)]\n",
    "\n",
    "data_tab3_part1[,1] <- data_3_col1[,1]\n",
    "\n",
    "data_tab3_part1[,1+i] <- data_3_col1[,2]\n",
    "}"
   ]
  },
  {
   "cell_type": "markdown",
   "metadata": {},
   "source": [
    "Bring the countries in the order the graphik shows.\n",
    "\n",
    "Finally we have three of the seven columns filled with data."
   ]
  },
  {
   "cell_type": "code",
   "execution_count": 177,
   "metadata": {},
   "outputs": [
    {
     "data": {
      "text/html": [
       "<table>\n",
       "<caption>A data.frame: 6 × 4</caption>\n",
       "<thead>\n",
       "\t<tr><th></th><th scope=col>V1</th><th scope=col>V2</th><th scope=col>V3</th><th scope=col>V4</th></tr>\n",
       "\t<tr><th></th><th scope=col>&lt;fct&gt;</th><th scope=col>&lt;dbl&gt;</th><th scope=col>&lt;dbl&gt;</th><th scope=col>&lt;dbl&gt;</th></tr>\n",
       "</thead>\n",
       "<tbody>\n",
       "\t<tr><th scope=row>4</th><td>BE</td><td> 7528.0</td><td>15654.0</td><td> -8126.0</td></tr>\n",
       "\t<tr><th scope=row>5</th><td>BG</td><td> 3808.2</td><td> 1584.4</td><td>  2223.8</td></tr>\n",
       "\t<tr><th scope=row>8</th><td>CZ</td><td> 6305.3</td><td> 5055.5</td><td>  1249.8</td></tr>\n",
       "\t<tr><th scope=row>10</th><td>DK</td><td> 7718.8</td><td> 8926.6</td><td> -1207.7</td></tr>\n",
       "\t<tr><th scope=row>9</th><td>DE</td><td>36390.0</td><td>80933.0</td><td>-44543.0</td></tr>\n",
       "\t<tr><th scope=row>11</th><td>EE</td><td> 1509.6</td><td> 1244.8</td><td>   264.8</td></tr>\n",
       "</tbody>\n",
       "</table>\n"
      ],
      "text/latex": [
       "A data.frame: 6 × 4\n",
       "\\begin{tabular}{r|llll}\n",
       "  & V1 & V2 & V3 & V4\\\\\n",
       "  & <fct> & <dbl> & <dbl> & <dbl>\\\\\n",
       "\\hline\n",
       "\t4 & BE &  7528.0 & 15654.0 &  -8126.0\\\\\n",
       "\t5 & BG &  3808.2 &  1584.4 &   2223.8\\\\\n",
       "\t8 & CZ &  6305.3 &  5055.5 &   1249.8\\\\\n",
       "\t10 & DK &  7718.8 &  8926.6 &  -1207.7\\\\\n",
       "\t9 & DE & 36390.0 & 80933.0 & -44543.0\\\\\n",
       "\t11 & EE &  1509.6 &  1244.8 &    264.8\\\\\n",
       "\\end{tabular}\n"
      ],
      "text/markdown": [
       "\n",
       "A data.frame: 6 × 4\n",
       "\n",
       "| <!--/--> | V1 &lt;fct&gt; | V2 &lt;dbl&gt; | V3 &lt;dbl&gt; | V4 &lt;dbl&gt; |\n",
       "|---|---|---|---|---|\n",
       "| 4 | BE |  7528.0 | 15654.0 |  -8126.0 |\n",
       "| 5 | BG |  3808.2 |  1584.4 |   2223.8 |\n",
       "| 8 | CZ |  6305.3 |  5055.5 |   1249.8 |\n",
       "| 10 | DK |  7718.8 |  8926.6 |  -1207.7 |\n",
       "| 9 | DE | 36390.0 | 80933.0 | -44543.0 |\n",
       "| 11 | EE |  1509.6 |  1244.8 |    264.8 |\n",
       "\n"
      ],
      "text/plain": [
       "   V1 V2      V3      V4      \n",
       "4  BE  7528.0 15654.0  -8126.0\n",
       "5  BG  3808.2  1584.4   2223.8\n",
       "8  CZ  6305.3  5055.5   1249.8\n",
       "10 DK  7718.8  8926.6  -1207.7\n",
       "9  DE 36390.0 80933.0 -44543.0\n",
       "11 EE  1509.6  1244.8    264.8"
      ]
     },
     "metadata": {},
     "output_type": "display_data"
    }
   ],
   "source": [
    "data_tab3_part1 <- data_tab3_part1[order(factor(data_tab3_part1$V1, levels= countr_tab3_1_1)),]\n",
    "\n",
    "head(data_tab3_part1)"
   ]
  },
  {
   "cell_type": "markdown",
   "metadata": {},
   "source": [
    "#### Third step:\n",
    "Now we create the 2013-columns and repeat the loop from above.\n",
    "- due to we don't need the \"balance column\" we create at the beginning a vector with only 2 elements: `cred_deb_bal2`\n",
    "- Albania, Portugal and Norway have no data for 2013, therefore we just need 35 rows in `data_tab3_part2` and assign NA after the loop in `data_3_col2_1`\n",
    "- create a country-vector (in the order the table shows), exclude the countries with NA: `countr_tab3_1_2`\n",
    "\n",
    "Build the subset `data_3_col2` within the loop and match the loop's result afterwards with the NAs of the three countries (`data_tab3_part2`).\n"
   ]
  },
  {
   "cell_type": "code",
   "execution_count": 178,
   "metadata": {},
   "outputs": [],
   "source": [
    "cred_deb_bal2 <- c(\"CRE\",\"DEB\")\n",
    "\n",
    "data_tab3_part2 <- as.data.frame(matrix(ncol = 3, nrow = 35))\n",
    "\n",
    "countr_tab3_1_2 <- c(\"BE\",\"BG\",\"CZ\",\"DK\",\"DE\",\"EE\",\"IE\",\"EL\",\"ES\",\"FR\",\"HR\",\"IT\",\"CY\",\"LV\",\"LT\",\"LU\",\"HU\",\"MT\",\"NL\",\n",
    "                     \"AT\",\"PL\",\"RO\",\"SI\",\"SK\",\"FI\",\"SE\",\"UK\",\"IS\",\"CH\",\"ME\",\"MK\",\"RS\",\"TR\",\"BA\",\"XK\")"
   ]
  },
  {
   "cell_type": "code",
   "execution_count": 179,
   "metadata": {},
   "outputs": [],
   "source": [
    "for (i in 1:2) {\n",
    "    \n",
    "data_3_col2 <- subset(data_3, \n",
    "                    data_3$geo %in% countr_tab3_1_2 & \n",
    "                    data_3$year == 2013 &\n",
    "                    data_3$currency ==\"MIO_EUR\"&\n",
    "                    data_3$bop_item== \"SD\" &\n",
    "                    data_3$stk_flow == cred_deb_bal2[i] &\n",
    "                    data_3$partner == \"WRL_REST\")\n",
    "data_3_col2 <- data_3_col2[,c(7,9)]\n",
    "\n",
    "data_tab3_part2[,1] <- data_3_col2[,1]\n",
    "\n",
    "data_tab3_part2[,1+i] <- data_3_col2[,2]\n",
    "\n",
    "}"
   ]
  },
  {
   "cell_type": "code",
   "execution_count": 180,
   "metadata": {},
   "outputs": [],
   "source": [
    "data_3_col2_1 <- data.frame( V1=c(\"AL\",\"PT\",\"NO\"),\n",
    "                             V2=c(NA,NA,NA), \n",
    "                             V3=c(NA,NA,NA))\n",
    "\n",
    "data_tab3_part2 <- rbind(data_tab3_part2,data_3_col2_1)"
   ]
  },
  {
   "cell_type": "markdown",
   "metadata": {},
   "source": [
    "Bring the countries in the order the graphik shows.\n",
    "\n",
    "Finally we have two further of the seven columns filled with data."
   ]
  },
  {
   "cell_type": "code",
   "execution_count": 181,
   "metadata": {},
   "outputs": [
    {
     "data": {
      "text/html": [
       "<table>\n",
       "<caption>A data.frame: 6 × 3</caption>\n",
       "<thead>\n",
       "\t<tr><th></th><th scope=col>V1</th><th scope=col>V2</th><th scope=col>V3</th></tr>\n",
       "\t<tr><th></th><th scope=col>&lt;fct&gt;</th><th scope=col>&lt;dbl&gt;</th><th scope=col>&lt;dbl&gt;</th></tr>\n",
       "</thead>\n",
       "<tbody>\n",
       "\t<tr><th scope=row>3</th><td>BE</td><td>10074.0</td><td>16692.0</td></tr>\n",
       "\t<tr><th scope=row>4</th><td>BG</td><td> 2890.8</td><td>  840.0</td></tr>\n",
       "\t<tr><th scope=row>7</th><td>CZ</td><td> 5303.1</td><td> 3493.8</td></tr>\n",
       "\t<tr><th scope=row>9</th><td>DK</td><td> 5385.1</td><td> 7584.1</td></tr>\n",
       "\t<tr><th scope=row>8</th><td>DE</td><td>31081.0</td><td>68793.0</td></tr>\n",
       "\t<tr><th scope=row>10</th><td>EE</td><td> 1255.8</td><td>  802.8</td></tr>\n",
       "</tbody>\n",
       "</table>\n"
      ],
      "text/latex": [
       "A data.frame: 6 × 3\n",
       "\\begin{tabular}{r|lll}\n",
       "  & V1 & V2 & V3\\\\\n",
       "  & <fct> & <dbl> & <dbl>\\\\\n",
       "\\hline\n",
       "\t3 & BE & 10074.0 & 16692.0\\\\\n",
       "\t4 & BG &  2890.8 &   840.0\\\\\n",
       "\t7 & CZ &  5303.1 &  3493.8\\\\\n",
       "\t9 & DK &  5385.1 &  7584.1\\\\\n",
       "\t8 & DE & 31081.0 & 68793.0\\\\\n",
       "\t10 & EE &  1255.8 &   802.8\\\\\n",
       "\\end{tabular}\n"
      ],
      "text/markdown": [
       "\n",
       "A data.frame: 6 × 3\n",
       "\n",
       "| <!--/--> | V1 &lt;fct&gt; | V2 &lt;dbl&gt; | V3 &lt;dbl&gt; |\n",
       "|---|---|---|---|\n",
       "| 3 | BE | 10074.0 | 16692.0 |\n",
       "| 4 | BG |  2890.8 |   840.0 |\n",
       "| 7 | CZ |  5303.1 |  3493.8 |\n",
       "| 9 | DK |  5385.1 |  7584.1 |\n",
       "| 8 | DE | 31081.0 | 68793.0 |\n",
       "| 10 | EE |  1255.8 |   802.8 |\n",
       "\n"
      ],
      "text/plain": [
       "   V1 V2      V3     \n",
       "3  BE 10074.0 16692.0\n",
       "4  BG  2890.8   840.0\n",
       "7  CZ  5303.1  3493.8\n",
       "9  DK  5385.1  7584.1\n",
       "8  DE 31081.0 68793.0\n",
       "10 EE  1255.8   802.8"
      ]
     },
     "metadata": {},
     "output_type": "display_data"
    }
   ],
   "source": [
    "data_tab3_part2 <- data_tab3_part2[order(factor(data_tab3_part2$V1, levels= countr_tab3_1_1)),]\n",
    "\n",
    "head(data_tab3_part2)"
   ]
  },
  {
   "cell_type": "markdown",
   "metadata": {},
   "source": [
    "#### Fourth step:\n",
    "Calculate the \"relative to GDP\"-column.\n",
    "- therefore first we have to load the dataset to receive the GDPs per country: `data_4`\n",
    "- create a country-vector (in the order the table shows), exclude the countries with NA: `countr_tab3_2_1`\n",
    "- Norway has no data, therefore we assign NA: `data_4_col3_2`\n",
    "\n",
    "Build the subset `data_4_col3_1` and match the result afterwards with the NA of Norway to `data_tab3_part3`"
   ]
  },
  {
   "cell_type": "code",
   "execution_count": 182,
   "metadata": {},
   "outputs": [
    {
     "name": "stderr",
     "output_type": "stream",
     "text": [
      "Reading cache file C:\\Users\\sarah\\AppData\\Local\\Temp\\Rtmp0oFI1n/eurostat/nama_10_gdp_date_code_TF.rds\n",
      "Table  nama_10_gdp  read from cache file:  C:\\Users\\sarah\\AppData\\Local\\Temp\\Rtmp0oFI1n/eurostat/nama_10_gdp_date_code_TF.rds\n"
     ]
    }
   ],
   "source": [
    "data_4 <- get_eurostat(id=\"nama_10_gdp\")\n",
    "data_4$year <- as.integer(substr(data_4$time,1,4))"
   ]
  },
  {
   "cell_type": "code",
   "execution_count": 183,
   "metadata": {},
   "outputs": [],
   "source": [
    "countr_tab3_2_1 <- c(\"BE\",\"BG\",\"CZ\",\"DK\",\"DE\",\"EE\",\"IE\",\"EL\",\"ES\",\"FR\",\"HR\",\"IT\",\"CY\",\"LV\",\"LT\",\"LU\",\"HU\",\"MT\",\"NL\",\n",
    "                     \"AT\",\"PL\",\"PT\",\"RO\",\"SI\",\"SK\",\"FI\",\"SE\",\"UK\",\"IS\",\"CH\",\"ME\",\"MK\",\"AL\",\"RS\",\"TR\",\"BA\",\"XK\")\n",
    "    \n",
    "data_4_col3_1 <- subset(data_4, \n",
    "                    data_4$geo %in% countr_tab3_2_1 & \n",
    "                    data_4$year == 2018 &\n",
    "                    data_4$na_item == \"B1GQ\" &\n",
    "                    data_4$unit == \"CP_MEUR\")\n",
    "data_4_col3_1 <- data_4_col3_1[,c(3,5)]\n",
    "\n",
    "data_4_col3_2 <- data.frame( geo= \"NO\", values= NA)"
   ]
  },
  {
   "cell_type": "code",
   "execution_count": 184,
   "metadata": {},
   "outputs": [],
   "source": [
    "data_tab3_part3 <- rbind(data_4_col3_1,data_4_col3_2)"
   ]
  },
  {
   "cell_type": "markdown",
   "metadata": {},
   "source": [
    "Bring the countries in the order the graphik shows."
   ]
  },
  {
   "cell_type": "code",
   "execution_count": 185,
   "metadata": {},
   "outputs": [
    {
     "data": {
      "text/html": [
       "<table>\n",
       "<caption>A tibble: 6 × 2</caption>\n",
       "<thead>\n",
       "\t<tr><th scope=col>geo</th><th scope=col>values</th></tr>\n",
       "\t<tr><th scope=col>&lt;fct&gt;</th><th scope=col>&lt;dbl&gt;</th></tr>\n",
       "</thead>\n",
       "<tbody>\n",
       "\t<tr><td>BE</td><td> 460419.4</td></tr>\n",
       "\t<tr><td>BG</td><td>  56111.8</td></tr>\n",
       "\t<tr><td>CZ</td><td> 210892.7</td></tr>\n",
       "\t<tr><td>DK</td><td> 302361.1</td></tr>\n",
       "\t<tr><td>DE</td><td>3356410.0</td></tr>\n",
       "\t<tr><td>EE</td><td>  25937.6</td></tr>\n",
       "</tbody>\n",
       "</table>\n"
      ],
      "text/latex": [
       "A tibble: 6 × 2\n",
       "\\begin{tabular}{ll}\n",
       " geo & values\\\\\n",
       " <fct> & <dbl>\\\\\n",
       "\\hline\n",
       "\t BE &  460419.4\\\\\n",
       "\t BG &   56111.8\\\\\n",
       "\t CZ &  210892.7\\\\\n",
       "\t DK &  302361.1\\\\\n",
       "\t DE & 3356410.0\\\\\n",
       "\t EE &   25937.6\\\\\n",
       "\\end{tabular}\n"
      ],
      "text/markdown": [
       "\n",
       "A tibble: 6 × 2\n",
       "\n",
       "| geo &lt;fct&gt; | values &lt;dbl&gt; |\n",
       "|---|---|\n",
       "| BE |  460419.4 |\n",
       "| BG |   56111.8 |\n",
       "| CZ |  210892.7 |\n",
       "| DK |  302361.1 |\n",
       "| DE | 3356410.0 |\n",
       "| EE |   25937.6 |\n",
       "\n"
      ],
      "text/plain": [
       "  geo values   \n",
       "1 BE   460419.4\n",
       "2 BG    56111.8\n",
       "3 CZ   210892.7\n",
       "4 DK   302361.1\n",
       "5 DE  3356410.0\n",
       "6 EE    25937.6"
      ]
     },
     "metadata": {},
     "output_type": "display_data"
    }
   ],
   "source": [
    "data_tab3_part3 <- data_tab3_part3[order(factor(data_tab3_part3$geo, levels= countr_tab3_1_1)),]\n",
    "\n",
    "head(data_tab3_part3)"
   ]
  },
  {
   "cell_type": "markdown",
   "metadata": {},
   "source": [
    "Now we have to calculate the ratio.\n",
    "- therefore we have to devide the 2018 data from above through the GDP-column calculated just now (`col4_1`,`col4_2`)"
   ]
  },
  {
   "cell_type": "code",
   "execution_count": 186,
   "metadata": {},
   "outputs": [
    {
     "data": {
      "text/html": [
       "<table>\n",
       "<caption>A data.frame: 6 × 1</caption>\n",
       "<thead>\n",
       "\t<tr><th></th><th scope=col>values</th></tr>\n",
       "\t<tr><th></th><th scope=col>&lt;dbl&gt;</th></tr>\n",
       "</thead>\n",
       "<tbody>\n",
       "\t<tr><th scope=row>1</th><td>1.635031</td></tr>\n",
       "\t<tr><th scope=row>2</th><td>6.786808</td></tr>\n",
       "\t<tr><th scope=row>3</th><td>2.989814</td></tr>\n",
       "\t<tr><th scope=row>4</th><td>2.552842</td></tr>\n",
       "\t<tr><th scope=row>5</th><td>1.084194</td></tr>\n",
       "\t<tr><th scope=row>6</th><td>5.820122</td></tr>\n",
       "</tbody>\n",
       "</table>\n"
      ],
      "text/latex": [
       "A data.frame: 6 × 1\n",
       "\\begin{tabular}{r|l}\n",
       "  & values\\\\\n",
       "  & <dbl>\\\\\n",
       "\\hline\n",
       "\t1 & 1.635031\\\\\n",
       "\t2 & 6.786808\\\\\n",
       "\t3 & 2.989814\\\\\n",
       "\t4 & 2.552842\\\\\n",
       "\t5 & 1.084194\\\\\n",
       "\t6 & 5.820122\\\\\n",
       "\\end{tabular}\n"
      ],
      "text/markdown": [
       "\n",
       "A data.frame: 6 × 1\n",
       "\n",
       "| <!--/--> | values &lt;dbl&gt; |\n",
       "|---|---|\n",
       "| 1 | 1.635031 |\n",
       "| 2 | 6.786808 |\n",
       "| 3 | 2.989814 |\n",
       "| 4 | 2.552842 |\n",
       "| 5 | 1.084194 |\n",
       "| 6 | 5.820122 |\n",
       "\n"
      ],
      "text/plain": [
       "  values  \n",
       "1 1.635031\n",
       "2 6.786808\n",
       "3 2.989814\n",
       "4 2.552842\n",
       "5 1.084194\n",
       "6 5.820122"
      ]
     },
     "metadata": {},
     "output_type": "display_data"
    },
    {
     "data": {
      "text/html": [
       "<table>\n",
       "<caption>A data.frame: 6 × 1</caption>\n",
       "<thead>\n",
       "\t<tr><th></th><th scope=col>values</th></tr>\n",
       "\t<tr><th></th><th scope=col>&lt;dbl&gt;</th></tr>\n",
       "</thead>\n",
       "<tbody>\n",
       "\t<tr><th scope=row>1</th><td>3.399944</td></tr>\n",
       "\t<tr><th scope=row>2</th><td>2.823649</td></tr>\n",
       "\t<tr><th scope=row>3</th><td>2.397191</td></tr>\n",
       "\t<tr><th scope=row>4</th><td>2.952298</td></tr>\n",
       "\t<tr><th scope=row>5</th><td>2.411297</td></tr>\n",
       "\t<tr><th scope=row>6</th><td>4.799210</td></tr>\n",
       "</tbody>\n",
       "</table>\n"
      ],
      "text/latex": [
       "A data.frame: 6 × 1\n",
       "\\begin{tabular}{r|l}\n",
       "  & values\\\\\n",
       "  & <dbl>\\\\\n",
       "\\hline\n",
       "\t1 & 3.399944\\\\\n",
       "\t2 & 2.823649\\\\\n",
       "\t3 & 2.397191\\\\\n",
       "\t4 & 2.952298\\\\\n",
       "\t5 & 2.411297\\\\\n",
       "\t6 & 4.799210\\\\\n",
       "\\end{tabular}\n"
      ],
      "text/markdown": [
       "\n",
       "A data.frame: 6 × 1\n",
       "\n",
       "| <!--/--> | values &lt;dbl&gt; |\n",
       "|---|---|\n",
       "| 1 | 3.399944 |\n",
       "| 2 | 2.823649 |\n",
       "| 3 | 2.397191 |\n",
       "| 4 | 2.952298 |\n",
       "| 5 | 2.411297 |\n",
       "| 6 | 4.799210 |\n",
       "\n"
      ],
      "text/plain": [
       "  values  \n",
       "1 3.399944\n",
       "2 2.823649\n",
       "3 2.397191\n",
       "4 2.952298\n",
       "5 2.411297\n",
       "6 4.799210"
      ]
     },
     "metadata": {},
     "output_type": "display_data"
    }
   ],
   "source": [
    "col4_1 <- data_tab3_part1[,2]/data_tab3_part3[,2]*100\n",
    "col4_2 <- data_tab3_part1[,3]/data_tab3_part3[,2]*100\n",
    "\n",
    "head(col4_1)\n",
    "head(col4_2)"
   ]
  },
  {
   "cell_type": "markdown",
   "metadata": {},
   "source": [
    "#### Fifth step:\n",
    "- create column with the names of the countries, this will be the first column of the complete table 3: `countr_names2`\n",
    "- finally put the calculated columns all together and round them correspondingly: `table3`\n",
    "- give the columns the correct names"
   ]
  },
  {
   "cell_type": "code",
   "execution_count": 187,
   "metadata": {},
   "outputs": [],
   "source": [
    "countr_names2 <- c(\"Belgium\",\"Bulgaria\",\"Czechia\",\"Denmark\",\"Germany\",\"Estonia\", \"Ireland\", \"Greece\", \"Spain\", \"France\", \n",
    "                  \"Croatia\", \"Italy\", \"Cyprus\", \"Latvia\", \"Lithuania\", \"Luxembourg\", \"Hungary\", \"Malta\", \"Netherlands\", \n",
    "                  \"Austria\", \"Poland\", \"Portugal\", \"Romania\", \"Slovenia\", \"Slovakia\", \"Finland\", \"Sweden\",\n",
    "                 \"United Kingdom\",\"Iceland\",\"Norway\", \"Switzerland\",\"Montenegro\",\"North Macedonia\",\"Albania\",\n",
    "                  \"Serbia\",\"Turkey\",\"Bosnia and Herzegovina\",\"Kosovo\")"
   ]
  },
  {
   "cell_type": "code",
   "execution_count": 188,
   "metadata": {},
   "outputs": [],
   "source": [
    "table3 <- cbind(countr_names2,\n",
    "                round(data_tab3_part2[,2],0),\n",
    "                round(data_tab3_part1[,2],0),\n",
    "                round(col4_1,1),\n",
    "                round(data_tab3_part2[,3],0),\n",
    "                round(data_tab3_part1[,3],0),\n",
    "                round(col4_2,1),\n",
    "                round(data_tab3_part1[,4],0))"
   ]
  },
  {
   "cell_type": "code",
   "execution_count": 189,
   "metadata": {},
   "outputs": [
    {
     "data": {
      "text/html": [
       "<table>\n",
       "<caption>A data.frame: 6 × 8</caption>\n",
       "<thead>\n",
       "\t<tr><th></th><th scope=col></th><th scope=col>Receipts (million EUR) 2013</th><th scope=col>Receipts (million EUR) 2018</th><th scope=col>Relative to GDP 2018 (%)</th><th scope=col>Expenditure (million EUR) 2013</th><th scope=col>Expenditure (million EUR) 2018</th><th scope=col>Relative to GDP 2018 (%)</th><th scope=col>Balance (million EUR) 2018</th></tr>\n",
       "\t<tr><th></th><th scope=col>&lt;fct&gt;</th><th scope=col>&lt;dbl&gt;</th><th scope=col>&lt;dbl&gt;</th><th scope=col>&lt;dbl&gt;</th><th scope=col>&lt;dbl&gt;</th><th scope=col>&lt;dbl&gt;</th><th scope=col>&lt;dbl&gt;</th><th scope=col>&lt;dbl&gt;</th></tr>\n",
       "</thead>\n",
       "<tbody>\n",
       "\t<tr><th scope=row>1</th><td>Belgium </td><td>10074</td><td> 7528</td><td>1.6</td><td>16692</td><td>15654</td><td>3.4</td><td> -8126</td></tr>\n",
       "\t<tr><th scope=row>2</th><td>Bulgaria</td><td> 2891</td><td> 3808</td><td>6.8</td><td>  840</td><td> 1584</td><td>2.8</td><td>  2224</td></tr>\n",
       "\t<tr><th scope=row>3</th><td>Czechia </td><td> 5303</td><td> 6305</td><td>3.0</td><td> 3494</td><td> 5056</td><td>2.4</td><td>  1250</td></tr>\n",
       "\t<tr><th scope=row>4</th><td>Denmark </td><td> 5385</td><td> 7719</td><td>2.6</td><td> 7584</td><td> 8927</td><td>3.0</td><td> -1208</td></tr>\n",
       "\t<tr><th scope=row>5</th><td>Germany </td><td>31081</td><td>36390</td><td>1.1</td><td>68793</td><td>80933</td><td>2.4</td><td>-44543</td></tr>\n",
       "\t<tr><th scope=row>6</th><td>Estonia </td><td> 1256</td><td> 1510</td><td>5.8</td><td>  803</td><td> 1245</td><td>4.8</td><td>   265</td></tr>\n",
       "</tbody>\n",
       "</table>\n"
      ],
      "text/latex": [
       "A data.frame: 6 × 8\n",
       "\\begin{tabular}{r|llllllll}\n",
       "  &  & Receipts (million EUR) 2013 & Receipts (million EUR) 2018 & Relative to GDP 2018 (\\%) & Expenditure (million EUR) 2013 & Expenditure (million EUR) 2018 & Relative to GDP 2018 (\\%) & Balance (million EUR) 2018\\\\\n",
       "  & <fct> & <dbl> & <dbl> & <dbl> & <dbl> & <dbl> & <dbl> & <dbl>\\\\\n",
       "\\hline\n",
       "\t1 & Belgium  & 10074 &  7528 & 1.6 & 16692 & 15654 & 3.4 &  -8126\\\\\n",
       "\t2 & Bulgaria &  2891 &  3808 & 6.8 &   840 &  1584 & 2.8 &   2224\\\\\n",
       "\t3 & Czechia  &  5303 &  6305 & 3.0 &  3494 &  5056 & 2.4 &   1250\\\\\n",
       "\t4 & Denmark  &  5385 &  7719 & 2.6 &  7584 &  8927 & 3.0 &  -1208\\\\\n",
       "\t5 & Germany  & 31081 & 36390 & 1.1 & 68793 & 80933 & 2.4 & -44543\\\\\n",
       "\t6 & Estonia  &  1256 &  1510 & 5.8 &   803 &  1245 & 4.8 &    265\\\\\n",
       "\\end{tabular}\n"
      ],
      "text/markdown": [
       "\n",
       "A data.frame: 6 × 8\n",
       "\n",
       "| <!--/--> | <!----> &lt;fct&gt; | Receipts (million EUR) 2013 &lt;dbl&gt; | Receipts (million EUR) 2018 &lt;dbl&gt; | Relative to GDP 2018 (%) &lt;dbl&gt; | Expenditure (million EUR) 2013 &lt;dbl&gt; | Expenditure (million EUR) 2018 &lt;dbl&gt; | Relative to GDP 2018 (%) &lt;dbl&gt; | Balance (million EUR) 2018 &lt;dbl&gt; |\n",
       "|---|---|---|---|---|---|---|---|---|\n",
       "| 1 | Belgium  | 10074 |  7528 | 1.6 | 16692 | 15654 | 3.4 |  -8126 |\n",
       "| 2 | Bulgaria |  2891 |  3808 | 6.8 |   840 |  1584 | 2.8 |   2224 |\n",
       "| 3 | Czechia  |  5303 |  6305 | 3.0 |  3494 |  5056 | 2.4 |   1250 |\n",
       "| 4 | Denmark  |  5385 |  7719 | 2.6 |  7584 |  8927 | 3.0 |  -1208 |\n",
       "| 5 | Germany  | 31081 | 36390 | 1.1 | 68793 | 80933 | 2.4 | -44543 |\n",
       "| 6 | Estonia  |  1256 |  1510 | 5.8 |   803 |  1245 | 4.8 |    265 |\n",
       "\n"
      ],
      "text/plain": [
       "           Receipts (million EUR) 2013 Receipts (million EUR) 2018\n",
       "1 Belgium  10074                        7528                      \n",
       "2 Bulgaria  2891                        3808                      \n",
       "3 Czechia   5303                        6305                      \n",
       "4 Denmark   5385                        7719                      \n",
       "5 Germany  31081                       36390                      \n",
       "6 Estonia   1256                        1510                      \n",
       "  Relative to GDP 2018 (%) Expenditure (million EUR) 2013\n",
       "1 1.6                      16692                         \n",
       "2 6.8                        840                         \n",
       "3 3.0                       3494                         \n",
       "4 2.6                       7584                         \n",
       "5 1.1                      68793                         \n",
       "6 5.8                        803                         \n",
       "  Expenditure (million EUR) 2018 Relative to GDP 2018 (%)\n",
       "1 15654                          3.4                     \n",
       "2  1584                          2.8                     \n",
       "3  5056                          2.4                     \n",
       "4  8927                          3.0                     \n",
       "5 80933                          2.4                     \n",
       "6  1245                          4.8                     \n",
       "  Balance (million EUR) 2018\n",
       "1  -8126                    \n",
       "2   2224                    \n",
       "3   1250                    \n",
       "4  -1208                    \n",
       "5 -44543                    \n",
       "6    265                    "
      ]
     },
     "metadata": {},
     "output_type": "display_data"
    }
   ],
   "source": [
    "names(table3) <- c(\"\",\n",
    "                        \"Receipts (million EUR) 2013\", \n",
    "                        \"Receipts (million EUR) 2018\",\n",
    "                        \"Relative to GDP 2018 (%)\",\n",
    "                        \"Expenditure (million EUR) 2013\",\n",
    "                        \"Expenditure (million EUR) 2018\",\n",
    "                        \"Relative to GDP 2018 (%)\",\n",
    "                        \"Balance (million EUR) 2018\")\n",
    "head(table3)"
   ]
  },
  {
   "cell_type": "markdown",
   "metadata": {},
   "source": [
    "#### Sixth step:\n",
    "We need additionally the values for the EU\n",
    "- load the needed data `data_5` and add the year-column"
   ]
  },
  {
   "cell_type": "code",
   "execution_count": 162,
   "metadata": {},
   "outputs": [
    {
     "name": "stderr",
     "output_type": "stream",
     "text": [
      "Table bop_eu6_q cached at C:\\Users\\sarah\\AppData\\Local\\Temp\\Rtmp0oFI1n/eurostat/bop_eu6_q_raw_code_TF.rds\n"
     ]
    }
   ],
   "source": [
    "data_5 <- get_eurostat(id=\"bop_eu6_q\",time_format = \"raw\")"
   ]
  },
  {
   "cell_type": "markdown",
   "metadata": {},
   "source": [
    "We create first the columns for 2018 and afterwards the same for 2013\n",
    "- we will do exactly the same like for the several countries above"
   ]
  },
  {
   "cell_type": "code",
   "execution_count": 190,
   "metadata": {},
   "outputs": [],
   "source": [
    "cred_deb_bal <- c(\"CRE\",\"DEB\",\"BAL\")\n",
    "\n",
    "data_tab3_part4 <- as.data.frame(matrix(ncol = 3, nrow = 1))"
   ]
  },
  {
   "cell_type": "code",
   "execution_count": 191,
   "metadata": {},
   "outputs": [
    {
     "data": {
      "text/html": [
       "<table>\n",
       "<caption>A data.frame: 1 × 3</caption>\n",
       "<thead>\n",
       "\t<tr><th scope=col>V1</th><th scope=col>V2</th><th scope=col>V3</th></tr>\n",
       "\t<tr><th scope=col>&lt;dbl&gt;</th><th scope=col>&lt;dbl&gt;</th><th scope=col>&lt;dbl&gt;</th></tr>\n",
       "</thead>\n",
       "<tbody>\n",
       "\t<tr><td>156587</td><td>109167.3</td><td>47419.7</td></tr>\n",
       "</tbody>\n",
       "</table>\n"
      ],
      "text/latex": [
       "A data.frame: 1 × 3\n",
       "\\begin{tabular}{lll}\n",
       " V1 & V2 & V3\\\\\n",
       " <dbl> & <dbl> & <dbl>\\\\\n",
       "\\hline\n",
       "\t 156587 & 109167.3 & 47419.7\\\\\n",
       "\\end{tabular}\n"
      ],
      "text/markdown": [
       "\n",
       "A data.frame: 1 × 3\n",
       "\n",
       "| V1 &lt;dbl&gt; | V2 &lt;dbl&gt; | V3 &lt;dbl&gt; |\n",
       "|---|---|---|\n",
       "| 156587 | 109167.3 | 47419.7 |\n",
       "\n"
      ],
      "text/plain": [
       "  V1     V2       V3     \n",
       "1 156587 109167.3 47419.7"
      ]
     },
     "metadata": {},
     "output_type": "display_data"
    }
   ],
   "source": [
    "for (i in 1:3) {\n",
    "    \n",
    "data_5_col1 <- subset(data_5, \n",
    "                    data_5$geo == \"EU27_2020\" & \n",
    "                    data_5$time == 2018 &\n",
    "                    data_5$currency ==\"MIO_EUR\"&\n",
    "                    data_5$bop_item== \"SD\" &\n",
    "                    data_5$stk_flow == cred_deb_bal[i] &\n",
    "                    data_5$partner == \"EXT_EU27_2020\")\n",
    "data_5_col1 <- data_5_col1[,10]\n",
    "\n",
    "data_tab3_part4[,i] <- data_5_col1\n",
    "\n",
    "}\n",
    "\n",
    "data_tab3_part4"
   ]
  },
  {
   "cell_type": "markdown",
   "metadata": {},
   "source": [
    "Now we create the 2013-columns and repeat the loop from above."
   ]
  },
  {
   "cell_type": "code",
   "execution_count": 192,
   "metadata": {},
   "outputs": [],
   "source": [
    "cred_deb_bal2 <- c(\"CRE\",\"DEB\")\n",
    "\n",
    "data_tab3_part5 <- as.data.frame(matrix(ncol = 2, nrow = 1))"
   ]
  },
  {
   "cell_type": "code",
   "execution_count": 193,
   "metadata": {},
   "outputs": [
    {
     "data": {
      "text/html": [
       "<table>\n",
       "<caption>A data.frame: 1 × 2</caption>\n",
       "<thead>\n",
       "\t<tr><th scope=col>V1</th><th scope=col>V2</th></tr>\n",
       "\t<tr><th scope=col>&lt;dbl&gt;</th><th scope=col>&lt;dbl&gt;</th></tr>\n",
       "</thead>\n",
       "<tbody>\n",
       "\t<tr><td>126010.7</td><td>86737.8</td></tr>\n",
       "</tbody>\n",
       "</table>\n"
      ],
      "text/latex": [
       "A data.frame: 1 × 2\n",
       "\\begin{tabular}{ll}\n",
       " V1 & V2\\\\\n",
       " <dbl> & <dbl>\\\\\n",
       "\\hline\n",
       "\t 126010.7 & 86737.8\\\\\n",
       "\\end{tabular}\n"
      ],
      "text/markdown": [
       "\n",
       "A data.frame: 1 × 2\n",
       "\n",
       "| V1 &lt;dbl&gt; | V2 &lt;dbl&gt; |\n",
       "|---|---|\n",
       "| 126010.7 | 86737.8 |\n",
       "\n"
      ],
      "text/plain": [
       "  V1       V2     \n",
       "1 126010.7 86737.8"
      ]
     },
     "metadata": {},
     "output_type": "display_data"
    }
   ],
   "source": [
    "for (i in 1:2) {\n",
    "    \n",
    "data_5_col2 <- subset(data_5, \n",
    "                    data_5$geo == \"EU27_2020\" & \n",
    "                    data_5$time == 2013 &\n",
    "                    data_5$currency ==\"MIO_EUR\"&\n",
    "                    data_5$bop_item== \"SD\" &\n",
    "                    data_5$stk_flow == cred_deb_bal[i] &\n",
    "                    data_5$partner == \"EXT_EU27_2020\")\n",
    "data_5_col2 <- data_5_col2[,10]\n",
    "\n",
    "data_tab3_part5[,i] <- data_5_col2\n",
    "\n",
    "}\n",
    "\n",
    "data_tab3_part5"
   ]
  },
  {
   "cell_type": "markdown",
   "metadata": {},
   "source": [
    "Calculate the \"relative to GDP\"-column\n",
    "- we can use the dataset `data_4` to receive the GDPs per country\n",
    "- now we have to calculate the ratio: therefore we have to devide the 2018 data from above (`data_tab3_part4`) through the GDP-column calculated just now (`data_5_col3`): `data_5_col4_1`, `data_5_col4_2`"
   ]
  },
  {
   "cell_type": "code",
   "execution_count": 194,
   "metadata": {},
   "outputs": [],
   "source": [
    "data_5_col3 <- subset(data_4, \n",
    "                    data_4$geo == \"EU27_2020\" & \n",
    "                    data_4$year == 2018 &\n",
    "                    data_4$na_item == \"B1GQ\"&\n",
    "                    data_4$unit == \"CP_MEUR\")\n",
    "data_5_col3 <- data_5_col3[,5]"
   ]
  },
  {
   "cell_type": "code",
   "execution_count": 195,
   "metadata": {},
   "outputs": [
    {
     "data": {
      "text/html": [
       "<table>\n",
       "<caption>A data.frame: 1 × 1</caption>\n",
       "<thead>\n",
       "\t<tr><th scope=col>values</th></tr>\n",
       "\t<tr><th scope=col>&lt;dbl&gt;</th></tr>\n",
       "</thead>\n",
       "<tbody>\n",
       "\t<tr><td>1.158367</td></tr>\n",
       "</tbody>\n",
       "</table>\n"
      ],
      "text/latex": [
       "A data.frame: 1 × 1\n",
       "\\begin{tabular}{l}\n",
       " values\\\\\n",
       " <dbl>\\\\\n",
       "\\hline\n",
       "\t 1.158367\\\\\n",
       "\\end{tabular}\n"
      ],
      "text/markdown": [
       "\n",
       "A data.frame: 1 × 1\n",
       "\n",
       "| values &lt;dbl&gt; |\n",
       "|---|\n",
       "| 1.158367 |\n",
       "\n"
      ],
      "text/plain": [
       "  values  \n",
       "1 1.158367"
      ]
     },
     "metadata": {},
     "output_type": "display_data"
    },
    {
     "data": {
      "text/html": [
       "<table>\n",
       "<caption>A data.frame: 1 × 1</caption>\n",
       "<thead>\n",
       "\t<tr><th scope=col>values</th></tr>\n",
       "\t<tr><th scope=col>&lt;dbl&gt;</th></tr>\n",
       "</thead>\n",
       "<tbody>\n",
       "\t<tr><td>0.8075755</td></tr>\n",
       "</tbody>\n",
       "</table>\n"
      ],
      "text/latex": [
       "A data.frame: 1 × 1\n",
       "\\begin{tabular}{l}\n",
       " values\\\\\n",
       " <dbl>\\\\\n",
       "\\hline\n",
       "\t 0.8075755\\\\\n",
       "\\end{tabular}\n"
      ],
      "text/markdown": [
       "\n",
       "A data.frame: 1 × 1\n",
       "\n",
       "| values &lt;dbl&gt; |\n",
       "|---|\n",
       "| 0.8075755 |\n",
       "\n"
      ],
      "text/plain": [
       "  values   \n",
       "1 0.8075755"
      ]
     },
     "metadata": {},
     "output_type": "display_data"
    }
   ],
   "source": [
    "data_5_col4_1 <- data_tab3_part4[,1]/data_5_col3*100\n",
    "data_5_col4_2 <- data_tab3_part4[,2]/data_5_col3*100\n",
    "data_5_col4_1\n",
    "data_5_col4_2"
   ]
  },
  {
   "cell_type": "markdown",
   "metadata": {},
   "source": [
    "Finally put the calculated columns all together and round them correspondingly: `table3_EU`\n",
    "\n",
    "Give the columns the correct names"
   ]
  },
  {
   "cell_type": "code",
   "execution_count": 196,
   "metadata": {},
   "outputs": [
    {
     "data": {
      "text/html": [
       "<table>\n",
       "<caption>A data.frame: 1 × 8</caption>\n",
       "<thead>\n",
       "\t<tr><th scope=col></th><th scope=col>Receipts (million EUR) 2013</th><th scope=col>Receipts (million EUR) 2018</th><th scope=col>Relative to GDP 2018 (%)</th><th scope=col>Expenditure (million EUR) 2013</th><th scope=col>Expenditure (million EUR) 2018</th><th scope=col>Relative to GDP 2018 (%)</th><th scope=col>Balance (million EUR) 2018</th></tr>\n",
       "\t<tr><th scope=col>&lt;fct&gt;</th><th scope=col>&lt;dbl&gt;</th><th scope=col>&lt;dbl&gt;</th><th scope=col>&lt;dbl&gt;</th><th scope=col>&lt;dbl&gt;</th><th scope=col>&lt;dbl&gt;</th><th scope=col>&lt;dbl&gt;</th><th scope=col>&lt;dbl&gt;</th></tr>\n",
       "</thead>\n",
       "<tbody>\n",
       "\t<tr><td>EU-27</td><td>126011</td><td>156587</td><td>1.2</td><td>86738</td><td>109167</td><td>0.8</td><td>47420</td></tr>\n",
       "</tbody>\n",
       "</table>\n"
      ],
      "text/latex": [
       "A data.frame: 1 × 8\n",
       "\\begin{tabular}{llllllll}\n",
       "  & Receipts (million EUR) 2013 & Receipts (million EUR) 2018 & Relative to GDP 2018 (\\%) & Expenditure (million EUR) 2013 & Expenditure (million EUR) 2018 & Relative to GDP 2018 (\\%) & Balance (million EUR) 2018\\\\\n",
       " <fct> & <dbl> & <dbl> & <dbl> & <dbl> & <dbl> & <dbl> & <dbl>\\\\\n",
       "\\hline\n",
       "\t EU-27 & 126011 & 156587 & 1.2 & 86738 & 109167 & 0.8 & 47420\\\\\n",
       "\\end{tabular}\n"
      ],
      "text/markdown": [
       "\n",
       "A data.frame: 1 × 8\n",
       "\n",
       "| <!----> &lt;fct&gt; | Receipts (million EUR) 2013 &lt;dbl&gt; | Receipts (million EUR) 2018 &lt;dbl&gt; | Relative to GDP 2018 (%) &lt;dbl&gt; | Expenditure (million EUR) 2013 &lt;dbl&gt; | Expenditure (million EUR) 2018 &lt;dbl&gt; | Relative to GDP 2018 (%) &lt;dbl&gt; | Balance (million EUR) 2018 &lt;dbl&gt; |\n",
       "|---|---|---|---|---|---|---|---|\n",
       "| EU-27 | 126011 | 156587 | 1.2 | 86738 | 109167 | 0.8 | 47420 |\n",
       "\n"
      ],
      "text/plain": [
       "        Receipts (million EUR) 2013 Receipts (million EUR) 2018\n",
       "1 EU-27 126011                      156587                     \n",
       "  Relative to GDP 2018 (%) Expenditure (million EUR) 2013\n",
       "1 1.2                      86738                         \n",
       "  Expenditure (million EUR) 2018 Relative to GDP 2018 (%)\n",
       "1 109167                         0.8                     \n",
       "  Balance (million EUR) 2018\n",
       "1 47420                     "
      ]
     },
     "metadata": {},
     "output_type": "display_data"
    }
   ],
   "source": [
    "countr_names3 <- c(\"EU-27\")\n",
    "\n",
    "table3_EU <- cbind(countr_names3,\n",
    "                round(data_tab3_part5[,1],0),\n",
    "                round(data_tab3_part4[,1],0),\n",
    "                round(data_5_col4_1,1),\n",
    "                round(data_tab3_part5[,2],0),\n",
    "                round(data_tab3_part4[,2],0),\n",
    "                round(data_5_col4_2,1),\n",
    "                round(data_tab3_part4[,3],0))\n",
    "\n",
    "names(table3_EU) <- c(\"\",\n",
    "                        \"Receipts (million EUR) 2013\", \n",
    "                        \"Receipts (million EUR) 2018\",\n",
    "                        \"Relative to GDP 2018 (%)\",\n",
    "                        \"Expenditure (million EUR) 2013\",\n",
    "                        \"Expenditure (million EUR) 2018\",\n",
    "                        \"Relative to GDP 2018 (%)\",\n",
    "                        \"Balance (million EUR) 2018\")\n",
    "\n",
    "table3_EU"
   ]
  },
  {
   "cell_type": "markdown",
   "metadata": {},
   "source": [
    "#### Seventh step:\n",
    "Add the EU values (`table3_EU`) to `table3`: `table3_final`"
   ]
  },
  {
   "cell_type": "code",
   "execution_count": 197,
   "metadata": {},
   "outputs": [
    {
     "data": {
      "text/html": [
       "<table>\n",
       "<caption>A matrix: 39 × 8 of type chr</caption>\n",
       "<thead>\n",
       "\t<tr><th scope=col></th><th scope=col>Receipts (million EUR) 2013</th><th scope=col>Receipts (million EUR) 2018</th><th scope=col>Relative to GDP 2018 (%)</th><th scope=col>Expenditure (million EUR) 2013</th><th scope=col>Expenditure (million EUR) 2018</th><th scope=col>Relative to GDP 2018 (%)</th><th scope=col>Balance (million EUR) 2018</th></tr>\n",
       "</thead>\n",
       "<tbody>\n",
       "\t<tr><td>EU-27                 </td><td>126011</td><td>156587</td><td> 1.2</td><td>86738</td><td>109167</td><td> 0.8</td><td> 47420</td></tr>\n",
       "\t<tr><td>Belgium               </td><td> 10074</td><td>  7528</td><td> 1.6</td><td>16692</td><td> 15654</td><td> 3.4</td><td> -8126</td></tr>\n",
       "\t<tr><td>Bulgaria              </td><td>  2891</td><td>  3808</td><td> 6.8</td><td>  840</td><td>  1584</td><td> 2.8</td><td>  2224</td></tr>\n",
       "\t<tr><td>Czechia               </td><td>  5303</td><td>  6305</td><td> 3.0</td><td> 3494</td><td>  5056</td><td> 2.4</td><td>  1250</td></tr>\n",
       "\t<tr><td>Denmark               </td><td>  5385</td><td>  7719</td><td> 2.6</td><td> 7584</td><td>  8927</td><td> 3.0</td><td> -1208</td></tr>\n",
       "\t<tr><td>Germany               </td><td> 31081</td><td> 36390</td><td> 1.1</td><td>68793</td><td> 80933</td><td> 2.4</td><td>-44543</td></tr>\n",
       "\t<tr><td>Estonia               </td><td>  1256</td><td>  1510</td><td> 5.8</td><td>  803</td><td>  1245</td><td> 4.8</td><td>   265</td></tr>\n",
       "\t<tr><td>Ireland               </td><td>  3370</td><td>  5760</td><td> 1.8</td><td> 4669</td><td>  6399</td><td> 2.0</td><td>  -639</td></tr>\n",
       "\t<tr><td>Greece                </td><td> 12152</td><td> 16086</td><td> 9.0</td><td> 1835</td><td>  2191</td><td> 1.2</td><td> 13895</td></tr>\n",
       "\t<tr><td>Spain                 </td><td> 51589</td><td> 69168</td><td> 5.7</td><td>12359</td><td> 22396</td><td> 1.9</td><td> 46772</td></tr>\n",
       "\t<tr><td>France                </td><td> 53103</td><td> 55912</td><td> 2.4</td><td>31787</td><td> 41398</td><td> 1.8</td><td> 14514</td></tr>\n",
       "\t<tr><td>Croatia               </td><td>  6136</td><td>  9489</td><td>18.3</td><td>  679</td><td>  1434</td><td> 2.8</td><td>  8054</td></tr>\n",
       "\t<tr><td>Italy                 </td><td> 33063</td><td> 41712</td><td> 2.4</td><td>20309</td><td> 25484</td><td> 1.4</td><td> 16228</td></tr>\n",
       "\t<tr><td>Cyprus                </td><td>  2211</td><td>  2940</td><td>13.7</td><td>  944</td><td>  1330</td><td> 6.2</td><td>  1610</td></tr>\n",
       "\t<tr><td>Latvia                </td><td>   651</td><td>   897</td><td> 3.1</td><td>  538</td><td>   660</td><td> 2.3</td><td>   237</td></tr>\n",
       "\t<tr><td>Lithuania             </td><td>  1035</td><td>  1274</td><td> 2.8</td><td>  805</td><td>  1186</td><td> 2.6</td><td>    89</td></tr>\n",
       "\t<tr><td>Luxembourg            </td><td>  5387</td><td>  5175</td><td> 8.6</td><td> 1896</td><td>  2813</td><td> 4.7</td><td>  2362</td></tr>\n",
       "\t<tr><td>Hungary               </td><td>  4043</td><td>  5850</td><td> 4.3</td><td> 1437</td><td>  2239</td><td> 1.6</td><td>  3612</td></tr>\n",
       "\t<tr><td>Malta                 </td><td>  1057</td><td>  1574</td><td>12.6</td><td>  289</td><td>   440</td><td> 3.5</td><td>  1133</td></tr>\n",
       "\t<tr><td>Netherlands           </td><td> 10343</td><td> 15057</td><td> 1.9</td><td>15589</td><td> 17680</td><td> 2.3</td><td> -2623</td></tr>\n",
       "\t<tr><td>Austria               </td><td> 15237</td><td> 19559</td><td> 5.1</td><td> 7738</td><td> 10020</td><td> 2.6</td><td>  9539</td></tr>\n",
       "\t<tr><td>Poland                </td><td>  8405</td><td> 11759</td><td> 2.4</td><td> 6483</td><td>  8042</td><td> 1.6</td><td>  3717</td></tr>\n",
       "\t<tr><td>Portugal              </td><td>NA    </td><td> 17053</td><td> 8.3</td><td>NA   </td><td>  4585</td><td> 2.2</td><td> 12468</td></tr>\n",
       "\t<tr><td>Romania               </td><td>  1392</td><td>  2876</td><td> 1.4</td><td> 1508</td><td>  4522</td><td> 2.2</td><td> -1646</td></tr>\n",
       "\t<tr><td>Slovenia              </td><td>  2094</td><td>  2704</td><td> 5.9</td><td> 1068</td><td>  1482</td><td> 3.2</td><td>  1221</td></tr>\n",
       "\t<tr><td>Slovakia              </td><td>  1998</td><td>  2710</td><td> 3.0</td><td> 1782</td><td>  2225</td><td> 2.5</td><td>   484</td></tr>\n",
       "\t<tr><td>Finland               </td><td>  3044</td><td>  3104</td><td> 1.3</td><td> 3989</td><td>  5151</td><td> 2.2</td><td> -2047</td></tr>\n",
       "\t<tr><td>Sweden                </td><td>  8182</td><td>  8464</td><td> 1.8</td><td>11552</td><td> 13297</td><td> 2.8</td><td> -4833</td></tr>\n",
       "\t<tr><td>United Kingdom        </td><td> 35080</td><td> 42387</td><td> 1.8</td><td>45556</td><td> 60006</td><td> 2.5</td><td>-17619</td></tr>\n",
       "\t<tr><td>Iceland               </td><td>   813</td><td>  2658</td><td>12.2</td><td>  639</td><td>  1554</td><td> 7.1</td><td>  1104</td></tr>\n",
       "\t<tr><td>Norway                </td><td>NA    </td><td>  4956</td><td>NA  </td><td>NA   </td><td> 14699</td><td>NA  </td><td> -9743</td></tr>\n",
       "\t<tr><td>Switzerland           </td><td> 12562</td><td> 15232</td><td> 2.4</td><td>12819</td><td> 16147</td><td> 2.6</td><td>  -914</td></tr>\n",
       "\t<tr><td>Montenegro            </td><td>   666</td><td>  1001</td><td>21.5</td><td>   37</td><td>    58</td><td> 1.2</td><td>   943</td></tr>\n",
       "\t<tr><td>North Macedonia       </td><td>   201</td><td>   325</td><td> 3.0</td><td>   98</td><td>   220</td><td> 2.0</td><td>   105</td></tr>\n",
       "\t<tr><td>Albania               </td><td>NA    </td><td>  1856</td><td>14.5</td><td>NA   </td><td>  1426</td><td>11.1</td><td>   430</td></tr>\n",
       "\t<tr><td>Serbia                </td><td>   792</td><td>  1317</td><td> 3.1</td><td>  841</td><td>  1396</td><td> 3.3</td><td>   -79</td></tr>\n",
       "\t<tr><td>Turkey                </td><td> 21089</td><td> 21482</td><td> 3.3</td><td> 3623</td><td>  3888</td><td> 0.6</td><td> 17594</td></tr>\n",
       "\t<tr><td>Bosnia and Herzegovina</td><td>   516</td><td>   933</td><td> 5.5</td><td>  101</td><td>   227</td><td> 1.3</td><td>   706</td></tr>\n",
       "\t<tr><td>Kosovo                </td><td>   648</td><td>  1228</td><td>18.3</td><td>  135</td><td>   302</td><td> 4.5</td><td>   926</td></tr>\n",
       "</tbody>\n",
       "</table>\n"
      ],
      "text/latex": [
       "A matrix: 39 × 8 of type chr\n",
       "\\begin{tabular}{llllllll}\n",
       "  & Receipts (million EUR) 2013 & Receipts (million EUR) 2018 & Relative to GDP 2018 (\\%) & Expenditure (million EUR) 2013 & Expenditure (million EUR) 2018 & Relative to GDP 2018 (\\%) & Balance (million EUR) 2018\\\\\n",
       "\\hline\n",
       "\t EU-27                  & 126011 & 156587 &  1.2 & 86738 & 109167 &  0.8 &  47420\\\\\n",
       "\t Belgium                &  10074 &   7528 &  1.6 & 16692 &  15654 &  3.4 &  -8126\\\\\n",
       "\t Bulgaria               &   2891 &   3808 &  6.8 &   840 &   1584 &  2.8 &   2224\\\\\n",
       "\t Czechia                &   5303 &   6305 &  3.0 &  3494 &   5056 &  2.4 &   1250\\\\\n",
       "\t Denmark                &   5385 &   7719 &  2.6 &  7584 &   8927 &  3.0 &  -1208\\\\\n",
       "\t Germany                &  31081 &  36390 &  1.1 & 68793 &  80933 &  2.4 & -44543\\\\\n",
       "\t Estonia                &   1256 &   1510 &  5.8 &   803 &   1245 &  4.8 &    265\\\\\n",
       "\t Ireland                &   3370 &   5760 &  1.8 &  4669 &   6399 &  2.0 &   -639\\\\\n",
       "\t Greece                 &  12152 &  16086 &  9.0 &  1835 &   2191 &  1.2 &  13895\\\\\n",
       "\t Spain                  &  51589 &  69168 &  5.7 & 12359 &  22396 &  1.9 &  46772\\\\\n",
       "\t France                 &  53103 &  55912 &  2.4 & 31787 &  41398 &  1.8 &  14514\\\\\n",
       "\t Croatia                &   6136 &   9489 & 18.3 &   679 &   1434 &  2.8 &   8054\\\\\n",
       "\t Italy                  &  33063 &  41712 &  2.4 & 20309 &  25484 &  1.4 &  16228\\\\\n",
       "\t Cyprus                 &   2211 &   2940 & 13.7 &   944 &   1330 &  6.2 &   1610\\\\\n",
       "\t Latvia                 &    651 &    897 &  3.1 &   538 &    660 &  2.3 &    237\\\\\n",
       "\t Lithuania              &   1035 &   1274 &  2.8 &   805 &   1186 &  2.6 &     89\\\\\n",
       "\t Luxembourg             &   5387 &   5175 &  8.6 &  1896 &   2813 &  4.7 &   2362\\\\\n",
       "\t Hungary                &   4043 &   5850 &  4.3 &  1437 &   2239 &  1.6 &   3612\\\\\n",
       "\t Malta                  &   1057 &   1574 & 12.6 &   289 &    440 &  3.5 &   1133\\\\\n",
       "\t Netherlands            &  10343 &  15057 &  1.9 & 15589 &  17680 &  2.3 &  -2623\\\\\n",
       "\t Austria                &  15237 &  19559 &  5.1 &  7738 &  10020 &  2.6 &   9539\\\\\n",
       "\t Poland                 &   8405 &  11759 &  2.4 &  6483 &   8042 &  1.6 &   3717\\\\\n",
       "\t Portugal               & NA     &  17053 &  8.3 & NA    &   4585 &  2.2 &  12468\\\\\n",
       "\t Romania                &   1392 &   2876 &  1.4 &  1508 &   4522 &  2.2 &  -1646\\\\\n",
       "\t Slovenia               &   2094 &   2704 &  5.9 &  1068 &   1482 &  3.2 &   1221\\\\\n",
       "\t Slovakia               &   1998 &   2710 &  3.0 &  1782 &   2225 &  2.5 &    484\\\\\n",
       "\t Finland                &   3044 &   3104 &  1.3 &  3989 &   5151 &  2.2 &  -2047\\\\\n",
       "\t Sweden                 &   8182 &   8464 &  1.8 & 11552 &  13297 &  2.8 &  -4833\\\\\n",
       "\t United Kingdom         &  35080 &  42387 &  1.8 & 45556 &  60006 &  2.5 & -17619\\\\\n",
       "\t Iceland                &    813 &   2658 & 12.2 &   639 &   1554 &  7.1 &   1104\\\\\n",
       "\t Norway                 & NA     &   4956 & NA   & NA    &  14699 & NA   &  -9743\\\\\n",
       "\t Switzerland            &  12562 &  15232 &  2.4 & 12819 &  16147 &  2.6 &   -914\\\\\n",
       "\t Montenegro             &    666 &   1001 & 21.5 &    37 &     58 &  1.2 &    943\\\\\n",
       "\t North Macedonia        &    201 &    325 &  3.0 &    98 &    220 &  2.0 &    105\\\\\n",
       "\t Albania                & NA     &   1856 & 14.5 & NA    &   1426 & 11.1 &    430\\\\\n",
       "\t Serbia                 &    792 &   1317 &  3.1 &   841 &   1396 &  3.3 &    -79\\\\\n",
       "\t Turkey                 &  21089 &  21482 &  3.3 &  3623 &   3888 &  0.6 &  17594\\\\\n",
       "\t Bosnia and Herzegovina &    516 &    933 &  5.5 &   101 &    227 &  1.3 &    706\\\\\n",
       "\t Kosovo                 &    648 &   1228 & 18.3 &   135 &    302 &  4.5 &    926\\\\\n",
       "\\end{tabular}\n"
      ],
      "text/markdown": [
       "\n",
       "A matrix: 39 × 8 of type chr\n",
       "\n",
       "| <!----> | Receipts (million EUR) 2013 | Receipts (million EUR) 2018 | Relative to GDP 2018 (%) | Expenditure (million EUR) 2013 | Expenditure (million EUR) 2018 | Relative to GDP 2018 (%) | Balance (million EUR) 2018 |\n",
       "|---|---|---|---|---|---|---|---|\n",
       "| EU-27                  | 126011 | 156587 |  1.2 | 86738 | 109167 |  0.8 |  47420 |\n",
       "| Belgium                |  10074 |   7528 |  1.6 | 16692 |  15654 |  3.4 |  -8126 |\n",
       "| Bulgaria               |   2891 |   3808 |  6.8 |   840 |   1584 |  2.8 |   2224 |\n",
       "| Czechia                |   5303 |   6305 |  3.0 |  3494 |   5056 |  2.4 |   1250 |\n",
       "| Denmark                |   5385 |   7719 |  2.6 |  7584 |   8927 |  3.0 |  -1208 |\n",
       "| Germany                |  31081 |  36390 |  1.1 | 68793 |  80933 |  2.4 | -44543 |\n",
       "| Estonia                |   1256 |   1510 |  5.8 |   803 |   1245 |  4.8 |    265 |\n",
       "| Ireland                |   3370 |   5760 |  1.8 |  4669 |   6399 |  2.0 |   -639 |\n",
       "| Greece                 |  12152 |  16086 |  9.0 |  1835 |   2191 |  1.2 |  13895 |\n",
       "| Spain                  |  51589 |  69168 |  5.7 | 12359 |  22396 |  1.9 |  46772 |\n",
       "| France                 |  53103 |  55912 |  2.4 | 31787 |  41398 |  1.8 |  14514 |\n",
       "| Croatia                |   6136 |   9489 | 18.3 |   679 |   1434 |  2.8 |   8054 |\n",
       "| Italy                  |  33063 |  41712 |  2.4 | 20309 |  25484 |  1.4 |  16228 |\n",
       "| Cyprus                 |   2211 |   2940 | 13.7 |   944 |   1330 |  6.2 |   1610 |\n",
       "| Latvia                 |    651 |    897 |  3.1 |   538 |    660 |  2.3 |    237 |\n",
       "| Lithuania              |   1035 |   1274 |  2.8 |   805 |   1186 |  2.6 |     89 |\n",
       "| Luxembourg             |   5387 |   5175 |  8.6 |  1896 |   2813 |  4.7 |   2362 |\n",
       "| Hungary                |   4043 |   5850 |  4.3 |  1437 |   2239 |  1.6 |   3612 |\n",
       "| Malta                  |   1057 |   1574 | 12.6 |   289 |    440 |  3.5 |   1133 |\n",
       "| Netherlands            |  10343 |  15057 |  1.9 | 15589 |  17680 |  2.3 |  -2623 |\n",
       "| Austria                |  15237 |  19559 |  5.1 |  7738 |  10020 |  2.6 |   9539 |\n",
       "| Poland                 |   8405 |  11759 |  2.4 |  6483 |   8042 |  1.6 |   3717 |\n",
       "| Portugal               | NA     |  17053 |  8.3 | NA    |   4585 |  2.2 |  12468 |\n",
       "| Romania                |   1392 |   2876 |  1.4 |  1508 |   4522 |  2.2 |  -1646 |\n",
       "| Slovenia               |   2094 |   2704 |  5.9 |  1068 |   1482 |  3.2 |   1221 |\n",
       "| Slovakia               |   1998 |   2710 |  3.0 |  1782 |   2225 |  2.5 |    484 |\n",
       "| Finland                |   3044 |   3104 |  1.3 |  3989 |   5151 |  2.2 |  -2047 |\n",
       "| Sweden                 |   8182 |   8464 |  1.8 | 11552 |  13297 |  2.8 |  -4833 |\n",
       "| United Kingdom         |  35080 |  42387 |  1.8 | 45556 |  60006 |  2.5 | -17619 |\n",
       "| Iceland                |    813 |   2658 | 12.2 |   639 |   1554 |  7.1 |   1104 |\n",
       "| Norway                 | NA     |   4956 | NA   | NA    |  14699 | NA   |  -9743 |\n",
       "| Switzerland            |  12562 |  15232 |  2.4 | 12819 |  16147 |  2.6 |   -914 |\n",
       "| Montenegro             |    666 |   1001 | 21.5 |    37 |     58 |  1.2 |    943 |\n",
       "| North Macedonia        |    201 |    325 |  3.0 |    98 |    220 |  2.0 |    105 |\n",
       "| Albania                | NA     |   1856 | 14.5 | NA    |   1426 | 11.1 |    430 |\n",
       "| Serbia                 |    792 |   1317 |  3.1 |   841 |   1396 |  3.3 |    -79 |\n",
       "| Turkey                 |  21089 |  21482 |  3.3 |  3623 |   3888 |  0.6 |  17594 |\n",
       "| Bosnia and Herzegovina |    516 |    933 |  5.5 |   101 |    227 |  1.3 |    706 |\n",
       "| Kosovo                 |    648 |   1228 | 18.3 |   135 |    302 |  4.5 |    926 |\n",
       "\n"
      ],
      "text/plain": [
       "                             Receipts (million EUR) 2013\n",
       " [1,] EU-27                  126011                     \n",
       " [2,] Belgium                 10074                     \n",
       " [3,] Bulgaria                 2891                     \n",
       " [4,] Czechia                  5303                     \n",
       " [5,] Denmark                  5385                     \n",
       " [6,] Germany                 31081                     \n",
       " [7,] Estonia                  1256                     \n",
       " [8,] Ireland                  3370                     \n",
       " [9,] Greece                  12152                     \n",
       "[10,] Spain                   51589                     \n",
       "[11,] France                  53103                     \n",
       "[12,] Croatia                  6136                     \n",
       "[13,] Italy                   33063                     \n",
       "[14,] Cyprus                   2211                     \n",
       "[15,] Latvia                    651                     \n",
       "[16,] Lithuania                1035                     \n",
       "[17,] Luxembourg               5387                     \n",
       "[18,] Hungary                  4043                     \n",
       "[19,] Malta                    1057                     \n",
       "[20,] Netherlands             10343                     \n",
       "[21,] Austria                 15237                     \n",
       "[22,] Poland                   8405                     \n",
       "[23,] Portugal               NA                         \n",
       "[24,] Romania                  1392                     \n",
       "[25,] Slovenia                 2094                     \n",
       "[26,] Slovakia                 1998                     \n",
       "[27,] Finland                  3044                     \n",
       "[28,] Sweden                   8182                     \n",
       "[29,] United Kingdom          35080                     \n",
       "[30,] Iceland                   813                     \n",
       "[31,] Norway                 NA                         \n",
       "[32,] Switzerland             12562                     \n",
       "[33,] Montenegro                666                     \n",
       "[34,] North Macedonia           201                     \n",
       "[35,] Albania                NA                         \n",
       "[36,] Serbia                    792                     \n",
       "[37,] Turkey                  21089                     \n",
       "[38,] Bosnia and Herzegovina    516                     \n",
       "[39,] Kosovo                    648                     \n",
       "      Receipts (million EUR) 2018 Relative to GDP 2018 (%)\n",
       " [1,] 156587                       1.2                    \n",
       " [2,]   7528                       1.6                    \n",
       " [3,]   3808                       6.8                    \n",
       " [4,]   6305                       3.0                    \n",
       " [5,]   7719                       2.6                    \n",
       " [6,]  36390                       1.1                    \n",
       " [7,]   1510                       5.8                    \n",
       " [8,]   5760                       1.8                    \n",
       " [9,]  16086                       9.0                    \n",
       "[10,]  69168                       5.7                    \n",
       "[11,]  55912                       2.4                    \n",
       "[12,]   9489                      18.3                    \n",
       "[13,]  41712                       2.4                    \n",
       "[14,]   2940                      13.7                    \n",
       "[15,]    897                       3.1                    \n",
       "[16,]   1274                       2.8                    \n",
       "[17,]   5175                       8.6                    \n",
       "[18,]   5850                       4.3                    \n",
       "[19,]   1574                      12.6                    \n",
       "[20,]  15057                       1.9                    \n",
       "[21,]  19559                       5.1                    \n",
       "[22,]  11759                       2.4                    \n",
       "[23,]  17053                       8.3                    \n",
       "[24,]   2876                       1.4                    \n",
       "[25,]   2704                       5.9                    \n",
       "[26,]   2710                       3.0                    \n",
       "[27,]   3104                       1.3                    \n",
       "[28,]   8464                       1.8                    \n",
       "[29,]  42387                       1.8                    \n",
       "[30,]   2658                      12.2                    \n",
       "[31,]   4956                      NA                      \n",
       "[32,]  15232                       2.4                    \n",
       "[33,]   1001                      21.5                    \n",
       "[34,]    325                       3.0                    \n",
       "[35,]   1856                      14.5                    \n",
       "[36,]   1317                       3.1                    \n",
       "[37,]  21482                       3.3                    \n",
       "[38,]    933                       5.5                    \n",
       "[39,]   1228                      18.3                    \n",
       "      Expenditure (million EUR) 2013 Expenditure (million EUR) 2018\n",
       " [1,] 86738                          109167                        \n",
       " [2,] 16692                           15654                        \n",
       " [3,]   840                            1584                        \n",
       " [4,]  3494                            5056                        \n",
       " [5,]  7584                            8927                        \n",
       " [6,] 68793                           80933                        \n",
       " [7,]   803                            1245                        \n",
       " [8,]  4669                            6399                        \n",
       " [9,]  1835                            2191                        \n",
       "[10,] 12359                           22396                        \n",
       "[11,] 31787                           41398                        \n",
       "[12,]   679                            1434                        \n",
       "[13,] 20309                           25484                        \n",
       "[14,]   944                            1330                        \n",
       "[15,]   538                             660                        \n",
       "[16,]   805                            1186                        \n",
       "[17,]  1896                            2813                        \n",
       "[18,]  1437                            2239                        \n",
       "[19,]   289                             440                        \n",
       "[20,] 15589                           17680                        \n",
       "[21,]  7738                           10020                        \n",
       "[22,]  6483                            8042                        \n",
       "[23,] NA                               4585                        \n",
       "[24,]  1508                            4522                        \n",
       "[25,]  1068                            1482                        \n",
       "[26,]  1782                            2225                        \n",
       "[27,]  3989                            5151                        \n",
       "[28,] 11552                           13297                        \n",
       "[29,] 45556                           60006                        \n",
       "[30,]   639                            1554                        \n",
       "[31,] NA                              14699                        \n",
       "[32,] 12819                           16147                        \n",
       "[33,]    37                              58                        \n",
       "[34,]    98                             220                        \n",
       "[35,] NA                               1426                        \n",
       "[36,]   841                            1396                        \n",
       "[37,]  3623                            3888                        \n",
       "[38,]   101                             227                        \n",
       "[39,]   135                             302                        \n",
       "      Relative to GDP 2018 (%) Balance (million EUR) 2018\n",
       " [1,]  0.8                      47420                    \n",
       " [2,]  3.4                      -8126                    \n",
       " [3,]  2.8                       2224                    \n",
       " [4,]  2.4                       1250                    \n",
       " [5,]  3.0                      -1208                    \n",
       " [6,]  2.4                     -44543                    \n",
       " [7,]  4.8                        265                    \n",
       " [8,]  2.0                       -639                    \n",
       " [9,]  1.2                      13895                    \n",
       "[10,]  1.9                      46772                    \n",
       "[11,]  1.8                      14514                    \n",
       "[12,]  2.8                       8054                    \n",
       "[13,]  1.4                      16228                    \n",
       "[14,]  6.2                       1610                    \n",
       "[15,]  2.3                        237                    \n",
       "[16,]  2.6                         89                    \n",
       "[17,]  4.7                       2362                    \n",
       "[18,]  1.6                       3612                    \n",
       "[19,]  3.5                       1133                    \n",
       "[20,]  2.3                      -2623                    \n",
       "[21,]  2.6                       9539                    \n",
       "[22,]  1.6                       3717                    \n",
       "[23,]  2.2                      12468                    \n",
       "[24,]  2.2                      -1646                    \n",
       "[25,]  3.2                       1221                    \n",
       "[26,]  2.5                        484                    \n",
       "[27,]  2.2                      -2047                    \n",
       "[28,]  2.8                      -4833                    \n",
       "[29,]  2.5                     -17619                    \n",
       "[30,]  7.1                       1104                    \n",
       "[31,] NA                        -9743                    \n",
       "[32,]  2.6                       -914                    \n",
       "[33,]  1.2                        943                    \n",
       "[34,]  2.0                        105                    \n",
       "[35,] 11.1                        430                    \n",
       "[36,]  3.3                        -79                    \n",
       "[37,]  0.6                      17594                    \n",
       "[38,]  1.3                        706                    \n",
       "[39,]  4.5                        926                    "
      ]
     },
     "metadata": {},
     "output_type": "display_data"
    }
   ],
   "source": [
    "table3_final <- rbind(table3_EU,table3)\n",
    "\n",
    "as.matrix(table3_final)"
   ]
  }
 ],
 "metadata": {
  "kernelspec": {
   "display_name": "R",
   "language": "R",
   "name": "ir"
  },
  "language_info": {
   "codemirror_mode": "r",
   "file_extension": ".r",
   "mimetype": "text/x-r-source",
   "name": "R",
   "pygments_lexer": "r",
   "version": "3.6.1"
  }
 },
 "nbformat": 4,
 "nbformat_minor": 4
}
