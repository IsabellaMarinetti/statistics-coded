{
 "cells": [
  {
   "cell_type": "markdown",
   "metadata": {},
   "source": [
    "# *Statistics coded*: Tourism statistics \n",
    "\n",
    "Prepared by **S. Hadj Hassen** ([EMOS](https://ec.europa.eu/eurostat/web/european-statistical-system/emos)).\n",
    "\n",
    "The objective of this notebook is to reproduce the figures of the *Statistics Explained* article on [**tourism statistics**](https://ec.europa.eu/eurostat/statistics-explained/index.php?title=Tourism_statistics)."
   ]
  },
  {
   "cell_type": "markdown",
   "metadata": {},
   "source": [
    "## Configuration\n",
    "\n",
    "If necessary install the following packages and load them afterwards."
   ]
  },
  {
   "cell_type": "code",
   "execution_count": null,
   "metadata": {},
   "outputs": [],
   "source": [
    "# install.packages(c(\"ggplot2\", \"plotly\", \"tidyr\", \"repr\", \"dplyr\", \"devtools\", \"restatapi\", \"eurostat\", \n",
    "#                    \"patchwork\", \"Matching\", \"ggforce\", \"h2o\", \"plyr\"))"
   ]
  },
  {
   "cell_type": "code",
   "execution_count": 1,
   "metadata": {},
   "outputs": [
    {
     "name": "stderr",
     "output_type": "stream",
     "text": [
      "Warning message:\n",
      "\"package 'ggplot2' was built under R version 3.6.3\"Warning message:\n",
      "\"package 'tidyr' was built under R version 3.6.3\"Warning message:\n",
      "\"package 'dplyr' was built under R version 3.6.3\"\n",
      "Attaching package: 'dplyr'\n",
      "\n",
      "The following objects are masked from 'package:stats':\n",
      "\n",
      "    filter, lag\n",
      "\n",
      "The following objects are masked from 'package:base':\n",
      "\n",
      "    intersect, setdiff, setequal, union\n",
      "\n",
      "Warning message:\n",
      "\"package 'eurostat' was built under R version 3.6.3\"Warning message:\n",
      "\"package 'Matching' was built under R version 3.6.3\"Loading required package: MASS\n",
      "\n",
      "Attaching package: 'MASS'\n",
      "\n",
      "The following object is masked from 'package:dplyr':\n",
      "\n",
      "    select\n",
      "\n",
      "## \n",
      "##  Matching (Version 4.9-7, Build Date: 2020-02-05)\n",
      "##  See http://sekhon.berkeley.edu/matching for additional documentation.\n",
      "##  Please cite software as:\n",
      "##   Jasjeet S. Sekhon. 2011. ``Multivariate and Propensity Score Matching\n",
      "##   Software with Automated Balance Optimization: The Matching package for R.''\n",
      "##   Journal of Statistical Software, 42(7): 1-52. \n",
      "##\n",
      "\n",
      "Warning message:\n",
      "\"package 'ggforce' was built under R version 3.6.3\"\n",
      "----------------------------------------------------------------------\n",
      "\n",
      "Your next step is to start H2O:\n",
      "    > h2o.init()\n",
      "\n",
      "For H2O package documentation, ask for help:\n",
      "    > ??h2o\n",
      "\n",
      "After starting H2O, you can use the Web UI at http://localhost:54321\n",
      "For more information visit https://docs.h2o.ai\n",
      "\n",
      "----------------------------------------------------------------------\n",
      "\n",
      "\n",
      "Attaching package: 'h2o'\n",
      "\n",
      "The following objects are masked from 'package:stats':\n",
      "\n",
      "    cor, sd, var\n",
      "\n",
      "The following objects are masked from 'package:base':\n",
      "\n",
      "    %*%, %in%, &&, ||, apply, as.factor, as.numeric, colnames,\n",
      "    colnames<-, ifelse, is.character, is.factor, is.numeric, log,\n",
      "    log10, log1p, log2, round, signif, trunc\n",
      "\n",
      "------------------------------------------------------------------------------\n",
      "You have loaded plyr after dplyr - this is likely to cause problems.\n",
      "If you need functions from both plyr and dplyr, please load plyr first, then dplyr:\n",
      "library(plyr); library(dplyr)\n",
      "------------------------------------------------------------------------------\n",
      "\n",
      "Attaching package: 'plyr'\n",
      "\n",
      "The following objects are masked from 'package:dplyr':\n",
      "\n",
      "    arrange, count, desc, failwith, id, mutate, rename, summarise,\n",
      "    summarize\n",
      "\n"
     ]
    }
   ],
   "source": [
    "library(ggplot2)\n",
    "library(tidyr)\n",
    "library(dplyr)\n",
    "# library(eurostat)\n",
    "library(restatapi)\n",
    #"library(Matching)\n",
    "library(stats)\n",
    "library(base)\n",
    "library(ggforce)\n",
    #"library(h2o)\n",
    "library(plyr)"
   ]
  },
  {
   "cell_type": "markdown",
   "metadata": {},
   "source": [
    "## Tourism destinations - Nights spent at tourist accomodation establishments, 2018\n",
    "\n",
    "### Graph of the abstract\n",
    "\n",
    "#### First step\n",
    "\n",
    "  - load the needed data: `data`\n",
    "  - we just need the data for 2018, therefore we add a column, which indicates only the year - we will do this for each subsequent datset \n",
    "  - create a vector with all needed countries: `countr`"
   ]
  },
  {
   "cell_type": "code",
   "execution_count": 19,
   "metadata": {},
   "outputs": [
    {
     "name": "stderr",
     "output_type": "stream",
     "text": [
      "Reading cache file C:\\Users\\sarah\\AppData\\Local\\Temp\\RtmpKcvhK6/eurostat/tour_occ_ninat_date_code_TF.rds\n",
      "Table  tour_occ_ninat  read from cache file:  C:\\Users\\sarah\\AppData\\Local\\Temp\\RtmpKcvhK6/eurostat/tour_occ_ninat_date_code_TF.rds\n"
     ]
    }
   ],
   "source": [
    "data <- as_tibble(get_eurostat_data(id=\"tour_occ_ninat\")) \n",
    "\n",
    "data$year <- as.integer(substr(data$time,1,4))\n",
    "\n",
    "countr <- c(\"ES\",\"IT\",\"FR\",\"EL\",\"AT\",\"DE\",\"HR\",\"PT\",\"NL\",\"CZ\",\"BE\",\"BG\",\"PL\",\"IE\",\"CY\",\"SE\",\"HU\",\"DK\",\"SI\",\n",
    "            \"MT\",\"FI\",\"SK\",\"RO\",\"EE\",\"LV\",\"LT\",\"LU\",\"UK\",\"CH\",\"NO\",\"IS\",\"LI\",\"TR\",\"ME\",\"RS\",\"MK\",\"XK\")"
   ]
  },
  {
   "cell_type": "markdown",
   "metadata": {},
   "source": [
    "For Ireland, Slovenia, United Kingdom, Switzerland, Norway, Iceland, Montenegro, Serbia and Kosovo we need 2018 monthly data.\n",
    "- therefore we need another dataset and have to load it: `data_month`\n",
    "- add a column, which indicates only the year and one with the month\n",
    "- create a vector, which includes only the countries mentioned above: `countr_fig0`"
   ]
  },
  {
   "cell_type": "code",
   "execution_count": 20,
   "metadata": {},
   "outputs": [
    {
     "name": "stderr",
     "output_type": "stream",
     "text": [
      "Table tour_occ_nim cached at C:\\Users\\sarah\\AppData\\Local\\Temp\\RtmpKcvhK6/eurostat/tour_occ_nim_date_code_TF.rds\n"
     ]
    }
   ],
   "source": [
    "data_month <- as_tibble(get_eurostat_data(id=\"tour_occ_nim\"))\n",
    "\n",
    "data_month$year <- as.integer(substr(data_month$time,1,4))\n",
    "data_month$month <- as.integer(substr(data_month$time,6,7))\n",
    "\n",
    "countr_fig0 <- c(\"IE\",\"SI\",\"UK\",\"CH\",\"NO\",\"IS\",\"ME\",\"RS\",\"XK\")"
   ]
  },
  {
   "cell_type": "markdown",
   "metadata": {},
   "source": [
    "- build the subset, which we need for the graph: `data_mod`\n",
    "- because we have monthly data - but need yearly data - we have to aggregate the data per country\n",
    "- name the second column "
   ]
  },
  {
   "cell_type": "code",
   "execution_count": 21,
   "metadata": {},
   "outputs": [],
   "source": [
    "data_mod <- subset(data_month, \n",
    "                    data_month$geo %in% countr_fig0 & #include just the countries of the vector above\n",
    "                    data_month$year==2018 & #only values for 2018\n",
    "                    data_month$c_resid==\"FOR\" & #just non-residents\n",
    "                    data_month$nace_r2==\"I551-I553\"& #the classification we need\n",
    "                    data_month$unit==\"NR\") #we need the unit \"number\"\n",
    "\n",
    "data_mod <- aggregate(data_mod$values, by = list(geo = data_mod$geo), FUN = sum)\n",
    "\n",
    "names(data_mod)[2] <- \"values\""
   ]
  },
  {
   "cell_type": "markdown",
   "metadata": {},
   "source": [
    "Build needed subset for the other countries (same like above with the dataset `data`): `data_mod2`\n",
    "- we only need column 4 and 6 for the following analysis"
   ]
  },
  {
   "cell_type": "code",
   "execution_count": 22,
   "metadata": {
    "scrolled": true
   },
   "outputs": [],
   "source": [
    "data_mod2 <- subset(data, \n",
    "                    data$geo %in% countr & \n",
    "                    data$year==2018 &\n",
    "                    data$c_resid==\"FOR\" &\n",
    "                    data$nace_r2==\"I551-I553\"&\n",
    "                    data$unit==\"NR\")\n",
    "\n",
    "data_mod2 <- data_mod2[,c(4,6)]"
   ]
  },
  {
   "cell_type": "markdown",
   "metadata": {},
   "source": [
    "For Turkey (`countr_fig0_1`) we need data from 2016. Build subset `data_mod3`"
   ]
  },
  {
   "cell_type": "code",
   "execution_count": 23,
   "metadata": {},
   "outputs": [],
   "source": [
    "countr_fig0_1 <- c(\"TR\")\n",
    "\n",
    "data_mod3 <- subset(data, \n",
    "                    data$geo %in% countr_fig0_1 & \n",
    "                    data$year==2016 & \n",
    "                    data$c_resid==\"FOR\" &\n",
    "                    data$nace_r2==\"I551-I553\"&\n",
    "                    data$unit==\"NR\")\n",
    "\n",
    "data_mod3 <- data_mod3[,c(4,6)] "
   ]
  },
  {
   "cell_type": "markdown",
   "metadata": {},
   "source": [
    "#### Second step\n",
    "\n",
    "Match `data_mod1` and `data_mod2` and `data_mod3`\n",
    "- i.e. use rbind to stick the data frames together - we get the final dataset for the graph: `data_mod4`\n",
    "\n",
    "Bring the country names in the order the graphic shows: you can do this due to modify the levels of the variable `\"geo\"`."
   ]
  },
  {
   "cell_type": "code",
   "execution_count": 24,
   "metadata": {},
   "outputs": [],
   "source": [
    "data_mod4 <- rbind(data_mod,data_mod2,data_mod3)"
   ]
  },
  {
   "cell_type": "code",
   "execution_count": 25,
   "metadata": {},
   "outputs": [
    {
     "data": {
      "text/html": [
       "<table>\n",
       "<caption>A data.frame: 6 × 2</caption>\n",
       "<thead>\n",
       "\t<tr><th></th><th scope=col>geo</th><th scope=col>values</th></tr>\n",
       "\t<tr><th></th><th scope=col>&lt;fct&gt;</th><th scope=col>&lt;dbl&gt;</th></tr>\n",
       "</thead>\n",
       "<tbody>\n",
       "\t<tr><th scope=row>1</th><td>NO</td><td> 10138183</td></tr>\n",
       "\t<tr><th scope=row>2</th><td>CH</td><td> 26720046</td></tr>\n",
       "\t<tr><th scope=row>3</th><td>IS</td><td>  7446807</td></tr>\n",
       "\t<tr><th scope=row>4</th><td>RS</td><td>  3656787</td></tr>\n",
       "\t<tr><th scope=row>5</th><td>SI</td><td> 11159025</td></tr>\n",
       "\t<tr><th scope=row>6</th><td>UK</td><td>140385998</td></tr>\n",
       "</tbody>\n",
       "</table>\n"
      ],
      "text/latex": [
       "A data.frame: 6 × 2\n",
       "\\begin{tabular}{r|ll}\n",
       "  & geo & values\\\\\n",
       "  & <fct> & <dbl>\\\\\n",
       "\\hline\n",
       "\t1 & NO &  10138183\\\\\n",
       "\t2 & CH &  26720046\\\\\n",
       "\t3 & IS &   7446807\\\\\n",
       "\t4 & RS &   3656787\\\\\n",
       "\t5 & SI &  11159025\\\\\n",
       "\t6 & UK & 140385998\\\\\n",
       "\\end{tabular}\n"
      ],
      "text/markdown": [
       "\n",
       "A data.frame: 6 × 2\n",
       "\n",
       "| <!--/--> | geo &lt;fct&gt; | values &lt;dbl&gt; |\n",
       "|---|---|---|\n",
       "| 1 | NO |  10138183 |\n",
       "| 2 | CH |  26720046 |\n",
       "| 3 | IS |   7446807 |\n",
       "| 4 | RS |   3656787 |\n",
       "| 5 | SI |  11159025 |\n",
       "| 6 | UK | 140385998 |\n",
       "\n"
      ],
      "text/plain": [
       "  geo values   \n",
       "1 NO   10138183\n",
       "2 CH   26720046\n",
       "3 IS    7446807\n",
       "4 RS    3656787\n",
       "5 SI   11159025\n",
       "6 UK  140385998"
      ]
     },
     "metadata": {},
     "output_type": "display_data"
    }
   ],
   "source": [
    "data_mod4$geo <- factor(data_mod4$geo,\n",
    "                        levels = c(\"ES\",\"IT\",\"FR\",\"EL\",\"AT\",\"DE\",\"HR\",\"PT\",\"NL\",\"CZ\",\"BE\",\"BG\",\"PL\",\"IE\",\"CY\",\"SE\",\"HU\",\n",
    "                                   \"DK\",\"SI\", \"MT\",\"FI\",\"SK\",\"RO\",\"EE\",\"LV\",\"LT\",\"LU\",\"UK\",\"CH\",\"NO\",\"IS\",\"LI\",\"TR\",\"ME\",\n",
    "                                   \"RS\",\"MK\",\"XK\"))\n",
    "\n",
    "head(data_mod4)"
   ]
  },
  {
   "cell_type": "markdown",
   "metadata": {},
   "source": [
    "#### Third step\n",
    "\n",
    "Finally use the modified dataset `data_mod4` and build the graph by using `ggplot`."
   ]
  },
  {
   "cell_type": "code",
   "execution_count": 26,
   "metadata": {},
   "outputs": [
    {
     "data": {
      "image/png": "iVBORw0KGgoAAAANSUhEUgAAA0gAAANICAMAAADKOT/pAAAANlBMVEUAAAAzMzNNTU1PlM1o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\nAggSIIAgAQIIEiCAIAECCBIg4H/ugB7Bq7xXAwAAAABJRU5ErkJggg==",
      "text/plain": [
       "plot without title"
      ]
     },
     "metadata": {},
     "output_type": "display_data"
    }
   ],
   "source": [
    "options(scipen=999) #prevent scientific notation\n",
    "label_axes1 <- seq(0, 300, by = 50) #we need this later to label the axes\n",
    "\n",
    "ggplot(data_mod4, #needed dataset\n",
    "       aes(x=geo,y=values)) + #the axes you want\n",
    "            geom_bar(stat = \"identity\", position=\"dodge\", width=0.5, fill=\"steelblue3\") + #for creating a bar chart\n",
    "            theme_classic() +\n",
    "            scale_y_continuous(limits = c(0, 310000000), breaks = seq(0, 300000000, by = 50000000), #limit the axes\n",
    "                              labels=label_axes1) + #label the axes\n",
    "            ggtitle(\"Tourism destinations - nights spent at tourist accomodation establishments, 2018\") +\n",
    "            ylab(\"(million nights spent in the country by non-residents\") + #name the axes\n",
    "            xlab(\" \")"
   ]
  },
  {
   "cell_type": "markdown",
   "metadata": {},
   "source": [
    "## Bed places in the EU-27: Italy and France predominate\n",
    "\n",
    "### Table 1\n",
    "\n",
    "We need 3 datasets - one for each column:\n",
    "- create a countries vector - the countries are already in the same order the table shows: `countr_0`"
   ]
  },
  {
   "cell_type": "code",
   "execution_count": 27,
   "metadata": {},
   "outputs": [],
   "source": [
    "countr_0 <- c(\"BE\",\"BG\",\"CZ\",\"DK\",\"DE\",\"EE\",\"IE\",\"EL\",\"ES\",\"FR\",\"HR\",\"IT\",\"CY\",\"LV\",\"LT\",\"LU\",\"HU\",\"MT\",\"NL\",\n",
    "              \"AT\",\"PL\",\"PT\",\"RO\",\"SI\",\"SK\",\"FI\",\"SE\",\"UK\",\"IS\",\"LI\",\"NO\",\"CH\",\"ME\",\"MK\",\"RS\",\"TR\",\"XK\")"
   ]
  },
  {
   "cell_type": "markdown",
   "metadata": {},
   "source": [
    "#### First step\n",
    "\n",
    "column 1: number of establishments (units)\n",
    "- load the needed data and add the year-column: `data_1`\n",
    "- exclude the countries from the country-vector, which need data from 2016 and 2017: `countr_tab1`"
   ]
  },
  {
   "cell_type": "code",
   "execution_count": 28,
   "metadata": {},
   "outputs": [
    {
     "name": "stderr",
     "output_type": "stream",
     "text": [
      "Table tour_cap_nat cached at C:\\Users\\sarah\\AppData\\Local\\Temp\\RtmpKcvhK6/eurostat/tour_cap_nat_date_code_TF.rds\n"
     ]
    }
   ],
   "source": [
    "data_1 <- as_tibble(get_eurostat_data(id=\"tour_cap_nat\"))\n",
    "data_1$year <- as.integer(substr(data_1$time,1,4))\n",
    "\n",
    "countr_tab1 <- c(\"BE\",\"BG\",\"CZ\",\"DK\",\"DE\",\"EE\",\"EL\",\"ES\",\"FR\",\"HR\",\"IT\",\"CY\",\"LV\",\"LT\",\"HU\",\"MT\",\"NL\",\n",
    "              \"AT\",\"PL\",\"PT\",\"RO\",\"SK\",\"FI\",\"SE\",\"IS\",\"LI\",\"NO\",\"CH\",\"ME\",\"MK\",\"RS\")"
   ]
  },
  {
   "cell_type": "markdown",
   "metadata": {},
   "source": [
    "Build the subset we need for the first column of the table and choose column 4 and 6 again: `data_tab1`"
   ]
  },
  {
   "cell_type": "code",
   "execution_count": 29,
   "metadata": {},
   "outputs": [],
   "source": [
    "data_tab1 <- subset(data_1, \n",
    "                    data_1$geo %in% countr_tab1 & \n",
    "                    data_1$year==2018 &\n",
    "                    data_1$nace_r2==\"I551-I553\"&\n",
    "                    data_1$unit==\"NR\"&\n",
    "                    data_1$accommod==\"ESTBL\")\n",
    "data_tab1 <- data_tab1[,c(4,6)]"
   ]
  },
  {
   "cell_type": "markdown",
   "metadata": {},
   "source": [
    "For Ireland and United Kingdom (`countr_tab1_1`) we need data from 2016. Build the subset: `data_tab1_1`"
   ]
  },
  {
   "cell_type": "code",
   "execution_count": 30,
   "metadata": {},
   "outputs": [],
   "source": [
    "countr_tab1_1 <- c(\"IE\",\"UK\")\n",
    "data_tab1_1 <- subset(data_1, \n",
    "                      data_1$geo %in% countr_tab1_1 & \n",
    "                      data_1$year==2016 &\n",
    "                      data_1$nace_r2==\"I551-I553\"&\n",
    "                      data_1$unit==\"NR\"&\n",
    "                      data_1$accommod==\"ESTBL\")\n",
    "data_tab1_1 <- data_tab1_1[,c(4,6)]"
   ]
  },
  {
   "cell_type": "markdown",
   "metadata": {},
   "source": [
    "For Luxembourg, Slovenia and Kosovo (`countr_tab1_2`) we need data from 2017. Build the subset: `data_tab1_2`"
   ]
  },
  {
   "cell_type": "code",
   "execution_count": 31,
   "metadata": {},
   "outputs": [],
   "source": [
    "countr_tab1_2 <- c(\"LU\",\"SI\",\"XK\")\n",
    "data_tab1_2 <- subset(data_1, \n",
    "                      data_1$geo %in% countr_tab1_2 & \n",
    "                      data_1$year==2017 &\n",
    "                      data_1$nace_r2==\"I551-I553\"&\n",
    "                      data_1$unit==\"NR\"&\n",
    "                      data_1$accommod==\"ESTBL\")\n",
    "data_tab1_2 <- data_tab1_2[,c(4,6)]"
   ]
  },
  {
   "cell_type": "markdown",
   "metadata": {},
   "source": [
    "For Turkey we have NA. Assign to `data_tab1_3`"
   ]
  },
  {
   "cell_type": "code",
   "execution_count": 32,
   "metadata": {},
   "outputs": [],
   "source": [
    "data_tab1_3 <- data.frame( geo = \"TR\", values=  NA)"
   ]
  },
  {
   "cell_type": "markdown",
   "metadata": {},
   "source": [
    "Match the three calculated datasets to `data_tab_col1` and bring the country names in the order the graphic shows"
   ]
  },
  {
   "cell_type": "code",
   "execution_count": 33,
   "metadata": {},
   "outputs": [
    {
     "data": {
      "text/html": [
       "<table>\n",
       "<caption>A tibble: 6 × 2</caption>\n",
       "<thead>\n",
       "\t<tr><th scope=col>geo</th><th scope=col>values</th></tr>\n",
       "\t<tr><th scope=col>&lt;fct&gt;</th><th scope=col>&lt;dbl&gt;</th></tr>\n",
       "</thead>\n",
       "<tbody>\n",
       "\t<tr><td>BE</td><td> 9211</td></tr>\n",
       "\t<tr><td>BG</td><td> 3458</td></tr>\n",
       "\t<tr><td>CZ</td><td> 9426</td></tr>\n",
       "\t<tr><td>DK</td><td> 1167</td></tr>\n",
       "\t<tr><td>DE</td><td>50020</td></tr>\n",
       "\t<tr><td>EE</td><td> 1535</td></tr>\n",
       "</tbody>\n",
       "</table>\n"
      ],
      "text/latex": [
       "A tibble: 6 × 2\n",
       "\\begin{tabular}{ll}\n",
       " geo & values\\\\\n",
       " <fct> & <dbl>\\\\\n",
       "\\hline\n",
       "\t BE &  9211\\\\\n",
       "\t BG &  3458\\\\\n",
       "\t CZ &  9426\\\\\n",
       "\t DK &  1167\\\\\n",
       "\t DE & 50020\\\\\n",
       "\t EE &  1535\\\\\n",
       "\\end{tabular}\n"
      ],
      "text/markdown": [
       "\n",
       "A tibble: 6 × 2\n",
       "\n",
       "| geo &lt;fct&gt; | values &lt;dbl&gt; |\n",
       "|---|---|\n",
       "| BE |  9211 |\n",
       "| BG |  3458 |\n",
       "| CZ |  9426 |\n",
       "| DK |  1167 |\n",
       "| DE | 50020 |\n",
       "| EE |  1535 |\n",
       "\n"
      ],
      "text/plain": [
       "  geo values\n",
       "1 BE   9211 \n",
       "2 BG   3458 \n",
       "3 CZ   9426 \n",
       "4 DK   1167 \n",
       "5 DE  50020 \n",
       "6 EE   1535 "
      ]
     },
     "metadata": {},
     "output_type": "display_data"
    }
   ],
   "source": [
    "data_tab_col1 <- rbind(data_tab1,data_tab1_1,data_tab1_2,data_tab1_3)\n",
    "\n",
    "data_tab_col1 <- data_tab_col1[order(factor(data_tab_col1$geo, levels= countr_0)),]\n",
    "\n",
    "head(data_tab_col1)"
   ]
  },
  {
   "cell_type": "markdown",
   "metadata": {},
   "source": [
    "#### Second step\n",
    "\n",
    "column 2: number of bed places (thousands)\n",
    "- exclude the countries, which need data from 2016 and 2017: `countr_tab2`\n",
    "- build the subset and choose again column 4 and 6: `data_tab2`"
   ]
  },
  {
   "cell_type": "code",
   "execution_count": 34,
   "metadata": {},
   "outputs": [],
   "source": [
    "countr_tab2 <- c(\"BE\",\"BG\",\"CZ\",\"DK\",\"DE\",\"EE\",\"EL\",\"ES\",\"FR\",\"HR\",\"IT\",\"CY\",\"LV\",\"LT\",\"HU\",\"MT\",\"NL\",\n",
    "              \"AT\",\"PL\",\"PT\",\"RO\",\"SK\",\"FI\",\"SE\",\"IS\",\"LI\",\"NO\",\"CH\",\"ME\",\"MK\",\"RS\",\"TR\")\n",
    "data_tab2 <- subset(data_1, \n",
    "                    data_1$geo %in% countr_tab2 & \n",
    "                    data_1$year==2018 &\n",
    "                    data_1$nace_r2==\"I551-I553\"&\n",
    "                    data_1$unit==\"NR\"&\n",
    "                    data_1$accommod==\"BEDPL\")\n",
    "data_tab2 <- data_tab2[,c(4,6)]"
   ]
  },
  {
   "cell_type": "markdown",
   "metadata": {},
   "source": [
    "For Ireland and United Kingdom (`countr_tab2_1`) we need data from 2016. Build the subset: `data_tab2_1`"
   ]
  },
  {
   "cell_type": "code",
   "execution_count": 35,
   "metadata": {},
   "outputs": [],
   "source": [
    "countr_tab2_1 <- c(\"IE\",\"UK\")\n",
    "data_tab2_1 <- subset(data_1, \n",
    "                      data_1$geo %in% countr_tab2_1 & \n",
    "                      data_1$year==2016 &\n",
    "                      data_1$nace_r2==\"I551-I553\"&\n",
    "                      data_1$unit==\"NR\"&\n",
    "                      data_1$accommod==\"BEDPL\")\n",
    "data_tab2_1 <- data_tab2_1[,c(4,6)]"
   ]
  },
  {
   "cell_type": "markdown",
   "metadata": {},
   "source": [
    "For Luxembourg, Slovenia and Kosovo (`countr_tab2_2`) we need data from 2017. Build the subset: `data_tab2_2`"
   ]
  },
  {
   "cell_type": "code",
   "execution_count": 36,
   "metadata": {},
   "outputs": [],
   "source": [
    "countr_tab2_2 <- c(\"LU\",\"SI\",\"XK\")\n",
    "data_tab2_2 <- subset(data_1, \n",
    "                      data_1$geo %in% countr_tab2_2 & \n",
    "                      data_1$year==2017 &\n",
    "                      data_1$nace_r2==\"I551-I553\"&\n",
    "                      data_1$unit==\"NR\"&\n",
    "                      data_1$accommod==\"BEDPL\")\n",
    "data_tab2_2 <- data_tab2_2[,c(4,6)]"
   ]
  },
  {
   "cell_type": "markdown",
   "metadata": {},
   "source": [
    "For Turkey we have NA. Assign to `data_tab2_3`"
   ]
  },
  {
   "cell_type": "code",
   "execution_count": 37,
   "metadata": {},
   "outputs": [],
   "source": [
    "data_tab2_3 <- data.frame( geo = \"TR\", values=  NA)"
   ]
  },
  {
   "cell_type": "markdown",
   "metadata": {},
   "source": [
    "Match the three calculated datasets to `data_tab_col2` and bring the country names in the order the graph shows"
   ]
  },
  {
   "cell_type": "code",
   "execution_count": 38,
   "metadata": {},
   "outputs": [
    {
     "data": {
      "text/html": [
       "<table>\n",
       "<caption>A tibble: 6 × 2</caption>\n",
       "<thead>\n",
       "\t<tr><th scope=col>geo</th><th scope=col>values</th></tr>\n",
       "\t<tr><th scope=col>&lt;fct&gt;</th><th scope=col>&lt;dbl&gt;</th></tr>\n",
       "</thead>\n",
       "<tbody>\n",
       "\t<tr><td>BE</td><td> 389826</td></tr>\n",
       "\t<tr><td>BG</td><td> 335597</td></tr>\n",
       "\t<tr><td>CZ</td><td> 741235</td></tr>\n",
       "\t<tr><td>DK</td><td> 426075</td></tr>\n",
       "\t<tr><td>DE</td><td>3473630</td></tr>\n",
       "\t<tr><td>EE</td><td>  61193</td></tr>\n",
       "</tbody>\n",
       "</table>\n"
      ],
      "text/latex": [
       "A tibble: 6 × 2\n",
       "\\begin{tabular}{ll}\n",
       " geo & values\\\\\n",
       " <fct> & <dbl>\\\\\n",
       "\\hline\n",
       "\t BE &  389826\\\\\n",
       "\t BG &  335597\\\\\n",
       "\t CZ &  741235\\\\\n",
       "\t DK &  426075\\\\\n",
       "\t DE & 3473630\\\\\n",
       "\t EE &   61193\\\\\n",
       "\\end{tabular}\n"
      ],
      "text/markdown": [
       "\n",
       "A tibble: 6 × 2\n",
       "\n",
       "| geo &lt;fct&gt; | values &lt;dbl&gt; |\n",
       "|---|---|\n",
       "| BE |  389826 |\n",
       "| BG |  335597 |\n",
       "| CZ |  741235 |\n",
       "| DK |  426075 |\n",
       "| DE | 3473630 |\n",
       "| EE |   61193 |\n",
       "\n"
      ],
      "text/plain": [
       "  geo values \n",
       "1 BE   389826\n",
       "2 BG   335597\n",
       "3 CZ   741235\n",
       "4 DK   426075\n",
       "5 DE  3473630\n",
       "6 EE    61193"
      ]
     },
     "metadata": {},
     "output_type": "display_data"
    }
   ],
   "source": [
    "data_tab_col2 <- rbind(data_tab2,data_tab2_1,data_tab2_2,data_tab2_3)\n",
    "\n",
    "data_tab_col2 <- data_tab_col2[order(factor(data_tab_col2$geo, levels= countr_0)),]\n",
    "\n",
    "head(data_tab_col2)"
   ]
  },
  {
   "cell_type": "markdown",
   "metadata": {},
   "source": [
    "#### Third step\n",
    "\n",
    "column 3: nights spent by residents and non-residents (millions)\n",
    "- exclude the countries, which need monthly data and data from 2016: `countr_tab3`\n",
    "- we already load the data (`data`) for a graph before. Build the subset: `data_tab3`"
   ]
  },
  {
   "cell_type": "code",
   "execution_count": 39,
   "metadata": {},
   "outputs": [],
   "source": [
    "countr_tab3 <- c(\"BE\",\"BG\",\"CZ\",\"DK\",\"DE\",\"EE\",\"EL\",\"ES\",\"FR\",\"HR\",\"IT\",\"CY\",\"LV\",\"LT\",\"LU\",\"HU\",\"MT\",\"NL\",\n",
    "                 \"AT\",\"PL\",\"PT\",\"RO\",\"SK\",\"FI\",\"SE\",\"LI\",\"MK\",\"TR\")\n",
    "\n",
    "data_tab3 <- subset(data, \n",
    "                    data$geo %in% countr_tab3 & \n",
    "                    data$year==2018 &\n",
    "                    data$c_resid==\"TOTAL\" &\n",
    "                    data$nace_r2==\"I551-I553\"&\n",
    "                    data$unit==\"NR\")\n",
    "data_tab3 <- data_tab3[,c(4,6)]"
   ]
  },
  {
   "cell_type": "markdown",
   "metadata": {},
   "source": [
    "For Ireland, Slovenia, United Kingdom, Switzerland, Norway, Iceland, Montenegro, Serbia and Kosovo (`countr_tab3_1`) we need 2018 monthly data\n",
    "- we already load the data (`data_month`) for a graph before. Build the subset: `data_tab3_1`\n",
    "- because we have monthly data - but need yearly data - we have to aggregate the data per country\n",
    "- name the second column "
   ]
  },
  {
   "cell_type": "code",
   "execution_count": 40,
   "metadata": {},
   "outputs": [],
   "source": [
    "countr_tab3_1 <- c(\"IE\",\"SI\",\"UK\",\"CH\",\"NO\",\"IS\",\"ME\",\"RS\",\"XK\")\n",
    "\n",
    "data_tab3_1 <- subset(data_month, \n",
    "                    data_month$geo %in% countr_tab3_1 & \n",
    "                    data_month$year==2018 &\n",
    "                    data_month$c_resid==\"TOTAL\" &\n",
    "                    data_month$nace_r2==\"I551-I553\"&\n",
    "                    data_month$unit==\"NR\")\n",
    "data_tab3_1 <- aggregate(data_tab3_1$values, by = list(geo = data_tab3_1$geo), FUN = sum)\n",
    "names(data_tab3_1)[2] <- \"values\""
   ]
  },
  {
   "cell_type": "markdown",
   "metadata": {},
   "source": [
    "For Turkey (`countr_tab3_2`) we need data from 2016. Build the subset: `data_tab3_2`"
   ]
  },
  {
   "cell_type": "code",
   "execution_count": 41,
   "metadata": {},
   "outputs": [],
   "source": [
    "countr_tab3_2 <- c(\"TR\")\n",
    "\n",
    "data_tab3_2 <- subset(data, \n",
    "                      data$geo %in% countr_tab3_2 & \n",
    "                      data$year==2016 &\n",
    "                      data$c_resid==\"TOTAL\" &\n",
    "                      data$nace_r2==\"I551-I553\"&\n",
    "                      data$unit==\"NR\")\n",
    "data_tab3_2 <- data_tab3_2[,c(4,6)]"
   ]
  },
  {
   "cell_type": "markdown",
   "metadata": {},
   "source": [
    "Match the three calculated datasets to `data_tab_col3` and bring the country names in the order the graphic shows"
   ]
  },
  {
   "cell_type": "code",
   "execution_count": 42,
   "metadata": {},
   "outputs": [
    {
     "data": {
      "text/html": [
       "<table>\n",
       "<caption>A tibble: 6 × 2</caption>\n",
       "<thead>\n",
       "\t<tr><th scope=col>geo</th><th scope=col>values</th></tr>\n",
       "\t<tr><th scope=col>&lt;fct&gt;</th><th scope=col>&lt;dbl&gt;</th></tr>\n",
       "</thead>\n",
       "<tbody>\n",
       "\t<tr><td>BE</td><td> 41320284</td></tr>\n",
       "\t<tr><td>BG</td><td> 26845013</td></tr>\n",
       "\t<tr><td>CZ</td><td> 55513922</td></tr>\n",
       "\t<tr><td>DK</td><td> 33280395</td></tr>\n",
       "\t<tr><td>DE</td><td>419556284</td></tr>\n",
       "\t<tr><td>EE</td><td>  6630315</td></tr>\n",
       "</tbody>\n",
       "</table>\n"
      ],
      "text/latex": [
       "A tibble: 6 × 2\n",
       "\\begin{tabular}{ll}\n",
       " geo & values\\\\\n",
       " <fct> & <dbl>\\\\\n",
       "\\hline\n",
       "\t BE &  41320284\\\\\n",
       "\t BG &  26845013\\\\\n",
       "\t CZ &  55513922\\\\\n",
       "\t DK &  33280395\\\\\n",
       "\t DE & 419556284\\\\\n",
       "\t EE &   6630315\\\\\n",
       "\\end{tabular}\n"
      ],
      "text/markdown": [
       "\n",
       "A tibble: 6 × 2\n",
       "\n",
       "| geo &lt;fct&gt; | values &lt;dbl&gt; |\n",
       "|---|---|\n",
       "| BE |  41320284 |\n",
       "| BG |  26845013 |\n",
       "| CZ |  55513922 |\n",
       "| DK |  33280395 |\n",
       "| DE | 419556284 |\n",
       "| EE |   6630315 |\n",
       "\n"
      ],
      "text/plain": [
       "  geo values   \n",
       "1 BE   41320284\n",
       "2 BG   26845013\n",
       "3 CZ   55513922\n",
       "4 DK   33280395\n",
       "5 DE  419556284\n",
       "6 EE    6630315"
      ]
     },
     "metadata": {},
     "output_type": "display_data"
    }
   ],
   "source": [
    "data_tab_col3 <- rbind(data_tab3,data_tab3_1,data_tab3_2)\n",
    "\n",
    "data_tab_col3 <- data_tab_col3[order(factor(data_tab_col3$geo, levels= countr_0)),]\n",
    "\n",
    "head(data_tab_col3)"
   ]
  },
  {
   "cell_type": "markdown",
   "metadata": {},
   "source": [
    "#### Forth step\n",
    "\n",
    "- create a column with the names of the countries: `countr_names`\n",
    "- match all columns together to create the data for the final table: `table`"
   ]
  },
  {
   "cell_type": "code",
   "execution_count": 43,
   "metadata": {},
   "outputs": [
    {
     "data": {
      "text/html": [
       "<table>\n",
       "<caption>A data.frame: 6 × 4</caption>\n",
       "<thead>\n",
       "\t<tr><th></th><th scope=col>countr_names</th><th scope=col>values</th><th scope=col>values</th><th scope=col>values</th></tr>\n",
       "\t<tr><th></th><th scope=col>&lt;fct&gt;</th><th scope=col>&lt;dbl&gt;</th><th scope=col>&lt;dbl&gt;</th><th scope=col>&lt;dbl&gt;</th></tr>\n",
       "</thead>\n",
       "<tbody>\n",
       "\t<tr><th scope=row>1</th><td>Belgium </td><td> 9211</td><td> 389826</td><td> 41320284</td></tr>\n",
       "\t<tr><th scope=row>2</th><td>Bulgaria</td><td> 3458</td><td> 335597</td><td> 26845013</td></tr>\n",
       "\t<tr><th scope=row>3</th><td>Czechia </td><td> 9426</td><td> 741235</td><td> 55513922</td></tr>\n",
       "\t<tr><th scope=row>4</th><td>Denmark </td><td> 1167</td><td> 426075</td><td> 33280395</td></tr>\n",
       "\t<tr><th scope=row>5</th><td>Germany </td><td>50020</td><td>3473630</td><td>419556284</td></tr>\n",
       "\t<tr><th scope=row>6</th><td>Estonia </td><td> 1535</td><td>  61193</td><td>  6630315</td></tr>\n",
       "</tbody>\n",
       "</table>\n"
      ],
      "text/latex": [
       "A data.frame: 6 × 4\n",
       "\\begin{tabular}{r|llll}\n",
       "  & countr\\_names & values & values & values\\\\\n",
       "  & <fct> & <dbl> & <dbl> & <dbl>\\\\\n",
       "\\hline\n",
       "\t1 & Belgium  &  9211 &  389826 &  41320284\\\\\n",
       "\t2 & Bulgaria &  3458 &  335597 &  26845013\\\\\n",
       "\t3 & Czechia  &  9426 &  741235 &  55513922\\\\\n",
       "\t4 & Denmark  &  1167 &  426075 &  33280395\\\\\n",
       "\t5 & Germany  & 50020 & 3473630 & 419556284\\\\\n",
       "\t6 & Estonia  &  1535 &   61193 &   6630315\\\\\n",
       "\\end{tabular}\n"
      ],
      "text/markdown": [
       "\n",
       "A data.frame: 6 × 4\n",
       "\n",
       "| <!--/--> | countr_names &lt;fct&gt; | values &lt;dbl&gt; | values &lt;dbl&gt; | values &lt;dbl&gt; |\n",
       "|---|---|---|---|---|\n",
       "| 1 | Belgium  |  9211 |  389826 |  41320284 |\n",
       "| 2 | Bulgaria |  3458 |  335597 |  26845013 |\n",
       "| 3 | Czechia  |  9426 |  741235 |  55513922 |\n",
       "| 4 | Denmark  |  1167 |  426075 |  33280395 |\n",
       "| 5 | Germany  | 50020 | 3473630 | 419556284 |\n",
       "| 6 | Estonia  |  1535 |   61193 |   6630315 |\n",
       "\n"
      ],
      "text/plain": [
       "  countr_names values values  values   \n",
       "1 Belgium       9211   389826  41320284\n",
       "2 Bulgaria      3458   335597  26845013\n",
       "3 Czechia       9426   741235  55513922\n",
       "4 Denmark       1167   426075  33280395\n",
       "5 Germany      50020  3473630 419556284\n",
       "6 Estonia       1535    61193   6630315"
      ]
     },
     "metadata": {},
     "output_type": "display_data"
    }
   ],
   "source": [
    "countr_names <- c(\"Belgium\",\"Bulgaria\",\"Czechia\",\"Denmark\",\"Germany\",\"Estonia\", \"Ireland\", \"Greece\", \"Spain\", \"France\", \n",
    "                  \"Croatia\", \"Italy\", \"Cyprus\", \"Latvia\", \"Lithuania\", \"Luxembourg\", \"Hungary\", \"Malta\", \"Netherlands\", \n",
    "                  \"Austria\", \"Poland\", \"Portugal\", \"Romania\", \"Slovenia\", \"Slovakia\", \"Finland\", \"Sweden\",\n",
    "                 \"United Kingdom\", \"Iceland\", \"Liechtenstein\", \"Norway\", \"Switzerland\", \"Montenegro\", \"North Macedonia\", \n",
    "                  \"Serbia\", \"Turkey\", \"Kosovo\")\n",
    "\n",
    "table <- cbind(countr_names, data_tab_col1[,2], data_tab_col2[,2], data_tab_col3[,2])\n",
    "\n",
    "head(table)"
   ]
  },
  {
   "cell_type": "markdown",
   "metadata": {},
   "source": [
    "#### Fifth step\n",
    "\n",
    "Calculate the EU-27 value by summing up\n",
    "- first we create the vector with the 27 countries, we will use this vector in other graphics, too: `EU_27`"
   ]
  },
  {
   "cell_type": "code",
   "execution_count": 44,
   "metadata": {},
   "outputs": [],
   "source": [
    "EU_27 <- c(\"AT\",\"BE\", \"BG\",\"HR\",\"CY\", \"CZ\",\"DK\", \"DE\", \"EE\",\"FI\",\"FR\",\"EL\",\"HU\",\"IE\",\n",
    "           \"IT\",\"LV\",\"LT\",\"LU\",\"MT\",\"NL\",\"PL\",\"PT\",\"RO\",\"SK\",\"SI\",\"ES\",\"SE\")"
   ]
  },
  {
   "cell_type": "markdown",
   "metadata": {},
   "source": [
    "- We need the `table` from above (the three columns) with shortcuts instead of full names to exclude the not-EU countries: `tab_prep`\n",
    "    - do this by using the `EU_27` vector\n",
    "    - therefore we add the `countr_0` vector, which we create in the first step\n",
    "- then create a vector, which indicates due to FALSE and TRUE at the exact position, which countries of `countr_0` are within EU_27: `EU_27_prep`\n",
    "- by using the sapply-command we can calculate the sum for each column of the table `table`"
   ]
  },
  {
   "cell_type": "code",
   "execution_count": 45,
   "metadata": {},
   "outputs": [],
   "source": [
    "tab_prep <- cbind(countr_0,data_tab_col1[,2], data_tab_col2[,2], data_tab_col3[,2])\n",
    "\n",
    "EU_27_prep <- tab_prep$countr_0 %in% EU_27\n",
    "\n",
    "tab_EU <- c(\"EU-27\",sapply(table[EU_27_prep,2:4],sum))                "
   ]
  },
  {
   "cell_type": "markdown",
   "metadata": {},
   "source": [
    "- put the summarized values to the calculated `table` from above: `table_final`\n",
    "    - at this stage we get the warning message, that one NA for \"EU-27\" get generated: we solve this problem two steps later\n",
    "- give the columns the correct names\n",
    "- we have to convert the class, because we have to add \"EU-27\" and this only works by converting it from a factor first, then doing the change and re-convert it back\n",
    "- we want to modify the numbers: second column in thousands and third columns in millions"
   ]
  },
  {
   "cell_type": "code",
   "execution_count": 46,
   "metadata": {},
   "outputs": [
    {
     "name": "stderr",
     "output_type": "stream",
     "text": [
      "Warning message in `[<-.factor`(`*tmp*`, ri, value = \"EU-27\"):\n",
      "\"invalid factor level, NA generated\""
     ]
    },
    {
     "data": {
      "text/html": [
       "<table>\n",
       "<caption>A matrix: 38 × 4 of type chr</caption>\n",
       "<thead>\n",
       "\t<tr><th scope=col></th><th scope=col>Number of establishments (units)</th><th scope=col>Number of bed places (thousands)</th><th scope=col>Nights spent by residents and non-residents (millions)</th></tr>\n",
       "</thead>\n",
       "<tbody>\n",
       "\t<tr><td>EU-27          </td><td>600157</td><td>28294</td><td>2791.2</td></tr>\n",
       "\t<tr><td>Belgium        </td><td>9211  </td><td>  390</td><td>  41.3</td></tr>\n",
       "\t<tr><td>Bulgaria       </td><td>3458  </td><td>  336</td><td>  26.8</td></tr>\n",
       "\t<tr><td>Czechia        </td><td>9426  </td><td>  741</td><td>  55.5</td></tr>\n",
       "\t<tr><td>Denmark        </td><td>1167  </td><td>  426</td><td>  33.3</td></tr>\n",
       "\t<tr><td>Germany        </td><td>50020 </td><td> 3474</td><td> 419.6</td></tr>\n",
       "\t<tr><td>Estonia        </td><td>1535  </td><td>   61</td><td>   6.6</td></tr>\n",
       "\t<tr><td>Ireland        </td><td>3145  </td><td>  200</td><td>  33.4</td></tr>\n",
       "\t<tr><td>Greece         </td><td>38180 </td><td> 1340</td><td> 123.1</td></tr>\n",
       "\t<tr><td>Spain          </td><td>51418 </td><td> 3600</td><td> 466.9</td></tr>\n",
       "\t<tr><td>France         </td><td>29652 </td><td> 5112</td><td> 442.8</td></tr>\n",
       "\t<tr><td>Croatia        </td><td>108212</td><td> 1116</td><td>  89.6</td></tr>\n",
       "\t<tr><td>Italy          </td><td>216141</td><td> 5113</td><td> 428.8</td></tr>\n",
       "\t<tr><td>Cyprus         </td><td>802   </td><td>   87</td><td>  17.2</td></tr>\n",
       "\t<tr><td>Latvia         </td><td>1145  </td><td>   54</td><td>   5.4</td></tr>\n",
       "\t<tr><td>Lithuania      </td><td>3616  </td><td>   90</td><td>   8.1</td></tr>\n",
       "\t<tr><td>Luxembourg     </td><td>425   </td><td>   64</td><td>   2.9</td></tr>\n",
       "\t<tr><td>Hungary        </td><td>4587  </td><td>  419</td><td>  32.8</td></tr>\n",
       "\t<tr><td>Malta          </td><td>211   </td><td>   45</td><td>  10.1</td></tr>\n",
       "\t<tr><td>Netherlands    </td><td>9145  </td><td> 1398</td><td> 116.1</td></tr>\n",
       "\t<tr><td>Austria        </td><td>21494 </td><td> 1046</td><td> 125.2</td></tr>\n",
       "\t<tr><td>Poland         </td><td>11076 </td><td>  799</td><td>  88.9</td></tr>\n",
       "\t<tr><td>Portugal       </td><td>5964  </td><td>  649</td><td>  74.4</td></tr>\n",
       "\t<tr><td>Romania        </td><td>7720  </td><td>  349</td><td>  28.5</td></tr>\n",
       "\t<tr><td>Slovenia       </td><td>3699  </td><td>  117</td><td>  15.7</td></tr>\n",
       "\t<tr><td>Slovakia       </td><td>3087  </td><td>  191</td><td>  15.2</td></tr>\n",
       "\t<tr><td>Finland        </td><td>1372  </td><td>  260</td><td>  22.2</td></tr>\n",
       "\t<tr><td>Sweden         </td><td>4249  </td><td>  819</td><td>  60.9</td></tr>\n",
       "\t<tr><td>United Kingdom </td><td>84580 </td><td> 3944</td><td> 354.4</td></tr>\n",
       "\t<tr><td>Iceland        </td><td>1120  </td><td>   47</td><td>   8.6</td></tr>\n",
       "\t<tr><td>Liechtenstein  </td><td>96    </td><td>    2</td><td>   0.2</td></tr>\n",
       "\t<tr><td>Norway         </td><td>2351  </td><td>  588</td><td>  33.8</td></tr>\n",
       "\t<tr><td>Switzerland    </td><td>39057 </td><td>  665</td><td>  55.3</td></tr>\n",
       "\t<tr><td>Montenegro     </td><td>382   </td><td>   43</td><td>   4.2</td></tr>\n",
       "\t<tr><td>North Macedonia</td><td>494   </td><td>   48</td><td>   2.2</td></tr>\n",
       "\t<tr><td>Serbia         </td><td>3651  </td><td>  109</td><td>   9.3</td></tr>\n",
       "\t<tr><td>Turkey         </td><td>NA    </td><td>NA   </td><td> 112.5</td></tr>\n",
       "\t<tr><td>Kosovo         </td><td>217   </td><td>    8</td><td>   0.3</td></tr>\n",
       "</tbody>\n",
       "</table>\n"
      ],
      "text/latex": [
       "A matrix: 38 × 4 of type chr\n",
       "\\begin{tabular}{llll}\n",
       "  & Number of establishments (units) & Number of bed places (thousands) & Nights spent by residents and non-residents (millions)\\\\\n",
       "\\hline\n",
       "\t EU-27           & 600157 & 28294 & 2791.2\\\\\n",
       "\t Belgium         & 9211   &   390 &   41.3\\\\\n",
       "\t Bulgaria        & 3458   &   336 &   26.8\\\\\n",
       "\t Czechia         & 9426   &   741 &   55.5\\\\\n",
       "\t Denmark         & 1167   &   426 &   33.3\\\\\n",
       "\t Germany         & 50020  &  3474 &  419.6\\\\\n",
       "\t Estonia         & 1535   &    61 &    6.6\\\\\n",
       "\t Ireland         & 3145   &   200 &   33.4\\\\\n",
       "\t Greece          & 38180  &  1340 &  123.1\\\\\n",
       "\t Spain           & 51418  &  3600 &  466.9\\\\\n",
       "\t France          & 29652  &  5112 &  442.8\\\\\n",
       "\t Croatia         & 108212 &  1116 &   89.6\\\\\n",
       "\t Italy           & 216141 &  5113 &  428.8\\\\\n",
       "\t Cyprus          & 802    &    87 &   17.2\\\\\n",
       "\t Latvia          & 1145   &    54 &    5.4\\\\\n",
       "\t Lithuania       & 3616   &    90 &    8.1\\\\\n",
       "\t Luxembourg      & 425    &    64 &    2.9\\\\\n",
       "\t Hungary         & 4587   &   419 &   32.8\\\\\n",
       "\t Malta           & 211    &    45 &   10.1\\\\\n",
       "\t Netherlands     & 9145   &  1398 &  116.1\\\\\n",
       "\t Austria         & 21494  &  1046 &  125.2\\\\\n",
       "\t Poland          & 11076  &   799 &   88.9\\\\\n",
       "\t Portugal        & 5964   &   649 &   74.4\\\\\n",
       "\t Romania         & 7720   &   349 &   28.5\\\\\n",
       "\t Slovenia        & 3699   &   117 &   15.7\\\\\n",
       "\t Slovakia        & 3087   &   191 &   15.2\\\\\n",
       "\t Finland         & 1372   &   260 &   22.2\\\\\n",
       "\t Sweden          & 4249   &   819 &   60.9\\\\\n",
       "\t United Kingdom  & 84580  &  3944 &  354.4\\\\\n",
       "\t Iceland         & 1120   &    47 &    8.6\\\\\n",
       "\t Liechtenstein   & 96     &     2 &    0.2\\\\\n",
       "\t Norway          & 2351   &   588 &   33.8\\\\\n",
       "\t Switzerland     & 39057  &   665 &   55.3\\\\\n",
       "\t Montenegro      & 382    &    43 &    4.2\\\\\n",
       "\t North Macedonia & 494    &    48 &    2.2\\\\\n",
       "\t Serbia          & 3651   &   109 &    9.3\\\\\n",
       "\t Turkey          & NA     & NA    &  112.5\\\\\n",
       "\t Kosovo          & 217    &     8 &    0.3\\\\\n",
       "\\end{tabular}\n"
      ],
      "text/markdown": [
       "\n",
       "A matrix: 38 × 4 of type chr\n",
       "\n",
       "| <!----> | Number of establishments (units) | Number of bed places (thousands) | Nights spent by residents and non-residents (millions) |\n",
       "|---|---|---|---|\n",
       "| EU-27           | 600157 | 28294 | 2791.2 |\n",
       "| Belgium         | 9211   |   390 |   41.3 |\n",
       "| Bulgaria        | 3458   |   336 |   26.8 |\n",
       "| Czechia         | 9426   |   741 |   55.5 |\n",
       "| Denmark         | 1167   |   426 |   33.3 |\n",
       "| Germany         | 50020  |  3474 |  419.6 |\n",
       "| Estonia         | 1535   |    61 |    6.6 |\n",
       "| Ireland         | 3145   |   200 |   33.4 |\n",
       "| Greece          | 38180  |  1340 |  123.1 |\n",
       "| Spain           | 51418  |  3600 |  466.9 |\n",
       "| France          | 29652  |  5112 |  442.8 |\n",
       "| Croatia         | 108212 |  1116 |   89.6 |\n",
       "| Italy           | 216141 |  5113 |  428.8 |\n",
       "| Cyprus          | 802    |    87 |   17.2 |\n",
       "| Latvia          | 1145   |    54 |    5.4 |\n",
       "| Lithuania       | 3616   |    90 |    8.1 |\n",
       "| Luxembourg      | 425    |    64 |    2.9 |\n",
       "| Hungary         | 4587   |   419 |   32.8 |\n",
       "| Malta           | 211    |    45 |   10.1 |\n",
       "| Netherlands     | 9145   |  1398 |  116.1 |\n",
       "| Austria         | 21494  |  1046 |  125.2 |\n",
       "| Poland          | 11076  |   799 |   88.9 |\n",
       "| Portugal        | 5964   |   649 |   74.4 |\n",
       "| Romania         | 7720   |   349 |   28.5 |\n",
       "| Slovenia        | 3699   |   117 |   15.7 |\n",
       "| Slovakia        | 3087   |   191 |   15.2 |\n",
       "| Finland         | 1372   |   260 |   22.2 |\n",
       "| Sweden          | 4249   |   819 |   60.9 |\n",
       "| United Kingdom  | 84580  |  3944 |  354.4 |\n",
       "| Iceland         | 1120   |    47 |    8.6 |\n",
       "| Liechtenstein   | 96     |     2 |    0.2 |\n",
       "| Norway          | 2351   |   588 |   33.8 |\n",
       "| Switzerland     | 39057  |   665 |   55.3 |\n",
       "| Montenegro      | 382    |    43 |    4.2 |\n",
       "| North Macedonia | 494    |    48 |    2.2 |\n",
       "| Serbia          | 3651   |   109 |    9.3 |\n",
       "| Turkey          | NA     | NA    |  112.5 |\n",
       "| Kosovo          | 217    |     8 |    0.3 |\n",
       "\n"
      ],
      "text/plain": [
       "                      Number of establishments (units)\n",
       " [1,] EU-27           600157                          \n",
       " [2,] Belgium         9211                            \n",
       " [3,] Bulgaria        3458                            \n",
       " [4,] Czechia         9426                            \n",
       " [5,] Denmark         1167                            \n",
       " [6,] Germany         50020                           \n",
       " [7,] Estonia         1535                            \n",
       " [8,] Ireland         3145                            \n",
       " [9,] Greece          38180                           \n",
       "[10,] Spain           51418                           \n",
       "[11,] France          29652                           \n",
       "[12,] Croatia         108212                          \n",
       "[13,] Italy           216141                          \n",
       "[14,] Cyprus          802                             \n",
       "[15,] Latvia          1145                            \n",
       "[16,] Lithuania       3616                            \n",
       "[17,] Luxembourg      425                             \n",
       "[18,] Hungary         4587                            \n",
       "[19,] Malta           211                             \n",
       "[20,] Netherlands     9145                            \n",
       "[21,] Austria         21494                           \n",
       "[22,] Poland          11076                           \n",
       "[23,] Portugal        5964                            \n",
       "[24,] Romania         7720                            \n",
       "[25,] Slovenia        3699                            \n",
       "[26,] Slovakia        3087                            \n",
       "[27,] Finland         1372                            \n",
       "[28,] Sweden          4249                            \n",
       "[29,] United Kingdom  84580                           \n",
       "[30,] Iceland         1120                            \n",
       "[31,] Liechtenstein   96                              \n",
       "[32,] Norway          2351                            \n",
       "[33,] Switzerland     39057                           \n",
       "[34,] Montenegro      382                             \n",
       "[35,] North Macedonia 494                             \n",
       "[36,] Serbia          3651                            \n",
       "[37,] Turkey          NA                              \n",
       "[38,] Kosovo          217                             \n",
       "      Number of bed places (thousands)\n",
       " [1,] 28294                           \n",
       " [2,]   390                           \n",
       " [3,]   336                           \n",
       " [4,]   741                           \n",
       " [5,]   426                           \n",
       " [6,]  3474                           \n",
       " [7,]    61                           \n",
       " [8,]   200                           \n",
       " [9,]  1340                           \n",
       "[10,]  3600                           \n",
       "[11,]  5112                           \n",
       "[12,]  1116                           \n",
       "[13,]  5113                           \n",
       "[14,]    87                           \n",
       "[15,]    54                           \n",
       "[16,]    90                           \n",
       "[17,]    64                           \n",
       "[18,]   419                           \n",
       "[19,]    45                           \n",
       "[20,]  1398                           \n",
       "[21,]  1046                           \n",
       "[22,]   799                           \n",
       "[23,]   649                           \n",
       "[24,]   349                           \n",
       "[25,]   117                           \n",
       "[26,]   191                           \n",
       "[27,]   260                           \n",
       "[28,]   819                           \n",
       "[29,]  3944                           \n",
       "[30,]    47                           \n",
       "[31,]     2                           \n",
       "[32,]   588                           \n",
       "[33,]   665                           \n",
       "[34,]    43                           \n",
       "[35,]    48                           \n",
       "[36,]   109                           \n",
       "[37,] NA                              \n",
       "[38,]     8                           \n",
       "      Nights spent by residents and non-residents (millions)\n",
       " [1,] 2791.2                                                \n",
       " [2,]   41.3                                                \n",
       " [3,]   26.8                                                \n",
       " [4,]   55.5                                                \n",
       " [5,]   33.3                                                \n",
       " [6,]  419.6                                                \n",
       " [7,]    6.6                                                \n",
       " [8,]   33.4                                                \n",
       " [9,]  123.1                                                \n",
       "[10,]  466.9                                                \n",
       "[11,]  442.8                                                \n",
       "[12,]   89.6                                                \n",
       "[13,]  428.8                                                \n",
       "[14,]   17.2                                                \n",
       "[15,]    5.4                                                \n",
       "[16,]    8.1                                                \n",
       "[17,]    2.9                                                \n",
       "[18,]   32.8                                                \n",
       "[19,]   10.1                                                \n",
       "[20,]  116.1                                                \n",
       "[21,]  125.2                                                \n",
       "[22,]   88.9                                                \n",
       "[23,]   74.4                                                \n",
       "[24,]   28.5                                                \n",
       "[25,]   15.7                                                \n",
       "[26,]   15.2                                                \n",
       "[27,]   22.2                                                \n",
       "[28,]   60.9                                                \n",
       "[29,]  354.4                                                \n",
       "[30,]    8.6                                                \n",
       "[31,]    0.2                                                \n",
       "[32,]   33.8                                                \n",
       "[33,]   55.3                                                \n",
       "[34,]    4.2                                                \n",
       "[35,]    2.2                                                \n",
       "[36,]    9.3                                                \n",
       "[37,]  112.5                                                \n",
       "[38,]    0.3                                                "
      ]
     },
     "metadata": {},
     "output_type": "display_data"
    }
   ],
   "source": [
    "table_final <- rbind(tab_EU,table)\n",
    "\n",
    "names(table_final) <- c(\"\", \"Number of establishments (units)\", \"Number of bed places (thousands)\",\n",
    "                       \"Nights spent by residents and non-residents (millions)\")\n",
    "\n",
    "table_final[,1] <- as.character(table_final[,1])\n",
    "table_final[1,1] <- \"EU-27\"\n",
    "table_final[,1] <- factor(table_final[,1])\n",
    "\n",
    "table_final[,3] <- round(as.numeric(table_final[,3])/ 1000,0)\n",
    "table_final[,4] <- round(as.numeric(table_final[,4])/ 1000000,1)\n",
    "\n",
    "as.matrix(table_final)"
   ]
  },
  {
   "cell_type": "markdown",
   "metadata": {},
   "source": [
    "## Nights spent by non-residents in the EU-27: Spain on top\n",
    "\n",
    "### Figure 1\n",
    "\n",
    "#### First step\n",
    "\n",
    "- choose the countries from the EU 2020 and build the country vector like we did above: `EU_27`\n",
    "- we already load the data (`data`) for the first graph we create"
   ]
  },
  {
   "cell_type": "code",
   "execution_count": 47,
   "metadata": {},
   "outputs": [],
   "source": [
    "EU_27 <- c(\"AT\",\"BE\", \"BG\",\"HR\",\"CY\", \"CZ\",\"DK\", \"DE\", \"EE\",\"FI\",\"FR\",\"EL\",\"HU\",\"IE\",\n",
    "           \"IT\",\"LV\",\"LT\",\"LU\",\"MT\",\"NL\",\"PL\",\"PT\",\"RO\",\"SK\",\"SI\",\"ES\",\"SE\")"
   ]
  },
  {
   "cell_type": "markdown",
   "metadata": {},
   "source": [
    "Build a loop for getting the data for the three lines\n",
    "- we have to create a vector with the essential difference between the three columns: `night`\n",
    "- create an empty data frame, which we can fill while running the loop: `data_fig1_final`\n",
    "- when we look at the data `data`, we see that there are some years without datapoints, therefore we can omit them\n",
    "- for every year we have data from the 27 EU-countries - we just need one aggregate value for every year\n",
    "- assign the calculated data `data_fig1` in each intermediate step to the empty data frame"
   ]
  },
  {
   "cell_type": "code",
   "execution_count": 48,
   "metadata": {},
   "outputs": [
    {
     "data": {
      "text/html": [
       "<table>\n",
       "<caption>A data.frame: 14 × 4</caption>\n",
       "<thead>\n",
       "\t<tr><th></th><th scope=col>FOR.year</th><th scope=col>FOR.x</th><th scope=col>NAT.x</th><th scope=col>TOTAL.x</th></tr>\n",
       "\t<tr><th></th><th scope=col>&lt;int&gt;</th><th scope=col>&lt;dbl&gt;</th><th scope=col>&lt;dbl&gt;</th><th scope=col>&lt;dbl&gt;</th></tr>\n",
       "</thead>\n",
       "<tbody>\n",
       "\t<tr><th scope=row>1</th><td>2005</td><td> 861934580</td><td>1143692910</td><td>2005627490</td></tr>\n",
       "\t<tr><th scope=row>2</th><td>2006</td><td> 897421835</td><td>1178407554</td><td>2075829389</td></tr>\n",
       "\t<tr><th scope=row>3</th><td>2007</td><td> 923129509</td><td>1167029322</td><td>2090158831</td></tr>\n",
       "\t<tr><th scope=row>4</th><td>2008</td><td> 917291027</td><td>1168537632</td><td>2085828659</td></tr>\n",
       "\t<tr><th scope=row>5</th><td>2009</td><td> 865984766</td><td>1161870294</td><td>2027855060</td></tr>\n",
       "\t<tr><th scope=row>6</th><td>2010</td><td> 921187045</td><td>1240792245</td><td>2161979290</td></tr>\n",
       "\t<tr><th scope=row>7</th><td>2011</td><td> 988093865</td><td>1257258087</td><td>2245351952</td></tr>\n",
       "\t<tr><th scope=row>8</th><td>2012</td><td>1028103295</td><td>1254140891</td><td>2282244186</td></tr>\n",
       "\t<tr><th scope=row>9</th><td>2013</td><td>1073638692</td><td>1256932157</td><td>2330570849</td></tr>\n",
       "\t<tr><th scope=row>10</th><td>2014</td><td>1107272985</td><td>1278406482</td><td>2385679467</td></tr>\n",
       "\t<tr><th scope=row>11</th><td>2015</td><td>1153427648</td><td>1332604334</td><td>2486031982</td></tr>\n",
       "\t<tr><th scope=row>12</th><td>2016</td><td>1212449118</td><td>1373256963</td><td>2585706081</td></tr>\n",
       "\t<tr><th scope=row>13</th><td>2017</td><td>1274205302</td><td>1410126730</td><td>2684332032</td></tr>\n",
       "\t<tr><th scope=row>14</th><td>2018</td><td>1301381594</td><td>1440774340</td><td>2742155934</td></tr>\n",
       "</tbody>\n",
       "</table>\n"
      ],
      "text/latex": [
       "A data.frame: 14 × 4\n",
       "\\begin{tabular}{r|llll}\n",
       "  & FOR.year & FOR.x & NAT.x & TOTAL.x\\\\\n",
       "  & <int> & <dbl> & <dbl> & <dbl>\\\\\n",
       "\\hline\n",
       "\t1 & 2005 &  861934580 & 1143692910 & 2005627490\\\\\n",
       "\t2 & 2006 &  897421835 & 1178407554 & 2075829389\\\\\n",
       "\t3 & 2007 &  923129509 & 1167029322 & 2090158831\\\\\n",
       "\t4 & 2008 &  917291027 & 1168537632 & 2085828659\\\\\n",
       "\t5 & 2009 &  865984766 & 1161870294 & 2027855060\\\\\n",
       "\t6 & 2010 &  921187045 & 1240792245 & 2161979290\\\\\n",
       "\t7 & 2011 &  988093865 & 1257258087 & 2245351952\\\\\n",
       "\t8 & 2012 & 1028103295 & 1254140891 & 2282244186\\\\\n",
       "\t9 & 2013 & 1073638692 & 1256932157 & 2330570849\\\\\n",
       "\t10 & 2014 & 1107272985 & 1278406482 & 2385679467\\\\\n",
       "\t11 & 2015 & 1153427648 & 1332604334 & 2486031982\\\\\n",
       "\t12 & 2016 & 1212449118 & 1373256963 & 2585706081\\\\\n",
       "\t13 & 2017 & 1274205302 & 1410126730 & 2684332032\\\\\n",
       "\t14 & 2018 & 1301381594 & 1440774340 & 2742155934\\\\\n",
       "\\end{tabular}\n"
      ],
      "text/markdown": [
       "\n",
       "A data.frame: 14 × 4\n",
       "\n",
       "| <!--/--> | FOR.year &lt;int&gt; | FOR.x &lt;dbl&gt; | NAT.x &lt;dbl&gt; | TOTAL.x &lt;dbl&gt; |\n",
       "|---|---|---|---|---|\n",
       "| 1 | 2005 |  861934580 | 1143692910 | 2005627490 |\n",
       "| 2 | 2006 |  897421835 | 1178407554 | 2075829389 |\n",
       "| 3 | 2007 |  923129509 | 1167029322 | 2090158831 |\n",
       "| 4 | 2008 |  917291027 | 1168537632 | 2085828659 |\n",
       "| 5 | 2009 |  865984766 | 1161870294 | 2027855060 |\n",
       "| 6 | 2010 |  921187045 | 1240792245 | 2161979290 |\n",
       "| 7 | 2011 |  988093865 | 1257258087 | 2245351952 |\n",
       "| 8 | 2012 | 1028103295 | 1254140891 | 2282244186 |\n",
       "| 9 | 2013 | 1073638692 | 1256932157 | 2330570849 |\n",
       "| 10 | 2014 | 1107272985 | 1278406482 | 2385679467 |\n",
       "| 11 | 2015 | 1153427648 | 1332604334 | 2486031982 |\n",
       "| 12 | 2016 | 1212449118 | 1373256963 | 2585706081 |\n",
       "| 13 | 2017 | 1274205302 | 1410126730 | 2684332032 |\n",
       "| 14 | 2018 | 1301381594 | 1440774340 | 2742155934 |\n",
       "\n"
      ],
      "text/plain": [
       "   FOR.year FOR.x      NAT.x      TOTAL.x   \n",
       "1  2005      861934580 1143692910 2005627490\n",
       "2  2006      897421835 1178407554 2075829389\n",
       "3  2007      923129509 1167029322 2090158831\n",
       "4  2008      917291027 1168537632 2085828659\n",
       "5  2009      865984766 1161870294 2027855060\n",
       "6  2010      921187045 1240792245 2161979290\n",
       "7  2011      988093865 1257258087 2245351952\n",
       "8  2012     1028103295 1254140891 2282244186\n",
       "9  2013     1073638692 1256932157 2330570849\n",
       "10 2014     1107272985 1278406482 2385679467\n",
       "11 2015     1153427648 1332604334 2486031982\n",
       "12 2016     1212449118 1373256963 2585706081\n",
       "13 2017     1274205302 1410126730 2684332032\n",
       "14 2018     1301381594 1440774340 2742155934"
      ]
     },
     "metadata": {},
     "output_type": "display_data"
    }
   ],
   "source": [
    "night <- c(\"FOR\",\"NAT\",\"TOTAL\")\n",
    "\n",
    "data_fig1_final <- list(year = c(2018,2017,2016,2015,2014,2013,2012,2011,2010,2009,2008,2007,2006,2005),\n",
    "                                 FOR = matrix(ncol=2, nrow=14),\n",
    "                                 NAT = matrix(ncol=2, nrow=14),\n",
    "                                TOTAL = matrix(ncol=2, nrow=14))\n",
    "# build the loop\n",
    "for (i in 1:3) {\n",
    "\n",
    "data_fig1 <- subset(data, \n",
    "                    data$geo %in% EU_27 & \n",
    "                    data$year %in% c(2005,2006, 2007, 2008,2009,2010,2011,2012, 2013,2014,2015,2016,2017,2018) &\n",
    "                    data$c_resid== night[i] & #here we have the essential difference between the columns we create\n",
    "                    data$unit==\"NR\" &\n",
    "                    data$nace_r2==\"I551-I553\") \n",
    "\n",
    "data_fig1 <- aggregate(data_fig1$values, by = list(year = data_fig1$year), FUN = sum) \n",
    "    \n",
    "# print(data_fig1) #if you want to see the intermediate steps\n",
    "\n",
    "data_fig1_final[[i+1]] <- data_fig1 \n",
    "    \n",
    " }\n",
    "\n",
    "data_fig1_final <- as.data.frame(data_fig1_final)\n",
    "data_fig1_final <- data_fig1_final[,c(2,3,5,7)] #attention! the first year-column is wrongly in an decreasing order!\n",
    "data_fig1_final <- data_fig1_final[order(data_fig1_final[,1]),]\n",
    "data_fig1_final"
   ]
  },
  {
   "cell_type": "markdown",
   "metadata": {},
   "source": [
    "#### Second step\n",
    "\n",
    "Now we have to calculate the changes from year to year \n",
    "- index: 2005=100: `index`\n",
    "- create an empty data frame, which we can fill while running the loop: `data_fig1_final_perc`\n",
    "- we take the values for 2005 as reference value. Each value from the subsequent years should be devided by the reference value from 2005. We have to multiply the result by 100 to achieve, that we start in 2005 with the value 100."
   ]
  },
  {
   "cell_type": "code",
   "execution_count": 49,
   "metadata": {},
   "outputs": [
    {
     "data": {
      "text/html": [
       "<table>\n",
       "<caption>A data.frame: 6 × 4</caption>\n",
       "<thead>\n",
       "\t<tr><th></th><th scope=col>V1</th><th scope=col>V2</th><th scope=col>V3</th><th scope=col>V4</th></tr>\n",
       "\t<tr><th></th><th scope=col>&lt;dbl&gt;</th><th scope=col>&lt;dbl&gt;</th><th scope=col>&lt;dbl&gt;</th><th scope=col>&lt;dbl&gt;</th></tr>\n",
       "</thead>\n",
       "<tbody>\n",
       "\t<tr><th scope=row>1</th><td>2005</td><td>100.0000</td><td>100.0000</td><td>100.0000</td></tr>\n",
       "\t<tr><th scope=row>2</th><td>2006</td><td>104.1172</td><td>103.0353</td><td>103.5002</td></tr>\n",
       "\t<tr><th scope=row>3</th><td>2007</td><td>107.0997</td><td>102.0404</td><td>104.2147</td></tr>\n",
       "\t<tr><th scope=row>4</th><td>2008</td><td>106.4223</td><td>102.1723</td><td>103.9988</td></tr>\n",
       "\t<tr><th scope=row>5</th><td>2009</td><td>100.4699</td><td>101.5894</td><td>101.1083</td></tr>\n",
       "\t<tr><th scope=row>6</th><td>2010</td><td>106.8744</td><td>108.4900</td><td>107.7957</td></tr>\n",
       "</tbody>\n",
       "</table>\n"
      ],
      "text/latex": [
       "A data.frame: 6 × 4\n",
       "\\begin{tabular}{r|llll}\n",
       "  & V1 & V2 & V3 & V4\\\\\n",
       "  & <dbl> & <dbl> & <dbl> & <dbl>\\\\\n",
       "\\hline\n",
       "\t1 & 2005 & 100.0000 & 100.0000 & 100.0000\\\\\n",
       "\t2 & 2006 & 104.1172 & 103.0353 & 103.5002\\\\\n",
       "\t3 & 2007 & 107.0997 & 102.0404 & 104.2147\\\\\n",
       "\t4 & 2008 & 106.4223 & 102.1723 & 103.9988\\\\\n",
       "\t5 & 2009 & 100.4699 & 101.5894 & 101.1083\\\\\n",
       "\t6 & 2010 & 106.8744 & 108.4900 & 107.7957\\\\\n",
       "\\end{tabular}\n"
      ],
      "text/markdown": [
       "\n",
       "A data.frame: 6 × 4\n",
       "\n",
       "| <!--/--> | V1 &lt;dbl&gt; | V2 &lt;dbl&gt; | V3 &lt;dbl&gt; | V4 &lt;dbl&gt; |\n",
       "|---|---|---|---|---|\n",
       "| 1 | 2005 | 100.0000 | 100.0000 | 100.0000 |\n",
       "| 2 | 2006 | 104.1172 | 103.0353 | 103.5002 |\n",
       "| 3 | 2007 | 107.0997 | 102.0404 | 104.2147 |\n",
       "| 4 | 2008 | 106.4223 | 102.1723 | 103.9988 |\n",
       "| 5 | 2009 | 100.4699 | 101.5894 | 101.1083 |\n",
       "| 6 | 2010 | 106.8744 | 108.4900 | 107.7957 |\n",
       "\n"
      ],
      "text/plain": [
       "  V1   V2       V3       V4      \n",
       "1 2005 100.0000 100.0000 100.0000\n",
       "2 2006 104.1172 103.0353 103.5002\n",
       "3 2007 107.0997 102.0404 104.2147\n",
       "4 2008 106.4223 102.1723 103.9988\n",
       "5 2009 100.4699 101.5894 101.1083\n",
       "6 2010 106.8744 108.4900 107.7957"
      ]
     },
     "metadata": {},
     "output_type": "display_data"
    }
   ],
   "source": [
    "index <- data_fig1_final[1,2:4]\n",
    "\n",
    "data_fig1_final_perc <- as.data.frame(matrix(ncol=4, nrow=14))\n",
    "\n",
    "for (i in 1:14) {\n",
    "data_fig1_final_perc[i,2:4] <- (data_fig1_final[i,2:4]/index)*100 }\n",
    "\n",
    "data_fig1_final_perc$V1 <- c(2005,2006, 2007, 2008,2009,2010,2011,2012, 2013,2014,2015,2016,2017,2018)\n",
    "head(data_fig1_final_perc)"
   ]
  },
  {
   "cell_type": "markdown",
   "metadata": {},
   "source": [
    "#### Thrid step\n",
    "\n",
    "Finally use the modified dataset `data_fig1_final_perc` and build the graph by using ggplot"
   ]
  },
  {
   "cell_type": "code",
   "execution_count": 50,
   "metadata": {
    "scrolled": false
   },
   "outputs": [
    {
     "name": "stderr",
     "output_type": "stream",
     "text": [
      "Warning message:\n",
      "\"Continuous limits supplied to discrete scale.\n",
      "Did you mean `limits = factor(...)` or `scale_*_continuous()`?\""
     ]
    },
    {
     "data": {
      "image/png": "iVBORw0KGgoAAAANSUhEUgAAA0gAAANICAMAAADKOT/pAAAAP1BMVEUAAAAAAIszMzNNTU1o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\nAAAAAElFTkSuQmCC",
      "text/plain": [
       "plot without title"
      ]
     },
     "metadata": {},
     "output_type": "display_data"
    }
   ],
   "source": [
    "ggplot(data_fig1_final_perc,aes(x=V1)) + \n",
    "  geom_line(aes(y=V2, group=1, color=\"line\"), color=\"lightblue\", size=1) + #we add three lines\n",
    "  geom_line(aes(y=V3, group=1, color=\"line\"), color=\"darkblue\", size=1) +\n",
    "  geom_line(aes(y=V4, group=1, color=\"line\"), color=\"darkorange\", size=2) +\n",
    "    ggtitle(\"Trends in nights spent at EU-27 tourist accommodation establishments, EU-27, 2005-2018\",\n",
    "        subtitle=\"(index 2005=100)\") +\n",
    "    scale_y_continuous(limits = c(100, 155), breaks = seq(100, 155, by = 5)) +\n",
    "    scale_x_discrete(limits = c(2005,2006, 2007, 2008,2009,2010,2011,2012, 2013,2014,2015,2016,2017,2018)) +\n",
    "    ylab(\" \") +\n",
    "    xlab(\" \") +\n",
    "    theme(panel.grid.major.y = element_line(color=\"grey\"),\n",
    "          panel.background = element_rect(fill = NA),\n",
    "          axis.ticks.y = element_line(colour= \"white\"))"
   ]
  },
  {
   "cell_type": "markdown",
   "metadata": {},
   "source": [
    "### Figure 2\n",
    "\n",
    "It's in principal the same graph like in the abstract part. Check the code there."
   ]
  },
  {
   "cell_type": "code",
   "execution_count": 51,
   "metadata": {},
   "outputs": [
    {
     "data": {
      "image/png": "iVBORw0KGgoAAAANSUhEUgAAA0gAAANICAMAAADKOT/pAAAANlBMVEUAAABNTU1PlM1oaGh8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",
      "text/plain": [
       "plot without title"
      ]
     },
     "metadata": {},
     "output_type": "display_data"
    }
   ],
   "source": [
    "label_axes2 <- seq(0, 320, by = 20)\n",
    "\n",
    "ggplot(data_mod4, aes(x=geo,y=values)) +\n",
    "            geom_bar(stat = \"identity\", position=\"dodge\", width=0.5, fill=\"steelblue3\") +\n",
    "            scale_y_continuous(limits = c(0, 320000000), breaks = seq(0, 320000000, by = 20000000),\n",
    "                              labels=label_axes2) +\n",
    "            ggtitle(\"Tourism destinations - nights spent at tourist accomodation establishments, 2018\",\n",
    "                   subtitle = \"(million nights spent in the country by non-residents)\") +\n",
    "            coord_flip() +\n",
    "            scale_x_discrete(limits = rev(levels(data_mod4$geo)),\n",
    "                             labels = c(\"Kosovo\", \"North Macedonia\", \"Serbia\", \"Montenegro\", \"Turkey\", \"Liechtenstein\", \n",
    "                                        \"Iceland\", \"Norway\", \"Switzerland\", \"United Kingdom\", \"Luxembourg\", \"Lithuania\", \n",
    "                                        \"Latvia\", \"Estonia\", \"Romania\", \"Slovakia\", \"Finland\", \"Malta\", \"Slovenia\", \n",
    "                                        \"Denmark\", \"Hungary\", \"Sweden\", \"Cyprus\", \"Ireland\", \"Poland\", \"Bulgaria\", \n",
    "                                        \"Belgium\", \"Czechia\", \"Netherlands\", \"Portugal\", \"Croatia\", \"Germany\", \"Austria\", \n",
    "                                        \"Greece\", \"France\", \"Italy\", \"Spain\")) +\n",
    "            ylab(\" \") +\n",
    "            xlab(\" \") +\n",
    "            theme(panel.grid.major.x = element_line(color=\"grey\"),\n",
    "                  panel.background = element_rect(fill = NA),\n",
    "                  axis.line = element_line(colour = \"white\"),\n",
    "                  axis.ticks = element_line(colour= \"white\"))"
   ]
  },
  {
   "cell_type": "markdown",
   "metadata": {},
   "source": [
    "### Figure 3\n",
    "\n",
    "#### First step\n",
    "\n",
    "Calculate the EU-27 value by summing up\n",
    "- create again a vector, which indicates due to FALSE and TRUE at the exact position, which countries of `countr_0` are within `EU_27`: `EU_27_prep2`\n",
    "- by using the sapply-command we can calculate the sum for each column of `data_mod4`"
   ]
  },
  {
   "cell_type": "code",
   "execution_count": 52,
   "metadata": {},
   "outputs": [],
   "source": [
    "EU_27_prep2 <- data_mod4$geo %in% EU_27\n",
    "\n",
    "tab_EU2 <- sapply(as.data.frame(data_mod4[EU_27_prep2,2]),sum)"
   ]
  },
  {
   "cell_type": "markdown",
   "metadata": {},
   "source": [
    "Add a column with the ratios we need for the pie chart: `tab_ratio`\n",
    "- shorten the table through `EU_27_prep2` (countries outside the EU should be delete)\n",
    "- sort the ratios in a decreasing order\n",
    "- keep the top 9 countries in `tab_ratio_top9` and summing up the others to \"Rest of EU-27\" in `tab_ratio_other` by using again the sapply command\n",
    "- add afterwards the sum in `tab_ratio_other_sum` to the top 9: `tab_ratio_new`"
   ]
  },
  {
   "cell_type": "code",
   "execution_count": 53,
   "metadata": {},
   "outputs": [
    {
     "name": "stderr",
     "output_type": "stream",
     "text": [
      "Warning message in `[<-.factor`(`*tmp*`, ri, value = 15.9651602486859):\n",
      "\"invalid factor level, NA generated\""
     ]
    },
    {
     "data": {
      "text/html": [
       "<table>\n",
       "<caption>A data.frame: 10 × 2</caption>\n",
       "<thead>\n",
       "\t<tr><th></th><th scope=col>geo</th><th scope=col>values</th></tr>\n",
       "\t<tr><th></th><th scope=col>&lt;fct&gt;</th><th scope=col>&lt;dbl&gt;</th></tr>\n",
       "</thead>\n",
       "<tbody>\n",
       "\t<tr><th scope=row>19</th><td>ES</td><td>22.645198</td></tr>\n",
       "\t<tr><th scope=row>24</th><td>IT</td><td>16.287560</td></tr>\n",
       "\t<tr><th scope=row>21</th><td>FR</td><td>10.586126</td></tr>\n",
       "\t<tr><th scope=row>18</th><td>EL</td><td> 7.716184</td></tr>\n",
       "\t<tr><th scope=row>10</th><td>AT</td><td> 6.717353</td></tr>\n",
       "\t<tr><th scope=row>15</th><td>DE</td><td> 6.541928</td></tr>\n",
       "\t<tr><th scope=row>22</th><td>HR</td><td> 6.254410</td></tr>\n",
       "\t<tr><th scope=row>33</th><td>PT</td><td> 3.750269</td></tr>\n",
       "\t<tr><th scope=row>31</th><td>NL</td><td> 3.535812</td></tr>\n",
       "\t<tr><th scope=row>101</th><td>NA</td><td>15.965160</td></tr>\n",
       "</tbody>\n",
       "</table>\n"
      ],
      "text/latex": [
       "A data.frame: 10 × 2\n",
       "\\begin{tabular}{r|ll}\n",
       "  & geo & values\\\\\n",
       "  & <fct> & <dbl>\\\\\n",
       "\\hline\n",
       "\t19 & ES & 22.645198\\\\\n",
       "\t24 & IT & 16.287560\\\\\n",
       "\t21 & FR & 10.586126\\\\\n",
       "\t18 & EL &  7.716184\\\\\n",
       "\t10 & AT &  6.717353\\\\\n",
       "\t15 & DE &  6.541928\\\\\n",
       "\t22 & HR &  6.254410\\\\\n",
       "\t33 & PT &  3.750269\\\\\n",
       "\t31 & NL &  3.535812\\\\\n",
       "\t101 & NA & 15.965160\\\\\n",
       "\\end{tabular}\n"
      ],
      "text/markdown": [
       "\n",
       "A data.frame: 10 × 2\n",
       "\n",
       "| <!--/--> | geo &lt;fct&gt; | values &lt;dbl&gt; |\n",
       "|---|---|---|\n",
       "| 19 | ES | 22.645198 |\n",
       "| 24 | IT | 16.287560 |\n",
       "| 21 | FR | 10.586126 |\n",
       "| 18 | EL |  7.716184 |\n",
       "| 10 | AT |  6.717353 |\n",
       "| 15 | DE |  6.541928 |\n",
       "| 22 | HR |  6.254410 |\n",
       "| 33 | PT |  3.750269 |\n",
       "| 31 | NL |  3.535812 |\n",
       "| 101 | NA | 15.965160 |\n",
       "\n"
      ],
      "text/plain": [
       "    geo values   \n",
       "19  ES  22.645198\n",
       "24  IT  16.287560\n",
       "21  FR  10.586126\n",
       "18  EL   7.716184\n",
       "10  AT   6.717353\n",
       "15  DE   6.541928\n",
       "22  HR   6.254410\n",
       "33  PT   3.750269\n",
       "31  NL   3.535812\n",
       "101 NA  15.965160"
      ]
     },
     "metadata": {},
     "output_type": "display_data"
    }
   ],
   "source": [
    "tab_ratio <- cbind(data_mod4,data_mod4[2]/tab_EU2*100)\n",
    "\n",
    "tab_ratio <- tab_ratio[EU_27_prep2,]\n",
    "\n",
    "tab_ratio <- tab_ratio[order(tab_ratio[,3], decreasing=T),]\n",
    "\n",
    "tab_ratio_top9 <- tab_ratio[1:9,]\n",
    "tab_ratio_other <- tab_ratio[10:27,]\n",
    "tab_ratio_other_sum <- sapply(as.data.frame(tab_ratio_other[,3]),sum)\n",
    "\n",
    "tab_ratio_new <- rbind(tab_ratio_top9[,c(1,3)], tab_ratio_other_sum)\n",
    "tab_ratio_new"
   ]
  },
  {
   "cell_type": "markdown",
   "metadata": {},
   "source": [
    "#### Second step\n",
    "\n",
    "Plot the pie chart \n",
    "- first create the labels\n",
    "    - round the values and put a `\"%\"` behind it: `label_pie1`\n",
    "    - create a vector with the needed country names: `label_pie2`\n",
    "    - combine the both created label parts: `label_pie3`\n",
    "- within ggplot we have to create bars first. Afterwards we can convert it to a pie chart"
   ]
  },
  {
   "cell_type": "code",
   "execution_count": 60,
   "metadata": {},
   "outputs": [
    {
     "data": {
      "image/png": "iVBORw0KGgoAAAANSUhEUgAAA0gAAANICAMAAADKOT/pAAAATlBMVEUAAAAAueMAujgAwZ9N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\nJMYUIiTGFCIkxhQiJMYU+j9/GNfgdnwCcwAAAABJRU5ErkJggg==",
      "text/plain": [
       "plot without title"
      ]
     },
     "metadata": {},
     "output_type": "display_data"
    }
   ],
   "source": [
    "label_pie1 <- paste(round(tab_ratio_new$values,0), \"%\")\n",
    "label_pie2 <- c(\"Spain\",\"Italy\",\"France\",\"Greece\",\"Austria\",\"Germany\",\"Croatia\",\"Portugal\",\"Netherlands\",\"Rest of EU-27\")\n",
    "label_pie3 <- paste(label_pie2,\"\\n\",label_pie1) #we can add \"/n\" to achieve a line break\n",
    "\n",
    "ggplot(tab_ratio_new, aes(x=\"\", y=values, fill=geo)) +\n",
    "       geom_bar(stat = \"identity\", width=1) + \n",
    "       coord_polar(\"y\", direction = -1, start=0) +\n",
    "       geom_text(label = label_pie3, position = position_stack(vjust = 0.5),size=2.5) +\n",
    "       ylab(\" \") +\n",
    "       xlab(\" \") +\n",
    "       ggtitle(\"Share of nights spent at EU-27 tourist accommodation by tourists travelling outside their own country \n",
    "                of residence, 2018\",\n",
    "                subtitle = \"(% of all nights spent in EU-27 tourist accommodation establishements)\") +\n",
    "       theme_classic() + \n",
    "       theme(legend.position = \"none\",\n",
    "             axis.line = element_blank(),\n",
    "             axis.text = element_blank(),\n",
    "             axis.ticks = element_blank(),\n",
    "             panel.grid  = element_blank())"
   ]
  },
  {
   "cell_type": "markdown",
   "metadata": {},
   "source": [
    "### Figure 4\n",
    "\n",
    "#### First step\n",
    "\n",
    "- we already load the dataset and can therefore use the values from the third colomn of `table_final`\n",
    "- additionally we need the subsequent dataset: `bev`\n",
    "- build the needed subset and choose only the relevant columns: `bev_subs`"
   ]
  },
  {
   "cell_type": "code",
   "execution_count": 71,
   "metadata": {},
   "outputs": [
    {
     "name": "stderr",
     "output_type": "stream",
     "text": [
      "Reading cache file C:\\Users\\sarah\\AppData\\Local\\Temp\\Rtmp0oFI1n/eurostat/demo_gind_date_code_TF.rds\n",
      "Table  demo_gind  read from cache file:  C:\\Users\\sarah\\AppData\\Local\\Temp\\Rtmp0oFI1n/eurostat/demo_gind_date_code_TF.rds\n"
     ]
    }
   ],
   "source": [
    "bev <- as_tibble(get_eurostat_data(id=\"demo_gind\"))\n",
    "\n",
    "bev_subs <- subset(bev, \n",
    "                   bev$geo %in% countr_0 & \n",
    "                   bev$indic_de==\"AVG\" &\n",
    "                   bev$time==\"2018\")\n",
    "bev_subs <- bev_subs[,c(2,4)]"
   ]
  },
  {
   "cell_type": "markdown",
   "metadata": {},
   "source": [
    "- bring the country's names in the same order (`countr_0`) like the table above, that we can add the columns with the tourist accomodation\n",
    "- add the columns with the tourist accomodation from `data_tab_col3` and add the needed ratio-column"
   ]
  },
  {
   "cell_type": "code",
   "execution_count": 72,
   "metadata": {},
   "outputs": [],
   "source": [
    "bev_subs <- bev_subs[order(factor(bev_subs$geo, levels= countr_0)),]\n",
    "\n",
    "bev_subs <- cbind(bev_subs,data_tab_col3)\n",
    "\n",
    "bev_subs <- cbind(bev_subs,bev_subs[,4]/bev_subs[,2])\n",
    "\n",
    "names(bev_subs)[5] <- \"values\"\n",
    "bev_subs <- bev_subs[,c(1,5)]"
   ]
  },
  {
   "cell_type": "markdown",
   "metadata": {},
   "source": [
    "-  create new country vector `countr_fig4` to bring the countries in the order the graph shows"
   ]
  },
  {
   "cell_type": "code",
   "execution_count": 73,
   "metadata": {},
   "outputs": [],
   "source": [
    "countr_fig4 <- c(\"HR\", \"MT\",\"CY\",\"AT\",\"EL\",\"ES\",\"SI\",\"PT\",\"IT\",\"IE\",\"NL\",\"FR\",\"SE\",\"DK\",\"CZ\",\"DE\",\"EE\",\"LU\",\"FI\",\"BG\",\n",
    "                 \"BE\",\"HU\",\"LT\",\"SK\",\"LV\",\"PL\",\"RO\", \"UK\", \"IS\",\"CH\",\"NO\",\"LI\",\"ME\",\"TR\",\"RS\",\"MK\",\"XK\")\n",
    "\n",
    "bev_subs <- bev_subs[order(factor(bev_subs$geo, levels= countr_fig4)),]"
   ]
  },
  {
   "cell_type": "markdown",
   "metadata": {},
   "source": [
    "#### Second step\n",
    "\n",
    "Calculate the EU-27 value by summing up \n",
    "- create a vector, which indicates due to FALSE and TRUE at the exact position, which countries of bev_subs are within `EU_27`: `EU_27_prep_2_1`\n",
    "- by using the sapply-command we can calculate the average for the column of the table `bev_subs`\n",
    "    - at this stage we get the warning message, that one NA for `\"EU-27\"` get generated: we solve this problem two steps later\n",
    "- put the summarized values to the calculated table from above\n",
    "- we have to convert the class, because we have to add `\"EU-27\"` and this only works by converting it from a factor first, then doing the change and re-convert it back"
   ]
  },
  {
   "cell_type": "code",
   "execution_count": 74,
   "metadata": {},
   "outputs": [
    {
     "name": "stderr",
     "output_type": "stream",
     "text": [
      "Warning message in `[<-.factor`(`*tmp*`, ri, value = \"EU-27\"):\n",
      "\"invalid factor level, NA generated\""
     ]
    },
    {
     "data": {
      "text/html": [
       "<table>\n",
       "<caption>A data.frame: 6 × 2</caption>\n",
       "<thead>\n",
       "\t<tr><th></th><th scope=col>geo</th><th scope=col>values</th></tr>\n",
       "\t<tr><th></th><th scope=col>&lt;fct&gt;</th><th scope=col>&lt;chr&gt;</th></tr>\n",
       "</thead>\n",
       "<tbody>\n",
       "\t<tr><th scope=row>1</th><td>EU-27</td><td>7.37476857884317</td></tr>\n",
       "\t<tr><th scope=row>11</th><td>HR   </td><td>21.894524392122 </td></tr>\n",
       "\t<tr><th scope=row>18</th><td>MT   </td><td>20.8699337639024</td></tr>\n",
       "\t<tr><th scope=row>13</th><td>CY   </td><td>19.7274029156342</td></tr>\n",
       "\t<tr><th scope=row>20</th><td>AT   </td><td>14.1653608424209</td></tr>\n",
       "\t<tr><th scope=row>8</th><td>EL   </td><td>11.4682317386886</td></tr>\n",
       "</tbody>\n",
       "</table>\n"
      ],
      "text/latex": [
       "A data.frame: 6 × 2\n",
       "\\begin{tabular}{r|ll}\n",
       "  & geo & values\\\\\n",
       "  & <fct> & <chr>\\\\\n",
       "\\hline\n",
       "\t1 & EU-27 & 7.37476857884317\\\\\n",
       "\t11 & HR    & 21.894524392122 \\\\\n",
       "\t18 & MT    & 20.8699337639024\\\\\n",
       "\t13 & CY    & 19.7274029156342\\\\\n",
       "\t20 & AT    & 14.1653608424209\\\\\n",
       "\t8 & EL    & 11.4682317386886\\\\\n",
       "\\end{tabular}\n"
      ],
      "text/markdown": [
       "\n",
       "A data.frame: 6 × 2\n",
       "\n",
       "| <!--/--> | geo &lt;fct&gt; | values &lt;chr&gt; |\n",
       "|---|---|---|\n",
       "| 1 | EU-27 | 7.37476857884317 |\n",
       "| 11 | HR    | 21.894524392122  |\n",
       "| 18 | MT    | 20.8699337639024 |\n",
       "| 13 | CY    | 19.7274029156342 |\n",
       "| 20 | AT    | 14.1653608424209 |\n",
       "| 8 | EL    | 11.4682317386886 |\n",
       "\n"
      ],
      "text/plain": [
       "   geo   values          \n",
       "1  EU-27 7.37476857884317\n",
       "11 HR    21.894524392122 \n",
       "18 MT    20.8699337639024\n",
       "13 CY    19.7274029156342\n",
       "20 AT    14.1653608424209\n",
       "8  EL    11.4682317386886"
      ]
     },
     "metadata": {},
     "output_type": "display_data"
    }
   ],
   "source": [
    "EU_27_prep_2_1 <- bev_subs$geo %in% EU_27\n",
    "\n",
    "tab_EU2_1 <- c(\"EU-27\",sapply(as.data.frame(bev_subs[EU_27_prep_2_1,2]),mean))\n",
    "\n",
    "bev_subs <- rbind(tab_EU2_1,bev_subs)\n",
    "\n",
    "bev_subs[,1] <- as.character(bev_subs[,1])\n",
    "bev_subs[1,1] <- \"EU-27\"\n",
    "bev_subs[,1] <- factor(bev_subs[,1])\n",
    "\n",
    "head(bev_subs)"
   ]
  },
  {
   "cell_type": "markdown",
   "metadata": {},
   "source": [
    "#### Third step\n",
    "\n",
    "Plot the graph via `ggplot`\n",
    "- bring the country names in the order the graphic shows: you can do this due to modify the levels of the variable `\"geo\"`\n",
    "- to achieve that the y-axes in the chart is later in an ascending order, we have to convert the ratio-axes to numeric"
   ]
  },
  {
   "cell_type": "code",
   "execution_count": 76,
   "metadata": {},
   "outputs": [
    {
     "data": {
      "image/png": "iVBORw0KGgoAAAANSUhEUgAAA0gAAANICAMAAADKOT/pAAAANlBMVEUAAABNTU1PlM1oaGh8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\nFJVBBImiMoggUVQG/Q8MAZwrs/vsSgAAAABJRU5ErkJggg==",
      "text/plain": [
       "plot without title"
      ]
     },
     "metadata": {},
     "output_type": "display_data"
    }
   ],
   "source": [
    "bev_subs$geo <- factor(bev_subs$geo,\n",
    "                        levels = c(\"EU-27\",\"HR\", \"MT\",\"CY\",\"AT\",\"EL\",\"ES\",\"SI\",\"PT\",\"IT\",\"IE\",\"NL\",\"FR\",\"SE\",\"DK\",\"CZ\",\"DE\",\n",
    "                                   \"EE\",\"LU\",\"FI\",\"BG\",\"BE\",\"HU\",\"LT\",\"SK\",\"LV\",\"PL\",\"RO\", \"UK\", \"IS\",\"CH\",\"NO\",\"LI\",\n",
    "                                   \"ME\",\"TR\",\"RS\",\"MK\",\"XK\"))\n",
    "\n",
    "bev_subs$values <- as.numeric(as.character(bev_subs$values))\n",
    "\n",
    "ggplot(bev_subs, aes(x=geo,y=values)) +\n",
    "            geom_bar(stat = \"identity\", position=\"dodge\", width=0.5, fill=\"steelblue3\") +\n",
    "            scale_y_continuous(limits = c(0, 30), breaks = seq(0, 30, by = 5)) +\n",
    "            ggtitle(\"Tourism intensity, 2018\",\n",
    "                   subtitle=\"(nights spent by residents and non-residents at tourist accommodation \n",
    "                              establishments per inhabitant)\") +\n",
    "            coord_flip() +\n",
    "            scale_x_discrete(limits = rev(levels(bev_subs$geo)),\n",
    "                             labels = c(\"Kosovo\", \"North Macedonia\", \"Serbia\", \"Turkey\", \"Montenegro\", \"Liechtenstein\", \n",
    "                                        \"Norway\", \"Switzerland\", \"Iceland\", \"United Kingdom\", \"Romania\", \"Poland\", \n",
    "                                        \"Latvia\", \"Slovakia\", \"Lithuania\", \"Hungary\", \"Belgium\", \"Bulgaria\", \"Finland\", \n",
    "                                        \"Luxembourg\", \"Estonia\", \"Germany\", \"Czechia\", \"Denmark\", \"Sweden\", \"France\", \n",
    "                                        \"Netherlands\", \"Ireland\", \"Italy\", \"Portugal\", \"Slovenia\", \"Spain\", \"Greece\", \n",
    "                                        \"Austria\", \"Cyprus\", \"Malta\", \"Croatia\", \"EU-27\")) +\n",
    "            ylab(\" \") +\n",
    "            xlab(\" \") +\n",
    "            theme(panel.grid.major.x = element_line(color=\"grey\"),\n",
    "                  panel.background = element_rect(fill = NA),\n",
    "                  axis.line = element_line(colour = \"white\"),\n",
    "                  axis.ticks = element_line(colour= \"white\"))\n"
   ]
  },
  {
   "cell_type": "markdown",
   "metadata": {},
   "source": [
    "## Tourism trips: Residents of Luxembourg, Belgium, Malta and Slovenia made more outbound than domestic trips\n",
    "\n",
    "### Table 2\n",
    "\n",
    "First we create the table and afterwards figure 5, because it is easier to build the graph with the data from the table.\n",
    "\n",
    "#### First step\n",
    "\n",
    "We start with the first three columns, which are based on the same dataset\n",
    "- load the dataset: `data_2`\n",
    "- again we add a year-column"
   ]
  },
  {
   "cell_type": "code",
   "execution_count": 77,
   "metadata": {},
   "outputs": [
    {
     "name": "stderr",
     "output_type": "stream",
     "text": [
      "Table tour_dem_tttot cached at C:\\Users\\sarah\\AppData\\Local\\Temp\\Rtmp0oFI1n/eurostat/tour_dem_tttot_date_code_TF.rds\n"
     ]
    }
   ],
   "source": [
    "data_2 <- as_tibble(get_eurostat_data(id=\"tour_dem_tttot\"))\n",
    "\n",
    "data_2$year <- as.integer(substr(data_2$time,1,4))"
   ]
  },
  {
   "cell_type": "markdown",
   "metadata": {},
   "source": [
    "Build a loop\n",
    "- due to we want to use a loop for getting the data for the three columns, we have to create a vector with the essential difference between the three columns: `duration_vec`\n",
    "- create an empty data frame, which we can fill while running the loop: `data_tab2_part1`\n",
    "    - we have 3 columns in the needed dataset\n",
    "    - and we have data for 30 countries and therefore 30 rows in the needed dataset"
   ]
  },
  {
   "cell_type": "code",
   "execution_count": 78,
   "metadata": {},
   "outputs": [],
   "source": [
    "duration_vec <-  c(\"N_GE1\",\"N1-3\",\"N_GE4\")\n",
    "\n",
    "data_tab2_part1 <- as.data.frame(matrix(ncol = 3, nrow = 30))"
   ]
  },
  {
   "cell_type": "markdown",
   "metadata": {},
   "source": [
    "Within the loop create several subsets from `data_2`\n",
    "- first subset `data_2_col1_1`: exclude the countries `countr_tab2_1_1`, which need data from 2017\n",
    "- second subset `data_2_col1_2`: for Poland and Romania in `countr_tab2_1_2` we need data from 2017\n",
    "- third subset `data_2_col1_3`: for United Kingdom we have NA\n",
    "- we match afterwards in `data_tab2_col1` the three calculated subsets in every step within the loop\n",
    "- then we bring the country names in the order the table shows: we can use the vector `countr_0` from beginning\n",
    "- we calculate the `data_tab2_col1` three times for each case of duration_vec\n",
    "    - to look at the three intermediate step we can print it\n",
    "- last but not least we assign the three intermediate step to the empty data frame `data_tab2_part1` we create before"
   ]
  },
  {
   "cell_type": "code",
   "execution_count": 79,
   "metadata": {},
   "outputs": [
    {
     "data": {
      "text/html": [
       "<table>\n",
       "<caption>A data.frame: 6 × 3</caption>\n",
       "<thead>\n",
       "\t<tr><th></th><th scope=col>V1</th><th scope=col>V2</th><th scope=col>V3</th></tr>\n",
       "\t<tr><th></th><th scope=col>&lt;dbl&gt;</th><th scope=col>&lt;dbl&gt;</th><th scope=col>&lt;dbl&gt;</th></tr>\n",
       "</thead>\n",
       "<tbody>\n",
       "\t<tr><th scope=row>1</th><td> 16893</td><td>  7058</td><td>  9835</td></tr>\n",
       "\t<tr><th scope=row>2</th><td>  5090</td><td>  2748</td><td>  2343</td></tr>\n",
       "\t<tr><th scope=row>3</th><td> 34569</td><td> 21380</td><td> 13189</td></tr>\n",
       "\t<tr><th scope=row>4</th><td> 18875</td><td> 10380</td><td>  8495</td></tr>\n",
       "\t<tr><th scope=row>5</th><td>267879</td><td>132289</td><td>135591</td></tr>\n",
       "\t<tr><th scope=row>6</th><td>  6468</td><td>  5109</td><td>  1358</td></tr>\n",
       "</tbody>\n",
       "</table>\n"
      ],
      "text/latex": [
       "A data.frame: 6 × 3\n",
       "\\begin{tabular}{r|lll}\n",
       "  & V1 & V2 & V3\\\\\n",
       "  & <dbl> & <dbl> & <dbl>\\\\\n",
       "\\hline\n",
       "\t1 &  16893 &   7058 &   9835\\\\\n",
       "\t2 &   5090 &   2748 &   2343\\\\\n",
       "\t3 &  34569 &  21380 &  13189\\\\\n",
       "\t4 &  18875 &  10380 &   8495\\\\\n",
       "\t5 & 267879 & 132289 & 135591\\\\\n",
       "\t6 &   6468 &   5109 &   1358\\\\\n",
       "\\end{tabular}\n"
      ],
      "text/markdown": [
       "\n",
       "A data.frame: 6 × 3\n",
       "\n",
       "| <!--/--> | V1 &lt;dbl&gt; | V2 &lt;dbl&gt; | V3 &lt;dbl&gt; |\n",
       "|---|---|---|---|\n",
       "| 1 |  16893 |   7058 |   9835 |\n",
       "| 2 |   5090 |   2748 |   2343 |\n",
       "| 3 |  34569 |  21380 |  13189 |\n",
       "| 4 |  18875 |  10380 |   8495 |\n",
       "| 5 | 267879 | 132289 | 135591 |\n",
       "| 6 |   6468 |   5109 |   1358 |\n",
       "\n"
      ],
      "text/plain": [
       "  V1     V2     V3    \n",
       "1  16893   7058   9835\n",
       "2   5090   2748   2343\n",
       "3  34569  21380  13189\n",
       "4  18875  10380   8495\n",
       "5 267879 132289 135591\n",
       "6   6468   5109   1358"
      ]
     },
     "metadata": {},
     "output_type": "display_data"
    }
   ],
   "source": [
    "for (i in 1:3) {\n",
    "\n",
    "countr_tab2_1_1 <- c(\"BE\",\"BG\",\"CZ\",\"DK\",\"DE\",\"EE\",\"IE\",\"EL\",\"ES\",\"FR\",\"HR\",\"IT\",\"CY\",\"LV\",\"LT\",\"LU\",\"HU\",\"MT\",\"NL\",\n",
    "                     \"AT\",\"PT\",\"SI\",\"SK\",\"FI\",\"SE\",\"UK\",\"IS\",\"LI\",\"NO\",\"CH\",\"ME\",\"MK\",\"RS\",\"TR\",\"XK\")\n",
    "data_2_col1_1 <- subset(data_2, \n",
    "                    data_2$geo %in% countr_tab2_1_1 & \n",
    "                    data_2$year==2018 &\n",
    "                    data_2$purpose==\"TOTAL\"&\n",
    "                    data_2$duration==duration_vec[i]&\n",
    "                    data_2$unit==\"THS\" &\n",
    "                    data_2$partner==\"WORLD\")\n",
    "data_2_col1_1 <- data_2_col1_1[,c(5,7)]\n",
    "\n",
    "countr_tab2_1_2 <- c(\"PL\",\"RO\")\n",
    "data_2_col1_2 <- subset(data_2, \n",
    "                    data_2$geo %in% countr_tab2_1_2 & \n",
    "                    data_2$year==2017 &\n",
    "                    data_2$purpose==\"TOTAL\"&\n",
    "                    data_2$duration==duration_vec[i]&\n",
    "                    data_2$unit==\"THS\" &\n",
    "                    data_2$partner==\"WORLD\")\n",
    "data_2_col1_2  <- data_2_col1_2[,c(5,7)]\n",
    "\n",
    "data_2_col1_3 <- data.frame( geo = \"UK\", values=  NA)\n",
    "\n",
    "data_tab2_col1 <- rbind(data_2_col1_1,data_2_col1_2,data_2_col1_3)\n",
    "\n",
    "data_tab2_col1 <- data_tab2_col1[order(factor(data_tab2_col1$geo, levels= countr_0)),]\n",
    "\n",
    "data_tab2_col1$values <- round(data_tab2_col1$values,0)\n",
    "data_tab2_col1\n",
    "  \n",
    "# print(data_tab2_col1) \n",
    "\n",
    "data_tab2_part1[,i] <- data_tab2_col1[,2]\n",
    "    \n",
    " }\n",
    "\n",
    "head(data_tab2_part1)"
   ]
  },
  {
   "cell_type": "markdown",
   "metadata": {},
   "source": [
    "Create a column with the names of the countries (`countr_names2`), this will be the first column of the complete table 2. Add this column to the three calculated columns from above: `table2_vers1`"
   ]
  },
  {
   "cell_type": "code",
   "execution_count": 80,
   "metadata": {},
   "outputs": [
    {
     "data": {
      "text/html": [
       "<table>\n",
       "<caption>A data.frame: 6 × 4</caption>\n",
       "<thead>\n",
       "\t<tr><th></th><th scope=col>countr_names2</th><th scope=col>V1</th><th scope=col>V2</th><th scope=col>V3</th></tr>\n",
       "\t<tr><th></th><th scope=col>&lt;fct&gt;</th><th scope=col>&lt;dbl&gt;</th><th scope=col>&lt;dbl&gt;</th><th scope=col>&lt;dbl&gt;</th></tr>\n",
       "</thead>\n",
       "<tbody>\n",
       "\t<tr><th scope=row>1</th><td>Belgium </td><td> 16893</td><td>  7058</td><td>  9835</td></tr>\n",
       "\t<tr><th scope=row>2</th><td>Bulgaria</td><td>  5090</td><td>  2748</td><td>  2343</td></tr>\n",
       "\t<tr><th scope=row>3</th><td>Czechia </td><td> 34569</td><td> 21380</td><td> 13189</td></tr>\n",
       "\t<tr><th scope=row>4</th><td>Denmark </td><td> 18875</td><td> 10380</td><td>  8495</td></tr>\n",
       "\t<tr><th scope=row>5</th><td>Germany </td><td>267879</td><td>132289</td><td>135591</td></tr>\n",
       "\t<tr><th scope=row>6</th><td>Estonia </td><td>  6468</td><td>  5109</td><td>  1358</td></tr>\n",
       "</tbody>\n",
       "</table>\n"
      ],
      "text/latex": [
       "A data.frame: 6 × 4\n",
       "\\begin{tabular}{r|llll}\n",
       "  & countr\\_names2 & V1 & V2 & V3\\\\\n",
       "  & <fct> & <dbl> & <dbl> & <dbl>\\\\\n",
       "\\hline\n",
       "\t1 & Belgium  &  16893 &   7058 &   9835\\\\\n",
       "\t2 & Bulgaria &   5090 &   2748 &   2343\\\\\n",
       "\t3 & Czechia  &  34569 &  21380 &  13189\\\\\n",
       "\t4 & Denmark  &  18875 &  10380 &   8495\\\\\n",
       "\t5 & Germany  & 267879 & 132289 & 135591\\\\\n",
       "\t6 & Estonia  &   6468 &   5109 &   1358\\\\\n",
       "\\end{tabular}\n"
      ],
      "text/markdown": [
       "\n",
       "A data.frame: 6 × 4\n",
       "\n",
       "| <!--/--> | countr_names2 &lt;fct&gt; | V1 &lt;dbl&gt; | V2 &lt;dbl&gt; | V3 &lt;dbl&gt; |\n",
       "|---|---|---|---|---|\n",
       "| 1 | Belgium  |  16893 |   7058 |   9835 |\n",
       "| 2 | Bulgaria |   5090 |   2748 |   2343 |\n",
       "| 3 | Czechia  |  34569 |  21380 |  13189 |\n",
       "| 4 | Denmark  |  18875 |  10380 |   8495 |\n",
       "| 5 | Germany  | 267879 | 132289 | 135591 |\n",
       "| 6 | Estonia  |   6468 |   5109 |   1358 |\n",
       "\n"
      ],
      "text/plain": [
       "  countr_names2 V1     V2     V3    \n",
       "1 Belgium        16893   7058   9835\n",
       "2 Bulgaria        5090   2748   2343\n",
       "3 Czechia        34569  21380  13189\n",
       "4 Denmark        18875  10380   8495\n",
       "5 Germany       267879 132289 135591\n",
       "6 Estonia         6468   5109   1358"
      ]
     },
     "metadata": {},
     "output_type": "display_data"
    }
   ],
   "source": [
    "countr_names2 <- c(\"Belgium\",\"Bulgaria\",\"Czechia\",\"Denmark\",\"Germany\",\"Estonia\", \"Ireland\", \"Greece\", \"Spain\", \"France\", \n",
    "                  \"Croatia\", \"Italy\", \"Cyprus\", \"Latvia\", \"Lithuania\", \"Luxembourg\", \"Hungary\", \"Malta\", \"Netherlands\", \n",
    "                  \"Austria\", \"Poland\", \"Portugal\", \"Romania\", \"Slovenia\", \"Slovakia\", \"Finland\", \"Sweden\",\n",
    "                 \"United Kingdom\", \"Norway\", \"Switzerland\")\n",
    "\n",
    "table2_vers1 <- cbind(countr_names2, data_tab2_part1)\n",
    "head(table2_vers1)"
   ]
  },
  {
   "cell_type": "markdown",
   "metadata": {},
   "source": [
    "#### Second step\n",
    "\n",
    "Continuing with column four and five, which are based on the same dataset like column one to three (`data_2`), but with different arguments.\n",
    "- due to the different arguments we need another for-loop, but basically we have the same process\n",
    "- create again a vector with the essential difference between the two columns: `duration_vec2`\n",
    "- create an empty data frame, which we can fill while running the loop: `data_tab2_part2`\n",
    "\n",
    "We want to calculate the ratio, also for the EU (this we will do later on).\n",
    "- we need therefore the sum of the column we will create here\n",
    "- we will save the two sums in a vector called `EU_tab2_sum1` (first we create the empty vector and assign the sums during the loop)"
   ]
  },
  {
   "cell_type": "code",
   "execution_count": 81,
   "metadata": {},
   "outputs": [],
   "source": [
    "duration_vec2 <-  c(\"N1-3\",\"N_GE4\")\n",
    "\n",
    "data_tab2_part2 <- as.data.frame(matrix(ncol = 2, nrow = 30))\n",
    " \n",
    "EU_tab2_sum1 <- as.data.frame(matrix(ncol = 2, nrow = 1))"
   ]
  },
  {
   "cell_type": "markdown",
   "metadata": {},
   "source": [
    "Within the loop create several subsets\n",
    "- first subset `data_2_col2_1`: exclude the countries (`countr_tab2_1_1`), which need data from 2017\n",
    "- for Poland and Romania in `countr_tab2_1_2` we need data from 2017. Assign in `data_2_col2_2`\n",
    "- for United Kingdom we have NA. Assign in `data_2_col2_3`\n",
    "- we match afterwards the three calculated subsets in every step within the loop in `data_tab2_col2`\n",
    "- bring the country names in the order the table shows (we can use the vector `countr_0` from beginning)\n",
    "\n",
    "Within the loop calculate the ratio for each country and a sum for the EU-value\n",
    "- create a vector, which indicates due to FALSE and TRUE at the exact position, which countries of data_tab2_col3 are within EU_27: `EU_27_prep_col3`\n",
    "- by using the sapply-command we can calculate the sum: `tab_EU3_col3`\n",
    "- build the ratio we need (the column just calculated devided by the first column from above (all trips))\n",
    "- then we assign the ratios to the empty data frame we create before: `data_tab2_part2`"
   ]
  },
  {
   "cell_type": "code",
   "execution_count": 82,
   "metadata": {},
   "outputs": [
    {
     "data": {
      "text/html": [
       "<table>\n",
       "<caption>A data.frame: 6 × 2</caption>\n",
       "<thead>\n",
       "\t<tr><th></th><th scope=col>V1</th><th scope=col>V2</th></tr>\n",
       "\t<tr><th></th><th scope=col>&lt;dbl&gt;</th><th scope=col>&lt;dbl&gt;</th></tr>\n",
       "</thead>\n",
       "<tbody>\n",
       "\t<tr><th scope=row>1</th><td>15.7</td><td> 6.8</td></tr>\n",
       "\t<tr><th scope=row>2</th><td>48.0</td><td>33.5</td></tr>\n",
       "\t<tr><th scope=row>3</th><td>55.7</td><td>23.0</td></tr>\n",
       "\t<tr><th scope=row>4</th><td>44.0</td><td>19.2</td></tr>\n",
       "\t<tr><th scope=row>5</th><td>40.0</td><td>19.5</td></tr>\n",
       "\t<tr><th scope=row>6</th><td>63.5</td><td> 4.5</td></tr>\n",
       "</tbody>\n",
       "</table>\n"
      ],
      "text/latex": [
       "A data.frame: 6 × 2\n",
       "\\begin{tabular}{r|ll}\n",
       "  & V1 & V2\\\\\n",
       "  & <dbl> & <dbl>\\\\\n",
       "\\hline\n",
       "\t1 & 15.7 &  6.8\\\\\n",
       "\t2 & 48.0 & 33.5\\\\\n",
       "\t3 & 55.7 & 23.0\\\\\n",
       "\t4 & 44.0 & 19.2\\\\\n",
       "\t5 & 40.0 & 19.5\\\\\n",
       "\t6 & 63.5 &  4.5\\\\\n",
       "\\end{tabular}\n"
      ],
      "text/markdown": [
       "\n",
       "A data.frame: 6 × 2\n",
       "\n",
       "| <!--/--> | V1 &lt;dbl&gt; | V2 &lt;dbl&gt; |\n",
       "|---|---|---|\n",
       "| 1 | 15.7 |  6.8 |\n",
       "| 2 | 48.0 | 33.5 |\n",
       "| 3 | 55.7 | 23.0 |\n",
       "| 4 | 44.0 | 19.2 |\n",
       "| 5 | 40.0 | 19.5 |\n",
       "| 6 | 63.5 |  4.5 |\n",
       "\n"
      ],
      "text/plain": [
       "  V1   V2  \n",
       "1 15.7  6.8\n",
       "2 48.0 33.5\n",
       "3 55.7 23.0\n",
       "4 44.0 19.2\n",
       "5 40.0 19.5\n",
       "6 63.5  4.5"
      ]
     },
     "metadata": {},
     "output_type": "display_data"
    }
   ],
   "source": [
    "for (i in 1:2) {\n",
    "\n",
    "countr_tab2_1_1 <- c(\"BE\",\"BG\",\"CZ\",\"DK\",\"DE\",\"EE\",\"IE\",\"EL\",\"ES\",\"FR\",\"HR\",\"IT\",\"CY\",\"LV\",\"LT\",\"LU\",\"HU\",\"MT\",\"NL\",\n",
    "                     \"AT\",\"PT\",\"SI\",\"SK\",\"FI\",\"SE\",\"UK\",\"IS\",\"LI\",\"NO\",\"CH\",\"ME\",\"MK\",\"RS\",\"TR\",\"XK\")\n",
    "data_2_col2_1 <- subset(data_2, \n",
    "                    data_2$geo %in% countr_tab2_1_1 & \n",
    "                    data_2$year==2018 &\n",
    "                    data_2$purpose==\"TOTAL\"&\n",
    "                    data_2$duration==duration_vec2[i]&\n",
    "                    data_2$unit==\"THS\" &\n",
    "                    data_2$partner==\"DOM\")\n",
    "data_2_col2_1 <- data_2_col2_1[,c(5,7)]\n",
    "\n",
    "countr_tab2_1_2 <- c(\"PL\",\"RO\")\n",
    "data_2_col2_2 <- subset(data_2, \n",
    "                    data_2$geo %in% countr_tab2_1_2 & \n",
    "                    data_2$year==2017 &\n",
    "                    data_2$purpose==\"TOTAL\"&\n",
    "                    data_2$duration==duration_vec2[i]&\n",
    "                    data_2$unit==\"THS\" &\n",
    "                    data_2$partner==\"DOM\")\n",
    "data_2_col2_2  <- data_2_col2_2[,c(5,7)]\n",
    "\n",
    "data_2_col2_3 <- data.frame( geo = \"UK\", values=  NA)\n",
    "    \n",
    "data_tab2_col2 <- rbind(data_2_col2_1,data_2_col2_2,data_2_col2_3)\n",
    "\n",
    "data_tab2_col2 <- data_tab2_col2[order(factor(data_tab2_col2$geo, levels= countr_0)),]\n",
    "    \n",
    "data_tab2_col2$values <- round(data_tab2_col2$values,0)\n",
    "\n",
    "EU_27_prep_col3 <- data_tab2_col2$geo %in% EU_27\n",
    " \n",
    "tab_EU3_col3 <- sapply(data_tab2_col2[EU_27_prep_col3,2],sum)\n",
    "EU_tab2_sum1[,i] <- tab_EU3_col3\n",
    "    \n",
    "data_tab2_part2[,i] <- round(data_tab2_col2[,2]/table2_vers1[,2]*100,1)\n",
    "    \n",
    " }\n",
    "\n",
    "head(data_tab2_part2)"
   ]
  },
  {
   "cell_type": "markdown",
   "metadata": {},
   "source": [
    "#### Third step\n",
    "\n",
    "Continue with column six and seven, which are based on the same data like column four to five, the only difference is the variable \"partner\"."
   ]
  },
  {
   "cell_type": "code",
   "execution_count": 83,
   "metadata": {},
   "outputs": [],
   "source": [
    "duration_vec2 <-  c(\"N1-3\",\"N_GE4\")\n",
    "\n",
    "data_tab2_part3 <- as.data.frame(matrix(ncol = 2, nrow = 30))\n",
    "\n",
    "EU_tab2_sum2 <- as.data.frame(matrix(ncol = 2, nrow = 1))"
   ]
  },
  {
   "cell_type": "code",
   "execution_count": 84,
   "metadata": {},
   "outputs": [
    {
     "data": {
      "text/html": [
       "<table>\n",
       "<caption>A data.frame: 6 × 2</caption>\n",
       "<thead>\n",
       "\t<tr><th></th><th scope=col>V1</th><th scope=col>V2</th></tr>\n",
       "\t<tr><th></th><th scope=col>&lt;dbl&gt;</th><th scope=col>&lt;dbl&gt;</th></tr>\n",
       "</thead>\n",
       "<tbody>\n",
       "\t<tr><th scope=row>1</th><td>26.1</td><td>51.4</td></tr>\n",
       "\t<tr><th scope=row>2</th><td> 6.0</td><td>12.5</td></tr>\n",
       "\t<tr><th scope=row>3</th><td> 6.2</td><td>15.2</td></tr>\n",
       "\t<tr><th scope=row>4</th><td>11.0</td><td>25.8</td></tr>\n",
       "\t<tr><th scope=row>5</th><td> 9.4</td><td>31.1</td></tr>\n",
       "\t<tr><th scope=row>6</th><td>15.5</td><td>16.5</td></tr>\n",
       "</tbody>\n",
       "</table>\n"
      ],
      "text/latex": [
       "A data.frame: 6 × 2\n",
       "\\begin{tabular}{r|ll}\n",
       "  & V1 & V2\\\\\n",
       "  & <dbl> & <dbl>\\\\\n",
       "\\hline\n",
       "\t1 & 26.1 & 51.4\\\\\n",
       "\t2 &  6.0 & 12.5\\\\\n",
       "\t3 &  6.2 & 15.2\\\\\n",
       "\t4 & 11.0 & 25.8\\\\\n",
       "\t5 &  9.4 & 31.1\\\\\n",
       "\t6 & 15.5 & 16.5\\\\\n",
       "\\end{tabular}\n"
      ],
      "text/markdown": [
       "\n",
       "A data.frame: 6 × 2\n",
       "\n",
       "| <!--/--> | V1 &lt;dbl&gt; | V2 &lt;dbl&gt; |\n",
       "|---|---|---|\n",
       "| 1 | 26.1 | 51.4 |\n",
       "| 2 |  6.0 | 12.5 |\n",
       "| 3 |  6.2 | 15.2 |\n",
       "| 4 | 11.0 | 25.8 |\n",
       "| 5 |  9.4 | 31.1 |\n",
       "| 6 | 15.5 | 16.5 |\n",
       "\n"
      ],
      "text/plain": [
       "  V1   V2  \n",
       "1 26.1 51.4\n",
       "2  6.0 12.5\n",
       "3  6.2 15.2\n",
       "4 11.0 25.8\n",
       "5  9.4 31.1\n",
       "6 15.5 16.5"
      ]
     },
     "metadata": {},
     "output_type": "display_data"
    }
   ],
   "source": [
    "for (i in 1:2) {\n",
    "\n",
    "countr_tab2_1_1 <- c(\"BE\",\"BG\",\"CZ\",\"DK\",\"DE\",\"EE\",\"IE\",\"EL\",\"ES\",\"FR\",\"HR\",\"IT\",\"CY\",\"LV\",\"LT\",\"LU\",\"HU\",\"MT\",\"NL\",\n",
    "                 \"AT\",\"PT\",\"SI\",\"SK\",\"FI\",\"SE\",\"UK\",\"IS\",\"LI\",\"NO\",\"CH\",\"ME\",\"MK\",\"RS\",\"TR\",\"XK\")\n",
    "data_2_col3_1 <- subset(data_2, \n",
    "                    data_2$geo %in% countr_tab2_1_1 & \n",
    "                    data_2$year==2018 &\n",
    "                    data_2$purpose==\"TOTAL\"&\n",
    "                    data_2$duration==duration_vec2[i]&\n",
    "                    data_2$unit==\"THS\" &\n",
    "                    data_2$partner==\"OUT\") #the only difference to column four and five\n",
    "data_2_col3_1 <- data_2_col3_1[,c(5,7)]\n",
    "\n",
    "countr_tab2_1_2 <- c(\"PL\",\"RO\")\n",
    "data_2_col3_2 <- subset(data_2, \n",
    "                    data_2$geo %in% countr_tab2_1_2 & \n",
    "                    data_2$year==2017 &\n",
    "                    data_2$purpose==\"TOTAL\"&\n",
    "                    data_2$duration==duration_vec2[i]&\n",
    "                    data_2$unit==\"THS\" &\n",
    "                    data_2$partner==\"OUT\") #the only difference to column four and five\n",
    "data_2_col3_2  <- data_2_col3_2[,c(5,7)]\n",
    "\n",
    "data_2_col3_3 <- data.frame( geo = \"UK\", values=  NA)\n",
    "    \n",
    "data_tab2_col3 <- rbind(data_2_col3_1,data_2_col3_2,data_2_col3_3)\n",
    "\n",
    "data_tab2_col3 <- data_tab2_col3[order(factor(data_tab2_col3$geo, levels= countr_0)),]\n",
    "    \n",
    "data_tab2_col3$values <- round(data_tab2_col3$values,0)\n",
    "\n",
    "EU_27_prep_col3 <- data_tab2_col3$geo %in% EU_27\n",
    "tab_EU3_col3 <- sapply(data_tab2_col3[EU_27_prep_col3,2],sum)\n",
    "EU_tab2_sum2[,i] <- tab_EU3_col3\n",
    "    \n",
    "data_tab2_part3[,i] <- round(data_tab2_col3[,2]/table2_vers1[,2]*100,1)\n",
    "    \n",
    " }\n",
    "\n",
    "head(data_tab2_part3)"
   ]
  },
  {
   "cell_type": "markdown",
   "metadata": {},
   "source": [
    "Match `table2_vers1` with the remaining columns (i.e. column 4-7; `data_tab2_part2`,`data_tab2_part3`) to `table2_vers2`"
   ]
  },
  {
   "cell_type": "code",
   "execution_count": 85,
   "metadata": {},
   "outputs": [
    {
     "data": {
      "text/html": [
       "<table>\n",
       "<caption>A data.frame: 6 × 8</caption>\n",
       "<thead>\n",
       "\t<tr><th></th><th scope=col>countr_names2</th><th scope=col>V1</th><th scope=col>V2</th><th scope=col>V3</th><th scope=col>V1</th><th scope=col>V2</th><th scope=col>V1</th><th scope=col>V2</th></tr>\n",
       "\t<tr><th></th><th scope=col>&lt;fct&gt;</th><th scope=col>&lt;dbl&gt;</th><th scope=col>&lt;dbl&gt;</th><th scope=col>&lt;dbl&gt;</th><th scope=col>&lt;dbl&gt;</th><th scope=col>&lt;dbl&gt;</th><th scope=col>&lt;dbl&gt;</th><th scope=col>&lt;dbl&gt;</th></tr>\n",
       "</thead>\n",
       "<tbody>\n",
       "\t<tr><th scope=row>1</th><td>Belgium </td><td> 16893</td><td>  7058</td><td>  9835</td><td>15.7</td><td> 6.8</td><td>26.1</td><td>51.4</td></tr>\n",
       "\t<tr><th scope=row>2</th><td>Bulgaria</td><td>  5090</td><td>  2748</td><td>  2343</td><td>48.0</td><td>33.5</td><td> 6.0</td><td>12.5</td></tr>\n",
       "\t<tr><th scope=row>3</th><td>Czechia </td><td> 34569</td><td> 21380</td><td> 13189</td><td>55.7</td><td>23.0</td><td> 6.2</td><td>15.2</td></tr>\n",
       "\t<tr><th scope=row>4</th><td>Denmark </td><td> 18875</td><td> 10380</td><td>  8495</td><td>44.0</td><td>19.2</td><td>11.0</td><td>25.8</td></tr>\n",
       "\t<tr><th scope=row>5</th><td>Germany </td><td>267879</td><td>132289</td><td>135591</td><td>40.0</td><td>19.5</td><td> 9.4</td><td>31.1</td></tr>\n",
       "\t<tr><th scope=row>6</th><td>Estonia </td><td>  6468</td><td>  5109</td><td>  1358</td><td>63.5</td><td> 4.5</td><td>15.5</td><td>16.5</td></tr>\n",
       "</tbody>\n",
       "</table>\n"
      ],
      "text/latex": [
       "A data.frame: 6 × 8\n",
       "\\begin{tabular}{r|llllllll}\n",
       "  & countr\\_names2 & V1 & V2 & V3 & V1 & V2 & V1 & V2\\\\\n",
       "  & <fct> & <dbl> & <dbl> & <dbl> & <dbl> & <dbl> & <dbl> & <dbl>\\\\\n",
       "\\hline\n",
       "\t1 & Belgium  &  16893 &   7058 &   9835 & 15.7 &  6.8 & 26.1 & 51.4\\\\\n",
       "\t2 & Bulgaria &   5090 &   2748 &   2343 & 48.0 & 33.5 &  6.0 & 12.5\\\\\n",
       "\t3 & Czechia  &  34569 &  21380 &  13189 & 55.7 & 23.0 &  6.2 & 15.2\\\\\n",
       "\t4 & Denmark  &  18875 &  10380 &   8495 & 44.0 & 19.2 & 11.0 & 25.8\\\\\n",
       "\t5 & Germany  & 267879 & 132289 & 135591 & 40.0 & 19.5 &  9.4 & 31.1\\\\\n",
       "\t6 & Estonia  &   6468 &   5109 &   1358 & 63.5 &  4.5 & 15.5 & 16.5\\\\\n",
       "\\end{tabular}\n"
      ],
      "text/markdown": [
       "\n",
       "A data.frame: 6 × 8\n",
       "\n",
       "| <!--/--> | countr_names2 &lt;fct&gt; | V1 &lt;dbl&gt; | V2 &lt;dbl&gt; | V3 &lt;dbl&gt; | V1 &lt;dbl&gt; | V2 &lt;dbl&gt; | V1 &lt;dbl&gt; | V2 &lt;dbl&gt; |\n",
       "|---|---|---|---|---|---|---|---|---|\n",
       "| 1 | Belgium  |  16893 |   7058 |   9835 | 15.7 |  6.8 | 26.1 | 51.4 |\n",
       "| 2 | Bulgaria |   5090 |   2748 |   2343 | 48.0 | 33.5 |  6.0 | 12.5 |\n",
       "| 3 | Czechia  |  34569 |  21380 |  13189 | 55.7 | 23.0 |  6.2 | 15.2 |\n",
       "| 4 | Denmark  |  18875 |  10380 |   8495 | 44.0 | 19.2 | 11.0 | 25.8 |\n",
       "| 5 | Germany  | 267879 | 132289 | 135591 | 40.0 | 19.5 |  9.4 | 31.1 |\n",
       "| 6 | Estonia  |   6468 |   5109 |   1358 | 63.5 |  4.5 | 15.5 | 16.5 |\n",
       "\n"
      ],
      "text/plain": [
       "  countr_names2 V1     V2     V3     V1   V2   V1   V2  \n",
       "1 Belgium        16893   7058   9835 15.7  6.8 26.1 51.4\n",
       "2 Bulgaria        5090   2748   2343 48.0 33.5  6.0 12.5\n",
       "3 Czechia        34569  21380  13189 55.7 23.0  6.2 15.2\n",
       "4 Denmark        18875  10380   8495 44.0 19.2 11.0 25.8\n",
       "5 Germany       267879 132289 135591 40.0 19.5  9.4 31.1\n",
       "6 Estonia         6468   5109   1358 63.5  4.5 15.5 16.5"
      ]
     },
     "metadata": {},
     "output_type": "display_data"
    }
   ],
   "source": [
    "table2_vers2 <- cbind(table2_vers1, data_tab2_part2, data_tab2_part3)\n",
    "\n",
    "head(table2_vers2)"
   ]
  },
  {
   "cell_type": "markdown",
   "metadata": {},
   "source": [
    "#### Fourth step\n",
    "\n",
    "Now we add the last column, which has another dataset `data_3`\n",
    "- load the dataset first\n",
    "- again we add a year-column"
   ]
  },
  {
   "cell_type": "code",
   "execution_count": 86,
   "metadata": {},
   "outputs": [
    {
     "name": "stderr",
     "output_type": "stream",
     "text": [
      "Table tour_dem_totot cached at C:\\Users\\sarah\\AppData\\Local\\Temp\\Rtmp0oFI1n/eurostat/tour_dem_totot_date_code_TF.rds\n"
     ]
    }
   ],
   "source": [
    "data_3 <- as_tibble(get_eurostat_data(id=\"tour_dem_totot\"))\n",
    "\n",
    "data_3$year <- as.integer(substr(data_3$time,1,4))"
   ]
  },
  {
   "cell_type": "markdown",
   "metadata": {},
   "source": [
    "Exclude the countries, which need data from 2016 and 2017 (`countr_tab2_2_1`). Build the subset `data_2_col4_1`"
   ]
  },
  {
   "cell_type": "code",
   "execution_count": 87,
   "metadata": {},
   "outputs": [],
   "source": [
    "countr_tab2_2_1 <- c(\"BE\",\"BG\",\"CZ\",\"DK\",\"DE\",\"EE\",\"IE\",\"EL\",\"ES\",\"FR\",\"HR\",\"IT\",\"CY\",\"LT\",\"LU\",\"HU\",\"MT\",\"NL\",\n",
    "                     \"PL\",\"PT\",\"RO\",\"SI\",\"SK\",\"FI\",\"SE\",\"IS\",\"LI\",\"NO\",\"CH\",\"ME\",\"RS\",\"TR\")\n",
    "data_2_col4_1 <- subset(data_3, \n",
    "                    data_3$geo %in% countr_tab2_2_1 & \n",
    "                    data_3$year==2018 &\n",
    "                    data_3$duration==\"N_GE1\"&\n",
    "                    data_3$unit==\"PC_POP\"&\n",
    "                    data_3$partner==\"WORLD\")\n",
    "data_2_col4_1 <- data_2_col4_1[,c(4,6)]"
   ]
  },
  {
   "cell_type": "markdown",
   "metadata": {},
   "source": [
    "For United Kingdom (`countr_tab2_2_2`) we need data from 2016. Build the subset `data_2_col4_2`"
   ]
  },
  {
   "cell_type": "code",
   "execution_count": 88,
   "metadata": {},
   "outputs": [],
   "source": [
    "countr_tab2_2_2 <- c(\"UK\")\n",
    "data_2_col4_2 <- subset(data_3, \n",
    "                    data_3$geo %in% countr_tab2_2_2 & \n",
    "                    data_3$year==2016 &\n",
    "                    data_3$duration==\"N_GE1\"&\n",
    "                    data_3$unit==\"PC_POP\"&\n",
    "                    data_3$partner==\"WORLD\")\n",
    "data_2_col4_2 <- data_2_col4_2[,c(4,6)]"
   ]
  },
  {
   "cell_type": "markdown",
   "metadata": {},
   "source": [
    "For Austria and Latvia (`countr_tab2_2_3`) we need data from 2017. Build the subset `data_2_col4_3`"
   ]
  },
  {
   "cell_type": "code",
   "execution_count": 89,
   "metadata": {},
   "outputs": [],
   "source": [
    "countr_tab2_2_3 <- c(\"LV\",\"AT\")\n",
    "data_2_col4_3 <- subset(data_3, \n",
    "                    data_3$geo %in% countr_tab2_2_3 & \n",
    "                    data_3$year==2017 &\n",
    "                    data_3$duration==\"N_GE1\"&\n",
    "                    data_3$unit==\"PC_POP\"&\n",
    "                    data_3$partner==\"WORLD\")\n",
    "data_2_col4_3 <- data_2_col4_3[,c(4,6)]"
   ]
  },
  {
   "cell_type": "markdown",
   "metadata": {},
   "source": [
    "- match the subsets to `data_tab2_part4`\n",
    "- bring the country names in the order the table shows (use `countr_0`)\n",
    "\n",
    "- here we can keep the country shortcuts, because we need them to calculate the EU-value later \n",
    "- by matching the last column to `table2_vers2`, we can delete the shortcut column, because we need the full names here: `table2_vers3`"
   ]
  },
  {
   "cell_type": "code",
   "execution_count": 221,
   "metadata": {},
   "outputs": [
    {
     "data": {
      "text/html": [
       "<table>\n",
       "<caption>A data.frame: 6 × 9</caption>\n",
       "<thead>\n",
       "\t<tr><th></th><th scope=col>countr_names2</th><th scope=col>V1</th><th scope=col>V2</th><th scope=col>V3</th><th scope=col>V1</th><th scope=col>V2</th><th scope=col>V1</th><th scope=col>V2</th><th scope=col>values</th></tr>\n",
       "\t<tr><th></th><th scope=col>&lt;fct&gt;</th><th scope=col>&lt;dbl&gt;</th><th scope=col>&lt;dbl&gt;</th><th scope=col>&lt;dbl&gt;</th><th scope=col>&lt;dbl&gt;</th><th scope=col>&lt;dbl&gt;</th><th scope=col>&lt;dbl&gt;</th><th scope=col>&lt;dbl&gt;</th><th scope=col>&lt;dbl&gt;</th></tr>\n",
       "</thead>\n",
       "<tbody>\n",
       "\t<tr><th scope=row>1</th><td>Belgium </td><td> 16893</td><td>  7058</td><td>  9835</td><td>15.7</td><td> 6.8</td><td>26.1</td><td>51.4</td><td>67.7</td></tr>\n",
       "\t<tr><th scope=row>2</th><td>Bulgaria</td><td>  5090</td><td>  2748</td><td>  2343</td><td>48.0</td><td>33.5</td><td> 6.0</td><td>12.5</td><td>33.8</td></tr>\n",
       "\t<tr><th scope=row>3</th><td>Czechia </td><td> 34569</td><td> 21380</td><td> 13189</td><td>55.7</td><td>23.0</td><td> 6.2</td><td>15.2</td><td>78.1</td></tr>\n",
       "\t<tr><th scope=row>4</th><td>Denmark </td><td> 18875</td><td> 10380</td><td>  8495</td><td>44.0</td><td>19.2</td><td>11.0</td><td>25.8</td><td>69.9</td></tr>\n",
       "\t<tr><th scope=row>5</th><td>Germany </td><td>267879</td><td>132289</td><td>135591</td><td>40.0</td><td>19.5</td><td> 9.4</td><td>31.1</td><td>75.3</td></tr>\n",
       "\t<tr><th scope=row>6</th><td>Estonia </td><td>  6468</td><td>  5109</td><td>  1358</td><td>63.5</td><td> 4.5</td><td>15.5</td><td>16.5</td><td>79.5</td></tr>\n",
       "</tbody>\n",
       "</table>\n"
      ],
      "text/latex": [
       "A data.frame: 6 × 9\n",
       "\\begin{tabular}{r|lllllllll}\n",
       "  & countr\\_names2 & V1 & V2 & V3 & V1 & V2 & V1 & V2 & values\\\\\n",
       "  & <fct> & <dbl> & <dbl> & <dbl> & <dbl> & <dbl> & <dbl> & <dbl> & <dbl>\\\\\n",
       "\\hline\n",
       "\t1 & Belgium  &  16893 &   7058 &   9835 & 15.7 &  6.8 & 26.1 & 51.4 & 67.7\\\\\n",
       "\t2 & Bulgaria &   5090 &   2748 &   2343 & 48.0 & 33.5 &  6.0 & 12.5 & 33.8\\\\\n",
       "\t3 & Czechia  &  34569 &  21380 &  13189 & 55.7 & 23.0 &  6.2 & 15.2 & 78.1\\\\\n",
       "\t4 & Denmark  &  18875 &  10380 &   8495 & 44.0 & 19.2 & 11.0 & 25.8 & 69.9\\\\\n",
       "\t5 & Germany  & 267879 & 132289 & 135591 & 40.0 & 19.5 &  9.4 & 31.1 & 75.3\\\\\n",
       "\t6 & Estonia  &   6468 &   5109 &   1358 & 63.5 &  4.5 & 15.5 & 16.5 & 79.5\\\\\n",
       "\\end{tabular}\n"
      ],
      "text/markdown": [
       "\n",
       "A data.frame: 6 × 9\n",
       "\n",
       "| <!--/--> | countr_names2 &lt;fct&gt; | V1 &lt;dbl&gt; | V2 &lt;dbl&gt; | V3 &lt;dbl&gt; | V1 &lt;dbl&gt; | V2 &lt;dbl&gt; | V1 &lt;dbl&gt; | V2 &lt;dbl&gt; | values &lt;dbl&gt; |\n",
       "|---|---|---|---|---|---|---|---|---|---|\n",
       "| 1 | Belgium  |  16893 |   7058 |   9835 | 15.7 |  6.8 | 26.1 | 51.4 | 67.7 |\n",
       "| 2 | Bulgaria |   5090 |   2748 |   2343 | 48.0 | 33.5 |  6.0 | 12.5 | 33.8 |\n",
       "| 3 | Czechia  |  34569 |  21380 |  13189 | 55.7 | 23.0 |  6.2 | 15.2 | 78.1 |\n",
       "| 4 | Denmark  |  18875 |  10380 |   8495 | 44.0 | 19.2 | 11.0 | 25.8 | 69.9 |\n",
       "| 5 | Germany  | 267879 | 132289 | 135591 | 40.0 | 19.5 |  9.4 | 31.1 | 75.3 |\n",
       "| 6 | Estonia  |   6468 |   5109 |   1358 | 63.5 |  4.5 | 15.5 | 16.5 | 79.5 |\n",
       "\n"
      ],
      "text/plain": [
       "  countr_names2 V1     V2     V3     V1   V2   V1   V2   values\n",
       "1 Belgium        16893   7058   9835 15.7  6.8 26.1 51.4 67.7  \n",
       "2 Bulgaria        5090   2748   2343 48.0 33.5  6.0 12.5 33.8  \n",
       "3 Czechia        34569  21380  13189 55.7 23.0  6.2 15.2 78.1  \n",
       "4 Denmark        18875  10380   8495 44.0 19.2 11.0 25.8 69.9  \n",
       "5 Germany       267879 132289 135591 40.0 19.5  9.4 31.1 75.3  \n",
       "6 Estonia         6468   5109   1358 63.5  4.5 15.5 16.5 79.5  "
      ]
     },
     "metadata": {},
     "output_type": "display_data"
    }
   ],
   "source": [
    "data_tab2_part4 <- rbind(data_2_col4_1, data_2_col4_2, data_2_col4_3)\n",
    "\n",
    "data_tab2_part4 <- data_tab2_part4[order(factor(data_tab2_part4$geo, levels= countr_0)),]\n",
    "\n",
    "data_tab2_part4$values <- round(data_tab2_part4$values, 1)\n",
    "\n",
    "table2_vers3 <- cbind(table2_vers2, data_tab2_part4[,2])\n",
    "\n",
    "head(table2_vers3)"
   ]
  },
  {
   "cell_type": "markdown",
   "metadata": {},
   "source": [
    "#### Fifth step\n",
    "\n",
    "Calculate the EU value\n",
    "- we need one time again the table `table2_vers3` with shortcuts instead of full names to exclude the not-EU countries by using the `EU_27` vector.\n",
    "- remember that by calculating the last column to `table2_vers3` we keeped the shortcuts for the countries: \"data_tab2_part4[,1]\" --> this are the shortcuts\n",
    "- add this to `table2_vers3`"
   ]
  },
  {
   "cell_type": "code",
   "execution_count": 91,
   "metadata": {},
   "outputs": [],
   "source": [
    "tab_prep3 <- cbind(data_tab2_part4[,1], table2_vers3[,2:9])"
   ]
  },
  {
   "cell_type": "markdown",
   "metadata": {},
   "source": [
    "- which countries of `tab_prep3` are within `EU_27`: `EU_27_prep3`\n",
    "- by using the sapply-command we can calculate the sum of the column one to three of the table `table2_vers3`: `tab_EU3_1`"
   ]
  },
  {
   "cell_type": "code",
   "execution_count": 92,
   "metadata": {},
   "outputs": [],
   "source": [
    "EU_27_prep3 <- tab_prep3$geo %in% EU_27\n",
    "\n",
    "tab_EU3_1 <- sapply(table2_vers3[EU_27_prep3,2:4],sum)"
   ]
  },
  {
   "cell_type": "markdown",
   "metadata": {},
   "source": [
    "- for column four to seven we have to calculate the ratio\n",
    "- we already calculated the sum above: `EU_tab2_sum1` and `EU_tab2_sum2`\n",
    "- we have to devide this to the sum of \"all trips\": \"tab_EU3_1[1]\"\n",
    "- for the last column we have to take the average, because there is no suitable data in the dataset"
   ]
  },
  {
   "cell_type": "code",
   "execution_count": 93,
   "metadata": {},
   "outputs": [],
   "source": [
    "tab_EU3_2 <- round(EU_tab2_sum1/tab_EU3_1[1]*100,1)\n",
    "tab_EU3_3 <- round(EU_tab2_sum2/tab_EU3_1[1]*100,1)\n",
    "\n",
    "tab_EU3_4 <- round(mean(table2_vers3[EU_27_prep3,9]),1)"
   ]
  },
  {
   "cell_type": "markdown",
   "metadata": {},
   "source": [
    "Match all EU-values in `tab_EU3`\n",
    "- at this stage we get the warning message, that one NA for \"EU-27\" get generated: we solve this problem two steps later\n",
    "- put the summarized values to the calculated table from above: `table2_final`\n",
    "- give the columns the correct names"
   ]
  },
  {
   "cell_type": "code",
   "execution_count": 94,
   "metadata": {},
   "outputs": [
    {
     "name": "stderr",
     "output_type": "stream",
     "text": [
      "Warning message in base::as.numeric(x):\n",
      "\"NAs durch Umwandlung erzeugt\""
     ]
    }
   ],
   "source": [
    "tab_EU3 <- as.numeric(c(\"EU-27\", tab_EU3_1, tab_EU3_2, tab_EU3_3, tab_EU3_4))\n",
    "\n",
    "table2_final <- rbind(tab_EU3,table2_vers3)\n",
    "\n",
    "names(table2_final) <- c(\"\",\n",
    "                        \"All trips\", \n",
    "                        \"Short trips (1-3 nights)\",\n",
    "                        \"Long trips (4+ nights)\",\n",
    "                        \"Short domestic trips (1-3 nights)\",\n",
    "                        \"Long domestic trips (4+ nights)\",\n",
    "                        \"Short outbound trips (1-3 nights)\",\n",
    "                        \"Long outbound trips (4+ nights)\",\n",
    "                        \"Share of the population (aged 15+) taking part in tourism trips for personal purposes (%)\")"
   ]
  },
  {
   "cell_type": "markdown",
   "metadata": {},
   "source": [
    "- we have to convert the class, because we have to add \"EU-27\" and this only works by converting it from a factor first, then doing the change and re-convert it back"
   ]
  },
  {
   "cell_type": "code",
   "execution_count": 157,
   "metadata": {},
   "outputs": [
    {
     "data": {
      "text/html": [
       "<table>\n",
       "<caption>A matrix: 31 × 9 of type chr</caption>\n",
       "<thead>\n",
       "\t<tr><th scope=col></th><th scope=col>All trips</th><th scope=col>Short trips (1-3 nights)</th><th scope=col>Long trips (4+ nights)</th><th scope=col>Short domestic trips (1-3 nights)</th><th scope=col>Long domestic trips (4+ nights)</th><th scope=col>Short outbound trips (1-3 nights)</th><th scope=col>Long outbound trips (4+ nights)</th><th scope=col>Share of the population (aged 15+) taking part in tourism trips for personal purposes (%)</th></tr>\n",
       "</thead>\n",
       "<tbody>\n",
       "\t<tr><td>EU-27         </td><td>1130622</td><td>619562</td><td>511063</td><td>46.0</td><td>24.5</td><td> 8.8</td><td>20.7</td><td>65.1</td></tr>\n",
       "\t<tr><td>Belgium       </td><td>  16893</td><td>  7058</td><td>  9835</td><td>15.7</td><td> 6.8</td><td>26.1</td><td>51.4</td><td>67.7</td></tr>\n",
       "\t<tr><td>Bulgaria      </td><td>   5090</td><td>  2748</td><td>  2343</td><td>48.0</td><td>33.5</td><td> 6.0</td><td>12.5</td><td>33.8</td></tr>\n",
       "\t<tr><td>Czechia       </td><td>  34569</td><td> 21380</td><td> 13189</td><td>55.7</td><td>23.0</td><td> 6.2</td><td>15.2</td><td>78.1</td></tr>\n",
       "\t<tr><td>Denmark       </td><td>  18875</td><td> 10380</td><td>  8495</td><td>44.0</td><td>19.2</td><td>11.0</td><td>25.8</td><td>69.9</td></tr>\n",
       "\t<tr><td>Germany       </td><td> 267879</td><td>132289</td><td>135591</td><td>40.0</td><td>19.5</td><td> 9.4</td><td>31.1</td><td>75.3</td></tr>\n",
       "\t<tr><td>Estonia       </td><td>   6468</td><td>  5109</td><td>  1358</td><td>63.5</td><td> 4.5</td><td>15.5</td><td>16.5</td><td>79.5</td></tr>\n",
       "\t<tr><td>Ireland       </td><td>  15941</td><td> 10110</td><td>  5831</td><td>45.9</td><td> 8.0</td><td>17.5</td><td>28.6</td><td>74.7</td></tr>\n",
       "\t<tr><td>Greece        </td><td>   6565</td><td>  1834</td><td>  4731</td><td>25.0</td><td>61.7</td><td> 2.9</td><td>10.4</td><td>42.8</td></tr>\n",
       "\t<tr><td>Spain         </td><td> 156370</td><td>110284</td><td> 46086</td><td>66.9</td><td>22.6</td><td> 3.6</td><td> 6.9</td><td>67.4</td></tr>\n",
       "\t<tr><td>France        </td><td> 220225</td><td> 98403</td><td>121822</td><td>37.3</td><td>38.5</td><td> 7.4</td><td>16.9</td><td>74.3</td></tr>\n",
       "\t<tr><td>Croatia       </td><td>   5255</td><td>  2754</td><td>  2501</td><td>31.9</td><td>28.9</td><td>20.5</td><td>18.6</td><td>46.5</td></tr>\n",
       "\t<tr><td>Italy         </td><td>  68186</td><td> 35285</td><td> 32901</td><td>45.1</td><td>33.9</td><td> 6.7</td><td>14.4</td><td>44.9</td></tr>\n",
       "\t<tr><td>Cyprus        </td><td>   3001</td><td>  1717</td><td>  1284</td><td>44.7</td><td> 7.5</td><td>12.5</td><td>35.3</td><td>69.5</td></tr>\n",
       "\t<tr><td>Latvia        </td><td>   3952</td><td>  2952</td><td>  1000</td><td>58.6</td><td> 6.7</td><td>16.0</td><td>18.6</td><td>57.7</td></tr>\n",
       "\t<tr><td>Lithuania     </td><td>   4885</td><td>  2925</td><td>  1960</td><td>45.1</td><td> 9.0</td><td>14.8</td><td>31.1</td><td>57.3</td></tr>\n",
       "\t<tr><td>Luxembourg    </td><td>   2555</td><td>  1167</td><td>  1388</td><td> 1.5</td><td> 0.3</td><td>44.2</td><td>54.0</td><td>81.1</td></tr>\n",
       "\t<tr><td>Hungary       </td><td>  19230</td><td> 12506</td><td>  6724</td><td>46.2</td><td>15.8</td><td>18.9</td><td>19.2</td><td>57.6</td></tr>\n",
       "\t<tr><td>Malta         </td><td>    874</td><td>   391</td><td>   483</td><td>23.2</td><td> 4.9</td><td>21.6</td><td>50.3</td><td>65.5</td></tr>\n",
       "\t<tr><td>Netherlands   </td><td>  44551</td><td> 21955</td><td> 22596</td><td>37.3</td><td>15.9</td><td>12.0</td><td>34.9</td><td>85.0</td></tr>\n",
       "\t<tr><td>Austria       </td><td>  24391</td><td> 13395</td><td> 10997</td><td>36.8</td><td>14.4</td><td>18.1</td><td>30.7</td><td>76.6</td></tr>\n",
       "\t<tr><td>Poland        </td><td>  57910</td><td> 30364</td><td> 27546</td><td>48.3</td><td>31.1</td><td> 4.1</td><td>16.5</td><td>61.9</td></tr>\n",
       "\t<tr><td>Portugal      </td><td>  18298</td><td> 12846</td><td>  5452</td><td>66.3</td><td>21.8</td><td> 3.9</td><td> 8.0</td><td>44.8</td></tr>\n",
       "\t<tr><td>Romania       </td><td>  17902</td><td> 11291</td><td>  6612</td><td>62.3</td><td>31.7</td><td> 0.8</td><td> 5.2</td><td>27.0</td></tr>\n",
       "\t<tr><td>Slovenia      </td><td>   5191</td><td>  3203</td><td>  1988</td><td>32.1</td><td> 6.5</td><td>29.6</td><td>31.8</td><td>69.3</td></tr>\n",
       "\t<tr><td>Slovakia      </td><td>  12423</td><td>  7497</td><td>  4926</td><td>45.6</td><td>16.9</td><td>14.8</td><td>22.8</td><td>73.2</td></tr>\n",
       "\t<tr><td>Finland       </td><td>  38602</td><td> 27837</td><td> 10765</td><td>60.4</td><td>15.0</td><td>11.7</td><td>12.9</td><td>91.0</td></tr>\n",
       "\t<tr><td>Sweden        </td><td>  54541</td><td> 31882</td><td> 22659</td><td>47.2</td><td>18.3</td><td>11.3</td><td>23.3</td><td>84.9</td></tr>\n",
       "\t<tr><td>United Kingdom</td><td>NA     </td><td>NA    </td><td>NA    </td><td>NA  </td><td>NA  </td><td>NA  </td><td>NA  </td><td>64.1</td></tr>\n",
       "\t<tr><td>Norway        </td><td>  27084</td><td> 17813</td><td>  9270</td><td>53.6</td><td>16.5</td><td>12.2</td><td>17.7</td><td>92.5</td></tr>\n",
       "\t<tr><td>Switzerland   </td><td>  21946</td><td>  9605</td><td> 12341</td><td>19.6</td><td>10.8</td><td>24.2</td><td>45.5</td><td>89.8</td></tr>\n",
       "</tbody>\n",
       "</table>\n"
      ],
      "text/latex": [
       "A matrix: 31 × 9 of type chr\n",
       "\\begin{tabular}{lllllllll}\n",
       "  & All trips & Short trips (1-3 nights) & Long trips (4+ nights) & Short domestic trips (1-3 nights) & Long domestic trips (4+ nights) & Short outbound trips (1-3 nights) & Long outbound trips (4+ nights) & Share of the population (aged 15+) taking part in tourism trips for personal purposes (\\%)\\\\\n",
       "\\hline\n",
       "\t EU-27          & 1130622 & 619562 & 511063 & 46.0 & 24.5 &  8.8 & 20.7 & 65.1\\\\\n",
       "\t Belgium        &   16893 &   7058 &   9835 & 15.7 &  6.8 & 26.1 & 51.4 & 67.7\\\\\n",
       "\t Bulgaria       &    5090 &   2748 &   2343 & 48.0 & 33.5 &  6.0 & 12.5 & 33.8\\\\\n",
       "\t Czechia        &   34569 &  21380 &  13189 & 55.7 & 23.0 &  6.2 & 15.2 & 78.1\\\\\n",
       "\t Denmark        &   18875 &  10380 &   8495 & 44.0 & 19.2 & 11.0 & 25.8 & 69.9\\\\\n",
       "\t Germany        &  267879 & 132289 & 135591 & 40.0 & 19.5 &  9.4 & 31.1 & 75.3\\\\\n",
       "\t Estonia        &    6468 &   5109 &   1358 & 63.5 &  4.5 & 15.5 & 16.5 & 79.5\\\\\n",
       "\t Ireland        &   15941 &  10110 &   5831 & 45.9 &  8.0 & 17.5 & 28.6 & 74.7\\\\\n",
       "\t Greece         &    6565 &   1834 &   4731 & 25.0 & 61.7 &  2.9 & 10.4 & 42.8\\\\\n",
       "\t Spain          &  156370 & 110284 &  46086 & 66.9 & 22.6 &  3.6 &  6.9 & 67.4\\\\\n",
       "\t France         &  220225 &  98403 & 121822 & 37.3 & 38.5 &  7.4 & 16.9 & 74.3\\\\\n",
       "\t Croatia        &    5255 &   2754 &   2501 & 31.9 & 28.9 & 20.5 & 18.6 & 46.5\\\\\n",
       "\t Italy          &   68186 &  35285 &  32901 & 45.1 & 33.9 &  6.7 & 14.4 & 44.9\\\\\n",
       "\t Cyprus         &    3001 &   1717 &   1284 & 44.7 &  7.5 & 12.5 & 35.3 & 69.5\\\\\n",
       "\t Latvia         &    3952 &   2952 &   1000 & 58.6 &  6.7 & 16.0 & 18.6 & 57.7\\\\\n",
       "\t Lithuania      &    4885 &   2925 &   1960 & 45.1 &  9.0 & 14.8 & 31.1 & 57.3\\\\\n",
       "\t Luxembourg     &    2555 &   1167 &   1388 &  1.5 &  0.3 & 44.2 & 54.0 & 81.1\\\\\n",
       "\t Hungary        &   19230 &  12506 &   6724 & 46.2 & 15.8 & 18.9 & 19.2 & 57.6\\\\\n",
       "\t Malta          &     874 &    391 &    483 & 23.2 &  4.9 & 21.6 & 50.3 & 65.5\\\\\n",
       "\t Netherlands    &   44551 &  21955 &  22596 & 37.3 & 15.9 & 12.0 & 34.9 & 85.0\\\\\n",
       "\t Austria        &   24391 &  13395 &  10997 & 36.8 & 14.4 & 18.1 & 30.7 & 76.6\\\\\n",
       "\t Poland         &   57910 &  30364 &  27546 & 48.3 & 31.1 &  4.1 & 16.5 & 61.9\\\\\n",
       "\t Portugal       &   18298 &  12846 &   5452 & 66.3 & 21.8 &  3.9 &  8.0 & 44.8\\\\\n",
       "\t Romania        &   17902 &  11291 &   6612 & 62.3 & 31.7 &  0.8 &  5.2 & 27.0\\\\\n",
       "\t Slovenia       &    5191 &   3203 &   1988 & 32.1 &  6.5 & 29.6 & 31.8 & 69.3\\\\\n",
       "\t Slovakia       &   12423 &   7497 &   4926 & 45.6 & 16.9 & 14.8 & 22.8 & 73.2\\\\\n",
       "\t Finland        &   38602 &  27837 &  10765 & 60.4 & 15.0 & 11.7 & 12.9 & 91.0\\\\\n",
       "\t Sweden         &   54541 &  31882 &  22659 & 47.2 & 18.3 & 11.3 & 23.3 & 84.9\\\\\n",
       "\t United Kingdom & NA      & NA     & NA     & NA   & NA   & NA   & NA   & 64.1\\\\\n",
       "\t Norway         &   27084 &  17813 &   9270 & 53.6 & 16.5 & 12.2 & 17.7 & 92.5\\\\\n",
       "\t Switzerland    &   21946 &   9605 &  12341 & 19.6 & 10.8 & 24.2 & 45.5 & 89.8\\\\\n",
       "\\end{tabular}\n"
      ],
      "text/markdown": [
       "\n",
       "A matrix: 31 × 9 of type chr\n",
       "\n",
       "| <!----> | All trips | Short trips (1-3 nights) | Long trips (4+ nights) | Short domestic trips (1-3 nights) | Long domestic trips (4+ nights) | Short outbound trips (1-3 nights) | Long outbound trips (4+ nights) | Share of the population (aged 15+) taking part in tourism trips for personal purposes (%) |\n",
       "|---|---|---|---|---|---|---|---|---|\n",
       "| EU-27          | 1130622 | 619562 | 511063 | 46.0 | 24.5 |  8.8 | 20.7 | 65.1 |\n",
       "| Belgium        |   16893 |   7058 |   9835 | 15.7 |  6.8 | 26.1 | 51.4 | 67.7 |\n",
       "| Bulgaria       |    5090 |   2748 |   2343 | 48.0 | 33.5 |  6.0 | 12.5 | 33.8 |\n",
       "| Czechia        |   34569 |  21380 |  13189 | 55.7 | 23.0 |  6.2 | 15.2 | 78.1 |\n",
       "| Denmark        |   18875 |  10380 |   8495 | 44.0 | 19.2 | 11.0 | 25.8 | 69.9 |\n",
       "| Germany        |  267879 | 132289 | 135591 | 40.0 | 19.5 |  9.4 | 31.1 | 75.3 |\n",
       "| Estonia        |    6468 |   5109 |   1358 | 63.5 |  4.5 | 15.5 | 16.5 | 79.5 |\n",
       "| Ireland        |   15941 |  10110 |   5831 | 45.9 |  8.0 | 17.5 | 28.6 | 74.7 |\n",
       "| Greece         |    6565 |   1834 |   4731 | 25.0 | 61.7 |  2.9 | 10.4 | 42.8 |\n",
       "| Spain          |  156370 | 110284 |  46086 | 66.9 | 22.6 |  3.6 |  6.9 | 67.4 |\n",
       "| France         |  220225 |  98403 | 121822 | 37.3 | 38.5 |  7.4 | 16.9 | 74.3 |\n",
       "| Croatia        |    5255 |   2754 |   2501 | 31.9 | 28.9 | 20.5 | 18.6 | 46.5 |\n",
       "| Italy          |   68186 |  35285 |  32901 | 45.1 | 33.9 |  6.7 | 14.4 | 44.9 |\n",
       "| Cyprus         |    3001 |   1717 |   1284 | 44.7 |  7.5 | 12.5 | 35.3 | 69.5 |\n",
       "| Latvia         |    3952 |   2952 |   1000 | 58.6 |  6.7 | 16.0 | 18.6 | 57.7 |\n",
       "| Lithuania      |    4885 |   2925 |   1960 | 45.1 |  9.0 | 14.8 | 31.1 | 57.3 |\n",
       "| Luxembourg     |    2555 |   1167 |   1388 |  1.5 |  0.3 | 44.2 | 54.0 | 81.1 |\n",
       "| Hungary        |   19230 |  12506 |   6724 | 46.2 | 15.8 | 18.9 | 19.2 | 57.6 |\n",
       "| Malta          |     874 |    391 |    483 | 23.2 |  4.9 | 21.6 | 50.3 | 65.5 |\n",
       "| Netherlands    |   44551 |  21955 |  22596 | 37.3 | 15.9 | 12.0 | 34.9 | 85.0 |\n",
       "| Austria        |   24391 |  13395 |  10997 | 36.8 | 14.4 | 18.1 | 30.7 | 76.6 |\n",
       "| Poland         |   57910 |  30364 |  27546 | 48.3 | 31.1 |  4.1 | 16.5 | 61.9 |\n",
       "| Portugal       |   18298 |  12846 |   5452 | 66.3 | 21.8 |  3.9 |  8.0 | 44.8 |\n",
       "| Romania        |   17902 |  11291 |   6612 | 62.3 | 31.7 |  0.8 |  5.2 | 27.0 |\n",
       "| Slovenia       |    5191 |   3203 |   1988 | 32.1 |  6.5 | 29.6 | 31.8 | 69.3 |\n",
       "| Slovakia       |   12423 |   7497 |   4926 | 45.6 | 16.9 | 14.8 | 22.8 | 73.2 |\n",
       "| Finland        |   38602 |  27837 |  10765 | 60.4 | 15.0 | 11.7 | 12.9 | 91.0 |\n",
       "| Sweden         |   54541 |  31882 |  22659 | 47.2 | 18.3 | 11.3 | 23.3 | 84.9 |\n",
       "| United Kingdom | NA      | NA     | NA     | NA   | NA   | NA   | NA   | 64.1 |\n",
       "| Norway         |   27084 |  17813 |   9270 | 53.6 | 16.5 | 12.2 | 17.7 | 92.5 |\n",
       "| Switzerland    |   21946 |   9605 |  12341 | 19.6 | 10.8 | 24.2 | 45.5 | 89.8 |\n",
       "\n"
      ],
      "text/plain": [
       "                     All trips Short trips (1-3 nights) Long trips (4+ nights)\n",
       " [1,] EU-27          1130622   619562                   511063                \n",
       " [2,] Belgium          16893     7058                     9835                \n",
       " [3,] Bulgaria          5090     2748                     2343                \n",
       " [4,] Czechia          34569    21380                    13189                \n",
       " [5,] Denmark          18875    10380                     8495                \n",
       " [6,] Germany         267879   132289                   135591                \n",
       " [7,] Estonia           6468     5109                     1358                \n",
       " [8,] Ireland          15941    10110                     5831                \n",
       " [9,] Greece            6565     1834                     4731                \n",
       "[10,] Spain           156370   110284                    46086                \n",
       "[11,] France          220225    98403                   121822                \n",
       "[12,] Croatia           5255     2754                     2501                \n",
       "[13,] Italy            68186    35285                    32901                \n",
       "[14,] Cyprus            3001     1717                     1284                \n",
       "[15,] Latvia            3952     2952                     1000                \n",
       "[16,] Lithuania         4885     2925                     1960                \n",
       "[17,] Luxembourg        2555     1167                     1388                \n",
       "[18,] Hungary          19230    12506                     6724                \n",
       "[19,] Malta              874      391                      483                \n",
       "[20,] Netherlands      44551    21955                    22596                \n",
       "[21,] Austria          24391    13395                    10997                \n",
       "[22,] Poland           57910    30364                    27546                \n",
       "[23,] Portugal         18298    12846                     5452                \n",
       "[24,] Romania          17902    11291                     6612                \n",
       "[25,] Slovenia          5191     3203                     1988                \n",
       "[26,] Slovakia         12423     7497                     4926                \n",
       "[27,] Finland          38602    27837                    10765                \n",
       "[28,] Sweden           54541    31882                    22659                \n",
       "[29,] United Kingdom NA        NA                       NA                    \n",
       "[30,] Norway           27084    17813                     9270                \n",
       "[31,] Switzerland      21946     9605                    12341                \n",
       "      Short domestic trips (1-3 nights) Long domestic trips (4+ nights)\n",
       " [1,] 46.0                              24.5                           \n",
       " [2,] 15.7                               6.8                           \n",
       " [3,] 48.0                              33.5                           \n",
       " [4,] 55.7                              23.0                           \n",
       " [5,] 44.0                              19.2                           \n",
       " [6,] 40.0                              19.5                           \n",
       " [7,] 63.5                               4.5                           \n",
       " [8,] 45.9                               8.0                           \n",
       " [9,] 25.0                              61.7                           \n",
       "[10,] 66.9                              22.6                           \n",
       "[11,] 37.3                              38.5                           \n",
       "[12,] 31.9                              28.9                           \n",
       "[13,] 45.1                              33.9                           \n",
       "[14,] 44.7                               7.5                           \n",
       "[15,] 58.6                               6.7                           \n",
       "[16,] 45.1                               9.0                           \n",
       "[17,]  1.5                               0.3                           \n",
       "[18,] 46.2                              15.8                           \n",
       "[19,] 23.2                               4.9                           \n",
       "[20,] 37.3                              15.9                           \n",
       "[21,] 36.8                              14.4                           \n",
       "[22,] 48.3                              31.1                           \n",
       "[23,] 66.3                              21.8                           \n",
       "[24,] 62.3                              31.7                           \n",
       "[25,] 32.1                               6.5                           \n",
       "[26,] 45.6                              16.9                           \n",
       "[27,] 60.4                              15.0                           \n",
       "[28,] 47.2                              18.3                           \n",
       "[29,] NA                                NA                             \n",
       "[30,] 53.6                              16.5                           \n",
       "[31,] 19.6                              10.8                           \n",
       "      Short outbound trips (1-3 nights) Long outbound trips (4+ nights)\n",
       " [1,]  8.8                              20.7                           \n",
       " [2,] 26.1                              51.4                           \n",
       " [3,]  6.0                              12.5                           \n",
       " [4,]  6.2                              15.2                           \n",
       " [5,] 11.0                              25.8                           \n",
       " [6,]  9.4                              31.1                           \n",
       " [7,] 15.5                              16.5                           \n",
       " [8,] 17.5                              28.6                           \n",
       " [9,]  2.9                              10.4                           \n",
       "[10,]  3.6                               6.9                           \n",
       "[11,]  7.4                              16.9                           \n",
       "[12,] 20.5                              18.6                           \n",
       "[13,]  6.7                              14.4                           \n",
       "[14,] 12.5                              35.3                           \n",
       "[15,] 16.0                              18.6                           \n",
       "[16,] 14.8                              31.1                           \n",
       "[17,] 44.2                              54.0                           \n",
       "[18,] 18.9                              19.2                           \n",
       "[19,] 21.6                              50.3                           \n",
       "[20,] 12.0                              34.9                           \n",
       "[21,] 18.1                              30.7                           \n",
       "[22,]  4.1                              16.5                           \n",
       "[23,]  3.9                               8.0                           \n",
       "[24,]  0.8                               5.2                           \n",
       "[25,] 29.6                              31.8                           \n",
       "[26,] 14.8                              22.8                           \n",
       "[27,] 11.7                              12.9                           \n",
       "[28,] 11.3                              23.3                           \n",
       "[29,] NA                                NA                             \n",
       "[30,] 12.2                              17.7                           \n",
       "[31,] 24.2                              45.5                           \n",
       "      Share of the population (aged 15+) taking part in tourism trips for personal purposes (%)\n",
       " [1,] 65.1                                                                                     \n",
       " [2,] 67.7                                                                                     \n",
       " [3,] 33.8                                                                                     \n",
       " [4,] 78.1                                                                                     \n",
       " [5,] 69.9                                                                                     \n",
       " [6,] 75.3                                                                                     \n",
       " [7,] 79.5                                                                                     \n",
       " [8,] 74.7                                                                                     \n",
       " [9,] 42.8                                                                                     \n",
       "[10,] 67.4                                                                                     \n",
       "[11,] 74.3                                                                                     \n",
       "[12,] 46.5                                                                                     \n",
       "[13,] 44.9                                                                                     \n",
       "[14,] 69.5                                                                                     \n",
       "[15,] 57.7                                                                                     \n",
       "[16,] 57.3                                                                                     \n",
       "[17,] 81.1                                                                                     \n",
       "[18,] 57.6                                                                                     \n",
       "[19,] 65.5                                                                                     \n",
       "[20,] 85.0                                                                                     \n",
       "[21,] 76.6                                                                                     \n",
       "[22,] 61.9                                                                                     \n",
       "[23,] 44.8                                                                                     \n",
       "[24,] 27.0                                                                                     \n",
       "[25,] 69.3                                                                                     \n",
       "[26,] 73.2                                                                                     \n",
       "[27,] 91.0                                                                                     \n",
       "[28,] 84.9                                                                                     \n",
       "[29,] 64.1                                                                                     \n",
       "[30,] 92.5                                                                                     \n",
       "[31,] 89.8                                                                                     "
      ]
     },
     "metadata": {},
     "output_type": "display_data"
    }
   ],
   "source": [
    "table2_final[,1] <- as.character(table2_final[,1])\n",
    "table2_final[1,1] <- \"EU-27\"\n",
    "table2_final[,1] <- factor(table2_final[,1])\n",
    "\n",
    "as.matrix(table2_final)"
   ]
  },
  {
   "cell_type": "markdown",
   "metadata": {},
   "source": [
    "## Tourism participation: More than nine out of ten residents of Finland participated in tourism\n",
    "\n",
    "### Figure 5\n",
    "\n",
    "#### First step\n",
    "\n",
    "We calculated the needed data already for `table2_final` (last column)\n",
    "- but Albania and North Mazedonia are missing and we have to do the same analysis like above for the both countries "
   ]
  },
  {
   "cell_type": "code",
   "execution_count": 96,
   "metadata": {},
   "outputs": [],
   "source": [
    "countr_tab2_2_4 <- c(\"AL\",\"MK\")\n",
    "data_2_col4_4 <- subset(data_3, \n",
    "                    data_3$geo %in% countr_tab2_2_4 & \n",
    "                    data_3$year==2018 &\n",
    "                    data_3$duration==\"N_GE1\"&\n",
    "                    data_3$unit==\"PC_POP\"&\n",
    "                    data_3$partner==\"WORLD\")\n",
    "data_2_col4_4 <- data_2_col4_4[,c(4,6)]"
   ]
  },
  {
   "cell_type": "markdown",
   "metadata": {},
   "source": [
    "- Bring the column from the table above in the order, the graph shows. We create therefore a new country vector `countr_fig5`\n",
    "- Match the EU-value \"tab_EU3[9]\", the ordered column from above `data_tab2_part4.1` and the two additional countries `data_2_col4_4` in `data_tab2_part5`"
   ]
  },
  {
   "cell_type": "code",
   "execution_count": 97,
   "metadata": {},
   "outputs": [
    {
     "name": "stderr",
     "output_type": "stream",
     "text": [
      "Warning message in `[<-.factor`(`*tmp*`, ri, value = 65.1):\n",
      "\"invalid factor level, NA generated\""
     ]
    }
   ],
   "source": [
    "countr_fig5 <- c(\"EU-27\",\"FI\", \"NL\",\"SE\",\"LU\",\"EE\",\"CZ\",\"AT\",\"DE\",\"IE\",\"FR\",\"SK\",\"DK\",\"CY\",\"SI\",\"BE\",\"ES\",\"MT\",\"PL\",\"LV\",\n",
    "                 \"HU\",\"LT\",\"HR\",\"IT\",\"PT\",\"EL\",\"BG\",\"RO\", \"UK\", \"NO\",\"CH\",\"AL\",\"MK\")\n",
    "data_tab2_part4.1 <- data_tab2_part4[order(factor(data_tab2_part4$geo, levels= countr_fig5)),]\n",
    "\n",
    "data_tab2_part5 <- rbind(tab_EU3[9], data_tab2_part4.1, data_2_col4_4)"
   ]
  },
  {
   "cell_type": "markdown",
   "metadata": {},
   "source": [
    "We have to convert the class, because we have to add \"EU-27\" and this only works by converting it from a factor first, then doing the change and re-convert it back."
   ]
  },
  {
   "cell_type": "code",
   "execution_count": 98,
   "metadata": {},
   "outputs": [
    {
     "data": {
      "text/html": [
       "<table>\n",
       "<caption>A tibble: 6 × 2</caption>\n",
       "<thead>\n",
       "\t<tr><th scope=col>geo</th><th scope=col>values</th></tr>\n",
       "\t<tr><th scope=col>&lt;fct&gt;</th><th scope=col>&lt;dbl&gt;</th></tr>\n",
       "</thead>\n",
       "<tbody>\n",
       "\t<tr><td>EU-27</td><td>65.1</td></tr>\n",
       "\t<tr><td>FI   </td><td>91.0</td></tr>\n",
       "\t<tr><td>NL   </td><td>85.0</td></tr>\n",
       "\t<tr><td>SE   </td><td>84.9</td></tr>\n",
       "\t<tr><td>LU   </td><td>81.1</td></tr>\n",
       "\t<tr><td>EE   </td><td>79.5</td></tr>\n",
       "</tbody>\n",
       "</table>\n"
      ],
      "text/latex": [
       "A tibble: 6 × 2\n",
       "\\begin{tabular}{ll}\n",
       " geo & values\\\\\n",
       " <fct> & <dbl>\\\\\n",
       "\\hline\n",
       "\t EU-27 & 65.1\\\\\n",
       "\t FI    & 91.0\\\\\n",
       "\t NL    & 85.0\\\\\n",
       "\t SE    & 84.9\\\\\n",
       "\t LU    & 81.1\\\\\n",
       "\t EE    & 79.5\\\\\n",
       "\\end{tabular}\n"
      ],
      "text/markdown": [
       "\n",
       "A tibble: 6 × 2\n",
       "\n",
       "| geo &lt;fct&gt; | values &lt;dbl&gt; |\n",
       "|---|---|\n",
       "| EU-27 | 65.1 |\n",
       "| FI    | 91.0 |\n",
       "| NL    | 85.0 |\n",
       "| SE    | 84.9 |\n",
       "| LU    | 81.1 |\n",
       "| EE    | 79.5 |\n",
       "\n"
      ],
      "text/plain": [
       "  geo   values\n",
       "1 EU-27 65.1  \n",
       "2 FI    91.0  \n",
       "3 NL    85.0  \n",
       "4 SE    84.9  \n",
       "5 LU    81.1  \n",
       "6 EE    79.5  "
      ]
     },
     "metadata": {},
     "output_type": "display_data"
    }
   ],
   "source": [
    "data_tab2_part5[,1] <- as.character(data_tab2_part5[,1])\n",
    "data_tab2_part5[1,1] <- \"EU-27\"\n",
    "data_tab2_part5[,1] <- factor(countr_fig5)\n",
    "\n",
    "head(data_tab2_part5)"
   ]
  },
  {
   "cell_type": "markdown",
   "metadata": {},
   "source": [
    "#### Second step\n",
    "\n",
    "Bring the countries in the order the graph shows. You can do this due to modify the levels of the variable \"geo\"."
   ]
  },
  {
   "cell_type": "code",
   "execution_count": 99,
   "metadata": {},
   "outputs": [],
   "source": [
    "data_tab2_part5$geo <- factor(data_tab2_part5$geo,\n",
    "                        levels = c(\"EU-27\",\"FI\", \"NL\",\"SE\",\"LU\",\"EE\",\"CZ\",\"AT\",\"DE\",\"IE\",\"FR\",\"SK\",\"DK\",\"CY\",\"SI\",\"BE\",\n",
    "                                   \"ES\",\"MT\",\"PL\",\"LV\",\"HU\",\"LT\",\"HR\",\"IT\",\"PT\",\"EL\",\"BG\",\"RO\", \"UK\", \"NO\",\"CH\",\"AL\",\"MK\"))\n"
   ]
  },
  {
   "cell_type": "markdown",
   "metadata": {},
   "source": [
    "Plot the graph via `ggplot`"
   ]
  },
  {
   "cell_type": "code",
   "execution_count": 100,
   "metadata": {},
   "outputs": [
    {
     "data": {
      "image/png": "iVBORw0KGgoAAAANSUhEUgAAA0gAAANICAMAAADKOT/pAAAANlBMVEUAAABNTU1PlM1oaGh8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\nISSg/wGl5PzKXWZbTwAAAABJRU5ErkJggg==",
      "text/plain": [
       "plot without title"
      ]
     },
     "metadata": {},
     "output_type": "display_data"
    }
   ],
   "source": [
    "ggplot(data_tab2_part5, aes(x=geo,y=values)) +\n",
    "            geom_bar(stat = \"identity\", position=\"dodge\", width=0.5, fill=\"steelblue3\") +\n",
    "            scale_y_continuous(limits = c(0, 100), breaks = seq(0, 100, by = 10)) +\n",
    "            ggtitle(\"Share of population participating in tourism, 2018\",\n",
    "                   subtitle=\"(% of population aged 15 years or more)\") +\n",
    "            coord_flip()+\n",
    "            scale_x_discrete(limits = rev(levels(data_tab2_part5$geo)),\n",
    "                             labels = c(\"North Macedonia\", \"Albania\", \"Switzerland\", \"Norway\", \"United Kingdom\", \n",
    "                                        \"Romania\", \"Bulgaria\", \"Greece\", \"Portugal\", \"Italy\", \"Croatia\", \"Lithuania\", \n",
    "                                        \"Hungary\", \"Latvia\", \"Poland\", \"Malta\", \"Spain\", \"Belgium\", \"Slovenia\", \"Cyprus\", \n",
    "                                        \"Denmark\", \"Slovakia\", \"France\", \"Ireland\", \"Germany\", \"Austria\", \"Czechia\", \n",
    "                                        \"Estonia\", \"Luxembourg\", \"Sweden\", \"Netherlands\", \"Finland\", \"EU-27\")) +\n",
    "            ylab(\" \") +\n",
    "            xlab(\" \") +\n",
    "            theme(panel.grid.major.x = element_line(color=\"grey\"),\n",
    "                  panel.background = element_rect(fill = NA),\n",
    "                  axis.line = element_line(colour = \"white\"),\n",
    "                  axis.ticks = element_line(colour= \"white\")) "
   ]
  },
  {
   "cell_type": "markdown",
   "metadata": {},
   "source": [
    "## Nights spent abroad by EU-27 residents: Luxembourg leads in nights per inhabitant\n",
    "\n",
    "### Figure 6\n",
    "\n",
    "#### First step\n",
    "\n",
    "- load the data `data_fig6`\n",
    "- again we add a year-column"
   ]
  },
  {
   "cell_type": "code",
   "execution_count": 7,
   "metadata": {},
   "outputs": [
    {
     "name": "stderr",
     "output_type": "stream",
     "text": [
      "Table tour_dem_tntot cached at C:\\Users\\sarah\\AppData\\Local\\Temp\\RtmpKcvhK6/eurostat/tour_dem_tntot_date_code_TF.rds\n"
     ]
    }
   ],
   "source": [
    "data_fig6 <- as_tibble(get_eurostat_data(id=\"tour_dem_tntot\"))\n",
    "\n",
    "data_fig6$year <- as.integer(substr(data_fig6$time,1,4))"
   ]
  },
  {
   "cell_type": "markdown",
   "metadata": {},
   "source": [
    "Create a new contry vector `countr_fig6` and exclude the countries, which need data from 2017. Build the subset `data_fig6_subs`"
   ]
  },
  {
   "cell_type": "code",
   "execution_count": 8,
   "metadata": {},
   "outputs": [],
   "source": [
    "countr_fig6 <- countr <- c(\"ES\",\"IT\",\"FR\",\"EL\",\"AT\",\"DE\",\"HR\",\"PT\",\"NL\",\"CZ\",\"BE\",\"BG\",\"IE\",\"CY\",\"SE\",\"HU\",\"DK\",\"SI\",\n",
    "                           \"MT\",\"FI\",\"SK\",\"EE\",\"LV\",\"LT\",\"LU\",\"UK\",\"CH\",\"NO\",\"IS\",\"LI\",\"TR\",\"ME\",\"RS\",\"MK\",\"XK\")\n",
    "data_fig6_subs <- subset(data_fig6, \n",
    "                    data_fig6$geo %in% countr_fig6 & \n",
    "                    data_fig6$year==2018 &\n",
    "                    data_fig6$purpose==\"TOTAL\" &\n",
    "                    data_fig6$duration==\"N_GE1\"&\n",
    "                    data_fig6$unit==\"NR\"&\n",
    "                    data_fig6$partner==\"OUT\")\n",
    "data_fig6_subs <- data_fig6_subs[,c(5,7)]"
   ]
  },
  {
   "cell_type": "markdown",
   "metadata": {},
   "source": [
    "For Poland (`countr_fig6_2`) we need data from 2017. Build the subset `data_fig6_subs2`"
   ]
  },
  {
   "cell_type": "code",
   "execution_count": 9,
   "metadata": {},
   "outputs": [],
   "source": [
    "countr_fig6_2 <- c(\"PL\",\"RO\")\n",
    "data_fig6_subs2 <- subset(data_fig6, \n",
    "                    data_fig6$geo %in% countr_fig6_2 & \n",
    "                    data_fig6$year==2017 &\n",
    "                    data_fig6$purpose==\"TOTAL\" &\n",
    "                    data_fig6$duration==\"N_GE1\"&\n",
    "                    data_fig6$unit==\"NR\"&\n",
    "                    data_fig6$partner==\"OUT\")\n",
    "data_fig6_subs2 <- data_fig6_subs2[,c(5,7)]"
   ]
  },
  {
   "cell_type": "markdown",
   "metadata": {},
   "source": [
    "Match the two calculated subsets in `data_fig6_subs`"
   ]
  },
  {
   "cell_type": "code",
   "execution_count": 10,
   "metadata": {},
   "outputs": [
    {
     "data": {
      "text/html": [
       "<table>\n",
       "<caption>A tibble: 6 × 2</caption>\n",
       "<thead>\n",
       "\t<tr><th scope=col>geo</th><th scope=col>values</th></tr>\n",
       "\t<tr><th scope=col>&lt;fct&gt;</th><th scope=col>&lt;dbl&gt;</th></tr>\n",
       "</thead>\n",
       "<tbody>\n",
       "\t<tr><td>AT</td><td> 74626464</td></tr>\n",
       "\t<tr><td>BE</td><td>104276180</td></tr>\n",
       "\t<tr><td>BG</td><td>  6397986</td></tr>\n",
       "\t<tr><td>CH</td><td>118774558</td></tr>\n",
       "\t<tr><td>CY</td><td> 11955548</td></tr>\n",
       "\t<tr><td>CZ</td><td> 46994452</td></tr>\n",
       "</tbody>\n",
       "</table>\n"
      ],
      "text/latex": [
       "A tibble: 6 × 2\n",
       "\\begin{tabular}{ll}\n",
       " geo & values\\\\\n",
       " <fct> & <dbl>\\\\\n",
       "\\hline\n",
       "\t AT &  74626464\\\\\n",
       "\t BE & 104276180\\\\\n",
       "\t BG &   6397986\\\\\n",
       "\t CH & 118774558\\\\\n",
       "\t CY &  11955548\\\\\n",
       "\t CZ &  46994452\\\\\n",
       "\\end{tabular}\n"
      ],
      "text/markdown": [
       "\n",
       "A tibble: 6 × 2\n",
       "\n",
       "| geo &lt;fct&gt; | values &lt;dbl&gt; |\n",
       "|---|---|\n",
       "| AT |  74626464 |\n",
       "| BE | 104276180 |\n",
       "| BG |   6397986 |\n",
       "| CH | 118774558 |\n",
       "| CY |  11955548 |\n",
       "| CZ |  46994452 |\n",
       "\n"
      ],
      "text/plain": [
       "  geo values   \n",
       "1 AT   74626464\n",
       "2 BE  104276180\n",
       "3 BG    6397986\n",
       "4 CH  118774558\n",
       "5 CY   11955548\n",
       "6 CZ   46994452"
      ]
     },
     "metadata": {},
     "output_type": "display_data"
    }
   ],
   "source": [
    "data_fig6_subs <- rbind(data_fig6_subs,data_fig6_subs2)\n",
    "\n",
    "head(data_fig6_subs)"
   ]
  },
  {
   "cell_type": "markdown",
   "metadata": {},
   "source": [
    "#### Second step\n",
    "\n",
    "Calculate the EU-27 value by summing up\n",
    "- create a vector, which indicates due to FALSE and TRUE at the exact position, which countries of `data_fig6_subs` are within `EU_27`: `EU_27_prep4`\n",
    "- by using the sapply-command we can calculate the sum: `tab_EU4`"
   ]
  },
  {
   "cell_type": "code",
   "execution_count": 11,
   "metadata": {},
   "outputs": [],
   "source": [
    "EU_27_prep4 <- data_fig6_subs$geo %in% EU_27\n",
    "\n",
    "tab_EU4 <- sapply(as.data.frame(data_fig6_subs[EU_27_prep4,2]),sum)"
   ]
  },
  {
   "cell_type": "markdown",
   "metadata": {},
   "source": [
    "Add a column with the ratio we need for the pie chart\n",
    "- build the ratio `tab_ratio2`\n",
    "- just keep the EU-countries\n",
    "- sort the values decreasing\n",
    "- keep the top 9 countries (`tab_ratio_top9_2`) and summing up the others to \"Rest of EU-27\" (`tab_ratio_other_2_sum`) by using again the sapply command\n",
    "- add the sum to the top 9: `tab_ratio_new_2`"
   ]
  },
  {
   "cell_type": "code",
   "execution_count": 12,
   "metadata": {},
   "outputs": [
    {
     "name": "stderr",
     "output_type": "stream",
     "text": [
      "Warning message in `[<-.factor`(`*tmp*`, ri, value = 15.3142164698757):\n",
      "\"invalid factor level, NA generated\""
     ]
    },
    {
     "data": {
      "text/html": [
       "<table>\n",
       "<caption>A data.frame: 10 × 2</caption>\n",
       "<thead>\n",
       "\t<tr><th></th><th scope=col>geo</th><th scope=col>values</th></tr>\n",
       "\t<tr><th></th><th scope=col>&lt;fct&gt;</th><th scope=col>&lt;dbl&gt;</th></tr>\n",
       "</thead>\n",
       "<tbody>\n",
       "\t<tr><th scope=row>7</th><td>DE</td><td>35.407430</td></tr>\n",
       "\t<tr><th scope=row>13</th><td>FR</td><td>15.544253</td></tr>\n",
       "\t<tr><th scope=row>22</th><td>NL</td><td> 7.500622</td></tr>\n",
       "\t<tr><th scope=row>25</th><td>SE</td><td> 5.559875</td></tr>\n",
       "\t<tr><th scope=row>11</th><td>ES</td><td> 4.806601</td></tr>\n",
       "\t<tr><th scope=row>28</th><td>PL</td><td> 4.630022</td></tr>\n",
       "\t<tr><th scope=row>17</th><td>IT</td><td> 4.284631</td></tr>\n",
       "\t<tr><th scope=row>2</th><td>BE</td><td> 4.052285</td></tr>\n",
       "\t<tr><th scope=row>1</th><td>AT</td><td> 2.900065</td></tr>\n",
       "\t<tr><th scope=row>10</th><td>NA</td><td>15.314216</td></tr>\n",
       "</tbody>\n",
       "</table>\n"
      ],
      "text/latex": [
       "A data.frame: 10 × 2\n",
       "\\begin{tabular}{r|ll}\n",
       "  & geo & values\\\\\n",
       "  & <fct> & <dbl>\\\\\n",
       "\\hline\n",
       "\t7 & DE & 35.407430\\\\\n",
       "\t13 & FR & 15.544253\\\\\n",
       "\t22 & NL &  7.500622\\\\\n",
       "\t25 & SE &  5.559875\\\\\n",
       "\t11 & ES &  4.806601\\\\\n",
       "\t28 & PL &  4.630022\\\\\n",
       "\t17 & IT &  4.284631\\\\\n",
       "\t2 & BE &  4.052285\\\\\n",
       "\t1 & AT &  2.900065\\\\\n",
       "\t10 & NA & 15.314216\\\\\n",
       "\\end{tabular}\n"
      ],
      "text/markdown": [
       "\n",
       "A data.frame: 10 × 2\n",
       "\n",
       "| <!--/--> | geo &lt;fct&gt; | values &lt;dbl&gt; |\n",
       "|---|---|---|\n",
       "| 7 | DE | 35.407430 |\n",
       "| 13 | FR | 15.544253 |\n",
       "| 22 | NL |  7.500622 |\n",
       "| 25 | SE |  5.559875 |\n",
       "| 11 | ES |  4.806601 |\n",
       "| 28 | PL |  4.630022 |\n",
       "| 17 | IT |  4.284631 |\n",
       "| 2 | BE |  4.052285 |\n",
       "| 1 | AT |  2.900065 |\n",
       "| 10 | NA | 15.314216 |\n",
       "\n"
      ],
      "text/plain": [
       "   geo values   \n",
       "7  DE  35.407430\n",
       "13 FR  15.544253\n",
       "22 NL   7.500622\n",
       "25 SE   5.559875\n",
       "11 ES   4.806601\n",
       "28 PL   4.630022\n",
       "17 IT   4.284631\n",
       "2  BE   4.052285\n",
       "1  AT   2.900065\n",
       "10 NA  15.314216"
      ]
     },
     "metadata": {},
     "output_type": "display_data"
    }
   ],
   "source": [
    "tab_ratio2 <- cbind(data_fig6_subs,data_fig6_subs[2]/tab_EU4*100)\n",
    "\n",
    "tab_ratio2 <- tab_ratio2[EU_27_prep4,]\n",
    "\n",
    "tab_ratio2 <- tab_ratio2[order(tab_ratio2[,3], decreasing=T),]\n",
    "\n",
    "tab_ratio_top9_2 <- tab_ratio2[1:9,]\n",
    "tab_ratio_other_2 <- tab_ratio2[10:27,]\n",
    "tab_ratio_other_2_sum <- sapply(as.data.frame(tab_ratio_other_2[,3]),sum)\n",
    "\n",
    "tab_ratio_new_2 <- rbind(tab_ratio_top9_2[,c(1,3)], tab_ratio_other_2_sum)\n",
    "tab_ratio_new_2"
   ]
  },
  {
   "cell_type": "markdown",
   "metadata": {},
   "source": [
    "Create the labels we need for the pie chart \n",
    "- round the values and put a \"%\" behind it: `label_pie2_1`\n",
    "- create a vector with the needed country names: `label_pie2_2`\n",
    "- combine the both created label parts: `label_pie2_3`"
   ]
  },
  {
   "cell_type": "code",
   "execution_count": 13,
   "metadata": {},
   "outputs": [],
   "source": [
    "label_pie2_1 <- paste(round(tab_ratio_new_2$values,0), \"%\")\n",
    "\n",
    "label_pie2_2 <- c(\"Germany\",\"France\",\"Netherlands\",\"Sweden\",\"Spain\",\"Poland\",\"Italy\",\"Belgium\",\n",
    "                  \"Austria\",\"Rest of EU-27\")\n",
    "\n",
    "label_pie2_3 <- paste(label_pie2_2,\"\\n\",label_pie2_1) #we can use a \"/n\" to get a line break"
   ]
  },
  {
   "cell_type": "markdown",
   "metadata": {},
   "source": [
    "#### Third step\n",
    "\n",
    "Create variables for the position of the labels in the pie chart. Additionally change the colors in the vector `colors`, if you want.\n",
    " \n",
    "Plot the pie chart"
   ]
  },
  {
   "cell_type": "code",
   "execution_count": 16,
   "metadata": {},
   "outputs": [
    {
     "data": {
      "image/png": "iVBORw0KGgoAAAANSUhEUgAAA0gAAANICAMAAADKOT/pAAAATlBMVEUAAAAAueMAujgAwZ9N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\nRU5ErkJggg==",
      "text/plain": [
       "plot without title"
      ]
     },
     "metadata": {},
     "output_type": "display_data"
    }
   ],
   "source": [
    "tab_ratio_new_2 <- tab_ratio_new_2 %>% \n",
    "  mutate(end = 2 * pi * cumsum(values)/sum(values),\n",
    "         start = lag(end, default = 0),\n",
    "         middle = 0.5 * (start + end),\n",
    "         hjust = ifelse(middle > pi, 1, 0),\n",
    "         vjust = ifelse(middle < pi/2 | middle > 3 * pi/2, 0, 1))\n",
    "\n",
    "# colors <- c(\"#ffd700\",\"skyblue1\",\"lightblue1\",\"tomato2\",\"tan1\",\"peachpuff1\",\"dodgerblue3\",\"blue\",\"tan\")\n",
    "\n",
    "ggplot(tab_ratio_new_2) + \n",
    "  geom_arc_bar(aes(x0 = 0, y0 = 0, r0 = 0, r = 1,\n",
    "                   start = start, end = end, fill = geo)) +\n",
    "  geom_text(aes(x = 1.05 * sin(middle), y = 1.05 * cos(middle), label = label_pie2_3,\n",
    "                hjust = hjust, vjust = vjust)) +\n",
    " # scale_fill_manual(values=colors) +\n",
    "  coord_fixed() +\n",
    "  scale_x_continuous(limits = c(-1.5, 1.4),        #Adjust so labels are not cut off\n",
    "                     name = \"\", breaks = NULL, labels = NULL) +\n",
    "  scale_y_continuous(limits = c(-1.15, 1.05),      #Adjust so labels are not cut off\n",
    "                     name = \"\", breaks = NULL, labels = NULL) +\n",
    "  ylab(\" \") +\n",
    "  xlab(\" \") +\n",
    "  theme_classic() + \n",
    "  theme(legend.position = \"none\",\n",
    "        axis.line = element_blank(),\n",
    "        axis.text = element_blank(),\n",
    "        axis.ticks = element_blank(),\n",
    "        panel.grid  = element_blank()) +\n",
    "  ggtitle(\"Share of nights spent during outbound holidays of Europeans, by country of residence of the tourist, 2018\",\n",
    "         subtitle=\"(% of nights spent abroad by residents of the EU-27)\")\n",
    "\n"
   ]
  },
  {
   "cell_type": "markdown",
   "metadata": {},
   "source": [
    "### Figure 7\n",
    "\n",
    "#### First step\n",
    "\n",
    "We need the number of population by people aged over 15 years.\n",
    "- load the data: `data_fig7`\n",
    "- add again a year-column\n",
    "- create a new country vector: `countr_fig7`"
   ]
  },
  {
   "cell_type": "code",
   "execution_count": 109,
   "metadata": {
    "scrolled": true
   },
   "outputs": [
    {
     "name": "stderr",
     "output_type": "stream",
     "text": [
      "Table demo_pjanbroad cached at C:\\Users\\sarah\\AppData\\Local\\Temp\\Rtmp0oFI1n/eurostat/demo_pjanbroad_date_code_TF.rds\n"
     ]
    }
   ],
   "source": [
    "data_fig7 <- as_tibble(get_eurostat_data(id=\"demo_pjanbroad\"))\n",
    "\n",
    "data_fig7$year <- as.integer(substr(data_fig7$time,1,4))\n",
    "\n",
    "countr_fig7 <- c(\"LU\",\"SE\",\"CY\",\"NL\",\"IE\",\"DE\",\"FI\",\"EE\",\"BE\",\"AT\",\"DK\",\"SI\",\"MT\",\"FR\",\"LT\",\"SK\",\n",
    "                 \"CZ\",\"LV\",\"HU\",\"PL\",\"HR\",\"ES\",\"IT\",\"PT\",\"BG\",\"EL\",\"RO\",\"CH\",\"NO\")"
   ]
  },
  {
   "cell_type": "markdown",
   "metadata": {},
   "source": [
    "Build the subset `data_fig7_subs`\n",
    "- because we have per country several data points, we have to aggregate the data per country"
   ]
  },
  {
   "cell_type": "code",
   "execution_count": 110,
   "metadata": {},
   "outputs": [],
   "source": [
    "data_fig7_subs <- subset(data_fig7, \n",
    "                    data_fig7$geo %in% countr_fig7 & \n",
    "                    data_fig7$year==2018 &\n",
    "                    data_fig7$age %in% c(\"Y15-64\",\"Y_GE65\") &\n",
    "                    data_fig7$sex==\"T\")\n",
    "data_fig7_subs <- data_fig7_subs[,c(4,6)]\n",
    "\n",
    "data_fig7_subs <- aggregate(data_fig7_subs$values, by = list(geo = data_fig7_subs$geo), FUN = sum)"
   ]
  },
  {
   "cell_type": "markdown",
   "metadata": {},
   "source": [
    "Bring the countries in the order the graphik shows (we have to do this for both needed datasets, i.e. `data_fig7_subs` and `data_fig6_subs`).\n",
    "- data_fig7_subs_2; data_fig6_subs_fig7 --> compare the countries: are they in the same order? then we can match\n",
    "- match the two data frames and calculate the ratio in `data_fig7_final`"
   ]
  },
  {
   "cell_type": "code",
   "execution_count": 111,
   "metadata": {},
   "outputs": [],
   "source": [
    "data_fig6_subs_fig7 <- data_fig6_subs[order(factor(data_fig6_subs$geo, levels= countr_fig7)),]\n",
    "data_fig7_subs_2 <- data_fig7_subs[order(factor(data_fig7_subs$geo, levels= countr_fig7)),]"
   ]
  },
  {
   "cell_type": "code",
   "execution_count": 112,
   "metadata": {},
   "outputs": [],
   "source": [
    "data_fig7_final <- cbind(data_fig6_subs_fig7,data_fig7_subs_2[,2])\n",
    "data_fig7_final$ratio <- round(data_fig7_final[,2]/data_fig7_final[,3],1)"
   ]
  },
  {
   "cell_type": "markdown",
   "metadata": {},
   "source": [
    "#### Second step\n",
    "\n",
    "Calculate the EU-27 value by summing up\n",
    "- create a vector, which indicates due to FALSE and TRUE at the exact position, which countries of `data_fig7_final` are within `EU_27`: `EU_27_prep5`\n",
    "- by using the sapply-command we can calculate the sum: `tab_EU5` \n",
    "- calculate the ratio `tab_EU5_ratio` and match them to `tab_EU5_final` (at this stage we get the warning message, that one NA for \"Eu-27\" get generated: we solve this problem two steps later)"
   ]
  },
  {
   "cell_type": "code",
   "execution_count": 113,
   "metadata": {},
   "outputs": [],
   "source": [
    "EU_27_prep5 <- data_fig7_final$geo %in% EU_27\n",
    "\n",
    "tab_EU5 <- sapply(as.data.frame(data_fig7_final[EU_27_prep5,2:3]),sum)\n",
    "\n",
    "tab_EU5_ratio <- round(tab_EU5[1]/tab_EU5[2],1)\n",
    "\n",
    "tab_EU5_final <- c(\"EU-27\",tab_EU5,tab_EU5_ratio)"
   ]
  },
  {
   "cell_type": "markdown",
   "metadata": {},
   "source": [
    "- put the calculates EU values to the table above: `data_fig7_final`\n",
    "- we have to convert the class, because we have to add \"EU-27\" and this only works by converting it from a factor first, then doing the change and re-convert it back"
   ]
  },
  {
   "cell_type": "code",
   "execution_count": 114,
   "metadata": {},
   "outputs": [
    {
     "name": "stderr",
     "output_type": "stream",
     "text": [
      "Warning message in `[<-.factor`(`*tmp*`, ri, value = \"EU-27\"):\n",
      "\"invalid factor level, NA generated\""
     ]
    },
    {
     "data": {
      "text/html": [
       "<table>\n",
       "<caption>A data.frame: 6 × 4</caption>\n",
       "<thead>\n",
       "\t<tr><th></th><th scope=col>geo</th><th scope=col>values</th><th scope=col>data_fig7_subs_2[, 2]</th><th scope=col>ratio</th></tr>\n",
       "\t<tr><th></th><th scope=col>&lt;fct&gt;</th><th scope=col>&lt;chr&gt;</th><th scope=col>&lt;chr&gt;</th><th scope=col>&lt;chr&gt;</th></tr>\n",
       "</thead>\n",
       "<tbody>\n",
       "\t<tr><th scope=row>1</th><td>EU-27</td><td>2573268471</td><td>378201085</td><td>6.8 </td></tr>\n",
       "\t<tr><th scope=row>2</th><td>LU   </td><td>15819287  </td><td>504883   </td><td>31.3</td></tr>\n",
       "\t<tr><th scope=row>3</th><td>SE   </td><td>143070504 </td><td>8325565  </td><td>17.2</td></tr>\n",
       "\t<tr><th scope=row>4</th><td>CY   </td><td>11955548  </td><td>723947   </td><td>16.5</td></tr>\n",
       "\t<tr><th scope=row>5</th><td>NL   </td><td>193011133 </td><td>14418460 </td><td>13.4</td></tr>\n",
       "\t<tr><th scope=row>6</th><td>IE   </td><td>50197497  </td><td>3823944  </td><td>13.1</td></tr>\n",
       "</tbody>\n",
       "</table>\n"
      ],
      "text/latex": [
       "A data.frame: 6 × 4\n",
       "\\begin{tabular}{r|llll}\n",
       "  & geo & values & data\\_fig7\\_subs\\_2{[}, 2{]} & ratio\\\\\n",
       "  & <fct> & <chr> & <chr> & <chr>\\\\\n",
       "\\hline\n",
       "\t1 & EU-27 & 2573268471 & 378201085 & 6.8 \\\\\n",
       "\t2 & LU    & 15819287   & 504883    & 31.3\\\\\n",
       "\t3 & SE    & 143070504  & 8325565   & 17.2\\\\\n",
       "\t4 & CY    & 11955548   & 723947    & 16.5\\\\\n",
       "\t5 & NL    & 193011133  & 14418460  & 13.4\\\\\n",
       "\t6 & IE    & 50197497   & 3823944   & 13.1\\\\\n",
       "\\end{tabular}\n"
      ],
      "text/markdown": [
       "\n",
       "A data.frame: 6 × 4\n",
       "\n",
       "| <!--/--> | geo &lt;fct&gt; | values &lt;chr&gt; | data_fig7_subs_2[, 2] &lt;chr&gt; | ratio &lt;chr&gt; |\n",
       "|---|---|---|---|---|\n",
       "| 1 | EU-27 | 2573268471 | 378201085 | 6.8  |\n",
       "| 2 | LU    | 15819287   | 504883    | 31.3 |\n",
       "| 3 | SE    | 143070504  | 8325565   | 17.2 |\n",
       "| 4 | CY    | 11955548   | 723947    | 16.5 |\n",
       "| 5 | NL    | 193011133  | 14418460  | 13.4 |\n",
       "| 6 | IE    | 50197497   | 3823944   | 13.1 |\n",
       "\n"
      ],
      "text/plain": [
       "  geo   values     data_fig7_subs_2[, 2] ratio\n",
       "1 EU-27 2573268471 378201085             6.8  \n",
       "2 LU    15819287   504883                31.3 \n",
       "3 SE    143070504  8325565               17.2 \n",
       "4 CY    11955548   723947                16.5 \n",
       "5 NL    193011133  14418460              13.4 \n",
       "6 IE    50197497   3823944               13.1 "
      ]
     },
     "metadata": {},
     "output_type": "display_data"
    }
   ],
   "source": [
    "data_fig7_final <- rbind(tab_EU5_final,data_fig7_final)\n",
    "\n",
    "data_fig7_final[,1] <- as.character(data_fig7_final[,1])\n",
    "data_fig7_final[1,1] <- \"EU-27\"\n",
    "data_fig7_final[,1] <- factor(data_fig7_final[,1])\n",
    "\n",
    "head(data_fig7_final)"
   ]
  },
  {
   "cell_type": "markdown",
   "metadata": {},
   "source": [
    "#### Third step\n",
    "\n",
    "- bring the country names in the order the graphik shows you can do this due to modify the levels of the variable `\"geo\"`\n",
    "- to achieve that the y-axes in the chart is later in an ascending order, we have to convert the ratio-axes to numeric\n",
    "\n",
    "Plot the bar chart"
   ]
  },
  {
   "cell_type": "code",
   "execution_count": 115,
   "metadata": {},
   "outputs": [],
   "source": [
    "data_fig7_final$geo <- factor(data_fig7_final$geo,\n",
    "                        levels = c(\"EU-27\",\"LU\",\"SE\",\"CY\",\"NL\",\"IE\",\"DE\",\"FI\",\"EE\",\"BE\",\"AT\",\"DK\",\"SI\",\"MT\",\"FR\",\"LT\",\n",
    "                                   \"SK\",\"CZ\",\"LV\",\"HU\",\"PL\",\"HR\",\"ES\",\"IT\",\"PT\",\"BG\",\"EL\",\"RO\",\"CH\",\"NO\"))\n",
    "\n",
    "data_fig7_final$ratio <- as.numeric(as.character(data_fig7_final$ratio))"
   ]
  },
  {
   "cell_type": "code",
   "execution_count": 132,
   "metadata": {},
   "outputs": [
    {
     "data": {
      "image/png": "iVBORw0KGgoAAAANSUhEUgAAA0gAAANICAMAAADKOT/pAAAAYFBMVEUAAAAYLT4gPFMmSGMr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\nYII=",
      "text/plain": [
       "plot without title"
      ]
     },
     "metadata": {},
     "output_type": "display_data"
    }
   ],
   "source": [
    "ggplot(data_fig7_final, aes(x=geo,y=ratio)) +\n",
    "            geom_bar(stat = \"identity\", position=\"dodge\", width=0.5, fill=\"steelblue3\") +\n",
    "            theme_classic() +\n",
    "            ggtitle(\"Country of origin for outbound tourism trips, 2018\",\n",
    "                   subtitle = \"(average nights spent abroad per inhabitant aged 15 years or more)\") +\n",
    "            coord_flip()+\n",
    "            scale_x_discrete(limits = rev(levels(data_fig7_final$geo)),\n",
    "                             labels = c(\"Norway\", \"Switzerland\", \"Romania\", \"Greece\", \"Bulgaria\", \"Portugal\", \"Italy\", \n",
    "                                        \"Spain\", \"Croatia\", \"Poland\", \"Hungary\", \"Latvia\", \"Czechia\", \"Slovakia\", \n",
    "                                        \"Lithuania\", \"France\", \"Malta\", \"Slovenia\", \"Denmark\", \"Austria\",\n",
    "                                        \"Belgium\", \"Estonia\", \"Finland\", \"Germany\", \"Ireland\", \"Netherlands\",\n",
    "                                        \"Cyprus\", \"Sweden\", \"Luxembourg\",\"EU-27\")) +\n",
    "            ylab(\" \") +\n",
    "            xlab(\" \") +\n",
    "            theme(axis.title.x=element_blank(), #remove labels at x-axes\n",
    "                  axis.text.x=element_blank(),\n",
    "                  axis.ticks.x=element_blank()) +\n",
    "                  geom_text(aes(label=ratio)) #add the ratio values after the bars"
   ]
  },
  {
   "cell_type": "markdown",
   "metadata": {},
   "source": [
    "## Tourism expenditure: highest spending by German residents\n",
    "\n",
    "### Table 3\n",
    "\n",
    "#### First step\n",
    "\n",
    "- load the needed data `data_3` and add the year-column\n",
    "- create a country-vector (in the order the table shows): `countr_tab3_1_1`"
   ]
  },
  {
   "cell_type": "code",
   "execution_count": 172,
   "metadata": {},
   "outputs": [
    {
     "data": {
      "text/html": [
       "9999999999"
      ],
      "text/latex": [
       "9999999999"
      ],
      "text/markdown": [
       "9999999999"
      ],
      "text/plain": [
       "[1] 9999999999"
      ]
     },
     "metadata": {},
     "output_type": "display_data"
    },
    {
     "name": "stderr",
     "output_type": "stream",
     "text": [
      "Table bop_c6_a cached at C:\\Users\\sarah\\AppData\\Local\\Temp\\Rtmp0oFI1n/eurostat/bop_c6_a_date_code_TF.rds\n"
     ]
    }
   ],
   "source": [
    "memory.limit(size=9999999999)\n",
    "\n",
    "data_3 <- as_tibble(get_eurostat_data(id=\"bop_c6_a\"))\n",
    "data_3$year <- as.integer(substr(data_3$time,1,4))"
   ]
  },
  {
   "cell_type": "code",
   "execution_count": 173,
   "metadata": {},
   "outputs": [],
   "source": [
    "countr_tab3_1_1 <- c(\"BE\",\"BG\",\"CZ\",\"DK\",\"DE\",\"EE\",\"IE\",\"EL\",\"ES\",\"FR\",\"HR\",\"IT\",\"CY\",\"LV\",\"LT\",\"LU\",\"HU\",\"MT\",\"NL\",\n",
    "                     \"AT\",\"PL\",\"PT\",\"RO\",\"SI\",\"SK\",\"FI\",\"SE\",\"UK\",\"IS\",\"NO\",\"CH\",\"ME\",\"MK\",\"AL\",\"RS\",\"TR\",\"BA\",\"XK\")"
   ]
  },
  {
   "cell_type": "markdown",
   "metadata": {},
   "source": [
    "#### Second step\n",
    "\n",
    "We create first the columns for 2018 and afterwards the same for 2013\n",
    "- due to we want to use a loop for getting the data for the three columns, we have to create a vector with the essential difference between the three columns (here: the variable \"stk_flow\"): `cred_deb_bal`\n",
    "- create an empty data frame, which we can fill while running the loop: `data_tab3_part1`\n",
    "    - we have 4 columns in the needed dataset: one country-column and three data-columns\n",
    "    - and we have data for 38 countries and therefore 38 rows \n",
    "    \n",
    "Build the subset `data_3_col1` within the loop\n",
    "- the first column with the countries is the same for each of the three calculated datasets, therefore we can overwrite the country column in each intermediate step (we get of course a warning message)\n",
    "- we assign the second column of each intermediate step to the three remaining columns of the empty data frame `data_tab3_part1` from above"
   ]
  },
  {
   "cell_type": "code",
   "execution_count": 174,
   "metadata": {},
   "outputs": [],
   "source": [
    "cred_deb_bal <- c(\"CRE\",\"DEB\",\"BAL\")\n",
    "\n",
    "data_tab3_part1 <- as.data.frame(matrix(ncol = 4, nrow = 38))"
   ]
  },
  {
   "cell_type": "code",
   "execution_count": 175,
   "metadata": {},
   "outputs": [],
   "source": [
    "for (i in 1:3) {\n",
    "    \n",
    "data_3_col1 <- subset(data_3, \n",
    "                    data_3$geo %in% countr_tab3_1_1 & \n",
    "                    data_3$year == 2018 &\n",
    "                    data_3$currency ==\"MIO_EUR\"&\n",
    "                    data_3$bop_item== \"SD\" &\n",
    "                    data_3$stk_flow == cred_deb_bal[i] &\n",
    "                    data_3$partner == \"WRL_REST\")\n",
    "data_3_col1 <- data_3_col1[,c(7,9)]\n",
    "\n",
    "data_tab3_part1[,1] <- data_3_col1[,1]\n",
    "\n",
    "data_tab3_part1[,1+i] <- data_3_col1[,2]\n",
    "}"
   ]
  },
  {
   "cell_type": "markdown",
   "metadata": {},
   "source": [
    "Bring the countries in the order the graphik shows.\n",
    "\n",
    "Finally we have three of the seven columns filled with data."
   ]
  },
  {
   "cell_type": "code",
   "execution_count": 177,
   "metadata": {},
   "outputs": [
    {
     "data": {
      "text/html": [
       "<table>\n",
       "<caption>A data.frame: 6 × 4</caption>\n",
       "<thead>\n",
       "\t<tr><th></th><th scope=col>V1</th><th scope=col>V2</th><th scope=col>V3</th><th scope=col>V4</th></tr>\n",
       "\t<tr><th></th><th scope=col>&lt;fct&gt;</th><th scope=col>&lt;dbl&gt;</th><th scope=col>&lt;dbl&gt;</th><th scope=col>&lt;dbl&gt;</th></tr>\n",
       "</thead>\n",
       "<tbody>\n",
       "\t<tr><th scope=row>4</th><td>BE</td><td> 7528.0</td><td>15654.0</td><td> -8126.0</td></tr>\n",
       "\t<tr><th scope=row>5</th><td>BG</td><td> 3808.2</td><td> 1584.4</td><td>  2223.8</td></tr>\n",
       "\t<tr><th scope=row>8</th><td>CZ</td><td> 6305.3</td><td> 5055.5</td><td>  1249.8</td></tr>\n",
       "\t<tr><th scope=row>10</th><td>DK</td><td> 7718.8</td><td> 8926.6</td><td> -1207.7</td></tr>\n",
       "\t<tr><th scope=row>9</th><td>DE</td><td>36390.0</td><td>80933.0</td><td>-44543.0</td></tr>\n",
       "\t<tr><th scope=row>11</th><td>EE</td><td> 1509.6</td><td> 1244.8</td><td>   264.8</td></tr>\n",
       "</tbody>\n",
       "</table>\n"
      ],
      "text/latex": [
       "A data.frame: 6 × 4\n",
       "\\begin{tabular}{r|llll}\n",
       "  & V1 & V2 & V3 & V4\\\\\n",
       "  & <fct> & <dbl> & <dbl> & <dbl>\\\\\n",
       "\\hline\n",
       "\t4 & BE &  7528.0 & 15654.0 &  -8126.0\\\\\n",
       "\t5 & BG &  3808.2 &  1584.4 &   2223.8\\\\\n",
       "\t8 & CZ &  6305.3 &  5055.5 &   1249.8\\\\\n",
       "\t10 & DK &  7718.8 &  8926.6 &  -1207.7\\\\\n",
       "\t9 & DE & 36390.0 & 80933.0 & -44543.0\\\\\n",
       "\t11 & EE &  1509.6 &  1244.8 &    264.8\\\\\n",
       "\\end{tabular}\n"
      ],
      "text/markdown": [
       "\n",
       "A data.frame: 6 × 4\n",
       "\n",
       "| <!--/--> | V1 &lt;fct&gt; | V2 &lt;dbl&gt; | V3 &lt;dbl&gt; | V4 &lt;dbl&gt; |\n",
       "|---|---|---|---|---|\n",
       "| 4 | BE |  7528.0 | 15654.0 |  -8126.0 |\n",
       "| 5 | BG |  3808.2 |  1584.4 |   2223.8 |\n",
       "| 8 | CZ |  6305.3 |  5055.5 |   1249.8 |\n",
       "| 10 | DK |  7718.8 |  8926.6 |  -1207.7 |\n",
       "| 9 | DE | 36390.0 | 80933.0 | -44543.0 |\n",
       "| 11 | EE |  1509.6 |  1244.8 |    264.8 |\n",
       "\n"
      ],
      "text/plain": [
       "   V1 V2      V3      V4      \n",
       "4  BE  7528.0 15654.0  -8126.0\n",
       "5  BG  3808.2  1584.4   2223.8\n",
       "8  CZ  6305.3  5055.5   1249.8\n",
       "10 DK  7718.8  8926.6  -1207.7\n",
       "9  DE 36390.0 80933.0 -44543.0\n",
       "11 EE  1509.6  1244.8    264.8"
      ]
     },
     "metadata": {},
     "output_type": "display_data"
    }
   ],
   "source": [
    "data_tab3_part1 <- data_tab3_part1[order(factor(data_tab3_part1$V1, levels= countr_tab3_1_1)),]\n",
    "\n",
    "head(data_tab3_part1)"
   ]
  },
  {
   "cell_type": "markdown",
   "metadata": {},
   "source": [
    "#### Third step\n",
    "\n",
    "Now we create the 2013-columns and repeat the loop from above.\n",
    "- due to we don't need the \"balance column\" we create at the beginning a vector with only 2 elements: `cred_deb_bal2`\n",
    "- Albania, Portugal and Norway have no data for 2013, therefore we just need 35 rows in `data_tab3_part2` and assign NA after the loop in `data_3_col2_1`\n",
    "- create a country-vector (in the order the table shows), exclude the countries with NA: `countr_tab3_1_2`\n",
    "\n",
    "Build the subset `data_3_col2` within the loop and match the loop's result afterwards with the NAs of the three countries (`data_tab3_part2`)."
   ]
  },
  {
   "cell_type": "code",
   "execution_count": 178,
   "metadata": {},
   "outputs": [],
   "source": [
    "cred_deb_bal2 <- c(\"CRE\",\"DEB\")\n",
    "\n",
    "data_tab3_part2 <- as.data.frame(matrix(ncol = 3, nrow = 35))\n",
    "\n",
    "countr_tab3_1_2 <- c(\"BE\",\"BG\",\"CZ\",\"DK\",\"DE\",\"EE\",\"IE\",\"EL\",\"ES\",\"FR\",\"HR\",\"IT\",\"CY\",\"LV\",\"LT\",\"LU\",\"HU\",\"MT\",\"NL\",\n",
    "                     \"AT\",\"PL\",\"RO\",\"SI\",\"SK\",\"FI\",\"SE\",\"UK\",\"IS\",\"CH\",\"ME\",\"MK\",\"RS\",\"TR\",\"BA\",\"XK\")"
   ]
  },
  {
   "cell_type": "code",
   "execution_count": 179,
   "metadata": {},
   "outputs": [],
   "source": [
    "for (i in 1:2) {\n",
    "    \n",
    "data_3_col2 <- subset(data_3, \n",
    "                    data_3$geo %in% countr_tab3_1_2 & \n",
    "                    data_3$year == 2013 &\n",
    "                    data_3$currency ==\"MIO_EUR\"&\n",
    "                    data_3$bop_item== \"SD\" &\n",
    "                    data_3$stk_flow == cred_deb_bal2[i] &\n",
    "                    data_3$partner == \"WRL_REST\")\n",
    "data_3_col2 <- data_3_col2[,c(7,9)]\n",
    "\n",
    "data_tab3_part2[,1] <- data_3_col2[,1]\n",
    "\n",
    "data_tab3_part2[,1+i] <- data_3_col2[,2]\n",
    "\n",
    "}"
   ]
  },
  {
   "cell_type": "code",
   "execution_count": 180,
   "metadata": {},
   "outputs": [],
   "source": [
    "data_3_col2_1 <- data.frame( V1=c(\"AL\",\"PT\",\"NO\"),\n",
    "                             V2=c(NA,NA,NA), \n",
    "                             V3=c(NA,NA,NA))\n",
    "\n",
    "data_tab3_part2 <- rbind(data_tab3_part2,data_3_col2_1)"
   ]
  },
  {
   "cell_type": "markdown",
   "metadata": {},
   "source": [
    "Bring the countries in the order the graphik shows.\n",
    "\n",
    "Finally we have two further of the seven columns filled with data."
   ]
  },
  {
   "cell_type": "code",
   "execution_count": 181,
   "metadata": {},
   "outputs": [
    {
     "data": {
      "text/html": [
       "<table>\n",
       "<caption>A data.frame: 6 × 3</caption>\n",
       "<thead>\n",
       "\t<tr><th></th><th scope=col>V1</th><th scope=col>V2</th><th scope=col>V3</th></tr>\n",
       "\t<tr><th></th><th scope=col>&lt;fct&gt;</th><th scope=col>&lt;dbl&gt;</th><th scope=col>&lt;dbl&gt;</th></tr>\n",
       "</thead>\n",
       "<tbody>\n",
       "\t<tr><th scope=row>3</th><td>BE</td><td>10074.0</td><td>16692.0</td></tr>\n",
       "\t<tr><th scope=row>4</th><td>BG</td><td> 2890.8</td><td>  840.0</td></tr>\n",
       "\t<tr><th scope=row>7</th><td>CZ</td><td> 5303.1</td><td> 3493.8</td></tr>\n",
       "\t<tr><th scope=row>9</th><td>DK</td><td> 5385.1</td><td> 7584.1</td></tr>\n",
       "\t<tr><th scope=row>8</th><td>DE</td><td>31081.0</td><td>68793.0</td></tr>\n",
       "\t<tr><th scope=row>10</th><td>EE</td><td> 1255.8</td><td>  802.8</td></tr>\n",
       "</tbody>\n",
       "</table>\n"
      ],
      "text/latex": [
       "A data.frame: 6 × 3\n",
       "\\begin{tabular}{r|lll}\n",
       "  & V1 & V2 & V3\\\\\n",
       "  & <fct> & <dbl> & <dbl>\\\\\n",
       "\\hline\n",
       "\t3 & BE & 10074.0 & 16692.0\\\\\n",
       "\t4 & BG &  2890.8 &   840.0\\\\\n",
       "\t7 & CZ &  5303.1 &  3493.8\\\\\n",
       "\t9 & DK &  5385.1 &  7584.1\\\\\n",
       "\t8 & DE & 31081.0 & 68793.0\\\\\n",
       "\t10 & EE &  1255.8 &   802.8\\\\\n",
       "\\end{tabular}\n"
      ],
      "text/markdown": [
       "\n",
       "A data.frame: 6 × 3\n",
       "\n",
       "| <!--/--> | V1 &lt;fct&gt; | V2 &lt;dbl&gt; | V3 &lt;dbl&gt; |\n",
       "|---|---|---|---|\n",
       "| 3 | BE | 10074.0 | 16692.0 |\n",
       "| 4 | BG |  2890.8 |   840.0 |\n",
       "| 7 | CZ |  5303.1 |  3493.8 |\n",
       "| 9 | DK |  5385.1 |  7584.1 |\n",
       "| 8 | DE | 31081.0 | 68793.0 |\n",
       "| 10 | EE |  1255.8 |   802.8 |\n",
       "\n"
      ],
      "text/plain": [
       "   V1 V2      V3     \n",
       "3  BE 10074.0 16692.0\n",
       "4  BG  2890.8   840.0\n",
       "7  CZ  5303.1  3493.8\n",
       "9  DK  5385.1  7584.1\n",
       "8  DE 31081.0 68793.0\n",
       "10 EE  1255.8   802.8"
      ]
     },
     "metadata": {},
     "output_type": "display_data"
    }
   ],
   "source": [
    "data_tab3_part2 <- data_tab3_part2[order(factor(data_tab3_part2$V1, levels= countr_tab3_1_1)),]\n",
    "\n",
    "head(data_tab3_part2)"
   ]
  },
  {
   "cell_type": "markdown",
   "metadata": {},
   "source": [
    "#### Fourth step\n",
    "\n",
    "Calculate the \"relative to GDP\"-column.\n",
    "- therefore first we have to load the dataset to receive the GDPs per country: `data_4`\n",
    "- create a country-vector (in the order the table shows), exclude the countries with NA: `countr_tab3_2_1`\n",
    "- Norway has no data, therefore we assign NA: `data_4_col3_2`\n",
    "\n",
    "Build the subset `data_4_col3_1` and match the result afterwards with the NA of Norway to `data_tab3_part3`"
   ]
  },
  {
   "cell_type": "code",
   "execution_count": 182,
   "metadata": {},
   "outputs": [
    {
     "name": "stderr",
     "output_type": "stream",
     "text": [
      "Reading cache file C:\\Users\\sarah\\AppData\\Local\\Temp\\Rtmp0oFI1n/eurostat/nama_10_gdp_date_code_TF.rds\n",
      "Table  nama_10_gdp  read from cache file:  C:\\Users\\sarah\\AppData\\Local\\Temp\\Rtmp0oFI1n/eurostat/nama_10_gdp_date_code_TF.rds\n"
     ]
    }
   ],
   "source": [
    "data_4 <- as_tibble(get_eurostat_data(id=\"nama_10_gdp\"))\n",
    "data_4$year <- as.integer(substr(data_4$time,1,4))"
   ]
  },
  {
   "cell_type": "code",
   "execution_count": 183,
   "metadata": {},
   "outputs": [],
   "source": [
    "countr_tab3_2_1 <- c(\"BE\",\"BG\",\"CZ\",\"DK\",\"DE\",\"EE\",\"IE\",\"EL\",\"ES\",\"FR\",\"HR\",\"IT\",\"CY\",\"LV\",\"LT\",\"LU\",\"HU\",\"MT\",\"NL\",\n",
    "                     \"AT\",\"PL\",\"PT\",\"RO\",\"SI\",\"SK\",\"FI\",\"SE\",\"UK\",\"IS\",\"CH\",\"ME\",\"MK\",\"AL\",\"RS\",\"TR\",\"BA\",\"XK\")\n",
    "    \n",
    "data_4_col3_1 <- subset(data_4, \n",
    "                    data_4$geo %in% countr_tab3_2_1 & \n",
    "                    data_4$year == 2018 &\n",
    "                    data_4$na_item == \"B1GQ\" &\n",
    "                    data_4$unit == \"CP_MEUR\")\n",
    "data_4_col3_1 <- data_4_col3_1[,c(3,5)]\n",
    "\n",
    "data_4_col3_2 <- data.frame( geo= \"NO\", values= NA)"
   ]
  },
  {
   "cell_type": "code",
   "execution_count": 184,
   "metadata": {},
   "outputs": [],
   "source": [
    "data_tab3_part3 <- rbind(data_4_col3_1,data_4_col3_2)"
   ]
  },
  {
   "cell_type": "markdown",
   "metadata": {},
   "source": [
    "Bring the countries in the order the graphik shows."
   ]
  },
  {
   "cell_type": "code",
   "execution_count": 185,
   "metadata": {},
   "outputs": [
    {
     "data": {
      "text/html": [
       "<table>\n",
       "<caption>A tibble: 6 × 2</caption>\n",
       "<thead>\n",
       "\t<tr><th scope=col>geo</th><th scope=col>values</th></tr>\n",
       "\t<tr><th scope=col>&lt;fct&gt;</th><th scope=col>&lt;dbl&gt;</th></tr>\n",
       "</thead>\n",
       "<tbody>\n",
       "\t<tr><td>BE</td><td> 460419.4</td></tr>\n",
       "\t<tr><td>BG</td><td>  56111.8</td></tr>\n",
       "\t<tr><td>CZ</td><td> 210892.7</td></tr>\n",
       "\t<tr><td>DK</td><td> 302361.1</td></tr>\n",
       "\t<tr><td>DE</td><td>3356410.0</td></tr>\n",
       "\t<tr><td>EE</td><td>  25937.6</td></tr>\n",
       "</tbody>\n",
       "</table>\n"
      ],
      "text/latex": [
       "A tibble: 6 × 2\n",
       "\\begin{tabular}{ll}\n",
       " geo & values\\\\\n",
       " <fct> & <dbl>\\\\\n",
       "\\hline\n",
       "\t BE &  460419.4\\\\\n",
       "\t BG &   56111.8\\\\\n",
       "\t CZ &  210892.7\\\\\n",
       "\t DK &  302361.1\\\\\n",
       "\t DE & 3356410.0\\\\\n",
       "\t EE &   25937.6\\\\\n",
       "\\end{tabular}\n"
      ],
      "text/markdown": [
       "\n",
       "A tibble: 6 × 2\n",
       "\n",
       "| geo &lt;fct&gt; | values &lt;dbl&gt; |\n",
       "|---|---|\n",
       "| BE |  460419.4 |\n",
       "| BG |   56111.8 |\n",
       "| CZ |  210892.7 |\n",
       "| DK |  302361.1 |\n",
       "| DE | 3356410.0 |\n",
       "| EE |   25937.6 |\n",
       "\n"
      ],
      "text/plain": [
       "  geo values   \n",
       "1 BE   460419.4\n",
       "2 BG    56111.8\n",
       "3 CZ   210892.7\n",
       "4 DK   302361.1\n",
       "5 DE  3356410.0\n",
       "6 EE    25937.6"
      ]
     },
     "metadata": {},
     "output_type": "display_data"
    }
   ],
   "source": [
    "data_tab3_part3 <- data_tab3_part3[order(factor(data_tab3_part3$geo, levels= countr_tab3_1_1)),]\n",
    "\n",
    "head(data_tab3_part3)"
   ]
  },
  {
   "cell_type": "markdown",
   "metadata": {},
   "source": [
    "Now we have to calculate the ratio.\n",
    "- therefore we have to devide the 2018 data from above through the GDP-column calculated just now (`col4_1`,`col4_2`)"
   ]
  },
  {
   "cell_type": "code",
   "execution_count": 186,
   "metadata": {},
   "outputs": [
    {
     "data": {
      "text/html": [
       "<table>\n",
       "<caption>A data.frame: 6 × 1</caption>\n",
       "<thead>\n",
       "\t<tr><th></th><th scope=col>values</th></tr>\n",
       "\t<tr><th></th><th scope=col>&lt;dbl&gt;</th></tr>\n",
       "</thead>\n",
       "<tbody>\n",
       "\t<tr><th scope=row>1</th><td>1.635031</td></tr>\n",
       "\t<tr><th scope=row>2</th><td>6.786808</td></tr>\n",
       "\t<tr><th scope=row>3</th><td>2.989814</td></tr>\n",
       "\t<tr><th scope=row>4</th><td>2.552842</td></tr>\n",
       "\t<tr><th scope=row>5</th><td>1.084194</td></tr>\n",
       "\t<tr><th scope=row>6</th><td>5.820122</td></tr>\n",
       "</tbody>\n",
       "</table>\n"
      ],
      "text/latex": [
       "A data.frame: 6 × 1\n",
       "\\begin{tabular}{r|l}\n",
       "  & values\\\\\n",
       "  & <dbl>\\\\\n",
       "\\hline\n",
       "\t1 & 1.635031\\\\\n",
       "\t2 & 6.786808\\\\\n",
       "\t3 & 2.989814\\\\\n",
       "\t4 & 2.552842\\\\\n",
       "\t5 & 1.084194\\\\\n",
       "\t6 & 5.820122\\\\\n",
       "\\end{tabular}\n"
      ],
      "text/markdown": [
       "\n",
       "A data.frame: 6 × 1\n",
       "\n",
       "| <!--/--> | values &lt;dbl&gt; |\n",
       "|---|---|\n",
       "| 1 | 1.635031 |\n",
       "| 2 | 6.786808 |\n",
       "| 3 | 2.989814 |\n",
       "| 4 | 2.552842 |\n",
       "| 5 | 1.084194 |\n",
       "| 6 | 5.820122 |\n",
       "\n"
      ],
      "text/plain": [
       "  values  \n",
       "1 1.635031\n",
       "2 6.786808\n",
       "3 2.989814\n",
       "4 2.552842\n",
       "5 1.084194\n",
       "6 5.820122"
      ]
     },
     "metadata": {},
     "output_type": "display_data"
    },
    {
     "data": {
      "text/html": [
       "<table>\n",
       "<caption>A data.frame: 6 × 1</caption>\n",
       "<thead>\n",
       "\t<tr><th></th><th scope=col>values</th></tr>\n",
       "\t<tr><th></th><th scope=col>&lt;dbl&gt;</th></tr>\n",
       "</thead>\n",
       "<tbody>\n",
       "\t<tr><th scope=row>1</th><td>3.399944</td></tr>\n",
       "\t<tr><th scope=row>2</th><td>2.823649</td></tr>\n",
       "\t<tr><th scope=row>3</th><td>2.397191</td></tr>\n",
       "\t<tr><th scope=row>4</th><td>2.952298</td></tr>\n",
       "\t<tr><th scope=row>5</th><td>2.411297</td></tr>\n",
       "\t<tr><th scope=row>6</th><td>4.799210</td></tr>\n",
       "</tbody>\n",
       "</table>\n"
      ],
      "text/latex": [
       "A data.frame: 6 × 1\n",
       "\\begin{tabular}{r|l}\n",
       "  & values\\\\\n",
       "  & <dbl>\\\\\n",
       "\\hline\n",
       "\t1 & 3.399944\\\\\n",
       "\t2 & 2.823649\\\\\n",
       "\t3 & 2.397191\\\\\n",
       "\t4 & 2.952298\\\\\n",
       "\t5 & 2.411297\\\\\n",
       "\t6 & 4.799210\\\\\n",
       "\\end{tabular}\n"
      ],
      "text/markdown": [
       "\n",
       "A data.frame: 6 × 1\n",
       "\n",
       "| <!--/--> | values &lt;dbl&gt; |\n",
       "|---|---|\n",
       "| 1 | 3.399944 |\n",
       "| 2 | 2.823649 |\n",
       "| 3 | 2.397191 |\n",
       "| 4 | 2.952298 |\n",
       "| 5 | 2.411297 |\n",
       "| 6 | 4.799210 |\n",
       "\n"
      ],
      "text/plain": [
       "  values  \n",
       "1 3.399944\n",
       "2 2.823649\n",
       "3 2.397191\n",
       "4 2.952298\n",
       "5 2.411297\n",
       "6 4.799210"
      ]
     },
     "metadata": {},
     "output_type": "display_data"
    }
   ],
   "source": [
    "col4_1 <- data_tab3_part1[,2]/data_tab3_part3[,2]*100\n",
    "col4_2 <- data_tab3_part1[,3]/data_tab3_part3[,2]*100\n",
    "\n",
    "head(col4_1)\n",
    "head(col4_2)"
   ]
  },
  {
   "cell_type": "markdown",
   "metadata": {},
   "source": [
    "#### Fifth step\n",
    "\n",
    "- create column with the names of the countries, this will be the first column of the complete table 3: `countr_names2`\n",
    "- finally put the calculated columns all together and round them correspondingly: `table3`\n",
    "- give the columns the correct names"
   ]
  },
  {
   "cell_type": "code",
   "execution_count": 187,
   "metadata": {},
   "outputs": [],
   "source": [
    "countr_names2 <- c(\"Belgium\",\"Bulgaria\",\"Czechia\",\"Denmark\",\"Germany\",\"Estonia\", \"Ireland\", \"Greece\", \"Spain\", \"France\", \n",
    "                  \"Croatia\", \"Italy\", \"Cyprus\", \"Latvia\", \"Lithuania\", \"Luxembourg\", \"Hungary\", \"Malta\", \"Netherlands\", \n",
    "                  \"Austria\", \"Poland\", \"Portugal\", \"Romania\", \"Slovenia\", \"Slovakia\", \"Finland\", \"Sweden\",\n",
    "                 \"United Kingdom\",\"Iceland\",\"Norway\", \"Switzerland\",\"Montenegro\",\"North Macedonia\",\"Albania\",\n",
    "                  \"Serbia\",\"Turkey\",\"Bosnia and Herzegovina\",\"Kosovo\")"
   ]
  },
  {
   "cell_type": "code",
   "execution_count": 188,
   "metadata": {},
   "outputs": [],
   "source": [
    "table3 <- cbind(countr_names2,\n",
    "                round(data_tab3_part2[,2],0),\n",
    "                round(data_tab3_part1[,2],0),\n",
    "                round(col4_1,1),\n",
    "                round(data_tab3_part2[,3],0),\n",
    "                round(data_tab3_part1[,3],0),\n",
    "                round(col4_2,1),\n",
    "                round(data_tab3_part1[,4],0))"
   ]
  },
  {
   "cell_type": "code",
   "execution_count": 189,
   "metadata": {},
   "outputs": [
    {
     "data": {
      "text/html": [
       "<table>\n",
       "<caption>A data.frame: 6 × 8</caption>\n",
       "<thead>\n",
       "\t<tr><th></th><th scope=col></th><th scope=col>Receipts (million EUR) 2013</th><th scope=col>Receipts (million EUR) 2018</th><th scope=col>Relative to GDP 2018 (%)</th><th scope=col>Expenditure (million EUR) 2013</th><th scope=col>Expenditure (million EUR) 2018</th><th scope=col>Relative to GDP 2018 (%)</th><th scope=col>Balance (million EUR) 2018</th></tr>\n",
       "\t<tr><th></th><th scope=col>&lt;fct&gt;</th><th scope=col>&lt;dbl&gt;</th><th scope=col>&lt;dbl&gt;</th><th scope=col>&lt;dbl&gt;</th><th scope=col>&lt;dbl&gt;</th><th scope=col>&lt;dbl&gt;</th><th scope=col>&lt;dbl&gt;</th><th scope=col>&lt;dbl&gt;</th></tr>\n",
       "</thead>\n",
       "<tbody>\n",
       "\t<tr><th scope=row>1</th><td>Belgium </td><td>10074</td><td> 7528</td><td>1.6</td><td>16692</td><td>15654</td><td>3.4</td><td> -8126</td></tr>\n",
       "\t<tr><th scope=row>2</th><td>Bulgaria</td><td> 2891</td><td> 3808</td><td>6.8</td><td>  840</td><td> 1584</td><td>2.8</td><td>  2224</td></tr>\n",
       "\t<tr><th scope=row>3</th><td>Czechia </td><td> 5303</td><td> 6305</td><td>3.0</td><td> 3494</td><td> 5056</td><td>2.4</td><td>  1250</td></tr>\n",
       "\t<tr><th scope=row>4</th><td>Denmark </td><td> 5385</td><td> 7719</td><td>2.6</td><td> 7584</td><td> 8927</td><td>3.0</td><td> -1208</td></tr>\n",
       "\t<tr><th scope=row>5</th><td>Germany </td><td>31081</td><td>36390</td><td>1.1</td><td>68793</td><td>80933</td><td>2.4</td><td>-44543</td></tr>\n",
       "\t<tr><th scope=row>6</th><td>Estonia </td><td> 1256</td><td> 1510</td><td>5.8</td><td>  803</td><td> 1245</td><td>4.8</td><td>   265</td></tr>\n",
       "</tbody>\n",
       "</table>\n"
      ],
      "text/latex": [
       "A data.frame: 6 × 8\n",
       "\\begin{tabular}{r|llllllll}\n",
       "  &  & Receipts (million EUR) 2013 & Receipts (million EUR) 2018 & Relative to GDP 2018 (\\%) & Expenditure (million EUR) 2013 & Expenditure (million EUR) 2018 & Relative to GDP 2018 (\\%) & Balance (million EUR) 2018\\\\\n",
       "  & <fct> & <dbl> & <dbl> & <dbl> & <dbl> & <dbl> & <dbl> & <dbl>\\\\\n",
       "\\hline\n",
       "\t1 & Belgium  & 10074 &  7528 & 1.6 & 16692 & 15654 & 3.4 &  -8126\\\\\n",
       "\t2 & Bulgaria &  2891 &  3808 & 6.8 &   840 &  1584 & 2.8 &   2224\\\\\n",
       "\t3 & Czechia  &  5303 &  6305 & 3.0 &  3494 &  5056 & 2.4 &   1250\\\\\n",
       "\t4 & Denmark  &  5385 &  7719 & 2.6 &  7584 &  8927 & 3.0 &  -1208\\\\\n",
       "\t5 & Germany  & 31081 & 36390 & 1.1 & 68793 & 80933 & 2.4 & -44543\\\\\n",
       "\t6 & Estonia  &  1256 &  1510 & 5.8 &   803 &  1245 & 4.8 &    265\\\\\n",
       "\\end{tabular}\n"
      ],
      "text/markdown": [
       "\n",
       "A data.frame: 6 × 8\n",
       "\n",
       "| <!--/--> | <!----> &lt;fct&gt; | Receipts (million EUR) 2013 &lt;dbl&gt; | Receipts (million EUR) 2018 &lt;dbl&gt; | Relative to GDP 2018 (%) &lt;dbl&gt; | Expenditure (million EUR) 2013 &lt;dbl&gt; | Expenditure (million EUR) 2018 &lt;dbl&gt; | Relative to GDP 2018 (%) &lt;dbl&gt; | Balance (million EUR) 2018 &lt;dbl&gt; |\n",
       "|---|---|---|---|---|---|---|---|---|\n",
       "| 1 | Belgium  | 10074 |  7528 | 1.6 | 16692 | 15654 | 3.4 |  -8126 |\n",
       "| 2 | Bulgaria |  2891 |  3808 | 6.8 |   840 |  1584 | 2.8 |   2224 |\n",
       "| 3 | Czechia  |  5303 |  6305 | 3.0 |  3494 |  5056 | 2.4 |   1250 |\n",
       "| 4 | Denmark  |  5385 |  7719 | 2.6 |  7584 |  8927 | 3.0 |  -1208 |\n",
       "| 5 | Germany  | 31081 | 36390 | 1.1 | 68793 | 80933 | 2.4 | -44543 |\n",
       "| 6 | Estonia  |  1256 |  1510 | 5.8 |   803 |  1245 | 4.8 |    265 |\n",
       "\n"
      ],
      "text/plain": [
       "           Receipts (million EUR) 2013 Receipts (million EUR) 2018\n",
       "1 Belgium  10074                        7528                      \n",
       "2 Bulgaria  2891                        3808                      \n",
       "3 Czechia   5303                        6305                      \n",
       "4 Denmark   5385                        7719                      \n",
       "5 Germany  31081                       36390                      \n",
       "6 Estonia   1256                        1510                      \n",
       "  Relative to GDP 2018 (%) Expenditure (million EUR) 2013\n",
       "1 1.6                      16692                         \n",
       "2 6.8                        840                         \n",
       "3 3.0                       3494                         \n",
       "4 2.6                       7584                         \n",
       "5 1.1                      68793                         \n",
       "6 5.8                        803                         \n",
       "  Expenditure (million EUR) 2018 Relative to GDP 2018 (%)\n",
       "1 15654                          3.4                     \n",
       "2  1584                          2.8                     \n",
       "3  5056                          2.4                     \n",
       "4  8927                          3.0                     \n",
       "5 80933                          2.4                     \n",
       "6  1245                          4.8                     \n",
       "  Balance (million EUR) 2018\n",
       "1  -8126                    \n",
       "2   2224                    \n",
       "3   1250                    \n",
       "4  -1208                    \n",
       "5 -44543                    \n",
       "6    265                    "
      ]
     },
     "metadata": {},
     "output_type": "display_data"
    }
   ],
   "source": [
    "names(table3) <- c(\"\",\n",
    "                        \"Receipts (million EUR) 2013\", \n",
    "                        \"Receipts (million EUR) 2018\",\n",
    "                        \"Relative to GDP 2018 (%)\",\n",
    "                        \"Expenditure (million EUR) 2013\",\n",
    "                        \"Expenditure (million EUR) 2018\",\n",
    "                        \"Relative to GDP 2018 (%)\",\n",
    "                        \"Balance (million EUR) 2018\")\n",
    "head(table3)"
   ]
  },
  {
   "cell_type": "markdown",
   "metadata": {},
   "source": [
    "#### Sixth step\n",
    "\n",
    "We need additionally the values for the EU\n",
    "- load the needed data `data_5` and add the year-column"
   ]
  },
  {
   "cell_type": "code",
   "execution_count": 162,
   "metadata": {},
   "outputs": [
    {
     "name": "stderr",
     "output_type": "stream",
     "text": [
      "Table bop_eu6_q cached at C:\\Users\\sarah\\AppData\\Local\\Temp\\Rtmp0oFI1n/eurostat/bop_eu6_q_raw_code_TF.rds\n"
     ]
    }
   ],
   "source": [
    "data_5 <- as_tibble(get_eurostat_data(id=\"bop_eu6_q\",time_format = \"raw\"))"
   ]
  },
  {
   "cell_type": "markdown",
   "metadata": {},
   "source": [
    "We create first the columns for 2018 and afterwards the same for 2013\n",
    "- we will do exactly the same like for the several countries above"
   ]
  },
  {
   "cell_type": "code",
   "execution_count": 190,
   "metadata": {},
   "outputs": [],
   "source": [
    "cred_deb_bal <- c(\"CRE\",\"DEB\",\"BAL\")\n",
    "\n",
    "data_tab3_part4 <- as.data.frame(matrix(ncol = 3, nrow = 1))"
   ]
  },
  {
   "cell_type": "code",
   "execution_count": 191,
   "metadata": {},
   "outputs": [
    {
     "data": {
      "text/html": [
       "<table>\n",
       "<caption>A data.frame: 1 × 3</caption>\n",
       "<thead>\n",
       "\t<tr><th scope=col>V1</th><th scope=col>V2</th><th scope=col>V3</th></tr>\n",
       "\t<tr><th scope=col>&lt;dbl&gt;</th><th scope=col>&lt;dbl&gt;</th><th scope=col>&lt;dbl&gt;</th></tr>\n",
       "</thead>\n",
       "<tbody>\n",
       "\t<tr><td>156587</td><td>109167.3</td><td>47419.7</td></tr>\n",
       "</tbody>\n",
       "</table>\n"
      ],
      "text/latex": [
       "A data.frame: 1 × 3\n",
       "\\begin{tabular}{lll}\n",
       " V1 & V2 & V3\\\\\n",
       " <dbl> & <dbl> & <dbl>\\\\\n",
       "\\hline\n",
       "\t 156587 & 109167.3 & 47419.7\\\\\n",
       "\\end{tabular}\n"
      ],
      "text/markdown": [
       "\n",
       "A data.frame: 1 × 3\n",
       "\n",
       "| V1 &lt;dbl&gt; | V2 &lt;dbl&gt; | V3 &lt;dbl&gt; |\n",
       "|---|---|---|\n",
       "| 156587 | 109167.3 | 47419.7 |\n",
       "\n"
      ],
      "text/plain": [
       "  V1     V2       V3     \n",
       "1 156587 109167.3 47419.7"
      ]
     },
     "metadata": {},
     "output_type": "display_data"
    }
   ],
   "source": [
    "for (i in 1:3) {\n",
    "    \n",
    "data_5_col1 <- subset(data_5, \n",
    "                    data_5$geo == \"EU27_2020\" & \n",
    "                    data_5$time == 2018 &\n",
    "                    data_5$currency ==\"MIO_EUR\"&\n",
    "                    data_5$bop_item== \"SD\" &\n",
    "                    data_5$stk_flow == cred_deb_bal[i] &\n",
    "                    data_5$partner == \"EXT_EU27_2020\")\n",
    "data_5_col1 <- data_5_col1[,10]\n",
    "\n",
    "data_tab3_part4[,i] <- data_5_col1\n",
    "\n",
    "}\n",
    "\n",
    "data_tab3_part4"
   ]
  },
  {
   "cell_type": "markdown",
   "metadata": {},
   "source": [
    "Now we create the 2013-columns and repeat the loop from above."
   ]
  },
  {
   "cell_type": "code",
   "execution_count": 192,
   "metadata": {},
   "outputs": [],
   "source": [
    "cred_deb_bal2 <- c(\"CRE\",\"DEB\")\n",
    "\n",
    "data_tab3_part5 <- as.data.frame(matrix(ncol = 2, nrow = 1))"
   ]
  },
  {
   "cell_type": "code",
   "execution_count": 193,
   "metadata": {},
   "outputs": [
    {
     "data": {
      "text/html": [
       "<table>\n",
       "<caption>A data.frame: 1 × 2</caption>\n",
       "<thead>\n",
       "\t<tr><th scope=col>V1</th><th scope=col>V2</th></tr>\n",
       "\t<tr><th scope=col>&lt;dbl&gt;</th><th scope=col>&lt;dbl&gt;</th></tr>\n",
       "</thead>\n",
       "<tbody>\n",
       "\t<tr><td>126010.7</td><td>86737.8</td></tr>\n",
       "</tbody>\n",
       "</table>\n"
      ],
      "text/latex": [
       "A data.frame: 1 × 2\n",
       "\\begin{tabular}{ll}\n",
       " V1 & V2\\\\\n",
       " <dbl> & <dbl>\\\\\n",
       "\\hline\n",
       "\t 126010.7 & 86737.8\\\\\n",
       "\\end{tabular}\n"
      ],
      "text/markdown": [
       "\n",
       "A data.frame: 1 × 2\n",
       "\n",
       "| V1 &lt;dbl&gt; | V2 &lt;dbl&gt; |\n",
       "|---|---|\n",
       "| 126010.7 | 86737.8 |\n",
       "\n"
      ],
      "text/plain": [
       "  V1       V2     \n",
       "1 126010.7 86737.8"
      ]
     },
     "metadata": {},
     "output_type": "display_data"
    }
   ],
   "source": [
    "for (i in 1:2) {\n",
    "    \n",
    "data_5_col2 <- subset(data_5, \n",
    "                    data_5$geo == \"EU27_2020\" & \n",
    "                    data_5$time == 2013 &\n",
    "                    data_5$currency ==\"MIO_EUR\"&\n",
    "                    data_5$bop_item== \"SD\" &\n",
    "                    data_5$stk_flow == cred_deb_bal[i] &\n",
    "                    data_5$partner == \"EXT_EU27_2020\")\n",
    "data_5_col2 <- data_5_col2[,10]\n",
    "\n",
    "data_tab3_part5[,i] <- data_5_col2\n",
    "\n",
    "}\n",
    "\n",
    "data_tab3_part5"
   ]
  },
  {
   "cell_type": "markdown",
   "metadata": {},
   "source": [
    "Calculate the \"relative to GDP\"-column\n",
    "- we can use the dataset `data_4` to receive the GDPs per country\n",
    "- now we have to calculate the ratio: therefore we have to devide the 2018 data from above (`data_tab3_part4`) through the GDP-column calculated just now (`data_5_col3`): `data_5_col4_1`, `data_5_col4_2`"
   ]
  },
  {
   "cell_type": "code",
   "execution_count": 194,
   "metadata": {},
   "outputs": [],
   "source": [
    "data_5_col3 <- subset(data_4, \n",
    "                    data_4$geo == \"EU27_2020\" & \n",
    "                    data_4$year == 2018 &\n",
    "                    data_4$na_item == \"B1GQ\"&\n",
    "                    data_4$unit == \"CP_MEUR\")\n",
    "data_5_col3 <- data_5_col3[,5]"
   ]
  },
  {
   "cell_type": "code",
   "execution_count": 195,
   "metadata": {},
   "outputs": [
    {
     "data": {
      "text/html": [
       "<table>\n",
       "<caption>A data.frame: 1 × 1</caption>\n",
       "<thead>\n",
       "\t<tr><th scope=col>values</th></tr>\n",
       "\t<tr><th scope=col>&lt;dbl&gt;</th></tr>\n",
       "</thead>\n",
       "<tbody>\n",
       "\t<tr><td>1.158367</td></tr>\n",
       "</tbody>\n",
       "</table>\n"
      ],
      "text/latex": [
       "A data.frame: 1 × 1\n",
       "\\begin{tabular}{l}\n",
       " values\\\\\n",
       " <dbl>\\\\\n",
       "\\hline\n",
       "\t 1.158367\\\\\n",
       "\\end{tabular}\n"
      ],
      "text/markdown": [
       "\n",
       "A data.frame: 1 × 1\n",
       "\n",
       "| values &lt;dbl&gt; |\n",
       "|---|\n",
       "| 1.158367 |\n",
       "\n"
      ],
      "text/plain": [
       "  values  \n",
       "1 1.158367"
      ]
     },
     "metadata": {},
     "output_type": "display_data"
    },
    {
     "data": {
      "text/html": [
       "<table>\n",
       "<caption>A data.frame: 1 × 1</caption>\n",
       "<thead>\n",
       "\t<tr><th scope=col>values</th></tr>\n",
       "\t<tr><th scope=col>&lt;dbl&gt;</th></tr>\n",
       "</thead>\n",
       "<tbody>\n",
       "\t<tr><td>0.8075755</td></tr>\n",
       "</tbody>\n",
       "</table>\n"
      ],
      "text/latex": [
       "A data.frame: 1 × 1\n",
       "\\begin{tabular}{l}\n",
       " values\\\\\n",
       " <dbl>\\\\\n",
       "\\hline\n",
       "\t 0.8075755\\\\\n",
       "\\end{tabular}\n"
      ],
      "text/markdown": [
       "\n",
       "A data.frame: 1 × 1\n",
       "\n",
       "| values &lt;dbl&gt; |\n",
       "|---|\n",
       "| 0.8075755 |\n",
       "\n"
      ],
      "text/plain": [
       "  values   \n",
       "1 0.8075755"
      ]
     },
     "metadata": {},
     "output_type": "display_data"
    }
   ],
   "source": [
    "data_5_col4_1 <- data_tab3_part4[,1]/data_5_col3*100\n",
    "data_5_col4_2 <- data_tab3_part4[,2]/data_5_col3*100\n",
    "data_5_col4_1\n",
    "data_5_col4_2"
   ]
  },
  {
   "cell_type": "markdown",
   "metadata": {},
   "source": [
    "Finally put the calculated columns all together and round them correspondingly: `table3_EU`\n",
    "\n",
    "Give the columns the correct names"
   ]
  },
  {
   "cell_type": "code",
   "execution_count": 196,
   "metadata": {},
   "outputs": [
    {
     "data": {
      "text/html": [
       "<table>\n",
       "<caption>A data.frame: 1 × 8</caption>\n",
       "<thead>\n",
       "\t<tr><th scope=col></th><th scope=col>Receipts (million EUR) 2013</th><th scope=col>Receipts (million EUR) 2018</th><th scope=col>Relative to GDP 2018 (%)</th><th scope=col>Expenditure (million EUR) 2013</th><th scope=col>Expenditure (million EUR) 2018</th><th scope=col>Relative to GDP 2018 (%)</th><th scope=col>Balance (million EUR) 2018</th></tr>\n",
       "\t<tr><th scope=col>&lt;fct&gt;</th><th scope=col>&lt;dbl&gt;</th><th scope=col>&lt;dbl&gt;</th><th scope=col>&lt;dbl&gt;</th><th scope=col>&lt;dbl&gt;</th><th scope=col>&lt;dbl&gt;</th><th scope=col>&lt;dbl&gt;</th><th scope=col>&lt;dbl&gt;</th></tr>\n",
       "</thead>\n",
       "<tbody>\n",
       "\t<tr><td>EU-27</td><td>126011</td><td>156587</td><td>1.2</td><td>86738</td><td>109167</td><td>0.8</td><td>47420</td></tr>\n",
       "</tbody>\n",
       "</table>\n"
      ],
      "text/latex": [
       "A data.frame: 1 × 8\n",
       "\\begin{tabular}{llllllll}\n",
       "  & Receipts (million EUR) 2013 & Receipts (million EUR) 2018 & Relative to GDP 2018 (\\%) & Expenditure (million EUR) 2013 & Expenditure (million EUR) 2018 & Relative to GDP 2018 (\\%) & Balance (million EUR) 2018\\\\\n",
       " <fct> & <dbl> & <dbl> & <dbl> & <dbl> & <dbl> & <dbl> & <dbl>\\\\\n",
       "\\hline\n",
       "\t EU-27 & 126011 & 156587 & 1.2 & 86738 & 109167 & 0.8 & 47420\\\\\n",
       "\\end{tabular}\n"
      ],
      "text/markdown": [
       "\n",
       "A data.frame: 1 × 8\n",
       "\n",
       "| <!----> &lt;fct&gt; | Receipts (million EUR) 2013 &lt;dbl&gt; | Receipts (million EUR) 2018 &lt;dbl&gt; | Relative to GDP 2018 (%) &lt;dbl&gt; | Expenditure (million EUR) 2013 &lt;dbl&gt; | Expenditure (million EUR) 2018 &lt;dbl&gt; | Relative to GDP 2018 (%) &lt;dbl&gt; | Balance (million EUR) 2018 &lt;dbl&gt; |\n",
       "|---|---|---|---|---|---|---|---|\n",
       "| EU-27 | 126011 | 156587 | 1.2 | 86738 | 109167 | 0.8 | 47420 |\n",
       "\n"
      ],
      "text/plain": [
       "        Receipts (million EUR) 2013 Receipts (million EUR) 2018\n",
       "1 EU-27 126011                      156587                     \n",
       "  Relative to GDP 2018 (%) Expenditure (million EUR) 2013\n",
       "1 1.2                      86738                         \n",
       "  Expenditure (million EUR) 2018 Relative to GDP 2018 (%)\n",
       "1 109167                         0.8                     \n",
       "  Balance (million EUR) 2018\n",
       "1 47420                     "
      ]
     },
     "metadata": {},
     "output_type": "display_data"
    }
   ],
   "source": [
    "countr_names3 <- c(\"EU-27\")\n",
    "\n",
    "table3_EU <- cbind(countr_names3,\n",
    "                round(data_tab3_part5[,1],0),\n",
    "                round(data_tab3_part4[,1],0),\n",
    "                round(data_5_col4_1,1),\n",
    "                round(data_tab3_part5[,2],0),\n",
    "                round(data_tab3_part4[,2],0),\n",
    "                round(data_5_col4_2,1),\n",
    "                round(data_tab3_part4[,3],0))\n",
    "\n",
    "names(table3_EU) <- c(\"\",\n",
    "                        \"Receipts (million EUR) 2013\", \n",
    "                        \"Receipts (million EUR) 2018\",\n",
    "                        \"Relative to GDP 2018 (%)\",\n",
    "                        \"Expenditure (million EUR) 2013\",\n",
    "                        \"Expenditure (million EUR) 2018\",\n",
    "                        \"Relative to GDP 2018 (%)\",\n",
    "                        \"Balance (million EUR) 2018\")\n",
    "\n",
    "table3_EU"
   ]
  },
  {
   "cell_type": "markdown",
   "metadata": {},
   "source": [
    "#### Seventh step\n",
    "\n",
    "Add the EU values (`table3_EU`) to `table3`: `table3_final`"
   ]
  },
  {
   "cell_type": "code",
   "execution_count": 197,
   "metadata": {},
   "outputs": [
    {
     "data": {
      "text/html": [
       "<table>\n",
       "<caption>A matrix: 39 × 8 of type chr</caption>\n",
       "<thead>\n",
       "\t<tr><th scope=col></th><th scope=col>Receipts (million EUR) 2013</th><th scope=col>Receipts (million EUR) 2018</th><th scope=col>Relative to GDP 2018 (%)</th><th scope=col>Expenditure (million EUR) 2013</th><th scope=col>Expenditure (million EUR) 2018</th><th scope=col>Relative to GDP 2018 (%)</th><th scope=col>Balance (million EUR) 2018</th></tr>\n",
       "</thead>\n",
       "<tbody>\n",
       "\t<tr><td>EU-27                 </td><td>126011</td><td>156587</td><td> 1.2</td><td>86738</td><td>109167</td><td> 0.8</td><td> 47420</td></tr>\n",
       "\t<tr><td>Belgium               </td><td> 10074</td><td>  7528</td><td> 1.6</td><td>16692</td><td> 15654</td><td> 3.4</td><td> -8126</td></tr>\n",
       "\t<tr><td>Bulgaria              </td><td>  2891</td><td>  3808</td><td> 6.8</td><td>  840</td><td>  1584</td><td> 2.8</td><td>  2224</td></tr>\n",
       "\t<tr><td>Czechia               </td><td>  5303</td><td>  6305</td><td> 3.0</td><td> 3494</td><td>  5056</td><td> 2.4</td><td>  1250</td></tr>\n",
       "\t<tr><td>Denmark               </td><td>  5385</td><td>  7719</td><td> 2.6</td><td> 7584</td><td>  8927</td><td> 3.0</td><td> -1208</td></tr>\n",
       "\t<tr><td>Germany               </td><td> 31081</td><td> 36390</td><td> 1.1</td><td>68793</td><td> 80933</td><td> 2.4</td><td>-44543</td></tr>\n",
       "\t<tr><td>Estonia               </td><td>  1256</td><td>  1510</td><td> 5.8</td><td>  803</td><td>  1245</td><td> 4.8</td><td>   265</td></tr>\n",
       "\t<tr><td>Ireland               </td><td>  3370</td><td>  5760</td><td> 1.8</td><td> 4669</td><td>  6399</td><td> 2.0</td><td>  -639</td></tr>\n",
       "\t<tr><td>Greece                </td><td> 12152</td><td> 16086</td><td> 9.0</td><td> 1835</td><td>  2191</td><td> 1.2</td><td> 13895</td></tr>\n",
       "\t<tr><td>Spain                 </td><td> 51589</td><td> 69168</td><td> 5.7</td><td>12359</td><td> 22396</td><td> 1.9</td><td> 46772</td></tr>\n",
       "\t<tr><td>France                </td><td> 53103</td><td> 55912</td><td> 2.4</td><td>31787</td><td> 41398</td><td> 1.8</td><td> 14514</td></tr>\n",
       "\t<tr><td>Croatia               </td><td>  6136</td><td>  9489</td><td>18.3</td><td>  679</td><td>  1434</td><td> 2.8</td><td>  8054</td></tr>\n",
       "\t<tr><td>Italy                 </td><td> 33063</td><td> 41712</td><td> 2.4</td><td>20309</td><td> 25484</td><td> 1.4</td><td> 16228</td></tr>\n",
       "\t<tr><td>Cyprus                </td><td>  2211</td><td>  2940</td><td>13.7</td><td>  944</td><td>  1330</td><td> 6.2</td><td>  1610</td></tr>\n",
       "\t<tr><td>Latvia                </td><td>   651</td><td>   897</td><td> 3.1</td><td>  538</td><td>   660</td><td> 2.3</td><td>   237</td></tr>\n",
       "\t<tr><td>Lithuania             </td><td>  1035</td><td>  1274</td><td> 2.8</td><td>  805</td><td>  1186</td><td> 2.6</td><td>    89</td></tr>\n",
       "\t<tr><td>Luxembourg            </td><td>  5387</td><td>  5175</td><td> 8.6</td><td> 1896</td><td>  2813</td><td> 4.7</td><td>  2362</td></tr>\n",
       "\t<tr><td>Hungary               </td><td>  4043</td><td>  5850</td><td> 4.3</td><td> 1437</td><td>  2239</td><td> 1.6</td><td>  3612</td></tr>\n",
       "\t<tr><td>Malta                 </td><td>  1057</td><td>  1574</td><td>12.6</td><td>  289</td><td>   440</td><td> 3.5</td><td>  1133</td></tr>\n",
       "\t<tr><td>Netherlands           </td><td> 10343</td><td> 15057</td><td> 1.9</td><td>15589</td><td> 17680</td><td> 2.3</td><td> -2623</td></tr>\n",
       "\t<tr><td>Austria               </td><td> 15237</td><td> 19559</td><td> 5.1</td><td> 7738</td><td> 10020</td><td> 2.6</td><td>  9539</td></tr>\n",
       "\t<tr><td>Poland                </td><td>  8405</td><td> 11759</td><td> 2.4</td><td> 6483</td><td>  8042</td><td> 1.6</td><td>  3717</td></tr>\n",
       "\t<tr><td>Portugal              </td><td>NA    </td><td> 17053</td><td> 8.3</td><td>NA   </td><td>  4585</td><td> 2.2</td><td> 12468</td></tr>\n",
       "\t<tr><td>Romania               </td><td>  1392</td><td>  2876</td><td> 1.4</td><td> 1508</td><td>  4522</td><td> 2.2</td><td> -1646</td></tr>\n",
       "\t<tr><td>Slovenia              </td><td>  2094</td><td>  2704</td><td> 5.9</td><td> 1068</td><td>  1482</td><td> 3.2</td><td>  1221</td></tr>\n",
       "\t<tr><td>Slovakia              </td><td>  1998</td><td>  2710</td><td> 3.0</td><td> 1782</td><td>  2225</td><td> 2.5</td><td>   484</td></tr>\n",
       "\t<tr><td>Finland               </td><td>  3044</td><td>  3104</td><td> 1.3</td><td> 3989</td><td>  5151</td><td> 2.2</td><td> -2047</td></tr>\n",
       "\t<tr><td>Sweden                </td><td>  8182</td><td>  8464</td><td> 1.8</td><td>11552</td><td> 13297</td><td> 2.8</td><td> -4833</td></tr>\n",
       "\t<tr><td>United Kingdom        </td><td> 35080</td><td> 42387</td><td> 1.8</td><td>45556</td><td> 60006</td><td> 2.5</td><td>-17619</td></tr>\n",
       "\t<tr><td>Iceland               </td><td>   813</td><td>  2658</td><td>12.2</td><td>  639</td><td>  1554</td><td> 7.1</td><td>  1104</td></tr>\n",
       "\t<tr><td>Norway                </td><td>NA    </td><td>  4956</td><td>NA  </td><td>NA   </td><td> 14699</td><td>NA  </td><td> -9743</td></tr>\n",
       "\t<tr><td>Switzerland           </td><td> 12562</td><td> 15232</td><td> 2.4</td><td>12819</td><td> 16147</td><td> 2.6</td><td>  -914</td></tr>\n",
       "\t<tr><td>Montenegro            </td><td>   666</td><td>  1001</td><td>21.5</td><td>   37</td><td>    58</td><td> 1.2</td><td>   943</td></tr>\n",
       "\t<tr><td>North Macedonia       </td><td>   201</td><td>   325</td><td> 3.0</td><td>   98</td><td>   220</td><td> 2.0</td><td>   105</td></tr>\n",
       "\t<tr><td>Albania               </td><td>NA    </td><td>  1856</td><td>14.5</td><td>NA   </td><td>  1426</td><td>11.1</td><td>   430</td></tr>\n",
       "\t<tr><td>Serbia                </td><td>   792</td><td>  1317</td><td> 3.1</td><td>  841</td><td>  1396</td><td> 3.3</td><td>   -79</td></tr>\n",
       "\t<tr><td>Turkey                </td><td> 21089</td><td> 21482</td><td> 3.3</td><td> 3623</td><td>  3888</td><td> 0.6</td><td> 17594</td></tr>\n",
       "\t<tr><td>Bosnia and Herzegovina</td><td>   516</td><td>   933</td><td> 5.5</td><td>  101</td><td>   227</td><td> 1.3</td><td>   706</td></tr>\n",
       "\t<tr><td>Kosovo                </td><td>   648</td><td>  1228</td><td>18.3</td><td>  135</td><td>   302</td><td> 4.5</td><td>   926</td></tr>\n",
       "</tbody>\n",
       "</table>\n"
      ],
      "text/latex": [
       "A matrix: 39 × 8 of type chr\n",
       "\\begin{tabular}{llllllll}\n",
       "  & Receipts (million EUR) 2013 & Receipts (million EUR) 2018 & Relative to GDP 2018 (\\%) & Expenditure (million EUR) 2013 & Expenditure (million EUR) 2018 & Relative to GDP 2018 (\\%) & Balance (million EUR) 2018\\\\\n",
       "\\hline\n",
       "\t EU-27                  & 126011 & 156587 &  1.2 & 86738 & 109167 &  0.8 &  47420\\\\\n",
       "\t Belgium                &  10074 &   7528 &  1.6 & 16692 &  15654 &  3.4 &  -8126\\\\\n",
       "\t Bulgaria               &   2891 &   3808 &  6.8 &   840 &   1584 &  2.8 &   2224\\\\\n",
       "\t Czechia                &   5303 &   6305 &  3.0 &  3494 &   5056 &  2.4 &   1250\\\\\n",
       "\t Denmark                &   5385 &   7719 &  2.6 &  7584 &   8927 &  3.0 &  -1208\\\\\n",
       "\t Germany                &  31081 &  36390 &  1.1 & 68793 &  80933 &  2.4 & -44543\\\\\n",
       "\t Estonia                &   1256 &   1510 &  5.8 &   803 &   1245 &  4.8 &    265\\\\\n",
       "\t Ireland                &   3370 &   5760 &  1.8 &  4669 &   6399 &  2.0 &   -639\\\\\n",
       "\t Greece                 &  12152 &  16086 &  9.0 &  1835 &   2191 &  1.2 &  13895\\\\\n",
       "\t Spain                  &  51589 &  69168 &  5.7 & 12359 &  22396 &  1.9 &  46772\\\\\n",
       "\t France                 &  53103 &  55912 &  2.4 & 31787 &  41398 &  1.8 &  14514\\\\\n",
       "\t Croatia                &   6136 &   9489 & 18.3 &   679 &   1434 &  2.8 &   8054\\\\\n",
       "\t Italy                  &  33063 &  41712 &  2.4 & 20309 &  25484 &  1.4 &  16228\\\\\n",
       "\t Cyprus                 &   2211 &   2940 & 13.7 &   944 &   1330 &  6.2 &   1610\\\\\n",
       "\t Latvia                 &    651 &    897 &  3.1 &   538 &    660 &  2.3 &    237\\\\\n",
       "\t Lithuania              &   1035 &   1274 &  2.8 &   805 &   1186 &  2.6 &     89\\\\\n",
       "\t Luxembourg             &   5387 &   5175 &  8.6 &  1896 &   2813 &  4.7 &   2362\\\\\n",
       "\t Hungary                &   4043 &   5850 &  4.3 &  1437 &   2239 &  1.6 &   3612\\\\\n",
       "\t Malta                  &   1057 &   1574 & 12.6 &   289 &    440 &  3.5 &   1133\\\\\n",
       "\t Netherlands            &  10343 &  15057 &  1.9 & 15589 &  17680 &  2.3 &  -2623\\\\\n",
       "\t Austria                &  15237 &  19559 &  5.1 &  7738 &  10020 &  2.6 &   9539\\\\\n",
       "\t Poland                 &   8405 &  11759 &  2.4 &  6483 &   8042 &  1.6 &   3717\\\\\n",
       "\t Portugal               & NA     &  17053 &  8.3 & NA    &   4585 &  2.2 &  12468\\\\\n",
       "\t Romania                &   1392 &   2876 &  1.4 &  1508 &   4522 &  2.2 &  -1646\\\\\n",
       "\t Slovenia               &   2094 &   2704 &  5.9 &  1068 &   1482 &  3.2 &   1221\\\\\n",
       "\t Slovakia               &   1998 &   2710 &  3.0 &  1782 &   2225 &  2.5 &    484\\\\\n",
       "\t Finland                &   3044 &   3104 &  1.3 &  3989 &   5151 &  2.2 &  -2047\\\\\n",
       "\t Sweden                 &   8182 &   8464 &  1.8 & 11552 &  13297 &  2.8 &  -4833\\\\\n",
       "\t United Kingdom         &  35080 &  42387 &  1.8 & 45556 &  60006 &  2.5 & -17619\\\\\n",
       "\t Iceland                &    813 &   2658 & 12.2 &   639 &   1554 &  7.1 &   1104\\\\\n",
       "\t Norway                 & NA     &   4956 & NA   & NA    &  14699 & NA   &  -9743\\\\\n",
       "\t Switzerland            &  12562 &  15232 &  2.4 & 12819 &  16147 &  2.6 &   -914\\\\\n",
       "\t Montenegro             &    666 &   1001 & 21.5 &    37 &     58 &  1.2 &    943\\\\\n",
       "\t North Macedonia        &    201 &    325 &  3.0 &    98 &    220 &  2.0 &    105\\\\\n",
       "\t Albania                & NA     &   1856 & 14.5 & NA    &   1426 & 11.1 &    430\\\\\n",
       "\t Serbia                 &    792 &   1317 &  3.1 &   841 &   1396 &  3.3 &    -79\\\\\n",
       "\t Turkey                 &  21089 &  21482 &  3.3 &  3623 &   3888 &  0.6 &  17594\\\\\n",
       "\t Bosnia and Herzegovina &    516 &    933 &  5.5 &   101 &    227 &  1.3 &    706\\\\\n",
       "\t Kosovo                 &    648 &   1228 & 18.3 &   135 &    302 &  4.5 &    926\\\\\n",
       "\\end{tabular}\n"
      ],
      "text/markdown": [
       "\n",
       "A matrix: 39 × 8 of type chr\n",
       "\n",
       "| <!----> | Receipts (million EUR) 2013 | Receipts (million EUR) 2018 | Relative to GDP 2018 (%) | Expenditure (million EUR) 2013 | Expenditure (million EUR) 2018 | Relative to GDP 2018 (%) | Balance (million EUR) 2018 |\n",
       "|---|---|---|---|---|---|---|---|\n",
       "| EU-27                  | 126011 | 156587 |  1.2 | 86738 | 109167 |  0.8 |  47420 |\n",
       "| Belgium                |  10074 |   7528 |  1.6 | 16692 |  15654 |  3.4 |  -8126 |\n",
       "| Bulgaria               |   2891 |   3808 |  6.8 |   840 |   1584 |  2.8 |   2224 |\n",
       "| Czechia                |   5303 |   6305 |  3.0 |  3494 |   5056 |  2.4 |   1250 |\n",
       "| Denmark                |   5385 |   7719 |  2.6 |  7584 |   8927 |  3.0 |  -1208 |\n",
       "| Germany                |  31081 |  36390 |  1.1 | 68793 |  80933 |  2.4 | -44543 |\n",
       "| Estonia                |   1256 |   1510 |  5.8 |   803 |   1245 |  4.8 |    265 |\n",
       "| Ireland                |   3370 |   5760 |  1.8 |  4669 |   6399 |  2.0 |   -639 |\n",
       "| Greece                 |  12152 |  16086 |  9.0 |  1835 |   2191 |  1.2 |  13895 |\n",
       "| Spain                  |  51589 |  69168 |  5.7 | 12359 |  22396 |  1.9 |  46772 |\n",
       "| France                 |  53103 |  55912 |  2.4 | 31787 |  41398 |  1.8 |  14514 |\n",
       "| Croatia                |   6136 |   9489 | 18.3 |   679 |   1434 |  2.8 |   8054 |\n",
       "| Italy                  |  33063 |  41712 |  2.4 | 20309 |  25484 |  1.4 |  16228 |\n",
       "| Cyprus                 |   2211 |   2940 | 13.7 |   944 |   1330 |  6.2 |   1610 |\n",
       "| Latvia                 |    651 |    897 |  3.1 |   538 |    660 |  2.3 |    237 |\n",
       "| Lithuania              |   1035 |   1274 |  2.8 |   805 |   1186 |  2.6 |     89 |\n",
       "| Luxembourg             |   5387 |   5175 |  8.6 |  1896 |   2813 |  4.7 |   2362 |\n",
       "| Hungary                |   4043 |   5850 |  4.3 |  1437 |   2239 |  1.6 |   3612 |\n",
       "| Malta                  |   1057 |   1574 | 12.6 |   289 |    440 |  3.5 |   1133 |\n",
       "| Netherlands            |  10343 |  15057 |  1.9 | 15589 |  17680 |  2.3 |  -2623 |\n",
       "| Austria                |  15237 |  19559 |  5.1 |  7738 |  10020 |  2.6 |   9539 |\n",
       "| Poland                 |   8405 |  11759 |  2.4 |  6483 |   8042 |  1.6 |   3717 |\n",
       "| Portugal               | NA     |  17053 |  8.3 | NA    |   4585 |  2.2 |  12468 |\n",
       "| Romania                |   1392 |   2876 |  1.4 |  1508 |   4522 |  2.2 |  -1646 |\n",
       "| Slovenia               |   2094 |   2704 |  5.9 |  1068 |   1482 |  3.2 |   1221 |\n",
       "| Slovakia               |   1998 |   2710 |  3.0 |  1782 |   2225 |  2.5 |    484 |\n",
       "| Finland                |   3044 |   3104 |  1.3 |  3989 |   5151 |  2.2 |  -2047 |\n",
       "| Sweden                 |   8182 |   8464 |  1.8 | 11552 |  13297 |  2.8 |  -4833 |\n",
       "| United Kingdom         |  35080 |  42387 |  1.8 | 45556 |  60006 |  2.5 | -17619 |\n",
       "| Iceland                |    813 |   2658 | 12.2 |   639 |   1554 |  7.1 |   1104 |\n",
       "| Norway                 | NA     |   4956 | NA   | NA    |  14699 | NA   |  -9743 |\n",
       "| Switzerland            |  12562 |  15232 |  2.4 | 12819 |  16147 |  2.6 |   -914 |\n",
       "| Montenegro             |    666 |   1001 | 21.5 |    37 |     58 |  1.2 |    943 |\n",
       "| North Macedonia        |    201 |    325 |  3.0 |    98 |    220 |  2.0 |    105 |\n",
       "| Albania                | NA     |   1856 | 14.5 | NA    |   1426 | 11.1 |    430 |\n",
       "| Serbia                 |    792 |   1317 |  3.1 |   841 |   1396 |  3.3 |    -79 |\n",
       "| Turkey                 |  21089 |  21482 |  3.3 |  3623 |   3888 |  0.6 |  17594 |\n",
       "| Bosnia and Herzegovina |    516 |    933 |  5.5 |   101 |    227 |  1.3 |    706 |\n",
       "| Kosovo                 |    648 |   1228 | 18.3 |   135 |    302 |  4.5 |    926 |\n",
       "\n"
      ],
      "text/plain": [
       "                             Receipts (million EUR) 2013\n",
       " [1,] EU-27                  126011                     \n",
       " [2,] Belgium                 10074                     \n",
       " [3,] Bulgaria                 2891                     \n",
       " [4,] Czechia                  5303                     \n",
       " [5,] Denmark                  5385                     \n",
       " [6,] Germany                 31081                     \n",
       " [7,] Estonia                  1256                     \n",
       " [8,] Ireland                  3370                     \n",
       " [9,] Greece                  12152                     \n",
       "[10,] Spain                   51589                     \n",
       "[11,] France                  53103                     \n",
       "[12,] Croatia                  6136                     \n",
       "[13,] Italy                   33063                     \n",
       "[14,] Cyprus                   2211                     \n",
       "[15,] Latvia                    651                     \n",
       "[16,] Lithuania                1035                     \n",
       "[17,] Luxembourg               5387                     \n",
       "[18,] Hungary                  4043                     \n",
       "[19,] Malta                    1057                     \n",
       "[20,] Netherlands             10343                     \n",
       "[21,] Austria                 15237                     \n",
       "[22,] Poland                   8405                     \n",
       "[23,] Portugal               NA                         \n",
       "[24,] Romania                  1392                     \n",
       "[25,] Slovenia                 2094                     \n",
       "[26,] Slovakia                 1998                     \n",
       "[27,] Finland                  3044                     \n",
       "[28,] Sweden                   8182                     \n",
       "[29,] United Kingdom          35080                     \n",
       "[30,] Iceland                   813                     \n",
       "[31,] Norway                 NA                         \n",
       "[32,] Switzerland             12562                     \n",
       "[33,] Montenegro                666                     \n",
       "[34,] North Macedonia           201                     \n",
       "[35,] Albania                NA                         \n",
       "[36,] Serbia                    792                     \n",
       "[37,] Turkey                  21089                     \n",
       "[38,] Bosnia and Herzegovina    516                     \n",
       "[39,] Kosovo                    648                     \n",
       "      Receipts (million EUR) 2018 Relative to GDP 2018 (%)\n",
       " [1,] 156587                       1.2                    \n",
       " [2,]   7528                       1.6                    \n",
       " [3,]   3808                       6.8                    \n",
       " [4,]   6305                       3.0                    \n",
       " [5,]   7719                       2.6                    \n",
       " [6,]  36390                       1.1                    \n",
       " [7,]   1510                       5.8                    \n",
       " [8,]   5760                       1.8                    \n",
       " [9,]  16086                       9.0                    \n",
       "[10,]  69168                       5.7                    \n",
       "[11,]  55912                       2.4                    \n",
       "[12,]   9489                      18.3                    \n",
       "[13,]  41712                       2.4                    \n",
       "[14,]   2940                      13.7                    \n",
       "[15,]    897                       3.1                    \n",
       "[16,]   1274                       2.8                    \n",
       "[17,]   5175                       8.6                    \n",
       "[18,]   5850                       4.3                    \n",
       "[19,]   1574                      12.6                    \n",
       "[20,]  15057                       1.9                    \n",
       "[21,]  19559                       5.1                    \n",
       "[22,]  11759                       2.4                    \n",
       "[23,]  17053                       8.3                    \n",
       "[24,]   2876                       1.4                    \n",
       "[25,]   2704                       5.9                    \n",
       "[26,]   2710                       3.0                    \n",
       "[27,]   3104                       1.3                    \n",
       "[28,]   8464                       1.8                    \n",
       "[29,]  42387                       1.8                    \n",
       "[30,]   2658                      12.2                    \n",
       "[31,]   4956                      NA                      \n",
       "[32,]  15232                       2.4                    \n",
       "[33,]   1001                      21.5                    \n",
       "[34,]    325                       3.0                    \n",
       "[35,]   1856                      14.5                    \n",
       "[36,]   1317                       3.1                    \n",
       "[37,]  21482                       3.3                    \n",
       "[38,]    933                       5.5                    \n",
       "[39,]   1228                      18.3                    \n",
       "      Expenditure (million EUR) 2013 Expenditure (million EUR) 2018\n",
       " [1,] 86738                          109167                        \n",
       " [2,] 16692                           15654                        \n",
       " [3,]   840                            1584                        \n",
       " [4,]  3494                            5056                        \n",
       " [5,]  7584                            8927                        \n",
       " [6,] 68793                           80933                        \n",
       " [7,]   803                            1245                        \n",
       " [8,]  4669                            6399                        \n",
       " [9,]  1835                            2191                        \n",
       "[10,] 12359                           22396                        \n",
       "[11,] 31787                           41398                        \n",
       "[12,]   679                            1434                        \n",
       "[13,] 20309                           25484                        \n",
       "[14,]   944                            1330                        \n",
       "[15,]   538                             660                        \n",
       "[16,]   805                            1186                        \n",
       "[17,]  1896                            2813                        \n",
       "[18,]  1437                            2239                        \n",
       "[19,]   289                             440                        \n",
       "[20,] 15589                           17680                        \n",
       "[21,]  7738                           10020                        \n",
       "[22,]  6483                            8042                        \n",
       "[23,] NA                               4585                        \n",
       "[24,]  1508                            4522                        \n",
       "[25,]  1068                            1482                        \n",
       "[26,]  1782                            2225                        \n",
       "[27,]  3989                            5151                        \n",
       "[28,] 11552                           13297                        \n",
       "[29,] 45556                           60006                        \n",
       "[30,]   639                            1554                        \n",
       "[31,] NA                              14699                        \n",
       "[32,] 12819                           16147                        \n",
       "[33,]    37                              58                        \n",
       "[34,]    98                             220                        \n",
       "[35,] NA                               1426                        \n",
       "[36,]   841                            1396                        \n",
       "[37,]  3623                            3888                        \n",
       "[38,]   101                             227                        \n",
       "[39,]   135                             302                        \n",
       "      Relative to GDP 2018 (%) Balance (million EUR) 2018\n",
       " [1,]  0.8                      47420                    \n",
       " [2,]  3.4                      -8126                    \n",
       " [3,]  2.8                       2224                    \n",
       " [4,]  2.4                       1250                    \n",
       " [5,]  3.0                      -1208                    \n",
       " [6,]  2.4                     -44543                    \n",
       " [7,]  4.8                        265                    \n",
       " [8,]  2.0                       -639                    \n",
       " [9,]  1.2                      13895                    \n",
       "[10,]  1.9                      46772                    \n",
       "[11,]  1.8                      14514                    \n",
       "[12,]  2.8                       8054                    \n",
       "[13,]  1.4                      16228                    \n",
       "[14,]  6.2                       1610                    \n",
       "[15,]  2.3                        237                    \n",
       "[16,]  2.6                         89                    \n",
       "[17,]  4.7                       2362                    \n",
       "[18,]  1.6                       3612                    \n",
       "[19,]  3.5                       1133                    \n",
       "[20,]  2.3                      -2623                    \n",
       "[21,]  2.6                       9539                    \n",
       "[22,]  1.6                       3717                    \n",
       "[23,]  2.2                      12468                    \n",
       "[24,]  2.2                      -1646                    \n",
       "[25,]  3.2                       1221                    \n",
       "[26,]  2.5                        484                    \n",
       "[27,]  2.2                      -2047                    \n",
       "[28,]  2.8                      -4833                    \n",
       "[29,]  2.5                     -17619                    \n",
       "[30,]  7.1                       1104                    \n",
       "[31,] NA                        -9743                    \n",
       "[32,]  2.6                       -914                    \n",
       "[33,]  1.2                        943                    \n",
       "[34,]  2.0                        105                    \n",
       "[35,] 11.1                        430                    \n",
       "[36,]  3.3                        -79                    \n",
       "[37,]  0.6                      17594                    \n",
       "[38,]  1.3                        706                    \n",
       "[39,]  4.5                        926                    "
      ]
     },
     "metadata": {},
     "output_type": "display_data"
    }
   ],
   "source": [
    "table3_final <- rbind(table3_EU,table3)\n",
    "\n",
    "as.matrix(table3_final)"
   ]
  }
 ],
 "metadata": {
  "kernelspec": {
   "display_name": "R",
   "language": "R",
   "name": "ir"
  },
  "language_info": {
   "codemirror_mode": "r",
   "file_extension": ".r",
   "mimetype": "text/x-r-source",
   "name": "R",
   "pygments_lexer": "r",
   "version": "3.6.1"
  }
 },
 "nbformat": 4,
 "nbformat_minor": 4
}
