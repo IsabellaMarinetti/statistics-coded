{
 "cells": [
  {
   "cell_type": "markdown",
   "metadata": {
    "colab_type": "text",
    "id": "sM8ZePrlR54s"
   },
   "source": [
    "##  *Statistics coded:* Statistiques sur les villes européennes\n",
    "\n",
    "Prepare par [**VOTRE-NOM**](VOTRE-EMAIL@VOTRE-ADRESSE) (EMOS).\n",
    "\n",
    "L'objectif de ce notebook est d'illustrer l'article *Statistics Expplained* sur les [Statistiques sur les villes européennes](https://ec.europa.eu/eurostat/statistics-explained/index.php?title=Statistics_on_European_cities/fr)."
   ]
  },
  {
   "cell_type": "markdown",
   "metadata": {},
   "source": [
    "So, indeed, you can choose to create a notebook in your own language. Take into account that not all articles will be available in the language you choose, but you can still decide to \"translate\" the English source. This is left to you.\n",
    "\n",
    "Note: please indicate the name of the programming language in the name of the notebook, as well as the language of the text used in the notebook, *e.g.* using the extensions *_fr_py.ipynb* or *_de_r.ipynb*."
   ]
  },
  {
   "cell_type": "markdown",
   "metadata": {
    "colab_type": "text",
    "id": "qlpXEpBWR541"
   },
   "source": [
    "### Configuration\n",
    "\n",
    "Put all libraries/packages/modules/etc... that are necessary so that you can run this notebook."
   ]
  },
  {
   "cell_type": "code",
   "execution_count": 0,
   "metadata": {
    "colab": {},
    "colab_type": "code",
    "id": "eUjGK-qhR55M"
   },
   "outputs": [],
   "source": [
    "# install.packages(...)\n",
    "# library(...)"
   ]
  },
  {
   "cell_type": "markdown",
   "metadata": {},
   "source": [
    "### Population\n",
    "\n",
    "We simply \"reproduce\" the layout of the article here: the (sub)sections of this notebook shall match the (sub)sections of the article, *e.g.* this section matches the [Population](https://ec.europa.eu/eurostat/statistics-explained/index.php?title=Statistics_on_European_cities/fr#Population) section of the *Statistics Explained* article.\n",
    "\n",
    "Note that your can insert *LaTeX* formula into your text, *e.g.*: \n",
    "$$\\int {x^n } dx = \\frac{{x^{n + 1} }}{{n + 1}}, \\quad n \\ne  - 1$$"
   ]
  },
  {
   "cell_type": "code",
   "execution_count": null,
   "metadata": {},
   "outputs": [],
   "source": [
    "# your code"
   ]
  },
  {
   "cell_type": "markdown",
   "metadata": {},
   "source": [
    "### Conditions socio-économiques\n",
    "\n",
    "*Ibid*, the code here will help reproducing the material presented in the section [Conditions socio-économiques](https://ec.europa.eu/eurostat/statistics-explained/index.php?title=Statistics_on_European_cities/fr#Conditions_socio-.C3.A9conomiques)."
   ]
  },
  {
   "cell_type": "code",
   "execution_count": null,
   "metadata": {},
   "outputs": [],
   "source": [
    "# your code"
   ]
  },
  {
   "cell_type": "markdown",
   "metadata": {},
   "source": [
    "Don't forget to explain what you are doing..."
   ]
  },
  {
   "cell_type": "markdown",
   "metadata": {},
   "source": [
    "### Additional material\n",
    "\n",
    "At this stage, it is up to you to extend the work presented in the notebook with further analysis/visualisation you deem relevant. "
   ]
  },
  {
   "cell_type": "code",
   "execution_count": null,
   "metadata": {},
   "outputs": [],
   "source": []
  }
 ],
 "metadata": {
  "colab": {
   "name": "eu_int_trade_transport_R.ipynb",
   "provenance": []
  },
  "kernelspec": {
   "display_name": "R",
   "language": "R",
   "name": "ir"
  },
  "language_info": {
   "codemirror_mode": "r",
   "file_extension": ".r",
   "mimetype": "text/x-r-source",
   "name": "R",
   "pygments_lexer": "r",
   "version": "3.6.1"
  }
 },
 "nbformat": 4,
 "nbformat_minor": 1
}
