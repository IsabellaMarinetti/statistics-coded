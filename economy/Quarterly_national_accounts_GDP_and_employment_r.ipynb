{
 "cells": [
  {
   "cell_type": "markdown",
   "metadata": {
    "colab_type": "text",
    "id": "sM8ZePrlR54s"
   },
   "source": [
    "##  *Statistics coded:* Quarterly national accounts - GDP and employment\n",
    "\n",
    "Prepared by [**Hatem Alharazin**](hatemjamil.89@gmail.com) (EMOS).\n",
    "\n",
    "This notebook aims at illustrating the Statistics Explained article on [Quarterly national accounts](https://ec.europa.eu/eurostat/statistics-explained/index.php?title=Quarterly_national_accounts_-_GDP_and_employment#Data_sources)."
   ]
  },
  {
   "cell_type": "markdown",
   "metadata": {},
   "source": [
    "## Setting Packages up"
   ]
  },
  {
   "cell_type": "code",
   "execution_count": 8,
   "metadata": {
    "colab": {},
    "colab_type": "code",
    "id": "eUjGK-qhR55M"
   },
   "outputs": [
    {
     "name": "stderr",
     "output_type": "stream",
     "text": [
      "Warning message:\n",
      "\"package 'ggplot2' was built under R version 3.6.3\"Registered S3 method overwritten by 'quantmod':\n",
      "  method            from\n",
      "  as.zoo.data.frame zoo \n",
      "Warning message:\n",
      "\"package 'tidyr' was built under R version 3.6.2\""
     ]
    },
    {
     "ename": "ERROR",
     "evalue": "Error: package or namespace load failed for 'tidyr' in loadNamespace(i, c(lib.loc, .libPaths()), versionCheck = vI[[i]]):\n namespace 'rlang' 0.4.5 is already loaded, but >= 0.4.6 is required\n",
     "output_type": "error",
     "traceback": [
      "Error: package or namespace load failed for 'tidyr' in loadNamespace(i, c(lib.loc, .libPaths()), versionCheck = vI[[i]]):\n namespace 'rlang' 0.4.5 is already loaded, but >= 0.4.6 is required\nTraceback:\n",
      "1. library(tidyr)",
      "2. tryCatch({\n .     attr(package, \"LibPath\") <- which.lib.loc\n .     ns <- loadNamespace(package, lib.loc)\n .     env <- attachNamespace(ns, pos = pos, deps, exclude, include.only)\n . }, error = function(e) {\n .     P <- if (!is.null(cc <- conditionCall(e))) \n .         paste(\" in\", deparse(cc)[1L])\n .     else \"\"\n .     msg <- gettextf(\"package or namespace load failed for %s%s:\\n %s\", \n .         sQuote(package), P, conditionMessage(e))\n .     if (logical.return) \n .         message(paste(\"Error:\", msg), domain = NA)\n .     else stop(msg, call. = FALSE, domain = NA)\n . })",
      "3. tryCatchList(expr, classes, parentenv, handlers)",
      "4. tryCatchOne(expr, names, parentenv, handlers[[1L]])",
      "5. value[[3L]](cond)",
      "6. stop(msg, call. = FALSE, domain = NA)"
     ]
    }
   ],
   "source": [
    "# install.packages(...)\n",
    "library(ggplot2)\n",
    "library(tseries)\n",
    "library(readxl)\n",
    "library(tidyr)\n",
    "library(dplyr)\n",
    "library(plotly)"
   ]
  },
  {
   "cell_type": "markdown",
   "metadata": {},
   "source": [
    "## GDP and Employment growth rate"
   ]
  },
  {
   "cell_type": "code",
   "execution_count": 49,
   "metadata": {
    "scrolled": false
   },
   "outputs": [
    {
     "data": {
      "image/png": "[encoded data removed]",
      "text/plain": [
       "Plot with title \"GDP and employment growth rates, \n",
       " %change over the previous quarter, \n",
       " based on seasonally adjusted data, 2020Q1\""
      ]
     },
     "metadata": {},
     "output_type": "display_data"
    }
   ],
   "source": [
    "GR_Data <- read_excel(\"~/Eurostatdataset/GDP_Emp.xlsx\", \n",
    "    sheet = \"Sheet3\")\n",
    "GR_Data <- as.matrix(GR_Data[,2:ncol(GR_Data)])\n",
    "par(bg = '#BFD5E3')\n",
    "par(pin=c(6,2))\n",
    "barplot(GR_Data, las = 2, beside = T, col = c(2,3), main = \"GDP and employment growth rates, \\n %change over the previous quarter, \\n based on seasonally adjusted data, 2020Q1\")\n",
    "legend(\"bottomright\", legend =c(\"GDP\",\"Employment\"), fill = c(2,3), box.lty = 1, cex = 0.8)\n",
    "\n",
    "#Growth_rate_data <- read.csv(\"~/Eurostatdataset/GDP_Emp.csv\")\n",
    "#p <- ggplot(data=Growth_rate_data, aes(x=name, y=value, fill=Indicator)) +\n",
    "#geom_bar(stat=\"identity\", color=\"black\", position=position_dodge())+\n",
    "#  theme_minimal()\n",
    "#p + theme(axis.text.x = element_text(angle = 90))\n",
    "\n"
   ]
  },
  {
   "cell_type": "markdown",
   "metadata": {},
   "source": [
    "# Quarterly GDP growth\n"
   ]
  },
  {
   "cell_type": "code",
   "execution_count": 18,
   "metadata": {},
   "outputs": [],
   "source": [
    "# Read the data from csv files\n",
    "GDP_EU27_EA19 <- read.csv(\"~/Eurostatdataset/namq_10_gdp_1_Data.csv\") # GDP of EU27 and EA19 2007Q4-2020Q2\n",
    "GDP_Unit_Stat <- read.csv(\"~/Eurostatdataset/naidq_10_gdp_1_Data.csv\")# GDP of United States 2007Q4-2020Q2\n",
    "GDP_df <- data.frame(GDP_EU27_EA19[,-1], GDP_Unit_Stat)               # Merge GDP files in a data frame\n",
    "GDP_TS <- ts(GDP_df[,-3], start = c(2007, 4), frequency = 4)          # Define data as time series\n",
    "GDP_Growth_Rate <- ((GDP_TS-lag(GDP_TS,-1))/lag(GDP_TS,-1))*100       # Calculate the quarterly growth rate\n",
    "colnames(GDP_Growth_Rate) <- c(\"EU27\",\"EA19\",\"United States\")         # change the names\n",
    "\n",
    "#par(bg = 'gray')\n",
    "#plot(GDP_Growth_Rate[,1], ylim=c(-4,2))\n",
    "#lines(GDP_Growth_Rate[,2], col=2)\n",
    "#lines(GDP_Growth_Rate[,3], col=4)\n",
    "\n",
    "Date_var <- seq(as.Date(\"2008/1/1\"), as.Date(\"2020/6/1\"), by = \"quarter\")\n",
    "GDP_Growth_Rate <- data.frame(GDP_Growth_Rate,Date_var)"
   ]
  },
  {
   "cell_type": "code",
   "execution_count": 20,
   "metadata": {},
   "outputs": [
    {
     "data": {
      "text/html": [
       "<table>\n",
       "<caption>A data.frame: 6 × 3</caption>\n",
       "<thead>\n",
       "\t<tr><th></th><th scope=col>Date_var</th><th scope=col>values</th><th scope=col>ind</th></tr>\n",
       "\t<tr><th></th><th scope=col>&lt;date&gt;</th><th scope=col>&lt;dbl&gt;</th><th scope=col>&lt;fct&gt;</th></tr>\n",
       "</thead>\n",
       "<tbody>\n",
       "\t<tr><th scope=row>1</th><td>2008-01-01</td><td> 0.4868549</td><td>EU27</td></tr>\n",
       "\t<tr><th scope=row>2</th><td>2008-04-01</td><td>-0.2906977</td><td>EU27</td></tr>\n",
       "\t<tr><th scope=row>3</th><td>2008-07-01</td><td>-0.4859086</td><td>EU27</td></tr>\n",
       "\t<tr><th scope=row>4</th><td>2008-10-01</td><td>-1.7578125</td><td>EU27</td></tr>\n",
       "\t<tr><th scope=row>5</th><td>2009-01-01</td><td>-2.8827038</td><td>EU27</td></tr>\n",
       "\t<tr><th scope=row>6</th><td>2009-04-01</td><td>-0.1023541</td><td>EU27</td></tr>\n",
       "</tbody>\n",
       "</table>\n"
      ],
      "text/latex": [
       "A data.frame: 6 × 3\n",
       "\\begin{tabular}{r|lll}\n",
       "  & Date\\_var & values & ind\\\\\n",
       "  & <date> & <dbl> & <fct>\\\\\n",
       "\\hline\n",
       "\t1 & 2008-01-01 &  0.4868549 & EU27\\\\\n",
       "\t2 & 2008-04-01 & -0.2906977 & EU27\\\\\n",
       "\t3 & 2008-07-01 & -0.4859086 & EU27\\\\\n",
       "\t4 & 2008-10-01 & -1.7578125 & EU27\\\\\n",
       "\t5 & 2009-01-01 & -2.8827038 & EU27\\\\\n",
       "\t6 & 2009-04-01 & -0.1023541 & EU27\\\\\n",
       "\\end{tabular}\n"
      ],
      "text/markdown": [
       "\n",
       "A data.frame: 6 × 3\n",
       "\n",
       "| <!--/--> | Date_var &lt;date&gt; | values &lt;dbl&gt; | ind &lt;fct&gt; |\n",
       "|---|---|---|---|\n",
       "| 1 | 2008-01-01 |  0.4868549 | EU27 |\n",
       "| 2 | 2008-04-01 | -0.2906977 | EU27 |\n",
       "| 3 | 2008-07-01 | -0.4859086 | EU27 |\n",
       "| 4 | 2008-10-01 | -1.7578125 | EU27 |\n",
       "| 5 | 2009-01-01 | -2.8827038 | EU27 |\n",
       "| 6 | 2009-04-01 | -0.1023541 | EU27 |\n",
       "\n"
      ],
      "text/plain": [
       "  Date_var   values     ind \n",
       "1 2008-01-01  0.4868549 EU27\n",
       "2 2008-04-01 -0.2906977 EU27\n",
       "3 2008-07-01 -0.4859086 EU27\n",
       "4 2008-10-01 -1.7578125 EU27\n",
       "5 2009-01-01 -2.8827038 EU27\n",
       "6 2009-04-01 -0.1023541 EU27"
      ]
     },
     "metadata": {},
     "output_type": "display_data"
    }
   ],
   "source": [
    "Stacked_data <- data.frame(GDP_Growth_Rate[4], stack(GDP_Growth_Rate[1:3]))"
   ]
  },
  {
   "cell_type": "code",
   "execution_count": 48,
   "metadata": {},
   "outputs": [
    {
     "data": {
      "image/png": "[encoded data removed]",
      "text/plain": [
       "plot without title"
      ]
     },
     "metadata": {},
     "output_type": "display_data"
    }
   ],
   "source": [
    "# Multiple line plot\n",
    "p <- ggplot(Stacked_data, aes(x = Date_var, y = values)) + \n",
    "  geom_line(aes(color = ind), size = 1.3) +\n",
    "  scale_color_manual(values = c(\"blue\", \"#E7B800\", \"#FC4E07\")) +\n",
    "  theme_minimal()\n",
    "p <- p + theme(legend.position=\"bottom\")+ \n",
    "         theme(legend.title = element_blank())\n",
    "\n",
    "# Add horizontal line at y = 0\n",
    "p <- p + geom_hline(yintercept=0, color = \"black\", size=1)\n",
    "p <- p + theme(plot.background = element_rect(fill = \"#BFD5E3\"))\n",
    "\n",
    "p + ggtitle(\"GDP growth rates, % change over the previous quarter,\\n based on seasonally adjusted data, 2020Q1\") +\n",
    "  xlab(\"Time\") + ylab(\" \")"
   ]
  },
  {
   "cell_type": "markdown",
   "metadata": {},
   "source": [
    "Don't forget to explain what you are doing..."
   ]
  },
  {
   "cell_type": "markdown",
   "metadata": {},
   "source": [
    "### Additional material\n",
    "\n",
    "At this stage, it is up to you to extend the work presented in the notebook with further analysis/visualisation you deem relevant. "
   ]
  },
  {
   "cell_type": "code",
   "execution_count": 9,
   "metadata": {},
   "outputs": [
    {
     "data": {
      "image/png": "[encoded data removed]",
      "text/plain": [
       "plot without title"
      ]
     },
     "metadata": {},
     "output_type": "display_data"
    }
   ],
   "source": []
  },
  {
   "cell_type": "markdown",
   "metadata": {},
   "source": [
    "# GDP growth by Member State"
   ]
  },
  {
   "cell_type": "markdown",
   "metadata": {},
   "source": [
    "# GDP components and contributions to growth"
   ]
  },
  {
   "cell_type": "markdown",
   "metadata": {},
   "source": [
    "# Quarterly employment growth"
   ]
  },
  {
   "cell_type": "markdown",
   "metadata": {},
   "source": [
    "# Employment growth by Member State"
   ]
  },
  {
   "cell_type": "markdown",
   "metadata": {},
   "source": [
    "# Employment levels"
   ]
  },
  {
   "cell_type": "markdown",
   "metadata": {},
   "source": [
    "# Labour productivity"
   ]
  },
  {
   "cell_type": "code",
   "execution_count": null,
   "metadata": {},
   "outputs": [],
   "source": []
  }
 ],
 "metadata": {
  "colab": {
   "name": "eu_int_trade_transport_R.ipynb",
   "provenance": []
  },
  "kernelspec": {
   "display_name": "R",
   "language": "R",
   "name": "ir"
  },
  "language_info": {
   "codemirror_mode": "r",
   "file_extension": ".r",
   "mimetype": "text/x-r-source",
   "name": "R",
   "pygments_lexer": "r",
   "version": "3.6.1"
  }
 },
 "nbformat": 4,
 "nbformat_minor": 1
}
