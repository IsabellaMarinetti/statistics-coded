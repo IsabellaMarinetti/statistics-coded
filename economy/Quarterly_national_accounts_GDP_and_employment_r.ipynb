{
 "cells": [
  {
   "cell_type": "markdown",
   "metadata": {
    "colab_type": "text",
    "id": "sM8ZePrlR54s"
   },
   "source": [
    "##  *Statistics coded:* Quarterly national accounts - GDP and employment\n",
    "\n",
    "Prepared by [**Hatem Alharazin**](hatemjamil.89@gmail.com) (EMOS).\n",
    "\n",
    "This notebook aims at illustrating the Statistics Explained article on [Quarterly national accounts](https://ec.europa.eu/eurostat/statistics-explained/index.php?title=Quarterly_national_accounts_-_GDP_and_employment#Data_sources)."
   ]
  },
  {
   "cell_type": "markdown",
   "metadata": {},
   "source": [
    "## Setting Packages up"
   ]
  },
  {
   "cell_type": "code",
   "execution_count": 3,
   "metadata": {
    "colab": {},
    "colab_type": "code",
    "id": "eUjGK-qhR55M"
   },
   "outputs": [],
   "source": [
    "#install.packages(\"restatapi\")\n",
    "library(restatapi)\n",
    "library(ggplot2)\n",
    "library(tseries)\n",
    "library(readxl)\n",
    "#library(tidyr)\n",
    "#library(dplyr)\n",
    "#library(plotly)"
   ]
  },
  {
   "cell_type": "markdown",
   "metadata": {},
   "source": [
    "## GDP and Employment growth rate"
   ]
  },
  {
   "cell_type": "code",
   "execution_count": 24,
   "metadata": {},
   "outputs": [
    {
     "data": {
      "text/html": [
       "<table>\n",
       "<caption>A data.frame: 138 × 3</caption>\n",
       "<thead>\n",
       "\t<tr><th scope=col>concept</th><th scope=col>code</th><th scope=col>name</th></tr>\n",
       "\t<tr><th scope=col>&lt;chr&gt;</th><th scope=col>&lt;chr&gt;</th><th scope=col>&lt;chr&gt;</th></tr>\n",
       "</thead>\n",
       "<tbody>\n",
       "\t<tr><td>FREQ</td><td>D           </td><td>Daily                                                                                       </td></tr>\n",
       "\t<tr><td>FREQ</td><td>W           </td><td>Weekly                                                                                      </td></tr>\n",
       "\t<tr><td>FREQ</td><td>Q           </td><td>Quarterly                                                                                   </td></tr>\n",
       "\t<tr><td>FREQ</td><td>A           </td><td>Annual                                                                                      </td></tr>\n",
       "\t<tr><td>FREQ</td><td>S           </td><td>Semi-annual                                                                                 </td></tr>\n",
       "\t<tr><td>FREQ</td><td>M           </td><td>Monthly                                                                                     </td></tr>\n",
       "\t<tr><td>FREQ</td><td>H           </td><td>Half-year                                                                                   </td></tr>\n",
       "\t<tr><td>UNIT</td><td>CLV_I15     </td><td>Chain linked volumes, index 2015=100                                                        </td></tr>\n",
       "\t<tr><td>UNIT</td><td>CLV_I10     </td><td>Chain linked volumes, index 2010=100                                                        </td></tr>\n",
       "\t<tr><td>UNIT</td><td>CLV_I05     </td><td>Chain linked volumes, index 2005=100                                                        </td></tr>\n",
       "\t<tr><td>UNIT</td><td>PC_GDP      </td><td>Percentage of gross domestic product (GDP)                                                  </td></tr>\n",
       "\t<tr><td>UNIT</td><td>CP_MEUR     </td><td>Current prices, million euro                                                                </td></tr>\n",
       "\t<tr><td>UNIT</td><td>CP_MNAC     </td><td>Current prices, million units of national currency                                          </td></tr>\n",
       "\t<tr><td>UNIT</td><td>CLV15_MEUR  </td><td>Chain linked volumes (2015), million euro                                                   </td></tr>\n",
       "\t<tr><td>UNIT</td><td>CLV10_MEUR  </td><td>Chain linked volumes (2010), million euro                                                   </td></tr>\n",
       "\t<tr><td>UNIT</td><td>CLV05_MEUR  </td><td>Chain linked volumes (2005), million euro                                                   </td></tr>\n",
       "\t<tr><td>UNIT</td><td>CLV15_MNAC  </td><td>Chain linked volumes (2015), million units of national currency                             </td></tr>\n",
       "\t<tr><td>UNIT</td><td>CLV10_MNAC  </td><td>Chain linked volumes (2010), million units of national currency                             </td></tr>\n",
       "\t<tr><td>UNIT</td><td>CLV05_MNAC  </td><td>Chain linked volumes (2005), million units of national currency                             </td></tr>\n",
       "\t<tr><td>UNIT</td><td>CLV_PCH_PRE </td><td>Chain linked volumes, percentage change on previous period                                  </td></tr>\n",
       "\t<tr><td>UNIT</td><td>CLV_PCH_SM  </td><td>Chain linked volumes, percentage change compared to same period in previous year            </td></tr>\n",
       "\t<tr><td>UNIT</td><td>CLV_PCH_ANN </td><td>Chain linked volumes, annualized percentage change on previous period                       </td></tr>\n",
       "\t<tr><td>UNIT</td><td>PYP_MEUR    </td><td>Previous year prices, million euro                                                          </td></tr>\n",
       "\t<tr><td>UNIT</td><td>PYP_MNAC    </td><td>Previous year prices, million units of national currency                                    </td></tr>\n",
       "\t<tr><td>UNIT</td><td>CON_PPCH_PRE</td><td>Contribution to GDP growth, percentage point change on previous period                      </td></tr>\n",
       "\t<tr><td>UNIT</td><td>CON_PPCH_SM </td><td>Contribution to GDP growth, percentage point change compared to same period in previous year</td></tr>\n",
       "\t<tr><td>UNIT</td><td>PD15_EUR    </td><td>Price index (implicit deflator), 2015=100, euro                                             </td></tr>\n",
       "\t<tr><td>UNIT</td><td>PD10_EUR    </td><td>Price index (implicit deflator), 2010=100, euro                                             </td></tr>\n",
       "\t<tr><td>UNIT</td><td>PD05_EUR    </td><td>Price index (implicit deflator), 2005=100, euro                                             </td></tr>\n",
       "\t<tr><td>UNIT</td><td>PD15_NAC    </td><td>Price index (implicit deflator), 2015=100, national currency                                </td></tr>\n",
       "\t<tr><td>...</td><td>...</td><td>...</td></tr>\n",
       "\t<tr><td>GEO       </td><td>SI</td><td>Slovenia                                                         </td></tr>\n",
       "\t<tr><td>GEO       </td><td>SK</td><td>Slovakia                                                         </td></tr>\n",
       "\t<tr><td>GEO       </td><td>FI</td><td>Finland                                                          </td></tr>\n",
       "\t<tr><td>GEO       </td><td>SE</td><td>Sweden                                                           </td></tr>\n",
       "\t<tr><td>GEO       </td><td>UK</td><td>United Kingdom                                                   </td></tr>\n",
       "\t<tr><td>GEO       </td><td>IS</td><td>Iceland                                                          </td></tr>\n",
       "\t<tr><td>GEO       </td><td>NO</td><td>Norway                                                           </td></tr>\n",
       "\t<tr><td>GEO       </td><td>CH</td><td>Switzerland                                                      </td></tr>\n",
       "\t<tr><td>GEO       </td><td>ME</td><td>Montenegro                                                       </td></tr>\n",
       "\t<tr><td>GEO       </td><td>MK</td><td>North Macedonia                                                  </td></tr>\n",
       "\t<tr><td>GEO       </td><td>AL</td><td>Albania                                                          </td></tr>\n",
       "\t<tr><td>GEO       </td><td>RS</td><td>Serbia                                                           </td></tr>\n",
       "\t<tr><td>GEO       </td><td>TR</td><td>Turkey                                                           </td></tr>\n",
       "\t<tr><td>GEO       </td><td>BA</td><td>Bosnia and Herzegovina                                           </td></tr>\n",
       "\t<tr><td>GEO       </td><td>XK</td><td>Kosovo (under United Nations Security Council Resolution 1244/99)</td></tr>\n",
       "\t<tr><td>OBS_FLAG  </td><td>f </td><td>forecast                                                         </td></tr>\n",
       "\t<tr><td>OBS_FLAG  </td><td>u </td><td>low reliability                                                  </td></tr>\n",
       "\t<tr><td>OBS_FLAG  </td><td>d </td><td>definition differs, see metadata                                 </td></tr>\n",
       "\t<tr><td>OBS_FLAG  </td><td>e </td><td>estimated                                                        </td></tr>\n",
       "\t<tr><td>OBS_FLAG  </td><td>s </td><td>Eurostat estimate (phased out)                                   </td></tr>\n",
       "\t<tr><td>OBS_FLAG  </td><td>b </td><td>break in time series                                             </td></tr>\n",
       "\t<tr><td>OBS_FLAG  </td><td>r </td><td>revised                                                          </td></tr>\n",
       "\t<tr><td>OBS_FLAG  </td><td>c </td><td>confidential                                                     </td></tr>\n",
       "\t<tr><td>OBS_FLAG  </td><td>p </td><td>provisional                                                      </td></tr>\n",
       "\t<tr><td>OBS_FLAG  </td><td>n </td><td>not significant                                                  </td></tr>\n",
       "\t<tr><td>OBS_FLAG  </td><td>z </td><td>not applicable                                                   </td></tr>\n",
       "\t<tr><td>OBS_FLAG  </td><td>i </td><td>see metadata (phased out)                                        </td></tr>\n",
       "\t<tr><td>OBS_STATUS</td><td>na</td><td>not available                                                    </td></tr>\n",
       "\t<tr><td>OBS_STATUS</td><td>- </td><td>not applicable or real zero or zero by default                   </td></tr>\n",
       "\t<tr><td>OBS_STATUS</td><td>0 </td><td>less than half of the unit used                                  </td></tr>\n",
       "</tbody>\n",
       "</table>\n"
      ],
      "text/latex": [
       "A data.frame: 138 × 3\n",
       "\\begin{tabular}{lll}\n",
       " concept & code & name\\\\\n",
       " <chr> & <chr> & <chr>\\\\\n",
       "\\hline\n",
       "\t FREQ & D            & Daily                                                                                       \\\\\n",
       "\t FREQ & W            & Weekly                                                                                      \\\\\n",
       "\t FREQ & Q            & Quarterly                                                                                   \\\\\n",
       "\t FREQ & A            & Annual                                                                                      \\\\\n",
       "\t FREQ & S            & Semi-annual                                                                                 \\\\\n",
       "\t FREQ & M            & Monthly                                                                                     \\\\\n",
       "\t FREQ & H            & Half-year                                                                                   \\\\\n",
       "\t UNIT & CLV\\_I15      & Chain linked volumes, index 2015=100                                                        \\\\\n",
       "\t UNIT & CLV\\_I10      & Chain linked volumes, index 2010=100                                                        \\\\\n",
       "\t UNIT & CLV\\_I05      & Chain linked volumes, index 2005=100                                                        \\\\\n",
       "\t UNIT & PC\\_GDP       & Percentage of gross domestic product (GDP)                                                  \\\\\n",
       "\t UNIT & CP\\_MEUR      & Current prices, million euro                                                                \\\\\n",
       "\t UNIT & CP\\_MNAC      & Current prices, million units of national currency                                          \\\\\n",
       "\t UNIT & CLV15\\_MEUR   & Chain linked volumes (2015), million euro                                                   \\\\\n",
       "\t UNIT & CLV10\\_MEUR   & Chain linked volumes (2010), million euro                                                   \\\\\n",
       "\t UNIT & CLV05\\_MEUR   & Chain linked volumes (2005), million euro                                                   \\\\\n",
       "\t UNIT & CLV15\\_MNAC   & Chain linked volumes (2015), million units of national currency                             \\\\\n",
       "\t UNIT & CLV10\\_MNAC   & Chain linked volumes (2010), million units of national currency                             \\\\\n",
       "\t UNIT & CLV05\\_MNAC   & Chain linked volumes (2005), million units of national currency                             \\\\\n",
       "\t UNIT & CLV\\_PCH\\_PRE  & Chain linked volumes, percentage change on previous period                                  \\\\\n",
       "\t UNIT & CLV\\_PCH\\_SM   & Chain linked volumes, percentage change compared to same period in previous year            \\\\\n",
       "\t UNIT & CLV\\_PCH\\_ANN  & Chain linked volumes, annualized percentage change on previous period                       \\\\\n",
       "\t UNIT & PYP\\_MEUR     & Previous year prices, million euro                                                          \\\\\n",
       "\t UNIT & PYP\\_MNAC     & Previous year prices, million units of national currency                                    \\\\\n",
       "\t UNIT & CON\\_PPCH\\_PRE & Contribution to GDP growth, percentage point change on previous period                      \\\\\n",
       "\t UNIT & CON\\_PPCH\\_SM  & Contribution to GDP growth, percentage point change compared to same period in previous year\\\\\n",
       "\t UNIT & PD15\\_EUR     & Price index (implicit deflator), 2015=100, euro                                             \\\\\n",
       "\t UNIT & PD10\\_EUR     & Price index (implicit deflator), 2010=100, euro                                             \\\\\n",
       "\t UNIT & PD05\\_EUR     & Price index (implicit deflator), 2005=100, euro                                             \\\\\n",
       "\t UNIT & PD15\\_NAC     & Price index (implicit deflator), 2015=100, national currency                                \\\\\n",
       "\t ... & ... & ...\\\\\n",
       "\t GEO        & SI & Slovenia                                                         \\\\\n",
       "\t GEO        & SK & Slovakia                                                         \\\\\n",
       "\t GEO        & FI & Finland                                                          \\\\\n",
       "\t GEO        & SE & Sweden                                                           \\\\\n",
       "\t GEO        & UK & United Kingdom                                                   \\\\\n",
       "\t GEO        & IS & Iceland                                                          \\\\\n",
       "\t GEO        & NO & Norway                                                           \\\\\n",
       "\t GEO        & CH & Switzerland                                                      \\\\\n",
       "\t GEO        & ME & Montenegro                                                       \\\\\n",
       "\t GEO        & MK & North Macedonia                                                  \\\\\n",
       "\t GEO        & AL & Albania                                                          \\\\\n",
       "\t GEO        & RS & Serbia                                                           \\\\\n",
       "\t GEO        & TR & Turkey                                                           \\\\\n",
       "\t GEO        & BA & Bosnia and Herzegovina                                           \\\\\n",
       "\t GEO        & XK & Kosovo (under United Nations Security Council Resolution 1244/99)\\\\\n",
       "\t OBS\\_FLAG   & f  & forecast                                                         \\\\\n",
       "\t OBS\\_FLAG   & u  & low reliability                                                  \\\\\n",
       "\t OBS\\_FLAG   & d  & definition differs, see metadata                                 \\\\\n",
       "\t OBS\\_FLAG   & e  & estimated                                                        \\\\\n",
       "\t OBS\\_FLAG   & s  & Eurostat estimate (phased out)                                   \\\\\n",
       "\t OBS\\_FLAG   & b  & break in time series                                             \\\\\n",
       "\t OBS\\_FLAG   & r  & revised                                                          \\\\\n",
       "\t OBS\\_FLAG   & c  & confidential                                                     \\\\\n",
       "\t OBS\\_FLAG   & p  & provisional                                                      \\\\\n",
       "\t OBS\\_FLAG   & n  & not significant                                                  \\\\\n",
       "\t OBS\\_FLAG   & z  & not applicable                                                   \\\\\n",
       "\t OBS\\_FLAG   & i  & see metadata (phased out)                                        \\\\\n",
       "\t OBS\\_STATUS & na & not available                                                    \\\\\n",
       "\t OBS\\_STATUS & -  & not applicable or real zero or zero by default                   \\\\\n",
       "\t OBS\\_STATUS & 0  & less than half of the unit used                                  \\\\\n",
       "\\end{tabular}\n"
      ],
      "text/markdown": [
       "\n",
       "A data.frame: 138 × 3\n",
       "\n",
       "| concept &lt;chr&gt; | code &lt;chr&gt; | name &lt;chr&gt; |\n",
       "|---|---|---|\n",
       "| FREQ | D            | Daily                                                                                        |\n",
       "| FREQ | W            | Weekly                                                                                       |\n",
       "| FREQ | Q            | Quarterly                                                                                    |\n",
       "| FREQ | A            | Annual                                                                                       |\n",
       "| FREQ | S            | Semi-annual                                                                                  |\n",
       "| FREQ | M            | Monthly                                                                                      |\n",
       "| FREQ | H            | Half-year                                                                                    |\n",
       "| UNIT | CLV_I15      | Chain linked volumes, index 2015=100                                                         |\n",
       "| UNIT | CLV_I10      | Chain linked volumes, index 2010=100                                                         |\n",
       "| UNIT | CLV_I05      | Chain linked volumes, index 2005=100                                                         |\n",
       "| UNIT | PC_GDP       | Percentage of gross domestic product (GDP)                                                   |\n",
       "| UNIT | CP_MEUR      | Current prices, million euro                                                                 |\n",
       "| UNIT | CP_MNAC      | Current prices, million units of national currency                                           |\n",
       "| UNIT | CLV15_MEUR   | Chain linked volumes (2015), million euro                                                    |\n",
       "| UNIT | CLV10_MEUR   | Chain linked volumes (2010), million euro                                                    |\n",
       "| UNIT | CLV05_MEUR   | Chain linked volumes (2005), million euro                                                    |\n",
       "| UNIT | CLV15_MNAC   | Chain linked volumes (2015), million units of national currency                              |\n",
       "| UNIT | CLV10_MNAC   | Chain linked volumes (2010), million units of national currency                              |\n",
       "| UNIT | CLV05_MNAC   | Chain linked volumes (2005), million units of national currency                              |\n",
       "| UNIT | CLV_PCH_PRE  | Chain linked volumes, percentage change on previous period                                   |\n",
       "| UNIT | CLV_PCH_SM   | Chain linked volumes, percentage change compared to same period in previous year             |\n",
       "| UNIT | CLV_PCH_ANN  | Chain linked volumes, annualized percentage change on previous period                        |\n",
       "| UNIT | PYP_MEUR     | Previous year prices, million euro                                                           |\n",
       "| UNIT | PYP_MNAC     | Previous year prices, million units of national currency                                     |\n",
       "| UNIT | CON_PPCH_PRE | Contribution to GDP growth, percentage point change on previous period                       |\n",
       "| UNIT | CON_PPCH_SM  | Contribution to GDP growth, percentage point change compared to same period in previous year |\n",
       "| UNIT | PD15_EUR     | Price index (implicit deflator), 2015=100, euro                                              |\n",
       "| UNIT | PD10_EUR     | Price index (implicit deflator), 2010=100, euro                                              |\n",
       "| UNIT | PD05_EUR     | Price index (implicit deflator), 2005=100, euro                                              |\n",
       "| UNIT | PD15_NAC     | Price index (implicit deflator), 2015=100, national currency                                 |\n",
       "| ... | ... | ... |\n",
       "| GEO        | SI | Slovenia                                                          |\n",
       "| GEO        | SK | Slovakia                                                          |\n",
       "| GEO        | FI | Finland                                                           |\n",
       "| GEO        | SE | Sweden                                                            |\n",
       "| GEO        | UK | United Kingdom                                                    |\n",
       "| GEO        | IS | Iceland                                                           |\n",
       "| GEO        | NO | Norway                                                            |\n",
       "| GEO        | CH | Switzerland                                                       |\n",
       "| GEO        | ME | Montenegro                                                        |\n",
       "| GEO        | MK | North Macedonia                                                   |\n",
       "| GEO        | AL | Albania                                                           |\n",
       "| GEO        | RS | Serbia                                                            |\n",
       "| GEO        | TR | Turkey                                                            |\n",
       "| GEO        | BA | Bosnia and Herzegovina                                            |\n",
       "| GEO        | XK | Kosovo (under United Nations Security Council Resolution 1244/99) |\n",
       "| OBS_FLAG   | f  | forecast                                                          |\n",
       "| OBS_FLAG   | u  | low reliability                                                   |\n",
       "| OBS_FLAG   | d  | definition differs, see metadata                                  |\n",
       "| OBS_FLAG   | e  | estimated                                                         |\n",
       "| OBS_FLAG   | s  | Eurostat estimate (phased out)                                    |\n",
       "| OBS_FLAG   | b  | break in time series                                              |\n",
       "| OBS_FLAG   | r  | revised                                                           |\n",
       "| OBS_FLAG   | c  | confidential                                                      |\n",
       "| OBS_FLAG   | p  | provisional                                                       |\n",
       "| OBS_FLAG   | n  | not significant                                                   |\n",
       "| OBS_FLAG   | z  | not applicable                                                    |\n",
       "| OBS_FLAG   | i  | see metadata (phased out)                                         |\n",
       "| OBS_STATUS | na | not available                                                     |\n",
       "| OBS_STATUS | -  | not applicable or real zero or zero by default                    |\n",
       "| OBS_STATUS | 0  | less than half of the unit used                                   |\n",
       "\n"
      ],
      "text/plain": [
       "    concept    code        \n",
       "1   FREQ       D           \n",
       "2   FREQ       W           \n",
       "3   FREQ       Q           \n",
       "4   FREQ       A           \n",
       "5   FREQ       S           \n",
       "6   FREQ       M           \n",
       "7   FREQ       H           \n",
       "8   UNIT       CLV_I15     \n",
       "9   UNIT       CLV_I10     \n",
       "10  UNIT       CLV_I05     \n",
       "11  UNIT       PC_GDP      \n",
       "12  UNIT       CP_MEUR     \n",
       "13  UNIT       CP_MNAC     \n",
       "14  UNIT       CLV15_MEUR  \n",
       "15  UNIT       CLV10_MEUR  \n",
       "16  UNIT       CLV05_MEUR  \n",
       "17  UNIT       CLV15_MNAC  \n",
       "18  UNIT       CLV10_MNAC  \n",
       "19  UNIT       CLV05_MNAC  \n",
       "20  UNIT       CLV_PCH_PRE \n",
       "21  UNIT       CLV_PCH_SM  \n",
       "22  UNIT       CLV_PCH_ANN \n",
       "23  UNIT       PYP_MEUR    \n",
       "24  UNIT       PYP_MNAC    \n",
       "25  UNIT       CON_PPCH_PRE\n",
       "26  UNIT       CON_PPCH_SM \n",
       "27  UNIT       PD15_EUR    \n",
       "28  UNIT       PD10_EUR    \n",
       "29  UNIT       PD05_EUR    \n",
       "30  UNIT       PD15_NAC    \n",
       "... ...        ...         \n",
       "109 GEO        SI          \n",
       "110 GEO        SK          \n",
       "111 GEO        FI          \n",
       "112 GEO        SE          \n",
       "113 GEO        UK          \n",
       "114 GEO        IS          \n",
       "115 GEO        NO          \n",
       "116 GEO        CH          \n",
       "117 GEO        ME          \n",
       "118 GEO        MK          \n",
       "119 GEO        AL          \n",
       "120 GEO        RS          \n",
       "121 GEO        TR          \n",
       "122 GEO        BA          \n",
       "123 GEO        XK          \n",
       "124 OBS_FLAG   f           \n",
       "125 OBS_FLAG   u           \n",
       "126 OBS_FLAG   d           \n",
       "127 OBS_FLAG   e           \n",
       "128 OBS_FLAG   s           \n",
       "129 OBS_FLAG   b           \n",
       "130 OBS_FLAG   r           \n",
       "131 OBS_FLAG   c           \n",
       "132 OBS_FLAG   p           \n",
       "133 OBS_FLAG   n           \n",
       "134 OBS_FLAG   z           \n",
       "135 OBS_FLAG   i           \n",
       "136 OBS_STATUS na          \n",
       "137 OBS_STATUS -           \n",
       "138 OBS_STATUS 0           \n",
       "    name                                                                                        \n",
       "1   Daily                                                                                       \n",
       "2   Weekly                                                                                      \n",
       "3   Quarterly                                                                                   \n",
       "4   Annual                                                                                      \n",
       "5   Semi-annual                                                                                 \n",
       "6   Monthly                                                                                     \n",
       "7   Half-year                                                                                   \n",
       "8   Chain linked volumes, index 2015=100                                                        \n",
       "9   Chain linked volumes, index 2010=100                                                        \n",
       "10  Chain linked volumes, index 2005=100                                                        \n",
       "11  Percentage of gross domestic product (GDP)                                                  \n",
       "12  Current prices, million euro                                                                \n",
       "13  Current prices, million units of national currency                                          \n",
       "14  Chain linked volumes (2015), million euro                                                   \n",
       "15  Chain linked volumes (2010), million euro                                                   \n",
       "16  Chain linked volumes (2005), million euro                                                   \n",
       "17  Chain linked volumes (2015), million units of national currency                             \n",
       "18  Chain linked volumes (2010), million units of national currency                             \n",
       "19  Chain linked volumes (2005), million units of national currency                             \n",
       "20  Chain linked volumes, percentage change on previous period                                  \n",
       "21  Chain linked volumes, percentage change compared to same period in previous year            \n",
       "22  Chain linked volumes, annualized percentage change on previous period                       \n",
       "23  Previous year prices, million euro                                                          \n",
       "24  Previous year prices, million units of national currency                                    \n",
       "25  Contribution to GDP growth, percentage point change on previous period                      \n",
       "26  Contribution to GDP growth, percentage point change compared to same period in previous year\n",
       "27  Price index (implicit deflator), 2015=100, euro                                             \n",
       "28  Price index (implicit deflator), 2010=100, euro                                             \n",
       "29  Price index (implicit deflator), 2005=100, euro                                             \n",
       "30  Price index (implicit deflator), 2015=100, national currency                                \n",
       "... ...                                                                                         \n",
       "109 Slovenia                                                                                    \n",
       "110 Slovakia                                                                                    \n",
       "111 Finland                                                                                     \n",
       "112 Sweden                                                                                      \n",
       "113 United Kingdom                                                                              \n",
       "114 Iceland                                                                                     \n",
       "115 Norway                                                                                      \n",
       "116 Switzerland                                                                                 \n",
       "117 Montenegro                                                                                  \n",
       "118 North Macedonia                                                                             \n",
       "119 Albania                                                                                     \n",
       "120 Serbia                                                                                      \n",
       "121 Turkey                                                                                      \n",
       "122 Bosnia and Herzegovina                                                                      \n",
       "123 Kosovo (under United Nations Security Council Resolution 1244/99)                           \n",
       "124 forecast                                                                                    \n",
       "125 low reliability                                                                             \n",
       "126 definition differs, see metadata                                                            \n",
       "127 estimated                                                                                   \n",
       "128 Eurostat estimate (phased out)                                                              \n",
       "129 break in time series                                                                        \n",
       "130 revised                                                                                     \n",
       "131 confidential                                                                                \n",
       "132 provisional                                                                                 \n",
       "133 not significant                                                                             \n",
       "134 not applicable                                                                              \n",
       "135 see metadata (phased out)                                                                   \n",
       "136 not available                                                                               \n",
       "137 not applicable or real zero or zero by default                                              \n",
       "138 less than half of the unit used                                                             "
      ]
     },
     "metadata": {},
     "output_type": "display_data"
    }
   ],
   "source": [
    "assign(\"dmethod\",\"curl\",envir=.restatapi_env) \n",
    "get_eurostat_dsd(\"namq_10_gdp\",verbose=TRUE)\n",
    "#assign(\"dmethod\",\"auto\",envir=.restatapi_env) \n",
    "#get_eurostat_dsd(\"namq_10_gdp\",verbose=TRUE)\n",
    "#assign(\"dmethod\",\"wininet\",envir=.restatapi_env) \n",
    "#get_eurostat_dsd(\"namq_10_gdp\",verbose=TRUE)\n"
   ]
  },
  {
   "cell_type": "code",
   "execution_count": 26,
   "metadata": {
    "scrolled": false
   },
   "outputs": [
    {
     "data": {
      "image/png": "[encoded data removed]",
      "text/plain": [
       "Plot with title \"GDP and employment growth rates, \n",
       " %change over the previous quarter, \n",
       " based on seasonally adjusted data, 2020Q1\""
      ]
     },
     "metadata": {},
     "output_type": "display_data"
    }
   ],
   "source": [
    "geo_code <- c(\"EA19\",\"EU27_2020\",\"FR\",\"IT\",\"ES\",\"SK\",\"SI\",\"PT\",\"EE\",\"BE\",\"CZ\",\"LV\",\"LU\",\n",
    "              \"AT\",\"MT\",\"DE\",\"DK\",\"FI\",\"EL\",\"NL\",\"CY\",\"HR\",\"HU\",\"PL\",\"LT\",\"SE\",\"BG\",\"RO\",\"IE\")\n",
    "\n",
    "dt_GDP <- get_eurostat_data(\"namq_10_gdp\", filters=list(s_adj=c(\"SCA\",\"SA\"), UNIT=\"CLV_PCH_PRE\",\n",
    "                            na_item=\"B1GQ\", GEO=geo_code), date_filter=\"2020:2020-03\",\n",
    "                            select_freq=\"Q\", label=TRUE) \n",
    "dt_EMP <- get_eurostat_data(\"namq_10_a10_e\", filters=list(s_adj=c(\"SCA\",\"SA\"), UNIT=\"PCH_PRE_PER\",\n",
    "                            na_item=\"EMP_DC\", GEO=geo_code, nace_r2 = \"TOTAL\"),date_filter=\"2020:2020-03\",\n",
    "                            select_freq=\"Q\", label=TRUE)\n",
    "\n",
    "dt1 <- merge(dt_GDP[,c(4,6)], dt_EMP[,c(5,7)], by = \"geo\")\n",
    "dt1[c(6,8,12),1] <- c(\"Germany\",\"EA19\",\"EU27\")\n",
    "dt1 <- as.matrix(dt1[,-1], rownames = dt1$geo)\n",
    "dt1 <- dt1[order(dt1[,1]),]\n",
    "dt2 <- rbind(dt1[c(8,11),],0,dt1[c(-8-11),])\n",
    "\n",
    "\n",
    "nf <- layout(matrix(c(1,2),ncol=1, byrow=TRUE), widths=c(6,6), heights=c(2,1))\n",
    "par(bg = '#BFD5E3')\n",
    "\n",
    "barplot(t(dt1), las = 2, beside = T, col = c(2,3), main = \"GDP and employment growth rates, \\n %change over the previous quarter, \\n based on seasonally adjusted data, 2020Q1\")\n",
    "legend(\"bottomright\", legend =c(\"GDP\",\"Employment\"), fill = c(2,3), box.lty = 1, cex = 0.8)\n",
    "\n",
    "plot(c(0, 1), c(0, 1), ann = F, bty = 'n', type = 'n', xaxt = 'n', yaxt = 'n')\n",
    "text(x = 0.5, y = 0.5, paste(\"Source: Eurostat (online data code: namq_10_gdp, namq_10_a10_e)\"), cex = 1, col = \"black\", adj=0.5)\n",
    "\n"
   ]
  },
  {
   "cell_type": "markdown",
   "metadata": {},
   "source": [
    "# Quarterly GDP growth\n"
   ]
  },
  {
   "cell_type": "code",
   "execution_count": 27,
   "metadata": {},
   "outputs": [
    {
     "name": "stderr",
     "output_type": "stream",
     "text": [
      "No data retrieved for the given filter(s), because the results are too big to download immediately through the REST API. The whole dataset is downloaded through the raw download and the filters are applied locally.\n",
      "The file download was not successful. Try again later.\n"
     ]
    },
    {
     "ename": "ERROR",
     "evalue": "Error in data.table::setnames(raw_data, colnames(raw_data), toupper(colnames(raw_data))): x is not a data.table or data.frame\n",
     "output_type": "error",
     "traceback": [
      "Error in data.table::setnames(raw_data, colnames(raw_data), toupper(colnames(raw_data))): x is not a data.table or data.frame\nTraceback:\n",
      "1. get_eurostat_data(\"namq_10_gdp\", filters = list(currency = \"MIO_EUR\", \n .     partner = \"EXT_EU28\", geo = c(\"EU28\"), stk_flow = \"BAL\"), \n .     date_filter = \"2007:2020\", select_freq = \"Q\", label = TRUE, \n .     name = FALSE, ignore.case = TRUE)",
      "2. filter_raw_data(restat_raw, ft)",
      "3. data.table::setnames(raw_data, colnames(raw_data), toupper(colnames(raw_data)))",
      "4. stop(\"x is not a data.table or data.frame\")"
     ]
    }
   ],
   "source": [
    "# Read the data\n",
    "dt <-get_eurostat_data(\"namq_10_gdp\", filters=list(currency=\"MIO_EUR\",\n",
    "                                                partner=\"EXT_EU28\", geo=c(\"EU28\"),\n",
    "                                                stk_flow=\"BAL\"), date_filter=\"2007:2020\",\n",
    "                                                select_freq=\"Q\", label=TRUE, name=FALSE, ignore.case=TRUE)\n",
    "\n",
    "\n",
    "#GDP_EU27_EA19 <- read.csv(\"~/Eurostatdataset/namq_10_gdp_1_Data.csv\") # GDP of EU27 and EA19 2007Q4-2020Q2\n",
    "#GDP_Unit_Stat <- read.csv(\"~/Eurostatdataset/naidq_10_gdp_1_Data.csv\")# GDP of United States 2007Q4-2020Q2\n",
    "#GDP_df <- data.frame(GDP_EU27_EA19[,-1], GDP_Unit_Stat)               # Merge GDP files in a data frame\n",
    "#GDP_TS <- ts(GDP_df[,-3], start = c(2007, 4), frequency = 4)          # Define data as time series\n",
    "#GDP_Growth_Rate <- ((GDP_TS-lag(GDP_TS,-1))/lag(GDP_TS,-1))*100       # Calculate the quarterly growth rate\n",
    "#colnames(GDP_Growth_Rate) <- c(\"EU27\",\"EA19\",\"United States\")         # change the names\n",
    "\n",
    "#par(bg = 'gray')\n",
    "#plot(GDP_Growth_Rate[,1], ylim=c(-4,2))\n",
    "#lines(GDP_Growth_Rate[,2], col=2)\n",
    "#lines(GDP_Growth_Rate[,3], col=4)\n",
    "\n",
    "Date_var <- seq(as.Date(\"2008/1/1\"), as.Date(\"2020/6/1\"), by = \"quarter\")\n",
    "GDP_Growth_Rate <- data.frame(GDP_Growth_Rate,Date_var)\n",
    "#GDP_Growth_Rate"
   ]
  },
  {
   "cell_type": "code",
   "execution_count": 13,
   "metadata": {},
   "outputs": [],
   "source": [
    "Stacked_data <- data.frame(GDP_Growth_Rate[4], stack(GDP_Growth_Rate[1:3]))"
   ]
  },
  {
   "cell_type": "code",
   "execution_count": 62,
   "metadata": {},
   "outputs": [
    {
     "data": {
      "image/png": "[encoded data removed]",
      "text/plain": [
       "plot without title"
      ]
     },
     "metadata": {},
     "output_type": "display_data"
    }
   ],
   "source": [
    "# Multiple line plot\n",
    "p <- ggplot(Stacked_data, aes(x = Date_var, y = values)) + \n",
    "  geom_line(aes(color = ind), size = 1.3) +\n",
    "  scale_color_manual(values = c(\"blue\", \"#E7B800\", \"#FC4E07\")) +\n",
    "  theme_minimal()\n",
    "p <- p + theme(legend.position=\"bottom\")+ \n",
    "         theme(legend.title = element_blank())\n",
    "\n",
    "# Add horizontal line at y = 0\n",
    "p <- p + geom_hline(yintercept=0, color = \"black\", size=1)\n",
    "p <- p + theme(plot.background = element_rect(fill = \"#BFD5E3\"))\n",
    "\n",
    "p + ggtitle(\"GDP growth rates, % change over the previous quarter,\\n based on seasonally adjusted data, 2020Q2\") +\n",
    "  xlab(\"Time\") + ylab(\" \")"
   ]
  },
  {
   "cell_type": "markdown",
   "metadata": {},
   "source": [
    "Don't forget to explain what you are doing..."
   ]
  },
  {
   "cell_type": "markdown",
   "metadata": {},
   "source": [
    "# GDP growth by Member State"
   ]
  },
  {
   "cell_type": "code",
   "execution_count": 74,
   "metadata": {},
   "outputs": [
    {
     "data": {
      "image/png": "[encoded data removed]",
      "text/plain": [
       "Plot with title \" GDP growth rates, % change over the previous quarter,\n",
       " based on seasonally adjusted data, 2020Q1\""
      ]
     },
     "metadata": {},
     "output_type": "display_data"
    }
   ],
   "source": [
    "library(magick)\n",
    "# logo <- image_read(\"https://ec.europa.eu/eurostat/statistics-explained/images/0/09/Logo_RGB-POS.png\")\n",
    "GR_Data_GDP <- as.matrix(GR_Data[1,1:ncol(GR_Data)])\n",
    "par(bg = '#BFD5E3')\n",
    "nf <- layout(matrix(c(1,2),ncol=1, byrow=TRUE), widths=c(6,6), heights=c(2,1))\n",
    "#par(pin=c(6,3))\n",
    "barplot(t(GR_Data_GDP), las = 2, col = 2, main = \" GDP growth rates, % change over the previous quarter,\\n based on seasonally adjusted data, 2020Q1\")\n",
    "plot(c(0, 1), c(0, 1), ann = F, bty = 'n', type = 'n', xaxt = 'n', yaxt = 'n')\n",
    "text(x = 0.5, y = 0.5, paste(\"Source: Eurostat (online data code: namq_10_gdp)\"), cex = 1, col = \"black\", adj=0.7)\n"
   ]
  },
  {
   "cell_type": "markdown",
   "metadata": {},
   "source": [
    "# GDP components and contributions to growth"
   ]
  },
  {
   "cell_type": "code",
   "execution_count": 59,
   "metadata": {},
   "outputs": [
    {
     "data": {
      "image/png": "[encoded data removed]",
      "text/plain": [
       "plot without title"
      ]
     },
     "metadata": {},
     "output_type": "display_data"
    }
   ],
   "source": [
    "GDP_comp <- read.csv(\"~/Eurostatdataset/Figure 3/namq_10_gdp_1_Data.csv\") # EMP of EU27 and EA19 2007Q4-2020Q2\n",
    "\n",
    "GDP_GR <- GDP_comp[which(GDP_comp$NA_ITEM == \"Gross domestic product at market prices\"), ]\n",
    "GDP_comp_EU27 <- GDP_comp[which(GDP_comp$NA_ITEM != \"Gross domestic product at market prices\"), ]\n",
    "\n",
    "p <- ggplot(data=GDP_comp_EU27, aes(x=TIME, y=Value, fill=NA_ITEM)) +\n",
    "  geom_bar(stat=\"identity\")+\n",
    "  scale_fill_brewer(palette=\"Paired\")+\n",
    "  theme_minimal()\n",
    "p <- p + theme(legend.position=c(0.3, 0.1))+ \n",
    "         theme(legend.title = element_blank())\n",
    "p <- p + facet_grid(. ~ GEO)\n",
    "\n",
    "#p <- p + geom_hline(yintercept=0, color = \"black\", size=1)\n",
    "p + theme(plot.background = element_rect(fill = \"gray90\"))"
   ]
  },
  {
   "cell_type": "markdown",
   "metadata": {},
   "source": [
    "# Quarterly employment growth"
   ]
  },
  {
   "cell_type": "code",
   "execution_count": 35,
   "metadata": {},
   "outputs": [
    {
     "data": {
      "image/png": "[encoded data removed]",
      "text/plain": [
       "plot without title"
      ]
     },
     "metadata": {},
     "output_type": "display_data"
    }
   ],
   "source": [
    "EMP_EU27_EA19 <- read.csv(\"~/Eurostatdataset/namq_10_a10_e_1_Data.csv\") # EMP of EU27 and EA19 2007Q4-2020Q2\n",
    "EMP_EU27_EA19$Series[EMP_EU27_EA19$GEO == \"European Union - 27 countries (from 2020)\" & EMP_EU27_EA19$UNIT == \"Percentage change on previous period (based on persons)\"] <- \"EU27 pers\"\n",
    "EMP_EU27_EA19$Series[EMP_EU27_EA19$GEO == \"European Union - 27 countries (from 2020)\" & EMP_EU27_EA19$UNIT == \"Percentage change on previous period (based on hours worked)\"] <- \"EU27 hrs\"\n",
    "EMP_EU27_EA19$Series[EMP_EU27_EA19$GEO == \"Euro area - 19 countries  (from 2015)\" & EMP_EU27_EA19$UNIT == \"Percentage change on previous period (based on persons)\"] <- \"EA19 pers\"\n",
    "EMP_EU27_EA19$Series[EMP_EU27_EA19$GEO == \"Euro area - 19 countries  (from 2015)\" & EMP_EU27_EA19$UNIT == \"Percentage change on previous period (based on hours worked)\"] <- \"EA19 hrs\"\n",
    "EMP_EU27_EA19 <- EMP_EU27_EA19[,-c(2,3)]\n",
    "unstacked_data <- data.frame(unstack(EMP_EU27_EA19[,c(2,3)]))\n",
    "Date_var <- seq(as.Date(\"2008/1/1\"), as.Date(\"2020/3/1\"), by = \"quarter\")\n",
    "unstacked_data <- data.frame(unstacked_data, Date_var)\n",
    "\n",
    "restacked_data <- data.frame(unstacked_data[5], stack(unstacked_data[1:4]))\n",
    "# Multiple line plot\n",
    "p <- ggplot(restacked_data, aes(x = Date_var, y = values)) + \n",
    "  geom_line(aes(color = ind), size = 1.3) +\n",
    "  scale_color_manual(values = c(\"blue\", \"darkgreen\", \"tan3\", \"red\")) +\n",
    "  theme_minimal()\n",
    "p <- p + theme(legend.position=\"bottom\")+ \n",
    "         theme(legend.title = element_blank())\n",
    "\n",
    "# Add horizontal line at y = 0\n",
    "p <- p + geom_hline(yintercept=0, color = \"black\", size=1)\n",
    "p <- p + theme(plot.background = element_rect(fill = \"#BFD5E3\"))\n",
    "\n",
    "p + ggtitle(\"Growth of employment in persons and hours worked,\\n % change over the previous quarter,\\n based on seasonally adjusted data, 2020Q1\") +\n",
    "  xlab(\"Time\") + ylab(\" \")\n"
   ]
  },
  {
   "cell_type": "markdown",
   "metadata": {},
   "source": [
    "# Employment growth by Member State"
   ]
  },
  {
   "cell_type": "markdown",
   "metadata": {},
   "source": [
    "# Employment levels"
   ]
  },
  {
   "cell_type": "markdown",
   "metadata": {},
   "source": [
    "# Labour productivity"
   ]
  },
  {
   "cell_type": "code",
   "execution_count": null,
   "metadata": {},
   "outputs": [],
   "source": []
  }
 ],
 "metadata": {
  "colab": {
   "name": "eu_int_trade_transport_R.ipynb",
   "provenance": []
  },
  "kernelspec": {
   "display_name": "R",
   "language": "R",
   "name": "ir"
  },
  "language_info": {
   "codemirror_mode": "r",
   "file_extension": ".r",
   "mimetype": "text/x-r-source",
   "name": "R",
   "pygments_lexer": "r",
   "version": "3.6.1"
  }
 },
 "nbformat": 4,
 "nbformat_minor": 1
}
