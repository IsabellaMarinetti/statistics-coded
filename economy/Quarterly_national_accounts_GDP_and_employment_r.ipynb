{
 "cells": [
  {
   "cell_type": "markdown",
   "metadata": {
    "colab_type": "text",
    "id": "sM8ZePrlR54s"
   },
   "source": [
    "##  *Statistics coded:* Quarterly national accounts - GDP and employment\n",
    "\n",
    "Prepared by [**Hatem Alharazin**](hatemjamil.89@gmail.com) (EMOS).\n",
    "\n",
    "This notebook aims at illustrating the Statistics Explained article on [Quarterly national accounts](https://ec.europa.eu/eurostat/statistics-explained/index.php?title=Quarterly_national_accounts_-_GDP_and_employment#Data_sources)."
   ]
  },
  {
   "cell_type": "markdown",
   "metadata": {},
   "source": [
    "## Setting Packages up"
   ]
  },
  {
   "cell_type": "code",
   "execution_count": 2,
   "metadata": {
    "colab": {},
    "colab_type": "code",
    "id": "eUjGK-qhR55M"
   },
   "outputs": [],
   "source": [
    "# install.packages(...)\n",
    "library(ggplot2)\n",
    "library(tseries)\n",
    "library(readxl)\n",
    "library(tidyr)\n",
    "library(dplyr)\n",
    "library(plotly)"
   ]
  },
  {
   "cell_type": "markdown",
   "metadata": {},
   "source": [
    "## GDP and Employment growth rate"
   ]
  },
  {
   "cell_type": "code",
   "execution_count": 3,
   "metadata": {
    "scrolled": false
   },
   "outputs": [
    {
     "data": {
      "image/png": "[encoded data removed]",
      "text/plain": [
       "Plot with title \"GDP and employment growth rates, \n",
       " %change over the previous quarter, \n",
       " based on seasonally adjusted data, 2020Q1\""
      ]
     },
     "metadata": {},
     "output_type": "display_data"
    }
   ],
   "source": [
    "GR_Data <- read_excel(\"~/Eurostatdataset/GDP_Emp.xlsx\", \n",
    "    sheet = \"Sheet3\")\n",
    "GR_Data <- as.matrix(GR_Data[,2:ncol(GR_Data)])\n",
    "par(bg = 'gray')\n",
    "par(pin=c(6,2))\n",
    "barplot(GR_Data, las = 2, beside = T, col = c(2,3), main = \"GDP and employment growth rates, \\n %change over the previous quarter, \\n based on seasonally adjusted data, 2020Q1\")\n",
    "legend(\"bottomright\", legend =c(\"GDP\",\"Employment\"), fill = c(2,3), box.lty = 1, cex = 0.8)\n",
    "\n",
    "#Growth_rate_data <- read.csv(\"~/Eurostatdataset/GDP_Emp.csv\")\n",
    "#p <- ggplot(data=Growth_rate_data, aes(x=name, y=value, fill=Indicator)) +\n",
    "#geom_bar(stat=\"identity\", color=\"black\", position=position_dodge())+\n",
    "#  theme_minimal()\n",
    "#p + theme(axis.text.x = element_text(angle = 90))\n",
    "\n"
   ]
  },
  {
   "cell_type": "markdown",
   "metadata": {},
   "source": [
    "# Quarterly GDP growth\n"
   ]
  },
  {
   "cell_type": "code",
   "execution_count": 14,
   "metadata": {},
   "outputs": [
    {
     "ename": "ERROR",
     "evalue": "Error: `x` must be a vector, not a ts object, do you want `stats::lag()`?\n",
     "output_type": "error",
     "traceback": [
      "Error: `x` must be a vector, not a ts object, do you want `stats::lag()`?\nTraceback:\n",
      "1. lag(GDP_TS, -1)",
      "2. bad_args(\"x\", \"must be a vector, not a ts object, do you want `stats::lag()`?\")",
      "3. glubort(fmt_args(args), ..., .envir = .envir)",
      "4. .abort(text)",
      "5. signal_abort(cnd)"
     ]
    }
   ],
   "source": [
    "GDP_EU27_EA19 <- read.csv(\"~/Eurostatdataset/namq_10_gdp_1_Data.csv\")  # GDP of EU27 and EA19 2007Q4-2020Q2\n",
    "GDP_Unit_Stat <- read.csv(\"~/Eurostatdataset/naidq_10_gdp_1_Data.csv\") # GDP of United States 2007Q4-2020Q2\n",
    "GDP_df <- data.frame(GDP_EU27_EA19[,-1], GDP_Unit_Stat)           # Merge GDP files in a data frame\n",
    "GDP_TS <- ts(GDP_df[,-3], start = c(2007, 4), frequency = 4)      # Define data as time series\n",
    "GDP_Growth_Rate <- ((GDP_TS-lag(GDP_TS,-1))/lag(GDP_TS,-1))*100         # Calculate the quarterly growth rate\n",
    "colnames(GDP_Growth_Rate) <- c(\"EU27\",\"EA19\",\"United States\")     # change the names\n",
    "\n",
    "#par(bg = 'gray')\n",
    "#plot(GDP_Growth_Rate[,1], ylim=c(-4,2))\n",
    "#lines(GDP_Growth_Rate[,2], col=2)\n",
    "#lines(GDP_Growth_Rate[,3], col=4)"
   ]
  },
  {
   "cell_type": "code",
   "execution_count": 12,
   "metadata": {},
   "outputs": [
    {
     "name": "stderr",
     "output_type": "stream",
     "text": [
      "Installing package into 'C:/Users/Hatem/Documents/R/win-library/3.6'\n",
      "(as 'lib' is unspecified)\n",
      "also installing the dependencies 'hts', 'tidyselect', 'thief', 'doParallel', 'globals', 'listenv', 'anytime', 'dplyr', 'rlang', 'vctrs', 'forecastHybrid', 'future', 'future.apply', 'tsibble'\n",
      "\n"
     ]
    },
    {
     "name": "stdout",
     "output_type": "stream",
     "text": [
      "\n",
      "  There is a binary version available but the source version is later:\n",
      "      binary source needs_compilation\n",
      "dplyr  1.0.1  1.0.2              TRUE\n",
      "\n",
      "  Binaries will be installed\n"
     ]
    },
    {
     "name": "stderr",
     "output_type": "stream",
     "text": [
      "Warning message:\n",
      "\"package 'dplyr' is in use and will not be installed\""
     ]
    },
    {
     "name": "stdout",
     "output_type": "stream",
     "text": [
      "package 'hts' successfully unpacked and MD5 sums checked\n",
      "package 'tidyselect' successfully unpacked and MD5 sums checked\n",
      "package 'thief' successfully unpacked and MD5 sums checked\n",
      "package 'doParallel' successfully unpacked and MD5 sums checked\n",
      "package 'globals' successfully unpacked and MD5 sums checked\n",
      "package 'listenv' successfully unpacked and MD5 sums checked\n",
      "package 'anytime' successfully unpacked and MD5 sums checked\n",
      "package 'rlang' successfully unpacked and MD5 sums checked\n"
     ]
    },
    {
     "name": "stderr",
     "output_type": "stream",
     "text": [
      "Warning message:\n",
      "\"cannot remove prior installation of package 'rlang'\"Warning message in file.copy(savedcopy, lib, recursive = TRUE):\n",
      "\"problem copying C:\\Users\\Hatem\\Documents\\R\\win-library\\3.6\\00LOCK\\rlang\\libs\\x64\\rlang.dll to C:\\Users\\Hatem\\Documents\\R\\win-library\\3.6\\rlang\\libs\\x64\\rlang.dll: Permission denied\"Warning message:\n",
      "\"restored 'rlang'\""
     ]
    },
    {
     "name": "stdout",
     "output_type": "stream",
     "text": [
      "package 'vctrs' successfully unpacked and MD5 sums checked\n"
     ]
    },
    {
     "name": "stderr",
     "output_type": "stream",
     "text": [
      "Warning message:\n",
      "\"cannot remove prior installation of package 'vctrs'\"Warning message in file.copy(savedcopy, lib, recursive = TRUE):\n",
      "\"problem copying C:\\Users\\Hatem\\Documents\\R\\win-library\\3.6\\00LOCK\\vctrs\\libs\\x64\\vctrs.dll to C:\\Users\\Hatem\\Documents\\R\\win-library\\3.6\\vctrs\\libs\\x64\\vctrs.dll: Permission denied\"Warning message:\n",
      "\"restored 'vctrs'\""
     ]
    },
    {
     "name": "stdout",
     "output_type": "stream",
     "text": [
      "package 'forecastHybrid' successfully unpacked and MD5 sums checked\n",
      "package 'future' successfully unpacked and MD5 sums checked\n",
      "package 'future.apply' successfully unpacked and MD5 sums checked\n",
      "package 'tsibble' successfully unpacked and MD5 sums checked\n",
      "package 'TSstudio' successfully unpacked and MD5 sums checked\n",
      "\n",
      "The downloaded binary packages are in\n",
      "\tC:\\Users\\Hatem\\AppData\\Local\\Temp\\RtmpeOLtWi\\downloaded_packages\n"
     ]
    },
    {
     "name": "stderr",
     "output_type": "stream",
     "text": [
      "Warning message:\n",
      "\"package 'TSstudio' was built under R version 3.6.3\""
     ]
    },
    {
     "ename": "ERROR",
     "evalue": "Error in stats::is.ts(ts.obj): object 'GDP_Growth_Rate' not found\n",
     "output_type": "error",
     "traceback": [
      "Error in stats::is.ts(ts.obj): object 'GDP_Growth_Rate' not found\nTraceback:\n",
      "1. ts_info(GDP_Growth_Rate)",
      "2. stats::is.ts(ts.obj)"
     ]
    }
   ],
   "source": []
  },
  {
   "cell_type": "markdown",
   "metadata": {},
   "source": [
    "Don't forget to explain what you are doing..."
   ]
  },
  {
   "cell_type": "markdown",
   "metadata": {},
   "source": [
    "### Additional material\n",
    "\n",
    "At this stage, it is up to you to extend the work presented in the notebook with further analysis/visualisation you deem relevant. "
   ]
  },
  {
   "cell_type": "code",
   "execution_count": 15,
   "metadata": {},
   "outputs": [
    {
     "ename": "ERROR",
     "evalue": "Error: `x` must be a vector, not a ts object, do you want `stats::lag()`?\n",
     "output_type": "error",
     "traceback": [
      "Error: `x` must be a vector, not a ts object, do you want `stats::lag()`?\nTraceback:\n",
      "1. lag(GDP_TS, -1)",
      "2. bad_args(\"x\", \"must be a vector, not a ts object, do you want `stats::lag()`?\")",
      "3. glubort(fmt_args(args), ..., .envir = .envir)",
      "4. .abort(text)",
      "5. signal_abort(cnd)"
     ]
    }
   ],
   "source": []
  },
  {
   "cell_type": "markdown",
   "metadata": {},
   "source": [
    "# GDP growth by Member State"
   ]
  },
  {
   "cell_type": "markdown",
   "metadata": {},
   "source": [
    "# GDP components and contributions to growth"
   ]
  },
  {
   "cell_type": "markdown",
   "metadata": {},
   "source": [
    "# Quarterly employment growth"
   ]
  },
  {
   "cell_type": "markdown",
   "metadata": {},
   "source": [
    "# Employment growth by Member State"
   ]
  },
  {
   "cell_type": "markdown",
   "metadata": {},
   "source": [
    "# Employment levels"
   ]
  },
  {
   "cell_type": "markdown",
   "metadata": {},
   "source": [
    "# Labour productivity"
   ]
  },
  {
   "cell_type": "code",
   "execution_count": null,
   "metadata": {},
   "outputs": [],
   "source": []
  }
 ],
 "metadata": {
  "colab": {
   "name": "eu_int_trade_transport_R.ipynb",
   "provenance": []
  },
  "kernelspec": {
   "display_name": "R",
   "language": "R",
   "name": "ir"
  },
  "language_info": {
   "codemirror_mode": "r",
   "file_extension": ".r",
   "mimetype": "text/x-r-source",
   "name": "R",
   "pygments_lexer": "r",
   "version": "3.6.1"
  }
 },
 "nbformat": 4,
 "nbformat_minor": 1
}
