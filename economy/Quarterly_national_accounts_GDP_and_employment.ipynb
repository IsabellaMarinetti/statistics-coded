{
 "cells": [
  {
   "cell_type": "markdown",
   "metadata": {
    "colab_type": "text",
    "id": "sM8ZePrlR54s"
   },
   "source": [
    "##  *Statistics coded:* Quarterly national accounts - GDP and employment\n",
    "\n",
    "Prepared by [**Hatem Alharazin**](hatemjamil.89@gmail.com) (EMOS).\n",
    "\n",
    "This notebook aims at illustrating the Statistics Explained article on [Quarterly national accounts](https://ec.europa.eu/eurostat/statistics-explained/index.php?title=Quarterly_national_accounts_-_GDP_and_employment#Data_sources)."
   ]
  },
  {
   "cell_type": "markdown",
   "metadata": {},
   "source": [
    "So, indeed, you can choose to create a notebook in your own language. Take into account that not all articles will be available in the language you choose, but you can still decide to \"translate\" the English source. This is left to you.\n",
    "\n",
    "Note: please indicate the name of the programming language in the name of the notebook, as well as the language of the text used in the notebook, *e.g.* using the extensions *_fr_py.ipynb* or *_de_r.ipynb*."
   ]
  },
  {
   "cell_type": "code",
   "execution_count": 16,
   "metadata": {
    "colab_type": "text",
    "id": "qlpXEpBWR541"
   },
   "outputs": [],
   "source": [
    "### Configuration\n",
    "\n",
    "## Put all libraries/packages/modules/etc... that are necessary so that you can run this notebook."
   ]
  },
  {
   "cell_type": "code",
   "execution_count": null,
   "metadata": {
    "colab": {},
    "colab_type": "code",
    "id": "eUjGK-qhR55M"
   },
   "outputs": [],
   "source": [
    "# install.packages(...)\n",
    "# library(...)\n",
    "library(ggplot2)\n",
    "library(tseries)"
   ]
  },
  {
   "cell_type": "code",
   "execution_count": 30,
   "metadata": {},
   "outputs": [
    {
     "data": {
      "image/png": "[encoded data removed]",
      "text/plain": [
       "plot without title"
      ]
     },
     "metadata": {},
     "output_type": "display_data"
    }
   ],
   "source": [
    "GDP_Growth_Rate <- c(-3.6,-3.2,-3.6,0.3,-3.4,-2,-2.2,-3.7,1.2,-1.6,-5.2,-5.3,-1.2,-5.3,-1.3,-2.9,-0.3,-2.9,-0.4,-2.3,-1.5,-2.6,-0.4,-3.8,0.3,-4.5,-5.2,-1.9,0.1)\n",
    "# Emp_Growth_Rate <- \n",
    "Country <- c(\"EA-17\", \"EU-27\", \"Belgium\",\"Bulgaria\",\"Czechia\",\"Denmark\",\"Germany\",\"Estonia\",\"Ireland\",\"Greece\",\"Spain\",\"France\",\"Croatia\",\"Italy\",\"Cyprus\",\"Lativia\",\"Lithuania\",\"Luxembourg\",\"Hungary\",\"Malta\",\"Netherlands\",\"Austria\",\"Poland\",\"Portugal\",\"Romania\",\"Slovenia\",\"Slovakia\",\"Finland\",\"Sweden\")\n",
    "\n",
    "xx <- matrix(GDP_Growth_Rate, ncol = 29, nrow = 1)\n",
    "colnames(xx) <- Country\n",
    "windows.options(width=10, height=10)\n",
    "barplot(xx, col = 2, las = 2, horiz = F)"
   ]
  },
  {
   "cell_type": "markdown",
   "metadata": {},
   "source": [
    "# Quarterly GDP growth\n",
    "\n",
    "We simply \"reproduce\" the layout of the article here: the (sub)sections of this notebook shall match the (sub)sections of the article, *e.g.* this section matches the [Population](https://ec.europa.eu/eurostat/statistics-explained/index.php?title=Statistics_on_European_cities/fr#Population) section of the *Statistics Explained* article.\n",
    "\n",
    "Note that your can insert *LaTeX* formula into your text, *e.g.*: \n",
    "$$\\int {x^n } dx = \\frac{{x^{n + 1} }}{{n + 1}}, \\quad n \\ne  - 1$$"
   ]
  },
  {
   "cell_type": "code",
   "execution_count": 3,
   "metadata": {},
   "outputs": [],
   "source": [
    "x <- c(1:100)\n"
   ]
  },
  {
   "cell_type": "markdown",
   "metadata": {},
   "source": [
    "### Conditions socio-économiques\n",
    "\n",
    "*Ibid*, the code here will help reproducing the material presented in the section [Conditions socio-économiques](https://ec.europa.eu/eurostat/statistics-explained/index.php?title=Statistics_on_European_cities/fr#Conditions_socio-.C3.A9conomiques)."
   ]
  },
  {
   "cell_type": "code",
   "execution_count": null,
   "metadata": {},
   "outputs": [],
   "source": [
    "# your code"
   ]
  },
  {
   "cell_type": "markdown",
   "metadata": {},
   "source": [
    "Don't forget to explain what you are doing..."
   ]
  },
  {
   "cell_type": "markdown",
   "metadata": {},
   "source": [
    "### Additional material\n",
    "\n",
    "At this stage, it is up to you to extend the work presented in the notebook with further analysis/visualisation you deem relevant. "
   ]
  },
  {
   "cell_type": "code",
   "execution_count": null,
   "metadata": {},
   "outputs": [],
   "source": []
  },
  {
   "cell_type": "markdown",
   "metadata": {},
   "source": [
    "# GDP growth by Member State"
   ]
  },
  {
   "cell_type": "markdown",
   "metadata": {},
   "source": [
    "# GDP components and contributions to growth"
   ]
  },
  {
   "cell_type": "markdown",
   "metadata": {},
   "source": [
    "# Quarterly employment growth"
   ]
  },
  {
   "cell_type": "markdown",
   "metadata": {},
   "source": [
    "# Employment growth by Member State"
   ]
  },
  {
   "cell_type": "markdown",
   "metadata": {},
   "source": [
    "# Employment levels"
   ]
  },
  {
   "cell_type": "markdown",
   "metadata": {},
   "source": [
    "# Labour productivity"
   ]
  },
  {
   "cell_type": "code",
   "execution_count": null,
   "metadata": {},
   "outputs": [],
   "source": []
  }
 ],
 "metadata": {
  "colab": {
   "name": "eu_int_trade_transport_R.ipynb",
   "provenance": []
  },
  "kernelspec": {
   "display_name": "R",
   "language": "R",
   "name": "ir"
  },
  "language_info": {
   "codemirror_mode": "r",
   "file_extension": ".r",
   "mimetype": "text/x-r-source",
   "name": "R",
   "pygments_lexer": "r",
   "version": "3.6.1"
  }
 },
 "nbformat": 4,
 "nbformat_minor": 1
}
