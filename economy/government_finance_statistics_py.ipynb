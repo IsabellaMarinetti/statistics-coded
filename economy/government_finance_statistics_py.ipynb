{
 "cells": [
  {
   "cell_type": "markdown",
   "metadata": {},
   "source": [
    "## *Statistics coded:* Government Finance Statistics\n",
    "\n",
    "Prepared by [**Bonamino Luca**](luca.bonamino@hotmail.com)\n",
    "\n",
    "This notebook aims at illustrating the *Statistics Expplained* article on [government finance statistics](https://ec.europa.eu/eurostat/statistics-explained/index.php/Government_finance_statistic).\n"
   ]
  },
  {
   "cell_type": "markdown",
   "metadata": {},
   "source": [
    "## Settings required"
   ]
  },
  {
   "cell_type": "markdown",
   "metadata": {},
   "source": [
    "### Built-il libraries"
   ]
  },
  {
   "cell_type": "code",
   "execution_count": 1,
   "metadata": {},
   "outputs": [],
   "source": [
    "import requests\n",
    "import json\n",
    "import sys\n",
    "import matplotlib.pyplot as plt\n",
    "import numpy as np\n",
    "import pandas as pd\n",
    "from prettytable import PrettyTable"
   ]
  },
  {
   "cell_type": "markdown",
   "metadata": {},
   "source": [
    "### Costum libraries"
   ]
  },
  {
   "cell_type": "code",
   "execution_count": 3,
   "metadata": {},
   "outputs": [],
   "source": [
    "costum_lib_locations = ['../src']\n",
    "for location in costum_lib_locations:\n",
    "    if location not in sys.path:\n",
    "        sys.path.append('../src')\n",
    "import requestLib\n",
    "import dataDealer"
   ]
  },
  {
   "cell_type": "markdown",
   "metadata": {},
   "source": [
    "### Variables needed in the notebook"
   ]
  },
  {
   "cell_type": "code",
   "execution_count": 4,
   "metadata": {},
   "outputs": [],
   "source": [
    "noCountry = ['European Union - 27 countries (2007-2013)' ,\n",
    "             'European Union - 25 countries (2004-2006)',\n",
    "             'Euro area - 18 countries (2014)',\n",
    "             'Euro area - 17 countries (2011-2013)' \n",
    "            ]\n",
    "\n",
    "clean_country = {'Germany': 'Germany',\n",
    "                 'Euro area - 19' : 'Euro Area (EA-19)', \n",
    "                 'European Union - 27 countries (from ': 'EU-27', \n",
    "                 'European Union - 28' : 'EU-28'}\n",
    "\n",
    "host_url = \"http://ec.europa.eu/eurostat/wdds/rest/data/v2.1/json/en/\""
   ]
  },
  {
   "cell_type": "markdown",
   "metadata": {},
   "source": [
    "# Public Balance 2018 and 2019"
   ]
  },
  {
   "cell_type": "code",
   "execution_count": 5,
   "metadata": {},
   "outputs": [
    {
     "name": "stdout",
     "output_type": "stream",
     "text": [
      "[+] OK! Data recieved\n",
      "\tSuccesful response\n"
     ]
    },
    {
     "data": {
      "image/png": "[encoded data removed]",
      "text/plain": [
       "<Figure size 720x360 with 1 Axes>"
      ]
     },
     "metadata": {},
     "output_type": "display_data"
    }
   ],
   "source": [
    "#%matplotlib inline\n",
    "plt.rcParams['figure.figsize'] = [10, 5]\n",
    "\n",
    "args = requestLib.args_to_dict('table= gov_10dd_edpt1', 'na_item=B9', 'precision=1', 'unit=PC_GDP', 'time=2018,2019','sector=S13')\n",
    "client = requestLib.RequestHandeler(host_url)\n",
    "\n",
    "data , strdata, response = client.get_request(args)\n",
    "\n",
    "times = list(list(data['dimension']['time']['category'].values())[1].values())\n",
    "country = list(list(data['dimension']['geo']['category'].values())[1].values())\n",
    "values = list(data['value'].values())\n",
    "\n",
    "years, country = dataDealer.json_to_data(lines=country, \n",
    "                                         columns=times, \n",
    "                                         values=values, \n",
    "                                         remove_list=noCountry, \n",
    "                                         void_item=True, \n",
    "                                         clean_dict=clean_country)\n",
    "\n",
    "plot_x_labels = dataDealer.clean_label(lines=country, remove_list=noCountry)\n",
    "pos = np.arange(len(plot_x_labels))\n",
    "\n",
    "fig, ax = plt.subplots()\n",
    "ax.set_xticks(pos)\n",
    "ax.set_xticklabels(plot_x_labels, rotation = 90)\n",
    "width = 0.35\n",
    "\n",
    "ax.bar(pos -  width/2., list(years['2018'].values()),  width, label='2018')\n",
    "ax.bar(pos +  width/2., list(years['2019'].values()),  width, label='2019')\n",
    "plt.legend(loc='upper right')\n",
    "\n",
    "plt.show()"
   ]
  },
  {
   "cell_type": "markdown",
   "metadata": {},
   "source": [
    "\n",
    "# Public Balance and General Governement Debt, 2016-2019"
   ]
  },
  {
   "cell_type": "code",
   "execution_count": 10,
   "metadata": {},
   "outputs": [
    {
     "name": "stdout",
     "output_type": "stream",
     "text": [
      "[+] OK! Data recieved\n",
      "\tSuccesful response\n",
      "[+] OK! Data recieved\n",
      "\tSuccesful response\n"
     ]
    }
   ],
   "source": [
    "args = requestLib.args_to_dict('table= gov_10dd_edpt1', \n",
    "                    'na_item=B9', \n",
    "                    'precision=1', \n",
    "                    'unit=PC_GDP', \n",
    "                    'time=2016,2017,2018,2019',\n",
    "                    'sector=S13')\n",
    "\n",
    "data , strdata, response = client.get_request(args) \n",
    "\n",
    "times = list(list(data['dimension']['time']['category'].values())[1].values())\n",
    "country = list(list(data['dimension']['geo']['category'].values())[1].values())\n",
    "values = list(data['value'].values())\n",
    "\n",
    "years, country = dataDealer.json_to_data(lines=country, \n",
    "                                         columns=times, \n",
    "                                         values=values, \n",
    "                                         remove_list=noCountry, \n",
    "                                         void_item=False, \n",
    "                                         clean_dict=clean_country)\n",
    "\n",
    "balance = dataDealer.subjason_to_DataFrame(lines=country, columns=times, subDict=years)\n",
    "\n",
    "\n",
    "args = requestLib.args_to_dict('table= gov_10dd_edpt1', \n",
    "                    'na_item=GD', \n",
    "                    'precision=1', \n",
    "                    'unit=PC_GDP', \n",
    "                    'time=2016,2017,2018,2019',\n",
    "                    'sector=S13')\n",
    "data , strdata, response = client.get_request(args) \n",
    "\n",
    "country = list(list(data['dimension']['geo']['category'].values())[1].values())\n",
    "values = list(data['value'].values())\n",
    "\n",
    "years, country = dataDealer.json_to_data(lines=country, \n",
    "                                         columns=times, \n",
    "                                         values=values, \n",
    "                                         remove_list=noCountry, \n",
    "                                         void_item=False, \n",
    "                                         clean_dict=clean_country)\n",
    "\n",
    "debt = dataDealer.subjason_to_DataFrame(lines=country, columns=times, subDict=years)\n",
    "\n",
    "result = pd.concat([balance, debt], axis=1, sort=False)\n",
    "#print(result)\n",
    "######\n",
    "#### TO DO: print the full table"
   ]
  },
  {
   "cell_type": "markdown",
   "metadata": {},
   "source": [
    "## General government debt, 2019 and 2018"
   ]
  },
  {
   "cell_type": "code",
   "execution_count": 11,
   "metadata": {},
   "outputs": [
    {
     "name": "stdout",
     "output_type": "stream",
     "text": [
      "[+] OK! Data recieved\n",
      "\tSuccesful response\n"
     ]
    },
    {
     "data": {
      "image/png": "[encoded data removed]",
      "text/plain": [
       "<Figure size 720x360 with 1 Axes>"
      ]
     },
     "metadata": {},
     "output_type": "display_data"
    }
   ],
   "source": [
    "args = requestLib.args_to_dict('table= gov_10dd_edpt1', \n",
    "                    'na_item=GD', \n",
    "                    'precision=1', \n",
    "                    'unit=PC_GDP', \n",
    "                    'time=2018,2019',\n",
    "                    'sector=S13')\n",
    "\n",
    "\n",
    "data , strdata, response = client.get_request(args)\n",
    "\n",
    "times = list(list(data['dimension']['time']['category'].values())[1].values())\n",
    "country = list(list(data['dimension']['geo']['category'].values())[1].values())\n",
    "values = list(data['value'].values())\n",
    "\n",
    "years, country = dataDealer.json_to_data(lines=country, \n",
    "                                         columns=times, \n",
    "                                         values=values, \n",
    "                                         remove_list=noCountry, \n",
    "                                         void_item=True, \n",
    "                                         clean_dict=clean_country)\n",
    "plot_x_labels = dataDealer.clean_label(lines=country, remove_list=noCountry)\n",
    "\n",
    "pos = np.arange(len(plot_x_labels))\n",
    "\n",
    "fig, ax = plt.subplots()\n",
    "ax.set_xticks(pos)\n",
    "ax.set_xticklabels(plot_x_labels, rotation = 90)\n",
    "width = 0.35\n",
    "\n",
    "ax.bar(pos -  width/2., list(years['2018'].values()),  width, label='2018')\n",
    "ax.bar(pos +  width/2., list(years['2019'].values()),  width, label='2019')\n",
    "plt.legend(loc='upper right')\n",
    "\n",
    "plt.show()"
   ]
  },
  {
   "cell_type": "markdown",
   "metadata": {},
   "source": [
    "### Restore import settings"
   ]
  },
  {
   "cell_type": "code",
   "execution_count": 12,
   "metadata": {},
   "outputs": [],
   "source": [
    "# lanch as last commend to restore the previous python import settings\n",
    "for location in costum_lib_locations:\n",
    "    sys.path.remove(location)"
   ]
  }
 ],
 "metadata": {
  "kernelspec": {
   "display_name": "Python 3",
   "language": "python",
   "name": "python3"
  },
  "language_info": {
   "codemirror_mode": {
    "name": "ipython",
    "version": 3
   },
   "file_extension": ".py",
   "mimetype": "text/x-python",
   "name": "python",
   "nbconvert_exporter": "python",
   "pygments_lexer": "ipython3",
   "version": "3.6.9"
  }
 },
 "nbformat": 4,
 "nbformat_minor": 4
}
