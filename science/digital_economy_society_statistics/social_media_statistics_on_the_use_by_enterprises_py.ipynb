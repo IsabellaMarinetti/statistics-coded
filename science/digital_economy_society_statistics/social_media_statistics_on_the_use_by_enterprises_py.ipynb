{
 "metadata": {
  "language_info": {
   "codemirror_mode": {
    "name": "ipython",
    "version": 3
   },
   "file_extension": ".py",
   "mimetype": "text/x-python",
   "name": "python",
   "nbconvert_exporter": "python",
   "pygments_lexer": "ipython3",
   "version": 3
  },
  "orig_nbformat": 2,
  "kernelspec": {
   "name": "python_defaultSpec_1597242233004",
   "display_name": "Python 3.8.1 64-bit"
  }
 },
 "nbformat": 4,
 "nbformat_minor": 2,
 "cells": [
  {
   "cell_type": "markdown",
   "metadata": {},
   "source": [
    "## Notebook on \"Social media\"\n",
    "\n",
    "Prepared by [**beatrizq**](beatriz.querido@gmail.com) ([**Eurostat**](https://ec.europa.eu/eurostat), Methodology & Innovation unit B.1).\n",
    "\n",
    "This notebook aims at illustrating the *Statistics Expplained* article on [Social media - statistics on the use by enterprises](https://ec.europa.eu/eurostat/statistics-explained/index.php?title=Social_media_-_statistics_on_the_use_by_enterprises)."
   ]
  },
  {
   "cell_type": "code",
   "execution_count": 32,
   "metadata": {},
   "outputs": [],
   "source": [
    "#install modules\n",
    "#pip install pandasdmx\n",
    "#pip install jsonstat.py\n",
    "#pip install eurostatapiclient --no-dependencies\n",
    "\n",
    "#import libraries\n",
    "#import pkg_resources\n",
    "#pkg_resources.require(\"pandas==0.23.4\")\n",
    "\n",
    "import numpy as np\n",
    "import pandas as pd\n",
    "import requests\n",
    "import certifi\n",
    "import chardet\n",
    "import idna\n",
    "import pytz\n",
    "import six\n",
    "import urllib3\n",
    "import dateutil\n",
    "import eurostatapiclient\n",
    "from eurostatapiclient import EurostatAPIClient\n",
    "\n",
    "#import matplotlib.pyplot as plt\n",
    "#import matplotlib.ticker as mtick\n",
    "#import seaborn as sns"
   ]
  },
  {
   "cell_type": "code",
   "execution_count": 30,
   "metadata": {},
   "outputs": [],
   "source": [
    "#adjust settings for EurostatAPIClient\n",
    "VERSION = 'v2.1'\n",
    "FORMAT = 'json'\n",
    "LANGUAGE = 'en'\n",
    "client = EurostatAPIClient(VERSION, FORMAT, LANGUAGE)"
   ]
  },
  {
   "cell_type": "markdown",
   "metadata": {},
   "source": [
    "## Use of social media by enterprises\n",
    "Table 1: Enterprises using social media, 2019, (% of enterprises) - Source: Eurostat ([isoc_cismt](https://www.coursera.org/specializations/deep-learning#courses))"
   ]
  },
  {
   "cell_type": "markdown",
   "metadata": {},
   "source": [
    "## Types of social media used over time (2013-2019)\n",
    "Figure 1: Enterprises using social media, by type of social media, EU-28, 2013, 2015, 2017 and 2019 (% of enterprises)  - Source: Eurostat ([isoc_cismt](https://www.coursera.org/specializations/deep-learning#courses))\n"
   ]
  },
  {
   "cell_type": "code",
   "execution_count": 35,
   "metadata": {},
   "outputs": [
    {
     "output_type": "error",
     "ename": "HTTPError",
     "evalue": "400 Client Error: Bad Request for url: https://ec.europa.eu/eurostat/wdds/rest/data/v2.1/json/en/isoc_cismp?indic_is=E_SM_BLOG&indic_is=E_SM_CNTSHR&indic_is=E_SM_SNET&indic_is=E_SM_WIKI&unit=PC_ENT&sizen_r2=10_C10_S951_XK&geo=EU28&time=2013&time=2015&time=2017&time=2019",
     "traceback": [
      "\u001b[1;31m---------------------------------------------------------------------------\u001b[0m",
      "\u001b[1;31mHTTPError\u001b[0m                                 Traceback (most recent call last)",
      "\u001b[1;32m<ipython-input-35-e35090ae2584>\u001b[0m in \u001b[0;36m<module>\u001b[1;34m\u001b[0m\n\u001b[0;32m     11\u001b[0m \u001b[1;33m\u001b[0m\u001b[0m\n\u001b[0;32m     12\u001b[0m \u001b[1;31m#get data\u001b[0m\u001b[1;33m\u001b[0m\u001b[1;33m\u001b[0m\u001b[1;33m\u001b[0m\u001b[0m\n\u001b[1;32m---> 13\u001b[1;33m \u001b[0mdataframe_figure1\u001b[0m \u001b[1;33m=\u001b[0m \u001b[0mclient\u001b[0m\u001b[1;33m.\u001b[0m\u001b[0mget_dataset\u001b[0m\u001b[1;33m(\u001b[0m\u001b[1;34m'isoc_cismp'\u001b[0m\u001b[1;33m,\u001b[0m \u001b[0mparams\u001b[0m\u001b[1;33m=\u001b[0m\u001b[0mparams_figure1\u001b[0m\u001b[1;33m)\u001b[0m\u001b[1;33m.\u001b[0m\u001b[0mto_dataframe\u001b[0m\u001b[1;33m(\u001b[0m\u001b[1;33m)\u001b[0m\u001b[1;33m\u001b[0m\u001b[1;33m\u001b[0m\u001b[0m\n\u001b[0m\u001b[0;32m     14\u001b[0m \u001b[0mprint\u001b[0m\u001b[1;33m(\u001b[0m\u001b[0mdataframe_figure1\u001b[0m\u001b[1;33m.\u001b[0m\u001b[0mhead\u001b[0m\u001b[1;33m(\u001b[0m\u001b[1;33m)\u001b[0m\u001b[1;33m)\u001b[0m\u001b[1;33m\u001b[0m\u001b[1;33m\u001b[0m\u001b[0m\n\u001b[0;32m     15\u001b[0m \u001b[1;33m\u001b[0m\u001b[0m\n",
      "\u001b[1;32m~\\AppData\\Local\\Programs\\Python\\Python38\\lib\\site-packages\\eurostatapiclient\\client.py\u001b[0m in \u001b[0;36mget_dataset\u001b[1;34m(self, id, params)\u001b[0m\n\u001b[0;32m     72\u001b[0m         \u001b[0mrequest_url\u001b[0m \u001b[1;33m=\u001b[0m \u001b[1;34m'{0}/{1}'\u001b[0m\u001b[1;33m.\u001b[0m\u001b[0mformat\u001b[0m\u001b[1;33m(\u001b[0m\u001b[0mself\u001b[0m\u001b[1;33m.\u001b[0m\u001b[0mapi_url\u001b[0m\u001b[1;33m,\u001b[0m \u001b[0mid\u001b[0m\u001b[1;33m)\u001b[0m\u001b[1;33m\u001b[0m\u001b[1;33m\u001b[0m\u001b[0m\n\u001b[0;32m     73\u001b[0m         \u001b[0mresponse\u001b[0m \u001b[1;33m=\u001b[0m \u001b[0mself\u001b[0m\u001b[1;33m.\u001b[0m\u001b[0msession\u001b[0m\u001b[1;33m.\u001b[0m\u001b[0mget\u001b[0m\u001b[1;33m(\u001b[0m\u001b[0mrequest_url\u001b[0m\u001b[1;33m,\u001b[0m \u001b[0mparams\u001b[0m\u001b[1;33m=\u001b[0m\u001b[0mparams\u001b[0m\u001b[1;33m)\u001b[0m\u001b[1;33m\u001b[0m\u001b[1;33m\u001b[0m\u001b[0m\n\u001b[1;32m---> 74\u001b[1;33m         \u001b[0mresponse\u001b[0m\u001b[1;33m.\u001b[0m\u001b[0mraise_for_status\u001b[0m\u001b[1;33m(\u001b[0m\u001b[1;33m)\u001b[0m\u001b[1;33m\u001b[0m\u001b[1;33m\u001b[0m\u001b[0m\n\u001b[0m\u001b[0;32m     75\u001b[0m         \u001b[1;32mreturn\u001b[0m \u001b[0mDataset\u001b[0m\u001b[1;33m.\u001b[0m\u001b[0mcreate_from_json\u001b[0m\u001b[1;33m(\u001b[0m\u001b[0mresponse\u001b[0m\u001b[1;33m.\u001b[0m\u001b[0mjson\u001b[0m\u001b[1;33m(\u001b[0m\u001b[1;33m)\u001b[0m\u001b[1;33m)\u001b[0m\u001b[1;33m\u001b[0m\u001b[1;33m\u001b[0m\u001b[0m\n",
      "\u001b[1;32m~\\AppData\\Local\\Programs\\Python\\Python38\\lib\\site-packages\\requests\\models.py\u001b[0m in \u001b[0;36mraise_for_status\u001b[1;34m(self)\u001b[0m\n\u001b[0;32m    938\u001b[0m \u001b[1;33m\u001b[0m\u001b[0m\n\u001b[0;32m    939\u001b[0m         \u001b[1;32mif\u001b[0m \u001b[0mhttp_error_msg\u001b[0m\u001b[1;33m:\u001b[0m\u001b[1;33m\u001b[0m\u001b[1;33m\u001b[0m\u001b[0m\n\u001b[1;32m--> 940\u001b[1;33m             \u001b[1;32mraise\u001b[0m \u001b[0mHTTPError\u001b[0m\u001b[1;33m(\u001b[0m\u001b[0mhttp_error_msg\u001b[0m\u001b[1;33m,\u001b[0m \u001b[0mresponse\u001b[0m\u001b[1;33m=\u001b[0m\u001b[0mself\u001b[0m\u001b[1;33m)\u001b[0m\u001b[1;33m\u001b[0m\u001b[1;33m\u001b[0m\u001b[0m\n\u001b[0m\u001b[0;32m    941\u001b[0m \u001b[1;33m\u001b[0m\u001b[0m\n\u001b[0;32m    942\u001b[0m     \u001b[1;32mdef\u001b[0m \u001b[0mclose\u001b[0m\u001b[1;33m(\u001b[0m\u001b[0mself\u001b[0m\u001b[1;33m)\u001b[0m\u001b[1;33m:\u001b[0m\u001b[1;33m\u001b[0m\u001b[1;33m\u001b[0m\u001b[0m\n",
      "\u001b[1;31mHTTPError\u001b[0m: 400 Client Error: Bad Request for url: https://ec.europa.eu/eurostat/wdds/rest/data/v2.1/json/en/isoc_cismp?indic_is=E_SM_BLOG&indic_is=E_SM_CNTSHR&indic_is=E_SM_SNET&indic_is=E_SM_WIKI&unit=PC_ENT&sizen_r2=10_C10_S951_XK&geo=EU28&time=2013&time=2015&time=2017&time=2019"
     ]
    }
   ],
   "source": [
    "#source: isoc_cismt\n",
    "#define params of dataframe\n",
    "#\"id\":[\"indic_is\",\"unit\",\"sizen_r2\",\"geo\",\"time\"]\n",
    "params_figure1 = {\n",
    "    'indic_is':np.array(['E_SM_BLOG','E_SM_CNTSHR','E_SM_SNET','E_SM_WIKI']),\n",
    "    'unit':'PC_ENT',\n",
    "    'sizen_r2':'10_C10_S951_XK',\n",
    "    'geo':'EU28',\n",
    "    'time':np.array(['2013','2015','2017','2019'])\n",
    "}\n",
    "\n",
    "#get data\n",
    "dataframe_figure1 = client.get_dataset('isoc_cismp', params=params_figure1).to_dataframe()\n",
    "print(dataframe_figure1.head())\n",
    "\n",
    "#{\"version\":\"2.0\",\"label\":\"Social media use by type, internet advertising\",\"href\":\"http://ec.europa.eu/eurostat/wdds/rest/data/v2.1/json/en/isoc_cismt?precision=1&geo=EU28&unit=PC_ENT&indic_is=E_SM_BLOG&indic_is=E_SM_CNTSHR&indic_is=E_SM_SNET&indic_is=E_SM_WIKI&sizen_r2=10_C10_S951_XK&unitLabel=label&time=2013&time=2015&time=2017&time=2019\",\"source\":\"Eurostat\",\"updated\":\"2020-01-13\",\"status\":{\"1\":\":\",\"2\":\":\",\"3\":\":\",\"5\":\":\",\"6\":\":\",\"7\":\":\",\"9\":\":\",\"10\":\":\",\"11\":\":\",\"13\":\":\",\"14\":\":\",\"15\":\":\"},\"extension\":{\"datasetId\":\"isoc_cismt\",\"lang\":\"EN\",\"description\":null,\"subTitle\":null,\"status\":{\"label\":{\":\":\"not available\"}}},\"class\":\"dataset\",\"value\":{\"0\":10,\"4\":11,\"8\":28,\"12\":6},\"dimension\":{\"indic_is\":{\"label\":\"indic_is\",\"category\":{\"index\":{\"E_SM_BLOG\":0,\"E_SM_CNTSHR\":1,\"E_SM_SNET\":2,\"E_SM_WIKI\":3},\"label\":{\"E_SM_BLOG\":\"Use enterprise's blog or microblogs (e.g. Twitter, Present.ly, etc.)\",\"E_SM_CNTSHR\":\"Use multimedia content sharing websites (e.g. YouTube, Flickr, Picasa, SlideShare, etc.)\",\"E_SM_SNET\":\"Use social networks (e.g. Facebook, LinkedIn, Xing, Viadeo, Yammer, etc.)\",\"E_SM_WIKI\":\"Use wiki based knowledge sharing tools\"}}},\"unit\":{\"label\":\"unit\",\"category\":{\"index\":{\"PC_ENT\":0},\"label\":{\"PC_ENT\":\"Percentage of enterprises\"}}},\"sizen_r2\":{\"label\":\"sizen_r2\",\"category\":{\"index\":{\"10_C10_S951_XK\":0},\"label\":{\"10_C10_S951_XK\":\"All enterprises, without financial sector (10 persons employed or more)\"}}},\"geo\":{\"label\":\"geo\",\"category\":{\"index\":{\"EU28\":0},\"label\":{\"EU28\":\"European Union - 28 countries (2013-2020)\"}}},\"time\":{\"label\":\"time\",\"category\":{\"index\":{\"2013\":0,\"2015\":1,\"2017\":2,\"2019\":3},\"label\":{\"2013\":\"2013\",\"2015\":\"2015\",\"2017\":\"2017\",\"2019\":\"2019\"}}}},\"id\":[\"indic_is\",\"unit\",\"sizen_r2\",\"geo\",\"time\"],\"size\":[4,1,1,1,4]}\n"
   ]
  },
  {
   "cell_type": "code",
   "execution_count": null,
   "metadata": {},
   "outputs": [],
   "source": []
  }
 ]
}