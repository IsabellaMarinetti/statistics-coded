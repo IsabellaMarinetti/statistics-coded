{
 "cells": [
  {
   "cell_type": "markdown",
   "metadata": {},
   "source": [
    "# *Statistics coded:* Living conditions in Europe - poverty and social exclusion\n",
    "\n",
    "Prepared by [**Lasai Barreñada**](https://github.com/LasaiBarrenada) (EMOS).\n",
    "\n",
    "This notebook aims at illustrating the *Statistics Expplained* article on [Living conditions in Europe - poverty and social exclusion](https://ec.europa.eu/eurostat/statistics-explained/index.php?title=Living_conditions_in_Europe_-_poverty_and_social_exclusion).\n"
   ]
  },
  {
   "cell_type": "markdown",
   "metadata": {},
   "source": [
    "## Settings\n",
    "\n",
    "The libraries needed for this notebook are the following ones:"
   ]
  },
  {
   "cell_type": "code",
   "execution_count": 1,
   "metadata": {},
   "outputs": [],
   "source": [
    "import numpy as np\n",
    "import json\n",
    "import pandas as pd\n",
    "from eurostatapiclient import EurostatAPIClient\n",
    "import matplotlib.pyplot as plt\n",
    "import matplotlib.ticker as mtick\n",
    "import matplotlib.patches as mpatches\n",
    "from matplotlib.lines import Line2D\n",
    "import matplotlib.dates as mdates\n",
    "from matplotlib.ticker import FuncFormatter, MaxNLocator, IndexLocator\n",
    "import seaborn as sns\n",
    "import math\n",
    "from shapely import geometry\n",
    "import geopandas as gpd\n",
    "import requests\n",
    "import io, os, re, sys\n",
    "import warnings\n",
    "import copy, functools\n",
    "import zipfile\n",
    "import folium\n",
    "from folium import plugins as foliump\n",
    "import branca.colormap as bcm\n",
    "\n",
    "legend_properties = {'weight':'bold','size':'10'}\n",
    "countries_names = {'AT':'Austria', 'BE':'Belgium', 'BG':'Bulgaria', 'CY': 'Cyprus', 'CZ': 'Czechia', 'DE': 'Germany', 'DK':\n",
    "            'Denmark', 'EE':'Estonia', 'EL': 'Greece', 'ES':'Spain', 'FI':'Finland', 'FR':'France', 'HR':'Croatia', \n",
    "            'HU':'Hungary', 'IE':'Ireland', 'IT':'Italy', 'LT':'Lithuania', 'LU':'Luxembourg', 'LV':'Latvia', 'MT':\n",
    "            'Malta', 'NL':'Netherlands', 'PL':'Poland', 'PT':'Portugal', 'RO':'Romania', 'SE':'Sweden', 'SI':'Slovenia',\n",
    "            'SK':'Slovakia', 'UK':'United Kingdom', 'EU28': 'EU-28', 'TR':'Turkey','CH':'Switzerland', 'IS':'Iceland', 'MK':'North Macedonia','ME':'Montenegro',\n",
    "            'NO':'Norway', 'RS': 'Serbia'}\n",
    "countries_abbr = ['AT','BE','BG','CY','CZ','DE','DK','EE','EL','ES','FI',\n",
    "                  'FR','HR','HU','IE','IT','LT','LU','LV','NV','NL','PL','PT','RO','SE','SI','SK','UK','MT', 'EU28']"
   ]
  },
  {
   "cell_type": "markdown",
   "metadata": {},
   "source": [
    "## Documentation:\n",
    "Here you can find the documentation of the packages/modules used on this notebook\n",
    "- [**Python 3.8 modules**](https://docs.python.org/3/contents.html)\n",
    "- [**Numpy**](https://numpy.org/)\n",
    "- [**Pandas**](https://pandas.pydata.org/)\n",
    "- [**EurostatApiClient**](https://pypi.org/project/eurostatapiclient/)\n",
    "- [**Matplotlib**](https://matplotlib.org/contents.html)\n",
    "- [**Seaborn**](https://seaborn.pydata.org/)\n",
    "- [**Geopandas**](https://geopandas.org/)\n",
    "- [**Shapely**](https://shapely.readthedocs.io/en/latest/manual.html)\n",
    "- [**Folium**](https://python-visualization.github.io/folium/)\n",
    "- [**Branca**](https://github.com/python-visualization/branca)"
   ]
  },
  {
   "cell_type": "markdown",
   "metadata": {},
   "source": [
    "### Set up eurostatapiclinet by supplying settings, which will stay the same throught"
   ]
  },
  {
   "cell_type": "code",
   "execution_count": 2,
   "metadata": {},
   "outputs": [],
   "source": [
    "VERSION = 'v2.1'\n",
    "FORMAT = 'json'\n",
    "LANGUAGE = 'en'\n",
    "client = EurostatAPIClient(VERSION, FORMAT, LANGUAGE)\n"
   ]
  },
  {
   "cell_type": "markdown",
   "metadata": {},
   "source": [
    "### Define custom functions:\n",
    "#### 1. setvaluegraph:\n",
    "It sets the value of the plotted bar/scatter in the figure"
   ]
  },
  {
   "cell_type": "code",
   "execution_count": 3,
   "metadata": {},
   "outputs": [],
   "source": [
    "def setvaluegraph (value #list of the values \n",
    "                   ,axis #Axis where we represent the value\n",
    "                   , horizontal #True if the graph is horizontal and False if it's vertical \n",
    "                   ,xpos = 0 # Parameter to adjust the position of the value on x axis\n",
    "                   ,ypos= 0 # Parameter to adjust the position of the value on y axis\n",
    "                   , fontsize= 8\n",
    "                   , color = 'b'\n",
    "                   , weight = 'normal'\n",
    "                   , style = 'normal'\n",
    "                   , form = '{}'): #Format of the desired value e.g {:.1f}% for pcg\n",
    "    if horizontal:\n",
    "         for i,v in enumerate(value):\n",
    "             axis.text(v-xpos,i-ypos,str(form.format(v)), fontsize = fontsize, color = color, weight = weight, style = style)\n",
    "    else:\n",
    "        for i,v in enumerate(value):\n",
    "            axis.text(i-xpos,v-ypos,str(form.format(v)), fontsize = fontsize, color = color, weight = weight, style = style)\n",
    "# This function allows to set the value of the represented graph in the graph next to the bar/scatter "
   ]
  },
  {
   "cell_type": "markdown",
   "metadata": {},
   "source": [
    "#### 2. lastyearvalue:\n",
    "This functions searchs in the given dataframe if there is any missing value for a given year and if so it remplaces it with the existing value of the most recent year"
   ]
  },
  {
   "cell_type": "code",
   "execution_count": 4,
   "metadata": {},
   "outputs": [],
   "source": [
    "# This function searchs if there is any missing value for a given year and fills it with the most recent existing value within last 2 years\n",
    "def lastyearvalue (currentdf, #dataframe where we have missing values on the selected year\n",
    "                   columncurrent, #column of the dataframe with missing values (must be a list)\n",
    "                   completedf, #dataframe with the info of the previous years\n",
    "                   year ):#Year of the wanted info (the function will search in the 2 most recent years)\n",
    "    if len(columncurrent)<1.1: #Checks if we have more than one column of data\n",
    "             if currentdf[columncurrent].isnull().values.any():\n",
    "                for i, row in currentdf.iterrows():\n",
    "                    if math.isnan(row[columncurrent]) :\n",
    "                         value = completedf[completedf['geo']==str(i) ].iloc[1,0] #Set the value of the year 2017\n",
    "                         if math.isnan(value):\n",
    "                             value = completedf[completedf['geo']==str(i) ].iloc[0,0] #Set the value of the year 2016 if 2017 is missing too\n",
    "                             print('The data of ', i , 'in row ', columncurrent, ' is from ', year-2)\n",
    "                         else:\n",
    "                             print('The data of ', i , 'in row ', columncurrent, ' is from ', year-1)\n",
    "\n",
    "                         currentdf.at[str(i),columncurrent]= value\n",
    "    else:\n",
    "            for i, row in currentdf.iterrows():\n",
    "                for column in columncurrent: #Iterates through all the columns\n",
    "                    if math.isnan(row[column]):\n",
    "        \n",
    "                        value = completedf[(completedf['geo']==str(i)) & (completedf['deg_urb']== column) ].iloc[1,0] #Set the value of the year 2017\n",
    "                        if math.isnan(value):\n",
    "                            value = completedf[(completedf['geo']==str(i)) & (completedf['deg_urb']== column) ].iloc[0,0]  #Set the value of the year 2016 if 2017 is missing too\n",
    "                            print('The data of ', i , 'in row ', column, ' is from ', year-2)\n",
    "                        else:\n",
    "                            print('The data of ', i , 'in row ', column, ' is from ', year-1)\n",
    "\n",
    "                        currentdf.at[str(i),column] = value\n",
    "                        "
   ]
  },
  {
   "cell_type": "markdown",
   "metadata": {},
   "source": [
    "#### 3. EUorderbystatus:\n",
    "This function orders the final dataframe depending on the status of the European Region countries. The mean or global indicators of Europe are set first, then the EU countries and UK, after this the countries of the European Economic Area and in final position the countries in procces of accesion to EU."
   ]
  },
  {
   "cell_type": "code",
   "execution_count": 5,
   "metadata": {},
   "outputs": [],
   "source": [
    "def EUorderbystatus (dfmerged): #Creates a order column on the merged df. Caution index must be the countries names\n",
    "    order = [] #Variable to order the plots in the figure\n",
    "    for ind in dfmerged.index:\n",
    "        if ind  =='EU-28':\n",
    "            order.append(0)\n",
    "        elif ind  == 'EA19':\n",
    "               order.append(0)\n",
    "    #for EU means order 0\n",
    "        elif ind in ['Switzerland' ,'Norway' , 'Iceland']:\n",
    "            order.append(2)\n",
    "    #countries in EEA in third place    \n",
    "        elif ind in ['North Macedonia' , 'Serbia', 'Turkey']:\n",
    "            order.append(3)\n",
    "    #countries in procces of accession to EU last place\n",
    "        elif ind in dfmerged.index.tolist():\n",
    "            order.append(1)\n",
    "    #All EU countries + UK in second place\n",
    "    dfmerged['order']= order"
   ]
  },
  {
   "cell_type": "markdown",
   "metadata": {},
   "source": [
    "## Poverty and social exclusion\n",
    "\n",
    "### Figure 1:  People at risk of porverty or social exclusion in 2018"
   ]
  },
  {
   "cell_type": "markdown",
   "metadata": {},
   "source": [
    "#### Data retrieve and clean:\n",
    "First we define the parameters of the information that we want to retrieve from the Eurostat tables"
   ]
  },
  {
   "cell_type": "code",
   "execution_count": 6,
   "metadata": {},
   "outputs": [],
   "source": [
    "#We define params of dataframes\n",
    "params_df1_ths_per = {\n",
    "    'AGE': 'TOTAL',\n",
    "    'sinceTimePeriod': '2008',\n",
    "    'sex': 'T',\n",
    "    'geo':'EU',\n",
    "    'unit':'THS_PER'\n",
    "} \n",
    "params_df1_pc = {\n",
    "    'AGE': 'TOTAL',\n",
    "    'sinceTimePeriod': '2008',\n",
    "    'sex': 'T',\n",
    "    'geo':'EU',\n",
    "    'unit':'PC'\n",
    "} "
   ]
  },
  {
   "cell_type": "markdown",
   "metadata": {},
   "source": [
    "Once we got the parameters we retrieve the data with the *EurostatAPIClient* module and clean the data in order to plot in a easier way"
   ]
  },
  {
   "cell_type": "code",
   "execution_count": null,
   "metadata": {},
   "outputs": [],
   "source": [
    "# =============================================================================\n",
    "# DATA RETRIEVE AND CLEAN SECTION\n",
    "# =============================================================================\n",
    "# We retrieve the info with the EurostatApiClient\n",
    "dataframe_1_ths_per = client.get_dataset('ilc_peps01', params=params_df1_ths_per).to_dataframe()\n",
    "dataframe_1_pc = client.get_dataset('ilc_peps01', params=params_df1_pc).to_dataframe()\n",
    "params_df1_ths_per.update({'lastTimePeriod': '2018'})\n",
    "dataframe_1_ths_per = dataframe_1_ths_per[dataframe_1_ths_per.time <= params_df1_ths_per['lastTimePeriod']]\n",
    "params_df1_pc.update({'lastTimePeriod': '2018'})\n",
    "dataframe_1_pc = dataframe_1_pc[dataframe_1_pc.time <= params_df1_pc['lastTimePeriod']]\n",
    "dataframe_1_ths_per = dataframe_1_ths_per.pivot(index='time', columns='age', values='values').reset_index()\n",
    "dataframe_1_pc = dataframe_1_pc.pivot(index='time', columns='age', values='values').reset_index()\n",
    "values = dataframe_1_ths_per['TOTAL']\n",
    "values.head(n = 5)\n"
   ]
  },
  {
   "cell_type": "markdown",
   "metadata": {},
   "source": [
    "#### Plotting section:\n",
    "Using matpltolib we create a figure and and axis where the barplot and scatterplot will be plotted. \n",
    "\n",
    "On that figure we plot the thousand of people on left axis in a barplot and then create another twin axis where it is plotted the percentage in scatters. \n",
    "\n",
    "Then the aesthetic elements are added such as grid, colors, ticks, title and axis title.\n",
    "\n",
    "Finally using *setvaluegraph* function the value is shown on the graph near the bar or bubble"
   ]
  },
  {
   "cell_type": "code",
   "execution_count": null,
   "metadata": {},
   "outputs": [],
   "source": [
    "# =============================================================================\n",
    "# PLOTTING SECTION\n",
    "# =============================================================================\n",
    "\n",
    "fig = plt.figure(facecolor='#f8e2c5', figsize = (15,6)) #We create the figure\n",
    "ax=fig.add_subplot(facecolor='#f8e2c5')\n",
    "\n",
    "\n",
    "\n",
    "barplot =ax.bar(dataframe_1_ths_per['time'],dataframe_1_ths_per['TOTAL']/1000, color=('#ffb95a')) #We draw the barplot with the first dataframe\n",
    "barplot[10].set_color('#f68c1f') #Highlight the 10th bar\n",
    "\n",
    "axes1 = plt.gca() \n",
    "axes2 = axes1.twinx() #We create the secondary axis with twinx\n",
    "scatterplot= sns.scatterplot(x=dataframe_1_pc['time'], #We draw the scatterplot and specify the arguments\n",
    "                             y = dataframe_1_pc['TOTAL'],\n",
    "                             hue= dataframe_1_pc['time'],\n",
    "                             ax=axes2 ,\n",
    "                             s = 100 ,\n",
    "                             palette=['#4f89c5','#4f89c5','#4f89c5','#4f89c5','#4f89c5','#4f89c5','#4f89c5','#4f89c5','#4f89c5','#4f89c5','#0b4dab'],\n",
    "                             legend = False)\n",
    "\n",
    "# We set the ticks of both axis\n",
    "axes2.set_yticks(range(0,31,5))\n",
    "axes1.set_yticks(range(0,151,25))\n",
    "fmt = '%.0f%%' # Format you want the ticks, e.g. '40%'\n",
    "yticks =  mtick.FormatStrFormatter(fmt)\n",
    "axes2.yaxis.set_major_formatter(yticks) #We set the ticks of the right axis in percentage\n",
    "ax.tick_params(axis = \"y\", which = \"both\", bottom = False, top = False, left = False, right=False, colors = '#f68c1f' , labelsize = 15)\n",
    "ax.tick_params(axis ='x', which = 'both', labelsize = 15)\n",
    "axes2.tick_params(axis='y',right=False, colors = 'b', labelsize = 15)\n",
    "ax.yaxis.label.set_color('#f68c1f')\n",
    "ax.set_ylabel('Million persons', weight = 'bold')\n",
    "axes2.yaxis.label.set_color('b')\n",
    "axes2.set_ylabel('% of total population' , weight = 'bold')\n",
    "ax.set_axisbelow(True)\n",
    "\n",
    "ax.hlines(values[10]/1000-20,-0.5,10.5, colors='#f2771e') #Horizontal line with the last value minus 20 million\n",
    "\n",
    "#Set the values in the graph with the function defined above\n",
    "setvaluegraph(round(dataframe_1_ths_per['TOTAL']/1000,1),ax,False,0.3,-2,10,color='#f37020',weight='bold')\n",
    "setvaluegraph(dataframe_1_pc['TOTAL'],axes2,False,0.3,1.5,10,color='#3b6ba3',weight = 'bold', form ='{:.1f}%' )\n",
    "\n",
    "ax.grid(True, which = 'major', axis = 'y' , color ='#f68c1f', linestyle = '--' )\n",
    "sns.despine(top=True, right=True, left=True, bottom=False)\n",
    "\n",
    "ax.set_title('People at risk of porverty or social exclusion in {}, {}-{} \\n (in million persons and % of total population, 2020 data)'.format(params_df1_ths_per['geo'],params_df1_ths_per['sinceTimePeriod'],params_df1_ths_per['lastTimePeriod']),\n",
    "             fontsize=15,fontweight='bold',y=1, x=0.3, c = 'mediumvioletred')"
   ]
  },
  {
   "cell_type": "markdown",
   "metadata": {},
   "source": [
    "Source: Eurostat ([ilc_peps01](https://appsso.eurostat.ec.europa.eu/nui/show.do?query=BOOKMARK_DS-127829_QID_109B0E0E_UID_-3F171EB0&layout=TIME,C,X,0;GEO,L,Y,0;UNIT,L,Z,0;AGE,L,Z,1;SEX,L,Z,2;INDICATORS,C,Z,3;&zSelection=DS-127829UNIT,PC;DS-127829AGE,Y16-29;DS-127829SEX,T;DS-127829INDICATORS,OBS_FLAG;&rankName1=UNIT_1_2_-1_2&rankName2=AGE_1_2_-1_2&rankName3=INDICATORS_1_2_-1_2&rankName4=SEX_1_2_-1_2&rankName5=TIME_1_0_0_0&rankName6=GEO_1_2_0_1&sortC=ASC_-1_FIRST&rStp=&cStp=&rDCh=&cDCh=&rDM=true&cDM=true&footnes=false&empty=false&wai=false&time_mode=ROLLING&time_most_recent=false&lang=EN&cfo=%23%23%23,%23%23%23.%23%23%23&lang=en))"
   ]
  },
  {
   "cell_type": "markdown",
   "metadata": {},
   "source": [
    "### Figure 2: People at risk of poverty or social exclusion by socio-economic characteristic, 2018"
   ]
  },
  {
   "cell_type": "markdown",
   "metadata": {},
   "source": [
    "#### DATA RETRIEVE AND CLEAN SECTION\n",
    "In a different way but with the same ending as in figure 1 we retrieve the data using the Eurostat [Query builder tool](https://ec.europa.eu/eurostat/web/json-and-unicode-web-services/getting-started/query-builder) where you can choose the data that you want and retrieve just that from the Eurostat tables. Then the data is sorted and replaced in order to make the graph\n"
   ]
  },
  {
   "cell_type": "code",
   "execution_count": null,
   "metadata": {},
   "outputs": [],
   "source": [
    "# =============================================================================\n",
    "# DATA RETRIEVE AND CLEAN SECTION\n",
    "# =============================================================================\n",
    "\n",
    "#We set the parameters of the data with the query builder: https://ec.europa.eu/eurostat/web/json-and-unicode-web-services/getting-started/query-builder\n",
    "dataframe_2_sex_query = 'ilc_peps01?precision=2&sex=F&sex=M&geo=EU&unit=PC&unitLabel=code&time=2018&age=Y_GE18'\n",
    "dataframe_2_age_query = 'ilc_peps01?precision=1&sex=T&geo=EU&unit=PC&unitLabel=code&time=2018&age=Y18-24&age=Y25-49&age=Y50-64&age=Y_GE65&age=Y_LT18'\n",
    "dataframe_2_lim_query = 'hlth_dpe010?sex=T&precision=1&lev_limit=NONE&lev_limit=SEV&lev_limit=SOME&geo=EU&unit=PC&time=2018&age=Y_GE16'\n",
    "dataframe_2_activity_query = 'ilc_peps02?precision=1&sex=T&geo=EU&wstatus=EMP&wstatus=INAC_OTH&wstatus=RET&wstatus=UNE&time=2018&age=Y_GE18'\n",
    "dataframe_2_education_query = 'ilc_peps04?precision=1&sex=T&geo=EU&isced11=ED0-2&isced11=ED3_4&isced11=ED5-8&time=2018&age=Y_GE18'\n",
    "\n",
    "\n",
    "dataframe_2_sex = client.get_dataset(dataframe_2_sex_query).to_dataframe().sort_values(by = ['values'],ascending = False).replace(to_replace = ['F','M'], value = ['Female','Male'] )\n",
    "dataframe_2_age =client.get_dataset(dataframe_2_age_query).to_dataframe().sort_values(by = ['values'],ascending = False).replace(to_replace = ['Y18-24','Y_LT18','Y50-64','Y25-49','Y_GE65'],value = ['18-24','<18','50-64','25-49','65 and over'])\n",
    "dataframe_2_lim =client.get_dataset(dataframe_2_lim_query).to_dataframe().sort_values(by = ['values'],ascending = False).replace(to_replace = ['SEV','SOME','NONE'], value = ['Severe','Some', 'None'])\n",
    "dataframe_2_activity =client.get_dataset(dataframe_2_activity_query).to_dataframe().sort_values(by = ['values'],ascending = False).replace(to_replace = ['ED0-2','ED3_4','ED5-8'],value = ['Low','Medium','High'])\n",
    "dataframe_2_education =client.get_dataset(dataframe_2_education_query).to_dataframe().sort_values(by = ['values'],ascending = False).replace(to_replace = ['UNE','INAC_OTH','RET','EMP'], value = ['Unemployed','Other inactive','Retired','Employed'])"
   ]
  },
  {
   "cell_type": "markdown",
   "metadata": {},
   "source": [
    "#### Plotting section:\n",
    "Using matpltolib we create a figure and and axis where the 5 barplots will be set. \n",
    "\n",
    "Then the aesthetic elements are added or deleted such as grid, colors, ticks, title and axis title.\n",
    "\n",
    "Finally in order to differentiate the barplots a different background color is used. "
   ]
  },
  {
   "cell_type": "code",
   "execution_count": null,
   "metadata": {},
   "outputs": [],
   "source": [
    "# =============================================================================\n",
    "# PLOTTING SECTION\n",
    "# =============================================================================\n",
    "\n",
    "#Create the figure\n",
    "fig, ax = plt.subplots(figsize=(15, 4))\n",
    "#Plot the bars with the 5 dataframes and set colors\n",
    "bar_sex = plt.bar(dataframe_2_sex['sex'],dataframe_2_sex['values'], color = ['orange','lightsteelblue'], width = 0.4 )\n",
    "bar_age = plt.bar(dataframe_2_age['age'],dataframe_2_age['values'], color =['saddlebrown','peru','lightsalmon', 'sandybrown','peachpuff'], width = 0.4  )\n",
    "bar_lim = plt.bar(dataframe_2_lim['lev_limit'],dataframe_2_lim['values'], color = ['dimgray','darkgray','lightgray'], width = 0.4 )\n",
    "bar_education = plt.bar(dataframe_2_education['isced11'],dataframe_2_education['values'], color = ['royalblue','cornflowerblue','lightsteelblue'], width = 0.4 )\n",
    "bar_activity = plt.bar(dataframe_2_activity['wstatus'],dataframe_2_activity['values'], color = ['olive','gold','khaki','lemonchiffon'], width = 0.4 )\n",
    "\n",
    "ax.set_yticks(range(0,76,15))\n",
    "ax.tick_params(axis = \"y\", labelsize = 15, left = False)\n",
    "sns.despine(top=True, right=True, left=True, bottom=False) #Function that allows to erase the spine\n",
    "ax.grid(True, which = 'major', axis = 'y' , color ='grey', linestyle = '--')\n",
    "ax.set_axisbelow(True) #Function to set the grid below the bars\n",
    "plt.xticks(rotation= 90)\n",
    "\n",
    "ax.set_title('People at risk of poverty or social exclusion by socio-economic characteristic, 2018 \\n  (% share of the total population)' \n",
    "             , fontsize=15,fontweight='bold', horizontalalignment = 'left', x = 0, y =1.1)\n",
    "\n",
    "#Set the background color for each group of indicators and text\n",
    "plt.axvspan(-.5, 1+.5, facecolor='b', alpha=0.2)\n",
    "plt.axvspan(1.5,6.5, facecolor='brown', alpha=0.2)\n",
    "plt.axvspan(6.5,9.5, facecolor='grey', alpha=0.2)\n",
    "plt.axvspan(9.5,12.5, facecolor='darkorchid', alpha=0.2)\n",
    "plt.axvspan(12.5, 16.5, facecolor='gold', alpha=0.2)\n",
    "plt.text( 0.25,65,'Sex', fontsize=15)\n",
    "plt.text(3.75,65,'Age', fontsize=15)\n",
    "plt.text(7,65,'Health related \\n activity limitation', fontsize=11)\n",
    "plt.text( 10.25,65,'Education', fontsize=15)\n",
    "plt.text( 13.5,65,'Activity status', fontsize=15)"
   ]
  },
  {
   "cell_type": "markdown",
   "metadata": {},
   "source": [
    "Source: Eurostat ([ilc_peps01](https://appsso.eurostat.ec.europa.eu/nui/show.do?query=BOOKMARK_DS-127829_QID_109B0E0E_UID_-3F171EB0&layout=TIME,C,X,0;GEO,L,Y,0;UNIT,L,Z,0;AGE,L,Z,1;SEX,L,Z,2;INDICATORS,C,Z,3;&zSelection=DS-127829UNIT,PC;DS-127829AGE,Y16-29;DS-127829SEX,T;DS-127829INDICATORS,OBS_FLAG;&rankName1=UNIT_1_2_-1_2&rankName2=AGE_1_2_-1_2&rankName3=INDICATORS_1_2_-1_2&rankName4=SEX_1_2_-1_2&rankName5=TIME_1_0_0_0&rankName6=GEO_1_2_0_1&sortC=ASC_-1_FIRST&rStp=&cStp=&rDCh=&cDCh=&rDM=true&cDM=true&footnes=false&empty=false&wai=false&time_mode=ROLLING&time_most_recent=false&lang=EN&cfo=%23%23%23,%23%23%23.%23%23%23&lang=en))\n",
    ", ([ilc_peps02](https://appsso.eurostat.ec.europa.eu/nui/show.do?dataset=ilc_peps02&lang=en))\n",
    " and ([ilc_peps04](https://appsso.eurostat.ec.europa.eu/nui/show.do?dataset=ilc_peps04&lang=en))"
   ]
  },
  {
   "cell_type": "markdown",
   "metadata": {},
   "source": [
    "### Figure 3: People at risk of poverty or social exclusion by degree of urbanisation, 2018\n",
    "\n",
    "#### DATA RETRIEVE AND CLEAN SECTION\n",
    "\n",
    "The data is retrieved with the tool mentioned above but in this case it is necessary to retrieve data from previous years using *lastyearvalue* function. In this function it is compulsory to have one dataframe with the data from all years and another dataframe with just the data of the year wich is wanted to plot. Then you have to select the column where the function will search for missing values (they may be more than a column so a list must be written) \n",
    "\n",
    "Finally all the dataframes that will be plotted are merged on one and the values are sorted with the *EUorderbystatus* function. "
   ]
  },
  {
   "cell_type": "code",
   "execution_count": null,
   "metadata": {},
   "outputs": [],
   "source": [
    "# =============================================================================\n",
    "# DATA RETRIEVE AND CLEAN SECTION\n",
    "# =============================================================================\n",
    "#We set the parameters of the data with the query builder: https://ec.europa.eu/eurostat/web/json-and-unicode-web-services/getting-started/query-builder\n",
    "dataframe_3_query_total = 'ilc_peps01?precision=1&sex=T&geo=AT&geo=BE&geo=BG&geo=CH&geo=CY&geo=CZ&geo=DK&geo=EA19&geo=EE&geo=EL&geo=ES&geo=EU28&geo=FI&geo=FR&geo=HR&geo=HU&geo=IE&geo=IS&geo=IT&geo=LT&geo=LU&geo=LV&geo=MK&geo=MT&geo=NL&geo=NO&geo=PL&geo=PT&geo=RO&geo=RS&geo=SE&geo=SI&geo=SK&geo=UK&unit=PC&unitLabel=label&time=2018&time=2017&time=2016&age=TOTAL'\n",
    "dataframe_3_query_urb = 'ilc_peps13?precision=1&deg_urb=DEG1&deg_urb=DEG2&deg_urb=DEG3&geo=AT&geo=BE&geo=BG&geo=CH&geo=CY&geo=CZ&geo=DE&geo=DK&geo=EA19&geo=EE&geo=EL&geo=ES&geo=EU28&geo=FI&geo=FR&geo=HR&geo=HU&geo=IE&geo=IS&geo=IT&geo=LT&geo=LU&geo=LV&geo=MK&geo=MT&geo=NL&geo=NO&geo=PL&geo=PT&geo=RO&geo=RS&geo=SE&geo=SI&geo=SK&geo=UK&unit=PC&unitLabel=label&time=2018&time=2017&time=2016'\n",
    "\n",
    "\n",
    "dataframe_3_total = client.get_dataset(dataframe_3_query_total).to_dataframe().replace({'geo':countries_names})\n",
    "dataframe_3_total_2018 = dataframe_3_total[dataframe_3_total['time']=='2018'].pivot(index = 'geo', columns = 'age', values = 'values') #We get the data of just 2018 and index by country with just the values to plot\n",
    "dataframe_3_urb = client.get_dataset(dataframe_3_query_urb).to_dataframe().replace({'geo':countries_names})\n",
    "dataframe_3_urb_2018 = dataframe_3_urb.loc[dataframe_3_urb['time']=='2018'].pivot(index = 'geo', columns = 'deg_urb', values = 'values') #We get the data of just 2018 and index by country with just the values to plot\n",
    "\n",
    "lastyearvalue(dataframe_3_total_2018,['TOTAL'],dataframe_3_total, 2018) #We search and replace if there is any missing value in 2018 with the data of 2017 and 2016\n",
    "\n",
    "deg = ['DEG1','DEG2','DEG3'] #Create a list in order to pass in the lastyearvalue function with all the columns to check\n",
    "lastyearvalue(dataframe_3_urb_2018, deg,dataframe_3_urb, 2018) #We search and replace if there is any missing value in 2018 with the data of 2017 and 2016\n",
    "\n",
    "dataframe_3_merged = dataframe_3_total_2018.join(dataframe_3_urb_2018) #Join the 2 dataframes to simplify the data\n",
    "\n",
    "EUorderbystatus(dataframe_3_merged)\n",
    "dataframe_3_merged_sorted = dataframe_3_merged.sort_values(['order','TOTAL'],ascending = [True,False]) #Sort the data by order variable and then by its TOTAL\n",
    "dataframe_3_merged_sorted.head()"
   ]
  },
  {
   "cell_type": "markdown",
   "metadata": {},
   "source": [
    "#### Plotting section:\n",
    "Using matpltolib we create a figure and and axis where the 4 scatterplots will be set. \n",
    "\n",
    "Then the lines from the highest to the center and from the lowest to the center are plotted and all the aesthetic items are added or deleted\n",
    "\n",
    "The background color is changed to show the different status of countries in European region\n",
    "\n",
    "Finally the legend is created using custom objects created with lines and patches. \n"
   ]
  },
  {
   "cell_type": "code",
   "execution_count": null,
   "metadata": {},
   "outputs": [],
   "source": [
    "# =============================================================================\n",
    "# PLOTTING SECTION\n",
    "# =============================================================================\n",
    "fig, ax = plt.subplots(figsize=(15, 4))\n",
    "\n",
    "plt.ylim(0,51)\n",
    "\n",
    "\n",
    "sns.scatterplot(x=dataframe_3_merged_sorted.index, #We draw the scatterplot and specify the arguments\n",
    "                             y = dataframe_3_merged_sorted['DEG1'],\n",
    "                             s = 150 ,       \n",
    "                             legend = False,\n",
    "                             color = 'gold',\n",
    "                             zorder = 1) #Specify the order of the drawing to keep the total value in front\n",
    "sns.scatterplot(x=dataframe_3_merged_sorted.index, #We draw the scatterplot and specify the arguments\n",
    "                             y = dataframe_3_merged_sorted['DEG2'],\n",
    "                             s = 150 ,       \n",
    "                             legend = False,\n",
    "                             color='yellowgreen',\n",
    "                             zorder = 2)\n",
    "sns.scatterplot(x=dataframe_3_merged_sorted.index, #We draw the scatterplot and specify the arguments\n",
    "                             y = dataframe_3_merged_sorted['DEG3'],\n",
    "                             s = 150 ,       \n",
    "                             legend = False,\n",
    "                             color='darkorange',\n",
    "                              zorder = 3)\n",
    "scatterplot= sns.scatterplot(x=dataframe_3_merged_sorted.index, #We draw the scatterplot and specify the arguments\n",
    "                             y = dataframe_3_merged_sorted['TOTAL'],\n",
    "                             ax=ax ,\n",
    "                             s = 150 ,\n",
    "                             legend = False,\n",
    "                             marker=\"_\",\n",
    "                             color = 'b', \n",
    "                              zorder = 4)\n",
    "for point in dataframe_3_merged_sorted.drop(['order'], axis = 1):\n",
    "    plt.vlines(dataframe_3_merged_sorted.index, dataframe_3_merged_sorted[point],dataframe_3_merged_sorted['TOTAL'], lw = 0.3, color = 'gray', zorder = 0, ls = '--') #Draw lines from the points to total\n",
    "sns.despine(top=True, right=True, left=True, bottom=False)\n",
    "ax.tick_params(axis = \"y\", left = False)\n",
    "ax.tick_params(axis = \"x\", rotation = 90)\n",
    "ax.grid(True, which = 'major', axis = 'y' , color ='grey', linestyle = '--', alpha = 0.4)\n",
    "\n",
    "ax.set_ylabel('')\n",
    "ax.set_xlabel('')\n",
    "\n",
    "#Set the background color for each group of countries\n",
    "plt.axvspan(-0.5,1.5, facecolor='gold', alpha=0.2)\n",
    "plt.axvspan(1.5, 31.5,facecolor='lightgray', alpha=0.2)\n",
    "plt.axvspan(28.5,31.5, facecolor='brown', alpha=0.2)\n",
    "plt.axvspan(31.5, 33.5, facecolor='b', alpha=0.2)\n",
    "\n",
    "#Create the legend with Lines and Patches\n",
    "gold_point = Line2D([0], [0],lw = 4, color = 'gold', label='Cities', marker = 'o', markersize=10)\n",
    "blue_line =Line2D([0], [0],lw = 4,color='royalblue', label='Total')\n",
    "orange_point =Line2D([0], [0],lw = 4,color='darkorange', label='Rural areas', marker = 'o', markersize=10)\n",
    "green_point = Line2D([0], [0],lw = 4,color='yellowgreen', label='Towns and suburbs', marker = 'o', markersize=10)\n",
    "gold_patch = mpatches.Patch(color='gold', label='Means')\n",
    "blue_patch = mpatches.Patch(color='b', label='Procces of accession')\n",
    "grey_patch = mpatches.Patch(color='lightgray', label='EU countries + UK')\n",
    "brown_patch = mpatches.Patch(color='brown', label='EEA')\n",
    "\n",
    "leg= ax.legend(handles=[orange_point,gold_point, green_point,blue_line, gold_patch, grey_patch, brown_patch, blue_patch],frameon=False, loc=(0.20, -0.53), ncol=4, prop=legend_properties,labelspacing=0.1, handlelength=0.5)\n",
    "\n",
    "for patch in leg.get_patches():\n",
    "    patch.set_width(130)\n",
    "    patch.set_alpha(0.4)\n",
    "ax.set_title('People at risk of poverty or social exclusion by degree of urbanisation, 2018 \\n  (% share of the total population)' \n",
    "             , fontsize=15,fontweight='bold', horizontalalignment = 'left', x = 0, y =1.05)"
   ]
  },
  {
   "cell_type": "markdown",
   "metadata": {},
   "source": [
    "Source: Eurostat ([ilc_peps01](https://appsso.eurostat.ec.europa.eu/nui/show.do?query=BOOKMARK_DS-127829_QID_109B0E0E_UID_-3F171EB0&layout=TIME,C,X,0;GEO,L,Y,0;UNIT,L,Z,0;AGE,L,Z,1;SEX,L,Z,2;INDICATORS,C,Z,3;&zSelection=DS-127829UNIT,PC;DS-127829AGE,Y16-29;DS-127829SEX,T;DS-127829INDICATORS,OBS_FLAG;&rankName1=UNIT_1_2_-1_2&rankName2=AGE_1_2_-1_2&rankName3=INDICATORS_1_2_-1_2&rankName4=SEX_1_2_-1_2&rankName5=TIME_1_0_0_0&rankName6=GEO_1_2_0_1&sortC=ASC_-1_FIRST&rStp=&cStp=&rDCh=&cDCh=&rDM=true&cDM=true&footnes=false&empty=false&wai=false&time_mode=ROLLING&time_most_recent=false&lang=EN&cfo=%23%23%23,%23%23%23.%23%23%23&lang=en)) and ([ilc_peps13](https://appsso.eurostat.ec.europa.eu/nui/show.do?dataset=ilc_peps13&lang=en))"
   ]
  },
  {
   "cell_type": "markdown",
   "metadata": {},
   "source": [
    "### Figure 5:People at risk of poverty or social exclusion by type of risk, 2018\n",
    "\n",
    "#### DATA RETRIEVE AND CLEAN SECTION\n",
    "\n",
    "As in previous figures the data is retrieved with the query and then it is grouped by year and added up in order to have the total people at risk of poverty of each year. "
   ]
  },
  {
   "cell_type": "code",
   "execution_count": null,
   "metadata": {},
   "outputs": [],
   "source": [
    "# =============================================================================\n",
    "# DATA RETRIEVE AND CLEAN SECTION\n",
    "# =============================================================================\n",
    "\n",
    "#We set the parameters of the data with the query builder: https://ec.europa.eu/eurostat/web/json-and-unicode-web-services/getting-started/query-builder\n",
    "\n",
    "dataframe_5_query_total = 'ilc_li02?sinceTimePeriod=2008&precision=1&sex=T&indic_il=LI_R_MD60&unit=PC&age=TOTAL'\n",
    "dataframe_5_query_lowork = 'ilc_lvhl11?sinceTimePeriod=2008&precision=1&sex=T&geo=EU&unit=PC_Y_LT60&age=Y_LT60'\n",
    "dataframe_5_query_material = 'ilc_mddd11?sinceTimePeriod=2008&precision=1&sex=T&unit=PC&age=TOTAL'\n",
    "\n",
    "#We clean the data as in Figure 3 but adding the values by time \n",
    "dataframe_5_total =client.get_dataset(dataframe_5_query_total).to_dataframe()\n",
    "dataframe_5_total =dataframe_5_total.loc[dataframe_5_total['geo'] == 'EU'].pivot(index = 'time',columns = 'age', values = 'values')\n",
    "dataframe_5_lowork =client.get_dataset(dataframe_5_query_lowork).to_dataframe()\n",
    "dataframe_5_lowork =dataframe_5_lowork.loc[dataframe_5_lowork['geo'] == 'EU'].dropna().groupby(by = 'time')['values'].sum()\n",
    "dataframe_5_material = client.get_dataset(dataframe_5_query_material).to_dataframe()\n",
    "dataframe_5_material =dataframe_5_material.loc[dataframe_5_material['geo'] == 'EU'].dropna().groupby(by = 'time')['values'].sum()\n",
    "dataframe_5_material.head()"
   ]
  },
  {
   "cell_type": "markdown",
   "metadata": {},
   "source": [
    "#### Plotting section:\n",
    "Using matpltolib we create a figure and and axis where the 3 line plots will be set. \n",
    "\n",
    "Finally the aesthetic part and legend are done as in figure 3"
   ]
  },
  {
   "cell_type": "code",
   "execution_count": null,
   "metadata": {},
   "outputs": [],
   "source": [
    "# =============================================================================\n",
    "# PLOTTING SECTION\n",
    "# =============================================================================\n",
    "fig, ax = plt.subplots(figsize=(15, 4))\n",
    "plt.style.use('default') # Set the aesthetic style of the plots\n",
    "\n",
    "plt.ylim(0,21)\n",
    "plt.yticks(np.arange(0, 21, step=2))\n",
    "\n",
    "#plot the info \n",
    "plt.plot(dataframe_5_total,color='orange', marker ='o' )\n",
    "plt.plot(dataframe_5_lowork, color='royalblue', marker ='o')\n",
    "plt.plot(dataframe_5_material , color='darkorange', marker ='o')\n",
    "\n",
    "#Create the artist objects for the legend\n",
    "gold_line = Line2D([0], [0],lw = 4, color = 'orange', label='At-risk-of-poverty rate', marker ='o')\n",
    "blue_line =Line2D([0], [0],lw = 4,color='royalblue', label='People living in household with very low work intensity', marker ='o')\n",
    "orange_line =Line2D([0], [0],lw = 4,color='darkorange', label='Severe material deprivation rate', marker ='o')\n",
    "\n",
    "leg= ax.legend(handles=[gold_line,blue_line, orange_line],frameon=False, loc=(0.05, -.26), ncol=3, prop=legend_properties,labelspacing=0.1, handlelength=0.5)\n",
    "\n",
    "ax.grid(True, which = 'major', axis = 'y' , color ='grey', linestyle = '--', alpha = 0.4)\n",
    "sns.despine(top=True, right=True, left=True, bottom=False)\n",
    "ax.tick_params(axis = 'both',which = 'major' , labelsize = 15)\n",
    "ax.tick_params(axis = \"y\", left = False)\n",
    "\n",
    "ax.set_title('People at risk of poverty or social exclusion by type of risk, 2018 \\n  (% share of the total population)' \n",
    "             , fontsize=15,fontweight='bold', horizontalalignment = 'left', x = 0, y =1.05)"
   ]
  },
  {
   "cell_type": "markdown",
   "metadata": {},
   "source": [
    "Source: Eurostat ([ilc_li02](http://appsso.eurostat.ec.europa.eu/nui/show.do?dataset=ilc_li02)) and ([ilc_pees01](http://appsso.eurostat.ec.europa.eu/nui/show.do?dataset=ilc_pees01))"
   ]
  },
  {
   "cell_type": "markdown",
   "metadata": {},
   "source": [
    "### Figure 6: At-risk-of-poverty rate and at-risk-of-poverty threshold, 2018 \n",
    "\n",
    "#### DATA RETRIEVE AND CLEAN SECTION\n",
    "\n",
    "As in figures 3 & 5 the data is retrieved and then cleaned, merged and sorted using the functions *lastyearvalue* and *EUorderbystatus* to get one single dataframe with all the needed info"
   ]
  },
  {
   "cell_type": "code",
   "execution_count": null,
   "metadata": {},
   "outputs": [],
   "source": [
    "# =============================================================================\n",
    "# DATA RETRIEVE AND CLEAN SECTION\n",
    "# =============================================================================\n",
    "#We set the parameters of the data with the query builder: https://ec.europa.eu/eurostat/web/json-and-unicode-web-services/getting-started/query-builder\n",
    "dataframe_6_query_rate = 'ilc_li02?precision=1&sex=T&indic_il=LI_R_MD60&geo=AT&geo=BE&geo=BG&geo=CH&geo=CY&geo=CZ&geo=DE&geo=DK&geo=EU28&geo=FI&geo=FR&geo=HR&geo=HU&geo=IE&geo=IS&geo=IT&geo=LT&geo=LU&geo=LV&geo=ME&geo=MK&geo=MT&geo=NL&geo=NO&geo=PL&geo=PT&geo=RO&geo=RS&geo=SE&geo=SI&geo=SK&geo=TR&geo=UK&unit=PC&time=2016&time=2017&time=2018&age=TOTAL'\n",
    "dataframe_6_query_treshold = 'ilc_li01?hhtyp=A1&time=2016&time=2017&time=2018&precision=1&indic_il=LI_C_M60&currency=EUR'\n",
    "#Retrieve and clean data as in figure 3 & 5\n",
    "dataframe_6_rate =client.get_dataset(dataframe_6_query_rate).to_dataframe().replace({'geo':countries_names})\n",
    "dataframe_6_rate_2018 = dataframe_6_rate[dataframe_6_rate['time'] == '2018'].pivot(index = 'geo',columns = 'unit', values = 'values')\n",
    "dataframe_6_treshold = client.get_dataset(dataframe_6_query_treshold).to_dataframe().replace({'geo':countries_names})\n",
    "dataframe_6_treshold_2018 = dataframe_6_treshold[dataframe_6_treshold['time'] == '2018'].pivot(index = 'geo',columns = 'currency', values = 'values')\n",
    "\n",
    "\n",
    "lastyearvalue(dataframe_6_rate_2018, ['PC'],dataframe_6_rate, 2018 ) #Check the missing values for 2018\n",
    "lastyearvalue(dataframe_6_treshold_2018,['EUR'],dataframe_6_treshold, 2018) #Check the missing values for 2018\n",
    "\n",
    "dataframe_6_treshold_2018 = dataframe_6_treshold_2018.div(1000) #We get the value to plot by dividing by 1000 the treshold dataframe\n",
    "\n",
    "dataframe_6_merged = dataframe_6_rate_2018.join(dataframe_6_treshold_2018) #Merge both df to simplify\n",
    "dataframe_6_merged.at['EU-28','EUR']= 1 #We add the value estimated\n",
    "\n",
    "EUorderbystatus(dataframe_6_merged) #Order by status in EU\n",
    "        \n",
    "\n",
    "dataframe_6_merged_sorted = dataframe_6_merged.sort_values(['order','PC'],ascending = [True,False]).dropna()\n",
    "dataframe_6_merged_sorted.head()\n"
   ]
  },
  {
   "cell_type": "markdown",
   "metadata": {},
   "source": [
    "#### Plotting section:\n",
    "Using matpltolib we create a figure and and axis where the 2 bubble plots will be set. \n",
    "\n",
    "Using a loop one line is drawn from one bubble to another in order to show the diference\n",
    "\n",
    "Finally the aesthetic part and legend are done as in figure 3 and 5"
   ]
  },
  {
   "cell_type": "code",
   "execution_count": null,
   "metadata": {},
   "outputs": [],
   "source": [
    "# =============================================================================\n",
    "# PLOTTING SECTION\n",
    "# =============================================================================\n",
    "fig, ax = plt.subplots(figsize=(15, 4))\n",
    "plt.ylim(0,31)\n",
    "\n",
    "sns.scatterplot(x=dataframe_6_merged_sorted.index, #We draw the scatterplot and specify the arguments\n",
    "                             y = dataframe_6_merged_sorted['PC'],\n",
    "                             s = 150 ,       \n",
    "                             legend = False,\n",
    "                             color = 'gold',\n",
    "                             zorder = 1)\n",
    "sns.scatterplot(x=dataframe_6_merged_sorted.index, #We draw the scatterplot and specify the arguments\n",
    "                             y = dataframe_6_merged_sorted['EUR'],\n",
    "                             ax=ax ,\n",
    "                             s = 150 ,\n",
    "                             legend = False,\n",
    "                             color = 'royalblue', \n",
    "                              zorder = 4)\n",
    "\n",
    "for point in dataframe_6_merged_sorted.drop(['order'], axis = 1): #draw lines from one scatter to another\n",
    "     plt.vlines(dataframe_6_merged_sorted.index, dataframe_6_merged_sorted[point],dataframe_6_merged_sorted['EUR'], lw = 0.3, color = 'gray', zorder = 0, ls = '--')\n",
    "\n",
    "sns.despine(top=True, right=True, left=True, bottom=False)\n",
    "ax.tick_params(axis = \"y\", left = False)\n",
    "ax.tick_params(axis = \"x\", rotation = 90)\n",
    "\n",
    "ax.grid(True, which = 'major', axis = 'y' , color ='grey', linestyle = '--', alpha = 0.4)\n",
    "\n",
    "ax.set_ylabel('')\n",
    "ax.set_xlabel('')\n",
    "\n",
    "#Create custom legend\n",
    "gold_point = Line2D([0], [0],lw = 4, color = 'gold', label='At-risk-of-poverty rate', marker = 'o', markersize=10)\n",
    "blue_point =Line2D([0], [0],lw = 4,color='royalblue', label='At-risk-of-poverty treshold for single person', marker = 'o', markersize=10)\n",
    "\n",
    "leg= ax.legend(handles=[gold_point, blue_point],frameon=False, loc=(0.25, -0.53), ncol=2, prop=legend_properties,labelspacing=0.1, handlelength=0.5)\n",
    "ax.set_title('At-risk-of-poverty rate and at risk-of-poverty treshold, 2018 \\n  (%/thousand PPS)' \n",
    "             , fontsize=15,fontweight='bold', horizontalalignment = 'left', x = 0, y =1.05)"
   ]
  },
  {
   "cell_type": "markdown",
   "metadata": {},
   "source": [
    "Source: Eurostat ([ilc_li02](https://appsso.eurostat.ec.europa.eu/nui/show.do?dataset=ilc_li02&lang=en)) and ([ilc_li01](https://appsso.eurostat.ec.europa.eu/nui/show.do?dataset=ilc_li01&lang=en))"
   ]
  },
  {
   "cell_type": "markdown",
   "metadata": {},
   "source": [
    "### Figure 7: At-risk-of-poverty rate - before and after - deducting housing costs, 2018\n",
    "\n",
    "####  DATA RETRIEVE AND CLEAN SECTION\n",
    "\n",
    "See the procedure for figures 3,5 or 6"
   ]
  },
  {
   "cell_type": "code",
   "execution_count": null,
   "metadata": {},
   "outputs": [],
   "source": [
    "# =============================================================================\n",
    "# DATA RETRIEVE AND CLEAN SECTION\n",
    "# =============================================================================\n",
    "\n",
    "#We set the parameters of the data with the query builder: https://ec.europa.eu/eurostat/web/json-and-unicode-web-services/getting-started/query-builder\n",
    "dataframe_7_query_before = 'ilc_li02?precision=1&sex=T&indic_il=LI_R_MD60&geo=AT&geo=BE&geo=BG&geo=CH&geo=CY&geo=CZ&geo=DE&geo=DK&geo=EU28&geo=FI&geo=FR&geo=HR&geo=HU&geo=IE&geo=IS&geo=IT&geo=LT&geo=LU&geo=LV&geo=ME&geo=MK&geo=MT&geo=NL&geo=NO&geo=PL&geo=PT&geo=RO&geo=RS&geo=SE&geo=SI&geo=SK&geo=TR&geo=UK&unit=PC&time=2016&time=2017&time=2018&age=TOTAL'\n",
    "dataframe_7_query_after = 'ilc_li48?precision=1&deg_urb=TOTAL&time=2016&time=2017&time=2018'\n",
    "\n",
    "dataframe_7_before =client.get_dataset(dataframe_7_query_before).to_dataframe().replace({'geo':countries_names})\n",
    "dataframe_7_before_2018 = dataframe_7_before[dataframe_7_before['time'] == '2018'].pivot(index = 'geo',columns = 'unit', values = 'values')\n",
    "\n",
    "\n",
    "dataframe_7_after =client.get_dataset(dataframe_7_query_after).to_dataframe().replace({'geo':countries_names})\n",
    "dataframe_7_after_2018 = dataframe_7_after[dataframe_7_after['time'] == '2018'].pivot(index = 'geo',columns = 'deg_urb', values = 'values')\n",
    "\n",
    "lastyearvalue(dataframe_7_before_2018,['PC'],dataframe_7_before,2018)\n",
    "lastyearvalue(dataframe_7_after_2018,['TOTAL'],dataframe_7_after,2018)\n",
    "\n",
    "dataframe_7_merged = dataframe_7_before_2018.join(dataframe_7_after_2018) #Merge both df to simplify\n",
    "\n",
    "EUorderbystatus(dataframe_7_merged) #Order by status in EU\n",
    "\n",
    "dataframe_7_merged_sorted = dataframe_7_merged.sort_values(['order','PC'],ascending = [True,False]).dropna()"
   ]
  },
  {
   "cell_type": "markdown",
   "metadata": {},
   "source": [
    "#### Plotting section:\n",
    "Using matpltolib we create a figure and and axis where the 2 barplots will be set. \n",
    "\n",
    "A *width* variable is created so that adding on one barplot and resting on the other barplot will plot the two bars one next to the other\n",
    "\n",
    "Finally the aesthetic part and legend are done as in figure 3, 5 and 6\n"
   ]
  },
  {
   "cell_type": "code",
   "execution_count": null,
   "metadata": {},
   "outputs": [],
   "source": [
    "# =============================================================================\n",
    "# PLOTTING SECTION\n",
    "# =============================================================================\n",
    "\n",
    "fig, ax = plt.subplots(figsize=(15, 4))\n",
    "\n",
    "plt.ylim(0,51)\n",
    "\n",
    "x = np.arange(len(dataframe_7_merged_sorted))\n",
    "width = 0.3 #Use width to create 2 bar charts in the same axis one next to the other\n",
    "\n",
    "bar_before = ax.bar(x - width/2,dataframe_7_merged_sorted['PC'], width, color = 'orange')\n",
    "bar_after = ax.bar(x + width/2,dataframe_7_merged_sorted['TOTAL'], width, color = 'royalblue')\n",
    "plt.xticks(x)\n",
    "labels = dataframe_7_merged_sorted.index.values.tolist()\n",
    "ax.set_xticklabels(labels, rotation = 90) #Set the labels of the x axis as the countries\n",
    "\n",
    "sns.despine(top=True, right=True, left=True, bottom=False)\n",
    "ax.tick_params(axis = \"y\", left = False)\n",
    "ax.grid(True, which = 'major', axis = 'y' , color ='grey', linestyle = '--', alpha = 0.4, zorder = 0)\n",
    "\n",
    "#Create custom legend\n",
    "gold_patch = mpatches.Patch(color='orange', label='Before deducting housing costs')\n",
    "blue_patch = mpatches.Patch(color='royalblue', label='After deducting housing costs')\n",
    "leg= ax.legend(handles=[gold_patch, blue_patch],frameon=False, loc=(0.25, -0.53), ncol=2, prop=legend_properties,labelspacing=0.1, handlelength=0.5)\n",
    "\n",
    "#Set custom tittle\n",
    "ax.set_title('At-risk-of-poverty rate - before and after - deducting housing costs, 2018 \\n  (% share of total population)' \n",
    "             , fontsize=15,fontweight='bold', horizontalalignment = 'left', x = 0, y =1.05)"
   ]
  },
  {
   "cell_type": "markdown",
   "metadata": {},
   "source": [
    "Source: Eurostat ([ilc_li02](https://appsso.eurostat.ec.europa.eu/nui/show.do?dataset=ilc_li02&lang=en)) and ([ilc_li48](https://appsso.eurostat.ec.europa.eu/nui/show.do?dataset=ilc_li48&lang=en))"
   ]
  },
  {
   "cell_type": "markdown",
   "metadata": {},
   "source": [
    "# **Figure 8**\n",
    "![Figure 8: At-risk-of-poverty rate - before and after - social transfers, 2018 (% share of total population)\n",
    "](https://ec.europa.eu/eurostat/statistics-explained/images/f/fe/At-risk-of-poverty_rate_-_before_and_after_-_social_transfers%2C_2018.png)\n",
    "Figure 8: At-risk-of-poverty rate - before and after - social transfers, 2018 (% share of total population)\n",
    "Source: Eurostat ([ilc_li02](https://appsso.eurostat.ec.europa.eu/nui/show.do?dataset=ilc_li02&lang=en)) and ([ilc_li10](https://appsso.eurostat.ec.europa.eu/nui/show.do?dataset=ilc_li10&lang=en))"
   ]
  },
  {
   "cell_type": "markdown",
   "metadata": {},
   "source": [
    "### Figure 8: At-risk-of-poverty rate - before and after - social transfers, 2018\n",
    "\n",
    "#### DATA RETRIEVE AND CLEAN SECTION\n",
    "\n",
    "See the procedure for figures 3,5,6 or 7"
   ]
  },
  {
   "cell_type": "code",
   "execution_count": null,
   "metadata": {},
   "outputs": [],
   "source": [
    "# =============================================================================\n",
    "# DATA RETRIEVE AND CLEAN SECTION\n",
    "# =============================================================================\n",
    "\n",
    "#We set the parameters of the data with the query builder: https://ec.europa.eu/eurostat/web/json-and-unicode-web-services/getting-started/query-builder\n",
    "dataframe_8_query_after = 'ilc_li02?precision=1&sex=T&indic_il=LI_R_MD60&geo=AT&geo=BE&geo=BG&geo=CH&geo=CY&geo=CZ&geo=DE&geo=DK&geo=EU28&geo=FI&geo=FR&geo=HR&geo=HU&geo=IE&geo=IS&geo=IT&geo=LT&geo=LU&geo=LV&geo=ME&geo=MK&geo=MT&geo=NL&geo=NO&geo=PL&geo=PT&geo=RO&geo=RS&geo=SE&geo=SI&geo=SK&geo=TR&geo=UK&unit=PC&time=2016&time=2017&time=2018&age=TOTAL'\n",
    "dataframe_8_query_before = 'ilc_li10?precision=1&sex=T&indic_il=LI_R_MD60BT&age=TOTAL'\n",
    "\n",
    "dataframe_8_after =client.get_dataset(dataframe_8_query_after).to_dataframe().replace({'geo':countries_names})\n",
    "dataframe_8_after_2018 = dataframe_8_after[dataframe_8_after['time'] == '2018'].pivot(index = 'geo',columns = 'unit', values = 'values')\n",
    "\n",
    "dataframe_8_before =client.get_dataset(dataframe_8_query_before).to_dataframe().replace({'geo':countries_names})\n",
    "dataframe_8_before_2018 = dataframe_8_before[dataframe_8_before['time'] == '2018'].pivot(index = 'geo',columns = 'age', values = 'values')\n",
    "\n",
    "lastyearvalue(dataframe_8_after_2018,['PC'],dataframe_8_after,2018)\n",
    "lastyearvalue(dataframe_8_before_2018,['TOTAL'],dataframe_8_before,2018)\n",
    "\n",
    "dataframe_8_merged = dataframe_8_after_2018.join(dataframe_8_before_2018) #Merge both df to simplify\n",
    "\n",
    "EUorderbystatus(dataframe_8_merged) #Order by status in EU\n",
    "\n",
    "dataframe_8_merged_sorted = dataframe_8_merged.sort_values(['order','PC'],ascending = [True,False]).dropna()"
   ]
  },
  {
   "cell_type": "markdown",
   "metadata": {},
   "source": [
    "#### Plotting section:\n",
    "\n",
    "Same as in figure 7"
   ]
  },
  {
   "cell_type": "code",
   "execution_count": null,
   "metadata": {},
   "outputs": [],
   "source": [
    "fig, ax = plt.subplots(figsize=(15, 4))\n",
    "\n",
    "plt.ylim(0,41)\n",
    "\n",
    "x = np.arange(len(dataframe_8_merged_sorted))\n",
    "width = 0.3 #Use width to create 2 bar charts in the same axis one next to the other\n",
    "\n",
    "\n",
    "bar_after = ax.bar(x + width/2,dataframe_8_merged_sorted['PC'], width, color = 'royalblue')\n",
    "bar_before = ax.bar(x - width/2,dataframe_8_merged_sorted['TOTAL'], width, color = 'orange')\n",
    "\n",
    "\n",
    "plt.xticks(x)\n",
    "\n",
    "labels = dataframe_8_merged_sorted.index.values.tolist()\n",
    "ax.set_xticklabels(labels, rotation = 90) #Set the labels of the x axis as the countries\n",
    "sns.despine(top=True, right=True, left=True, bottom=False)\n",
    "ax.tick_params(axis = \"y\", left = False)\n",
    "ax.grid(True, which = 'major', axis = 'y' , color ='grey', linestyle = '--', alpha = 0.4, zorder = 0)\n",
    "\n",
    "#Create custom legend\n",
    "gold_patch = mpatches.Patch(color='orange', label='Before social transfers (but after pensions)')\n",
    "blue_patch = mpatches.Patch(color='royalblue', label='After social transfers')\n",
    "leg= ax.legend(handles=[gold_patch, blue_patch],frameon=False, loc=(0.25, -0.53), ncol=2, prop=legend_properties,labelspacing=0.1, handlelength=0.5)\n",
    "\n",
    "#Set custom tittle\n",
    "ax.set_title('At-risk-of-poverty rate - before and after - social transfers, 2018 \\n  (% share of total population)' \n",
    "             , fontsize=15,fontweight='bold', horizontalalignment = 'left', x = 0, y =1.05)"
   ]
  },
  {
   "cell_type": "markdown",
   "metadata": {},
   "source": [
    "Source: Eurostat ([ilc_li02](https://appsso.eurostat.ec.europa.eu/nui/show.do?dataset=ilc_li02&lang=en)) and ([ilc_li10](https://appsso.eurostat.ec.europa.eu/nui/show.do?dataset=ilc_li10&lang=en))"
   ]
  },
  {
   "cell_type": "markdown",
   "metadata": {},
   "source": [
    "### Map 1: At-risk-of-poverty rate anchored in 2008, 2008-2018 "
   ]
  },
  {
   "cell_type": "markdown",
   "metadata": {},
   "source": [
    "### Setting Map"
   ]
  },
  {
   "cell_type": "code",
   "execution_count": null,
   "metadata": {},
   "outputs": [],
   "source": [
    "#Set versions and formats, so far only the ones used here are availeable and call client\n",
    "VERSION = 'v2.1'\n",
    "FORMAT = 'json'\n",
    "LANGUAGE = 'en'\n",
    "client = EurostatAPIClient(VERSION, FORMAT, LANGUAGE)"
   ]
  },
  {
   "cell_type": "code",
   "execution_count": null,
   "metadata": {},
   "outputs": [],
   "source": [
    "# We save the direc\n",
    "_THISDIR_ = !pwd\n",
    "print('Current working directory: %s' % _THISDIR_)"
   ]
  },
  {
   "cell_type": "code",
   "execution_count": null,
   "metadata": {},
   "outputs": [],
   "source": [
    "# Graph the shape of Europe\n",
    "# We first select the projection that will be used in this graph\n",
    "PROJ = 'EPSG:4326'"
   ]
  },
  {
   "cell_type": "code",
   "execution_count": null,
   "metadata": {},
   "outputs": [],
   "source": [
    "# We can then integrate the NUTS data [https://nbviewer.jupyter.org/github/eurostat/mortality-viz/blob/master/02_mortality_european_regions.ipynb]\n",
    "GISCO_DOMAIN = 'https://gisco-services.ec.europa.eu/distribution/v2/'\n",
    "NUTS_DOMAIN = 'nuts'\n",
    "\n",
    "NUTS_YEAR = 2021\n",
    "NUTS_RES = 20 # 60\n",
    "NUTS_PROJ = PROJ.split(':')[-1] \n",
    "NUTS_FMT = 'geojson' # 'topojson'\n",
    "\n",
    "nuts_template = 'NUTS_RG_%sM_%s_%s_LEVL_%%s.%s' % (NUTS_RES, NUTS_YEAR, NUTS_PROJ, NUTS_FMT) \n",
    "nuts_url = '%s/%s/%s' %  (GISCO_DOMAIN, NUTS_DOMAIN, NUTS_FMT)\n",
    "\n",
    "# https://gisco-services.ec.europa.eu/distribution/v2/nuts/geojson/NUTS_RG_20M_2021_3857_LEVL_1.geojson\n",
    "#    'NUTS_RG_%sM_%s_3035_LEVL_%s.%s'\n",
    "\n",
    "print(\"Generic URL for NUTS data: \\033[1m%s/%s\\033[0m (where '%%s' represents a level)\" \n",
    "      % (nuts_url, nuts_template))"
   ]
  },
  {
   "cell_type": "code",
   "execution_count": null,
   "metadata": {},
   "outputs": [],
   "source": [
    "# We download the different NUTS data (hay cuatro niveles, cada uno de ellos corresponde a una division territorial)\n",
    "\n",
    "LEVELS = [0,1,2,3]\n",
    "\n",
    "nuts_files = dict.fromkeys(LEVELS)\n",
    "nuts_ext = NUTS_FMT\n",
    "\n",
    "for level in LEVELS:\n",
    "    nuts_file = nuts_template % level\n",
    "    nuts_source = '%s/%s' % (nuts_url,nuts_file)\n",
    "    try : \n",
    "        dest = os.path.join(_THISDIR_[0], nuts_file)\n",
    "        assert os.path.exists(dest)\n",
    "    except:\n",
    "        try:\n",
    "            !wget -O $dest \"$nuts_source\"\n",
    "            #!mkdir $nuts_dir\n",
    "            #!unzip -u -d $nuts_dir $nuts_source        \n",
    "        except:\n",
    "            raise IOError(\"Error fetching the data...\")\n",
    "        else:\n",
    "            print('Data loaded on disk in directory: \\033[1m%s\\033[0m' % dest)\n",
    "    else:\n",
    "        print('Data already loaded on disk in directory: \\033[1m%s\\033[0m' % dest)\n",
    "    finally:\n",
    "        nuts_files.update({level: nuts_file}) # dest"
   ]
  },
  {
   "cell_type": "code",
   "execution_count": null,
   "metadata": {},
   "outputs": [],
   "source": [
    "# We 'store' one vector dataset per NUTS level (nuts_data)\n",
    "\n",
    "DRIVERS = {'geojson': 'GeoJSON',\n",
    "          'shp': 'ESRI Shapefile'}\n",
    "\n",
    "nuts_data = dict.fromkeys(LEVELS)\n",
    "[nuts_data.update({l: gpd.read_file(os.path.join(_THISDIR_[0], nuts_files[l]), \n",
    "                                    driver=DRIVERS[NUTS_FMT])}) \n",
    " for l in LEVELS]\n",
    "\n",
    "print(\"Geographical datasets: \\033[1m%s\\033[0m loaded\" % list(nuts_files.values()))\n",
    "print(\"Projection: \\033[1m%s\\033[0m\" % nuts_data[LEVELS[0]].crs)"
   ]
  },
  {
   "cell_type": "code",
   "execution_count": null,
   "metadata": {},
   "outputs": [],
   "source": [
    "# Map of NUTS data (sin visualizar datos)\n",
    "level = LEVELS[0]\n",
    "\n",
    "f, ax = plt.subplots(1, figsize=(16, 16))\n",
    "nuts_data[level].plot(ax=ax)\n",
    "ax.axes.get_xaxis().set_visible(False); ax.axes.get_yaxis().set_visible(False)\n",
    "ax.set_title(\"NUTS at level %s (projection 'EPSG:%s')\" % (level,NUTS_PROJ)) \n",
    "f.tight_layout()\n",
    "plt.show()"
   ]
  },
  {
   "cell_type": "markdown",
   "metadata": {},
   "source": [
    "#### DATA RETRIEVE AND CLEAN SECTION\n",
    "\n",
    "The data of 2008 and 2018 is retrieved using the query and then the final values resting the value from 2018 with the value from 2008"
   ]
  },
  {
   "cell_type": "code",
   "execution_count": null,
   "metadata": {},
   "outputs": [],
   "source": [
    "# We define query of dataframes from Eurostat query builder\n",
    "\n",
    "dataframe_map1_query = 'ilc_li22b?precision=1&sex=T&indic_il=LI_R_MD60&unit=PC&time=2008&time=2018&age=TOTAL'\n",
    "dataframe_map1 =client.get_dataset(dataframe_map1_query).to_dataframe()\n",
    "dataframe_map1_2008 = dataframe_map1[dataframe_map1['time']==\"2008\"].pivot(index = 'geo',columns = 'unit', values = 'values')\n",
    "dataframe_map1_2018 = dataframe_map1[dataframe_map1['time']==\"2018\"].pivot(index = 'geo',columns = 'unit', values = 'values')\n",
    "values = dataframe_map1_2018-dataframe_map1_2008\n",
    "\n",
    "values.sort_values(by = 'PC').head(5)\n"
   ]
  },
  {
   "cell_type": "markdown",
   "metadata": {},
   "source": [
    "#### Colors in the map\n",
    "\n",
    "A conditional is used in order to set to each of the ranges of values a color"
   ]
  },
  {
   "cell_type": "code",
   "execution_count": null,
   "metadata": {},
   "outputs": [],
   "source": [
    "trace = []\n",
    "colors = []\n",
    "for value in values['PC']:\n",
    "    if value< -4.0:\n",
    "        colors.append('navajowhite')\n",
    "    elif value< 0.0:\n",
    "        colors.append('orange')\n",
    "    elif value< 4:\n",
    "        colors.append('chocolate')\n",
    "    elif value >4:\n",
    "        colors.append('orangered')\n",
    "    else:\n",
    "        colors.append('darkgrey')\n",
    "values['geo'] = values.index.tolist()\n",
    "values['colors'] = colors\n",
    "\n",
    "values.head(n = 5)"
   ]
  },
  {
   "cell_type": "code",
   "execution_count": null,
   "metadata": {},
   "outputs": [],
   "source": [
    "# Check which data/countries (DATA_NUTS_ID) are actually made available throughout the dataset\n",
    "KEY = 'NUTS_ID'\n",
    "\n",
    "NUTS_ID = dict.fromkeys(LEVELS)\n",
    "CTRY_ID = dict.fromkeys(LEVELS) \n",
    "\n",
    "for l in LEVELS:\n",
    "    NUTS_ID.update({l: nuts_data[l][KEY].unique().tolist()})\n",
    "    CTRY_ID.update({l: list(set([_id[:2] for _id in NUTS_ID[l]]))})\n",
    "    \n",
    "DATA_NUTS_ID = dict.fromkeys(LEVELS) \n",
    "all_id = values['geo'].unique().tolist()\n",
    "\n",
    "print('Data are availalble:') \n",
    "for l in LEVELS:\n",
    "    DATA_NUTS_ID.update({l: list(set([_id[:2] for _id in all_id if len(_id)==l+2]))})\n",
    "    print('* NUTS level %s: \\033[1m%s\\033[0m' \n",
    "          % (l, DATA_NUTS_ID[l]))"
   ]
  },
  {
   "cell_type": "code",
   "execution_count": null,
   "metadata": {},
   "outputs": [],
   "source": [
    "# Check which country/datasets are missing\n",
    "MISSING_CTRY_ID = dict.fromkeys(LEVELS) \n",
    "\n",
    "print('Data are NOT availalble:') \n",
    "for l in LEVELS:\n",
    "    MISSING_CTRY_ID.update({l: list(set(CTRY_ID[l]).difference(set(DATA_NUTS_ID[l])))})\n",
    "    print('* NUTS level %s: \\033[1m%s\\033[0m' \n",
    "          % (l, MISSING_CTRY_ID[l]))"
   ]
  },
  {
   "cell_type": "code",
   "execution_count": null,
   "metadata": {},
   "outputs": [],
   "source": [
    "# Prepare dataframe to merge the NUTS DATA\n",
    "values.rename(columns = {'geo':'NUTS_ID'}, inplace = True)\n",
    "values.head(n = 5)"
   ]
  },
  {
   "cell_type": "code",
   "execution_count": null,
   "metadata": {},
   "outputs": [],
   "source": [
    "# We merge NUTS_Data and Dataset_map1\n",
    "country_data = nuts_data[LEVELS[0]]\n",
    "\n",
    "# Merge on NUTS_ID\n",
    "income_nuts = pd.merge(country_data, values, how = 'inner', on = 'NUTS_ID')\n",
    "income_nuts.head()\n",
    "colors = income_nuts['colors']"
   ]
  },
  {
   "cell_type": "code",
   "execution_count": null,
   "metadata": {},
   "outputs": [],
   "source": [
    "# We define a very coarse bounding box that is embedded in the NUTS bounding box (NUTSarea) so as to render the data in a smaller region\n",
    "EUmask = geometry.Polygon([#w: -25.5, s:35, e:30.2, n:71.3 in EPSG:4326 system\n",
    "                         (-25.5, 30.2),\n",
    "                         (45.3,  30.2),\n",
    "                         (45.3,  71.3),\n",
    "                         (-25.5, 71.3)\n",
    "])\n",
    "EUclip = gpd.GeoDataFrame(index=[0], geometry=[EUmask], crs=PROJ)\n",
    "\n",
    "NUTSarea = gpd.GeoDataFrame(index=[0], geometry=[nuts_data[0].unary_union], crs=PROJ)\n",
    "\n",
    "\n",
    "f, ax = plt.subplots(1, figsize=(16, 10))\n",
    "EUclip.boundary.plot(ax=ax, color='r', label='clip area')\n",
    "NUTSarea.boundary.plot(ax=ax, color='b', label='NUTS area')\n",
    "ax.axes.get_xaxis().set_visible(False); ax.axes.get_yaxis().set_visible(False)\n",
    "ax.set_title('Clipped domain of representation')\n",
    "ax.legend()\n",
    "plt.show()"
   ]
  },
  {
   "cell_type": "markdown",
   "metadata": {},
   "source": [
    "#### Plotting section:\n",
    "\n",
    "Using the *geopandas* module with the dataframe created merging the data from Eurostat and the NUTS the map with the colors is painted. \n",
    "\n",
    "To make it more aesthetical the boundaries are painted black using the *geopandas.boundary* module"
   ]
  },
  {
   "cell_type": "code",
   "execution_count": null,
   "metadata": {},
   "outputs": [],
   "source": [
    "LEVEL = 0\n",
    "crop = gpd.clip(income_nuts, EUclip)\n",
    "# crop = nuts_death_data[LEVEL].intersection(EUclip.unary_union) \n",
    "\n",
    "f, ax = plt.subplots(1, figsize=(30, 25))\n",
    "crop.plot(color=colors,ax=ax,  legend = True,\n",
    "          legend_kwds = {'shrink':0.55},\n",
    "          missing_kwds={ \"color\": \"lightgrey\", \"alpha\": 0.2, \"edgecolor\": \"grey\", \"hatch\": \"///\"}\n",
    "         )\n",
    "crop.boundary.plot(ax = ax, color = 'black')\n",
    "ax.set_axis_off()\n",
    "ax.set_title('At risk-of-poverty-rate anchoreed in 2008, 2008-2018 \\n (percentage points difference, 2018 minus 2008'\n",
    "             , fontsize=30,fontweight='bold', horizontalalignment = 'left', x = 0, y =1.05)\n",
    "# f.tight_layout()\n",
    "#f.subplots_adjust(hspace=0,wspace=-1)\n",
    "\n",
    "#Create custom legend\n",
    "\n",
    "orange_patch = mpatches.Patch(color='orange', label='-4 - <0.0 ')\n",
    "orangered_patch = mpatches.Patch(color='orangered', label='>4')\n",
    "navajowhite_patch = mpatches.Patch(color='navajowhite', label='<-4.0')\n",
    "darkgrey_patch = mpatches.Patch(color='darkgrey', label='No data available')\n",
    "chocolate_patch = mpatches.Patch(color='chocolate', label='0.0 - <4')\n",
    "\n",
    "leg= ax.legend(handles=[navajowhite_patch, orange_patch,chocolate_patch,orangered_patch,darkgrey_patch],frameon=False, loc=(0, -0.1), ncol=1, prop={'weight':'bold','size':'30'},labelspacing=0.5, handlelength=1)\n"
   ]
  },
  {
   "cell_type": "markdown",
   "metadata": {},
   "source": [
    "Source: Eurostat ([ilc_li22b](https://appsso.eurostat.ec.europa.eu/nui/show.do?dataset=ilc_li22b&lang=en))"
   ]
  },
  {
   "cell_type": "markdown",
   "metadata": {},
   "source": [
    "### Additional material\n",
    "\n",
    "At this stage, it is up to you to extend the work presented in the notebook with further analysis/visualisation you deem relevant. "
   ]
  }
 ],
 "metadata": {
  "kernelspec": {
   "display_name": "Python 3",
   "language": "python",
   "name": "python3"
  },
  "language_info": {
   "codemirror_mode": {
    "name": "ipython",
    "version": 3
   },
   "file_extension": ".py",
   "mimetype": "text/x-python",
   "name": "python",
   "nbconvert_exporter": "python",
   "pygments_lexer": "ipython3",
   "version": "3.7.7"
  }
 },
 "nbformat": 4,
 "nbformat_minor": 4
}
