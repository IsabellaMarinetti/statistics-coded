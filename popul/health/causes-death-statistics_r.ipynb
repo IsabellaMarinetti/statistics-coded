{
 "cells": [
  {
   "cell_type": "markdown",
   "metadata": {
    "colab_type": "text",
    "id": "sM8ZePrlR54s"
   },
   "source": [
    "# *Statistics coded:* Causes of death statistics\n",
    "\n",
    "Prepared by  [**Katharina Koehler**](@kkatha) ([LinkedIn](https://www.linkedin.com/in/katharina-köhler-99b2b4178)) ([EMOS](https://ec.europa.eu/eurostat/web/european-statistical-system/emos)).\n",
    "\n",
    "The objective of this notebook is to reproduce the figures of the *Statistics Explained* article on [**causes of death**](https://ec.europa.eu/eurostat/statistics-explained/index.php?title=Causes_of_death_statistics).\n",
    "\n",
    "This article gives an overview of recent statistics on [causes of death](https://ec.europa.eu/eurostat/statistics-explained/index.php?title=Glossary:Cause_of_death) in the [European Union (EU)](https://ec.europa.eu/eurostat/statistics-explained/index.php?title=Glossary:European_Union_(EU)). For some statistics, not only EU member states are analysed but also [EFTA](https://ec.europa.eu/eurostat/statistics-explained/index.php?title=Glossary:EFTA) countries (Norway, Liechtenstein, Switzerland and Iceland), potential member states (Serbia and Turkey) and the UK. By relating all deaths in the population to an underlying cause of death, the risks associated with death from a range of specific diseases and other causes can be assessed; these figures can be further analysed by age, sex, country where the death occurred/residency of the deceased, and region ([NUTS](https://ec.europa.eu/eurostat/statistics-explained/index.php?title=Glossary:Nomenclature_of_territorial_units_for_statistics_(NUTS)) level 2), using [standardised death rates](https://ec.europa.eu/eurostat/statistics-explained/index.php?title=Glossary:Standardised_death_rate_(SDR))."
   ]
  },
  {
   "cell_type": "markdown",
   "metadata": {},
   "source": [
    "## Configuration\n",
    "\n",
    "Puting all libraries/packages/modules/etc... that are necessary to run this notebook."
   ]
  },
  {
   "cell_type": "code",
   "execution_count": 121,
   "metadata": {
    "colab": {},
    "colab_type": "code",
    "id": "eUjGK-qhR55M"
   },
   "outputs": [],
   "source": [
    "#install.packages(c(\"ggplot2\", \"dplyr\", \"restatapi\",\"eurostat\",\"patchwork\",\"formattable\",\"kableExtra\"))"
   ]
  },
  {
   "cell_type": "code",
   "execution_count": 83,
   "metadata": {},
   "outputs": [],
   "source": [
    "library(ggplot2)\n",
    "library(dplyr)\n",
    "library(patchwork)\n",
    "#library(restatapi)\n",
    "library (eurostat)\n",
    "library(kableExtra)"
   ]
  },
  {
   "cell_type": "markdown",
   "metadata": {},
   "source": [
    "## Loading relevant datasets for analyses/ graphics\n",
    "\n",
    "Pulling data from [_Eurostat_ API](https://ec.europa.eu/eurostat/web/json-and-unicode-web-services/getting-started/rest-request), id / code used in function argument _hlth_cd_asdr2_ and _hlth_cd_asdr_ to identify dataset:\n",
    "- [hlth_cd_asdr2](https://ec.europa.eu/eurostat/databrowser/view/hlth_cd_asdr2/default/table?lang=en): Causes of death - standardised death rate by residence, 2011-2017 needed\n",
    "- [hlth_cd_asdr](https://ec.europa.eu/eurostat/databrowser/view/hlth_cd_asdr/default/table?lang=en): Causes of death - standardised death rate per 100 000 inhabitants - annual data, 2006-2010 needed\n",
    "\n",
    "### First step\n",
    "\n",
    "Define variables for relevant countries (EU-member states and EU, EFTA, potential member states and the UK)\n",
    "\n",
    "### Second Step\n",
    "\n",
    "- Loading the complete dataset per bulk download via API -> Filtering the complete data set accordingly with `R` commands later\n",
    "- `dataset1` = years 2011-2017, `dataset_2` = years 2006-2010\n",
    "- change data format to keep only the year (done with `substring` command)"
   ]
  },
  {
   "cell_type": "code",
   "execution_count": 4,
   "metadata": {},
   "outputs": [],
   "source": [
    "EU_27 <- c(\"AT\",\"BE\", \"BG\",\"HR\",\"CY\", \"CZ\",\"DK\", \"DE\", \"EE\",\"FI\",\"FR\",\"EL\",\"HU\",\"IE\",\n",
    "           \"IT\",\"LV\",\"LT\",\"LU\",\"MT\",\"NL\",\"PL\",\"PT\",\"RO\",\"SK\",\"SI\",\"ES\",\"SE\")\n",
    "countries <- c(\"EU27_2020\",\"BE\", \"BG\",\"CZ\",\"DK\", \"DE\", \"EE\",\"IE\",\"EL\",\"ES\",\"FR\",\"HR\", \"IT\",\n",
    "               \"CY\",\"LV\",\"LT\",\"LU\",\"HU\",\"MT\",\"NL\",\"AT\",\"PL\",\"PT\",\"RO\",\"SK\",\"SI\",\"FI\",\"SE\",\"UK\",\"IS\",\"LI\",\"NO\",\"CH\",\"RS\",\"TR\")\n",
    "Country <- c(\"EU-27\",\"Belgium\",\"Bulgaria\",\"Czechia\",\"Denmark\",\"Germany\",\"Estonia\",\"Ireland\",\n",
    "                \"Greece\",\"Spain\",\"France\",\"Croatia\",\"Italy\",\"Cyprus\",\"Latvia\",\"Lithuania\",\n",
    "                \"Luxembourg\",\"Hungary\",\"Malta\",\"Netherlands\",\"Austria\",\"Poland\",\"Portugal\",\n",
    "                \"Romania\",\"Slovenia\",\"Slovakia\",\"Finland\",\"Sweden\",\"United Kingdom\",\"Iceland\",\n",
    "                \"Liechtenstein\",\"Norway\",\"Switzerland\",\"Serbia\",\"Turkey\")"
   ]
  },
  {
   "cell_type": "code",
   "execution_count": 3,
   "metadata": {},
   "outputs": [
    {
     "name": "stderr",
     "output_type": "stream",
     "text": [
      "Table hlth_cd_asdr2 cached at C:\\Users\\Katha\\AppData\\Local\\Temp\\Rtmp4mVdC3/eurostat/hlth_cd_asdr2_date_code_TF.rds\n"
     ]
    }
   ],
   "source": [
    "dataset1 <- get_eurostat(id=\"hlth_cd_asdr2\")"
   ]
  },
  {
   "cell_type": "code",
   "execution_count": 5,
   "metadata": {},
   "outputs": [],
   "source": [
    "dataset1$time <- as.integer(substr(dataset1$time,1,4))"
   ]
  },
  {
   "cell_type": "code",
   "execution_count": 6,
   "metadata": {},
   "outputs": [
    {
     "name": "stderr",
     "output_type": "stream",
     "text": [
      "Table hlth_cd_asdr cached at C:\\Users\\Katha\\AppData\\Local\\Temp\\Rtmp4mVdC3/eurostat/hlth_cd_asdr_date_code_TF.rds\n"
     ]
    }
   ],
   "source": [
    "dataset_2 <- get_eurostat(id=\"hlth_cd_asdr\")"
   ]
  },
  {
   "cell_type": "code",
   "execution_count": 7,
   "metadata": {
    "scrolled": true
   },
   "outputs": [],
   "source": [
    "dataset_2 <- subset(dataset_2,dataset_2$time >= 2006)"
   ]
  },
  {
   "cell_type": "code",
   "execution_count": 8,
   "metadata": {},
   "outputs": [],
   "source": [
    "dataset_2$time <- as.integer(substr(dataset_2$time,1,4))"
   ]
  },
  {
   "cell_type": "markdown",
   "metadata": {},
   "source": [
    "## Main findings\n",
    "\n",
    "The code here will help reproducing the material presented in the section [Main findings](https://ec.europa.eu/eurostat/statistics-explained/index.php?title=Causes_of_death_statistics).\n",
    "\n",
    "### Table 1: Causes of death - standardised death rate 2017, per 100 000 inhabitants\n",
    "\n",
    "#### First steps: Filter data accordingly\n",
    "\n",
    "  - only keeping relevant countries (see defined variable above)\n",
    "  - creating one values variable with values from 2017 and from 2016 where 2017 not available (for France and EU27 category)\n",
    "  - using for causes of death like breast cancer only females data\n",
    "  - keeping only causes of death relevant for table\n",
    "  - deleting not needed variables/columns"
   ]
  },
  {
   "cell_type": "code",
   "execution_count": 9,
   "metadata": {},
   "outputs": [],
   "source": [
    "datatbl1 <- subset(dataset1,\n",
    "                     dataset1$age ==\"TOTAL\" & \n",
    "                    dataset1$geo %in% countries & \n",
    "                     (dataset1$time==2017 | dataset1$time==2016))"
   ]
  },
  {
   "cell_type": "code",
   "execution_count": 10,
   "metadata": {},
   "outputs": [],
   "source": [
    "datatbl1$values_n <- ifelse(datatbl1$time==2017,datatbl1$values,NA)\n",
    "datatbl1[datatbl1$geo==\"FR\",]$values_n <- datatbl1[datatbl1$geo==\"FR\",]$values\n",
    "datatbl1[datatbl1$geo==\"EU27_2020\",]$values_n <- datatbl1[datatbl1$geo==\"EU27_2020\",]$values\n",
    "datatbl1 <- datatbl1[!is.na(datatbl1$values_n),]"
   ]
  },
  {
   "cell_type": "code",
   "execution_count": 11,
   "metadata": {},
   "outputs": [],
   "source": [
    "causes <- c(\"I\",\"I20-I25\",\"C\",\"C33_C34\",\"C18-C21\",\"J\",\"G_H\",\"V_Y85\",\"X60-X84_Y870\",\"C50\",\"C53\",\"C54_C55\")\n",
    "causes2 <- c(\"Circulatory disease\",\"Heart disease\",\"Cancer\",\"Lung Cancer\",\"Colorectal cancer\",\"Respiratory diseases\",\n",
    "             \"Diseases of the nervous system\",\"Transport accidents\",\"Suicide\",\"Breast Cancer (Females)\",\"Cancer of the cervix(Females)\",\n",
    "             \"Cancer of the uterus(Females)\")\n",
    "datatbl1_v <- datatbl1[datatbl1$icd10 %in% causes,]\n",
    "datatbl1 <- datatbl1[datatbl1$icd10 %in% causes,]\n",
    "datatbl1 <- subset(datatbl1_v,datatbl1_v$sex==\"T\")\n",
    "datatbl1$values_n[datatbl1$icd10 == \"C50\"] <- datatbl1_v$values_n[datatbl1_v$icd10==\"C50\"&datatbl1_v$sex==\"F\"]\n",
    "datatbl1$values_n[datatbl1$icd10 == \"C53\"] <- datatbl1_v$values_n[datatbl1_v$icd10==\"C53\"&datatbl1_v$sex==\"F\"]\n",
    "datatbl1$values_n[datatbl1$icd10 == \"C54_C55\"] <- datatbl1_v$values_n[datatbl1_v$icd10==\"C54_C55\"&datatbl1_v$sex==\"F\"]\n",
    "datatbl11 <- datatbl1[,c(4,5,8)]\n",
    "#tail(datatbl11)"
   ]
  },
  {
   "cell_type": "markdown",
   "metadata": {},
   "source": [
    "#### Second steps: Table\n",
    "  \n",
    "  - changing data frame format: \n",
    "    - creating seperate data frame for every cause (with two columns, country & values of death rate)\n",
    "    - ordering data frames according to the order of the original datatable & add columnnames\n",
    "  - creating new dataset in style of the original data table\n",
    "  - printing data table"
   ]
  },
  {
   "cell_type": "code",
   "execution_count": 12,
   "metadata": {},
   "outputs": [],
   "source": [
    "datlist <- vector(mode=\"list\",12)\n",
    "for(i in 1:length(causes)){\n",
    "  datlist[[i]] <- subset(datatbl11,datatbl11$icd10 == causes[i])\n",
    "  datlist[[i]] <- datlist[[i]][,-1]\n",
    "  datlist[[i]] <- datlist[[i]][order(factor(datlist[[i]]$geo, levels= countries)),]\n",
    "  colnames(datlist[[i]]) <- c(\"country\",causes2[i]) \n",
    "}"
   ]
  },
  {
   "cell_type": "code",
   "execution_count": 13,
   "metadata": {},
   "outputs": [
    {
     "data": {
      "text/html": [
       "<table>\n",
       "<thead><tr><th scope=col>Country</th><th scope=col>Circulatory disease</th><th scope=col>Heart disease</th><th scope=col>Cancer</th><th scope=col>Lung Cancer</th><th scope=col>Colorectal cancer</th><th scope=col>Respiratory diseases</th><th scope=col>Diseases of the nervous system</th><th scope=col>Transport accidents</th><th scope=col>Suicide</th><th scope=col>Breast Cancer (Females)</th><th scope=col>Cancer of the cervix(Females)</th><th scope=col>Cancer of the uterus(Females)</th></tr></thead>\n",
       "<tbody>\n",
       "\t<tr><td>EU-27         </td><td> 370.19       </td><td>119.37        </td><td>257.06        </td><td>52.85         </td><td>30.69         </td><td> 74.91        </td><td> 40.29        </td><td> 6.03         </td><td>10.75         </td><td>32.67         </td><td> 3.95         </td><td> 6.66         </td></tr>\n",
       "\t<tr><td>Belgium       </td><td> 262.91       </td><td> 65.43        </td><td>240.06        </td><td>52.88         </td><td>25.52         </td><td>108.62        </td><td> 51.10        </td><td> 5.49         </td><td>15.43         </td><td>34.83         </td><td> 2.88         </td><td> 6.22         </td></tr>\n",
       "\t<tr><td>Bulgaria      </td><td>1115.83       </td><td>194.77        </td><td>232.81        </td><td>43.69         </td><td>33.31         </td><td> 67.66        </td><td> 13.02        </td><td> 8.21         </td><td> 9.76         </td><td>29.35         </td><td> 8.85         </td><td> 9.12         </td></tr>\n",
       "\t<tr><td>Czechia       </td><td> 586.05       </td><td>292.26        </td><td>275.80        </td><td>53.06         </td><td>36.72         </td><td> 90.87        </td><td> 36.58        </td><td> 6.85         </td><td>13.19         </td><td>28.73         </td><td> 5.66         </td><td> 7.38         </td></tr>\n",
       "\t<tr><td>Denmark       </td><td> 242.30       </td><td> 70.12        </td><td>287.93        </td><td>66.75         </td><td>33.72         </td><td>123.53        </td><td> 48.36        </td><td> 3.55         </td><td>10.49         </td><td>37.23         </td><td> 3.14         </td><td> 5.20         </td></tr>\n",
       "\t<tr><td>Germany       </td><td> 383.65       </td><td>139.09        </td><td>248.01        </td><td>49.65         </td><td>26.47         </td><td> 75.17        </td><td> 34.93        </td><td> 4.18         </td><td>10.56         </td><td>35.79         </td><td> 3.32         </td><td> 5.19         </td></tr>\n",
       "\t<tr><td>Estonia       </td><td> 633.81       </td><td>240.07        </td><td>289.24        </td><td>48.40         </td><td>37.78         </td><td> 43.22        </td><td> 25.34        </td><td> 4.97         </td><td>17.26         </td><td>31.79         </td><td> 8.90         </td><td> 6.94         </td></tr>\n",
       "\t<tr><td>Ireland       </td><td> 290.14       </td><td>133.04        </td><td>270.93        </td><td>56.49         </td><td>30.82         </td><td>135.52        </td><td> 49.51        </td><td> 3.08         </td><td> 8.41         </td><td>37.82         </td><td> 4.33         </td><td> 6.94         </td></tr>\n",
       "\t<tr><td>Greece        </td><td> 368.14       </td><td>105.46        </td><td>246.68        </td><td>60.99         </td><td>21.80         </td><td>107.52        </td><td> 29.57        </td><td> 8.06         </td><td> 4.52         </td><td>32.21         </td><td> 2.07         </td><td> 5.82         </td></tr>\n",
       "\t<tr><td>Spain         </td><td> 238.34       </td><td> 63.70        </td><td>228.46        </td><td>47.85         </td><td>31.75         </td><td>100.47        </td><td> 51.31        </td><td> 4.42         </td><td> 7.53         </td><td>23.71         </td><td> 2.60         </td><td> 5.88         </td></tr>\n",
       "\t<tr><td>France        </td><td> 196.14       </td><td> 46.43        </td><td>243.45        </td><td>48.70         </td><td>26.23         </td><td> 56.67        </td><td> 53.08        </td><td> 5.00         </td><td>13.20         </td><td>33.09         </td><td> 2.27         </td><td> 7.32         </td></tr>\n",
       "\t<tr><td>Croatia       </td><td> 637.01       </td><td>301.55        </td><td>323.25        </td><td>68.35         </td><td>48.43         </td><td> 82.78        </td><td> 30.82        </td><td> 9.89         </td><td>14.77         </td><td>34.90         </td><td> 4.61         </td><td> 7.98         </td></tr>\n",
       "\t<tr><td>Italy         </td><td> 306.46       </td><td> 89.89        </td><td>239.33        </td><td>48.47         </td><td>26.79         </td><td> 70.02        </td><td> 40.73        </td><td> 5.66         </td><td> 5.95         </td><td>32.13         </td><td> 1.33         </td><td> 6.77         </td></tr>\n",
       "\t<tr><td>Cyprus        </td><td> 358.68       </td><td>107.37        </td><td>211.84        </td><td>43.43         </td><td>21.09         </td><td>116.28        </td><td> 40.13        </td><td> 7.10         </td><td> 4.07         </td><td>33.98         </td><td> 2.47         </td><td> 4.13         </td></tr>\n",
       "\t<tr><td>Latvia        </td><td> 841.79       </td><td>369.77        </td><td>298.68        </td><td>48.88         </td><td>32.28         </td><td> 42.95        </td><td> 24.44        </td><td> 8.18         </td><td>17.92         </td><td>33.95         </td><td> 9.18         </td><td>11.41         </td></tr>\n",
       "\t<tr><td>Lithuania     </td><td> 822.09       </td><td>536.19        </td><td>274.18        </td><td>42.27         </td><td>31.55         </td><td> 46.65        </td><td> 24.36        </td><td> 8.74         </td><td>25.82         </td><td>26.80         </td><td>11.27         </td><td> 8.12         </td></tr>\n",
       "\t<tr><td>Luxembourg    </td><td> 285.64       </td><td> 74.44        </td><td>238.30        </td><td>50.75         </td><td>25.09         </td><td> 71.13        </td><td> 41.60        </td><td> 3.42         </td><td> 9.49         </td><td>40.26         </td><td> 1.44         </td><td> 5.81         </td></tr>\n",
       "\t<tr><td>Hungary       </td><td> 764.10       </td><td>381.22        </td><td>342.14        </td><td>89.23         </td><td>53.14         </td><td> 89.60        </td><td> 23.65        </td><td> 8.48         </td><td>16.68         </td><td>37.42         </td><td> 6.84         </td><td> 7.49         </td></tr>\n",
       "\t<tr><td>Malta         </td><td> 334.50       </td><td>190.34        </td><td>224.61        </td><td>41.17         </td><td>33.31         </td><td>105.81        </td><td> 24.66        </td><td> 4.56         </td><td> 5.33         </td><td>28.07         </td><td> 3.13         </td><td> 5.11         </td></tr>\n",
       "\t<tr><td>Netherlands   </td><td> 257.16       </td><td> 55.04        </td><td>279.94        </td><td>63.49         </td><td>32.04         </td><td> 86.75        </td><td> 55.99        </td><td> 4.24         </td><td>11.25         </td><td>34.93         </td><td> 2.34         </td><td> 5.63         </td></tr>\n",
       "\t<tr><td>Austria       </td><td> 391.92       </td><td>164.86        </td><td>236.23        </td><td>45.46         </td><td>24.96         </td><td> 62.85        </td><td> 37.32        </td><td> 5.18         </td><td>13.91         </td><td>31.74         </td><td> 3.30         </td><td> 5.18         </td></tr>\n",
       "\t<tr><td>Poland        </td><td> 545.22       </td><td>143.19        </td><td>293.64        </td><td>66.99         </td><td>37.05         </td><td> 84.20        </td><td> 19.80        </td><td> 9.40         </td><td>11.68         </td><td>33.40         </td><td> 8.00         </td><td> 9.49         </td></tr>\n",
       "\t<tr><td>Portugal      </td><td> 289.79       </td><td> 64.56        </td><td>245.22        </td><td>38.02         </td><td>34.19         </td><td>116.19        </td><td> 33.78        </td><td> 7.76         </td><td> 9.64         </td><td>27.51         </td><td> 3.41         </td><td> 6.57         </td></tr>\n",
       "\t<tr><td>Romania       </td><td> 899.59       </td><td>296.69        </td><td>276.50        </td><td>54.09         </td><td>34.63         </td><td> 87.33        </td><td> 24.63        </td><td>12.54         </td><td> 9.94         </td><td>33.20         </td><td>14.80         </td><td> 6.19         </td></tr>\n",
       "\t<tr><td>Slovenia      </td><td> 652.92       </td><td>375.33        </td><td>314.91        </td><td>49.54         </td><td>46.92         </td><td> 95.80        </td><td> 27.50        </td><td> 7.48         </td><td> 7.23         </td><td>40.68         </td><td> 7.39         </td><td>10.11         </td></tr>\n",
       "\t<tr><td>Slovakia      </td><td> 429.98       </td><td>101.29        </td><td>308.05        </td><td>58.92         </td><td>33.74         </td><td> 66.79        </td><td> 31.64        </td><td> 6.69         </td><td>19.58         </td><td>36.14         </td><td> 3.70         </td><td> 8.44         </td></tr>\n",
       "\t<tr><td>Finland       </td><td> 344.98       </td><td>177.50        </td><td>219.19        </td><td>39.07         </td><td>23.95         </td><td> 36.76        </td><td>168.67        </td><td> 5.15         </td><td>15.00         </td><td>28.66         </td><td> 1.82         </td><td> 6.17         </td></tr>\n",
       "\t<tr><td>Sweden        </td><td> 309.38       </td><td>111.74        </td><td>231.55        </td><td>38.31         </td><td>27.85         </td><td> 67.12        </td><td> 54.09        </td><td> 2.88         </td><td>12.15         </td><td>26.36         </td><td> 2.93         </td><td> 6.65         </td></tr>\n",
       "\t<tr><td>United Kingdom</td><td> 249.91       </td><td>108.82        </td><td>273.59        </td><td>58.08         </td><td>28.02         </td><td>135.96        </td><td> 62.20        </td><td> 2.49         </td><td> 7.47         </td><td>33.62         </td><td> 2.57         </td><td> 7.10         </td></tr>\n",
       "\t<tr><td>Iceland       </td><td> 289.71       </td><td>128.77        </td><td>237.50        </td><td>49.69         </td><td>23.47         </td><td>100.96        </td><td>103.24        </td><td> 2.74         </td><td> 9.81         </td><td>30.06         </td><td> 4.72         </td><td> 5.40         </td></tr>\n",
       "\t<tr><td>Liechtenstein </td><td> 301.53       </td><td> 50.15        </td><td>186.03        </td><td>29.42         </td><td>24.21         </td><td>113.38        </td><td> 19.41        </td><td> 9.35         </td><td>14.15         </td><td>21.82         </td><td> 5.23         </td><td>21.58         </td></tr>\n",
       "\t<tr><td>Norway        </td><td> 232.68       </td><td> 79.79        </td><td>241.65        </td><td>47.64         </td><td>36.02         </td><td>103.90        </td><td> 50.10        </td><td> 3.03         </td><td>11.62         </td><td>23.34         </td><td> 3.03         </td><td> 6.00         </td></tr>\n",
       "\t<tr><td>Switzerland   </td><td> 262.38       </td><td> 89.00        </td><td>214.81        </td><td>41.51         </td><td>22.05         </td><td> 58.20        </td><td> 44.14        </td><td> 3.66         </td><td>12.35         </td><td>29.76         </td><td> 1.50         </td><td> 4.53         </td></tr>\n",
       "\t<tr><td>Serbia        </td><td> 882.26       </td><td>144.89        </td><td>296.56        </td><td>69.27         </td><td>37.74         </td><td> 81.58        </td><td> 42.56        </td><td> 8.29         </td><td>14.27         </td><td>44.53         </td><td>12.34         </td><td> 8.12         </td></tr>\n",
       "\t<tr><td>Turkey        </td><td> 519.52       </td><td>198.81        </td><td>196.05        </td><td>56.94         </td><td>19.05         </td><td>158.57        </td><td> 67.45        </td><td>10.46         </td><td> 3.76         </td><td>15.87         </td><td> 1.87         </td><td> 4.35         </td></tr>\n",
       "</tbody>\n",
       "</table>\n"
      ],
      "text/latex": [
       "\\begin{tabular}{r|lllllllllllll}\n",
       " Country & Circulatory disease & Heart disease & Cancer & Lung Cancer & Colorectal cancer & Respiratory diseases & Diseases of the nervous system & Transport accidents & Suicide & Breast Cancer (Females) & Cancer of the cervix(Females) & Cancer of the uterus(Females)\\\\\n",
       "\\hline\n",
       "\t EU-27          &  370.19        & 119.37         & 257.06         & 52.85          & 30.69          &  74.91         &  40.29         &  6.03          & 10.75          & 32.67          &  3.95          &  6.66         \\\\\n",
       "\t Belgium        &  262.91        &  65.43         & 240.06         & 52.88          & 25.52          & 108.62         &  51.10         &  5.49          & 15.43          & 34.83          &  2.88          &  6.22         \\\\\n",
       "\t Bulgaria       & 1115.83        & 194.77         & 232.81         & 43.69          & 33.31          &  67.66         &  13.02         &  8.21          &  9.76          & 29.35          &  8.85          &  9.12         \\\\\n",
       "\t Czechia        &  586.05        & 292.26         & 275.80         & 53.06          & 36.72          &  90.87         &  36.58         &  6.85          & 13.19          & 28.73          &  5.66          &  7.38         \\\\\n",
       "\t Denmark        &  242.30        &  70.12         & 287.93         & 66.75          & 33.72          & 123.53         &  48.36         &  3.55          & 10.49          & 37.23          &  3.14          &  5.20         \\\\\n",
       "\t Germany        &  383.65        & 139.09         & 248.01         & 49.65          & 26.47          &  75.17         &  34.93         &  4.18          & 10.56          & 35.79          &  3.32          &  5.19         \\\\\n",
       "\t Estonia        &  633.81        & 240.07         & 289.24         & 48.40          & 37.78          &  43.22         &  25.34         &  4.97          & 17.26          & 31.79          &  8.90          &  6.94         \\\\\n",
       "\t Ireland        &  290.14        & 133.04         & 270.93         & 56.49          & 30.82          & 135.52         &  49.51         &  3.08          &  8.41          & 37.82          &  4.33          &  6.94         \\\\\n",
       "\t Greece         &  368.14        & 105.46         & 246.68         & 60.99          & 21.80          & 107.52         &  29.57         &  8.06          &  4.52          & 32.21          &  2.07          &  5.82         \\\\\n",
       "\t Spain          &  238.34        &  63.70         & 228.46         & 47.85          & 31.75          & 100.47         &  51.31         &  4.42          &  7.53          & 23.71          &  2.60          &  5.88         \\\\\n",
       "\t France         &  196.14        &  46.43         & 243.45         & 48.70          & 26.23          &  56.67         &  53.08         &  5.00          & 13.20          & 33.09          &  2.27          &  7.32         \\\\\n",
       "\t Croatia        &  637.01        & 301.55         & 323.25         & 68.35          & 48.43          &  82.78         &  30.82         &  9.89          & 14.77          & 34.90          &  4.61          &  7.98         \\\\\n",
       "\t Italy          &  306.46        &  89.89         & 239.33         & 48.47          & 26.79          &  70.02         &  40.73         &  5.66          &  5.95          & 32.13          &  1.33          &  6.77         \\\\\n",
       "\t Cyprus         &  358.68        & 107.37         & 211.84         & 43.43          & 21.09          & 116.28         &  40.13         &  7.10          &  4.07          & 33.98          &  2.47          &  4.13         \\\\\n",
       "\t Latvia         &  841.79        & 369.77         & 298.68         & 48.88          & 32.28          &  42.95         &  24.44         &  8.18          & 17.92          & 33.95          &  9.18          & 11.41         \\\\\n",
       "\t Lithuania      &  822.09        & 536.19         & 274.18         & 42.27          & 31.55          &  46.65         &  24.36         &  8.74          & 25.82          & 26.80          & 11.27          &  8.12         \\\\\n",
       "\t Luxembourg     &  285.64        &  74.44         & 238.30         & 50.75          & 25.09          &  71.13         &  41.60         &  3.42          &  9.49          & 40.26          &  1.44          &  5.81         \\\\\n",
       "\t Hungary        &  764.10        & 381.22         & 342.14         & 89.23          & 53.14          &  89.60         &  23.65         &  8.48          & 16.68          & 37.42          &  6.84          &  7.49         \\\\\n",
       "\t Malta          &  334.50        & 190.34         & 224.61         & 41.17          & 33.31          & 105.81         &  24.66         &  4.56          &  5.33          & 28.07          &  3.13          &  5.11         \\\\\n",
       "\t Netherlands    &  257.16        &  55.04         & 279.94         & 63.49          & 32.04          &  86.75         &  55.99         &  4.24          & 11.25          & 34.93          &  2.34          &  5.63         \\\\\n",
       "\t Austria        &  391.92        & 164.86         & 236.23         & 45.46          & 24.96          &  62.85         &  37.32         &  5.18          & 13.91          & 31.74          &  3.30          &  5.18         \\\\\n",
       "\t Poland         &  545.22        & 143.19         & 293.64         & 66.99          & 37.05          &  84.20         &  19.80         &  9.40          & 11.68          & 33.40          &  8.00          &  9.49         \\\\\n",
       "\t Portugal       &  289.79        &  64.56         & 245.22         & 38.02          & 34.19          & 116.19         &  33.78         &  7.76          &  9.64          & 27.51          &  3.41          &  6.57         \\\\\n",
       "\t Romania        &  899.59        & 296.69         & 276.50         & 54.09          & 34.63          &  87.33         &  24.63         & 12.54          &  9.94          & 33.20          & 14.80          &  6.19         \\\\\n",
       "\t Slovenia       &  652.92        & 375.33         & 314.91         & 49.54          & 46.92          &  95.80         &  27.50         &  7.48          &  7.23          & 40.68          &  7.39          & 10.11         \\\\\n",
       "\t Slovakia       &  429.98        & 101.29         & 308.05         & 58.92          & 33.74          &  66.79         &  31.64         &  6.69          & 19.58          & 36.14          &  3.70          &  8.44         \\\\\n",
       "\t Finland        &  344.98        & 177.50         & 219.19         & 39.07          & 23.95          &  36.76         & 168.67         &  5.15          & 15.00          & 28.66          &  1.82          &  6.17         \\\\\n",
       "\t Sweden         &  309.38        & 111.74         & 231.55         & 38.31          & 27.85          &  67.12         &  54.09         &  2.88          & 12.15          & 26.36          &  2.93          &  6.65         \\\\\n",
       "\t United Kingdom &  249.91        & 108.82         & 273.59         & 58.08          & 28.02          & 135.96         &  62.20         &  2.49          &  7.47          & 33.62          &  2.57          &  7.10         \\\\\n",
       "\t Iceland        &  289.71        & 128.77         & 237.50         & 49.69          & 23.47          & 100.96         & 103.24         &  2.74          &  9.81          & 30.06          &  4.72          &  5.40         \\\\\n",
       "\t Liechtenstein  &  301.53        &  50.15         & 186.03         & 29.42          & 24.21          & 113.38         &  19.41         &  9.35          & 14.15          & 21.82          &  5.23          & 21.58         \\\\\n",
       "\t Norway         &  232.68        &  79.79         & 241.65         & 47.64          & 36.02          & 103.90         &  50.10         &  3.03          & 11.62          & 23.34          &  3.03          &  6.00         \\\\\n",
       "\t Switzerland    &  262.38        &  89.00         & 214.81         & 41.51          & 22.05          &  58.20         &  44.14         &  3.66          & 12.35          & 29.76          &  1.50          &  4.53         \\\\\n",
       "\t Serbia         &  882.26        & 144.89         & 296.56         & 69.27          & 37.74          &  81.58         &  42.56         &  8.29          & 14.27          & 44.53          & 12.34          &  8.12         \\\\\n",
       "\t Turkey         &  519.52        & 198.81         & 196.05         & 56.94          & 19.05          & 158.57         &  67.45         & 10.46          &  3.76          & 15.87          &  1.87          &  4.35         \\\\\n",
       "\\end{tabular}\n"
      ],
      "text/markdown": [
       "\n",
       "| Country | Circulatory disease | Heart disease | Cancer | Lung Cancer | Colorectal cancer | Respiratory diseases | Diseases of the nervous system | Transport accidents | Suicide | Breast Cancer (Females) | Cancer of the cervix(Females) | Cancer of the uterus(Females) |\n",
       "|---|---|---|---|---|---|---|---|---|---|---|---|---|\n",
       "| EU-27          |  370.19        | 119.37         | 257.06         | 52.85          | 30.69          |  74.91         |  40.29         |  6.03          | 10.75          | 32.67          |  3.95          |  6.66          |\n",
       "| Belgium        |  262.91        |  65.43         | 240.06         | 52.88          | 25.52          | 108.62         |  51.10         |  5.49          | 15.43          | 34.83          |  2.88          |  6.22          |\n",
       "| Bulgaria       | 1115.83        | 194.77         | 232.81         | 43.69          | 33.31          |  67.66         |  13.02         |  8.21          |  9.76          | 29.35          |  8.85          |  9.12          |\n",
       "| Czechia        |  586.05        | 292.26         | 275.80         | 53.06          | 36.72          |  90.87         |  36.58         |  6.85          | 13.19          | 28.73          |  5.66          |  7.38          |\n",
       "| Denmark        |  242.30        |  70.12         | 287.93         | 66.75          | 33.72          | 123.53         |  48.36         |  3.55          | 10.49          | 37.23          |  3.14          |  5.20          |\n",
       "| Germany        |  383.65        | 139.09         | 248.01         | 49.65          | 26.47          |  75.17         |  34.93         |  4.18          | 10.56          | 35.79          |  3.32          |  5.19          |\n",
       "| Estonia        |  633.81        | 240.07         | 289.24         | 48.40          | 37.78          |  43.22         |  25.34         |  4.97          | 17.26          | 31.79          |  8.90          |  6.94          |\n",
       "| Ireland        |  290.14        | 133.04         | 270.93         | 56.49          | 30.82          | 135.52         |  49.51         |  3.08          |  8.41          | 37.82          |  4.33          |  6.94          |\n",
       "| Greece         |  368.14        | 105.46         | 246.68         | 60.99          | 21.80          | 107.52         |  29.57         |  8.06          |  4.52          | 32.21          |  2.07          |  5.82          |\n",
       "| Spain          |  238.34        |  63.70         | 228.46         | 47.85          | 31.75          | 100.47         |  51.31         |  4.42          |  7.53          | 23.71          |  2.60          |  5.88          |\n",
       "| France         |  196.14        |  46.43         | 243.45         | 48.70          | 26.23          |  56.67         |  53.08         |  5.00          | 13.20          | 33.09          |  2.27          |  7.32          |\n",
       "| Croatia        |  637.01        | 301.55         | 323.25         | 68.35          | 48.43          |  82.78         |  30.82         |  9.89          | 14.77          | 34.90          |  4.61          |  7.98          |\n",
       "| Italy          |  306.46        |  89.89         | 239.33         | 48.47          | 26.79          |  70.02         |  40.73         |  5.66          |  5.95          | 32.13          |  1.33          |  6.77          |\n",
       "| Cyprus         |  358.68        | 107.37         | 211.84         | 43.43          | 21.09          | 116.28         |  40.13         |  7.10          |  4.07          | 33.98          |  2.47          |  4.13          |\n",
       "| Latvia         |  841.79        | 369.77         | 298.68         | 48.88          | 32.28          |  42.95         |  24.44         |  8.18          | 17.92          | 33.95          |  9.18          | 11.41          |\n",
       "| Lithuania      |  822.09        | 536.19         | 274.18         | 42.27          | 31.55          |  46.65         |  24.36         |  8.74          | 25.82          | 26.80          | 11.27          |  8.12          |\n",
       "| Luxembourg     |  285.64        |  74.44         | 238.30         | 50.75          | 25.09          |  71.13         |  41.60         |  3.42          |  9.49          | 40.26          |  1.44          |  5.81          |\n",
       "| Hungary        |  764.10        | 381.22         | 342.14         | 89.23          | 53.14          |  89.60         |  23.65         |  8.48          | 16.68          | 37.42          |  6.84          |  7.49          |\n",
       "| Malta          |  334.50        | 190.34         | 224.61         | 41.17          | 33.31          | 105.81         |  24.66         |  4.56          |  5.33          | 28.07          |  3.13          |  5.11          |\n",
       "| Netherlands    |  257.16        |  55.04         | 279.94         | 63.49          | 32.04          |  86.75         |  55.99         |  4.24          | 11.25          | 34.93          |  2.34          |  5.63          |\n",
       "| Austria        |  391.92        | 164.86         | 236.23         | 45.46          | 24.96          |  62.85         |  37.32         |  5.18          | 13.91          | 31.74          |  3.30          |  5.18          |\n",
       "| Poland         |  545.22        | 143.19         | 293.64         | 66.99          | 37.05          |  84.20         |  19.80         |  9.40          | 11.68          | 33.40          |  8.00          |  9.49          |\n",
       "| Portugal       |  289.79        |  64.56         | 245.22         | 38.02          | 34.19          | 116.19         |  33.78         |  7.76          |  9.64          | 27.51          |  3.41          |  6.57          |\n",
       "| Romania        |  899.59        | 296.69         | 276.50         | 54.09          | 34.63          |  87.33         |  24.63         | 12.54          |  9.94          | 33.20          | 14.80          |  6.19          |\n",
       "| Slovenia       |  652.92        | 375.33         | 314.91         | 49.54          | 46.92          |  95.80         |  27.50         |  7.48          |  7.23          | 40.68          |  7.39          | 10.11          |\n",
       "| Slovakia       |  429.98        | 101.29         | 308.05         | 58.92          | 33.74          |  66.79         |  31.64         |  6.69          | 19.58          | 36.14          |  3.70          |  8.44          |\n",
       "| Finland        |  344.98        | 177.50         | 219.19         | 39.07          | 23.95          |  36.76         | 168.67         |  5.15          | 15.00          | 28.66          |  1.82          |  6.17          |\n",
       "| Sweden         |  309.38        | 111.74         | 231.55         | 38.31          | 27.85          |  67.12         |  54.09         |  2.88          | 12.15          | 26.36          |  2.93          |  6.65          |\n",
       "| United Kingdom |  249.91        | 108.82         | 273.59         | 58.08          | 28.02          | 135.96         |  62.20         |  2.49          |  7.47          | 33.62          |  2.57          |  7.10          |\n",
       "| Iceland        |  289.71        | 128.77         | 237.50         | 49.69          | 23.47          | 100.96         | 103.24         |  2.74          |  9.81          | 30.06          |  4.72          |  5.40          |\n",
       "| Liechtenstein  |  301.53        |  50.15         | 186.03         | 29.42          | 24.21          | 113.38         |  19.41         |  9.35          | 14.15          | 21.82          |  5.23          | 21.58          |\n",
       "| Norway         |  232.68        |  79.79         | 241.65         | 47.64          | 36.02          | 103.90         |  50.10         |  3.03          | 11.62          | 23.34          |  3.03          |  6.00          |\n",
       "| Switzerland    |  262.38        |  89.00         | 214.81         | 41.51          | 22.05          |  58.20         |  44.14         |  3.66          | 12.35          | 29.76          |  1.50          |  4.53          |\n",
       "| Serbia         |  882.26        | 144.89         | 296.56         | 69.27          | 37.74          |  81.58         |  42.56         |  8.29          | 14.27          | 44.53          | 12.34          |  8.12          |\n",
       "| Turkey         |  519.52        | 198.81         | 196.05         | 56.94          | 19.05          | 158.57         |  67.45         | 10.46          |  3.76          | 15.87          |  1.87          |  4.35          |\n",
       "\n"
      ],
      "text/plain": [
       "   Country        Circulatory disease Heart disease Cancer Lung Cancer\n",
       "1  EU-27           370.19             119.37        257.06 52.85      \n",
       "2  Belgium         262.91              65.43        240.06 52.88      \n",
       "3  Bulgaria       1115.83             194.77        232.81 43.69      \n",
       "4  Czechia         586.05             292.26        275.80 53.06      \n",
       "5  Denmark         242.30              70.12        287.93 66.75      \n",
       "6  Germany         383.65             139.09        248.01 49.65      \n",
       "7  Estonia         633.81             240.07        289.24 48.40      \n",
       "8  Ireland         290.14             133.04        270.93 56.49      \n",
       "9  Greece          368.14             105.46        246.68 60.99      \n",
       "10 Spain           238.34              63.70        228.46 47.85      \n",
       "11 France          196.14              46.43        243.45 48.70      \n",
       "12 Croatia         637.01             301.55        323.25 68.35      \n",
       "13 Italy           306.46              89.89        239.33 48.47      \n",
       "14 Cyprus          358.68             107.37        211.84 43.43      \n",
       "15 Latvia          841.79             369.77        298.68 48.88      \n",
       "16 Lithuania       822.09             536.19        274.18 42.27      \n",
       "17 Luxembourg      285.64              74.44        238.30 50.75      \n",
       "18 Hungary         764.10             381.22        342.14 89.23      \n",
       "19 Malta           334.50             190.34        224.61 41.17      \n",
       "20 Netherlands     257.16              55.04        279.94 63.49      \n",
       "21 Austria         391.92             164.86        236.23 45.46      \n",
       "22 Poland          545.22             143.19        293.64 66.99      \n",
       "23 Portugal        289.79              64.56        245.22 38.02      \n",
       "24 Romania         899.59             296.69        276.50 54.09      \n",
       "25 Slovenia        652.92             375.33        314.91 49.54      \n",
       "26 Slovakia        429.98             101.29        308.05 58.92      \n",
       "27 Finland         344.98             177.50        219.19 39.07      \n",
       "28 Sweden          309.38             111.74        231.55 38.31      \n",
       "29 United Kingdom  249.91             108.82        273.59 58.08      \n",
       "30 Iceland         289.71             128.77        237.50 49.69      \n",
       "31 Liechtenstein   301.53              50.15        186.03 29.42      \n",
       "32 Norway          232.68              79.79        241.65 47.64      \n",
       "33 Switzerland     262.38              89.00        214.81 41.51      \n",
       "34 Serbia          882.26             144.89        296.56 69.27      \n",
       "35 Turkey          519.52             198.81        196.05 56.94      \n",
       "   Colorectal cancer Respiratory diseases Diseases of the nervous system\n",
       "1  30.69              74.91                40.29                        \n",
       "2  25.52             108.62                51.10                        \n",
       "3  33.31              67.66                13.02                        \n",
       "4  36.72              90.87                36.58                        \n",
       "5  33.72             123.53                48.36                        \n",
       "6  26.47              75.17                34.93                        \n",
       "7  37.78              43.22                25.34                        \n",
       "8  30.82             135.52                49.51                        \n",
       "9  21.80             107.52                29.57                        \n",
       "10 31.75             100.47                51.31                        \n",
       "11 26.23              56.67                53.08                        \n",
       "12 48.43              82.78                30.82                        \n",
       "13 26.79              70.02                40.73                        \n",
       "14 21.09             116.28                40.13                        \n",
       "15 32.28              42.95                24.44                        \n",
       "16 31.55              46.65                24.36                        \n",
       "17 25.09              71.13                41.60                        \n",
       "18 53.14              89.60                23.65                        \n",
       "19 33.31             105.81                24.66                        \n",
       "20 32.04              86.75                55.99                        \n",
       "21 24.96              62.85                37.32                        \n",
       "22 37.05              84.20                19.80                        \n",
       "23 34.19             116.19                33.78                        \n",
       "24 34.63              87.33                24.63                        \n",
       "25 46.92              95.80                27.50                        \n",
       "26 33.74              66.79                31.64                        \n",
       "27 23.95              36.76               168.67                        \n",
       "28 27.85              67.12                54.09                        \n",
       "29 28.02             135.96                62.20                        \n",
       "30 23.47             100.96               103.24                        \n",
       "31 24.21             113.38                19.41                        \n",
       "32 36.02             103.90                50.10                        \n",
       "33 22.05              58.20                44.14                        \n",
       "34 37.74              81.58                42.56                        \n",
       "35 19.05             158.57                67.45                        \n",
       "   Transport accidents Suicide Breast Cancer (Females)\n",
       "1   6.03               10.75   32.67                  \n",
       "2   5.49               15.43   34.83                  \n",
       "3   8.21                9.76   29.35                  \n",
       "4   6.85               13.19   28.73                  \n",
       "5   3.55               10.49   37.23                  \n",
       "6   4.18               10.56   35.79                  \n",
       "7   4.97               17.26   31.79                  \n",
       "8   3.08                8.41   37.82                  \n",
       "9   8.06                4.52   32.21                  \n",
       "10  4.42                7.53   23.71                  \n",
       "11  5.00               13.20   33.09                  \n",
       "12  9.89               14.77   34.90                  \n",
       "13  5.66                5.95   32.13                  \n",
       "14  7.10                4.07   33.98                  \n",
       "15  8.18               17.92   33.95                  \n",
       "16  8.74               25.82   26.80                  \n",
       "17  3.42                9.49   40.26                  \n",
       "18  8.48               16.68   37.42                  \n",
       "19  4.56                5.33   28.07                  \n",
       "20  4.24               11.25   34.93                  \n",
       "21  5.18               13.91   31.74                  \n",
       "22  9.40               11.68   33.40                  \n",
       "23  7.76                9.64   27.51                  \n",
       "24 12.54                9.94   33.20                  \n",
       "25  7.48                7.23   40.68                  \n",
       "26  6.69               19.58   36.14                  \n",
       "27  5.15               15.00   28.66                  \n",
       "28  2.88               12.15   26.36                  \n",
       "29  2.49                7.47   33.62                  \n",
       "30  2.74                9.81   30.06                  \n",
       "31  9.35               14.15   21.82                  \n",
       "32  3.03               11.62   23.34                  \n",
       "33  3.66               12.35   29.76                  \n",
       "34  8.29               14.27   44.53                  \n",
       "35 10.46                3.76   15.87                  \n",
       "   Cancer of the cervix(Females) Cancer of the uterus(Females)\n",
       "1   3.95                          6.66                        \n",
       "2   2.88                          6.22                        \n",
       "3   8.85                          9.12                        \n",
       "4   5.66                          7.38                        \n",
       "5   3.14                          5.20                        \n",
       "6   3.32                          5.19                        \n",
       "7   8.90                          6.94                        \n",
       "8   4.33                          6.94                        \n",
       "9   2.07                          5.82                        \n",
       "10  2.60                          5.88                        \n",
       "11  2.27                          7.32                        \n",
       "12  4.61                          7.98                        \n",
       "13  1.33                          6.77                        \n",
       "14  2.47                          4.13                        \n",
       "15  9.18                         11.41                        \n",
       "16 11.27                          8.12                        \n",
       "17  1.44                          5.81                        \n",
       "18  6.84                          7.49                        \n",
       "19  3.13                          5.11                        \n",
       "20  2.34                          5.63                        \n",
       "21  3.30                          5.18                        \n",
       "22  8.00                          9.49                        \n",
       "23  3.41                          6.57                        \n",
       "24 14.80                          6.19                        \n",
       "25  7.39                         10.11                        \n",
       "26  3.70                          8.44                        \n",
       "27  1.82                          6.17                        \n",
       "28  2.93                          6.65                        \n",
       "29  2.57                          7.10                        \n",
       "30  4.72                          5.40                        \n",
       "31  5.23                         21.58                        \n",
       "32  3.03                          6.00                        \n",
       "33  1.50                          4.53                        \n",
       "34 12.34                          8.12                        \n",
       "35  1.87                          4.35                        "
      ]
     },
     "metadata": {},
     "output_type": "display_data"
    }
   ],
   "source": [
    "(table1 <- cbind(Country, datlist[[1]][,2],\n",
    "      datlist[[2]][,2],\n",
    "      datlist[[3]][,2],\n",
    "      datlist[[4]][,2],\n",
    "      datlist[[5]][,2],\n",
    "      datlist[[6]][,2],\n",
    "      datlist[[7]][,2],\n",
    "      datlist[[8]][,2],\n",
    "      datlist[[9]][,2],\n",
    "      datlist[[10]][,2],\n",
    "      datlist[[11]][,2],\n",
    "      datlist[[12]][,2]))"
   ]
  },
  {
   "cell_type": "markdown",
   "metadata": {},
   "source": [
    "#### Additional step\n",
    "\n",
    "  - Creating HTML data table with `kableExtra` package with adjusted colors and footnotes"
   ]
  },
  {
   "cell_type": "code",
   "execution_count": 14,
   "metadata": {},
   "outputs": [],
   "source": [
    "kbl (table1)%>%\n",
    "    row_spec(0,background=\"#eded6d\",bold=T)%>%\n",
    "    row_spec (1,background=\"#edd16d\") %>%\n",
    "    row_spec(29,background=\"#cfccc4\") %>%\n",
    "    row_spec(30:33,background=\"#b8b5ad\") %>%\n",
    "    row_spec(34:35,background=\"#a19e99\") %>%\n",
    "    footnote(general=\"Heart disease = ischeamic heart diseases,\n",
    "    Cancer = malignant neoplasms, \n",
    "    Lung cancer = malignant neoplasms of trachea, bronchus and lung,\n",
    "    France & EU 27 with numbers from 2016, \n",
    "    Definitions differ for Turkey,\n",
    "    Source: https://ec.europa.eu/eurostat/databrowser/view/hlth_cd_asdr2/default/table?lang=en\") %>%\n",
    "    kable_styling(bootstrap_options=c(\"striped\",\"hover\"))%>%\n",
    "    kable_paper (full_width=FALSE)"
   ]
  },
  {
   "cell_type": "markdown",
   "metadata": {},
   "source": [
    "## Developments between 2006 & 2016\n",
    "\n",
    "The code here will help reproducing the material presented in the section [Developments between 2006 and 2010](https://ec.europa.eu/eurostat/statistics-explained/index.php?title=Causes_of_death_statistics)."
   ]
  },
  {
   "cell_type": "markdown",
   "metadata": {},
   "source": [
    "### Figures 1 & 2: Causes of death - standardised death rate per 100 000 inhabitants, EU-27, 2006-2016\n",
    "\n",
    "#### First steps: \n",
    "\n",
    "  - Merging two datasets to get data in the time interval 2006 - 2010\n",
    "  - Applying filters (same procedure for females and males)\n",
    "    - Filter dataset with `subset` command (Male/ Female, age, only the summarising country level EU 27)\n",
    "    - keep only relevant causes for the graphic (`C`=Cancer, `C_33-C34`=Lung cancer, `C_50`=Breast Cancer, `G_H`=Nervous system, `I20_I25`=Ischaemic heart disease, `V_Y85`=Transport Accidents) & drop empty levels with `droplevels` command\n",
    "    - check structure/ levels with `str` command"
   ]
  },
  {
   "cell_type": "code",
   "execution_count": 72,
   "metadata": {},
   "outputs": [],
   "source": [
    "# Merge:\n",
    "dataset_3 <- rbind(dataset1,dataset_2) \n",
    "#str(dataset_3)"
   ]
  },
  {
   "cell_type": "markdown",
   "metadata": {},
   "source": [
    "1. Filter Males"
   ]
  },
  {
   "cell_type": "code",
   "execution_count": 73,
   "metadata": {},
   "outputs": [],
   "source": [
    "##Graphic Males, 2006-2016, 100=2006\n",
    "datagr1 <- subset(dataset_3, dataset_3$sex==\"M\" & dataset_3$age ==\"TOTAL\" &\n",
    "                     dataset_3$geo == \"EU27_2020\")\n",
    "datagr1 <- subset(datagr1, datagr1$time >=2006)\n",
    "#Keep only causes relevant for graphic\n",
    "causesm <- c(\"V_Y85\",\"C\",\"G_H\",\"I20-I25\",\"C33_C34\")\n",
    "datagr1 <- datagr1[datagr1$icd10 %in% causesm,]\n",
    "datagr1 <- droplevels(datagr1)"
   ]
  },
  {
   "cell_type": "markdown",
   "metadata": {},
   "source": [
    "2. Filter Females"
   ]
  },
  {
   "cell_type": "code",
   "execution_count": 74,
   "metadata": {},
   "outputs": [],
   "source": [
    "##Graphic Females, 2006-2016, 100=2006\n",
    "datagr2 <- subset(dataset_3, dataset_3$sex==\"F\" & dataset_3$age ==\"TOTAL\" &\n",
    "                     dataset_3$geo == \"EU27_2020\")\n",
    "datagr2 <- subset(datagr2, datagr2$time >=2006)\n",
    "#Keep only causes relevant for graphic\n",
    "causesf <- c(\"V_Y85\",\"C\",\"G_H\",\"I20-I25\",\"C50\",\"C33_C34\")\n",
    "datagr2 <- datagr2[datagr2$icd10 %in% causesf,]\n",
    "datagr2 <- droplevels(datagr2)"
   ]
  },
  {
   "cell_type": "markdown",
   "metadata": {},
   "source": [
    "#### Second step: Standardize such that 2006 = 100\n",
    "\n",
    "  - same procedure for females and males\n",
    "    - taking the values from year 2006 for each cause (2009 for lung cancer)\n",
    "    - dividing all other respective values with value from 2006/2009 divided by 100\n",
    "    \n",
    "1. Males"
   ]
  },
  {
   "cell_type": "code",
   "execution_count": 75,
   "metadata": {},
   "outputs": [],
   "source": [
    "for (i in 1:4){\n",
    "    datagr1$values[datagr1$icd10==causesm[i]] <- (datagr1$values[datagr1$icd10==causesm[i]])/\n",
    "    ((datagr1$values[datagr1$icd10==causesm[i] & datagr1$time==2006])/100)\n",
    "}\n",
    "datagr1$values[datagr1$icd10==causesm[5]] <- (datagr1$values[datagr1$icd10==causesm[5]])/\n",
    "    ((datagr1$values[datagr1$icd10==causesm[5] & datagr1$time==2009])/100)"
   ]
  },
  {
   "cell_type": "markdown",
   "metadata": {},
   "source": [
    "2. Females"
   ]
  },
  {
   "cell_type": "code",
   "execution_count": 76,
   "metadata": {},
   "outputs": [],
   "source": [
    "for (i in 1:5){\n",
    "    datagr2$values[datagr2$icd10==causesf[i]] <- (datagr2$values[datagr2$icd10==causesf[i]])/\n",
    "    ((datagr2$values[datagr2$icd10==causesf[i] & datagr2$time==2006])/100)\n",
    "}\n",
    "datagr2$values[datagr2$icd10==causesf[6]] <- (datagr2$values[datagr2$icd10==causesf[6]])/\n",
    "    ((datagr2$values[datagr2$icd10==causesf[6] & datagr2$time==2009])/100)"
   ]
  },
  {
   "cell_type": "markdown",
   "metadata": {},
   "source": [
    "#### Third step: Create graphic with `ggplot2` package\n",
    "\n",
    "  - using the package `ggplot` to create the line plot for males and females (+ connects the different subcommands for the graphic)\n",
    "  - creating the space with `aes` (variables on x and y axis, grouped by _icd10_ - causes of death)\n",
    "  - adding the lines for the different causes of death with `geom_line`, different colors for each cause and with `linewidth` 1\n",
    "  - adding a horizontal line for the start value (of the rate) 100 of 2006, in black, `linetype` 2 (dashed) \n",
    "  - creating the title with `subtitle`\n",
    "  - setting the values for the `y` and `x` axis \n",
    "  - changing the overall theme to `\"classic\"` (white background)\n",
    "  - definining the `legend` position\n",
    "  - filling the legend manually with _icd10_ definitions and colors (token from the original graphic with hex code)\n",
    "  - deleting labeling of axes\n",
    "  - changing the size of `title` and `subtitle`\n",
    "\n",
    "1. Males"
   ]
  },
  {
   "cell_type": "code",
   "execution_count": 136,
   "metadata": {},
   "outputs": [],
   "source": [
    "options(repr.plot.width=8, repr.plot.height=6)"
   ]
  },
  {
   "cell_type": "code",
   "execution_count": 77,
   "metadata": {
    "scrolled": true
   },
   "outputs": [
    {
     "data": {
      "image/png": "[encoded data removed]",
      "text/plain": [
       "plot without title"
      ]
     },
     "metadata": {},
     "output_type": "display_data"
    }
   ],
   "source": [
    "figure1 <- ggplot(datagr1, aes(x=time,y=values, group=icd10)) +\n",
    "    geom_line(aes(color=icd10),lwd=1) + \n",
    "    geom_hline(yintercept=100,lty=2) +\n",
    "    ggtitle(\"Causes of death - standardised death rate per 100 000 inhabitants, males, EU-27,2006-2016\",subtitle=\"2006=100\") +\n",
    "    scale_y_continuous(limits = c(0, 130), breaks = seq(0, 130, by = 10)) +\n",
    "    scale_x_continuous(limits = c(2006, 2016), breaks = seq(2006, 2016, by = 1)) +\n",
    "    theme_classic()+\n",
    "    theme(legend.position=\"bottom\",legend.direction=\"vertical\") +\n",
    "    scale_color_manual(labels = c(\"Cancer (malignant neoplasms)\", \"Lung Cancer\", \"Nervous system\",\"Ischaemic heart diseases\",\n",
    "                                 \"Transport accidents\"), \n",
    "            values = c(\"#4481be\",\"#69c4c4\",\"#7dc265\",\"#fcc262\",\"#c0c937\"),name = \" \") +\n",
    "    ylab(\" \")+\n",
    "    xlab(\" \")\n",
    "\n",
    "figure1 + theme(\n",
    "  plot.title = element_text(size = 10, face = \"bold\"),\n",
    "  plot.subtitle = element_text(size=8),\n",
    ")"
   ]
  },
  {
   "cell_type": "markdown",
   "metadata": {},
   "source": [
    "2. Females"
   ]
  },
  {
   "cell_type": "code",
   "execution_count": 78,
   "metadata": {},
   "outputs": [
    {
     "data": {
      "image/png": "[encoded data removed]",
      "text/plain": [
       "plot without title"
      ]
     },
     "metadata": {},
     "output_type": "display_data"
    }
   ],
   "source": [
    "figure2 <- ggplot(datagr2, aes(x=time,y=values, group=icd10)) +\n",
    "    geom_line(aes(color=icd10),lwd=1) + \n",
    "    geom_hline(yintercept=100,lty=2) +\n",
    "    ggtitle(\"Causes of death - standardised death rate per 100 000 inhabitants, females, EU-27,2006-2016\",subtitle=\"2006=100\") +\n",
    "    scale_y_continuous(limits = c(0, 130), breaks = seq(0, 130, by = 10)) +\n",
    "    scale_x_continuous(limits = c(2006, 2016), breaks = seq(2006, 2016, by = 1)) +\n",
    "    theme_classic()+\n",
    "    theme(legend.position=\"bottom\",legend.direction=\"vertical\") +\n",
    "    scale_color_manual(labels = c(\"Cancer (malignant neoplasms)\", \"Lung Cancer\", \"Breast Cancer\",\n",
    "                                  \"Nervous system\",\"Ischaemic heart diseases\",\n",
    "                                 \"Transport accidents\"), \n",
    "    values = c(\"#4481be\",\"#69c4c4\",\"#7d5b78\",\"#7dc265\",\"#fcc262\",\"#c0c937\"), name = \" \") +\n",
    "    ylab(\" \")+\n",
    "    xlab(\" \")\n",
    "\n",
    "figure2 + theme(\n",
    "  plot.title = element_text(size = 10, face = \"bold\"),\n",
    "  plot.subtitle = element_text(size=8),\n",
    ")"
   ]
  },
  {
   "cell_type": "markdown",
   "metadata": {},
   "source": [
    "## Causes of death by sex\n",
    "\n",
    "The code here will help reproducing the material presented in the section [Causes of death by sex](https://ec.europa.eu/eurostat/statistics-explained/index.php?title=Causes_of_death_statistics).\n",
    " \n",
    "### Figure 3: Causes of death - standardised death rate, EU-27,2016\n",
    "\n",
    "#### First steps: Apply relevant filters\n",
    "  \n",
    "  - defining variable with causes of death relevant for the graphic\n",
    "  - keeping only observations of year 2016, EU27_2020, age in total\n",
    "  - deleting unused variables & levels from dataset (`age`, `unit`, `time`, `geo`)\n",
    "  - checking structure/ values of ordered dataset (do they match to the graphic) "
   ]
  },
  {
   "cell_type": "code",
   "execution_count": 83,
   "metadata": {},
   "outputs": [],
   "source": [
    "causes2 <- c(\"I20-I25\", #Ischaemic heart diseases\n",
    "            \"I60-I69\", #Cerebrovascular diseases\n",
    "            \"C33_C34\", #Mallignant neoplasms of trachea, broncus and lung\n",
    "            \"J40-J47\", #Chronic lower respiratory diseases\n",
    "             \"ACC\", #Accidents\n",
    "            \"C18-C21\", #Malignant neoplasms of colon, rectosigmoid junction, rectum, anus and anal canal\n",
    "            \"J12-J18\", #Pneumonia\n",
    "            \"E10-E14\", #Diabetes mellitus\n",
    "            \"C25\", #Malignant neoplasms of pancreas\n",
    "            \"C50\", #Malignant neoplasms of breast\n",
    "            \"N00-N29\", #Diseases of kidney and ureter\n",
    "            \"K70_K73_K74\", #Chronic liver disease\n",
    "            \"C16\", #Malignant neoplasms of stomach\n",
    "            \"X60-X84_Y870\", #Intentional self harm\n",
    "            \"F10\", #Mental and behavioural disorders due to use of alcohol\n",
    "            \"B20-B24\", #HIV\n",
    "             \"TOXICO\") #Drug dependence"
   ]
  },
  {
   "cell_type": "code",
   "execution_count": 84,
   "metadata": {},
   "outputs": [
    {
     "name": "stdout",
     "output_type": "stream",
     "text": [
      "tibble [51 x 3] (S3: tbl_df/tbl/data.frame)\n",
      " $ sex   : Factor w/ 3 levels \"F\",\"M\",\"T\": 1 1 1 1 1 1 1 1 1 1 ...\n",
      " $ icd10 : Factor w/ 17 levels \"ACC\",\"B20-B24\",..: 1 2 3 4 5 6 7 8 9 10 ...\n",
      " $ values: num [1:51] 21.79 0.27 7.67 23.2 15.04 ...\n"
     ]
    }
   ],
   "source": [
    "data_fig3 <- subset(dataset1, dataset1$time==2016  & \n",
    "                      dataset1$geo==\"EU27_2020\" &\n",
    "                    dataset1$icd10 %in% causes2 &\n",
    "                    dataset1$age==\"TOTAL\")\n",
    "data_fig3 <- droplevels(data_fig3)\n",
    "data_fig3 <- data_fig3[,-c(1,3,5,6)]\n",
    "str(data_fig3)"
   ]
  },
  {
   "cell_type": "markdown",
   "metadata": {},
   "source": [
    "#### Second step: Modify dataset\n",
    "\n",
    "  - changing the order within the dataset to get the ranked structure\n",
    "  - ranking on the average values of males and females (deleting total of sex) & releveling of the variable _icd10_ according to ranks\n",
    "  - dividing dataset into two parts to be able to visualise two different scales"
   ]
  },
  {
   "cell_type": "code",
   "execution_count": 111,
   "metadata": {},
   "outputs": [],
   "source": [
    "data_fig3 <- subset(data_fig3, data_fig3$sex!=\"T\")\n",
    "data_fig3 <- data_fig3[order(data_fig3$values,decreasing=TRUE),]\n",
    "rank_icd <- aggregate(data_fig3$values,by=list(data_fig3$icd10),mean)\n",
    "#(rank_icd <- rank_icd[order(rank_icd$x,decreasing=TRUE),])"
   ]
  },
  {
   "cell_type": "code",
   "execution_count": 88,
   "metadata": {},
   "outputs": [],
   "source": [
    "data_fig31 <- subset(data_fig3, (data_fig3$icd10==\"I20-I25\" | data_fig3$icd10==\"I60-I69\" | data_fig3$icd10==\"C33_C34\"))\n",
    "data_fig32 <- subset(data_fig3, (data_fig3$icd10!=\"I20-I25\" & data_fig3$icd10!=\"I60-I69\" & data_fig3$icd10!=\"C33_C34\"))"
   ]
  },
  {
   "cell_type": "markdown",
   "metadata": {},
   "source": [
    "#### Third step: Create graphic with `ggplot2` and patchwork package\n",
    "\n",
    "  - using the package `ggplot` to create the combined bar plot for males and females\n",
    "  - creating two seperate barplots (considering the two different scales of y axis) and combining them as last step using the patchwork package: `fig1` / `fig2`\n",
    "  - creating the space with `aes` (causes of death on `x` axis and values on `y` axis)\n",
    "  - creating the bar plot with `geom_bar` command, grouped by sex (`fill=sex`) with bar beside bar (`position=\"dodge\"`), barwidth\n",
    "  - changing `x` and `y` axis with `coord_flip` to get horizontal bars\n",
    "  - setting the values & labels for the axes (with `position=\"right\"`, the y-axis is set to be above the graphic)\n",
    "  - deleting the legend for the first graphic as it is only needed once (see second `ggplot` command, there the legend position is specified)\n",
    "  - creating the legend and colors for the bars with `scale_fill_manual` with `sex` (colors token from the original with hex code)\n",
    "  - deleting `labels` of the axes\n",
    "  - creating the `title` with `subtitle`\n",
    "  - changing the size of `title` and `subtitle`, axis labels"
   ]
  },
  {
   "cell_type": "code",
   "execution_count": 89,
   "metadata": {},
   "outputs": [
    {
     "data": {
      "image/png": "[encoded data removed]",
      "text/plain": [
       "plot without title"
      ]
     },
     "metadata": {},
     "output_type": "display_data"
    }
   ],
   "source": [
    "fig31<- ggplot(data_fig31, aes(x=icd10,y=values)) +\n",
    "            geom_bar(stat = \"identity\",aes(fill=sex),position=\"dodge\",width=0.3) +\n",
    "            coord_flip()+\n",
    "            theme_classic()+\n",
    "            scale_x_discrete(limits=c(\"C33_C34\",\"I60-I69\",\"I20-I25\") ,\n",
    "                             labels=c(\"Malignant neoplasms of trachea, broncus and lung\",\n",
    "                                    \"Cerebrovascular diseases\",\"Ischaemic heart diseases\")) +\n",
    "            scale_y_continuous(position = \"right\",limits = c(0, 180), breaks = seq(0, 180, by = 20))+\n",
    "        theme(legend.position=\"none\")+\n",
    "        scale_fill_manual(labels=c(\"Female\",\"Male\"),values = c(\"#faa519\",\"#286eb4\"), name = \" \")+\n",
    "        ylab(\" \")+\n",
    "        xlab(\" \")+\n",
    "        ggtitle(\"Causes of death - standardised death rate, EU-27,2016\",subtitle=\"per 100 000 inhabitants\")+\n",
    "        theme(axis.text.y=element_text(size=8), plot.title = element_text(size = 11, face = \"bold\"),\n",
    "          plot.subtitle = element_text(size=9),legend.title=element_blank())\n",
    "fig32 <- ggplot(data_fig32, aes(x=icd10,y=values)) +\n",
    "            geom_bar(stat = \"identity\",aes(fill=sex),position=\"dodge\") +\n",
    "            coord_flip()+\n",
    "             theme_classic()+\n",
    "            scale_x_discrete(limits=c(\"TOXICO\",\"B20-B24\",\"F10\",\"X60-X84_Y870\",\"C16\",\"K70_K73_K74\",\"N00-N29\",\"C50\",\"C25\",\n",
    "                                              \"E10-E14\",\"J12-J18\",\"C18-C21\",\"ACC\",\"J40-J47\") ,\n",
    "                             labels=c(\"Drug dependence\",\"HIV\",\"Mental and behavioural disorders due to use of alcohol\",\n",
    "                                     \"Intentional self harm\",\"Malignant neoplasms of stomach\",\"Chronic liver disease\",\n",
    "                                     \"Diseases of kidney and ureter\",\"Malignant neoplasms of breast\",\n",
    "                                      \"Malignant neoplasms of pancreas\",\n",
    "                                     \"Diabetes mellitus\",\"Pneumonia\",\n",
    "                                      \"Malignant neoplasms of colon, rectum...\",\n",
    "                                     \"Accidents\",\"Chronic lower respiratory diseases\")) +\n",
    "            scale_y_continuous(position = \"right\",limits = c(0, 50), breaks = seq(0, 50, by = 10))+\n",
    "        theme(legend.position=\"bottom\",legend.direction=\"vertical\") +\n",
    "        scale_fill_manual(labels=c(\"Female\",\"Male\"),values = c(\"#faa519\",\"#286eb4\"), name = \" \") +\n",
    "        ylab(\" \")+\n",
    "        xlab(\" \")+\n",
    "        theme(axis.text.y=element_text(size=8))\n",
    "fig31 / fig32"
   ]
  },
  {
   "cell_type": "markdown",
   "metadata": {},
   "source": [
    "### Figure 4: Deaths from ischaemic heart diseases - standardized death rate, 2017\n",
    "\n",
    "#### First steps: Apply relevant filters\n",
    "\n",
    "  - keeping variable with causes of death relevant for the graphic (ischaemic heart diseases = `I20-I25`)\n",
    "  - keeping only observations of countries specified in countries variable at the beginning, `age` in total\n",
    "  - using the values for year 2017 (for EU27 and France from 2016), creating new `values_n` variable\n",
    "  - deleting unused variables & levels from dataset (`age`, `unit`, `time`, `icd-10`, old values variable)\n",
    "  - checking structure/ values of ordered dataset (do they match to the graphic)"
   ]
  },
  {
   "cell_type": "code",
   "execution_count": 91,
   "metadata": {},
   "outputs": [],
   "source": [
    "data_fig4 <- subset(dataset1, (dataset1$time==2016 | dataset1$time==2017)  & \n",
    "                    dataset1$geo %in% countries &\n",
    "                    dataset1$icd10==\"I20-I25\" &\n",
    "                   dataset1$age==\"TOTAL\")\n",
    "data_fig4 <- droplevels(data_fig4)\n",
    "data_fig4$values_n <- ifelse(data_fig4$time==2017,data_fig4$values,NA)\n",
    "data_fig4[data_fig4$geo==\"FR\",]$values_n <- data_fig4[data_fig4$geo==\"FR\",]$values\n",
    "data_fig4[data_fig4$geo==\"EU27_2020\",]$values_n <- data_fig4[data_fig4$geo==\"EU27_2020\",]$values\n",
    "data_fig4 <- data_fig4[!is.na(data_fig4$values_n),]\n",
    "data_fig4 <- data_fig4[,-c(1,3,4,6,7)]"
   ]
  },
  {
   "cell_type": "markdown",
   "metadata": {},
   "source": [
    "#### Second step: Modify dataset\n",
    "\n",
    "  - changing the order within the dataset to get the ranked structure\n",
    "  - ranking on the combined values of males and females (using total of `sex`) & releveling of the variable _icd10_ according to ranks & structure in original data set)"
   ]
  },
  {
   "cell_type": "code",
   "execution_count": 92,
   "metadata": {},
   "outputs": [],
   "source": [
    "data_fig4 <- subset(data_fig4,data_fig4$sex !=\"T\")\n",
    "data_fig4$geo <- factor(data_fig4$geo,levels = c(\"EU27_2020\", #EU 27\n",
    "                    \n",
    "            \"LT\", #Lithuania\n",
    "            \"HU\", #Hungary\n",
    "            \"SK\", #Slovakia\n",
    "             \"LV\", #Lativia\n",
    "            \"HR\", #Croatia\n",
    "            \"RO\", #Romania                                     \n",
    "            \"CZ\", #Czechia\n",
    "            \"EE\", #Estonia\n",
    "            \"BG\", #Bulgaria\n",
    "            \"MT\", #Malta\n",
    "            \"FI\", #Finland\n",
    "            \"AT\", #Austria\n",
    "            \"PL\", #Poland\n",
    "            \"DE\", #Germany\n",
    "            \"IE\", #Ireland\n",
    "            \"SE\", #Sweden\n",
    "             \"CY\", #Cyprus\n",
    "            \"EL\", #Greece\n",
    "            \"SI\", #Slovenia\n",
    "            \"IT\", #Italy\n",
    "            \"LU\", #Luxembourg\n",
    "            \"DK\", #Denmark\n",
    "            \"BE\", #Belgium\n",
    "            \"PT\", #Portugal\n",
    "            \"ES\", #Spain                                    \n",
    "             \"NL\", #Netherlands\n",
    "              \"FR\", #France                                 \n",
    "            \"UK\", #United Kingdom                                \n",
    "            \"IS\", #Iceland\n",
    "            \"CH\", #Switzerland\n",
    "            \"NO\", #Norway\n",
    "            \"LI\", #Liechtenstein                                  \n",
    "             \"TR\", #Turkey\n",
    "              \"RS\" ))# Serbia"
   ]
  },
  {
   "cell_type": "markdown",
   "metadata": {},
   "source": [
    "#### Third step: Create graphic with `ggplot2`\n",
    "\n",
    "  - using the package `ggplot` to create the combined bar plot for males and females\n",
    "  - creating the space with `aes` (causes of death on `x` axis and values on `y` axis)\n",
    "  - creating the bar plot with `geom_bar` command, grouped by sex (`fill=sex`) with bar beside bar (`position=\"dodge\"`), `barwidth`\n",
    "  - changing the labels of `x`-axis according to countries\n",
    "  - creating the legend and colors for the bars with `scale_fill_manual` with `sex` (colors token from the original with hex code)\n",
    "  - deleting `labels` of the axes\n",
    "  - creating the `title` with `subtitle`\n",
    "  - changing the size of `title` and `subtitle`, axis label"
   ]
  },
  {
   "cell_type": "code",
   "execution_count": 93,
   "metadata": {},
   "outputs": [],
   "source": [
    "data_fig4$sex <- relevel(data_fig4$sex,ref=\"M\")"
   ]
  },
  {
   "cell_type": "code",
   "execution_count": 94,
   "metadata": {},
   "outputs": [
    {
     "data": {
      "image/png": "[encoded data removed]",
      "text/plain": [
       "plot without title"
      ]
     },
     "metadata": {},
     "output_type": "display_data"
    }
   ],
   "source": [
    "ggplot(data_fig4, aes(x=geo,y=values_n)) +\n",
    "            geom_bar(stat = \"identity\",aes(fill=sex),position=\"dodge\",width=0.8) +\n",
    "            theme_classic()+\n",
    "            scale_x_discrete(limits=c(\"EU27_2020\",\" \",\n",
    "                                      \"LT\", \"HU\",\"SK\",\"LV\",\"HR\",\"RO\",\"CZ\",\"EE\", \"BG\", \"MT\",\"FI\", \"AT\", \"PL\", \"DE\",\n",
    "                \"IE\", \"SE\",\"CY\", \"EL\",\"SI\",\"IT\",\"LU\",\"DK\", \"BE\",\"PT\", \"ES\",  \"NL\",\"FR\",\" \",\n",
    "                                      \"UK\",\" \",\n",
    "                                      \"IS\",\"CH\", \"NO\",\"LI\",\" \",\n",
    "                                      \"TR\",\"RS\" ) ,\n",
    "                             labels=c(\"EU 27\",\" \",\n",
    "                                      \"Lithuania\",\"Hungary\",\"Slovakia\",\"Lativia\",\"Croatia\",\"Romania\",\n",
    "                                      \"Czechia\",\"Estonia\",\"Bulgaria\",\"Malta\",\"Finland\",\"Austria\",\"Poland\",\"Germany\",\n",
    "                                      \"Ireland\",\"Sweden\",\"Cyprus\",\"Greece\",\"Slovenia\",\"Italy\",\"Luxembourg\",\"Denmark\",\n",
    "                                      \"Belgium\",\"Portugal\",\"Spain\",\"Netherlands\",\"France\",\" \",\n",
    "                                      \"United Kingdom\", \" \",\n",
    "                                      \"Iceland\", \"Switzerland\",\"Norway\",\"Liechtenstein\",\" \",\n",
    "                                      \"Turkey\",\"Serbia\")) +\n",
    "            scale_y_continuous(limits = c(0, 800), breaks = seq(0, 800, by = 100))+\n",
    "        theme(legend.position=\"bottom\",legend.direction=\"horizontal\") +\n",
    "        scale_fill_manual(labels=c(\"Male\",\"Female\"),values = c(\"#286eb4\",\"#faa519\"), name = \" \") +\n",
    "        ylab(\" \")+\n",
    "        xlab(\" \")+\n",
    "        ggtitle(\"Deaths from ischaemic heart diseases - standardised death rate,2017\",\n",
    "                subtitle=\"(per 100 000 inhabitants)\")+\n",
    "        theme(axis.text.x=element_text(angle=90,size=9), plot.title = element_text(size = 11, face = \"bold\"),\n",
    "          plot.subtitle = element_text(size=9),legend.title=element_blank())\n"
   ]
  },
  {
   "cell_type": "markdown",
   "metadata": {},
   "source": [
    "### Figure 4: Deaths from suicide - standardized death rate, 2017\n",
    "\n",
    "#### First steps: Apply relevant filters\n",
    "\n",
    "  - keeping variable with causes of death relevant for the graphic (suicide = `X60-X84_Y870`)\n",
    "  - keeping only observations of countries specified in countries variable at the beginning, `age` in total\n",
    "  - using the values for year 2017 (for EU27, Liechenstein France from 2016), creating new `values_n` variable\n",
    "  - deleting unused variables & levels from dataset (`age`, `unit`, `time`, _icd-10_, old values variable)"
   ]
  },
  {
   "cell_type": "code",
   "execution_count": 102,
   "metadata": {},
   "outputs": [],
   "source": [
    "data_fig5 <- subset(dataset1, (dataset1$time==2016 | dataset1$time==2017)  & \n",
    "                    dataset1$geo %in% countries &\n",
    "                    dataset1$icd10==\"X60-X84_Y870\" &\n",
    "                   dataset1$age==\"TOTAL\")\n",
    "data_fig5 <- droplevels(data_fig5)\n",
    "data_fig5$values_n <- ifelse(data_fig5$time==2017,data_fig5$values,NA)\n",
    "data_fig5[data_fig5$geo==\"FR\",]$values_n <- data_fig5[data_fig5$geo==\"FR\",]$values\n",
    "data_fig5[data_fig5$geo==\"EU27_2020\",]$values_n <- data_fig5[data_fig5$geo==\"EU27_2020\",]$values\n",
    "data_fig5[data_fig5$geo==\"LI\",]$values_n <- data_fig5[data_fig5$geo==\"LI\",]$values\n",
    "data_fig5 <- data_fig5[!is.na(data_fig5$values_n),]\n",
    "data_fig5 <- data_fig5[,-c(1,3,4,6,7)]\n",
    "#str(data_fig4)\n",
    "#tail(data_fig5)"
   ]
  },
  {
   "cell_type": "markdown",
   "metadata": {},
   "source": [
    "#### Second step: Modify dataset\n",
    "\n",
    "  - changing the order within the dataset to get the ranked structure\n",
    "  - ranking on the combined values of males and females (using total of `sex`) & releveling of the variable icd10 according to ranks & structure in original data set)"
   ]
  },
  {
   "cell_type": "code",
   "execution_count": 103,
   "metadata": {},
   "outputs": [],
   "source": [
    "data_fig5 <- subset(data_fig5,data_fig5$sex !=\"T\")\n",
    "data_fig5$geo <- factor(data_fig5$geo,levels = c(\"EU27_2020\", #EU 27\n",
    "                    \n",
    "            \"LT\", #Lithuania\n",
    "            \"SI\", #Slovenia\n",
    "            \"LV\", #Lativia\n",
    "             \"EE\", #Estonia\n",
    "            \"HU\", #Hungary   \n",
    "             \"BE\", #Belgium                                     \n",
    "            \"FI\", #Finland\n",
    "           \"HR\", #Croatia\n",
    "            \"AT\", #Austria\n",
    "            \"FR\", #France\n",
    "            \"CZ\", #Czechia \n",
    "            \"SE\", #Sweden                                    \n",
    "            \"PL\", #Poland\n",
    "            \"NL\", #Netherlands\n",
    "            \"DE\", #Germany\n",
    "            \"DK\", #Denmark\n",
    "            \"RO\", #Romania\n",
    "            \"BG\", #Bulgaria\n",
    "            \"PT\", #Portugal\n",
    "            \"LU\", #Luxembourg\n",
    "            \"IE\", #Ireland\n",
    "            \"ES\", #Spain                                    \n",
    "             \"SK\", #Slovakia\n",
    "             \"IT\", #Italy                                    \n",
    "              \"MT\", #Malta\n",
    "            \"EL\", #Greece \n",
    "            \"CY\", #Cyprus                                    \n",
    "            \"UK\", #United Kingdom\n",
    "            \"LI\", #Liechtenstein                                      \n",
    "            \"CH\", #Switzerland\n",
    "            \"NO\", #Norway\n",
    "            \"IS\", #Iceland                            \n",
    "             \"RS\", #Serbia\n",
    "              \"TR\" ))#Turkey"
   ]
  },
  {
   "cell_type": "markdown",
   "metadata": {},
   "source": [
    "#### Third step: Create graphic with `ggplot2`\n",
    "\n",
    "  - using the package `ggplot` to create the combined bar plot for males and females\n",
    "  - creating the space with `aes` (causes of death on x axis and values on y axis)\n",
    "  - creating the bar plot with `geom_bar command`, grouped by sex (`fill=sex`) with bar beside bar (`position=\"dodge\"`), `barwidth`\n",
    "  - changing the labels of `x`-axis according to countries\n",
    "  - creating the legend and colors for the bars with `scale_fill_manual` with `sex` (colors token from the original with hex code)\n",
    "  - deleting `labels` of the axes\n",
    "  - creating the `title` with `subtitle`\n",
    "  - changing the size of `title` and `subtitle`, axis label"
   ]
  },
  {
   "cell_type": "code",
   "execution_count": 104,
   "metadata": {},
   "outputs": [],
   "source": [
    "data_fig5$sex <- relevel(data_fig5$sex,ref=\"M\")"
   ]
  },
  {
   "cell_type": "code",
   "execution_count": 105,
   "metadata": {
    "scrolled": true
   },
   "outputs": [
    {
     "data": {
      "image/png": "[encoded data removed]",
      "text/plain": [
       "plot without title"
      ]
     },
     "metadata": {},
     "output_type": "display_data"
    }
   ],
   "source": [
    "ggplot(data_fig5, aes(x=geo,y=values_n)) +\n",
    "            geom_bar(stat = \"identity\",aes(fill=sex),position=\"dodge\",width=0.8) +\n",
    "            theme_classic()+\n",
    "            scale_x_discrete(limits=c(\"EU27_2020\",\"\",\"LT\",\"SI\",\"LV\",\"EE\",\"HU\", \"BE\",\"FI\", \"HR\",\"AT\", \"FR\",  \"CZ\",\"SE\",\"PL\", \n",
    "                                      \"NL\",\"DE\",\"DK\",\"RO\",\"BG\", \"PT\", \"LU\",\"IE\",\"ES\",\"SK\",\"IT\",\"MT\",\"EL\",\"CY\",\"\",\"UK\", \"\",\n",
    "                                      \"LI\", \"CH\",\"NO\",\"IS\",\"\", \"RS\", \"TR\" ),\n",
    "                             labels=c(\"EU 27\",\"\",\"Lithuania\",\"Slovenia\",\"Lativia\",\"Estonia\",\n",
    "                                      \"Hungary\",\"Belgium\",\"Finland\",\"Croatia\",\"Austria\",\"France\",\n",
    "                                      \"Czechia \",\"Sweden\",\"Poland\",\"Netherlands\",\"Germany\",\"Denmark\",\"Romania\",\n",
    "                                      \"Bulgaria\",\"Portugal\",\"Luxembourg\",\"Ireland\",\"Spain\",\"Slovakia\",\"Italy\",\"Malta\",\n",
    "                                      \"Greece \",\"Cyprus\",\"\",\"United Kingdom\",\"\",\"Liechtenstein\",\"Switzerland\",\n",
    "                                      \"Norway\",\"Iceland\",\"\",\n",
    "                                      \"Serbia\",\"Turkey\")) +\n",
    "            scale_y_continuous(limits = c(0, 50), breaks = seq(0, 50, by = 10))+\n",
    "        theme(legend.position=\"bottom\",legend.direction=\"horizontal\") +\n",
    "        scale_fill_manual(labels=c(\"Male\",\"Female\"),values = c(\"#286eb4\",\"#faa519\"), name = \" \") +\n",
    "        ylab(\" \")+\n",
    "        xlab(\" \")+\n",
    "        ggtitle(\"Deaths suicide - standardised death rate,2017\",\n",
    "                subtitle=\"(per 100 000 inhabitants)\")+\n",
    "        theme(axis.text.x=element_text(angle=90,size=9), plot.title = element_text(size = 11, face = \"bold\"),\n",
    "          plot.subtitle = element_text(size=9),legend.title=element_blank())\n"
   ]
  },
  {
   "cell_type": "markdown",
   "metadata": {},
   "source": [
    "## Causes of death in 2017 of people below 65 years of age\n",
    "\n",
    "The code here will help reproducing the material presented in the section [Causes of death in 2017 of people below 65 years of age](https://ec.europa.eu/eurostat/statistics-explained/index.php?title=Causes_of_death_statistics)."
   ]
  },
  {
   "cell_type": "markdown",
   "metadata": {},
   "source": [
    "### Table 2: Major causes of death for persons aged less than 65 years, 2017\n",
    "\n",
    "#### First steps: Filter data accordingly:\n",
    "  \n",
    "  - only keeping relevant countries & people aged less than 65 years\n",
    "  - creating one values variable with values from 2017 and from 2016 where 2017 not available (for France and EU27 category)\n",
    "  - using for causes of death like breast cancer only females data\n",
    "  - Keeping only causes of death relevant for table"
   ]
  },
  {
   "cell_type": "code",
   "execution_count": 106,
   "metadata": {},
   "outputs": [],
   "source": [
    "datatbl2 <- subset(dataset1,\n",
    "                     dataset1$age ==\"Y_LT65\" & \n",
    "                     dataset1$geo %in% countries & \n",
    "                     (dataset1$time==2017 | dataset1$time==2016))"
   ]
  },
  {
   "cell_type": "code",
   "execution_count": 107,
   "metadata": {},
   "outputs": [],
   "source": [
    "datatbl2$values_n <- ifelse(datatbl2$time==2017,datatbl2$values,NA)\n",
    "datatbl2[datatbl2$geo==\"FR\",]$values_n <- datatbl2[datatbl2$geo==\"FR\",]$values\n",
    "datatbl2[datatbl2$geo==\"EU27_2020\",]$values_n <- datatbl2[datatbl2$geo==\"EU27_2020\",]$values\n",
    "datatbl2 <- datatbl2[!is.na(datatbl2$values_n),]"
   ]
  },
  {
   "cell_type": "code",
   "execution_count": 108,
   "metadata": {},
   "outputs": [],
   "source": [
    "causes <- c(\"I\",\"I20-I25\",\"C\",\"C33_C34\",\"C18-C21\",\"J\",\"G_H\",\"V_Y85\",\"X60-X84_Y870\",\"C50\",\"C53\",\"C54_C55\")\n",
    "causes2 <- c(\"Circulatory disease\",\"Heart disease\",\"Cancer\",\"Lung Cancer\",\"Colorectal cancer\",\"Respiratory diseases\",\n",
    "             \"Diseases of the nervous system\",\"Transport accidents\",\"Suicide\",\"Breast Cancer(Females)\",\"Cancer of the cervix(Females)\",\"Cancer of the uterus(Females)\")\n",
    "datatbl2 <- datatbl2[datatbl2$icd10 %in% causes,]\n",
    "datatbl2_v <- datatbl2[datatbl2$icd10 %in% causes,]\n",
    "datatbl2 <- subset(datatbl2_v,datatbl2_v$sex==\"T\")\n",
    "datatbl1$values_n[datatbl2$icd10 == \"C50\"] <- datatbl2_v$values_n[datatbl2_v$icd10==\"C50\"&datatbl2_v$sex==\"F\"]\n",
    "datatbl2$values_n[datatbl2$icd10 == \"C53\"] <- datatbl2_v$values_n[datatbl2_v$icd10==\"C53\"&datatbl2_v$sex==\"F\"]\n",
    "datatbl2$values_n[datatbl2$icd10 == \"C54_C55\"] <- datatbl2_v$values_n[datatbl2_v$icd10==\"C54_C55\"&datatbl2_v$sex==\"F\"]\n",
    "datatbl2 <- datatbl2[,c(4,5,8)]\n",
    "#tail(datatbl2)"
   ]
  },
  {
   "cell_type": "markdown",
   "metadata": {},
   "source": [
    "#### Second steps: Table\n",
    "\n",
    "  - changing data frame format: \n",
    "    - create seperate data frame for every cause (with two columns, country & values of death rate)\n",
    "    - order data frames according to the order of the original datatable & add columnnames\n",
    "  - creating new dataset in style of the original data table\n",
    "  - printing data table"
   ]
  },
  {
   "cell_type": "code",
   "execution_count": 109,
   "metadata": {},
   "outputs": [
    {
     "data": {
      "text/html": [
       "<table>\n",
       "<thead><tr><th scope=col>Country</th><th scope=col>Circulatory disease</th><th scope=col>Heart disease</th><th scope=col>Cancer</th><th scope=col>Lung Cancer</th><th scope=col>Colorectal cancer</th><th scope=col>Respiratory diseases</th><th scope=col>Diseases of the nervous system</th><th scope=col>Transport accidents</th><th scope=col>Suicide</th><th scope=col>Breast Cancer(Females)</th><th scope=col>Cancer of the cervix(Females)</th><th scope=col>Cancer of the uterus(Females)</th></tr></thead>\n",
       "<tbody>\n",
       "\t<tr><td>EU-27         </td><td> 44.80        </td><td>17.92         </td><td> 77.34        </td><td>19.06         </td><td> 7.23         </td><td> 9.13         </td><td>5.46          </td><td> 5.27         </td><td> 9.21         </td><td> 7.08         </td><td> 2.67         </td><td> 1.95         </td></tr>\n",
       "\t<tr><td>Belgium       </td><td> 28.95        </td><td>10.39         </td><td> 65.27        </td><td>17.27         </td><td> 5.56         </td><td> 9.25         </td><td>6.25          </td><td> 4.97         </td><td>14.39         </td><td> 6.88         </td><td> 2.03         </td><td> 1.21         </td></tr>\n",
       "\t<tr><td>Bulgaria      </td><td>164.15        </td><td>38.44         </td><td> 94.04        </td><td>21.94         </td><td> 9.21         </td><td>18.23         </td><td>4.64          </td><td> 7.82         </td><td> 6.59         </td><td> 7.30         </td><td> 6.79         </td><td> 4.53         </td></tr>\n",
       "\t<tr><td>Czechia       </td><td> 58.71        </td><td>26.56         </td><td> 75.28        </td><td>15.09         </td><td> 8.44         </td><td>11.83         </td><td>4.92          </td><td> 6.21         </td><td>11.88         </td><td> 5.22         </td><td> 3.39         </td><td> 2.15         </td></tr>\n",
       "\t<tr><td>Denmark       </td><td> 27.94        </td><td> 9.57         </td><td> 66.62        </td><td>16.11         </td><td> 6.82         </td><td>10.93         </td><td>6.19          </td><td> 2.90         </td><td> 8.50         </td><td> 6.20         </td><td> 2.01         </td><td> 0.91         </td></tr>\n",
       "\t<tr><td>Germany       </td><td> 36.12        </td><td>16.27         </td><td> 69.35        </td><td>17.00         </td><td> 6.08         </td><td> 8.93         </td><td>5.96          </td><td> 3.53         </td><td> 8.31         </td><td> 6.88         </td><td> 2.32         </td><td> 1.41         </td></tr>\n",
       "\t<tr><td>Estonia       </td><td> 81.28        </td><td>32.29         </td><td> 80.57        </td><td>13.83         </td><td> 7.22         </td><td> 6.82         </td><td>7.38          </td><td> 4.59         </td><td>15.79         </td><td> 6.73         </td><td> 5.54         </td><td> 2.80         </td></tr>\n",
       "\t<tr><td>Ireland       </td><td> 30.13        </td><td>16.41         </td><td> 64.22        </td><td>12.36         </td><td> 7.01         </td><td> 7.10         </td><td>6.19          </td><td> 2.33         </td><td> 8.78         </td><td> 7.57         </td><td> 2.59         </td><td> 1.37         </td></tr>\n",
       "\t<tr><td>Greece        </td><td> 50.34        </td><td>28.61         </td><td> 73.27        </td><td>19.62         </td><td> 5.32         </td><td> 5.98         </td><td>6.32          </td><td> 7.35         </td><td> 4.02         </td><td> 6.51         </td><td> 1.28         </td><td> 2.35         </td></tr>\n",
       "\t<tr><td>Spain         </td><td> 26.59        </td><td>11.14         </td><td> 68.52        </td><td>17.60         </td><td> 7.07         </td><td> 7.20         </td><td>5.07          </td><td> 3.95         </td><td> 6.19         </td><td> 5.65         </td><td> 1.71         </td><td> 1.60         </td></tr>\n",
       "\t<tr><td>France        </td><td> 24.10        </td><td> 8.42         </td><td> 77.44        </td><td>21.18         </td><td> 6.10         </td><td> 5.94         </td><td>6.04          </td><td> 4.65         </td><td>11.36         </td><td> 7.51         </td><td> 1.70         </td><td> 1.94         </td></tr>\n",
       "\t<tr><td>Croatia       </td><td> 63.21        </td><td>32.96         </td><td> 99.94        </td><td>27.46         </td><td>11.56         </td><td> 6.58         </td><td>5.94          </td><td> 8.47         </td><td>11.68         </td><td> 7.64         </td><td> 2.96         </td><td> 2.75         </td></tr>\n",
       "\t<tr><td>Italy         </td><td> 25.21        </td><td> 9.63         </td><td> 61.39        </td><td>12.48         </td><td> 5.86         </td><td> 4.12         </td><td>4.82          </td><td> 4.74         </td><td> 4.94         </td><td> 7.11         </td><td> 0.92         </td><td> 2.23         </td></tr>\n",
       "\t<tr><td>Cyprus        </td><td> 39.02        </td><td>22.92         </td><td> 56.44        </td><td>11.73         </td><td> 5.68         </td><td> 4.29         </td><td>4.77          </td><td> 5.02         </td><td> 4.31         </td><td> 6.84         </td><td> 1.42         </td><td> 2.08         </td></tr>\n",
       "\t<tr><td>Latvia        </td><td>137.74        </td><td>56.66         </td><td>101.17        </td><td>17.39         </td><td> 7.44         </td><td>14.11         </td><td>8.84          </td><td> 7.79         </td><td>16.50         </td><td> 7.66         </td><td> 6.87         </td><td> 3.16         </td></tr>\n",
       "\t<tr><td>Lithuania     </td><td>109.03        </td><td>59.42         </td><td> 94.22        </td><td>16.11         </td><td> 7.01         </td><td>10.86         </td><td>8.65          </td><td> 8.13         </td><td>23.97         </td><td> 6.89         </td><td> 7.74         </td><td> 3.09         </td></tr>\n",
       "\t<tr><td>Luxembourg    </td><td> 28.04        </td><td>11.55         </td><td> 54.17        </td><td>14.24         </td><td> 4.79         </td><td> 5.47         </td><td>2.46          </td><td> 3.04         </td><td> 9.37         </td><td> 7.12         </td><td> 1.79         </td><td> 0.87         </td></tr>\n",
       "\t<tr><td>Hungary       </td><td>105.59        </td><td>50.48         </td><td>128.26        </td><td>39.76         </td><td>14.54         </td><td>22.24         </td><td>5.81          </td><td> 7.02         </td><td>13.05         </td><td> 8.48         </td><td> 5.21         </td><td> 2.43         </td></tr>\n",
       "\t<tr><td>Malta         </td><td> 34.36        </td><td>22.31         </td><td> 61.61        </td><td>14.06         </td><td> 6.10         </td><td> 4.67         </td><td>6.17          </td><td> 2.86         </td><td> 5.19         </td><td> 5.88         </td><td> 2.28         </td><td> 0.00         </td></tr>\n",
       "\t<tr><td>Netherlands   </td><td> 23.35        </td><td> 7.15         </td><td> 71.18        </td><td>18.24         </td><td> 7.32         </td><td> 7.45         </td><td>5.79          </td><td> 2.77         </td><td>10.81         </td><td> 7.63         </td><td> 1.40         </td><td> 1.25         </td></tr>\n",
       "\t<tr><td>Austria       </td><td> 29.65        </td><td>16.70         </td><td> 64.10        </td><td>15.79         </td><td> 5.49         </td><td> 6.26         </td><td>4.72          </td><td> 4.45         </td><td>10.06         </td><td> 6.19         </td><td> 1.75         </td><td> 1.41         </td></tr>\n",
       "\t<tr><td>Poland        </td><td> 66.94        </td><td>22.59         </td><td> 91.99        </td><td>23.21         </td><td> 8.83         </td><td>12.71         </td><td>5.29          </td><td> 8.49         </td><td>11.52         </td><td> 7.42         </td><td> 4.92         </td><td> 2.25         </td></tr>\n",
       "\t<tr><td>Portugal      </td><td> 33.21        </td><td>14.23         </td><td> 81.49        </td><td>15.65         </td><td> 8.57         </td><td> 7.74         </td><td>5.36          </td><td> 6.36         </td><td> 7.36         </td><td> 7.18         </td><td> 2.33         </td><td> 1.73         </td></tr>\n",
       "\t<tr><td>Romania       </td><td>113.99        </td><td>45.31         </td><td>114.71        </td><td>26.58         </td><td> 9.84         </td><td>26.03         </td><td>4.32          </td><td>11.18         </td><td> 8.98         </td><td> 8.25         </td><td>10.43         </td><td> 2.68         </td></tr>\n",
       "\t<tr><td>Slovenia      </td><td> 81.48        </td><td>40.50         </td><td> 94.93        </td><td>16.40         </td><td>10.72         </td><td>15.14         </td><td>6.85          </td><td> 7.22         </td><td> 6.58         </td><td> 8.02         </td><td> 5.05         </td><td> 2.66         </td></tr>\n",
       "\t<tr><td>Slovakia      </td><td> 32.62        </td><td>19.63         </td><td> 84.30        </td><td>22.08         </td><td> 7.45         </td><td> 3.02         </td><td>4.81          </td><td> 5.92         </td><td>14.97         </td><td> 6.15         </td><td> 2.65         </td><td> 2.71         </td></tr>\n",
       "\t<tr><td>Finland       </td><td> 40.07        </td><td>18.35         </td><td> 53.04        </td><td> 9.38         </td><td> 5.18         </td><td> 4.12         </td><td>6.52          </td><td> 4.07         </td><td>14.69         </td><td> 6.07         </td><td> 1.23         </td><td> 0.95         </td></tr>\n",
       "\t<tr><td>Sweden        </td><td> 26.92        </td><td>13.74         </td><td> 49.80        </td><td> 7.46         </td><td> 5.85         </td><td> 4.21         </td><td>5.20          </td><td> 2.41         </td><td>10.86         </td><td> 5.14         </td><td> 1.59         </td><td> 1.22         </td></tr>\n",
       "\t<tr><td>United Kingdom</td><td> 37.46        </td><td>20.28         </td><td> 65.64        </td><td>13.04         </td><td> 6.58         </td><td>13.11         </td><td>6.65          </td><td> 2.17         </td><td> 7.74         </td><td> 7.01         </td><td> 1.80         </td><td> 1.79         </td></tr>\n",
       "\t<tr><td>Iceland       </td><td> 22.18        </td><td>13.81         </td><td> 51.06        </td><td>12.47         </td><td> 4.33         </td><td> 3.93         </td><td>8.93          </td><td> 2.39         </td><td>10.78         </td><td> 4.82         </td><td> 3.73         </td><td> 1.61         </td></tr>\n",
       "\t<tr><td>Liechtenstein </td><td> 20.74        </td><td> 3.24         </td><td> 55.65        </td><td>15.13         </td><td> 3.10         </td><td> 5.87         </td><td>9.29          </td><td> 0.00         </td><td>17.58         </td><td> 2.74         </td><td> 0.00         </td><td>12.20         </td></tr>\n",
       "\t<tr><td>Norway        </td><td> 21.14        </td><td>10.00         </td><td> 54.10        </td><td>10.25         </td><td> 7.78         </td><td> 6.28         </td><td>5.39          </td><td> 2.45         </td><td>11.61         </td><td> 4.60         </td><td> 1.99         </td><td> 1.00         </td></tr>\n",
       "\t<tr><td>Switzerland   </td><td> 19.46        </td><td> 8.82         </td><td> 50.91        </td><td>11.98         </td><td> 4.85         </td><td> 4.67         </td><td>5.11          </td><td> 3.05         </td><td>10.16         </td><td> 5.21         </td><td> 1.01         </td><td> 0.96         </td></tr>\n",
       "\t<tr><td>Serbia        </td><td> 94.61        </td><td>26.98         </td><td>114.20        </td><td>33.28         </td><td>10.78         </td><td>14.26         </td><td>7.50          </td><td> 7.16         </td><td> 9.85         </td><td>10.49         </td><td> 9.49         </td><td> 3.32         </td></tr>\n",
       "\t<tr><td>Turkey        </td><td> 62.05        </td><td>30.93         </td><td> 63.60        </td><td>20.85         </td><td> 5.19         </td><td>14.45         </td><td>5.36          </td><td> 7.81         </td><td> 3.46         </td><td> 4.42         </td><td> 0.98         </td><td> 1.48         </td></tr>\n",
       "</tbody>\n",
       "</table>\n"
      ],
      "text/latex": [
       "\\begin{tabular}{r|lllllllllllll}\n",
       " Country & Circulatory disease & Heart disease & Cancer & Lung Cancer & Colorectal cancer & Respiratory diseases & Diseases of the nervous system & Transport accidents & Suicide & Breast Cancer(Females) & Cancer of the cervix(Females) & Cancer of the uterus(Females)\\\\\n",
       "\\hline\n",
       "\t EU-27          &  44.80         & 17.92          &  77.34         & 19.06          &  7.23          &  9.13          & 5.46           &  5.27          &  9.21          &  7.08          &  2.67          &  1.95         \\\\\n",
       "\t Belgium        &  28.95         & 10.39          &  65.27         & 17.27          &  5.56          &  9.25          & 6.25           &  4.97          & 14.39          &  6.88          &  2.03          &  1.21         \\\\\n",
       "\t Bulgaria       & 164.15         & 38.44          &  94.04         & 21.94          &  9.21          & 18.23          & 4.64           &  7.82          &  6.59          &  7.30          &  6.79          &  4.53         \\\\\n",
       "\t Czechia        &  58.71         & 26.56          &  75.28         & 15.09          &  8.44          & 11.83          & 4.92           &  6.21          & 11.88          &  5.22          &  3.39          &  2.15         \\\\\n",
       "\t Denmark        &  27.94         &  9.57          &  66.62         & 16.11          &  6.82          & 10.93          & 6.19           &  2.90          &  8.50          &  6.20          &  2.01          &  0.91         \\\\\n",
       "\t Germany        &  36.12         & 16.27          &  69.35         & 17.00          &  6.08          &  8.93          & 5.96           &  3.53          &  8.31          &  6.88          &  2.32          &  1.41         \\\\\n",
       "\t Estonia        &  81.28         & 32.29          &  80.57         & 13.83          &  7.22          &  6.82          & 7.38           &  4.59          & 15.79          &  6.73          &  5.54          &  2.80         \\\\\n",
       "\t Ireland        &  30.13         & 16.41          &  64.22         & 12.36          &  7.01          &  7.10          & 6.19           &  2.33          &  8.78          &  7.57          &  2.59          &  1.37         \\\\\n",
       "\t Greece         &  50.34         & 28.61          &  73.27         & 19.62          &  5.32          &  5.98          & 6.32           &  7.35          &  4.02          &  6.51          &  1.28          &  2.35         \\\\\n",
       "\t Spain          &  26.59         & 11.14          &  68.52         & 17.60          &  7.07          &  7.20          & 5.07           &  3.95          &  6.19          &  5.65          &  1.71          &  1.60         \\\\\n",
       "\t France         &  24.10         &  8.42          &  77.44         & 21.18          &  6.10          &  5.94          & 6.04           &  4.65          & 11.36          &  7.51          &  1.70          &  1.94         \\\\\n",
       "\t Croatia        &  63.21         & 32.96          &  99.94         & 27.46          & 11.56          &  6.58          & 5.94           &  8.47          & 11.68          &  7.64          &  2.96          &  2.75         \\\\\n",
       "\t Italy          &  25.21         &  9.63          &  61.39         & 12.48          &  5.86          &  4.12          & 4.82           &  4.74          &  4.94          &  7.11          &  0.92          &  2.23         \\\\\n",
       "\t Cyprus         &  39.02         & 22.92          &  56.44         & 11.73          &  5.68          &  4.29          & 4.77           &  5.02          &  4.31          &  6.84          &  1.42          &  2.08         \\\\\n",
       "\t Latvia         & 137.74         & 56.66          & 101.17         & 17.39          &  7.44          & 14.11          & 8.84           &  7.79          & 16.50          &  7.66          &  6.87          &  3.16         \\\\\n",
       "\t Lithuania      & 109.03         & 59.42          &  94.22         & 16.11          &  7.01          & 10.86          & 8.65           &  8.13          & 23.97          &  6.89          &  7.74          &  3.09         \\\\\n",
       "\t Luxembourg     &  28.04         & 11.55          &  54.17         & 14.24          &  4.79          &  5.47          & 2.46           &  3.04          &  9.37          &  7.12          &  1.79          &  0.87         \\\\\n",
       "\t Hungary        & 105.59         & 50.48          & 128.26         & 39.76          & 14.54          & 22.24          & 5.81           &  7.02          & 13.05          &  8.48          &  5.21          &  2.43         \\\\\n",
       "\t Malta          &  34.36         & 22.31          &  61.61         & 14.06          &  6.10          &  4.67          & 6.17           &  2.86          &  5.19          &  5.88          &  2.28          &  0.00         \\\\\n",
       "\t Netherlands    &  23.35         &  7.15          &  71.18         & 18.24          &  7.32          &  7.45          & 5.79           &  2.77          & 10.81          &  7.63          &  1.40          &  1.25         \\\\\n",
       "\t Austria        &  29.65         & 16.70          &  64.10         & 15.79          &  5.49          &  6.26          & 4.72           &  4.45          & 10.06          &  6.19          &  1.75          &  1.41         \\\\\n",
       "\t Poland         &  66.94         & 22.59          &  91.99         & 23.21          &  8.83          & 12.71          & 5.29           &  8.49          & 11.52          &  7.42          &  4.92          &  2.25         \\\\\n",
       "\t Portugal       &  33.21         & 14.23          &  81.49         & 15.65          &  8.57          &  7.74          & 5.36           &  6.36          &  7.36          &  7.18          &  2.33          &  1.73         \\\\\n",
       "\t Romania        & 113.99         & 45.31          & 114.71         & 26.58          &  9.84          & 26.03          & 4.32           & 11.18          &  8.98          &  8.25          & 10.43          &  2.68         \\\\\n",
       "\t Slovenia       &  81.48         & 40.50          &  94.93         & 16.40          & 10.72          & 15.14          & 6.85           &  7.22          &  6.58          &  8.02          &  5.05          &  2.66         \\\\\n",
       "\t Slovakia       &  32.62         & 19.63          &  84.30         & 22.08          &  7.45          &  3.02          & 4.81           &  5.92          & 14.97          &  6.15          &  2.65          &  2.71         \\\\\n",
       "\t Finland        &  40.07         & 18.35          &  53.04         &  9.38          &  5.18          &  4.12          & 6.52           &  4.07          & 14.69          &  6.07          &  1.23          &  0.95         \\\\\n",
       "\t Sweden         &  26.92         & 13.74          &  49.80         &  7.46          &  5.85          &  4.21          & 5.20           &  2.41          & 10.86          &  5.14          &  1.59          &  1.22         \\\\\n",
       "\t United Kingdom &  37.46         & 20.28          &  65.64         & 13.04          &  6.58          & 13.11          & 6.65           &  2.17          &  7.74          &  7.01          &  1.80          &  1.79         \\\\\n",
       "\t Iceland        &  22.18         & 13.81          &  51.06         & 12.47          &  4.33          &  3.93          & 8.93           &  2.39          & 10.78          &  4.82          &  3.73          &  1.61         \\\\\n",
       "\t Liechtenstein  &  20.74         &  3.24          &  55.65         & 15.13          &  3.10          &  5.87          & 9.29           &  0.00          & 17.58          &  2.74          &  0.00          & 12.20         \\\\\n",
       "\t Norway         &  21.14         & 10.00          &  54.10         & 10.25          &  7.78          &  6.28          & 5.39           &  2.45          & 11.61          &  4.60          &  1.99          &  1.00         \\\\\n",
       "\t Switzerland    &  19.46         &  8.82          &  50.91         & 11.98          &  4.85          &  4.67          & 5.11           &  3.05          & 10.16          &  5.21          &  1.01          &  0.96         \\\\\n",
       "\t Serbia         &  94.61         & 26.98          & 114.20         & 33.28          & 10.78          & 14.26          & 7.50           &  7.16          &  9.85          & 10.49          &  9.49          &  3.32         \\\\\n",
       "\t Turkey         &  62.05         & 30.93          &  63.60         & 20.85          &  5.19          & 14.45          & 5.36           &  7.81          &  3.46          &  4.42          &  0.98          &  1.48         \\\\\n",
       "\\end{tabular}\n"
      ],
      "text/markdown": [
       "\n",
       "| Country | Circulatory disease | Heart disease | Cancer | Lung Cancer | Colorectal cancer | Respiratory diseases | Diseases of the nervous system | Transport accidents | Suicide | Breast Cancer(Females) | Cancer of the cervix(Females) | Cancer of the uterus(Females) |\n",
       "|---|---|---|---|---|---|---|---|---|---|---|---|---|\n",
       "| EU-27          |  44.80         | 17.92          |  77.34         | 19.06          |  7.23          |  9.13          | 5.46           |  5.27          |  9.21          |  7.08          |  2.67          |  1.95          |\n",
       "| Belgium        |  28.95         | 10.39          |  65.27         | 17.27          |  5.56          |  9.25          | 6.25           |  4.97          | 14.39          |  6.88          |  2.03          |  1.21          |\n",
       "| Bulgaria       | 164.15         | 38.44          |  94.04         | 21.94          |  9.21          | 18.23          | 4.64           |  7.82          |  6.59          |  7.30          |  6.79          |  4.53          |\n",
       "| Czechia        |  58.71         | 26.56          |  75.28         | 15.09          |  8.44          | 11.83          | 4.92           |  6.21          | 11.88          |  5.22          |  3.39          |  2.15          |\n",
       "| Denmark        |  27.94         |  9.57          |  66.62         | 16.11          |  6.82          | 10.93          | 6.19           |  2.90          |  8.50          |  6.20          |  2.01          |  0.91          |\n",
       "| Germany        |  36.12         | 16.27          |  69.35         | 17.00          |  6.08          |  8.93          | 5.96           |  3.53          |  8.31          |  6.88          |  2.32          |  1.41          |\n",
       "| Estonia        |  81.28         | 32.29          |  80.57         | 13.83          |  7.22          |  6.82          | 7.38           |  4.59          | 15.79          |  6.73          |  5.54          |  2.80          |\n",
       "| Ireland        |  30.13         | 16.41          |  64.22         | 12.36          |  7.01          |  7.10          | 6.19           |  2.33          |  8.78          |  7.57          |  2.59          |  1.37          |\n",
       "| Greece         |  50.34         | 28.61          |  73.27         | 19.62          |  5.32          |  5.98          | 6.32           |  7.35          |  4.02          |  6.51          |  1.28          |  2.35          |\n",
       "| Spain          |  26.59         | 11.14          |  68.52         | 17.60          |  7.07          |  7.20          | 5.07           |  3.95          |  6.19          |  5.65          |  1.71          |  1.60          |\n",
       "| France         |  24.10         |  8.42          |  77.44         | 21.18          |  6.10          |  5.94          | 6.04           |  4.65          | 11.36          |  7.51          |  1.70          |  1.94          |\n",
       "| Croatia        |  63.21         | 32.96          |  99.94         | 27.46          | 11.56          |  6.58          | 5.94           |  8.47          | 11.68          |  7.64          |  2.96          |  2.75          |\n",
       "| Italy          |  25.21         |  9.63          |  61.39         | 12.48          |  5.86          |  4.12          | 4.82           |  4.74          |  4.94          |  7.11          |  0.92          |  2.23          |\n",
       "| Cyprus         |  39.02         | 22.92          |  56.44         | 11.73          |  5.68          |  4.29          | 4.77           |  5.02          |  4.31          |  6.84          |  1.42          |  2.08          |\n",
       "| Latvia         | 137.74         | 56.66          | 101.17         | 17.39          |  7.44          | 14.11          | 8.84           |  7.79          | 16.50          |  7.66          |  6.87          |  3.16          |\n",
       "| Lithuania      | 109.03         | 59.42          |  94.22         | 16.11          |  7.01          | 10.86          | 8.65           |  8.13          | 23.97          |  6.89          |  7.74          |  3.09          |\n",
       "| Luxembourg     |  28.04         | 11.55          |  54.17         | 14.24          |  4.79          |  5.47          | 2.46           |  3.04          |  9.37          |  7.12          |  1.79          |  0.87          |\n",
       "| Hungary        | 105.59         | 50.48          | 128.26         | 39.76          | 14.54          | 22.24          | 5.81           |  7.02          | 13.05          |  8.48          |  5.21          |  2.43          |\n",
       "| Malta          |  34.36         | 22.31          |  61.61         | 14.06          |  6.10          |  4.67          | 6.17           |  2.86          |  5.19          |  5.88          |  2.28          |  0.00          |\n",
       "| Netherlands    |  23.35         |  7.15          |  71.18         | 18.24          |  7.32          |  7.45          | 5.79           |  2.77          | 10.81          |  7.63          |  1.40          |  1.25          |\n",
       "| Austria        |  29.65         | 16.70          |  64.10         | 15.79          |  5.49          |  6.26          | 4.72           |  4.45          | 10.06          |  6.19          |  1.75          |  1.41          |\n",
       "| Poland         |  66.94         | 22.59          |  91.99         | 23.21          |  8.83          | 12.71          | 5.29           |  8.49          | 11.52          |  7.42          |  4.92          |  2.25          |\n",
       "| Portugal       |  33.21         | 14.23          |  81.49         | 15.65          |  8.57          |  7.74          | 5.36           |  6.36          |  7.36          |  7.18          |  2.33          |  1.73          |\n",
       "| Romania        | 113.99         | 45.31          | 114.71         | 26.58          |  9.84          | 26.03          | 4.32           | 11.18          |  8.98          |  8.25          | 10.43          |  2.68          |\n",
       "| Slovenia       |  81.48         | 40.50          |  94.93         | 16.40          | 10.72          | 15.14          | 6.85           |  7.22          |  6.58          |  8.02          |  5.05          |  2.66          |\n",
       "| Slovakia       |  32.62         | 19.63          |  84.30         | 22.08          |  7.45          |  3.02          | 4.81           |  5.92          | 14.97          |  6.15          |  2.65          |  2.71          |\n",
       "| Finland        |  40.07         | 18.35          |  53.04         |  9.38          |  5.18          |  4.12          | 6.52           |  4.07          | 14.69          |  6.07          |  1.23          |  0.95          |\n",
       "| Sweden         |  26.92         | 13.74          |  49.80         |  7.46          |  5.85          |  4.21          | 5.20           |  2.41          | 10.86          |  5.14          |  1.59          |  1.22          |\n",
       "| United Kingdom |  37.46         | 20.28          |  65.64         | 13.04          |  6.58          | 13.11          | 6.65           |  2.17          |  7.74          |  7.01          |  1.80          |  1.79          |\n",
       "| Iceland        |  22.18         | 13.81          |  51.06         | 12.47          |  4.33          |  3.93          | 8.93           |  2.39          | 10.78          |  4.82          |  3.73          |  1.61          |\n",
       "| Liechtenstein  |  20.74         |  3.24          |  55.65         | 15.13          |  3.10          |  5.87          | 9.29           |  0.00          | 17.58          |  2.74          |  0.00          | 12.20          |\n",
       "| Norway         |  21.14         | 10.00          |  54.10         | 10.25          |  7.78          |  6.28          | 5.39           |  2.45          | 11.61          |  4.60          |  1.99          |  1.00          |\n",
       "| Switzerland    |  19.46         |  8.82          |  50.91         | 11.98          |  4.85          |  4.67          | 5.11           |  3.05          | 10.16          |  5.21          |  1.01          |  0.96          |\n",
       "| Serbia         |  94.61         | 26.98          | 114.20         | 33.28          | 10.78          | 14.26          | 7.50           |  7.16          |  9.85          | 10.49          |  9.49          |  3.32          |\n",
       "| Turkey         |  62.05         | 30.93          |  63.60         | 20.85          |  5.19          | 14.45          | 5.36           |  7.81          |  3.46          |  4.42          |  0.98          |  1.48          |\n",
       "\n"
      ],
      "text/plain": [
       "   Country        Circulatory disease Heart disease Cancer Lung Cancer\n",
       "1  EU-27           44.80              17.92          77.34 19.06      \n",
       "2  Belgium         28.95              10.39          65.27 17.27      \n",
       "3  Bulgaria       164.15              38.44          94.04 21.94      \n",
       "4  Czechia         58.71              26.56          75.28 15.09      \n",
       "5  Denmark         27.94               9.57          66.62 16.11      \n",
       "6  Germany         36.12              16.27          69.35 17.00      \n",
       "7  Estonia         81.28              32.29          80.57 13.83      \n",
       "8  Ireland         30.13              16.41          64.22 12.36      \n",
       "9  Greece          50.34              28.61          73.27 19.62      \n",
       "10 Spain           26.59              11.14          68.52 17.60      \n",
       "11 France          24.10               8.42          77.44 21.18      \n",
       "12 Croatia         63.21              32.96          99.94 27.46      \n",
       "13 Italy           25.21               9.63          61.39 12.48      \n",
       "14 Cyprus          39.02              22.92          56.44 11.73      \n",
       "15 Latvia         137.74              56.66         101.17 17.39      \n",
       "16 Lithuania      109.03              59.42          94.22 16.11      \n",
       "17 Luxembourg      28.04              11.55          54.17 14.24      \n",
       "18 Hungary        105.59              50.48         128.26 39.76      \n",
       "19 Malta           34.36              22.31          61.61 14.06      \n",
       "20 Netherlands     23.35               7.15          71.18 18.24      \n",
       "21 Austria         29.65              16.70          64.10 15.79      \n",
       "22 Poland          66.94              22.59          91.99 23.21      \n",
       "23 Portugal        33.21              14.23          81.49 15.65      \n",
       "24 Romania        113.99              45.31         114.71 26.58      \n",
       "25 Slovenia        81.48              40.50          94.93 16.40      \n",
       "26 Slovakia        32.62              19.63          84.30 22.08      \n",
       "27 Finland         40.07              18.35          53.04  9.38      \n",
       "28 Sweden          26.92              13.74          49.80  7.46      \n",
       "29 United Kingdom  37.46              20.28          65.64 13.04      \n",
       "30 Iceland         22.18              13.81          51.06 12.47      \n",
       "31 Liechtenstein   20.74               3.24          55.65 15.13      \n",
       "32 Norway          21.14              10.00          54.10 10.25      \n",
       "33 Switzerland     19.46               8.82          50.91 11.98      \n",
       "34 Serbia          94.61              26.98         114.20 33.28      \n",
       "35 Turkey          62.05              30.93          63.60 20.85      \n",
       "   Colorectal cancer Respiratory diseases Diseases of the nervous system\n",
       "1   7.23              9.13                5.46                          \n",
       "2   5.56              9.25                6.25                          \n",
       "3   9.21             18.23                4.64                          \n",
       "4   8.44             11.83                4.92                          \n",
       "5   6.82             10.93                6.19                          \n",
       "6   6.08              8.93                5.96                          \n",
       "7   7.22              6.82                7.38                          \n",
       "8   7.01              7.10                6.19                          \n",
       "9   5.32              5.98                6.32                          \n",
       "10  7.07              7.20                5.07                          \n",
       "11  6.10              5.94                6.04                          \n",
       "12 11.56              6.58                5.94                          \n",
       "13  5.86              4.12                4.82                          \n",
       "14  5.68              4.29                4.77                          \n",
       "15  7.44             14.11                8.84                          \n",
       "16  7.01             10.86                8.65                          \n",
       "17  4.79              5.47                2.46                          \n",
       "18 14.54             22.24                5.81                          \n",
       "19  6.10              4.67                6.17                          \n",
       "20  7.32              7.45                5.79                          \n",
       "21  5.49              6.26                4.72                          \n",
       "22  8.83             12.71                5.29                          \n",
       "23  8.57              7.74                5.36                          \n",
       "24  9.84             26.03                4.32                          \n",
       "25 10.72             15.14                6.85                          \n",
       "26  7.45              3.02                4.81                          \n",
       "27  5.18              4.12                6.52                          \n",
       "28  5.85              4.21                5.20                          \n",
       "29  6.58             13.11                6.65                          \n",
       "30  4.33              3.93                8.93                          \n",
       "31  3.10              5.87                9.29                          \n",
       "32  7.78              6.28                5.39                          \n",
       "33  4.85              4.67                5.11                          \n",
       "34 10.78             14.26                7.50                          \n",
       "35  5.19             14.45                5.36                          \n",
       "   Transport accidents Suicide Breast Cancer(Females)\n",
       "1   5.27                9.21    7.08                 \n",
       "2   4.97               14.39    6.88                 \n",
       "3   7.82                6.59    7.30                 \n",
       "4   6.21               11.88    5.22                 \n",
       "5   2.90                8.50    6.20                 \n",
       "6   3.53                8.31    6.88                 \n",
       "7   4.59               15.79    6.73                 \n",
       "8   2.33                8.78    7.57                 \n",
       "9   7.35                4.02    6.51                 \n",
       "10  3.95                6.19    5.65                 \n",
       "11  4.65               11.36    7.51                 \n",
       "12  8.47               11.68    7.64                 \n",
       "13  4.74                4.94    7.11                 \n",
       "14  5.02                4.31    6.84                 \n",
       "15  7.79               16.50    7.66                 \n",
       "16  8.13               23.97    6.89                 \n",
       "17  3.04                9.37    7.12                 \n",
       "18  7.02               13.05    8.48                 \n",
       "19  2.86                5.19    5.88                 \n",
       "20  2.77               10.81    7.63                 \n",
       "21  4.45               10.06    6.19                 \n",
       "22  8.49               11.52    7.42                 \n",
       "23  6.36                7.36    7.18                 \n",
       "24 11.18                8.98    8.25                 \n",
       "25  7.22                6.58    8.02                 \n",
       "26  5.92               14.97    6.15                 \n",
       "27  4.07               14.69    6.07                 \n",
       "28  2.41               10.86    5.14                 \n",
       "29  2.17                7.74    7.01                 \n",
       "30  2.39               10.78    4.82                 \n",
       "31  0.00               17.58    2.74                 \n",
       "32  2.45               11.61    4.60                 \n",
       "33  3.05               10.16    5.21                 \n",
       "34  7.16                9.85   10.49                 \n",
       "35  7.81                3.46    4.42                 \n",
       "   Cancer of the cervix(Females) Cancer of the uterus(Females)\n",
       "1   2.67                          1.95                        \n",
       "2   2.03                          1.21                        \n",
       "3   6.79                          4.53                        \n",
       "4   3.39                          2.15                        \n",
       "5   2.01                          0.91                        \n",
       "6   2.32                          1.41                        \n",
       "7   5.54                          2.80                        \n",
       "8   2.59                          1.37                        \n",
       "9   1.28                          2.35                        \n",
       "10  1.71                          1.60                        \n",
       "11  1.70                          1.94                        \n",
       "12  2.96                          2.75                        \n",
       "13  0.92                          2.23                        \n",
       "14  1.42                          2.08                        \n",
       "15  6.87                          3.16                        \n",
       "16  7.74                          3.09                        \n",
       "17  1.79                          0.87                        \n",
       "18  5.21                          2.43                        \n",
       "19  2.28                          0.00                        \n",
       "20  1.40                          1.25                        \n",
       "21  1.75                          1.41                        \n",
       "22  4.92                          2.25                        \n",
       "23  2.33                          1.73                        \n",
       "24 10.43                          2.68                        \n",
       "25  5.05                          2.66                        \n",
       "26  2.65                          2.71                        \n",
       "27  1.23                          0.95                        \n",
       "28  1.59                          1.22                        \n",
       "29  1.80                          1.79                        \n",
       "30  3.73                          1.61                        \n",
       "31  0.00                         12.20                        \n",
       "32  1.99                          1.00                        \n",
       "33  1.01                          0.96                        \n",
       "34  9.49                          3.32                        \n",
       "35  0.98                          1.48                        "
      ]
     },
     "metadata": {},
     "output_type": "display_data"
    }
   ],
   "source": [
    "datlist2 <- vector(mode=\"list\",12)\n",
    "for(i in 1:length(causes)){\n",
    "  datlist2[[i]] <- subset(datatbl2,datatbl2$icd10 == causes[i])\n",
    "  datlist2[[i]] <- datlist2[[i]][,-1]\n",
    "  datlist2[[i]] <- datlist2[[i]][order(factor(datlist2[[i]]$geo, levels= countries)),]\n",
    "  colnames(datlist2[[i]]) <- c(\"country\",causes2[i])\n",
    "}\n",
    "(table2 <- cbind(Country,datlist2[[1]][,2],\n",
    "      datlist2[[2]][,2],\n",
    "      datlist2[[3]][,2],\n",
    "      datlist2[[4]][,2],\n",
    "      datlist2[[5]][,2],\n",
    "      datlist2[[6]][,2],\n",
    "      datlist2[[7]][,2],\n",
    "      datlist2[[8]][,2],\n",
    "      datlist2[[9]][,2],\n",
    "      datlist2[[10]][,2],\n",
    "      datlist2[[11]][,2],\n",
    "      datlist2[[12]][,2]))"
   ]
  },
  {
   "cell_type": "markdown",
   "metadata": {},
   "source": [
    "#### Additional\n",
    "\n",
    "  - Creating HTML data table with kableExtra package with adjusted colors and footnotes"
   ]
  },
  {
   "cell_type": "code",
   "execution_count": 112,
   "metadata": {},
   "outputs": [],
   "source": [
    "kbl (table2)%>%\n",
    "    row_spec(0,background=\"#eded6d\",bold=T)%>%\n",
    "    row_spec (1,background=\"#edd16d\") %>%\n",
    "    row_spec(29,background=\"#cfccc4\") %>%\n",
    "    row_spec(30:33,background=\"#b8b5ad\") %>%\n",
    "    row_spec(34:35,background=\"#a19e99\") %>%\n",
    "    footnote(general=\"Heart disease = ischeamic heart diseases,\n",
    "    Cancer = malignant neoplasms, \n",
    "    Lung cancer = malignant neoplasms of trachea, bronchus and lung,\n",
    "    France & EU 27 with numbers from 2016, \n",
    "    Definitions differ for Turkey,\n",
    "    Source: https://ec.europa.eu/eurostat/databrowser/view/hlth_cd_asdr2/default/table?lang=en\") %>%\n",
    "    kable_styling(bootstrap_options=c(\"striped\",\"hover\"))%>%\n",
    "    kable_paper (full_width=FALSE)"
   ]
  },
  {
   "cell_type": "markdown",
   "metadata": {},
   "source": [
    "### Figure 5: Causes of death - standardized death rate, ages less than 65, 2017\n",
    "\n",
    "#### First steps: Apply relevant filters\n",
    " \n",
    "  - keeping variable with causes of death relevant for the graphic: (`C18-C21`=Cororectal cancer, `C_33-C34`=Lung cancer, `C`=Cancer, `C_50`=Breast Cancer, `I`=Circulatory diseases, `I20_I25`=Ischaemic heart disease, `V_Y85`=Transport Accidents)\n",
    "  - only inhabitants aged less than 65\n",
    "  - EU 27 summarizing category\n",
    "  - 2006-2016: using merged `dataset_3` from above with data from 2006-2016"
   ]
  },
  {
   "cell_type": "code",
   "execution_count": 79,
   "metadata": {},
   "outputs": [],
   "source": [
    "causes_fig6 <- c(\"C18-C21\",\"C\",\"C50\",\"I\",\"I20-I25\",\"V_Y85\",\"C33_C34\")\n",
    "data_fig6 <- subset(dataset_3, dataset_3$geo ==\"EU27_2020\" &\n",
    "                   dataset_3$age ==\"Y_LT65\" &\n",
    "                   dataset_3$icd10 %in% causes_fig6 &\n",
    "                   dataset_3$sex==\"T\")\n",
    "data_fig6 <- droplevels(data_fig6)"
   ]
  },
  {
   "cell_type": "markdown",
   "metadata": {},
   "source": [
    "#### Second step: Standardize such that 2006 = 100\n",
    "\n",
    "  - taking values from year 2006 for each cause (2009 for lung cancer)\n",
    "  - dividing all other respective values with value from 2006/2009 divided by 100"
   ]
  },
  {
   "cell_type": "code",
   "execution_count": 81,
   "metadata": {},
   "outputs": [],
   "source": [
    "for (i in 1:6){\n",
    "    data_fig6$values[data_fig6$icd10==causes_fig6[i]] <- (data_fig6$values[data_fig6$icd10==causes_fig6[i]])/\n",
    "    ((data_fig6$values[data_fig6$icd10==causes_fig6[i] & data_fig6$time==2006])/100)\n",
    "}\n",
    "data_fig6$values[data_fig6$icd10==causes_fig6[7]] <- (data_fig6$values[data_fig6$icd10==causes_fig6[7]])/\n",
    "    ((data_fig6$values[data_fig6$icd10==causes_fig6[7] & data_fig6$time==2009])/100)"
   ]
  },
  {
   "cell_type": "code",
   "execution_count": 119,
   "metadata": {},
   "outputs": [
    {
     "data": {
      "text/html": [
       "<dl class=dl-horizontal>\n",
       "\t<dt>unit</dt>\n",
       "\t\t<dd>0</dd>\n",
       "\t<dt>sex</dt>\n",
       "\t\t<dd>0</dd>\n",
       "\t<dt>age</dt>\n",
       "\t\t<dd>0</dd>\n",
       "\t<dt>icd10</dt>\n",
       "\t\t<dd>0</dd>\n",
       "\t<dt>geo</dt>\n",
       "\t\t<dd>0</dd>\n",
       "\t<dt>time</dt>\n",
       "\t\t<dd>0</dd>\n",
       "\t<dt>values</dt>\n",
       "\t\t<dd>0</dd>\n",
       "</dl>\n"
      ],
      "text/latex": [
       "\\begin{description*}\n",
       "\\item[unit] 0\n",
       "\\item[sex] 0\n",
       "\\item[age] 0\n",
       "\\item[icd10] 0\n",
       "\\item[geo] 0\n",
       "\\item[time] 0\n",
       "\\item[values] 0\n",
       "\\end{description*}\n"
      ],
      "text/markdown": [
       "unit\n",
       ":   0sex\n",
       ":   0age\n",
       ":   0icd10\n",
       ":   0geo\n",
       ":   0time\n",
       ":   0values\n",
       ":   0\n",
       "\n"
      ],
      "text/plain": [
       "  unit    sex    age  icd10    geo   time values \n",
       "     0      0      0      0      0      0      0 "
      ]
     },
     "metadata": {},
     "output_type": "display_data"
    }
   ],
   "source": [
    "sapply(data_fig6,function(x)(sum(is.na(x))))"
   ]
  },
  {
   "cell_type": "markdown",
   "metadata": {},
   "source": [
    "#### Third step: Create graphic with `ggplot2`\n",
    "\n",
    "  - using the package `ggplot` to create the line plot for different diseases\n",
    "  - creating the space with `aes` (years on `x` axis and values on `y` axis), grouped by causes of deaths\n",
    "  - creating the plot with `geom_line` command, colors according to causes of deaths\n",
    "  - adding a horizontal line for values/ death rate = 100\n",
    "  - adding a `title`\n",
    "  - changing the labels & limits of `x`-axis & `y`-axis according to countries\n",
    "  - creating the legend and colors for the bars with `scale_fill_manual` with `sex` (colors token from the original with hex code)\n",
    "  - deleting `labels` of the axes\n",
    "  - changing the size of `title` and `subtitle`, axis label"
   ]
  },
  {
   "cell_type": "code",
   "execution_count": 82,
   "metadata": {},
   "outputs": [
    {
     "name": "stderr",
     "output_type": "stream",
     "text": [
      "Warning message:\n",
      "\"Removed 24 row(s) containing missing values (geom_path).\""
     ]
    },
    {
     "data": {
      "image/png": "[encoded data removed]",
      "text/plain": [
       "plot without title"
      ]
     },
     "metadata": {},
     "output_type": "display_data"
    }
   ],
   "source": [
    "figure1 <- ggplot(data_fig6, aes(x=time,y=values, group=icd10)) +\n",
    "    geom_line(aes(color=icd10),lwd=0.7) + \n",
    "    geom_hline(yintercept=100,lty=2) +\n",
    "    ggtitle(\"Causes of death - standardised death rate per 100 000 inhabitants,\n",
    "    aged less than 65, EU-27,2006-2016\",subtitle=\"2006=100\") +\n",
    "    scale_y_continuous(limits = c(0, 130), breaks = seq(0, 130, by = 10)) +\n",
    "    scale_x_continuous(limits = c(2006, 2016), breaks = seq(2006, 2016, by = 1)) +\n",
    "    theme_classic()+\n",
    "    theme(legend.position=\"bottom\",legend.direction=\"vertical\") +\n",
    "    scale_color_manual(labels = c(\"Cancer (malignant neoplasms)\",\"Colorectal cancer\", \"Lung Cancer\",\n",
    "                                  \"Breast Cancer\",\"Circulatory Diseases\",\"Ischaemic heart diseases\",\"Transport accidents\"), \n",
    "            values = c(\"#3074b7\",\"#50bbbb\",\"#c1e7e7\",\"#9bbad8\",\"#f7d7a1\",\"#fbc160\",\"#cbd258\"),name = \" \") +\n",
    "    ylab(\" \")+\n",
    "    xlab(\" \")\n",
    "\n",
    "figure1 + theme(\n",
    "  plot.title = element_text(size = 10, face = \"bold\"),\n",
    "  plot.subtitle = element_text(size=8),\n",
    ")"
   ]
  },
  {
   "cell_type": "markdown",
   "metadata": {},
   "source": [
    "## Additional material: Idea for deeper analysis of the data\n",
    "\n",
    "### Analyse death rates in framework of time series analysis\n",
    "\n",
    "   - take for example one country or EU 27 category (over all causes) and look for trends, seasonality _etc..._ in the time series\n",
    "  - it could be an interesting analysis especially if data is updated with numbers from 2020 to see if *Covid-19* disease lead to an increase or higher trend or even structural break in the death rates\n",
    "  - use `R` functions for time series analysis: `decompose` to decompose the time series in trend, seasonal, and rest components\n",
    "  - use `R` function `lm` to estimate time trend in the data, adjust model\n",
    "  - `R` package for structural breaks: [`strucchange`](https://cran.r-project.org/web/packages/strucchange/strucchange.pdf)\n",
    "    - powerful package for detecting and dating change points in the course of a time series\n",
    "    - function breakpoints can be applied to date multiple change points\n",
    "    - function Fstats with sctest applies hypothesis test for \"no structural break\" vs. \"structural break\"\n",
    "  - compare different countries or member states _vs._ potential member states with respect to the course of overall death rate"
   ]
  },
  {
   "cell_type": "code",
   "execution_count": null,
   "metadata": {},
   "outputs": [],
   "source": []
  }
 ],
 "metadata": {
  "colab": {
   "name": "eu_int_trade_transport_R.ipynb",
   "provenance": []
  },
  "kernelspec": {
   "display_name": "R",
   "language": "R",
   "name": "ir"
  },
  "language_info": {
   "codemirror_mode": "r",
   "file_extension": ".r",
   "mimetype": "text/x-r-source",
   "name": "R",
   "pygments_lexer": "r",
   "version": "3.6.1"
  }
 },
 "nbformat": 4,
 "nbformat_minor": 1
}
