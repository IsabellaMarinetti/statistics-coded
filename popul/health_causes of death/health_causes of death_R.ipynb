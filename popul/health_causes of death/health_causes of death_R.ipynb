{
 "cells": [
  {
   "cell_type": "markdown",
   "metadata": {
    "colab_type": "text",
    "id": "sM8ZePrlR54s"
   },
   "source": [
    "##  *Statistics coded:* Causes of death statistics\n",
    "\n",
    "Prepared by  [**Katharina Koehler**](@kkatha) (EMOS).\n",
    "\n",
    "Objective of this notebook is illustrating the \"Statistics Explained\" article [Causes of death statisitics](https://ec.europa.eu/eurostat/statistics-explained/index.php?title=Causes_of_death_statistics)."
   ]
  },
  {
   "cell_type": "markdown",
   "metadata": {
    "colab_type": "text",
    "id": "qlpXEpBWR541"
   },
   "source": [
    "### Configuration\n",
    "\n",
    "Put all libraries/packages/modules/etc... that are necessary so that you can run this notebook."
   ]
  },
  {
   "cell_type": "code",
   "execution_count": 1,
   "metadata": {
    "colab": {},
    "colab_type": "code",
    "id": "eUjGK-qhR55M"
   },
   "outputs": [
    {
     "name": "stderr",
     "output_type": "stream",
     "text": [
      "also installing the dependencies 'e1071', 'bibtex', 'units', 'classInt', 'countrycode', 'RefManageR', 'sf', 'sp'\n",
      "\n"
     ]
    },
    {
     "name": "stdout",
     "output_type": "stream",
     "text": [
      "\n",
      "  There is a binary version available but the source version is later:\n",
      "            binary source needs_compilation\n",
      "countrycode  1.1.3  1.2.0             FALSE\n",
      "\n",
      "package 'e1071' successfully unpacked and MD5 sums checked\n",
      "package 'bibtex' successfully unpacked and MD5 sums checked\n",
      "package 'units' successfully unpacked and MD5 sums checked\n",
      "package 'classInt' successfully unpacked and MD5 sums checked\n",
      "package 'RefManageR' successfully unpacked and MD5 sums checked\n",
      "package 'sf' successfully unpacked and MD5 sums checked\n",
      "package 'sp' successfully unpacked and MD5 sums checked\n",
      "package 'eurostat' successfully unpacked and MD5 sums checked\n",
      "\n",
      "The downloaded binary packages are in\n",
      "\tC:\\Users\\Katha\\AppData\\Local\\Temp\\RtmpsF2ZjW\\downloaded_packages\n"
     ]
    },
    {
     "name": "stderr",
     "output_type": "stream",
     "text": [
      "installing the source package 'countrycode'\n",
      "\n"
     ]
    }
   ],
   "source": [
    "#install.packages(c(\"ggplot2\", \"plotly\", \"tidyr\", \"repr\", \"dplyr\", \"devtools\", \"restatapi\"))\n",
    "install.packages(\"eurostat\")"
   ]
  },
  {
   "cell_type": "code",
   "execution_count": 2,
   "metadata": {},
   "outputs": [
    {
     "name": "stderr",
     "output_type": "stream",
     "text": [
      "Registered S3 methods overwritten by 'ggplot2':\n",
      "  method         from \n",
      "  [.quosures     rlang\n",
      "  c.quosures     rlang\n",
      "  print.quosures rlang\n",
      "\n",
      "Attaching package: 'dplyr'\n",
      "\n",
      "The following objects are masked from 'package:stats':\n",
      "\n",
      "    filter, lag\n",
      "\n",
      "The following objects are masked from 'package:base':\n",
      "\n",
      "    intersect, setdiff, setequal, union\n",
      "\n",
      "Warning message:\n",
      "\"package 'eurostat' was built under R version 3.6.3\"\n",
      "Attaching package: 'reshape2'\n",
      "\n",
      "The following object is masked from 'package:tidyr':\n",
      "\n",
      "    smiths\n",
      "\n"
     ]
    }
   ],
   "source": [
    "library(ggplot2)\n",
    "library(tidyr)\n",
    "library(dplyr)\n",
    "library(eurostat)\n",
    "library(reshape2)"
   ]
  },
  {
   "cell_type": "code",
   "execution_count": null,
   "metadata": {},
   "outputs": [],
   "source": []
  },
  {
   "cell_type": "markdown",
   "metadata": {},
   "source": [
    "### Loading relevant datasets for analyses/ graphics\n",
    "\n",
    "Pulling data from Eurostat API \"https://appsso.eurostat.ec.europa.eu/nui/show.do?dataset=hlth_cd_asdr2&lang=en\" id/ code used in function argument \"hlth_cd_asdr2\" and \"hlth_cd_asdr\" to identify dataset\n",
    "- \"hlth_cd_asdr2\": Causes of death - standardised death rate by residence, 2011-2017 needed\n",
    "- \"hlth_cd_asdr\": Causes of death - standardised death rate per 100 000 inhabitants - annual data, 2006-2010 needed"
   ]
  },
  {
   "cell_type": "markdown",
   "metadata": {},
   "source": [
    "#### First step:\n",
    "Define variables for relevant countries to make filtering easier later\n",
    "#### Second Step\n",
    "Loading the complete dataset per bulk download via API -> Filtering the complete data set accordingly with R commands later"
   ]
  },
  {
   "cell_type": "code",
   "execution_count": 36,
   "metadata": {},
   "outputs": [],
   "source": [
    "EU_27 <- c(\"EU27_2020\", \"AT\",\"BE\", \"BG\",\"HR\",\"CY\", \"CZ\",\"DK\", \"DE\", \"EE\",\"FI\",\"FR\",\"EL\",\"HU\",\"IE\",\n",
    "           \"IT\",\"LV\",\"LT\",\"LU\",\"MT\",\"NL\",\"PL\",\"PT\",\"RO\",\"SK\",\"SI\",\"ES\",\"SE\")\n",
    "countries <- c(\"EU27_2020\", \"AT\",\"BE\", \"BG\",\"HR\",\"CY\", \"CZ\",\"DK\", \"DE\", \"EE\",\"FI\",\"FR\",\"EL\",\"HU\",\"IE\",\n",
    "               \"IT\",\"LV\",\"LT\",\"LU\",\"MT\",\"NL\",\"PL\",\"PT\",\"RO\",\"SK\",\"SI\",\"ES\",\"SE\",\"UK\",\"IS\",\"LI\",\"NO\",\"CH\",\"RS\",\"TR\")"
   ]
  },
  {
   "cell_type": "code",
   "execution_count": 47,
   "metadata": {},
   "outputs": [
    {
     "name": "stderr",
     "output_type": "stream",
     "text": [
      "Reading cache file C:\\Users\\Katha\\AppData\\Local\\Temp\\RtmpsF2ZjW/eurostat/hlth_cd_asdr2_date_codeY_TF.rds\n",
      "Table  hlth_cd_asdr2  read from cache file:  C:\\Users\\Katha\\AppData\\Local\\Temp\\RtmpsF2ZjW/eurostat/hlth_cd_asdr2_date_codeY_TF.rds\n"
     ]
    },
    {
     "data": {
      "text/html": [
       "<table>\n",
       "<thead><tr><th scope=col>unit</th><th scope=col>sex</th><th scope=col>age</th><th scope=col>icd10</th><th scope=col>geo</th><th scope=col>time</th><th scope=col>values</th></tr></thead>\n",
       "<tbody>\n",
       "\t<tr><td>RT        </td><td>F         </td><td>TOTAL     </td><td>A-R_V-Y   </td><td>AT        </td><td>2017-01-01</td><td>800.93    </td></tr>\n",
       "\t<tr><td>RT        </td><td>F         </td><td>TOTAL     </td><td>A-R_V-Y   </td><td>AT1       </td><td>2017-01-01</td><td>839.44    </td></tr>\n",
       "\t<tr><td>RT        </td><td>F         </td><td>TOTAL     </td><td>A-R_V-Y   </td><td>AT11      </td><td>2017-01-01</td><td>831.87    </td></tr>\n",
       "\t<tr><td>RT        </td><td>F         </td><td>TOTAL     </td><td>A-R_V-Y   </td><td>AT12      </td><td>2017-01-01</td><td>844.03    </td></tr>\n",
       "\t<tr><td>RT        </td><td>F         </td><td>TOTAL     </td><td>A-R_V-Y   </td><td>AT13      </td><td>2017-01-01</td><td>835.65    </td></tr>\n",
       "\t<tr><td>RT        </td><td>F         </td><td>TOTAL     </td><td>A-R_V-Y   </td><td>AT2       </td><td>2017-01-01</td><td>785.24    </td></tr>\n",
       "</tbody>\n",
       "</table>\n"
      ],
      "text/latex": [
       "\\begin{tabular}{r|lllllll}\n",
       " unit & sex & age & icd10 & geo & time & values\\\\\n",
       "\\hline\n",
       "\t RT         & F          & TOTAL      & A-R\\_V-Y  & AT         & 2017-01-01 & 800.93    \\\\\n",
       "\t RT         & F          & TOTAL      & A-R\\_V-Y  & AT1        & 2017-01-01 & 839.44    \\\\\n",
       "\t RT         & F          & TOTAL      & A-R\\_V-Y  & AT11       & 2017-01-01 & 831.87    \\\\\n",
       "\t RT         & F          & TOTAL      & A-R\\_V-Y  & AT12       & 2017-01-01 & 844.03    \\\\\n",
       "\t RT         & F          & TOTAL      & A-R\\_V-Y  & AT13       & 2017-01-01 & 835.65    \\\\\n",
       "\t RT         & F          & TOTAL      & A-R\\_V-Y  & AT2        & 2017-01-01 & 785.24    \\\\\n",
       "\\end{tabular}\n"
      ],
      "text/markdown": [
       "\n",
       "| unit | sex | age | icd10 | geo | time | values |\n",
       "|---|---|---|---|---|---|---|\n",
       "| RT         | F          | TOTAL      | A-R_V-Y    | AT         | 2017-01-01 | 800.93     |\n",
       "| RT         | F          | TOTAL      | A-R_V-Y    | AT1        | 2017-01-01 | 839.44     |\n",
       "| RT         | F          | TOTAL      | A-R_V-Y    | AT11       | 2017-01-01 | 831.87     |\n",
       "| RT         | F          | TOTAL      | A-R_V-Y    | AT12       | 2017-01-01 | 844.03     |\n",
       "| RT         | F          | TOTAL      | A-R_V-Y    | AT13       | 2017-01-01 | 835.65     |\n",
       "| RT         | F          | TOTAL      | A-R_V-Y    | AT2        | 2017-01-01 | 785.24     |\n",
       "\n"
      ],
      "text/plain": [
       "  unit sex age   icd10   geo  time       values\n",
       "1 RT   F   TOTAL A-R_V-Y AT   2017-01-01 800.93\n",
       "2 RT   F   TOTAL A-R_V-Y AT1  2017-01-01 839.44\n",
       "3 RT   F   TOTAL A-R_V-Y AT11 2017-01-01 831.87\n",
       "4 RT   F   TOTAL A-R_V-Y AT12 2017-01-01 844.03\n",
       "5 RT   F   TOTAL A-R_V-Y AT13 2017-01-01 835.65\n",
       "6 RT   F   TOTAL A-R_V-Y AT2  2017-01-01 785.24"
      ]
     },
     "metadata": {},
     "output_type": "display_data"
    }
   ],
   "source": [
    "dataset <- get_eurostat(id=\"hlth_cd_asdr2\")"
   ]
  },
  {
   "cell_type": "code",
   "execution_count": 51,
   "metadata": {},
   "outputs": [
    {
     "data": {
      "text/html": [
       "<table>\n",
       "<thead><tr><th scope=col>unit</th><th scope=col>sex</th><th scope=col>age</th><th scope=col>icd10</th><th scope=col>geo</th><th scope=col>time</th><th scope=col>values</th></tr></thead>\n",
       "<tbody>\n",
       "\t<tr><td>RT     </td><td>F      </td><td>TOTAL  </td><td>A-R_V-Y</td><td>AT     </td><td>2017   </td><td>800.93 </td></tr>\n",
       "\t<tr><td>RT     </td><td>F      </td><td>TOTAL  </td><td>A-R_V-Y</td><td>AT1    </td><td>2017   </td><td>839.44 </td></tr>\n",
       "\t<tr><td>RT     </td><td>F      </td><td>TOTAL  </td><td>A-R_V-Y</td><td>AT11   </td><td>2017   </td><td>831.87 </td></tr>\n",
       "\t<tr><td>RT     </td><td>F      </td><td>TOTAL  </td><td>A-R_V-Y</td><td>AT12   </td><td>2017   </td><td>844.03 </td></tr>\n",
       "\t<tr><td>RT     </td><td>F      </td><td>TOTAL  </td><td>A-R_V-Y</td><td>AT13   </td><td>2017   </td><td>835.65 </td></tr>\n",
       "\t<tr><td>RT     </td><td>F      </td><td>TOTAL  </td><td>A-R_V-Y</td><td>AT2    </td><td>2017   </td><td>785.24 </td></tr>\n",
       "</tbody>\n",
       "</table>\n"
      ],
      "text/latex": [
       "\\begin{tabular}{r|lllllll}\n",
       " unit & sex & age & icd10 & geo & time & values\\\\\n",
       "\\hline\n",
       "\t RT        & F         & TOTAL     & A-R\\_V-Y & AT        & 2017      & 800.93   \\\\\n",
       "\t RT        & F         & TOTAL     & A-R\\_V-Y & AT1       & 2017      & 839.44   \\\\\n",
       "\t RT        & F         & TOTAL     & A-R\\_V-Y & AT11      & 2017      & 831.87   \\\\\n",
       "\t RT        & F         & TOTAL     & A-R\\_V-Y & AT12      & 2017      & 844.03   \\\\\n",
       "\t RT        & F         & TOTAL     & A-R\\_V-Y & AT13      & 2017      & 835.65   \\\\\n",
       "\t RT        & F         & TOTAL     & A-R\\_V-Y & AT2       & 2017      & 785.24   \\\\\n",
       "\\end{tabular}\n"
      ],
      "text/markdown": [
       "\n",
       "| unit | sex | age | icd10 | geo | time | values |\n",
       "|---|---|---|---|---|---|---|\n",
       "| RT      | F       | TOTAL   | A-R_V-Y | AT      | 2017    | 800.93  |\n",
       "| RT      | F       | TOTAL   | A-R_V-Y | AT1     | 2017    | 839.44  |\n",
       "| RT      | F       | TOTAL   | A-R_V-Y | AT11    | 2017    | 831.87  |\n",
       "| RT      | F       | TOTAL   | A-R_V-Y | AT12    | 2017    | 844.03  |\n",
       "| RT      | F       | TOTAL   | A-R_V-Y | AT13    | 2017    | 835.65  |\n",
       "| RT      | F       | TOTAL   | A-R_V-Y | AT2     | 2017    | 785.24  |\n",
       "\n"
      ],
      "text/plain": [
       "  unit sex age   icd10   geo  time values\n",
       "1 RT   F   TOTAL A-R_V-Y AT   2017 800.93\n",
       "2 RT   F   TOTAL A-R_V-Y AT1  2017 839.44\n",
       "3 RT   F   TOTAL A-R_V-Y AT11 2017 831.87\n",
       "4 RT   F   TOTAL A-R_V-Y AT12 2017 844.03\n",
       "5 RT   F   TOTAL A-R_V-Y AT13 2017 835.65\n",
       "6 RT   F   TOTAL A-R_V-Y AT2  2017 785.24"
      ]
     },
     "metadata": {},
     "output_type": "display_data"
    }
   ],
   "source": [
    "dataset$time <- as.integer(substr(dataset$time,1,4))\n",
    "head(dataset)"
   ]
  },
  {
   "cell_type": "code",
   "execution_count": 34,
   "metadata": {},
   "outputs": [
    {
     "name": "stderr",
     "output_type": "stream",
     "text": [
      "Reading cache file C:\\Users\\Katha\\AppData\\Local\\Temp\\RtmpsF2ZjW/eurostat/hlth_cd_asdr_date_code_TF.rds\n",
      "Table  hlth_cd_asdr  read from cache file:  C:\\Users\\Katha\\AppData\\Local\\Temp\\RtmpsF2ZjW/eurostat/hlth_cd_asdr_date_code_TF.rds\n"
     ]
    }
   ],
   "source": [
    "dataset_2 <- get_eurostat(id=\"hlth_cd_asdr\")"
   ]
  },
  {
   "cell_type": "code",
   "execution_count": 53,
   "metadata": {
    "scrolled": true
   },
   "outputs": [],
   "source": [
    "dataset_2 <- subset(dataset_2,dataset_2$time >= 2006)"
   ]
  },
  {
   "cell_type": "code",
   "execution_count": 55,
   "metadata": {},
   "outputs": [
    {
     "data": {
      "text/html": [
       "<table>\n",
       "<thead><tr><th scope=col>unit</th><th scope=col>sex</th><th scope=col>age</th><th scope=col>icd10</th><th scope=col>geo</th><th scope=col>time</th><th scope=col>values</th></tr></thead>\n",
       "<tbody>\n",
       "\t<tr><td>RT     </td><td>F      </td><td>TOTAL  </td><td>A-R_V-Y</td><td>AT     </td><td>2010   </td><td> 820.2 </td></tr>\n",
       "\t<tr><td>RT     </td><td>F      </td><td>TOTAL  </td><td>A-R_V-Y</td><td>BE     </td><td>2010   </td><td> 845.7 </td></tr>\n",
       "\t<tr><td>RT     </td><td>F      </td><td>TOTAL  </td><td>A-R_V-Y</td><td>BG     </td><td>2010   </td><td>1382.2 </td></tr>\n",
       "\t<tr><td>RT     </td><td>F      </td><td>TOTAL  </td><td>A-R_V-Y</td><td>CH     </td><td>2010   </td><td> 730.6 </td></tr>\n",
       "\t<tr><td>RT     </td><td>F      </td><td>TOTAL  </td><td>A-R_V-Y</td><td>CY     </td><td>2010   </td><td> 829.4 </td></tr>\n",
       "\t<tr><td>RT     </td><td>F      </td><td>TOTAL  </td><td>A-R_V-Y</td><td>CZ     </td><td>2010   </td><td>1064.4 </td></tr>\n",
       "</tbody>\n",
       "</table>\n"
      ],
      "text/latex": [
       "\\begin{tabular}{r|lllllll}\n",
       " unit & sex & age & icd10 & geo & time & values\\\\\n",
       "\\hline\n",
       "\t RT        & F         & TOTAL     & A-R\\_V-Y & AT        & 2010      &  820.2   \\\\\n",
       "\t RT        & F         & TOTAL     & A-R\\_V-Y & BE        & 2010      &  845.7   \\\\\n",
       "\t RT        & F         & TOTAL     & A-R\\_V-Y & BG        & 2010      & 1382.2   \\\\\n",
       "\t RT        & F         & TOTAL     & A-R\\_V-Y & CH        & 2010      &  730.6   \\\\\n",
       "\t RT        & F         & TOTAL     & A-R\\_V-Y & CY        & 2010      &  829.4   \\\\\n",
       "\t RT        & F         & TOTAL     & A-R\\_V-Y & CZ        & 2010      & 1064.4   \\\\\n",
       "\\end{tabular}\n"
      ],
      "text/markdown": [
       "\n",
       "| unit | sex | age | icd10 | geo | time | values |\n",
       "|---|---|---|---|---|---|---|\n",
       "| RT      | F       | TOTAL   | A-R_V-Y | AT      | 2010    |  820.2  |\n",
       "| RT      | F       | TOTAL   | A-R_V-Y | BE      | 2010    |  845.7  |\n",
       "| RT      | F       | TOTAL   | A-R_V-Y | BG      | 2010    | 1382.2  |\n",
       "| RT      | F       | TOTAL   | A-R_V-Y | CH      | 2010    |  730.6  |\n",
       "| RT      | F       | TOTAL   | A-R_V-Y | CY      | 2010    |  829.4  |\n",
       "| RT      | F       | TOTAL   | A-R_V-Y | CZ      | 2010    | 1064.4  |\n",
       "\n"
      ],
      "text/plain": [
       "  unit sex age   icd10   geo time values\n",
       "1 RT   F   TOTAL A-R_V-Y AT  2010  820.2\n",
       "2 RT   F   TOTAL A-R_V-Y BE  2010  845.7\n",
       "3 RT   F   TOTAL A-R_V-Y BG  2010 1382.2\n",
       "4 RT   F   TOTAL A-R_V-Y CH  2010  730.6\n",
       "5 RT   F   TOTAL A-R_V-Y CY  2010  829.4\n",
       "6 RT   F   TOTAL A-R_V-Y CZ  2010 1064.4"
      ]
     },
     "metadata": {},
     "output_type": "display_data"
    }
   ],
   "source": [
    "dataset_2$time <- as.integer(substr(dataset_2$time,1,4))\n",
    "head(dataset_2)"
   ]
  },
  {
   "cell_type": "markdown",
   "metadata": {},
   "source": [
    "### Main findings\n",
    "\n",
    "The code here will help reproducing the material presented in the section [Main findings](https://ec.europa.eu/eurostat/statistics-explained/index.php?title=Causes_of_death_statistics)."
   ]
  },
  {
   "cell_type": "markdown",
   "metadata": {},
   "source": [
    "#### Creation of table: causes of death - standarized death rate, 2017\n",
    "##### First steps: Filter data accordingly:\n",
    "- only keep relevant countries\n",
    "- create one values variable with values from 2017 and from 2016 where 2017 not available\n",
    "- Keep only causes of death relevant for table, summarize"
   ]
  },
  {
   "cell_type": "code",
   "execution_count": 56,
   "metadata": {},
   "outputs": [
    {
     "data": {
      "text/html": [
       "<table>\n",
       "<thead><tr><th scope=col>unit</th><th scope=col>sex</th><th scope=col>age</th><th scope=col>icd10</th><th scope=col>geo</th><th scope=col>time</th><th scope=col>values</th></tr></thead>\n",
       "<tbody>\n",
       "\t<tr><td>RT     </td><td>T      </td><td>TOTAL  </td><td>A-R_V-Y</td><td>AT     </td><td>2017   </td><td> 959.95</td></tr>\n",
       "\t<tr><td>RT     </td><td>T      </td><td>TOTAL  </td><td>A-R_V-Y</td><td>BE     </td><td>2017   </td><td> 963.19</td></tr>\n",
       "\t<tr><td>RT     </td><td>T      </td><td>TOTAL  </td><td>A-R_V-Y</td><td>BG     </td><td>2017   </td><td>1631.13</td></tr>\n",
       "\t<tr><td>RT     </td><td>T      </td><td>TOTAL  </td><td>A-R_V-Y</td><td>CH     </td><td>2017   </td><td> 823.77</td></tr>\n",
       "\t<tr><td>RT     </td><td>T      </td><td>TOTAL  </td><td>A-R_V-Y</td><td>CY     </td><td>2017   </td><td>1071.36</td></tr>\n",
       "\t<tr><td>RT     </td><td>T      </td><td>TOTAL  </td><td>A-R_V-Y</td><td>CZ     </td><td>2017   </td><td>1239.97</td></tr>\n",
       "</tbody>\n",
       "</table>\n"
      ],
      "text/latex": [
       "\\begin{tabular}{r|lllllll}\n",
       " unit & sex & age & icd10 & geo & time & values\\\\\n",
       "\\hline\n",
       "\t RT        & T         & TOTAL     & A-R\\_V-Y & AT        & 2017      &  959.95  \\\\\n",
       "\t RT        & T         & TOTAL     & A-R\\_V-Y & BE        & 2017      &  963.19  \\\\\n",
       "\t RT        & T         & TOTAL     & A-R\\_V-Y & BG        & 2017      & 1631.13  \\\\\n",
       "\t RT        & T         & TOTAL     & A-R\\_V-Y & CH        & 2017      &  823.77  \\\\\n",
       "\t RT        & T         & TOTAL     & A-R\\_V-Y & CY        & 2017      & 1071.36  \\\\\n",
       "\t RT        & T         & TOTAL     & A-R\\_V-Y & CZ        & 2017      & 1239.97  \\\\\n",
       "\\end{tabular}\n"
      ],
      "text/markdown": [
       "\n",
       "| unit | sex | age | icd10 | geo | time | values |\n",
       "|---|---|---|---|---|---|---|\n",
       "| RT      | T       | TOTAL   | A-R_V-Y | AT      | 2017    |  959.95 |\n",
       "| RT      | T       | TOTAL   | A-R_V-Y | BE      | 2017    |  963.19 |\n",
       "| RT      | T       | TOTAL   | A-R_V-Y | BG      | 2017    | 1631.13 |\n",
       "| RT      | T       | TOTAL   | A-R_V-Y | CH      | 2017    |  823.77 |\n",
       "| RT      | T       | TOTAL   | A-R_V-Y | CY      | 2017    | 1071.36 |\n",
       "| RT      | T       | TOTAL   | A-R_V-Y | CZ      | 2017    | 1239.97 |\n",
       "\n"
      ],
      "text/plain": [
       "  unit sex age   icd10   geo time values \n",
       "1 RT   T   TOTAL A-R_V-Y AT  2017  959.95\n",
       "2 RT   T   TOTAL A-R_V-Y BE  2017  963.19\n",
       "3 RT   T   TOTAL A-R_V-Y BG  2017 1631.13\n",
       "4 RT   T   TOTAL A-R_V-Y CH  2017  823.77\n",
       "5 RT   T   TOTAL A-R_V-Y CY  2017 1071.36\n",
       "6 RT   T   TOTAL A-R_V-Y CZ  2017 1239.97"
      ]
     },
     "metadata": {},
     "output_type": "display_data"
    }
   ],
   "source": [
    "datatbl1 <- subset(dataset, dataset$sex==\"T\" &\n",
    "                     dataset$age ==\"TOTAL\" & \n",
    "                    dataset$geo %in% countries & \n",
    "                     (dataset$time==2017 | dataset$time==2016))\n",
    "head(datatbl1)"
   ]
  },
  {
   "cell_type": "code",
   "execution_count": 57,
   "metadata": {},
   "outputs": [],
   "source": [
    "datatbl1$values_n <- ifelse(datatbl1$time==2017,datatbl1$values,NA)\n",
    "datatbl1[datatbl1$geo==\"FR\",]$values_n <- datatbl1[datatbl1$geo==\"FR\",]$values\n",
    "datatbl1[datatbl1$geo==\"EU27_2020\",]$values_n <- datatbl1[datatbl1$geo==\"EU27_2020\",]$values\n",
    "datatbl1 <- datatbl1[!is.na(datatbl1$values_n),]"
   ]
  },
  {
   "cell_type": "code",
   "execution_count": 60,
   "metadata": {},
   "outputs": [
    {
     "data": {
      "text/html": [
       "<table>\n",
       "<thead><tr><th scope=col>icd10</th><th scope=col>geo</th><th scope=col>values_n</th></tr></thead>\n",
       "<tbody>\n",
       "\t<tr><td>C     </td><td>AT    </td><td>236.23</td></tr>\n",
       "\t<tr><td>C     </td><td>BE    </td><td>240.06</td></tr>\n",
       "\t<tr><td>C     </td><td>BG    </td><td>232.81</td></tr>\n",
       "\t<tr><td>C     </td><td>CH    </td><td>214.81</td></tr>\n",
       "\t<tr><td>C     </td><td>CY    </td><td>211.84</td></tr>\n",
       "\t<tr><td>C     </td><td>CZ    </td><td>275.80</td></tr>\n",
       "</tbody>\n",
       "</table>\n"
      ],
      "text/latex": [
       "\\begin{tabular}{r|lll}\n",
       " icd10 & geo & values\\_n\\\\\n",
       "\\hline\n",
       "\t C      & AT     & 236.23\\\\\n",
       "\t C      & BE     & 240.06\\\\\n",
       "\t C      & BG     & 232.81\\\\\n",
       "\t C      & CH     & 214.81\\\\\n",
       "\t C      & CY     & 211.84\\\\\n",
       "\t C      & CZ     & 275.80\\\\\n",
       "\\end{tabular}\n"
      ],
      "text/markdown": [
       "\n",
       "| icd10 | geo | values_n |\n",
       "|---|---|---|\n",
       "| C      | AT     | 236.23 |\n",
       "| C      | BE     | 240.06 |\n",
       "| C      | BG     | 232.81 |\n",
       "| C      | CH     | 214.81 |\n",
       "| C      | CY     | 211.84 |\n",
       "| C      | CZ     | 275.80 |\n",
       "\n"
      ],
      "text/plain": [
       "  icd10 geo values_n\n",
       "1 C     AT  236.23  \n",
       "2 C     BE  240.06  \n",
       "3 C     BG  232.81  \n",
       "4 C     CH  214.81  \n",
       "5 C     CY  211.84  \n",
       "6 C     CZ  275.80  "
      ]
     },
     "metadata": {},
     "output_type": "display_data"
    }
   ],
   "source": [
    "causes <- c(\"I\",\"I20-I25\",\"C\",\"C33_C34\",\"C18-C21\",\"J\",\"G_H\",\"V_Y85\",\"\tX60-X84_Y870\",\"C50\",\"C53\",\"\tC54_C55\")\n",
    "datatbl1 <- datatbl1[datatbl1$icd10 %in% causes,]\n",
    "#table(datatbl1$values_n,datatbl1$icd10)\n",
    "#datatbl1$icd10\n",
    "datatbl11 <- datatbl1[,c(4,5,8)]\n",
    "head(datatbl11)"
   ]
  },
  {
   "cell_type": "markdown",
   "metadata": {},
   "source": [
    "##### Second steps: Table"
   ]
  },
  {
   "cell_type": "markdown",
   "metadata": {},
   "source": [
    "### Developments between 2006 & 2016\n",
    "\n",
    "The code here will help reproducing the material presented in the section [Developments between 2006 and 2010](https://ec.europa.eu/eurostat/statistics-explained/index.php?title=Causes_of_death_statistics)."
   ]
  },
  {
   "cell_type": "markdown",
   "metadata": {},
   "source": [
    "##### First steps: Merge two datasets to get data in the time interval 2006 - 2010, apply filters"
   ]
  },
  {
   "cell_type": "code",
   "execution_count": 118,
   "metadata": {},
   "outputs": [
    {
     "name": "stdout",
     "output_type": "stream",
     "text": [
      "Classes 'tbl_df', 'tbl' and 'data.frame':\t1198869 obs. of  7 variables:\n",
      " $ unit  : Factor w/ 1 level \"RT\": 1 1 1 1 1 1 1 1 1 1 ...\n",
      " $ sex   : Factor w/ 3 levels \"F\",\"M\",\"T\": 1 1 1 1 1 1 1 1 1 1 ...\n",
      " $ age   : Factor w/ 3 levels \"TOTAL\",\"Y_GE65\",..: 1 1 1 1 1 1 1 1 1 1 ...\n",
      " $ icd10 : Factor w/ 89 levels \"A-R_V-Y\",\"A15-A19_B90\",..: 1 1 1 1 1 1 1 1 1 1 ...\n",
      " $ geo   : Factor w/ 482 levels \"AT\",\"AT1\",\"AT11\",..: 1 2 3 4 5 6 7 8 9 10 ...\n",
      " $ time  : int  2017 2017 2017 2017 2017 2017 2017 2017 2017 2017 ...\n",
      " $ values: num  801 839 832 844 836 ...\n"
     ]
    }
   ],
   "source": [
    "# Merge:\n",
    "dataset_3 <- rbind(dataset,dataset_2) \n",
    "str(dataset_3)"
   ]
  },
  {
   "cell_type": "markdown",
   "metadata": {},
   "source": [
    "###### Graphic Males"
   ]
  },
  {
   "cell_type": "code",
   "execution_count": 123,
   "metadata": {},
   "outputs": [
    {
     "name": "stdout",
     "output_type": "stream",
     "text": [
      "Classes 'tbl_df', 'tbl' and 'data.frame':\t52 obs. of  7 variables:\n",
      " $ unit  : Factor w/ 1 level \"RT\": 1 1 1 1 1 1 1 1 1 1 ...\n",
      " $ sex   : Factor w/ 1 level \"M\": 1 1 1 1 1 1 1 1 1 1 ...\n",
      " $ age   : Factor w/ 1 level \"TOTAL\": 1 1 1 1 1 1 1 1 1 1 ...\n",
      " $ icd10 : Factor w/ 5 levels \"C\",\"C33_C34\",..: 1 2 3 4 5 1 2 3 4 5 ...\n",
      " $ geo   : Factor w/ 1 level \"EU27_2020\": 1 1 1 1 1 1 1 1 1 1 ...\n",
      " $ time  : int  2016 2016 2016 2016 2016 2015 2015 2015 2015 2015 ...\n",
      " $ values: num  343.96 83.59 44.96 162.46 9.67 ...\n"
     ]
    }
   ],
   "source": [
    "##Graphic Males, 2006-2016, 100=2006\n",
    "datagr1 <- subset(dataset_3, dataset_3$sex==\"M\" & dataset_3$age ==\"TOTAL\" &\n",
    "                     dataset_3$geo == \"EU27_2020\")\n",
    "datagr1 <- subset(datagr1, datagr1$time >=2006)\n",
    "#Keep only causes relevant for graphic\n",
    "causes <- c(\"V_Y85\",\"C\",\"G_H\",\"I20-I25\",\"C33_C34\")\n",
    "datagr1 <- datagr1[datagr1$icd10 %in% causes,]\n",
    "datagr1 <- droplevels(datagr1)\n",
    "str(datagr1)"
   ]
  },
  {
   "cell_type": "markdown",
   "metadata": {},
   "source": [
    "###### Second step: Standardize such that 2006 = 100"
   ]
  },
  {
   "cell_type": "code",
   "execution_count": 108,
   "metadata": {},
   "outputs": [
    {
     "data": {
      "text/plain": [
       "         \n",
       "          16.3 36.5 226.9 387\n",
       "  C          0    0     0   1\n",
       "  C33_C34    0    0     0   0\n",
       "  G_H        0    1     0   0\n",
       "  I20-I25    0    0     1   0\n",
       "  V_Y85      1    0     0   0"
      ]
     },
     "metadata": {},
     "output_type": "display_data"
    }
   ],
   "source": [
    "table(datagr1$icd10[datagr1$time==2006],datagr1$values[datagr1$time == 2006])"
   ]
  },
  {
   "cell_type": "code",
   "execution_count": 109,
   "metadata": {},
   "outputs": [
    {
     "data": {
      "text/plain": [
       "         \n",
       "          13.5 37.6 94.7 201.2 372.9\n",
       "  C          0    0    0     0     1\n",
       "  C33_C34    0    0    1     0     0\n",
       "  G_H        0    1    0     0     0\n",
       "  I20-I25    0    0    0     1     0\n",
       "  V_Y85      1    0    0     0     0"
      ]
     },
     "metadata": {},
     "output_type": "display_data"
    }
   ],
   "source": [
    "table(datagr1$icd10[datagr1$time==2009],datagr1$values[datagr1$time == 2009])"
   ]
  },
  {
   "cell_type": "code",
   "execution_count": 124,
   "metadata": {},
   "outputs": [],
   "source": [
    "datagr1$values[datagr1$icd10==\"C\"] <- datagr1$values[datagr1$icd10==\"C\"] /3.87\n",
    "datagr1$values[datagr1$icd10==\"G_H\"] <- datagr1$values[datagr1$icd10==\"G_H\"]/0.365\n",
    "datagr1$values[datagr1$icd10==\"I20-I25\"] <- datagr1$values[datagr1$icd10==\"I20-I25\"]/2.269\n",
    "datagr1$values[datagr1$icd10==\"V_Y85\"] <- datagr1$values[datagr1$icd10==\"V_Y85\"]/0.163\n",
    "datagr1$values[datagr1$icd10==\"C33_C34\"] <- datagr1$values[datagr1$icd10==\"C33_C34\"]/0.947"
   ]
  },
  {
   "cell_type": "markdown",
   "metadata": {},
   "source": [
    "##### Third step: Create graphic with ggplot2 package"
   ]
  },
  {
   "cell_type": "code",
   "execution_count": 147,
   "metadata": {
    "scrolled": true
   },
   "outputs": [
    {
     "data": {
      "image/png": "[encoded data removed]",
      "text/plain": [
       "plot without title"
      ]
     },
     "metadata": {},
     "output_type": "display_data"
    }
   ],
   "source": [
    "col_nerv <- rgb(83,140,196,maxColorValue=300)\n",
    "col_lung <- rgb(252,195,100,maxColorValue=300)\n",
    "col_canc <- rgb(184,195,25,maxColorValue=300)\n",
    "col_heart <- rgb(240,96,29,maxColorValue=300)\n",
    "col_acc <- rgb(91,179,61,maxColorValue=300)\n",
    "\n",
    "figure1 <- ggplot(datagr1, aes(x=time,y=values, group=icd10)) +\n",
    "    geom_line(aes(color=icd10)) + \n",
    "    geom_hline(yintercept=100,lty=1) +\n",
    "    ggtitle(\"Causes of death - standardised death rate per 100 000 inhabitants, males, EU-27,2006-2016\",subtitle=\"2006=100\") +\n",
    "    scale_y_continuous(limits = c(0, 130), breaks = seq(0, 130, by = 10)) +\n",
    "    scale_x_continuous(limits = c(2006, 2016), breaks = seq(2006, 2016, by = 1)) +\n",
    "    theme_classic()+\n",
    "    theme(legend.position=\"bottom\",legend.direction=\"vertical\") +\n",
    "    scale_color_manual(labels = c(\"Cancer (malignant neoplasms)\", \"Lung Cancer\", \"Nervous system\",\"Ischaemic heart diseases\",\n",
    "                                 \"Transport accidents\"), \n",
    "    values = c(col_canc,col_lung,col_nerv,col_heart,col_acc), name = \" \") +\n",
    "    ylab(\" \")+\n",
    "    xlab(\" \")\n",
    "\n",
    "figure1 + theme(\n",
    "  plot.title = element_text(size = 10, face = \"bold\"),\n",
    "  plot.subtitle = element_text(size=8),\n",
    ")"
   ]
  },
  {
   "cell_type": "code",
   "execution_count": null,
   "metadata": {},
   "outputs": [],
   "source": [
    "ggplot(datagr1, aes(x=time,y=values, group=icd10)) +\n",
    "    geom_line(aes(color=icd10)) +\n",
    "    geom_line(y=100,lty=3) +\n",
    "    ylim(c(0,130)) +\n",
    "    theme_bw ()"
   ]
  },
  {
   "cell_type": "markdown",
   "metadata": {},
   "source": [
    "### Causes of death by sex\n",
    "\n",
    "The code here will help reproducing the material presented in the section [Causes of death by sex](https://ec.europa.eu/eurostat/statistics-explained/index.php?title=Causes_of_death_statistics).\n",
    "\n",
    "##### First steps: Apply relevant filters"
   ]
  },
  {
   "cell_type": "code",
   "execution_count": null,
   "metadata": {},
   "outputs": [],
   "source": [
    "data_fig3 <- subset(dataset, dataset$time==2016  & \n",
    "                      dataset$geo==\"European Union - 27 countries (from 2020)\"&\n",
    "                    dataset$age==\"Total\"& dataset$icd10!=\"All causes of death (A00-Y89) excluding S00-T98\")\n",
    "data_fig3 <- data_fig3[,-c(1,3,5,6)]\n",
    "View(data_fig3)\n",
    "head(data_fig3[order(data_fig30$values,decreasing = T),],20)\n",
    "# Filtering out levels summarizing multiple diseases\n",
    "data_fig3 <- subset(data_fig3,data_fig0$icd10!=\"Diseases of the circulatory system (I00-I99)\" &\n",
    "                      data_fig3$icd10!=\"Neoplasms\" &\n",
    "                      data_fig3$icd10!=\"Malignant neoplasms (C00-C97)\" &\n",
    "                      data_fig3$icd10!=\"Diseases of the respiratory system (J00-J99)\" &\n",
    "                      data_fig3$icd10!=\"Other heart diseases\" &\n",
    "                      data_fig3$icd10!=\"Other diseases of the circulatory system (remainder of I00-I99)\")"
   ]
  }
 ],
 "metadata": {
  "colab": {
   "name": "eu_int_trade_transport_R.ipynb",
   "provenance": []
  },
  "kernelspec": {
   "display_name": "R",
   "language": "R",
   "name": "ir"
  },
  "language_info": {
   "codemirror_mode": "r",
   "file_extension": ".r",
   "mimetype": "text/x-r-source",
   "name": "R",
   "pygments_lexer": "r",
   "version": "3.6.1"
  }
 },
 "nbformat": 4,
 "nbformat_minor": 1
}
