{
 "cells": [
  {
   "cell_type": "markdown",
   "metadata": {
    "colab_type": "text",
    "id": "sM8ZePrlR54s"
   },
   "source": [
    "##  *Statistics coded:* Causes of death statistics\n",
    "\n",
    "Prepared by  [**Katharina Koehler**](@kkatha) (EMOS).\n",
    "\n",
    "Objective of this notebook is illustrating the \"Statistics Explained\" article [Causes of death statisitics](https://ec.europa.eu/eurostat/statistics-explained/index.php?title=Causes_of_death_statistics)."
   ]
  },
  {
   "cell_type": "markdown",
   "metadata": {
    "colab_type": "text",
    "id": "qlpXEpBWR541"
   },
   "source": [
    "## Configuration\n",
    "\n",
    "Put all libraries/packages/modules/etc... that are necessary so that you can run this notebook."
   ]
  },
  {
   "cell_type": "code",
   "execution_count": 5,
   "metadata": {
    "colab": {},
    "colab_type": "code",
    "id": "eUjGK-qhR55M"
   },
   "outputs": [
    {
     "name": "stderr",
     "output_type": "stream",
     "text": [
      "Warning message:\n",
      "\"package 'patchwork' is in use and will not be installed\""
     ]
    }
   ],
   "source": [
    "#install.packages(c(\"ggplot2\", \"plotly\", \"tidyr\", \"repr\", \"dplyr\", \"devtools\", \"restatapi\"))\n",
    "#install.packages(\"eurostat\")\n",
    "install.packages(\"patchwork\")"
   ]
  },
  {
   "cell_type": "code",
   "execution_count": 6,
   "metadata": {},
   "outputs": [],
   "source": [
    "library(ggplot2)\n",
    "library(tidyr)\n",
    "library(dplyr)\n",
    "library(eurostat)\n",
    "library(reshape2)\n",
    "library(patchwork)"
   ]
  },
  {
   "cell_type": "code",
   "execution_count": null,
   "metadata": {},
   "outputs": [],
   "source": []
  },
  {
   "cell_type": "markdown",
   "metadata": {},
   "source": [
    "## Loading relevant datasets for analyses/ graphics\n",
    "\n",
    "Pulling data from Eurostat API \"https://appsso.eurostat.ec.europa.eu/nui/show.do?dataset=hlth_cd_asdr2&lang=en\" id/ code used in function argument \"hlth_cd_asdr2\" and \"hlth_cd_asdr\" to identify dataset\n",
    "- \"hlth_cd_asdr2\": Causes of death - standardised death rate by residence, 2011-2017 needed\n",
    "- \"hlth_cd_asdr\": Causes of death - standardised death rate per 100 000 inhabitants - annual data, 2006-2010 needed"
   ]
  },
  {
   "cell_type": "markdown",
   "metadata": {},
   "source": [
    "#### First step:\n",
    "Define variables for relevant countries to make filtering easier later\n",
    "#### Second Step\n",
    "- Loading the complete dataset per bulk download via API -> Filtering the complete data set accordingly with R commands later\n",
    "- dataset = years 2011-2017, dataset_2 = years 2006-2010\n",
    "- change data format to keep only the year (done with substring command)"
   ]
  },
  {
   "cell_type": "code",
   "execution_count": 7,
   "metadata": {},
   "outputs": [],
   "source": [
    "EU_27 <- c(\"EU27_2020\", \"AT\",\"BE\", \"BG\",\"HR\",\"CY\", \"CZ\",\"DK\", \"DE\", \"EE\",\"FI\",\"FR\",\"EL\",\"HU\",\"IE\",\n",
    "           \"IT\",\"LV\",\"LT\",\"LU\",\"MT\",\"NL\",\"PL\",\"PT\",\"RO\",\"SK\",\"SI\",\"ES\",\"SE\")\n",
    "countries <- c(\"EU27_2020\", \"AT\",\"BE\", \"BG\",\"HR\",\"CY\", \"CZ\",\"DK\", \"DE\", \"EE\",\"FI\",\"FR\",\"EL\",\"HU\",\"IE\",\n",
    "               \"IT\",\"LV\",\"LT\",\"LU\",\"MT\",\"NL\",\"PL\",\"PT\",\"RO\",\"SK\",\"SI\",\"ES\",\"SE\",\"UK\",\"IS\",\"LI\",\"NO\",\"CH\",\"RS\",\"TR\")"
   ]
  },
  {
   "cell_type": "code",
   "execution_count": 8,
   "metadata": {},
   "outputs": [
    {
     "name": "stderr",
     "output_type": "stream",
     "text": [
      "Reading cache file C:\\Users\\Katha\\AppData\\Local\\Temp\\Rtmp8mrcas/eurostat/hlth_cd_asdr2_date_code_TF.rds\n",
      "Table  hlth_cd_asdr2  read from cache file:  C:\\Users\\Katha\\AppData\\Local\\Temp\\Rtmp8mrcas/eurostat/hlth_cd_asdr2_date_code_TF.rds\n"
     ]
    }
   ],
   "source": [
    "dataset <- get_eurostat(id=\"hlth_cd_asdr2\")"
   ]
  },
  {
   "cell_type": "code",
   "execution_count": 9,
   "metadata": {},
   "outputs": [
    {
     "data": {
      "text/html": [
       "<table>\n",
       "<thead><tr><th scope=col>unit</th><th scope=col>sex</th><th scope=col>age</th><th scope=col>icd10</th><th scope=col>geo</th><th scope=col>time</th><th scope=col>values</th></tr></thead>\n",
       "<tbody>\n",
       "\t<tr><td>RT     </td><td>F      </td><td>TOTAL  </td><td>A-R_V-Y</td><td>AT     </td><td>2017   </td><td>800.93 </td></tr>\n",
       "\t<tr><td>RT     </td><td>F      </td><td>TOTAL  </td><td>A-R_V-Y</td><td>AT1    </td><td>2017   </td><td>839.44 </td></tr>\n",
       "\t<tr><td>RT     </td><td>F      </td><td>TOTAL  </td><td>A-R_V-Y</td><td>AT11   </td><td>2017   </td><td>831.87 </td></tr>\n",
       "\t<tr><td>RT     </td><td>F      </td><td>TOTAL  </td><td>A-R_V-Y</td><td>AT12   </td><td>2017   </td><td>844.03 </td></tr>\n",
       "\t<tr><td>RT     </td><td>F      </td><td>TOTAL  </td><td>A-R_V-Y</td><td>AT13   </td><td>2017   </td><td>835.65 </td></tr>\n",
       "\t<tr><td>RT     </td><td>F      </td><td>TOTAL  </td><td>A-R_V-Y</td><td>AT2    </td><td>2017   </td><td>785.24 </td></tr>\n",
       "</tbody>\n",
       "</table>\n"
      ],
      "text/latex": [
       "\\begin{tabular}{r|lllllll}\n",
       " unit & sex & age & icd10 & geo & time & values\\\\\n",
       "\\hline\n",
       "\t RT        & F         & TOTAL     & A-R\\_V-Y & AT        & 2017      & 800.93   \\\\\n",
       "\t RT        & F         & TOTAL     & A-R\\_V-Y & AT1       & 2017      & 839.44   \\\\\n",
       "\t RT        & F         & TOTAL     & A-R\\_V-Y & AT11      & 2017      & 831.87   \\\\\n",
       "\t RT        & F         & TOTAL     & A-R\\_V-Y & AT12      & 2017      & 844.03   \\\\\n",
       "\t RT        & F         & TOTAL     & A-R\\_V-Y & AT13      & 2017      & 835.65   \\\\\n",
       "\t RT        & F         & TOTAL     & A-R\\_V-Y & AT2       & 2017      & 785.24   \\\\\n",
       "\\end{tabular}\n"
      ],
      "text/markdown": [
       "\n",
       "| unit | sex | age | icd10 | geo | time | values |\n",
       "|---|---|---|---|---|---|---|\n",
       "| RT      | F       | TOTAL   | A-R_V-Y | AT      | 2017    | 800.93  |\n",
       "| RT      | F       | TOTAL   | A-R_V-Y | AT1     | 2017    | 839.44  |\n",
       "| RT      | F       | TOTAL   | A-R_V-Y | AT11    | 2017    | 831.87  |\n",
       "| RT      | F       | TOTAL   | A-R_V-Y | AT12    | 2017    | 844.03  |\n",
       "| RT      | F       | TOTAL   | A-R_V-Y | AT13    | 2017    | 835.65  |\n",
       "| RT      | F       | TOTAL   | A-R_V-Y | AT2     | 2017    | 785.24  |\n",
       "\n"
      ],
      "text/plain": [
       "  unit sex age   icd10   geo  time values\n",
       "1 RT   F   TOTAL A-R_V-Y AT   2017 800.93\n",
       "2 RT   F   TOTAL A-R_V-Y AT1  2017 839.44\n",
       "3 RT   F   TOTAL A-R_V-Y AT11 2017 831.87\n",
       "4 RT   F   TOTAL A-R_V-Y AT12 2017 844.03\n",
       "5 RT   F   TOTAL A-R_V-Y AT13 2017 835.65\n",
       "6 RT   F   TOTAL A-R_V-Y AT2  2017 785.24"
      ]
     },
     "metadata": {},
     "output_type": "display_data"
    }
   ],
   "source": [
    "dataset$time <- as.integer(substr(dataset$time,1,4))\n",
    "head(dataset)"
   ]
  },
  {
   "cell_type": "code",
   "execution_count": 10,
   "metadata": {},
   "outputs": [
    {
     "name": "stderr",
     "output_type": "stream",
     "text": [
      "Table hlth_cd_asdr cached at C:\\Users\\Katha\\AppData\\Local\\Temp\\Rtmp8mrcas/eurostat/hlth_cd_asdr_date_code_TF.rds\n"
     ]
    }
   ],
   "source": [
    "dataset_2 <- get_eurostat(id=\"hlth_cd_asdr\")"
   ]
  },
  {
   "cell_type": "code",
   "execution_count": 11,
   "metadata": {
    "scrolled": true
   },
   "outputs": [],
   "source": [
    "dataset_2 <- subset(dataset_2,dataset_2$time >= 2006)"
   ]
  },
  {
   "cell_type": "code",
   "execution_count": 12,
   "metadata": {},
   "outputs": [
    {
     "data": {
      "text/html": [
       "<table>\n",
       "<thead><tr><th scope=col>unit</th><th scope=col>sex</th><th scope=col>age</th><th scope=col>icd10</th><th scope=col>geo</th><th scope=col>time</th><th scope=col>values</th></tr></thead>\n",
       "<tbody>\n",
       "\t<tr><td>RT     </td><td>F      </td><td>TOTAL  </td><td>A-R_V-Y</td><td>AT     </td><td>2010   </td><td> 820.2 </td></tr>\n",
       "\t<tr><td>RT     </td><td>F      </td><td>TOTAL  </td><td>A-R_V-Y</td><td>BE     </td><td>2010   </td><td> 845.7 </td></tr>\n",
       "\t<tr><td>RT     </td><td>F      </td><td>TOTAL  </td><td>A-R_V-Y</td><td>BG     </td><td>2010   </td><td>1382.2 </td></tr>\n",
       "\t<tr><td>RT     </td><td>F      </td><td>TOTAL  </td><td>A-R_V-Y</td><td>CH     </td><td>2010   </td><td> 730.6 </td></tr>\n",
       "\t<tr><td>RT     </td><td>F      </td><td>TOTAL  </td><td>A-R_V-Y</td><td>CY     </td><td>2010   </td><td> 829.4 </td></tr>\n",
       "\t<tr><td>RT     </td><td>F      </td><td>TOTAL  </td><td>A-R_V-Y</td><td>CZ     </td><td>2010   </td><td>1064.4 </td></tr>\n",
       "</tbody>\n",
       "</table>\n"
      ],
      "text/latex": [
       "\\begin{tabular}{r|lllllll}\n",
       " unit & sex & age & icd10 & geo & time & values\\\\\n",
       "\\hline\n",
       "\t RT        & F         & TOTAL     & A-R\\_V-Y & AT        & 2010      &  820.2   \\\\\n",
       "\t RT        & F         & TOTAL     & A-R\\_V-Y & BE        & 2010      &  845.7   \\\\\n",
       "\t RT        & F         & TOTAL     & A-R\\_V-Y & BG        & 2010      & 1382.2   \\\\\n",
       "\t RT        & F         & TOTAL     & A-R\\_V-Y & CH        & 2010      &  730.6   \\\\\n",
       "\t RT        & F         & TOTAL     & A-R\\_V-Y & CY        & 2010      &  829.4   \\\\\n",
       "\t RT        & F         & TOTAL     & A-R\\_V-Y & CZ        & 2010      & 1064.4   \\\\\n",
       "\\end{tabular}\n"
      ],
      "text/markdown": [
       "\n",
       "| unit | sex | age | icd10 | geo | time | values |\n",
       "|---|---|---|---|---|---|---|\n",
       "| RT      | F       | TOTAL   | A-R_V-Y | AT      | 2010    |  820.2  |\n",
       "| RT      | F       | TOTAL   | A-R_V-Y | BE      | 2010    |  845.7  |\n",
       "| RT      | F       | TOTAL   | A-R_V-Y | BG      | 2010    | 1382.2  |\n",
       "| RT      | F       | TOTAL   | A-R_V-Y | CH      | 2010    |  730.6  |\n",
       "| RT      | F       | TOTAL   | A-R_V-Y | CY      | 2010    |  829.4  |\n",
       "| RT      | F       | TOTAL   | A-R_V-Y | CZ      | 2010    | 1064.4  |\n",
       "\n"
      ],
      "text/plain": [
       "  unit sex age   icd10   geo time values\n",
       "1 RT   F   TOTAL A-R_V-Y AT  2010  820.2\n",
       "2 RT   F   TOTAL A-R_V-Y BE  2010  845.7\n",
       "3 RT   F   TOTAL A-R_V-Y BG  2010 1382.2\n",
       "4 RT   F   TOTAL A-R_V-Y CH  2010  730.6\n",
       "5 RT   F   TOTAL A-R_V-Y CY  2010  829.4\n",
       "6 RT   F   TOTAL A-R_V-Y CZ  2010 1064.4"
      ]
     },
     "metadata": {},
     "output_type": "display_data"
    }
   ],
   "source": [
    "dataset_2$time <- as.integer(substr(dataset_2$time,1,4))\n",
    "head(dataset_2)"
   ]
  },
  {
   "cell_type": "markdown",
   "metadata": {},
   "source": [
    "## Main findings\n",
    "\n",
    "The code here will help reproducing the material presented in the section [Main findings](https://ec.europa.eu/eurostat/statistics-explained/index.php?title=Causes_of_death_statistics)."
   ]
  },
  {
   "cell_type": "markdown",
   "metadata": {},
   "source": [
    "#### Creation of table: causes of death - standarized death rate, 2017\n",
    "##### First steps: Filter data accordingly:\n",
    "- only keep relevant countries\n",
    "- create one values variable with values from 2017 and from 2016 where 2017 not available (for France and EU27 category)\n",
    "- Keep only causes of death relevant for table, summarize"
   ]
  },
  {
   "cell_type": "code",
   "execution_count": 13,
   "metadata": {},
   "outputs": [
    {
     "data": {
      "text/html": [
       "<table>\n",
       "<thead><tr><th scope=col>unit</th><th scope=col>sex</th><th scope=col>age</th><th scope=col>icd10</th><th scope=col>geo</th><th scope=col>time</th><th scope=col>values</th></tr></thead>\n",
       "<tbody>\n",
       "\t<tr><td>RT     </td><td>T      </td><td>TOTAL  </td><td>A-R_V-Y</td><td>AT     </td><td>2017   </td><td> 959.95</td></tr>\n",
       "\t<tr><td>RT     </td><td>T      </td><td>TOTAL  </td><td>A-R_V-Y</td><td>BE     </td><td>2017   </td><td> 963.19</td></tr>\n",
       "\t<tr><td>RT     </td><td>T      </td><td>TOTAL  </td><td>A-R_V-Y</td><td>BG     </td><td>2017   </td><td>1631.13</td></tr>\n",
       "\t<tr><td>RT     </td><td>T      </td><td>TOTAL  </td><td>A-R_V-Y</td><td>CH     </td><td>2017   </td><td> 823.77</td></tr>\n",
       "\t<tr><td>RT     </td><td>T      </td><td>TOTAL  </td><td>A-R_V-Y</td><td>CY     </td><td>2017   </td><td>1071.36</td></tr>\n",
       "\t<tr><td>RT     </td><td>T      </td><td>TOTAL  </td><td>A-R_V-Y</td><td>CZ     </td><td>2017   </td><td>1239.97</td></tr>\n",
       "</tbody>\n",
       "</table>\n"
      ],
      "text/latex": [
       "\\begin{tabular}{r|lllllll}\n",
       " unit & sex & age & icd10 & geo & time & values\\\\\n",
       "\\hline\n",
       "\t RT        & T         & TOTAL     & A-R\\_V-Y & AT        & 2017      &  959.95  \\\\\n",
       "\t RT        & T         & TOTAL     & A-R\\_V-Y & BE        & 2017      &  963.19  \\\\\n",
       "\t RT        & T         & TOTAL     & A-R\\_V-Y & BG        & 2017      & 1631.13  \\\\\n",
       "\t RT        & T         & TOTAL     & A-R\\_V-Y & CH        & 2017      &  823.77  \\\\\n",
       "\t RT        & T         & TOTAL     & A-R\\_V-Y & CY        & 2017      & 1071.36  \\\\\n",
       "\t RT        & T         & TOTAL     & A-R\\_V-Y & CZ        & 2017      & 1239.97  \\\\\n",
       "\\end{tabular}\n"
      ],
      "text/markdown": [
       "\n",
       "| unit | sex | age | icd10 | geo | time | values |\n",
       "|---|---|---|---|---|---|---|\n",
       "| RT      | T       | TOTAL   | A-R_V-Y | AT      | 2017    |  959.95 |\n",
       "| RT      | T       | TOTAL   | A-R_V-Y | BE      | 2017    |  963.19 |\n",
       "| RT      | T       | TOTAL   | A-R_V-Y | BG      | 2017    | 1631.13 |\n",
       "| RT      | T       | TOTAL   | A-R_V-Y | CH      | 2017    |  823.77 |\n",
       "| RT      | T       | TOTAL   | A-R_V-Y | CY      | 2017    | 1071.36 |\n",
       "| RT      | T       | TOTAL   | A-R_V-Y | CZ      | 2017    | 1239.97 |\n",
       "\n"
      ],
      "text/plain": [
       "  unit sex age   icd10   geo time values \n",
       "1 RT   T   TOTAL A-R_V-Y AT  2017  959.95\n",
       "2 RT   T   TOTAL A-R_V-Y BE  2017  963.19\n",
       "3 RT   T   TOTAL A-R_V-Y BG  2017 1631.13\n",
       "4 RT   T   TOTAL A-R_V-Y CH  2017  823.77\n",
       "5 RT   T   TOTAL A-R_V-Y CY  2017 1071.36\n",
       "6 RT   T   TOTAL A-R_V-Y CZ  2017 1239.97"
      ]
     },
     "metadata": {},
     "output_type": "display_data"
    }
   ],
   "source": [
    "datatbl1 <- subset(dataset, dataset$sex==\"T\" &\n",
    "                     dataset$age ==\"TOTAL\" & \n",
    "                    dataset$geo %in% countries & \n",
    "                     (dataset$time==2017 | dataset$time==2016))\n",
    "head(datatbl1)"
   ]
  },
  {
   "cell_type": "code",
   "execution_count": 14,
   "metadata": {},
   "outputs": [],
   "source": [
    "datatbl1$values_n <- ifelse(datatbl1$time==2017,datatbl1$values,NA)\n",
    "datatbl1[datatbl1$geo==\"FR\",]$values_n <- datatbl1[datatbl1$geo==\"FR\",]$values\n",
    "datatbl1[datatbl1$geo==\"EU27_2020\",]$values_n <- datatbl1[datatbl1$geo==\"EU27_2020\",]$values\n",
    "datatbl1 <- datatbl1[!is.na(datatbl1$values_n),]"
   ]
  },
  {
   "cell_type": "code",
   "execution_count": 15,
   "metadata": {},
   "outputs": [
    {
     "data": {
      "text/html": [
       "<table>\n",
       "<thead><tr><th scope=col>icd10</th><th scope=col>geo</th><th scope=col>values_n</th></tr></thead>\n",
       "<tbody>\n",
       "\t<tr><td>C     </td><td>AT    </td><td>236.23</td></tr>\n",
       "\t<tr><td>C     </td><td>BE    </td><td>240.06</td></tr>\n",
       "\t<tr><td>C     </td><td>BG    </td><td>232.81</td></tr>\n",
       "\t<tr><td>C     </td><td>CH    </td><td>214.81</td></tr>\n",
       "\t<tr><td>C     </td><td>CY    </td><td>211.84</td></tr>\n",
       "\t<tr><td>C     </td><td>CZ    </td><td>275.80</td></tr>\n",
       "</tbody>\n",
       "</table>\n"
      ],
      "text/latex": [
       "\\begin{tabular}{r|lll}\n",
       " icd10 & geo & values\\_n\\\\\n",
       "\\hline\n",
       "\t C      & AT     & 236.23\\\\\n",
       "\t C      & BE     & 240.06\\\\\n",
       "\t C      & BG     & 232.81\\\\\n",
       "\t C      & CH     & 214.81\\\\\n",
       "\t C      & CY     & 211.84\\\\\n",
       "\t C      & CZ     & 275.80\\\\\n",
       "\\end{tabular}\n"
      ],
      "text/markdown": [
       "\n",
       "| icd10 | geo | values_n |\n",
       "|---|---|---|\n",
       "| C      | AT     | 236.23 |\n",
       "| C      | BE     | 240.06 |\n",
       "| C      | BG     | 232.81 |\n",
       "| C      | CH     | 214.81 |\n",
       "| C      | CY     | 211.84 |\n",
       "| C      | CZ     | 275.80 |\n",
       "\n"
      ],
      "text/plain": [
       "  icd10 geo values_n\n",
       "1 C     AT  236.23  \n",
       "2 C     BE  240.06  \n",
       "3 C     BG  232.81  \n",
       "4 C     CH  214.81  \n",
       "5 C     CY  211.84  \n",
       "6 C     CZ  275.80  "
      ]
     },
     "metadata": {},
     "output_type": "display_data"
    }
   ],
   "source": [
    "causes <- c(\"I\",\"I20-I25\",\"C\",\"C33_C34\",\"C18-C21\",\"J\",\"G_H\",\"V_Y85\",\"\tX60-X84_Y870\",\"C50\",\"C53\",\"\tC54_C55\")\n",
    "datatbl1 <- datatbl1[datatbl1$icd10 %in% causes,]\n",
    "#table(datatbl1$values_n,datatbl1$icd10)\n",
    "#datatbl1$icd10\n",
    "datatbl11 <- datatbl1[,c(4,5,8)]\n",
    "head(datatbl11)"
   ]
  },
  {
   "cell_type": "markdown",
   "metadata": {},
   "source": [
    "##### Second steps: Table"
   ]
  },
  {
   "cell_type": "markdown",
   "metadata": {},
   "source": [
    "## Developments between 2006 & 2016\n",
    "\n",
    "The code here will help reproducing the material presented in the section [Developments between 2006 and 2010](https://ec.europa.eu/eurostat/statistics-explained/index.php?title=Causes_of_death_statistics)."
   ]
  },
  {
   "cell_type": "markdown",
   "metadata": {},
   "source": [
    "##### First steps: \n",
    "- Merge two datasets to get data in the time interval 2006 - 2010\n",
    "- Apply filters (same procedure for females and males)\n",
    "    - Filter dataset with subset command (Male/ Female, age, only the summarising country level EU 27)\n",
    "    - keep only relevant causes for the graphic (C=Cancer, C_33-C34= Lung cancer, C_50=Breast Cancer, G_H=Nervous system, \n",
    "        I20_I25=Ischaemic heart disease, V_Y85=Transport Accidents) & drop empty levels with droplevels command\n",
    "    - check structure/ levels with str command"
   ]
  },
  {
   "cell_type": "code",
   "execution_count": 16,
   "metadata": {},
   "outputs": [
    {
     "name": "stdout",
     "output_type": "stream",
     "text": [
      "Classes 'tbl_df', 'tbl' and 'data.frame':\t1198869 obs. of  7 variables:\n",
      " $ unit  : Factor w/ 1 level \"RT\": 1 1 1 1 1 1 1 1 1 1 ...\n",
      " $ sex   : Factor w/ 3 levels \"F\",\"M\",\"T\": 1 1 1 1 1 1 1 1 1 1 ...\n",
      " $ age   : Factor w/ 3 levels \"TOTAL\",\"Y_GE65\",..: 1 1 1 1 1 1 1 1 1 1 ...\n",
      " $ icd10 : Factor w/ 89 levels \"A-R_V-Y\",\"A15-A19_B90\",..: 1 1 1 1 1 1 1 1 1 1 ...\n",
      " $ geo   : Factor w/ 482 levels \"AT\",\"AT1\",\"AT11\",..: 1 2 3 4 5 6 7 8 9 10 ...\n",
      " $ time  : int  2017 2017 2017 2017 2017 2017 2017 2017 2017 2017 ...\n",
      " $ values: num  801 839 832 844 836 ...\n"
     ]
    }
   ],
   "source": [
    "# Merge:\n",
    "dataset_3 <- rbind(dataset,dataset_2) \n",
    "str(dataset_3)"
   ]
  },
  {
   "cell_type": "markdown",
   "metadata": {},
   "source": [
    "##### *Filter Males*"
   ]
  },
  {
   "cell_type": "code",
   "execution_count": 17,
   "metadata": {},
   "outputs": [
    {
     "name": "stdout",
     "output_type": "stream",
     "text": [
      "Classes 'tbl_df', 'tbl' and 'data.frame':\t52 obs. of  7 variables:\n",
      " $ unit  : Factor w/ 1 level \"RT\": 1 1 1 1 1 1 1 1 1 1 ...\n",
      " $ sex   : Factor w/ 1 level \"M\": 1 1 1 1 1 1 1 1 1 1 ...\n",
      " $ age   : Factor w/ 1 level \"TOTAL\": 1 1 1 1 1 1 1 1 1 1 ...\n",
      " $ icd10 : Factor w/ 5 levels \"C\",\"C33_C34\",..: 1 2 3 4 5 1 2 3 4 5 ...\n",
      " $ geo   : Factor w/ 1 level \"EU27_2020\": 1 1 1 1 1 1 1 1 1 1 ...\n",
      " $ time  : int  2016 2016 2016 2016 2016 2015 2015 2015 2015 2015 ...\n",
      " $ values: num  343.96 83.59 44.96 162.46 9.67 ...\n"
     ]
    }
   ],
   "source": [
    "##Graphic Males, 2006-2016, 100=2006\n",
    "datagr1 <- subset(dataset_3, dataset_3$sex==\"M\" & dataset_3$age ==\"TOTAL\" &\n",
    "                     dataset_3$geo == \"EU27_2020\")\n",
    "datagr1 <- subset(datagr1, datagr1$time >=2006)\n",
    "#Keep only causes relevant for graphic\n",
    "causes <- c(\"V_Y85\",\"C\",\"G_H\",\"I20-I25\",\"C33_C34\")\n",
    "datagr1 <- datagr1[datagr1$icd10 %in% causes,]\n",
    "datagr1 <- droplevels(datagr1)\n",
    "str(datagr1)"
   ]
  },
  {
   "cell_type": "markdown",
   "metadata": {},
   "source": [
    "##### *Filter Females*"
   ]
  },
  {
   "cell_type": "code",
   "execution_count": 18,
   "metadata": {},
   "outputs": [
    {
     "name": "stdout",
     "output_type": "stream",
     "text": [
      "Classes 'tbl_df', 'tbl' and 'data.frame':\t63 obs. of  7 variables:\n",
      " $ unit  : Factor w/ 1 level \"RT\": 1 1 1 1 1 1 1 1 1 1 ...\n",
      " $ sex   : Factor w/ 1 level \"F\": 1 1 1 1 1 1 1 1 1 1 ...\n",
      " $ age   : Factor w/ 1 level \"TOTAL\": 1 1 1 1 1 1 1 1 1 1 ...\n",
      " $ icd10 : Factor w/ 6 levels \"C\",\"C33_C34\",..: 1 2 3 4 5 6 1 2 3 4 ...\n",
      " $ geo   : Factor w/ 1 level \"EU27_2020\": 1 1 1 1 1 1 1 1 1 1 ...\n",
      " $ time  : int  2016 2016 2016 2016 2016 2016 2015 2015 2015 2015 ...\n",
      " $ values: num  196.2 29.5 32.7 36.6 88.1 ...\n"
     ]
    }
   ],
   "source": [
    "##Graphic Females, 2006-2016, 100=2006\n",
    "datagr2 <- subset(dataset_3, dataset_3$sex==\"F\" & dataset_3$age ==\"TOTAL\" &\n",
    "                     dataset_3$geo == \"EU27_2020\")\n",
    "datagr2 <- subset(datagr2, datagr2$time >=2006)\n",
    "#Keep only causes relevant for graphic\n",
    "causes <- c(\"V_Y85\",\"C\",\"G_H\",\"I20-I25\",\"C33_C34\",\"C50\")\n",
    "datagr2 <- datagr2[datagr2$icd10 %in% causes,]\n",
    "datagr2 <- droplevels(datagr2)\n",
    "str(datagr2)"
   ]
  },
  {
   "cell_type": "markdown",
   "metadata": {},
   "source": [
    "###### Second step: Standardize such that 2006 = 100\n",
    "- same procedure for females and males\n",
    "    - take values from year 2006 for each cause (2009 for lung cancer)\n",
    "    - divide all other respective values with value from 2006/2009 divided by 100\n",
    "    \n",
    "###### *Males*"
   ]
  },
  {
   "cell_type": "code",
   "execution_count": 19,
   "metadata": {},
   "outputs": [
    {
     "data": {
      "text/plain": [
       "         \n",
       "          16.3 36.5 226.9 387\n",
       "  C          0    0     0   1\n",
       "  C33_C34    0    0     0   0\n",
       "  G_H        0    1     0   0\n",
       "  I20-I25    0    0     1   0\n",
       "  V_Y85      1    0     0   0"
      ]
     },
     "metadata": {},
     "output_type": "display_data"
    }
   ],
   "source": [
    "table(datagr1$icd10[datagr1$time==2006],datagr1$values[datagr1$time == 2006])"
   ]
  },
  {
   "cell_type": "code",
   "execution_count": 20,
   "metadata": {},
   "outputs": [
    {
     "data": {
      "text/plain": [
       "         \n",
       "          13.5 37.6 94.7 201.2 372.9\n",
       "  C          0    0    0     0     1\n",
       "  C33_C34    0    0    1     0     0\n",
       "  G_H        0    1    0     0     0\n",
       "  I20-I25    0    0    0     1     0\n",
       "  V_Y85      1    0    0     0     0"
      ]
     },
     "metadata": {},
     "output_type": "display_data"
    }
   ],
   "source": [
    "table(datagr1$icd10[datagr1$time==2009],datagr1$values[datagr1$time == 2009])"
   ]
  },
  {
   "cell_type": "code",
   "execution_count": 21,
   "metadata": {},
   "outputs": [],
   "source": [
    "datagr1$values[datagr1$icd10==\"C\"] <- datagr1$values[datagr1$icd10==\"C\"] /3.87\n",
    "datagr1$values[datagr1$icd10==\"G_H\"] <- datagr1$values[datagr1$icd10==\"G_H\"]/0.365\n",
    "datagr1$values[datagr1$icd10==\"I20-I25\"] <- datagr1$values[datagr1$icd10==\"I20-I25\"]/2.269\n",
    "datagr1$values[datagr1$icd10==\"V_Y85\"] <- datagr1$values[datagr1$icd10==\"V_Y85\"]/0.163\n",
    "datagr1$values[datagr1$icd10==\"C33_C34\"] <- datagr1$values[datagr1$icd10==\"C33_C34\"]/0.947"
   ]
  },
  {
   "cell_type": "markdown",
   "metadata": {},
   "source": [
    "###### *Females*"
   ]
  },
  {
   "cell_type": "code",
   "execution_count": 22,
   "metadata": {},
   "outputs": [
    {
     "data": {
      "text/plain": [
       "         \n",
       "          4.6 29.1 35.1 133.8 206.7\n",
       "  C         0    0    0     0     1\n",
       "  C33_C34   0    0    0     0     0\n",
       "  C50       0    0    1     0     0\n",
       "  G_H       0    1    0     0     0\n",
       "  I20-I25   0    0    0     1     0\n",
       "  V_Y85     1    0    0     0     0"
      ]
     },
     "metadata": {},
     "output_type": "display_data"
    }
   ],
   "source": [
    "table(datagr2$icd10[datagr2$time==2006],datagr2$values[datagr2$time == 2006])"
   ]
  },
  {
   "cell_type": "code",
   "execution_count": 23,
   "metadata": {},
   "outputs": [
    {
     "data": {
      "text/plain": [
       "         \n",
       "          3.8 25.6 31 33.8 117.5 202.2\n",
       "  C         0    0  0    0     0     1\n",
       "  C33_C34   0    1  0    0     0     0\n",
       "  C50       0    0  0    1     0     0\n",
       "  G_H       0    0  1    0     0     0\n",
       "  I20-I25   0    0  0    0     1     0\n",
       "  V_Y85     1    0  0    0     0     0"
      ]
     },
     "metadata": {},
     "output_type": "display_data"
    }
   ],
   "source": [
    "table(datagr2$icd10[datagr2$time==2009],datagr2$values[datagr2$time == 2009])"
   ]
  },
  {
   "cell_type": "code",
   "execution_count": 24,
   "metadata": {},
   "outputs": [],
   "source": [
    "datagr2$values[datagr2$icd10==\"C\"] <- datagr2$values[datagr2$icd10==\"C\"] /2.067\n",
    "datagr2$values[datagr2$icd10==\"C50\"] <- datagr2$values[datagr2$icd10==\"C50\"] /0.351\n",
    "datagr2$values[datagr2$icd10==\"G_H\"] <- datagr2$values[datagr2$icd10==\"G_H\"]/0.291\n",
    "datagr2$values[datagr2$icd10==\"I20-I25\"] <- datagr2$values[datagr2$icd10==\"I20-I25\"]/1.338\n",
    "datagr2$values[datagr2$icd10==\"V_Y85\"] <- datagr2$values[datagr2$icd10==\"V_Y85\"]/0.046\n",
    "datagr2$values[datagr2$icd10==\"C33_C34\"] <- datagr2$values[datagr2$icd10==\"C33_C34\"]/0.256"
   ]
  },
  {
   "cell_type": "markdown",
   "metadata": {},
   "source": [
    "##### Third step: Create graphic with ggplot2 package\n",
    "- using the package ggplot to create the line plot for males and females (+ connects the different subcommands for the graphic)\n",
    "- creating the space with aes (variables on x and y axis, grouped by icd10 - causes of death)\n",
    "- adding the lines for the different causes of death with geom_line, different colors for each cause and with linewidth 1\n",
    "- adding a horizontal line for the start value (of the rate) 100 of 2006, in black, linetype two (dashed) \n",
    "- creating the title with subtitle\n",
    "- setting the values for the y and x axis \n",
    "- changing the overall theme to \"classic\" (white background)\n",
    "- definining the legend position\n",
    "- filling the legend manually with icd10 definitions and colors (token from the original graphic with hex code)\n",
    "- deleting labeling of axes\n",
    "- changing the size of title and subtitle\n"
   ]
  },
  {
   "cell_type": "markdown",
   "metadata": {},
   "source": [
    "###### *Males*"
   ]
  },
  {
   "cell_type": "code",
   "execution_count": 25,
   "metadata": {
    "scrolled": true
   },
   "outputs": [
    {
     "data": {
      "image/png": "[encoded data removed]",
      "text/plain": [
       "plot without title"
      ]
     },
     "metadata": {},
     "output_type": "display_data"
    }
   ],
   "source": [
    "figure1 <- ggplot(datagr1, aes(x=time,y=values, group=icd10)) +\n",
    "    geom_line(aes(color=icd10),lwd=1) + \n",
    "    geom_hline(yintercept=100,lty=2) +\n",
    "    ggtitle(\"Causes of death - standardised death rate per 100 000 inhabitants, males, EU-27,2006-2016\",subtitle=\"2006=100\") +\n",
    "    scale_y_continuous(limits = c(0, 130), breaks = seq(0, 130, by = 10)) +\n",
    "    scale_x_continuous(limits = c(2006, 2016), breaks = seq(2006, 2016, by = 1)) +\n",
    "    theme_classic()+\n",
    "    theme(legend.position=\"bottom\",legend.direction=\"vertical\") +\n",
    "    scale_color_manual(labels = c(\"Cancer (malignant neoplasms)\", \"Lung Cancer\", \"Nervous system\",\"Ischaemic heart diseases\",\n",
    "                                 \"Transport accidents\"), \n",
    "            values = c(\"#4481be\",\"#69c4c4\",\"#7dc265\",\"#fcc262\",\"#c0c937\"),name = \" \") +\n",
    "    ylab(\" \")+\n",
    "    xlab(\" \")\n",
    "\n",
    "figure1 + theme(\n",
    "  plot.title = element_text(size = 10, face = \"bold\"),\n",
    "  plot.subtitle = element_text(size=8),\n",
    ")"
   ]
  },
  {
   "cell_type": "markdown",
   "metadata": {},
   "source": [
    "##### *Females*"
   ]
  },
  {
   "cell_type": "code",
   "execution_count": 26,
   "metadata": {},
   "outputs": [
    {
     "data": {
      "image/png": "[encoded data removed]",
      "text/plain": [
       "plot without title"
      ]
     },
     "metadata": {},
     "output_type": "display_data"
    }
   ],
   "source": [
    "figure2 <- ggplot(datagr2, aes(x=time,y=values, group=icd10)) +\n",
    "    geom_line(aes(color=icd10),lwd=1) + \n",
    "    geom_hline(yintercept=100,lty=2) +\n",
    "    ggtitle(\"Causes of death - standardised death rate per 100 000 inhabitants, females, EU-27,2006-2016\",subtitle=\"2006=100\") +\n",
    "    scale_y_continuous(limits = c(0, 130), breaks = seq(0, 130, by = 10)) +\n",
    "    scale_x_continuous(limits = c(2006, 2016), breaks = seq(2006, 2016, by = 1)) +\n",
    "    theme_classic()+\n",
    "    theme(legend.position=\"bottom\",legend.direction=\"vertical\") +\n",
    "    scale_color_manual(labels = c(\"Cancer (malignant neoplasms)\", \"Lung Cancer\", \"Breast Cancer\",\n",
    "                                  \"Nervous system\",\"Ischaemic heart diseases\",\n",
    "                                 \"Transport accidents\"), \n",
    "    values = c(\"#4481be\",\"#69c4c4\",\"#7d5b78\",\"#7dc265\",\"#fcc262\",\"#c0c937\"), name = \" \") +\n",
    "    ylab(\" \")+\n",
    "    xlab(\" \")\n",
    "\n",
    "figure2 + theme(\n",
    "  plot.title = element_text(size = 10, face = \"bold\"),\n",
    "  plot.subtitle = element_text(size=8),\n",
    ")"
   ]
  },
  {
   "cell_type": "markdown",
   "metadata": {},
   "source": [
    "## Causes of death by sex\n",
    "The code here will help reproducing the material presented in the section [Causes of death by sex](https://ec.europa.eu/eurostat/statistics-explained/index.php?title=Causes_of_death_statistics).\n",
    " \n",
    "### Figure 3: Causes of death - standardised death rate, EU-27,2016\n",
    "##### First steps: Apply relevant filters\n",
    "- define variable with causes of death relevant for the graphic\n",
    "- keeping only observations of year 2016, EU27_2020, age in total\n",
    "- deleting unused variables & levels from dataset (age, unit, time, geo)\n",
    "- checking structure/ values of ordered dataset (do they match to the graphic) "
   ]
  },
  {
   "cell_type": "code",
   "execution_count": 27,
   "metadata": {},
   "outputs": [],
   "source": [
    "causes2 <- c(\"I20-I25\", #Ischaemic heart diseases\n",
    "            \"I60-I69\", #Cerebrovascular diseases\n",
    "            \"C33_C34\", #Mallignant neoplasms of trachea, broncus and lung\n",
    "            \"J40-J47\", #Chronic lower respiratory diseases\n",
    "             \"ACC\", #Accidents\n",
    "            \"C18-C21\", #Malignant neoplasms of colon, rectosigmoid junction, rectum, anus and anal canal\n",
    "            \"J12-J18\", #Pneumonia\n",
    "            \"E10-E14\", #Diabetes mellitus\n",
    "            \"C25\", #Malignant neoplasms of pancreas\n",
    "            \"C50\", #Malignant neoplasms of breast\n",
    "            \"N00-N29\", #Diseases of kidney and ureter\n",
    "            \"K70_K73_K74\", #Chronic liver disease\n",
    "            \"C16\", #Malignant neoplasms of stomach\n",
    "            \"X60-X84_Y870\", #Intentional self harm\n",
    "            \"F10\", #Mental and behavioural disorders due to use of alcohol\n",
    "            \"B20-B24\", #HIV\n",
    "             \"TOXICO\") #Drug dependence"
   ]
  },
  {
   "cell_type": "code",
   "execution_count": 28,
   "metadata": {},
   "outputs": [
    {
     "name": "stdout",
     "output_type": "stream",
     "text": [
      "Classes 'tbl_df', 'tbl' and 'data.frame':\t51 obs. of  3 variables:\n",
      " $ sex   : Factor w/ 3 levels \"F\",\"M\",\"T\": 1 1 1 1 1 1 1 1 1 1 ...\n",
      " $ icd10 : Factor w/ 17 levels \"ACC\",\"B20-B24\",..: 1 2 3 4 5 6 7 8 9 10 ...\n",
      " $ values: num  21.81 0.27 7.67 23.21 15.04 ...\n"
     ]
    }
   ],
   "source": [
    "data_fig3 <- subset(dataset, dataset$time==2016  & \n",
    "                      dataset$geo==\"EU27_2020\" &\n",
    "                    dataset$icd10 %in% causes2 &\n",
    "                   dataset$age==\"TOTAL\")\n",
    "data_fig3 <- droplevels(data_fig3)\n",
    "data_fig3 <- data_fig3[,-c(1,3,5,6)]\n",
    "str(data_fig3)"
   ]
  },
  {
   "cell_type": "code",
   "execution_count": 29,
   "metadata": {},
   "outputs": [
    {
     "data": {
      "text/html": [
       "<table>\n",
       "<thead><tr><th scope=col>sex</th><th scope=col>icd10</th><th scope=col>values</th></tr></thead>\n",
       "<tbody>\n",
       "\t<tr><td>M      </td><td>I20-I25</td><td>162.46 </td></tr>\n",
       "\t<tr><td>T      </td><td>I20-I25</td><td>119.44 </td></tr>\n",
       "\t<tr><td>M      </td><td>I60-I69</td><td> 90.33 </td></tr>\n",
       "\t<tr><td>F      </td><td>I20-I25</td><td> 88.08 </td></tr>\n",
       "\t<tr><td>M      </td><td>C33_C34</td><td> 83.59 </td></tr>\n",
       "\t<tr><td>T      </td><td>I60-I69</td><td> 81.68 </td></tr>\n",
       "\t<tr><td>F      </td><td>I60-I69</td><td> 74.44 </td></tr>\n",
       "\t<tr><td>T      </td><td>C33_C34</td><td> 52.86 </td></tr>\n",
       "\t<tr><td>M      </td><td>J40-J47</td><td> 47.42 </td></tr>\n",
       "\t<tr><td>M      </td><td>ACC    </td><td> 45.48 </td></tr>\n",
       "\t<tr><td>M      </td><td>C18-C21</td><td> 41.23 </td></tr>\n",
       "\t<tr><td>F      </td><td>C50    </td><td> 32.68 </td></tr>\n",
       "\t<tr><td>T      </td><td>ACC    </td><td> 32.46 </td></tr>\n",
       "\t<tr><td>M      </td><td>J12-J18</td><td> 31.48 </td></tr>\n",
       "\t<tr><td>T      </td><td>J40-J47</td><td> 30.95 </td></tr>\n",
       "\t<tr><td>T      </td><td>C18-C21</td><td> 30.70 </td></tr>\n",
       "\t<tr><td>F      </td><td>C33_C34</td><td> 29.48 </td></tr>\n",
       "\t<tr><td>M      </td><td>E10-E14</td><td> 27.69 </td></tr>\n",
       "\t<tr><td>T      </td><td>E10-E14</td><td> 23.62 </td></tr>\n",
       "\t<tr><td>F      </td><td>C18-C21</td><td> 23.21 </td></tr>\n",
       "</tbody>\n",
       "</table>\n"
      ],
      "text/latex": [
       "\\begin{tabular}{r|lll}\n",
       " sex & icd10 & values\\\\\n",
       "\\hline\n",
       "\t M       & I20-I25 & 162.46 \\\\\n",
       "\t T       & I20-I25 & 119.44 \\\\\n",
       "\t M       & I60-I69 &  90.33 \\\\\n",
       "\t F       & I20-I25 &  88.08 \\\\\n",
       "\t M         & C33\\_C34 &  83.59   \\\\\n",
       "\t T       & I60-I69 &  81.68 \\\\\n",
       "\t F       & I60-I69 &  74.44 \\\\\n",
       "\t T         & C33\\_C34 &  52.86   \\\\\n",
       "\t M       & J40-J47 &  47.42 \\\\\n",
       "\t M       & ACC     &  45.48 \\\\\n",
       "\t M       & C18-C21 &  41.23 \\\\\n",
       "\t F       & C50     &  32.68 \\\\\n",
       "\t T       & ACC     &  32.46 \\\\\n",
       "\t M       & J12-J18 &  31.48 \\\\\n",
       "\t T       & J40-J47 &  30.95 \\\\\n",
       "\t T       & C18-C21 &  30.70 \\\\\n",
       "\t F         & C33\\_C34 &  29.48   \\\\\n",
       "\t M       & E10-E14 &  27.69 \\\\\n",
       "\t T       & E10-E14 &  23.62 \\\\\n",
       "\t F       & C18-C21 &  23.21 \\\\\n",
       "\\end{tabular}\n"
      ],
      "text/markdown": [
       "\n",
       "| sex | icd10 | values |\n",
       "|---|---|---|\n",
       "| M       | I20-I25 | 162.46  |\n",
       "| T       | I20-I25 | 119.44  |\n",
       "| M       | I60-I69 |  90.33  |\n",
       "| F       | I20-I25 |  88.08  |\n",
       "| M       | C33_C34 |  83.59  |\n",
       "| T       | I60-I69 |  81.68  |\n",
       "| F       | I60-I69 |  74.44  |\n",
       "| T       | C33_C34 |  52.86  |\n",
       "| M       | J40-J47 |  47.42  |\n",
       "| M       | ACC     |  45.48  |\n",
       "| M       | C18-C21 |  41.23  |\n",
       "| F       | C50     |  32.68  |\n",
       "| T       | ACC     |  32.46  |\n",
       "| M       | J12-J18 |  31.48  |\n",
       "| T       | J40-J47 |  30.95  |\n",
       "| T       | C18-C21 |  30.70  |\n",
       "| F       | C33_C34 |  29.48  |\n",
       "| M       | E10-E14 |  27.69  |\n",
       "| T       | E10-E14 |  23.62  |\n",
       "| F       | C18-C21 |  23.21  |\n",
       "\n"
      ],
      "text/plain": [
       "   sex icd10   values\n",
       "1  M   I20-I25 162.46\n",
       "2  T   I20-I25 119.44\n",
       "3  M   I60-I69  90.33\n",
       "4  F   I20-I25  88.08\n",
       "5  M   C33_C34  83.59\n",
       "6  T   I60-I69  81.68\n",
       "7  F   I60-I69  74.44\n",
       "8  T   C33_C34  52.86\n",
       "9  M   J40-J47  47.42\n",
       "10 M   ACC      45.48\n",
       "11 M   C18-C21  41.23\n",
       "12 F   C50      32.68\n",
       "13 T   ACC      32.46\n",
       "14 M   J12-J18  31.48\n",
       "15 T   J40-J47  30.95\n",
       "16 T   C18-C21  30.70\n",
       "17 F   C33_C34  29.48\n",
       "18 M   E10-E14  27.69\n",
       "19 T   E10-E14  23.62\n",
       "20 F   C18-C21  23.21"
      ]
     },
     "metadata": {},
     "output_type": "display_data"
    }
   ],
   "source": [
    "head(data_fig3[order(data_fig3$values,decreasing = T),],20)"
   ]
  },
  {
   "cell_type": "markdown",
   "metadata": {},
   "source": [
    "##### Second step: Modify dataset\n",
    "- changing the order within the dataset to get the ranked structure\n",
    "- ranking on the average values of males and females (deleting total of sex) & releveling of the variable icd10 according to ranks\n",
    "- dividing dataset into two parts to be able to visualise two different scales"
   ]
  },
  {
   "cell_type": "code",
   "execution_count": 30,
   "metadata": {},
   "outputs": [
    {
     "data": {
      "text/html": [
       "<table>\n",
       "<thead><tr><th></th><th scope=col>Group.1</th><th scope=col>x</th></tr></thead>\n",
       "<tbody>\n",
       "\t<tr><th scope=row>10</th><td>I20-I25     </td><td>125.270     </td></tr>\n",
       "\t<tr><th scope=row>11</th><td>I60-I69     </td><td> 82.385     </td></tr>\n",
       "\t<tr><th scope=row>6</th><td>C33_C34     </td><td> 56.535     </td></tr>\n",
       "\t<tr><th scope=row>13</th><td>J40-J47     </td><td> 34.195     </td></tr>\n",
       "\t<tr><th scope=row>1</th><td>ACC         </td><td> 33.645     </td></tr>\n",
       "\t<tr><th scope=row>4</th><td>C18-C21     </td><td> 32.220     </td></tr>\n",
       "\t<tr><th scope=row>12</th><td>J12-J18     </td><td> 24.320     </td></tr>\n",
       "\t<tr><th scope=row>8</th><td>E10-E14     </td><td> 24.025     </td></tr>\n",
       "\t<tr><th scope=row>5</th><td>C25         </td><td> 17.595     </td></tr>\n",
       "\t<tr><th scope=row>7</th><td>C50         </td><td> 16.620     </td></tr>\n",
       "\t<tr><th scope=row>15</th><td>N00-N29     </td><td> 15.030     </td></tr>\n",
       "\t<tr><th scope=row>14</th><td>K70_K73_K74 </td><td> 14.920     </td></tr>\n",
       "\t<tr><th scope=row>3</th><td>C16         </td><td> 12.075     </td></tr>\n",
       "\t<tr><th scope=row>17</th><td>X60-X84_Y870</td><td> 11.215     </td></tr>\n",
       "\t<tr><th scope=row>9</th><td>F10         </td><td>  3.520     </td></tr>\n",
       "\t<tr><th scope=row>2</th><td>B20-B24     </td><td>  0.600     </td></tr>\n",
       "\t<tr><th scope=row>16</th><td>TOXICO      </td><td>  0.345     </td></tr>\n",
       "</tbody>\n",
       "</table>\n"
      ],
      "text/latex": [
       "\\begin{tabular}{r|ll}\n",
       "  & Group.1 & x\\\\\n",
       "\\hline\n",
       "\t10 & I20-I25      & 125.270     \\\\\n",
       "\t11 & I60-I69      &  82.385     \\\\\n",
       "\t6 & C33\\_C34      &  56.535       \\\\\n",
       "\t13 & J40-J47      &  34.195     \\\\\n",
       "\t1 & ACC          &  33.645     \\\\\n",
       "\t4 & C18-C21      &  32.220     \\\\\n",
       "\t12 & J12-J18      &  24.320     \\\\\n",
       "\t8 & E10-E14      &  24.025     \\\\\n",
       "\t5 & C25          &  17.595     \\\\\n",
       "\t7 & C50          &  16.620     \\\\\n",
       "\t15 & N00-N29      &  15.030     \\\\\n",
       "\t14 & K70\\_K73\\_K74  &  14.920         \\\\\n",
       "\t3 & C16          &  12.075     \\\\\n",
       "\t17 & X60-X84\\_Y870 &  11.215       \\\\\n",
       "\t9 & F10          &   3.520     \\\\\n",
       "\t2 & B20-B24      &   0.600     \\\\\n",
       "\t16 & TOXICO       &   0.345     \\\\\n",
       "\\end{tabular}\n"
      ],
      "text/markdown": [
       "\n",
       "| <!--/--> | Group.1 | x |\n",
       "|---|---|---|\n",
       "| 10 | I20-I25      | 125.270      |\n",
       "| 11 | I60-I69      |  82.385      |\n",
       "| 6 | C33_C34      |  56.535      |\n",
       "| 13 | J40-J47      |  34.195      |\n",
       "| 1 | ACC          |  33.645      |\n",
       "| 4 | C18-C21      |  32.220      |\n",
       "| 12 | J12-J18      |  24.320      |\n",
       "| 8 | E10-E14      |  24.025      |\n",
       "| 5 | C25          |  17.595      |\n",
       "| 7 | C50          |  16.620      |\n",
       "| 15 | N00-N29      |  15.030      |\n",
       "| 14 | K70_K73_K74  |  14.920      |\n",
       "| 3 | C16          |  12.075      |\n",
       "| 17 | X60-X84_Y870 |  11.215      |\n",
       "| 9 | F10          |   3.520      |\n",
       "| 2 | B20-B24      |   0.600      |\n",
       "| 16 | TOXICO       |   0.345      |\n",
       "\n"
      ],
      "text/plain": [
       "   Group.1      x      \n",
       "10 I20-I25      125.270\n",
       "11 I60-I69       82.385\n",
       "6  C33_C34       56.535\n",
       "13 J40-J47       34.195\n",
       "1  ACC           33.645\n",
       "4  C18-C21       32.220\n",
       "12 J12-J18       24.320\n",
       "8  E10-E14       24.025\n",
       "5  C25           17.595\n",
       "7  C50           16.620\n",
       "15 N00-N29       15.030\n",
       "14 K70_K73_K74   14.920\n",
       "3  C16           12.075\n",
       "17 X60-X84_Y870  11.215\n",
       "9  F10            3.520\n",
       "2  B20-B24        0.600\n",
       "16 TOXICO         0.345"
      ]
     },
     "metadata": {},
     "output_type": "display_data"
    }
   ],
   "source": [
    "data_fig3 <- subset(data_fig3, data_fig3$sex!=\"T\")\n",
    "data_fig3 <- data_fig3[order(data_fig3$values,decreasing=TRUE),]\n",
    "rank_icd <- aggregate(data_fig3$values,by=list(data_fig3$icd10),mean)\n",
    "(rank_icd <- rank_icd[order(rank_icd$x,decreasing=TRUE),])"
   ]
  },
  {
   "cell_type": "code",
   "execution_count": 31,
   "metadata": {},
   "outputs": [],
   "source": [
    "data_fig3$icd10 <- factor(data_fig3$icd10,levels = c(\"I20-I25\", #Ischaemic heart diseases\n",
    "            \"I60-I69\", #Cerebrovascular diseases\n",
    "            \"C33_C34\", #Malignant neoplasms of trachea, broncus and lung\n",
    "            \"J40-J47\", #Chronic lower respiratory diseases\n",
    "             \"ACC\", #Accidents\n",
    "            \"C18-C21\", #Malignant neoplasms of colon, rectosigmoid junction, rectum, anus and anal canal\n",
    "            \"J12-J18\", #Pneumonia\n",
    "            \"E10-E14\", #Diabetes mellitus\n",
    "            \"C25\", #Malignant neoplasms of pancreas\n",
    "            \"C50\", #Malignant neoplasms of breast\n",
    "            \"N00-N29\", #Diseases of kidney and ureter\n",
    "            \"K70_K73_K74\", #Chronic liver disease\n",
    "            \"C16\", #Malignant neoplasms of stomach\n",
    "            \"X60-X84_Y870\", #Intentional self harm\n",
    "            \"F10\", #Mental and behavioural disorders due to use of alcohol\n",
    "            \"B20-B24\", #HIV\n",
    "             \"TOXICO\"))"
   ]
  },
  {
   "cell_type": "code",
   "execution_count": 32,
   "metadata": {},
   "outputs": [
    {
     "data": {
      "text/html": [
       "<table>\n",
       "<thead><tr><th scope=col>sex</th><th scope=col>icd10</th><th scope=col>values</th></tr></thead>\n",
       "<tbody>\n",
       "\t<tr><td>M      </td><td>I20-I25</td><td>162.46 </td></tr>\n",
       "\t<tr><td>M      </td><td>I60-I69</td><td> 90.33 </td></tr>\n",
       "\t<tr><td>F      </td><td>I20-I25</td><td> 88.08 </td></tr>\n",
       "\t<tr><td>M      </td><td>C33_C34</td><td> 83.59 </td></tr>\n",
       "\t<tr><td>F      </td><td>I60-I69</td><td> 74.44 </td></tr>\n",
       "\t<tr><td>M      </td><td>J40-J47</td><td> 47.42 </td></tr>\n",
       "</tbody>\n",
       "</table>\n"
      ],
      "text/latex": [
       "\\begin{tabular}{r|lll}\n",
       " sex & icd10 & values\\\\\n",
       "\\hline\n",
       "\t M       & I20-I25 & 162.46 \\\\\n",
       "\t M       & I60-I69 &  90.33 \\\\\n",
       "\t F       & I20-I25 &  88.08 \\\\\n",
       "\t M         & C33\\_C34 &  83.59   \\\\\n",
       "\t F       & I60-I69 &  74.44 \\\\\n",
       "\t M       & J40-J47 &  47.42 \\\\\n",
       "\\end{tabular}\n"
      ],
      "text/markdown": [
       "\n",
       "| sex | icd10 | values |\n",
       "|---|---|---|\n",
       "| M       | I20-I25 | 162.46  |\n",
       "| M       | I60-I69 |  90.33  |\n",
       "| F       | I20-I25 |  88.08  |\n",
       "| M       | C33_C34 |  83.59  |\n",
       "| F       | I60-I69 |  74.44  |\n",
       "| M       | J40-J47 |  47.42  |\n",
       "\n"
      ],
      "text/plain": [
       "  sex icd10   values\n",
       "1 M   I20-I25 162.46\n",
       "2 M   I60-I69  90.33\n",
       "3 F   I20-I25  88.08\n",
       "4 M   C33_C34  83.59\n",
       "5 F   I60-I69  74.44\n",
       "6 M   J40-J47  47.42"
      ]
     },
     "metadata": {},
     "output_type": "display_data"
    }
   ],
   "source": [
    "head(data_fig3)"
   ]
  },
  {
   "cell_type": "code",
   "execution_count": 33,
   "metadata": {},
   "outputs": [],
   "source": [
    "data_fig31 <- subset(data_fig3, (data_fig3$icd10==\"I20-I25\" | data_fig3$icd10==\"I60-I69\" | data_fig3$icd10==\"C33_C34\"))\n",
    "data_fig32 <- subset(data_fig3, (data_fig3$icd10!=\"I20-I25\" & data_fig3$icd10!=\"I60-I69\" & data_fig3$icd10!=\"C33_C34\"))"
   ]
  },
  {
   "cell_type": "markdown",
   "metadata": {},
   "source": [
    "###### Third step: Create graphic with ggplot2 and patchwork package\n",
    "- using the package ggplot to create the combined bar plot for males and females\n",
    "- creating two seperate barplots (considering the two different scales of y axis) and combining them as last step using the patchwork package: fig1 / fig2\n",
    "- creating the space with aes (causes of death on x axis and values on y axis)\n",
    "- creating the bar plot with geom_bar command, grouped by sex (fill=sex) with bar beside bar (position=\"dodge\"), barwidth\n",
    "- changing x and y axis with coord_flip () to get horizontal bars\n",
    "- setting the values & labels for the axes (with position=\"right\", the y-axis is set to be above the graphic)\n",
    "- deleting the legend for the first graphic as it is only needed once (see second ggplot command, there the legend position is specified)\n",
    "- creating the legend and colors for the bars with scale_fill_manual with sex (colors token from the original with hex code)\n",
    "- deleting labels of the axes\n",
    "- creating the title with subtitle\n",
    "- changing the size of title and subtitle, axis labels"
   ]
  },
  {
   "cell_type": "code",
   "execution_count": 38,
   "metadata": {},
   "outputs": [
    {
     "data": {
      "image/png": "[encoded data removed]",
      "text/plain": [
       "plot without title"
      ]
     },
     "metadata": {},
     "output_type": "display_data"
    }
   ],
   "source": [
    "fig31<- ggplot(data_fig31, aes(x=icd10,y=values)) +\n",
    "            geom_bar(stat = \"identity\",aes(fill=sex),position=\"dodge\",width=0.3) +\n",
    "            coord_flip()+\n",
    "            theme_classic()+\n",
    "            scale_x_discrete(limits=c(\"C33_C34\",\"I60-I69\",\"I20-I25\") ,\n",
    "                             labels=c(\"Malignant neoplasms of trachea, broncus and lung\",\n",
    "                                    \"Cerebrovascular diseases\",\"Ischaemic heart diseases\")) +\n",
    "            scale_y_continuous(position = \"right\",limits = c(0, 180), breaks = seq(0, 180, by = 20))+\n",
    "        theme(legend.position=\"none\")+\n",
    "        scale_fill_manual(labels=c(\"Female\",\"Male\"),values = c(\"#faa519\",\"#286eb4\"), name = \" \")+\n",
    "        ylab(\" \")+\n",
    "        xlab(\" \")+\n",
    "        ggtitle(\"Causes of death - standardised death rate, EU-27,2016\",subtitle=\"per 100 000 inhabitants\")+\n",
    "        theme(axis.text.y=element_text(size=8), plot.title = element_text(size = 11, face = \"bold\"),\n",
    "          plot.subtitle = element_text(size=9),legend.title=element_blank())\n",
    "fig32 <- ggplot(data_fig32, aes(x=icd10,y=values)) +\n",
    "            geom_bar(stat = \"identity\",aes(fill=sex),position=\"dodge\") +\n",
    "            coord_flip()+\n",
    "             theme_classic()+\n",
    "            scale_x_discrete(limits=c(\"TOXICO\",\"B20-B24\",\"F10\",\"X60-X84_Y870\",\"C16\",\"K70_K73_K74\",\"N00-N29\",\"C50\",\"C25\",\n",
    "                                              \"E10-E14\",\"J12-J18\",\"C18-C21\",\"ACC\",\"J40-J47\") ,\n",
    "                             labels=c(\"Drug dependence\",\"HIV\",\"Mental and behavioural disorders due to use of alcohol\",\n",
    "                                     \"Intentional self harm\",\"Malignant neoplasms of stomach\",\"Chronic liver disease\",\n",
    "                                     \"Diseases of kidney and ureter\",\"Malignant neoplasms of breast\",\n",
    "                                      \"Malignant neoplasms of pancreas\",\n",
    "                                     \"Diabetes mellitus\",\"Pneumonia\",\n",
    "                                      \"Malignant neoplasms of colon, rectum...\",\n",
    "                                     \"Accidents\",\"Chronic lower respiratory diseases\")) +\n",
    "            scale_y_continuous(position = \"right\",limits = c(0, 50), breaks = seq(0, 50, by = 10))+\n",
    "        theme(legend.position=\"bottom\",legend.direction=\"vertical\") +\n",
    "        scale_fill_manual(labels=c(\"Female\",\"Male\"),values = c(\"#faa519\",\"#286eb4\"), name = \" \") +\n",
    "        ylab(\" \")+\n",
    "        xlab(\" \")+\n",
    "        theme(axis.text.y=element_text(size=8))\n",
    "fig31 / fig32"
   ]
  },
  {
   "cell_type": "markdown",
   "metadata": {},
   "source": [
    "### Figure 4: Deaths from ischaemic heart diseases - standardized death rate, 2017\n",
    "##### First steps: Apply relevant filters\n",
    "- keeping variable with causes of death relevant for the graphic (ischaemic heart diseases = I20-I25)\n",
    "- keeping only observations of countries specified in countries variable at the beginning, age in total\n",
    "- using the values for year 2017 (for EU27 and France from 2016), creating new values_n variable\n",
    "- deleting unused variables & levels from dataset (age, unit, time,icd-10, old values variable)\n",
    "- checking structure/ values of ordered dataset (do they match to the graphic)"
   ]
  },
  {
   "cell_type": "code",
   "execution_count": 45,
   "metadata": {},
   "outputs": [
    {
     "data": {
      "text/html": [
       "<table>\n",
       "<thead><tr><th scope=col>sex</th><th scope=col>geo</th><th scope=col>values_n</th></tr></thead>\n",
       "<tbody>\n",
       "\t<tr><td>F     </td><td>AT    </td><td>125.12</td></tr>\n",
       "\t<tr><td>F     </td><td>BE    </td><td> 42.53</td></tr>\n",
       "\t<tr><td>F     </td><td>BG    </td><td>149.55</td></tr>\n",
       "\t<tr><td>F     </td><td>CH    </td><td> 62.29</td></tr>\n",
       "\t<tr><td>F     </td><td>CY    </td><td> 62.43</td></tr>\n",
       "\t<tr><td>F     </td><td>CZ    </td><td>238.53</td></tr>\n",
       "</tbody>\n",
       "</table>\n"
      ],
      "text/latex": [
       "\\begin{tabular}{r|lll}\n",
       " sex & geo & values\\_n\\\\\n",
       "\\hline\n",
       "\t F      & AT     & 125.12\\\\\n",
       "\t F      & BE     &  42.53\\\\\n",
       "\t F      & BG     & 149.55\\\\\n",
       "\t F      & CH     &  62.29\\\\\n",
       "\t F      & CY     &  62.43\\\\\n",
       "\t F      & CZ     & 238.53\\\\\n",
       "\\end{tabular}\n"
      ],
      "text/markdown": [
       "\n",
       "| sex | geo | values_n |\n",
       "|---|---|---|\n",
       "| F      | AT     | 125.12 |\n",
       "| F      | BE     |  42.53 |\n",
       "| F      | BG     | 149.55 |\n",
       "| F      | CH     |  62.29 |\n",
       "| F      | CY     |  62.43 |\n",
       "| F      | CZ     | 238.53 |\n",
       "\n"
      ],
      "text/plain": [
       "  sex geo values_n\n",
       "1 F   AT  125.12  \n",
       "2 F   BE   42.53  \n",
       "3 F   BG  149.55  \n",
       "4 F   CH   62.29  \n",
       "5 F   CY   62.43  \n",
       "6 F   CZ  238.53  "
      ]
     },
     "metadata": {},
     "output_type": "display_data"
    }
   ],
   "source": [
    "data_fig4 <- subset(dataset, (dataset$time==2016 | dataset$time==2017)  & \n",
    "                    dataset$geo %in% countries &\n",
    "                    dataset$icd10==\"I20-I25\" &\n",
    "                   dataset$age==\"TOTAL\")\n",
    "data_fig4 <- droplevels(data_fig4)\n",
    "data_fig4$values_n <- ifelse(data_fig4$time==2017,data_fig4$values,NA)\n",
    "data_fig4[data_fig4$geo==\"FR\",]$values_n <- data_fig4[data_fig4$geo==\"FR\",]$values\n",
    "data_fig4[data_fig4$geo==\"EU27_2020\",]$values_n <- data_fig4[data_fig4$geo==\"EU27_2020\",]$values\n",
    "data_fig4 <- data_fig4[!is.na(data_fig4$values_n),]\n",
    "data_fig4 <- data_fig4[,-c(1,3,4,6,7)]\n",
    "#str(data_fig4)\n",
    "head(data_fig4)"
   ]
  },
  {
   "cell_type": "markdown",
   "metadata": {},
   "source": [
    "##### Second step: Modify dataset\n",
    "- changing the order within the dataset to get the ranked structure\n",
    "- ranking on the combined values of males and females (using total of sex) & releveling of the variable icd10 according to ranks & structure in original data set)"
   ]
  }
 ],
 "metadata": {
  "colab": {
   "name": "eu_int_trade_transport_R.ipynb",
   "provenance": []
  },
  "kernelspec": {
   "display_name": "R",
   "language": "R",
   "name": "ir"
  },
  "language_info": {
   "codemirror_mode": "r",
   "file_extension": ".r",
   "mimetype": "text/x-r-source",
   "name": "R",
   "pygments_lexer": "r",
   "version": "3.6.1"
  }
 },
 "nbformat": 4,
 "nbformat_minor": 1
}
