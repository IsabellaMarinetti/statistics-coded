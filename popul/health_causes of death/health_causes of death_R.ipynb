{
 "cells": [
  {
   "cell_type": "markdown",
   "metadata": {
    "colab_type": "text",
    "id": "sM8ZePrlR54s"
   },
   "source": [
    "##  *Statistics coded:* Causes of death statistics\n",
    "\n",
    "Prepared by  [**Katharina Koehler**](@kkatha) (EMOS).\n",
    "\n",
    "Objective of this notebook is illustrating the \"Statistics Explained\" article [Causes of death statisitics](https://ec.europa.eu/eurostat/statistics-explained/index.php?title=Causes_of_death_statistics)."
   ]
  },
  {
   "cell_type": "markdown",
   "metadata": {
    "colab_type": "text",
    "id": "qlpXEpBWR541"
   },
   "source": [
    "## Configuration\n",
    "\n",
    "Put all libraries/packages/modules/etc... that are necessary so that you can run this notebook."
   ]
  },
  {
   "cell_type": "code",
   "execution_count": 1,
   "metadata": {
    "colab": {},
    "colab_type": "code",
    "id": "eUjGK-qhR55M"
   },
   "outputs": [],
   "source": [
    "#install.packages(c(\"ggplot2\", \"plotly\", \"tidyr\", \"repr\", \"dplyr\", \"devtools\", \"restatapi\",\"gtsummary\",\"eurostat\",\"patchwork\"))"
   ]
  },
  {
   "cell_type": "code",
   "execution_count": 4,
   "metadata": {},
   "outputs": [
    {
     "name": "stderr",
     "output_type": "stream",
     "text": [
      "also installing the dependency 'webshot'\n",
      "\n"
     ]
    },
    {
     "name": "stdout",
     "output_type": "stream",
     "text": [
      "package 'webshot' successfully unpacked and MD5 sums checked\n",
      "package 'kableExtra' successfully unpacked and MD5 sums checked\n",
      "\n",
      "The downloaded binary packages are in\n",
      "\tC:\\Users\\Katha\\AppData\\Local\\Temp\\RtmpiOof6K\\downloaded_packages\n"
     ]
    }
   ],
   "source": [
    "install.packages(\"kableExtra\")"
   ]
  },
  {
   "cell_type": "code",
   "execution_count": 5,
   "metadata": {},
   "outputs": [
    {
     "name": "stderr",
     "output_type": "stream",
     "text": [
      "Warning message:\n",
      "\"package 'kableExtra' was built under R version 3.6.3\"Registered S3 method overwritten by 'rvest':\n",
      "  method            from\n",
      "  read_xml.response xml2\n",
      "\n",
      "Attaching package: 'kableExtra'\n",
      "\n",
      "The following object is masked from 'package:dplyr':\n",
      "\n",
      "    group_rows\n",
      "\n"
     ]
    }
   ],
   "source": [
    "library(ggplot2)\n",
    "library(tidyr)\n",
    "library(dplyr)\n",
    "library(reshape2)\n",
    "library(patchwork)\n",
    "#library(restatapi)\n",
    "library (eurostat)\n",
    "library(gtsummary)\n",
    "library(kableExtra)"
   ]
  },
  {
   "cell_type": "code",
   "execution_count": 3,
   "metadata": {},
   "outputs": [],
   "source": [
    "#assign(\"dmethod\",\"curl\",envir=.restatapi_env) \n",
    "#dataset <- get_eurostat_data(id=\"hlth_cd_asdr2\",verbose=TRUE)\n",
    "#head(dataset)"
   ]
  },
  {
   "cell_type": "markdown",
   "metadata": {},
   "source": [
    "## Loading relevant datasets for analyses/ graphics\n",
    "\n",
    "Pulling data from Eurostat API \"https://appsso.eurostat.ec.europa.eu/nui/show.do?dataset=hlth_cd_asdr2&lang=en\" id/ code used in function argument \"hlth_cd_asdr2\" and \"hlth_cd_asdr\" to identify dataset\n",
    "- \"hlth_cd_asdr2\": Causes of death - standardised death rate by residence, 2011-2017 needed\n",
    "- \"hlth_cd_asdr\": Causes of death - standardised death rate per 100 000 inhabitants - annual data, 2006-2010 needed"
   ]
  },
  {
   "cell_type": "markdown",
   "metadata": {},
   "source": [
    "#### First step:\n",
    "Define variables for relevant countries to make filtering easier later\n",
    "#### Second Step\n",
    "- Loading the complete dataset per bulk download via API -> Filtering the complete data set accordingly with R commands later\n",
    "- dataset = years 2011-2017, dataset_2 = years 2006-2010\n",
    "- change data format to keep only the year (done with substring command)"
   ]
  },
  {
   "cell_type": "code",
   "execution_count": 7,
   "metadata": {},
   "outputs": [],
   "source": [
    "EU_27 <- c(\"AT\",\"BE\", \"BG\",\"HR\",\"CY\", \"CZ\",\"DK\", \"DE\", \"EE\",\"FI\",\"FR\",\"EL\",\"HU\",\"IE\",\n",
    "           \"IT\",\"LV\",\"LT\",\"LU\",\"MT\",\"NL\",\"PL\",\"PT\",\"RO\",\"SK\",\"SI\",\"ES\",\"SE\")\n",
    "countries <- c(\"EU27_2020\", \"AT\",\"BE\", \"BG\",\"HR\",\"CY\", \"CZ\",\"DK\", \"DE\", \"EE\",\"FI\",\"FR\",\"EL\",\"HU\",\"IE\",\n",
    "               \"IT\",\"LV\",\"LT\",\"LU\",\"MT\",\"NL\",\"PL\",\"PT\",\"RO\",\"SK\",\"SI\",\"ES\",\"SE\",\"UK\",\"IS\",\"LI\",\"NO\",\"CH\",\"RS\",\"TR\")"
   ]
  },
  {
   "cell_type": "code",
   "execution_count": 8,
   "metadata": {},
   "outputs": [
    {
     "name": "stderr",
     "output_type": "stream",
     "text": [
      "Table hlth_cd_asdr2 cached at C:\\Users\\Katha\\AppData\\Local\\Temp\\RtmpiOof6K/eurostat/hlth_cd_asdr2_date_code_TF.rds\n"
     ]
    }
   ],
   "source": [
    "dataset <- get_eurostat(id=\"hlth_cd_asdr2\")"
   ]
  },
  {
   "cell_type": "code",
   "execution_count": 9,
   "metadata": {},
   "outputs": [
    {
     "data": {
      "text/html": [
       "<table>\n",
       "<thead><tr><th scope=col>unit</th><th scope=col>sex</th><th scope=col>age</th><th scope=col>icd10</th><th scope=col>geo</th><th scope=col>time</th><th scope=col>values</th></tr></thead>\n",
       "<tbody>\n",
       "\t<tr><td>RT     </td><td>F      </td><td>TOTAL  </td><td>A-R_V-Y</td><td>AT     </td><td>2017   </td><td>800.93 </td></tr>\n",
       "\t<tr><td>RT     </td><td>F      </td><td>TOTAL  </td><td>A-R_V-Y</td><td>AT1    </td><td>2017   </td><td>839.44 </td></tr>\n",
       "\t<tr><td>RT     </td><td>F      </td><td>TOTAL  </td><td>A-R_V-Y</td><td>AT11   </td><td>2017   </td><td>831.87 </td></tr>\n",
       "\t<tr><td>RT     </td><td>F      </td><td>TOTAL  </td><td>A-R_V-Y</td><td>AT12   </td><td>2017   </td><td>844.03 </td></tr>\n",
       "\t<tr><td>RT     </td><td>F      </td><td>TOTAL  </td><td>A-R_V-Y</td><td>AT13   </td><td>2017   </td><td>835.65 </td></tr>\n",
       "\t<tr><td>RT     </td><td>F      </td><td>TOTAL  </td><td>A-R_V-Y</td><td>AT2    </td><td>2017   </td><td>785.24 </td></tr>\n",
       "</tbody>\n",
       "</table>\n"
      ],
      "text/latex": [
       "\\begin{tabular}{r|lllllll}\n",
       " unit & sex & age & icd10 & geo & time & values\\\\\n",
       "\\hline\n",
       "\t RT        & F         & TOTAL     & A-R\\_V-Y & AT        & 2017      & 800.93   \\\\\n",
       "\t RT        & F         & TOTAL     & A-R\\_V-Y & AT1       & 2017      & 839.44   \\\\\n",
       "\t RT        & F         & TOTAL     & A-R\\_V-Y & AT11      & 2017      & 831.87   \\\\\n",
       "\t RT        & F         & TOTAL     & A-R\\_V-Y & AT12      & 2017      & 844.03   \\\\\n",
       "\t RT        & F         & TOTAL     & A-R\\_V-Y & AT13      & 2017      & 835.65   \\\\\n",
       "\t RT        & F         & TOTAL     & A-R\\_V-Y & AT2       & 2017      & 785.24   \\\\\n",
       "\\end{tabular}\n"
      ],
      "text/markdown": [
       "\n",
       "| unit | sex | age | icd10 | geo | time | values |\n",
       "|---|---|---|---|---|---|---|\n",
       "| RT      | F       | TOTAL   | A-R_V-Y | AT      | 2017    | 800.93  |\n",
       "| RT      | F       | TOTAL   | A-R_V-Y | AT1     | 2017    | 839.44  |\n",
       "| RT      | F       | TOTAL   | A-R_V-Y | AT11    | 2017    | 831.87  |\n",
       "| RT      | F       | TOTAL   | A-R_V-Y | AT12    | 2017    | 844.03  |\n",
       "| RT      | F       | TOTAL   | A-R_V-Y | AT13    | 2017    | 835.65  |\n",
       "| RT      | F       | TOTAL   | A-R_V-Y | AT2     | 2017    | 785.24  |\n",
       "\n"
      ],
      "text/plain": [
       "  unit sex age   icd10   geo  time values\n",
       "1 RT   F   TOTAL A-R_V-Y AT   2017 800.93\n",
       "2 RT   F   TOTAL A-R_V-Y AT1  2017 839.44\n",
       "3 RT   F   TOTAL A-R_V-Y AT11 2017 831.87\n",
       "4 RT   F   TOTAL A-R_V-Y AT12 2017 844.03\n",
       "5 RT   F   TOTAL A-R_V-Y AT13 2017 835.65\n",
       "6 RT   F   TOTAL A-R_V-Y AT2  2017 785.24"
      ]
     },
     "metadata": {},
     "output_type": "display_data"
    }
   ],
   "source": [
    "dataset$time <- as.integer(substr(dataset$time,1,4))\n",
    "head(dataset)"
   ]
  },
  {
   "cell_type": "code",
   "execution_count": 6,
   "metadata": {},
   "outputs": [
    {
     "name": "stderr",
     "output_type": "stream",
     "text": [
      "Table hlth_cd_asdr cached at C:\\Users\\Katha\\AppData\\Local\\Temp\\Rtmp44kabF/eurostat/hlth_cd_asdr_date_code_TF.rds\n"
     ]
    }
   ],
   "source": [
    "dataset_2 <- get_eurostat(id=\"hlth_cd_asdr\")"
   ]
  },
  {
   "cell_type": "code",
   "execution_count": 7,
   "metadata": {
    "scrolled": true
   },
   "outputs": [],
   "source": [
    "dataset_2 <- subset(dataset_2,dataset_2$time >= 2006)"
   ]
  },
  {
   "cell_type": "code",
   "execution_count": 8,
   "metadata": {},
   "outputs": [
    {
     "data": {
      "text/html": [
       "<table>\n",
       "<thead><tr><th scope=col>unit</th><th scope=col>sex</th><th scope=col>age</th><th scope=col>icd10</th><th scope=col>geo</th><th scope=col>time</th><th scope=col>values</th></tr></thead>\n",
       "<tbody>\n",
       "\t<tr><td>RT     </td><td>F      </td><td>TOTAL  </td><td>A-R_V-Y</td><td>AT     </td><td>2010   </td><td> 820.2 </td></tr>\n",
       "\t<tr><td>RT     </td><td>F      </td><td>TOTAL  </td><td>A-R_V-Y</td><td>BE     </td><td>2010   </td><td> 845.7 </td></tr>\n",
       "\t<tr><td>RT     </td><td>F      </td><td>TOTAL  </td><td>A-R_V-Y</td><td>BG     </td><td>2010   </td><td>1382.2 </td></tr>\n",
       "\t<tr><td>RT     </td><td>F      </td><td>TOTAL  </td><td>A-R_V-Y</td><td>CH     </td><td>2010   </td><td> 730.6 </td></tr>\n",
       "\t<tr><td>RT     </td><td>F      </td><td>TOTAL  </td><td>A-R_V-Y</td><td>CY     </td><td>2010   </td><td> 829.4 </td></tr>\n",
       "\t<tr><td>RT     </td><td>F      </td><td>TOTAL  </td><td>A-R_V-Y</td><td>CZ     </td><td>2010   </td><td>1064.4 </td></tr>\n",
       "</tbody>\n",
       "</table>\n"
      ],
      "text/latex": [
       "\\begin{tabular}{r|lllllll}\n",
       " unit & sex & age & icd10 & geo & time & values\\\\\n",
       "\\hline\n",
       "\t RT        & F         & TOTAL     & A-R\\_V-Y & AT        & 2010      &  820.2   \\\\\n",
       "\t RT        & F         & TOTAL     & A-R\\_V-Y & BE        & 2010      &  845.7   \\\\\n",
       "\t RT        & F         & TOTAL     & A-R\\_V-Y & BG        & 2010      & 1382.2   \\\\\n",
       "\t RT        & F         & TOTAL     & A-R\\_V-Y & CH        & 2010      &  730.6   \\\\\n",
       "\t RT        & F         & TOTAL     & A-R\\_V-Y & CY        & 2010      &  829.4   \\\\\n",
       "\t RT        & F         & TOTAL     & A-R\\_V-Y & CZ        & 2010      & 1064.4   \\\\\n",
       "\\end{tabular}\n"
      ],
      "text/markdown": [
       "\n",
       "| unit | sex | age | icd10 | geo | time | values |\n",
       "|---|---|---|---|---|---|---|\n",
       "| RT      | F       | TOTAL   | A-R_V-Y | AT      | 2010    |  820.2  |\n",
       "| RT      | F       | TOTAL   | A-R_V-Y | BE      | 2010    |  845.7  |\n",
       "| RT      | F       | TOTAL   | A-R_V-Y | BG      | 2010    | 1382.2  |\n",
       "| RT      | F       | TOTAL   | A-R_V-Y | CH      | 2010    |  730.6  |\n",
       "| RT      | F       | TOTAL   | A-R_V-Y | CY      | 2010    |  829.4  |\n",
       "| RT      | F       | TOTAL   | A-R_V-Y | CZ      | 2010    | 1064.4  |\n",
       "\n"
      ],
      "text/plain": [
       "  unit sex age   icd10   geo time values\n",
       "1 RT   F   TOTAL A-R_V-Y AT  2010  820.2\n",
       "2 RT   F   TOTAL A-R_V-Y BE  2010  845.7\n",
       "3 RT   F   TOTAL A-R_V-Y BG  2010 1382.2\n",
       "4 RT   F   TOTAL A-R_V-Y CH  2010  730.6\n",
       "5 RT   F   TOTAL A-R_V-Y CY  2010  829.4\n",
       "6 RT   F   TOTAL A-R_V-Y CZ  2010 1064.4"
      ]
     },
     "metadata": {},
     "output_type": "display_data"
    }
   ],
   "source": [
    "dataset_2$time <- as.integer(substr(dataset_2$time,1,4))\n",
    "head(dataset_2)"
   ]
  },
  {
   "cell_type": "markdown",
   "metadata": {},
   "source": [
    "## Main findings\n",
    "\n",
    "The code here will help reproducing the material presented in the section [Main findings](https://ec.europa.eu/eurostat/statistics-explained/index.php?title=Causes_of_death_statistics)."
   ]
  },
  {
   "cell_type": "markdown",
   "metadata": {},
   "source": [
    "#### Creation of table: causes of death - standarized death rate, 2017\n",
    "##### First steps: Filter data accordingly:\n",
    "- only keep relevant countries\n",
    "- create one values variable with values from 2017 and from 2016 where 2017 not available (for France and EU27 category)\n",
    "- Keep only causes of death relevant for table, summarize"
   ]
  },
  {
   "cell_type": "code",
   "execution_count": 10,
   "metadata": {},
   "outputs": [
    {
     "data": {
      "text/html": [
       "<table>\n",
       "<thead><tr><th scope=col>unit</th><th scope=col>sex</th><th scope=col>age</th><th scope=col>icd10</th><th scope=col>geo</th><th scope=col>time</th><th scope=col>values</th></tr></thead>\n",
       "<tbody>\n",
       "\t<tr><td>RT     </td><td>T      </td><td>TOTAL  </td><td>A-R_V-Y</td><td>AT     </td><td>2017   </td><td> 959.95</td></tr>\n",
       "\t<tr><td>RT     </td><td>T      </td><td>TOTAL  </td><td>A-R_V-Y</td><td>BE     </td><td>2017   </td><td> 963.19</td></tr>\n",
       "\t<tr><td>RT     </td><td>T      </td><td>TOTAL  </td><td>A-R_V-Y</td><td>BG     </td><td>2017   </td><td>1631.13</td></tr>\n",
       "\t<tr><td>RT     </td><td>T      </td><td>TOTAL  </td><td>A-R_V-Y</td><td>CH     </td><td>2017   </td><td> 823.77</td></tr>\n",
       "\t<tr><td>RT     </td><td>T      </td><td>TOTAL  </td><td>A-R_V-Y</td><td>CY     </td><td>2017   </td><td>1071.36</td></tr>\n",
       "\t<tr><td>RT     </td><td>T      </td><td>TOTAL  </td><td>A-R_V-Y</td><td>CZ     </td><td>2017   </td><td>1239.97</td></tr>\n",
       "</tbody>\n",
       "</table>\n"
      ],
      "text/latex": [
       "\\begin{tabular}{r|lllllll}\n",
       " unit & sex & age & icd10 & geo & time & values\\\\\n",
       "\\hline\n",
       "\t RT        & T         & TOTAL     & A-R\\_V-Y & AT        & 2017      &  959.95  \\\\\n",
       "\t RT        & T         & TOTAL     & A-R\\_V-Y & BE        & 2017      &  963.19  \\\\\n",
       "\t RT        & T         & TOTAL     & A-R\\_V-Y & BG        & 2017      & 1631.13  \\\\\n",
       "\t RT        & T         & TOTAL     & A-R\\_V-Y & CH        & 2017      &  823.77  \\\\\n",
       "\t RT        & T         & TOTAL     & A-R\\_V-Y & CY        & 2017      & 1071.36  \\\\\n",
       "\t RT        & T         & TOTAL     & A-R\\_V-Y & CZ        & 2017      & 1239.97  \\\\\n",
       "\\end{tabular}\n"
      ],
      "text/markdown": [
       "\n",
       "| unit | sex | age | icd10 | geo | time | values |\n",
       "|---|---|---|---|---|---|---|\n",
       "| RT      | T       | TOTAL   | A-R_V-Y | AT      | 2017    |  959.95 |\n",
       "| RT      | T       | TOTAL   | A-R_V-Y | BE      | 2017    |  963.19 |\n",
       "| RT      | T       | TOTAL   | A-R_V-Y | BG      | 2017    | 1631.13 |\n",
       "| RT      | T       | TOTAL   | A-R_V-Y | CH      | 2017    |  823.77 |\n",
       "| RT      | T       | TOTAL   | A-R_V-Y | CY      | 2017    | 1071.36 |\n",
       "| RT      | T       | TOTAL   | A-R_V-Y | CZ      | 2017    | 1239.97 |\n",
       "\n"
      ],
      "text/plain": [
       "  unit sex age   icd10   geo time values \n",
       "1 RT   T   TOTAL A-R_V-Y AT  2017  959.95\n",
       "2 RT   T   TOTAL A-R_V-Y BE  2017  963.19\n",
       "3 RT   T   TOTAL A-R_V-Y BG  2017 1631.13\n",
       "4 RT   T   TOTAL A-R_V-Y CH  2017  823.77\n",
       "5 RT   T   TOTAL A-R_V-Y CY  2017 1071.36\n",
       "6 RT   T   TOTAL A-R_V-Y CZ  2017 1239.97"
      ]
     },
     "metadata": {},
     "output_type": "display_data"
    }
   ],
   "source": [
    "datatbl1 <- subset(dataset, dataset$sex==\"T\" &\n",
    "                     dataset$age ==\"TOTAL\" & \n",
    "                    dataset$geo %in% countries & \n",
    "                     (dataset$time==2017 | dataset$time==2016))\n",
    "head(datatbl1)"
   ]
  },
  {
   "cell_type": "code",
   "execution_count": 11,
   "metadata": {},
   "outputs": [],
   "source": [
    "datatbl1$values_n <- ifelse(datatbl1$time==2017,datatbl1$values,NA)\n",
    "datatbl1[datatbl1$geo==\"FR\",]$values_n <- datatbl1[datatbl1$geo==\"FR\",]$values\n",
    "datatbl1[datatbl1$geo==\"EU27_2020\",]$values_n <- datatbl1[datatbl1$geo==\"EU27_2020\",]$values\n",
    "datatbl1 <- datatbl1[!is.na(datatbl1$values_n),]"
   ]
  },
  {
   "cell_type": "code",
   "execution_count": 16,
   "metadata": {},
   "outputs": [
    {
     "data": {
      "text/html": [
       "<table>\n",
       "<thead><tr><th scope=col>icd10</th><th scope=col>geo</th><th scope=col>values_n</th></tr></thead>\n",
       "<tbody>\n",
       "\t<tr><td>J           </td><td>EU27_2020   </td><td>74.91       </td></tr>\n",
       "\t<tr><td>J           </td><td>FR          </td><td>56.67       </td></tr>\n",
       "\t<tr><td>V_Y85       </td><td>EU27_2020   </td><td> 6.03       </td></tr>\n",
       "\t<tr><td>V_Y85       </td><td>FR          </td><td> 5.00       </td></tr>\n",
       "\t<tr><td>X60-X84_Y870</td><td>EU27_2020   </td><td>10.75       </td></tr>\n",
       "\t<tr><td>X60-X84_Y870</td><td>FR          </td><td>13.20       </td></tr>\n",
       "</tbody>\n",
       "</table>\n"
      ],
      "text/latex": [
       "\\begin{tabular}{r|lll}\n",
       " icd10 & geo & values\\_n\\\\\n",
       "\\hline\n",
       "\t J            & EU27\\_2020  & 74.91       \\\\\n",
       "\t J            & FR           & 56.67       \\\\\n",
       "\t V\\_Y85        & EU27\\_2020    &  6.03         \\\\\n",
       "\t V\\_Y85        & FR             &  5.00         \\\\\n",
       "\t X60-X84\\_Y870 & EU27\\_2020    & 10.75         \\\\\n",
       "\t X60-X84\\_Y870 & FR             & 13.20         \\\\\n",
       "\\end{tabular}\n"
      ],
      "text/markdown": [
       "\n",
       "| icd10 | geo | values_n |\n",
       "|---|---|---|\n",
       "| J            | EU27_2020    | 74.91        |\n",
       "| J            | FR           | 56.67        |\n",
       "| V_Y85        | EU27_2020    |  6.03        |\n",
       "| V_Y85        | FR           |  5.00        |\n",
       "| X60-X84_Y870 | EU27_2020    | 10.75        |\n",
       "| X60-X84_Y870 | FR           | 13.20        |\n",
       "\n"
      ],
      "text/plain": [
       "  icd10        geo       values_n\n",
       "1 J            EU27_2020 74.91   \n",
       "2 J            FR        56.67   \n",
       "3 V_Y85        EU27_2020  6.03   \n",
       "4 V_Y85        FR         5.00   \n",
       "5 X60-X84_Y870 EU27_2020 10.75   \n",
       "6 X60-X84_Y870 FR        13.20   "
      ]
     },
     "metadata": {},
     "output_type": "display_data"
    }
   ],
   "source": [
    "causes <- c(\"I\",\"I20-I25\",\"C\",\"C33_C34\",\"C18-C21\",\"J\",\"G_H\",\"V_Y85\",\"X60-X84_Y870\",\"C50\",\"C53\",\"C54_C55\")\n",
    "datatbl1 <- datatbl1[datatbl1$icd10 %in% causes,]\n",
    "#table(datatbl1$values_n,datatbl1$icd10)\n",
    "#datatbl1$icd10\n",
    "datatbl11 <- datatbl1[,c(4,5,8)]\n",
    "tail(datatbl11)"
   ]
  },
  {
   "cell_type": "markdown",
   "metadata": {},
   "source": [
    "##### Second steps: Table\n",
    "- change data frame format: create seperate variable for every disease each with respective values of death rate and each country as level\n",
    "- create new dataset\n",
    "- visualise table with kableExtra package"
   ]
  },
  {
   "cell_type": "code",
   "execution_count": 17,
   "metadata": {},
   "outputs": [
    {
     "name": "stderr",
     "output_type": "stream",
     "text": [
      "Warning message in 1:datatbl11$geo:\n",
      "\"numerischer Ausdruck hat 420 Elemente: nur erstes wird genutzt\""
     ]
    },
    {
     "ename": "ERROR",
     "evalue": "Error in cd[i] <- datatbl11$values_n[datatbl11$icd10 == \"C\" & datatbl11$geo == : Ersetzung hat Länge 0\n",
     "output_type": "error",
     "traceback": [
      "Error in cd[i] <- datatbl11$values_n[datatbl11$icd10 == \"C\" & datatbl11$geo == : Ersetzung hat Länge 0\nTraceback:\n"
     ]
    }
   ],
   "source": [
    "cd <- rep(0,35)\n",
    "for(i in 1:datatbl11$geo){\n",
    "    cd[i] <- datatbl11$values_n[datatbl11$icd10==\"C\" & datatbl11$geo==i]\n",
    "}"
   ]
  },
  {
   "cell_type": "markdown",
   "metadata": {},
   "source": [
    "## Developments between 2006 & 2016\n",
    "\n",
    "The code here will help reproducing the material presented in the section [Developments between 2006 and 2010](https://ec.europa.eu/eurostat/statistics-explained/index.php?title=Causes_of_death_statistics)."
   ]
  },
  {
   "cell_type": "markdown",
   "metadata": {},
   "source": [
    "##### First steps: \n",
    "- Merge two datasets to get data in the time interval 2006 - 2010\n",
    "- Apply filters (same procedure for females and males)\n",
    "    - Filter dataset with subset command (Male/ Female, age, only the summarising country level EU 27)\n",
    "    - keep only relevant causes for the graphic (C=Cancer, C_33-C34= Lung cancer, C_50=Breast Cancer, G_H=Nervous system, \n",
    "        I20_I25=Ischaemic heart disease, V_Y85=Transport Accidents) & drop empty levels with droplevels command\n",
    "    - check structure/ levels with str command"
   ]
  },
  {
   "cell_type": "code",
   "execution_count": 13,
   "metadata": {},
   "outputs": [
    {
     "name": "stdout",
     "output_type": "stream",
     "text": [
      "Classes 'tbl_df', 'tbl' and 'data.frame':\t2812203 obs. of  7 variables:\n",
      " $ unit  : Factor w/ 1 level \"RT\": 1 1 1 1 1 1 1 1 1 1 ...\n",
      " $ sex   : Factor w/ 3 levels \"F\",\"M\",\"T\": 1 1 1 1 1 1 1 1 1 1 ...\n",
      " $ age   : Factor w/ 3 levels \"TOTAL\",\"Y_GE65\",..: 1 1 1 1 1 1 1 1 1 1 ...\n",
      " $ icd10 : Factor w/ 89 levels \"A-R_V-Y\",\"A15-A19_B90\",..: 1 1 1 1 1 1 1 1 1 1 ...\n",
      " $ geo   : Factor w/ 482 levels \"AT\",\"AT1\",\"AT11\",..: 1 2 3 4 5 6 7 8 9 10 ...\n",
      " $ time  : int  2017 2017 2017 2017 2017 2017 2017 2017 2017 2017 ...\n",
      " $ values: num  801 839 832 844 836 ...\n"
     ]
    }
   ],
   "source": [
    "# Merge:\n",
    "dataset_3 <- rbind(dataset,dataset_2) \n",
    "str(dataset_3)"
   ]
  },
  {
   "cell_type": "markdown",
   "metadata": {},
   "source": [
    "##### *Filter Males*"
   ]
  },
  {
   "cell_type": "code",
   "execution_count": 14,
   "metadata": {},
   "outputs": [
    {
     "name": "stdout",
     "output_type": "stream",
     "text": [
      "Classes 'tbl_df', 'tbl' and 'data.frame':\t52 obs. of  7 variables:\n",
      " $ unit  : Factor w/ 1 level \"RT\": 1 1 1 1 1 1 1 1 1 1 ...\n",
      " $ sex   : Factor w/ 1 level \"M\": 1 1 1 1 1 1 1 1 1 1 ...\n",
      " $ age   : Factor w/ 1 level \"TOTAL\": 1 1 1 1 1 1 1 1 1 1 ...\n",
      " $ icd10 : Factor w/ 5 levels \"C\",\"C33_C34\",..: 1 2 3 4 5 1 2 3 4 5 ...\n",
      " $ geo   : Factor w/ 1 level \"EU27_2020\": 1 1 1 1 1 1 1 1 1 1 ...\n",
      " $ time  : int  2016 2016 2016 2016 2016 2015 2015 2015 2015 2015 ...\n",
      " $ values: num  343.96 83.59 44.96 162.46 9.67 ...\n"
     ]
    }
   ],
   "source": [
    "##Graphic Males, 2006-2016, 100=2006\n",
    "datagr1 <- subset(dataset_3, dataset_3$sex==\"M\" & dataset_3$age ==\"TOTAL\" &\n",
    "                     dataset_3$geo == \"EU27_2020\")\n",
    "datagr1 <- subset(datagr1, datagr1$time >=2006)\n",
    "#Keep only causes relevant for graphic\n",
    "causes <- c(\"V_Y85\",\"C\",\"G_H\",\"I20-I25\",\"C33_C34\")\n",
    "datagr1 <- datagr1[datagr1$icd10 %in% causes,]\n",
    "datagr1 <- droplevels(datagr1)\n",
    "str(datagr1)"
   ]
  },
  {
   "cell_type": "markdown",
   "metadata": {},
   "source": [
    "##### *Filter Females*"
   ]
  },
  {
   "cell_type": "code",
   "execution_count": 15,
   "metadata": {},
   "outputs": [
    {
     "name": "stdout",
     "output_type": "stream",
     "text": [
      "Classes 'tbl_df', 'tbl' and 'data.frame':\t63 obs. of  7 variables:\n",
      " $ unit  : Factor w/ 1 level \"RT\": 1 1 1 1 1 1 1 1 1 1 ...\n",
      " $ sex   : Factor w/ 1 level \"F\": 1 1 1 1 1 1 1 1 1 1 ...\n",
      " $ age   : Factor w/ 1 level \"TOTAL\": 1 1 1 1 1 1 1 1 1 1 ...\n",
      " $ icd10 : Factor w/ 6 levels \"C\",\"C33_C34\",..: 1 2 3 4 5 6 1 2 3 4 ...\n",
      " $ geo   : Factor w/ 1 level \"EU27_2020\": 1 1 1 1 1 1 1 1 1 1 ...\n",
      " $ time  : int  2016 2016 2016 2016 2016 2016 2015 2015 2015 2015 ...\n",
      " $ values: num  196.2 29.5 32.7 36.6 88.1 ...\n"
     ]
    }
   ],
   "source": [
    "##Graphic Females, 2006-2016, 100=2006\n",
    "datagr2 <- subset(dataset_3, dataset_3$sex==\"F\" & dataset_3$age ==\"TOTAL\" &\n",
    "                     dataset_3$geo == \"EU27_2020\")\n",
    "datagr2 <- subset(datagr2, datagr2$time >=2006)\n",
    "#Keep only causes relevant for graphic\n",
    "causes <- c(\"V_Y85\",\"C\",\"G_H\",\"I20-I25\",\"C33_C34\",\"C50\")\n",
    "datagr2 <- datagr2[datagr2$icd10 %in% causes,]\n",
    "datagr2 <- droplevels(datagr2)\n",
    "str(datagr2)"
   ]
  },
  {
   "cell_type": "markdown",
   "metadata": {},
   "source": [
    "###### Second step: Standardize such that 2006 = 100\n",
    "- same procedure for females and males\n",
    "    - take values from year 2006 for each cause (2009 for lung cancer)\n",
    "    - divide all other respective values with value from 2006/2009 divided by 100\n",
    "    \n",
    "###### *Males*"
   ]
  },
  {
   "cell_type": "code",
   "execution_count": 16,
   "metadata": {},
   "outputs": [
    {
     "data": {
      "text/plain": [
       "         \n",
       "          16.3 36.5 226.9 387\n",
       "  C          0    0     0   1\n",
       "  C33_C34    0    0     0   0\n",
       "  G_H        0    1     0   0\n",
       "  I20-I25    0    0     1   0\n",
       "  V_Y85      1    0     0   0"
      ]
     },
     "metadata": {},
     "output_type": "display_data"
    }
   ],
   "source": [
    "table(datagr1$icd10[datagr1$time==2006],datagr1$values[datagr1$time == 2006])"
   ]
  },
  {
   "cell_type": "code",
   "execution_count": 17,
   "metadata": {},
   "outputs": [
    {
     "data": {
      "text/plain": [
       "         \n",
       "          13.5 37.6 94.7 201.2 372.9\n",
       "  C          0    0    0     0     1\n",
       "  C33_C34    0    0    1     0     0\n",
       "  G_H        0    1    0     0     0\n",
       "  I20-I25    0    0    0     1     0\n",
       "  V_Y85      1    0    0     0     0"
      ]
     },
     "metadata": {},
     "output_type": "display_data"
    }
   ],
   "source": [
    "table(datagr1$icd10[datagr1$time==2009],datagr1$values[datagr1$time == 2009])"
   ]
  },
  {
   "cell_type": "code",
   "execution_count": 18,
   "metadata": {},
   "outputs": [],
   "source": [
    "datagr1$values[datagr1$icd10==\"C\"] <- datagr1$values[datagr1$icd10==\"C\"] /3.87\n",
    "datagr1$values[datagr1$icd10==\"G_H\"] <- datagr1$values[datagr1$icd10==\"G_H\"]/0.365\n",
    "datagr1$values[datagr1$icd10==\"I20-I25\"] <- datagr1$values[datagr1$icd10==\"I20-I25\"]/2.269\n",
    "datagr1$values[datagr1$icd10==\"V_Y85\"] <- datagr1$values[datagr1$icd10==\"V_Y85\"]/0.163\n",
    "datagr1$values[datagr1$icd10==\"C33_C34\"] <- datagr1$values[datagr1$icd10==\"C33_C34\"]/0.947"
   ]
  },
  {
   "cell_type": "markdown",
   "metadata": {},
   "source": [
    "###### *Females*"
   ]
  },
  {
   "cell_type": "code",
   "execution_count": 19,
   "metadata": {},
   "outputs": [
    {
     "data": {
      "text/plain": [
       "         \n",
       "          4.6 29.1 35.1 133.8 206.7\n",
       "  C         0    0    0     0     1\n",
       "  C33_C34   0    0    0     0     0\n",
       "  C50       0    0    1     0     0\n",
       "  G_H       0    1    0     0     0\n",
       "  I20-I25   0    0    0     1     0\n",
       "  V_Y85     1    0    0     0     0"
      ]
     },
     "metadata": {},
     "output_type": "display_data"
    }
   ],
   "source": [
    "table(datagr2$icd10[datagr2$time==2006],datagr2$values[datagr2$time == 2006])"
   ]
  },
  {
   "cell_type": "code",
   "execution_count": 20,
   "metadata": {},
   "outputs": [
    {
     "data": {
      "text/plain": [
       "         \n",
       "          3.8 25.6 31 33.8 117.5 202.2\n",
       "  C         0    0  0    0     0     1\n",
       "  C33_C34   0    1  0    0     0     0\n",
       "  C50       0    0  0    1     0     0\n",
       "  G_H       0    0  1    0     0     0\n",
       "  I20-I25   0    0  0    0     1     0\n",
       "  V_Y85     1    0  0    0     0     0"
      ]
     },
     "metadata": {},
     "output_type": "display_data"
    }
   ],
   "source": [
    "table(datagr2$icd10[datagr2$time==2009],datagr2$values[datagr2$time == 2009])"
   ]
  },
  {
   "cell_type": "code",
   "execution_count": 21,
   "metadata": {},
   "outputs": [],
   "source": [
    "datagr2$values[datagr2$icd10==\"C\"] <- datagr2$values[datagr2$icd10==\"C\"] /2.067\n",
    "datagr2$values[datagr2$icd10==\"C50\"] <- datagr2$values[datagr2$icd10==\"C50\"] /0.351\n",
    "datagr2$values[datagr2$icd10==\"G_H\"] <- datagr2$values[datagr2$icd10==\"G_H\"]/0.291\n",
    "datagr2$values[datagr2$icd10==\"I20-I25\"] <- datagr2$values[datagr2$icd10==\"I20-I25\"]/1.338\n",
    "datagr2$values[datagr2$icd10==\"V_Y85\"] <- datagr2$values[datagr2$icd10==\"V_Y85\"]/0.046\n",
    "datagr2$values[datagr2$icd10==\"C33_C34\"] <- datagr2$values[datagr2$icd10==\"C33_C34\"]/0.256"
   ]
  },
  {
   "cell_type": "markdown",
   "metadata": {},
   "source": [
    "##### Third step: Create graphic with ggplot2 package\n",
    "- using the package ggplot to create the line plot for males and females (+ connects the different subcommands for the graphic)\n",
    "- creating the space with aes (variables on x and y axis, grouped by icd10 - causes of death)\n",
    "- adding the lines for the different causes of death with geom_line, different colors for each cause and with linewidth 1\n",
    "- adding a horizontal line for the start value (of the rate) 100 of 2006, in black, linetype two (dashed) \n",
    "- creating the title with subtitle\n",
    "- setting the values for the y and x axis \n",
    "- changing the overall theme to \"classic\" (white background)\n",
    "- definining the legend position\n",
    "- filling the legend manually with icd10 definitions and colors (token from the original graphic with hex code)\n",
    "- deleting labeling of axes\n",
    "- changing the size of title and subtitle\n"
   ]
  },
  {
   "cell_type": "markdown",
   "metadata": {},
   "source": [
    "###### *Males*"
   ]
  },
  {
   "cell_type": "code",
   "execution_count": 22,
   "metadata": {
    "scrolled": true
   },
   "outputs": [
    {
     "data": {
      "image/png": "[encoded data removed]",
      "text/plain": [
       "plot without title"
      ]
     },
     "metadata": {},
     "output_type": "display_data"
    }
   ],
   "source": [
    "figure1 <- ggplot(datagr1, aes(x=time,y=values, group=icd10)) +\n",
    "    geom_line(aes(color=icd10),lwd=1) + \n",
    "    geom_hline(yintercept=100,lty=2) +\n",
    "    ggtitle(\"Causes of death - standardised death rate per 100 000 inhabitants, males, EU-27,2006-2016\",subtitle=\"2006=100\") +\n",
    "    scale_y_continuous(limits = c(0, 130), breaks = seq(0, 130, by = 10)) +\n",
    "    scale_x_continuous(limits = c(2006, 2016), breaks = seq(2006, 2016, by = 1)) +\n",
    "    theme_classic()+\n",
    "    theme(legend.position=\"bottom\",legend.direction=\"vertical\") +\n",
    "    scale_color_manual(labels = c(\"Cancer (malignant neoplasms)\", \"Lung Cancer\", \"Nervous system\",\"Ischaemic heart diseases\",\n",
    "                                 \"Transport accidents\"), \n",
    "            values = c(\"#4481be\",\"#69c4c4\",\"#7dc265\",\"#fcc262\",\"#c0c937\"),name = \" \") +\n",
    "    ylab(\" \")+\n",
    "    xlab(\" \")\n",
    "\n",
    "figure1 + theme(\n",
    "  plot.title = element_text(size = 10, face = \"bold\"),\n",
    "  plot.subtitle = element_text(size=8),\n",
    ")"
   ]
  },
  {
   "cell_type": "markdown",
   "metadata": {},
   "source": [
    "##### *Females*"
   ]
  },
  {
   "cell_type": "code",
   "execution_count": 23,
   "metadata": {},
   "outputs": [
    {
     "data": {
      "image/png": "[encoded data removed]",
      "text/plain": [
       "plot without title"
      ]
     },
     "metadata": {},
     "output_type": "display_data"
    }
   ],
   "source": [
    "figure2 <- ggplot(datagr2, aes(x=time,y=values, group=icd10)) +\n",
    "    geom_line(aes(color=icd10),lwd=1) + \n",
    "    geom_hline(yintercept=100,lty=2) +\n",
    "    ggtitle(\"Causes of death - standardised death rate per 100 000 inhabitants, females, EU-27,2006-2016\",subtitle=\"2006=100\") +\n",
    "    scale_y_continuous(limits = c(0, 130), breaks = seq(0, 130, by = 10)) +\n",
    "    scale_x_continuous(limits = c(2006, 2016), breaks = seq(2006, 2016, by = 1)) +\n",
    "    theme_classic()+\n",
    "    theme(legend.position=\"bottom\",legend.direction=\"vertical\") +\n",
    "    scale_color_manual(labels = c(\"Cancer (malignant neoplasms)\", \"Lung Cancer\", \"Breast Cancer\",\n",
    "                                  \"Nervous system\",\"Ischaemic heart diseases\",\n",
    "                                 \"Transport accidents\"), \n",
    "    values = c(\"#4481be\",\"#69c4c4\",\"#7d5b78\",\"#7dc265\",\"#fcc262\",\"#c0c937\"), name = \" \") +\n",
    "    ylab(\" \")+\n",
    "    xlab(\" \")\n",
    "\n",
    "figure2 + theme(\n",
    "  plot.title = element_text(size = 10, face = \"bold\"),\n",
    "  plot.subtitle = element_text(size=8),\n",
    ")"
   ]
  },
  {
   "cell_type": "markdown",
   "metadata": {},
   "source": [
    "## Causes of death by sex\n",
    "The code here will help reproducing the material presented in the section [Causes of death by sex](https://ec.europa.eu/eurostat/statistics-explained/index.php?title=Causes_of_death_statistics).\n",
    " \n",
    "### Figure 3: Causes of death - standardised death rate, EU-27,2016\n",
    "##### First steps: Apply relevant filters\n",
    "- define variable with causes of death relevant for the graphic\n",
    "- keeping only observations of year 2016, EU27_2020, age in total\n",
    "- deleting unused variables & levels from dataset (age, unit, time, geo)\n",
    "- checking structure/ values of ordered dataset (do they match to the graphic) "
   ]
  },
  {
   "cell_type": "code",
   "execution_count": 24,
   "metadata": {},
   "outputs": [],
   "source": [
    "causes2 <- c(\"I20-I25\", #Ischaemic heart diseases\n",
    "            \"I60-I69\", #Cerebrovascular diseases\n",
    "            \"C33_C34\", #Mallignant neoplasms of trachea, broncus and lung\n",
    "            \"J40-J47\", #Chronic lower respiratory diseases\n",
    "             \"ACC\", #Accidents\n",
    "            \"C18-C21\", #Malignant neoplasms of colon, rectosigmoid junction, rectum, anus and anal canal\n",
    "            \"J12-J18\", #Pneumonia\n",
    "            \"E10-E14\", #Diabetes mellitus\n",
    "            \"C25\", #Malignant neoplasms of pancreas\n",
    "            \"C50\", #Malignant neoplasms of breast\n",
    "            \"N00-N29\", #Diseases of kidney and ureter\n",
    "            \"K70_K73_K74\", #Chronic liver disease\n",
    "            \"C16\", #Malignant neoplasms of stomach\n",
    "            \"X60-X84_Y870\", #Intentional self harm\n",
    "            \"F10\", #Mental and behavioural disorders due to use of alcohol\n",
    "            \"B20-B24\", #HIV\n",
    "             \"TOXICO\") #Drug dependence"
   ]
  },
  {
   "cell_type": "code",
   "execution_count": 25,
   "metadata": {},
   "outputs": [
    {
     "name": "stdout",
     "output_type": "stream",
     "text": [
      "Classes 'tbl_df', 'tbl' and 'data.frame':\t51 obs. of  3 variables:\n",
      " $ sex   : Factor w/ 3 levels \"F\",\"M\",\"T\": 1 1 1 1 1 1 1 1 1 1 ...\n",
      " $ icd10 : Factor w/ 17 levels \"ACC\",\"B20-B24\",..: 1 2 3 4 5 6 7 8 9 10 ...\n",
      " $ values: num  21.81 0.27 7.67 23.21 15.04 ...\n"
     ]
    }
   ],
   "source": [
    "data_fig3 <- subset(dataset, dataset$time==2016  & \n",
    "                      dataset$geo==\"EU27_2020\" &\n",
    "                    dataset$icd10 %in% causes2 &\n",
    "                   dataset$age==\"TOTAL\")\n",
    "data_fig3 <- droplevels(data_fig3)\n",
    "data_fig3 <- data_fig3[,-c(1,3,5,6)]\n",
    "str(data_fig3)"
   ]
  },
  {
   "cell_type": "code",
   "execution_count": 26,
   "metadata": {},
   "outputs": [
    {
     "data": {
      "text/html": [
       "<table>\n",
       "<thead><tr><th scope=col>sex</th><th scope=col>icd10</th><th scope=col>values</th></tr></thead>\n",
       "<tbody>\n",
       "\t<tr><td>M      </td><td>I20-I25</td><td>162.46 </td></tr>\n",
       "\t<tr><td>T      </td><td>I20-I25</td><td>119.44 </td></tr>\n",
       "\t<tr><td>M      </td><td>I60-I69</td><td> 90.33 </td></tr>\n",
       "\t<tr><td>F      </td><td>I20-I25</td><td> 88.08 </td></tr>\n",
       "\t<tr><td>M      </td><td>C33_C34</td><td> 83.59 </td></tr>\n",
       "\t<tr><td>T      </td><td>I60-I69</td><td> 81.68 </td></tr>\n",
       "\t<tr><td>F      </td><td>I60-I69</td><td> 74.44 </td></tr>\n",
       "\t<tr><td>T      </td><td>C33_C34</td><td> 52.86 </td></tr>\n",
       "\t<tr><td>M      </td><td>J40-J47</td><td> 47.42 </td></tr>\n",
       "\t<tr><td>M      </td><td>ACC    </td><td> 45.48 </td></tr>\n",
       "\t<tr><td>M      </td><td>C18-C21</td><td> 41.23 </td></tr>\n",
       "\t<tr><td>F      </td><td>C50    </td><td> 32.68 </td></tr>\n",
       "\t<tr><td>T      </td><td>ACC    </td><td> 32.46 </td></tr>\n",
       "\t<tr><td>M      </td><td>J12-J18</td><td> 31.48 </td></tr>\n",
       "\t<tr><td>T      </td><td>J40-J47</td><td> 30.95 </td></tr>\n",
       "\t<tr><td>T      </td><td>C18-C21</td><td> 30.70 </td></tr>\n",
       "\t<tr><td>F      </td><td>C33_C34</td><td> 29.48 </td></tr>\n",
       "\t<tr><td>M      </td><td>E10-E14</td><td> 27.69 </td></tr>\n",
       "\t<tr><td>T      </td><td>E10-E14</td><td> 23.62 </td></tr>\n",
       "\t<tr><td>F      </td><td>C18-C21</td><td> 23.21 </td></tr>\n",
       "</tbody>\n",
       "</table>\n"
      ],
      "text/latex": [
       "\\begin{tabular}{r|lll}\n",
       " sex & icd10 & values\\\\\n",
       "\\hline\n",
       "\t M       & I20-I25 & 162.46 \\\\\n",
       "\t T       & I20-I25 & 119.44 \\\\\n",
       "\t M       & I60-I69 &  90.33 \\\\\n",
       "\t F       & I20-I25 &  88.08 \\\\\n",
       "\t M         & C33\\_C34 &  83.59   \\\\\n",
       "\t T       & I60-I69 &  81.68 \\\\\n",
       "\t F       & I60-I69 &  74.44 \\\\\n",
       "\t T         & C33\\_C34 &  52.86   \\\\\n",
       "\t M       & J40-J47 &  47.42 \\\\\n",
       "\t M       & ACC     &  45.48 \\\\\n",
       "\t M       & C18-C21 &  41.23 \\\\\n",
       "\t F       & C50     &  32.68 \\\\\n",
       "\t T       & ACC     &  32.46 \\\\\n",
       "\t M       & J12-J18 &  31.48 \\\\\n",
       "\t T       & J40-J47 &  30.95 \\\\\n",
       "\t T       & C18-C21 &  30.70 \\\\\n",
       "\t F         & C33\\_C34 &  29.48   \\\\\n",
       "\t M       & E10-E14 &  27.69 \\\\\n",
       "\t T       & E10-E14 &  23.62 \\\\\n",
       "\t F       & C18-C21 &  23.21 \\\\\n",
       "\\end{tabular}\n"
      ],
      "text/markdown": [
       "\n",
       "| sex | icd10 | values |\n",
       "|---|---|---|\n",
       "| M       | I20-I25 | 162.46  |\n",
       "| T       | I20-I25 | 119.44  |\n",
       "| M       | I60-I69 |  90.33  |\n",
       "| F       | I20-I25 |  88.08  |\n",
       "| M       | C33_C34 |  83.59  |\n",
       "| T       | I60-I69 |  81.68  |\n",
       "| F       | I60-I69 |  74.44  |\n",
       "| T       | C33_C34 |  52.86  |\n",
       "| M       | J40-J47 |  47.42  |\n",
       "| M       | ACC     |  45.48  |\n",
       "| M       | C18-C21 |  41.23  |\n",
       "| F       | C50     |  32.68  |\n",
       "| T       | ACC     |  32.46  |\n",
       "| M       | J12-J18 |  31.48  |\n",
       "| T       | J40-J47 |  30.95  |\n",
       "| T       | C18-C21 |  30.70  |\n",
       "| F       | C33_C34 |  29.48  |\n",
       "| M       | E10-E14 |  27.69  |\n",
       "| T       | E10-E14 |  23.62  |\n",
       "| F       | C18-C21 |  23.21  |\n",
       "\n"
      ],
      "text/plain": [
       "   sex icd10   values\n",
       "1  M   I20-I25 162.46\n",
       "2  T   I20-I25 119.44\n",
       "3  M   I60-I69  90.33\n",
       "4  F   I20-I25  88.08\n",
       "5  M   C33_C34  83.59\n",
       "6  T   I60-I69  81.68\n",
       "7  F   I60-I69  74.44\n",
       "8  T   C33_C34  52.86\n",
       "9  M   J40-J47  47.42\n",
       "10 M   ACC      45.48\n",
       "11 M   C18-C21  41.23\n",
       "12 F   C50      32.68\n",
       "13 T   ACC      32.46\n",
       "14 M   J12-J18  31.48\n",
       "15 T   J40-J47  30.95\n",
       "16 T   C18-C21  30.70\n",
       "17 F   C33_C34  29.48\n",
       "18 M   E10-E14  27.69\n",
       "19 T   E10-E14  23.62\n",
       "20 F   C18-C21  23.21"
      ]
     },
     "metadata": {},
     "output_type": "display_data"
    }
   ],
   "source": [
    "head(data_fig3[order(data_fig3$values,decreasing = T),],20)"
   ]
  },
  {
   "cell_type": "markdown",
   "metadata": {},
   "source": [
    "##### Second step: Modify dataset\n",
    "- changing the order within the dataset to get the ranked structure\n",
    "- ranking on the average values of males and females (deleting total of sex) & releveling of the variable icd10 according to ranks\n",
    "- dividing dataset into two parts to be able to visualise two different scales"
   ]
  },
  {
   "cell_type": "code",
   "execution_count": 27,
   "metadata": {},
   "outputs": [
    {
     "data": {
      "text/html": [
       "<table>\n",
       "<thead><tr><th></th><th scope=col>Group.1</th><th scope=col>x</th></tr></thead>\n",
       "<tbody>\n",
       "\t<tr><th scope=row>10</th><td>I20-I25     </td><td>125.270     </td></tr>\n",
       "\t<tr><th scope=row>11</th><td>I60-I69     </td><td> 82.385     </td></tr>\n",
       "\t<tr><th scope=row>6</th><td>C33_C34     </td><td> 56.535     </td></tr>\n",
       "\t<tr><th scope=row>13</th><td>J40-J47     </td><td> 34.195     </td></tr>\n",
       "\t<tr><th scope=row>1</th><td>ACC         </td><td> 33.645     </td></tr>\n",
       "\t<tr><th scope=row>4</th><td>C18-C21     </td><td> 32.220     </td></tr>\n",
       "\t<tr><th scope=row>12</th><td>J12-J18     </td><td> 24.320     </td></tr>\n",
       "\t<tr><th scope=row>8</th><td>E10-E14     </td><td> 24.025     </td></tr>\n",
       "\t<tr><th scope=row>5</th><td>C25         </td><td> 17.595     </td></tr>\n",
       "\t<tr><th scope=row>7</th><td>C50         </td><td> 16.620     </td></tr>\n",
       "\t<tr><th scope=row>15</th><td>N00-N29     </td><td> 15.030     </td></tr>\n",
       "\t<tr><th scope=row>14</th><td>K70_K73_K74 </td><td> 14.920     </td></tr>\n",
       "\t<tr><th scope=row>3</th><td>C16         </td><td> 12.075     </td></tr>\n",
       "\t<tr><th scope=row>17</th><td>X60-X84_Y870</td><td> 11.215     </td></tr>\n",
       "\t<tr><th scope=row>9</th><td>F10         </td><td>  3.520     </td></tr>\n",
       "\t<tr><th scope=row>2</th><td>B20-B24     </td><td>  0.600     </td></tr>\n",
       "\t<tr><th scope=row>16</th><td>TOXICO      </td><td>  0.345     </td></tr>\n",
       "</tbody>\n",
       "</table>\n"
      ],
      "text/latex": [
       "\\begin{tabular}{r|ll}\n",
       "  & Group.1 & x\\\\\n",
       "\\hline\n",
       "\t10 & I20-I25      & 125.270     \\\\\n",
       "\t11 & I60-I69      &  82.385     \\\\\n",
       "\t6 & C33\\_C34      &  56.535       \\\\\n",
       "\t13 & J40-J47      &  34.195     \\\\\n",
       "\t1 & ACC          &  33.645     \\\\\n",
       "\t4 & C18-C21      &  32.220     \\\\\n",
       "\t12 & J12-J18      &  24.320     \\\\\n",
       "\t8 & E10-E14      &  24.025     \\\\\n",
       "\t5 & C25          &  17.595     \\\\\n",
       "\t7 & C50          &  16.620     \\\\\n",
       "\t15 & N00-N29      &  15.030     \\\\\n",
       "\t14 & K70\\_K73\\_K74  &  14.920         \\\\\n",
       "\t3 & C16          &  12.075     \\\\\n",
       "\t17 & X60-X84\\_Y870 &  11.215       \\\\\n",
       "\t9 & F10          &   3.520     \\\\\n",
       "\t2 & B20-B24      &   0.600     \\\\\n",
       "\t16 & TOXICO       &   0.345     \\\\\n",
       "\\end{tabular}\n"
      ],
      "text/markdown": [
       "\n",
       "| <!--/--> | Group.1 | x |\n",
       "|---|---|---|\n",
       "| 10 | I20-I25      | 125.270      |\n",
       "| 11 | I60-I69      |  82.385      |\n",
       "| 6 | C33_C34      |  56.535      |\n",
       "| 13 | J40-J47      |  34.195      |\n",
       "| 1 | ACC          |  33.645      |\n",
       "| 4 | C18-C21      |  32.220      |\n",
       "| 12 | J12-J18      |  24.320      |\n",
       "| 8 | E10-E14      |  24.025      |\n",
       "| 5 | C25          |  17.595      |\n",
       "| 7 | C50          |  16.620      |\n",
       "| 15 | N00-N29      |  15.030      |\n",
       "| 14 | K70_K73_K74  |  14.920      |\n",
       "| 3 | C16          |  12.075      |\n",
       "| 17 | X60-X84_Y870 |  11.215      |\n",
       "| 9 | F10          |   3.520      |\n",
       "| 2 | B20-B24      |   0.600      |\n",
       "| 16 | TOXICO       |   0.345      |\n",
       "\n"
      ],
      "text/plain": [
       "   Group.1      x      \n",
       "10 I20-I25      125.270\n",
       "11 I60-I69       82.385\n",
       "6  C33_C34       56.535\n",
       "13 J40-J47       34.195\n",
       "1  ACC           33.645\n",
       "4  C18-C21       32.220\n",
       "12 J12-J18       24.320\n",
       "8  E10-E14       24.025\n",
       "5  C25           17.595\n",
       "7  C50           16.620\n",
       "15 N00-N29       15.030\n",
       "14 K70_K73_K74   14.920\n",
       "3  C16           12.075\n",
       "17 X60-X84_Y870  11.215\n",
       "9  F10            3.520\n",
       "2  B20-B24        0.600\n",
       "16 TOXICO         0.345"
      ]
     },
     "metadata": {},
     "output_type": "display_data"
    }
   ],
   "source": [
    "data_fig3 <- subset(data_fig3, data_fig3$sex!=\"T\")\n",
    "data_fig3 <- data_fig3[order(data_fig3$values,decreasing=TRUE),]\n",
    "rank_icd <- aggregate(data_fig3$values,by=list(data_fig3$icd10),mean)\n",
    "(rank_icd <- rank_icd[order(rank_icd$x,decreasing=TRUE),])"
   ]
  },
  {
   "cell_type": "code",
   "execution_count": 28,
   "metadata": {},
   "outputs": [
    {
     "data": {
      "text/html": [
       "<table>\n",
       "<thead><tr><th scope=col>sex</th><th scope=col>icd10</th><th scope=col>values</th></tr></thead>\n",
       "<tbody>\n",
       "\t<tr><td>M      </td><td>I20-I25</td><td>162.46 </td></tr>\n",
       "\t<tr><td>M      </td><td>I60-I69</td><td> 90.33 </td></tr>\n",
       "\t<tr><td>F      </td><td>I20-I25</td><td> 88.08 </td></tr>\n",
       "\t<tr><td>M      </td><td>C33_C34</td><td> 83.59 </td></tr>\n",
       "\t<tr><td>F      </td><td>I60-I69</td><td> 74.44 </td></tr>\n",
       "\t<tr><td>M      </td><td>J40-J47</td><td> 47.42 </td></tr>\n",
       "</tbody>\n",
       "</table>\n"
      ],
      "text/latex": [
       "\\begin{tabular}{r|lll}\n",
       " sex & icd10 & values\\\\\n",
       "\\hline\n",
       "\t M       & I20-I25 & 162.46 \\\\\n",
       "\t M       & I60-I69 &  90.33 \\\\\n",
       "\t F       & I20-I25 &  88.08 \\\\\n",
       "\t M         & C33\\_C34 &  83.59   \\\\\n",
       "\t F       & I60-I69 &  74.44 \\\\\n",
       "\t M       & J40-J47 &  47.42 \\\\\n",
       "\\end{tabular}\n"
      ],
      "text/markdown": [
       "\n",
       "| sex | icd10 | values |\n",
       "|---|---|---|\n",
       "| M       | I20-I25 | 162.46  |\n",
       "| M       | I60-I69 |  90.33  |\n",
       "| F       | I20-I25 |  88.08  |\n",
       "| M       | C33_C34 |  83.59  |\n",
       "| F       | I60-I69 |  74.44  |\n",
       "| M       | J40-J47 |  47.42  |\n",
       "\n"
      ],
      "text/plain": [
       "  sex icd10   values\n",
       "1 M   I20-I25 162.46\n",
       "2 M   I60-I69  90.33\n",
       "3 F   I20-I25  88.08\n",
       "4 M   C33_C34  83.59\n",
       "5 F   I60-I69  74.44\n",
       "6 M   J40-J47  47.42"
      ]
     },
     "metadata": {},
     "output_type": "display_data"
    }
   ],
   "source": [
    "head(data_fig3)"
   ]
  },
  {
   "cell_type": "code",
   "execution_count": 29,
   "metadata": {},
   "outputs": [],
   "source": [
    "data_fig31 <- subset(data_fig3, (data_fig3$icd10==\"I20-I25\" | data_fig3$icd10==\"I60-I69\" | data_fig3$icd10==\"C33_C34\"))\n",
    "data_fig32 <- subset(data_fig3, (data_fig3$icd10!=\"I20-I25\" & data_fig3$icd10!=\"I60-I69\" & data_fig3$icd10!=\"C33_C34\"))"
   ]
  },
  {
   "cell_type": "markdown",
   "metadata": {},
   "source": [
    "###### Third step: Create graphic with ggplot2 and patchwork package\n",
    "- using the package ggplot to create the combined bar plot for males and females\n",
    "- creating two seperate barplots (considering the two different scales of y axis) and combining them as last step using the patchwork package: fig1 / fig2\n",
    "- creating the space with aes (causes of death on x axis and values on y axis)\n",
    "- creating the bar plot with geom_bar command, grouped by sex (fill=sex) with bar beside bar (position=\"dodge\"), barwidth\n",
    "- changing x and y axis with coord_flip () to get horizontal bars\n",
    "- setting the values & labels for the axes (with position=\"right\", the y-axis is set to be above the graphic)\n",
    "- deleting the legend for the first graphic as it is only needed once (see second ggplot command, there the legend position is specified)\n",
    "- creating the legend and colors for the bars with scale_fill_manual with sex (colors token from the original with hex code)\n",
    "- deleting labels of the axes\n",
    "- creating the title with subtitle\n",
    "- changing the size of title and subtitle, axis labels"
   ]
  },
  {
   "cell_type": "code",
   "execution_count": 30,
   "metadata": {},
   "outputs": [
    {
     "data": {
      "image/png": "[encoded data removed]",
      "text/plain": [
       "plot without title"
      ]
     },
     "metadata": {},
     "output_type": "display_data"
    }
   ],
   "source": [
    "fig31<- ggplot(data_fig31, aes(x=icd10,y=values)) +\n",
    "            geom_bar(stat = \"identity\",aes(fill=sex),position=\"dodge\",width=0.3) +\n",
    "            coord_flip()+\n",
    "            theme_classic()+\n",
    "            scale_x_discrete(limits=c(\"C33_C34\",\"I60-I69\",\"I20-I25\") ,\n",
    "                             labels=c(\"Malignant neoplasms of trachea, broncus and lung\",\n",
    "                                    \"Cerebrovascular diseases\",\"Ischaemic heart diseases\")) +\n",
    "            scale_y_continuous(position = \"right\",limits = c(0, 180), breaks = seq(0, 180, by = 20))+\n",
    "        theme(legend.position=\"none\")+\n",
    "        scale_fill_manual(labels=c(\"Female\",\"Male\"),values = c(\"#faa519\",\"#286eb4\"), name = \" \")+\n",
    "        ylab(\" \")+\n",
    "        xlab(\" \")+\n",
    "        ggtitle(\"Causes of death - standardised death rate, EU-27,2016\",subtitle=\"per 100 000 inhabitants\")+\n",
    "        theme(axis.text.y=element_text(size=8), plot.title = element_text(size = 11, face = \"bold\"),\n",
    "          plot.subtitle = element_text(size=9),legend.title=element_blank())\n",
    "fig32 <- ggplot(data_fig32, aes(x=icd10,y=values)) +\n",
    "            geom_bar(stat = \"identity\",aes(fill=sex),position=\"dodge\") +\n",
    "            coord_flip()+\n",
    "             theme_classic()+\n",
    "            scale_x_discrete(limits=c(\"TOXICO\",\"B20-B24\",\"F10\",\"X60-X84_Y870\",\"C16\",\"K70_K73_K74\",\"N00-N29\",\"C50\",\"C25\",\n",
    "                                              \"E10-E14\",\"J12-J18\",\"C18-C21\",\"ACC\",\"J40-J47\") ,\n",
    "                             labels=c(\"Drug dependence\",\"HIV\",\"Mental and behavioural disorders due to use of alcohol\",\n",
    "                                     \"Intentional self harm\",\"Malignant neoplasms of stomach\",\"Chronic liver disease\",\n",
    "                                     \"Diseases of kidney and ureter\",\"Malignant neoplasms of breast\",\n",
    "                                      \"Malignant neoplasms of pancreas\",\n",
    "                                     \"Diabetes mellitus\",\"Pneumonia\",\n",
    "                                      \"Malignant neoplasms of colon, rectum...\",\n",
    "                                     \"Accidents\",\"Chronic lower respiratory diseases\")) +\n",
    "            scale_y_continuous(position = \"right\",limits = c(0, 50), breaks = seq(0, 50, by = 10))+\n",
    "        theme(legend.position=\"bottom\",legend.direction=\"vertical\") +\n",
    "        scale_fill_manual(labels=c(\"Female\",\"Male\"),values = c(\"#faa519\",\"#286eb4\"), name = \" \") +\n",
    "        ylab(\" \")+\n",
    "        xlab(\" \")+\n",
    "        theme(axis.text.y=element_text(size=8))\n",
    "fig31 / fig32"
   ]
  },
  {
   "cell_type": "markdown",
   "metadata": {},
   "source": [
    "### Figure 4: Deaths from ischaemic heart diseases - standardized death rate, 2017\n",
    "##### First steps: Apply relevant filters\n",
    "- keeping variable with causes of death relevant for the graphic (ischaemic heart diseases = I20-I25)\n",
    "- keeping only observations of countries specified in countries variable at the beginning, age in total\n",
    "- using the values for year 2017 (for EU27 and France from 2016), creating new values_n variable\n",
    "- deleting unused variables & levels from dataset (age, unit, time,icd-10, old values variable)\n",
    "- checking structure/ values of ordered dataset (do they match to the graphic)"
   ]
  },
  {
   "cell_type": "code",
   "execution_count": 31,
   "metadata": {},
   "outputs": [
    {
     "data": {
      "text/html": [
       "<table>\n",
       "<thead><tr><th scope=col>sex</th><th scope=col>geo</th><th scope=col>values_n</th></tr></thead>\n",
       "<tbody>\n",
       "\t<tr><td>F        </td><td>EU27_2020</td><td> 88.08   </td></tr>\n",
       "\t<tr><td>F        </td><td>FR       </td><td> 28.01   </td></tr>\n",
       "\t<tr><td>M        </td><td>EU27_2020</td><td>162.46   </td></tr>\n",
       "\t<tr><td>M        </td><td>FR       </td><td> 73.64   </td></tr>\n",
       "\t<tr><td>T        </td><td>EU27_2020</td><td>119.44   </td></tr>\n",
       "\t<tr><td>T        </td><td>FR       </td><td> 46.61   </td></tr>\n",
       "</tbody>\n",
       "</table>\n"
      ],
      "text/latex": [
       "\\begin{tabular}{r|lll}\n",
       " sex & geo & values\\_n\\\\\n",
       "\\hline\n",
       "\t F           & EU27\\_2020 &  88.08     \\\\\n",
       "\t F         & FR        &  28.01   \\\\\n",
       "\t M           & EU27\\_2020 & 162.46     \\\\\n",
       "\t M         & FR        &  73.64   \\\\\n",
       "\t T           & EU27\\_2020 & 119.44     \\\\\n",
       "\t T         & FR        &  46.61   \\\\\n",
       "\\end{tabular}\n"
      ],
      "text/markdown": [
       "\n",
       "| sex | geo | values_n |\n",
       "|---|---|---|\n",
       "| F         | EU27_2020 |  88.08    |\n",
       "| F         | FR        |  28.01    |\n",
       "| M         | EU27_2020 | 162.46    |\n",
       "| M         | FR        |  73.64    |\n",
       "| T         | EU27_2020 | 119.44    |\n",
       "| T         | FR        |  46.61    |\n",
       "\n"
      ],
      "text/plain": [
       "  sex geo       values_n\n",
       "1 F   EU27_2020  88.08  \n",
       "2 F   FR         28.01  \n",
       "3 M   EU27_2020 162.46  \n",
       "4 M   FR         73.64  \n",
       "5 T   EU27_2020 119.44  \n",
       "6 T   FR         46.61  "
      ]
     },
     "metadata": {},
     "output_type": "display_data"
    }
   ],
   "source": [
    "data_fig4 <- subset(dataset, (dataset$time==2016 | dataset$time==2017)  & \n",
    "                    dataset$geo %in% countries &\n",
    "                    dataset$icd10==\"I20-I25\" &\n",
    "                   dataset$age==\"TOTAL\")\n",
    "data_fig4 <- droplevels(data_fig4)\n",
    "data_fig4$values_n <- ifelse(data_fig4$time==2017,data_fig4$values,NA)\n",
    "data_fig4[data_fig4$geo==\"FR\",]$values_n <- data_fig4[data_fig4$geo==\"FR\",]$values\n",
    "data_fig4[data_fig4$geo==\"EU27_2020\",]$values_n <- data_fig4[data_fig4$geo==\"EU27_2020\",]$values\n",
    "data_fig4 <- data_fig4[!is.na(data_fig4$values_n),]\n",
    "data_fig4 <- data_fig4[,-c(1,3,4,6,7)]\n",
    "#str(data_fig4)\n",
    "tail(data_fig4)"
   ]
  },
  {
   "cell_type": "markdown",
   "metadata": {},
   "source": [
    "##### Second step: Modify dataset\n",
    "- changing the order within the dataset to get the ranked structure\n",
    "- ranking on the combined values of males and females (using total of sex) & releveling of the variable icd10 according to ranks & structure in original data set)\n",
    "    - EU 27, summarizing category\n",
    "    - EU member countries\n",
    "    - additional members of Schengen area\n",
    "    - candidate countries Serbia and Turkey"
   ]
  },
  {
   "cell_type": "code",
   "execution_count": 32,
   "metadata": {},
   "outputs": [],
   "source": [
    "#(subset(data_fig4,data_fig4$geo == \"EU27_2020\"))"
   ]
  },
  {
   "cell_type": "code",
   "execution_count": 33,
   "metadata": {},
   "outputs": [],
   "source": [
    "#data_fig42 <- subset(data_fig4,data_fig4$geo %in% EU_27 & data_fig4$sex==\"T\")\n",
    "#data_fig42[order(data_fig42$values_n,decreasing=TRUE),]"
   ]
  },
  {
   "cell_type": "code",
   "execution_count": 34,
   "metadata": {},
   "outputs": [
    {
     "ename": "ERROR",
     "evalue": "Error in parse(text = x, srcfile = src): <text>:4:54: Unerwartete(s) ')'\n3:                                 data_fig4$geo == \"NO\" |\n4:                                 data_fig4$geo == \"LI\")\n                                                        ^\n",
     "output_type": "error",
     "traceback": [
      "Error in parse(text = x, srcfile = src): <text>:4:54: Unerwartete(s) ')'\n3:                                 data_fig4$geo == \"NO\" |\n4:                                 data_fig4$geo == \"LI\")\n                                                        ^\nTraceback:\n"
     ]
    }
   ],
   "source": [
    "#data_fig43 <- subset(data_fig4,(data_fig4$geo == \"IS\" | \n",
    "          #                      data_fig4$geo == \"CH\" |\n",
    "           #                    data_fig4$geo == \"NO\" |\n",
    "           #                     data_fig4$geo == \"LI\") \n",
    "            #         & data_fig4$sex==\"T\")\n",
    "#data_fig43[order(data_fig43$values_n,decreasing=TRUE),]"
   ]
  },
  {
   "cell_type": "code",
   "execution_count": null,
   "metadata": {},
   "outputs": [],
   "source": [
    "#data_fig44 <- subset(data_fig4,(data_fig4$geo == \"RS\" | \n",
    "                                data_fig4$geo == \"TR\") \n",
    "                     & data_fig4$sex==\"T\")\n",
    "#data_fig44[order(data_fig44$values_n,decreasing=TRUE),]"
   ]
  },
  {
   "cell_type": "code",
   "execution_count": 36,
   "metadata": {},
   "outputs": [],
   "source": [
    "data_fig4 <- subset(data_fig4,data_fig4$sex !=\"T\")\n",
    "data_fig4$geo <- factor(data_fig4$geo,levels = c(\"EU27_2020\", #EU 27\n",
    "                    \n",
    "            \"LT\", #Lithuania\n",
    "            \"HU\", #Hungary\n",
    "            \"SK\", #Slovakia\n",
    "             \"LV\", #Lativia\n",
    "            \"HR\", #Croatia\n",
    "            \"RO\", #Romania                                     \n",
    "            \"CZ\", #Czechia\n",
    "            \"EE\", #Estonia\n",
    "            \"BG\", #Bulgaria\n",
    "            \"MT\", #Malta\n",
    "            \"FI\", #Finland\n",
    "            \"AT\", #Austria\n",
    "            \"PL\", #Poland\n",
    "            \"DE\", #Germany\n",
    "            \"IE\", #Ireland\n",
    "            \"SE\", #Sweden\n",
    "             \"CY\", #Cyprus\n",
    "            \"EL\", #Greece\n",
    "            \"SI\", #Slovenia\n",
    "            \"IT\", #Italy\n",
    "            \"LU\", #Luxembourg\n",
    "            \"DK\", #Denmark\n",
    "            \"BE\", #Belgium\n",
    "            \"PT\", #Portugal\n",
    "            \"ES\", #Spain                                    \n",
    "             \"NL\", #Netherlands\n",
    "              \"FR\", #France                                 \n",
    "            \"UK\", #United Kingdom                                \n",
    "            \"IS\", #Iceland\n",
    "            \"CH\", #Switzerland\n",
    "            \"NO\", #Norway\n",
    "            \"LI\", #Liechtenstein                                  \n",
    "             \"TR\", #Turkey\n",
    "              \"RS\" ))# Serbia"
   ]
  },
  {
   "cell_type": "markdown",
   "metadata": {},
   "source": [
    "###### Third step: Create graphic with ggplot2\n",
    "- using the package ggplot to create the combined bar plot for males and females\n",
    "- creating the space with aes (causes of death on x axis and values on y axis)\n",
    "- creating the bar plot with geom_bar command, grouped by sex (fill=sex) with bar beside bar (position=\"dodge\"), barwidth\n",
    "- changing the labels of x-axis according to countries\n",
    "- creating the legend and colors for the bars with scale_fill_manual with sex (colors token from the original with hex code)\n",
    "- deleting labels of the axes\n",
    "- creating the title with subtitle\n",
    "- changing the size of title and subtitle, axis label"
   ]
  },
  {
   "cell_type": "code",
   "execution_count": 37,
   "metadata": {},
   "outputs": [],
   "source": [
    "data_fig4$sex <- relevel(data_fig4$sex,ref=\"M\")"
   ]
  },
  {
   "cell_type": "code",
   "execution_count": 38,
   "metadata": {},
   "outputs": [
    {
     "data": {
      "image/png": "[encoded data removed]",
      "text/plain": [
       "plot without title"
      ]
     },
     "metadata": {},
     "output_type": "display_data"
    }
   ],
   "source": [
    "ggplot(data_fig4, aes(x=geo,y=values_n)) +\n",
    "            geom_bar(stat = \"identity\",aes(fill=sex),position=\"dodge\",width=0.8) +\n",
    "            theme_classic()+\n",
    "            scale_x_discrete(limits=c(\"EU27_2020\",\" \",\n",
    "                                      \"LT\", \"HU\",\"SK\",\"LV\",\"HR\",\"RO\",\"CZ\",\"EE\", \"BG\", \"MT\",\"FI\", \"AT\", \"PL\", \"DE\",\n",
    "                \"IE\", \"SE\",\"CY\", \"EL\",\"SI\",\"IT\",\"LU\",\"DK\", \"BE\",\"PT\", \"ES\",  \"NL\",\"FR\",\" \",\n",
    "                                      \"UK\",\" \",\n",
    "                                      \"IS\",\"CH\", \"NO\",\"LI\",\" \",\n",
    "                                      \"TR\",\"RS\" ) ,\n",
    "                             labels=c(\"EU 27\",\" \",\n",
    "                                      \"Lithuania\",\"Hungary\",\"Slovakia\",\"Lativia\",\"Croatia\",\"Romania\",\n",
    "                                      \"Czechia\",\"Estonia\",\"Bulgaria\",\"Malta\",\"Finland\",\"Austria\",\"Poland\",\"Germany\",\n",
    "                                      \"Ireland\",\"Sweden\",\"Cyprus\",\"Greece\",\"Slovenia\",\"Italy\",\"Luxembourg\",\"Denmark\",\n",
    "                                      \"Belgium\",\"Portugal\",\"Spain\",\"Netherlands\",\"France\",\" \",\n",
    "                                      \"United Kingdom\", \" \",\n",
    "                                      \"Iceland\", \"Switzerland\",\"Norway\",\"Liechtenstein\",\" \",\n",
    "                                      \"Turkey\",\"Serbia\")) +\n",
    "            scale_y_continuous(limits = c(0, 800), breaks = seq(0, 800, by = 100))+\n",
    "        theme(legend.position=\"bottom\",legend.direction=\"horizontal\") +\n",
    "        scale_fill_manual(labels=c(\"Male\",\"Female\"),values = c(\"#286eb4\",\"#faa519\"), name = \" \") +\n",
    "        ylab(\" \")+\n",
    "        xlab(\" \")+\n",
    "        ggtitle(\"Deaths from ischaemic heart diseases - standardised death rate,2017\",\n",
    "                subtitle=\"(per 100 000 inhabitants)\")+\n",
    "        theme(axis.text.x=element_text(angle=90,size=9), plot.title = element_text(size = 11, face = \"bold\"),\n",
    "          plot.subtitle = element_text(size=9),legend.title=element_blank())\n"
   ]
  },
  {
   "cell_type": "markdown",
   "metadata": {},
   "source": [
    "### Figure 4: Deaths from suicide - standardized death rate, 2017\n",
    "##### First steps: Apply relevant filters\n",
    "- keeping variable with causes of death relevant for the graphic (ischaemic heart diseases = I20-I25)\n",
    "- keeping only observations of countries specified in countries variable at the beginning, age in total\n",
    "- using the values for year 2017 (for EU27 and France from 2016), creating new values_n variable\n",
    "- deleting unused variables & levels from dataset (age, unit, time,icd-10, old values variable)\n",
    "- checking structure/ values of ordered dataset (do they match to the graphic)"
   ]
  },
  {
   "cell_type": "code",
   "execution_count": 39,
   "metadata": {},
   "outputs": [
    {
     "data": {
      "text/html": [
       "<table>\n",
       "<thead><tr><th scope=col>sex</th><th scope=col>geo</th><th scope=col>values_n</th></tr></thead>\n",
       "<tbody>\n",
       "\t<tr><td>F        </td><td>EU27_2020</td><td> 4.66    </td></tr>\n",
       "\t<tr><td>F        </td><td>FR       </td><td> 5.86    </td></tr>\n",
       "\t<tr><td>M        </td><td>EU27_2020</td><td>17.77    </td></tr>\n",
       "\t<tr><td>M        </td><td>FR       </td><td>21.97    </td></tr>\n",
       "\t<tr><td>T        </td><td>EU27_2020</td><td>10.75    </td></tr>\n",
       "\t<tr><td>T        </td><td>FR       </td><td>13.22    </td></tr>\n",
       "</tbody>\n",
       "</table>\n"
      ],
      "text/latex": [
       "\\begin{tabular}{r|lll}\n",
       " sex & geo & values\\_n\\\\\n",
       "\\hline\n",
       "\t F           & EU27\\_2020 &  4.66      \\\\\n",
       "\t F         & FR        &  5.86    \\\\\n",
       "\t M           & EU27\\_2020 & 17.77      \\\\\n",
       "\t M         & FR        & 21.97    \\\\\n",
       "\t T           & EU27\\_2020 & 10.75      \\\\\n",
       "\t T         & FR        & 13.22    \\\\\n",
       "\\end{tabular}\n"
      ],
      "text/markdown": [
       "\n",
       "| sex | geo | values_n |\n",
       "|---|---|---|\n",
       "| F         | EU27_2020 |  4.66     |\n",
       "| F         | FR        |  5.86     |\n",
       "| M         | EU27_2020 | 17.77     |\n",
       "| M         | FR        | 21.97     |\n",
       "| T         | EU27_2020 | 10.75     |\n",
       "| T         | FR        | 13.22     |\n",
       "\n"
      ],
      "text/plain": [
       "  sex geo       values_n\n",
       "1 F   EU27_2020  4.66   \n",
       "2 F   FR         5.86   \n",
       "3 M   EU27_2020 17.77   \n",
       "4 M   FR        21.97   \n",
       "5 T   EU27_2020 10.75   \n",
       "6 T   FR        13.22   "
      ]
     },
     "metadata": {},
     "output_type": "display_data"
    }
   ],
   "source": [
    "data_fig5 <- subset(dataset, (dataset$time==2016 | dataset$time==2017)  & \n",
    "                    dataset$geo %in% countries &\n",
    "                    dataset$icd10==\"X60-X84_Y870\" &\n",
    "                   dataset$age==\"TOTAL\")\n",
    "data_fig5 <- droplevels(data_fig5)\n",
    "data_fig5$values_n <- ifelse(data_fig5$time==2017,data_fig5$values,NA)\n",
    "data_fig5[data_fig5$geo==\"FR\",]$values_n <- data_fig5[data_fig5$geo==\"FR\",]$values\n",
    "data_fig5[data_fig5$geo==\"EU27_2020\",]$values_n <- data_fig5[data_fig5$geo==\"EU27_2020\",]$values\n",
    "data_fig5 <- data_fig5[!is.na(data_fig5$values_n),]\n",
    "data_fig5 <- data_fig5[,-c(1,3,4,6,7)]\n",
    "#str(data_fig4)\n",
    "tail(data_fig5)"
   ]
  },
  {
   "cell_type": "markdown",
   "metadata": {},
   "source": [
    "##### Second step: Modify dataset\n",
    "- changing the order within the dataset to get the ranked structure\n",
    "- ranking on the combined values of males and females (using total of sex) & releveling of the variable icd10 according to ranks & structure in original data set)\n",
    "    - EU 27, summarizing category\n",
    "    - EU member countries\n",
    "    - additional members of Schengen area\n",
    "    - candidate countries Serbia and Turkey"
   ]
  },
  {
   "cell_type": "code",
   "execution_count": null,
   "metadata": {},
   "outputs": [],
   "source": [
    "data_fig52 <- subset(data_fig5,data_fig5$geo %in% EU_27 & data_fig5$sex==\"T\")\n",
    "data_fig52[order(data_fig52$values_n,decreasing=TRUE),]"
   ]
  },
  {
   "cell_type": "code",
   "execution_count": null,
   "metadata": {},
   "outputs": [],
   "source": [
    "data_fig53 <- subset(data_fig5,(data_fig5$geo == \"IS\" | \n",
    "                                data_fig5$geo == \"CH\" |\n",
    "                                data_fig5$geo == \"NO\" |\n",
    "                                data_fig5$geo == \"LI\") \n",
    "                     & data_fig5$sex==\"T\")\n",
    "data_fig53[order(data_fig43$values_n,decreasing=TRUE),]"
   ]
  },
  {
   "cell_type": "code",
   "execution_count": null,
   "metadata": {},
   "outputs": [],
   "source": [
    "data_fig54 <- subset(data_fig5,(data_fig5$geo == \"RS\" | \n",
    "                                data_fig5$geo == \"TR\") \n",
    "                     & data_fig5$sex==\"T\")\n",
    "data_fig54[order(data_fig54$values_n,decreasing=TRUE),]"
   ]
  },
  {
   "cell_type": "code",
   "execution_count": 40,
   "metadata": {},
   "outputs": [],
   "source": [
    "data_fig5 <- subset(data_fig5,data_fig5$sex !=\"T\")\n",
    "data_fig5$geo <- factor(data_fig5$geo,levels = c(\"EU27_2020\", #EU 27\n",
    "                    \n",
    "            \"LT\", #Lithuania\n",
    "            \"SI\", #Slovenia\n",
    "            \"LV\", #Lativia\n",
    "             \"EE\", #Estonia\n",
    "            \"HU\", #Hungary   \n",
    "             \"BE\", #Belgium                                     \n",
    "            \"FI\", #Finland\n",
    "           \"HR\", #Croatia\n",
    "            \"AT\", #Austria\n",
    "            \"FR\", #France\n",
    "            \"CZ\", #Czechia \n",
    "            \"SE\", #Sweden                                    \n",
    "            \"PL\", #Poland\n",
    "            \"NL\", #Netherlands\n",
    "            \"DE\", #Germany\n",
    "            \"DK\", #Denmark\n",
    "            \"RO\", #Romania\n",
    "            \"BG\", #Bulgaria\n",
    "            \"PT\", #Portugal\n",
    "            \"LU\", #Luxembourg\n",
    "            \"IE\", #Ireland\n",
    "            \"ES\", #Spain                                    \n",
    "             \"SK\", #Slovakia\n",
    "             \"IT\", #Italy                                    \n",
    "              \"MT\", #Malta\n",
    "            \"EL\", #Greece \n",
    "            \"CY\", #Cyprus                                    \n",
    "            \"UK\", #United Kingdom\n",
    "            \"LI\", #Liechtenstein                                      \n",
    "            \"CH\", #Switzerland\n",
    "            \"NO\", #Norway\n",
    "            \"IS\", #Iceland                            \n",
    "             \"RS\", #Serbia\n",
    "              \"TR\" ))#Turkey"
   ]
  },
  {
   "cell_type": "markdown",
   "metadata": {},
   "source": [
    "###### Third step: Create graphic with ggplot2\n",
    "- using the package ggplot to create the combined bar plot for males and females\n",
    "- creating the space with aes (causes of death on x axis and values on y axis)\n",
    "- creating the bar plot with geom_bar command, grouped by sex (fill=sex) with bar beside bar (position=\"dodge\"), barwidth\n",
    "- changing the labels of x-axis according to countries\n",
    "- creating the legend and colors for the bars with scale_fill_manual with sex (colors token from the original with hex code)\n",
    "- deleting labels of the axes\n",
    "- creating the title with subtitle\n",
    "- changing the size of title and subtitle, axis label"
   ]
  },
  {
   "cell_type": "code",
   "execution_count": 41,
   "metadata": {},
   "outputs": [],
   "source": [
    "data_fig5$sex <- relevel(data_fig5$sex,ref=\"M\")"
   ]
  },
  {
   "cell_type": "code",
   "execution_count": 42,
   "metadata": {
    "scrolled": true
   },
   "outputs": [
    {
     "data": {
      "image/png": "[encoded data removed]",
      "text/plain": [
       "plot without title"
      ]
     },
     "metadata": {},
     "output_type": "display_data"
    }
   ],
   "source": [
    "ggplot(data_fig5, aes(x=geo,y=values_n)) +\n",
    "            geom_bar(stat = \"identity\",aes(fill=sex),position=\"dodge\",width=0.8) +\n",
    "            theme_classic()+\n",
    "            scale_x_discrete(limits=c(\"EU27_2020\",\"\",\"LT\",\"SI\",\"LV\",\"EE\",\"HU\", \"BE\",\"FI\", \"HR\",\"AT\", \"FR\",  \"CZ\",\"SE\",\"PL\", \n",
    "                                      \"NL\",\"DE\",\"DK\",\"RO\",\"BG\", \"PT\", \"LU\",\"IE\",\"ES\",\"SK\",\"IT\",\"MT\",\"EL\",\"CY\",\"\",\"UK\", \"\",\n",
    "                                      \"LI\", \"CH\",\"NO\",\"IS\",\"\", \"RS\", \"TR\" ),\n",
    "                             labels=c(\"EU 27\",\"\",\"Lithuania\",\"Slovenia\",\"Lativia\",\"Estonia\",\n",
    "                                      \"Hungary\",\"Belgium\",\"Finland\",\"Croatia\",\"Austria\",\"France\",\n",
    "                                      \"Czechia \",\"Sweden\",\"Poland\",\"Netherlands\",\"Germany\",\"Denmark\",\"Romania\",\n",
    "                                      \"Bulgaria\",\"Portugal\",\"Luxembourg\",\"Ireland\",\"Spain\",\"Slovakia\",\"Italy\",\"Malta\",\n",
    "                                      \"Greece \",\"Cyprus\",\"\",\"United Kingdom\",\"\",\"Liechtenstein\",\"Switzerland\",\n",
    "                                      \"Norway\",\"Iceland\",\"\",\n",
    "                                      \"Serbia\",\"Turkey\")) +\n",
    "            scale_y_continuous(limits = c(0, 50), breaks = seq(0, 50, by = 10))+\n",
    "        theme(legend.position=\"bottom\",legend.direction=\"horizontal\") +\n",
    "        scale_fill_manual(labels=c(\"Male\",\"Female\"),values = c(\"#286eb4\",\"#faa519\"), name = \" \") +\n",
    "        ylab(\" \")+\n",
    "        xlab(\" \")+\n",
    "        ggtitle(\"Deaths suicide - standardised death rate,2017\",\n",
    "                subtitle=\"(per 100 000 inhabitants)\")+\n",
    "        theme(axis.text.x=element_text(angle=90,size=9), plot.title = element_text(size = 11, face = \"bold\"),\n",
    "          plot.subtitle = element_text(size=9),legend.title=element_blank())\n"
   ]
  },
  {
   "cell_type": "markdown",
   "metadata": {},
   "source": [
    "### Figure 5: Causes of death - standardized death rate, ages less than 65, 2017\n",
    "##### First steps: Apply relevant filters\n",
    "- keeping variable with causes of death relevant for the graphic: (C18-C21 = Cororectal cancer,C_33-C34= Lung cancerC=Cancer, , C_50=Breast Cancer, I=Circulatory diseases, I20_I25=Ischaemic heart disease, V_Y85=Transport Accidents)\n",
    "- only inhabitants aged less than 65\n",
    "- EU 27 summarizing category\n",
    "- 2006-2016: using merged dataset_3 from above with data from 2006-2016"
   ]
  },
  {
   "cell_type": "code",
   "execution_count": 54,
   "metadata": {},
   "outputs": [
    {
     "data": {
      "text/html": [
       "<table>\n",
       "<thead><tr><th scope=col>unit</th><th scope=col>sex</th><th scope=col>age</th><th scope=col>icd10</th><th scope=col>geo</th><th scope=col>time</th><th scope=col>values</th></tr></thead>\n",
       "<tbody>\n",
       "\t<tr><td>RT       </td><td>T        </td><td>Y_LT65   </td><td>C        </td><td>EU27_2020</td><td>2016     </td><td>77.33    </td></tr>\n",
       "\t<tr><td>RT       </td><td>T        </td><td>Y_LT65   </td><td>C18-C21  </td><td>EU27_2020</td><td>2016     </td><td> 7.23    </td></tr>\n",
       "\t<tr><td>RT       </td><td>T        </td><td>Y_LT65   </td><td>C33_C34  </td><td>EU27_2020</td><td>2016     </td><td>19.06    </td></tr>\n",
       "\t<tr><td>RT       </td><td>T        </td><td>Y_LT65   </td><td>C50      </td><td>EU27_2020</td><td>2016     </td><td> 7.08    </td></tr>\n",
       "\t<tr><td>RT       </td><td>T        </td><td>Y_LT65   </td><td>I        </td><td>EU27_2020</td><td>2016     </td><td>44.77    </td></tr>\n",
       "\t<tr><td>RT       </td><td>T        </td><td>Y_LT65   </td><td>I20-I25  </td><td>EU27_2020</td><td>2016     </td><td>17.91    </td></tr>\n",
       "</tbody>\n",
       "</table>\n"
      ],
      "text/latex": [
       "\\begin{tabular}{r|lllllll}\n",
       " unit & sex & age & icd10 & geo & time & values\\\\\n",
       "\\hline\n",
       "\t RT          & T           & Y\\_LT65    & C           & EU27\\_2020 & 2016        & 77.33      \\\\\n",
       "\t RT          & T           & Y\\_LT65    & C18-C21     & EU27\\_2020 & 2016        &  7.23      \\\\\n",
       "\t RT          & T           & Y\\_LT65    & C33\\_C34   & EU27\\_2020 & 2016        & 19.06      \\\\\n",
       "\t RT          & T           & Y\\_LT65    & C50         & EU27\\_2020 & 2016        &  7.08      \\\\\n",
       "\t RT          & T           & Y\\_LT65    & I           & EU27\\_2020 & 2016        & 44.77      \\\\\n",
       "\t RT          & T           & Y\\_LT65    & I20-I25     & EU27\\_2020 & 2016        & 17.91      \\\\\n",
       "\\end{tabular}\n"
      ],
      "text/markdown": [
       "\n",
       "| unit | sex | age | icd10 | geo | time | values |\n",
       "|---|---|---|---|---|---|---|\n",
       "| RT        | T         | Y_LT65    | C         | EU27_2020 | 2016      | 77.33     |\n",
       "| RT        | T         | Y_LT65    | C18-C21   | EU27_2020 | 2016      |  7.23     |\n",
       "| RT        | T         | Y_LT65    | C33_C34   | EU27_2020 | 2016      | 19.06     |\n",
       "| RT        | T         | Y_LT65    | C50       | EU27_2020 | 2016      |  7.08     |\n",
       "| RT        | T         | Y_LT65    | I         | EU27_2020 | 2016      | 44.77     |\n",
       "| RT        | T         | Y_LT65    | I20-I25   | EU27_2020 | 2016      | 17.91     |\n",
       "\n"
      ],
      "text/plain": [
       "  unit sex age    icd10   geo       time values\n",
       "1 RT   T   Y_LT65 C       EU27_2020 2016 77.33 \n",
       "2 RT   T   Y_LT65 C18-C21 EU27_2020 2016  7.23 \n",
       "3 RT   T   Y_LT65 C33_C34 EU27_2020 2016 19.06 \n",
       "4 RT   T   Y_LT65 C50     EU27_2020 2016  7.08 \n",
       "5 RT   T   Y_LT65 I       EU27_2020 2016 44.77 \n",
       "6 RT   T   Y_LT65 I20-I25 EU27_2020 2016 17.91 "
      ]
     },
     "metadata": {},
     "output_type": "display_data"
    }
   ],
   "source": [
    "causes_fig6 <- c(\"C18-C21\",\"C33_C34\",\"C\",\"C50\",\"I\",\"I20-I25\",\"V_Y85\")\n",
    "data_fig6 <- subset(dataset_3, dataset_3$geo ==\"EU27_2020\" &\n",
    "                   dataset_3$age ==\"Y_LT65\" &\n",
    "                   dataset_3$icd10 %in% causes_fig6 &\n",
    "                   dataset_3$sex==\"T\")\n",
    "data_fig6 <- droplevels(data_fig6)\n",
    "head(data_fig6)"
   ]
  },
  {
   "cell_type": "markdown",
   "metadata": {},
   "source": [
    "###### Second step: Standardize such that 2006 = 100\n",
    "- taking values from year 2006 for each cause (2009 for lung cancer)\n",
    "- dividing all other respective values with value from 2006/2009 divided by 100"
   ]
  },
  {
   "cell_type": "code",
   "execution_count": 55,
   "metadata": {},
   "outputs": [
    {
     "data": {
      "text/plain": [
       "         \n",
       "          8.2 8.6 9.5 26.6 61.2 91.9\n",
       "  C         0   0   0    0    0    1\n",
       "  C18-C21   1   0   0    0    0    0\n",
       "  C33_C34   0   0   0    0    0    0\n",
       "  C50       0   1   0    0    0    0\n",
       "  I         0   0   0    0    1    0\n",
       "  I20-I25   0   0   0    1    0    0\n",
       "  V_Y85     0   0   1    0    0    0"
      ]
     },
     "metadata": {},
     "output_type": "display_data"
    }
   ],
   "source": [
    "table(data_fig6$icd10[data_fig6$time==2006], data_fig6$values[data_fig6$time==2006])"
   ]
  },
  {
   "cell_type": "code",
   "execution_count": 51,
   "metadata": {},
   "outputs": [
    {
     "data": {
      "text/plain": [
       "         \n",
       "          7.7 7.8 7.9 22 55.5 88.1\n",
       "  C         0   0   0  0    0    1\n",
       "  C18-C21   0   1   0  0    0    0\n",
       "  C33_C34   0   0   0  1    0    0\n",
       "  C50       0   0   1  0    0    0\n",
       "  I         0   0   0  0    1    0\n",
       "  V_Y85     1   0   0  0    0    0"
      ]
     },
     "metadata": {},
     "output_type": "display_data"
    }
   ],
   "source": [
    "table(data_fig6$icd10[data_fig6$time==2009], data_fig6$values[data_fig6$time==2009])"
   ]
  },
  {
   "cell_type": "code",
   "execution_count": 56,
   "metadata": {},
   "outputs": [],
   "source": [
    "data_fig6$values[data_fig6$icd10==\"C\"] <- data_fig6$values[data_fig6$icd10==\"C\"] /0.919\n",
    "data_fig6$values[data_fig6$icd10==\"C18-C21\"] <- data_fig6$values[data_fig6$icd10==\"C18-C21\"] /0.082\n",
    "data_fig6$values[data_fig6$icd10==\"C33_C34\"] <- data_fig6$values[data_fig6$icd10==\"C33_C34\"] /0.220\n",
    "data_fig6$values[data_fig6$icd10==\"C50\"] <- data_fig6$values[data_fig6$icd10==\"C50\"] /0.086\n",
    "data_fig6$values[data_fig6$icd10==\"I\"] <- data_fig6$values[data_fig6$icd10==\"I\"]/0.612\n",
    "data_fig6$values[data_fig6$icd10==\"I20-I25\"] <- data_fig6$values[data_fig6$icd10==\"I20-I25\"]/0.266\n",
    "data_fig6$values[data_fig6$icd10==\"V_Y85\"] <- data_fig6$values[data_fig6$icd10==\"V_Y85\"]/0.095"
   ]
  },
  {
   "cell_type": "markdown",
   "metadata": {},
   "source": [
    "###### Third step: Create graphic with ggplot2\n",
    "- using the package ggplot to create the line plot for different diseases\n",
    "- creating the space with aes (years on x axis and values on y axis), grouped by causes of deaths\n",
    "- creating the plot with geom_line command, colors according to causes of deaths\n",
    "- adding a horizontal line for values/ death rate = 100\n",
    "- adding a title\n",
    "- changing the labels & limits of x-axis & y-axis according to countries\n",
    "- creating the legend and colors for the bars with scale_fill_manual with sex (colors token from the original with hex code)\n",
    "- deleting labels of the axes\n",
    "- changing the size of title and subtitle, axis label"
   ]
  },
  {
   "cell_type": "code",
   "execution_count": 60,
   "metadata": {},
   "outputs": [
    {
     "name": "stderr",
     "output_type": "stream",
     "text": [
      "Warning message:\n",
      "\"Removed 24 rows containing missing values (geom_path).\""
     ]
    },
    {
     "data": {
      "image/png": "[encoded data removed]",
      "text/plain": [
       "plot without title"
      ]
     },
     "metadata": {},
     "output_type": "display_data"
    }
   ],
   "source": [
    "figure1 <- ggplot(data_fig6, aes(x=time,y=values, group=icd10)) +\n",
    "    geom_line(aes(color=icd10),lwd=0.7) + \n",
    "    geom_hline(yintercept=100,lty=2) +\n",
    "    ggtitle(\"Causes of death - standardised death rate per 100 000 inhabitants,\n",
    "    aged less than 65, EU-27,2006-2016\",subtitle=\"2006=100\") +\n",
    "    scale_y_continuous(limits = c(0, 130), breaks = seq(0, 130, by = 10)) +\n",
    "    scale_x_continuous(limits = c(2006, 2016), breaks = seq(2006, 2016, by = 1)) +\n",
    "    theme_classic()+\n",
    "    theme(legend.position=\"bottom\",legend.direction=\"vertical\") +\n",
    "    scale_color_manual(labels = c(\"Cancer (malignant neoplasms)\",\"Colorectal cancer\", \"Lung Cancer\",\n",
    "                                  \"Breast Cancer\",\"Circulatory Diseases\",\"Ischaemic heart diseases\",\"Transport accidents\"), \n",
    "            values = c(\"#3074b7\",\"#50bbbb\",\"#c1e7e7\",\"#9bbad8\",\"#f7d7a1\",\"#fbc160\",\"#cbd258\"),name = \" \") +\n",
    "    ylab(\" \")+\n",
    "    xlab(\" \")\n",
    "\n",
    "figure1 + theme(\n",
    "  plot.title = element_text(size = 10, face = \"bold\"),\n",
    "  plot.subtitle = element_text(size=8),\n",
    ")"
   ]
  }
 ],
 "metadata": {
  "colab": {
   "name": "eu_int_trade_transport_R.ipynb",
   "provenance": []
  },
  "kernelspec": {
   "display_name": "R",
   "language": "R",
   "name": "ir"
  },
  "language_info": {
   "codemirror_mode": "r",
   "file_extension": ".r",
   "mimetype": "text/x-r-source",
   "name": "R",
   "pygments_lexer": "r",
   "version": "3.6.1"
  }
 },
 "nbformat": 4,
 "nbformat_minor": 1
}
