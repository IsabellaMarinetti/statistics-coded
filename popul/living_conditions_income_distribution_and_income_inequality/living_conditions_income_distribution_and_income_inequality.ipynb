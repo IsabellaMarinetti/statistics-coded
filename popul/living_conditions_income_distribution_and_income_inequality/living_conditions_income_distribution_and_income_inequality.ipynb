{
 "cells": [
  {
   "cell_type": "markdown",
   "metadata": {},
   "source": [
    "## *Statistics coded:* Living conditions in Europe - income distribution and income inequality \n",
    "\n",
    "Prepared by [**Rodrigo González Santamaría**](rodrgo07@ucm.es) (EMOS).\n",
    "\n",
    "This notebook aims at illustrating the *Statistics Explained* article on [Living conditions in Europe - income distribution and income inequality](https://ec.europa.eu/eurostat/statistics-explained/index.php?title=Living_conditions_in_Europe_-_income_distribution_and_income_inequality).\n"
   ]
  },
  {
   "cell_type": "markdown",
   "metadata": {},
   "source": [
    "### Settings\n",
    "\n",
    "Put all libraries/packages/modules/etc... that are necessary so that you can run this notebook."
   ]
  },
  {
   "cell_type": "code",
   "execution_count": null,
   "metadata": {},
   "outputs": [],
   "source": [
    "from eurostatapiclient import EurostatAPIClient\n",
    "import json\n",
    "import numpy as np\n",
    "import pandas as pd\n",
    "import seaborn as sns\n",
    "import matplotlib.pyplot as plt\n",
    "import matplotlib.ticker as ticker\n",
    "import matplotlib.patches as mpatches\n",
    "import matplotlib.pyplot as mplt\n",
    "import matplotlib.dates as mdates\n",
    "from matplotlib.ticker import FuncFormatter, MaxNLocator, IndexLocator\n",
    "import geopandas as gpd\n",
    "import requests\n",
    "import io, os, re, sys\n",
    "import warnings\n",
    "import copy, functools\n",
    "import zipfile\n",
    "import folium\n",
    "import branca\n",
    "\n",
    "legend_properties = {'weight':'bold','size':'12'}\n",
    "countries_names = {'AT':'Austria', 'BE':'Belgium', 'BG':'Bulgaria', 'CY': 'Cyprus', 'CZ': 'Czechia', 'DE': 'Germany', 'DK':\n",
    "            'Denmark', 'EE':'Estonia', 'EL': 'Greece', 'ES':'Spain', 'FI':'Finland', 'FR':'France', 'HR':'Croatia', \n",
    "            'HU':'Hungary', 'IE':'Ireland', 'IT':'Italy', 'LT':'Lithuania', 'LU':'Luxembourg', 'LV':'Latvia', 'MT':\n",
    "            'Malta', 'NL':'Netherlands', 'PL':'Poland', 'PT':'Portugal', 'RO':'Romania', 'SE':'Sweden', 'SI':'Slovenia',\n",
    "            'SK':'Slovakia', 'UK':'United Kingdom', 'EU28': 'EU-28'}\n",
    "countries_abbr = ['AT','BE','BG','CY','CZ','DE','DK','EE','EL','ES','FI',\n",
    "                  'FR','HR','HU','IE','IT','LT','LU','LV','NV','NL','PL','PT','RO','SE','SI','SK','UK','MT', 'EU28']"
   ]
  },
  {
   "cell_type": "code",
   "execution_count": null,
   "metadata": {},
   "outputs": [],
   "source": [
    "#Set versions and formats, so far only the ones used here are availeable and call client\n",
    "VERSION = 'v2.1'\n",
    "FORMAT = 'json'\n",
    "LANGUAGE = 'en'\n",
    "client = EurostatAPIClient(VERSION, FORMAT, LANGUAGE)"
   ]
  },
  {
   "cell_type": "code",
   "execution_count": null,
   "metadata": {},
   "outputs": [],
   "source": [
    "# We save the direc\n",
    "_THISDIR_ = !pwd\n",
    "print('Current working directory: %s' % _THISDIR_)"
   ]
  },
  {
   "cell_type": "markdown",
   "metadata": {},
   "source": [
    "### General overview\n",
    "- **Key Findings**\n",
    "- **Income distribution**\n",
    "- **Income inequality**\n"
   ]
  },
  {
   "cell_type": "markdown",
   "metadata": {},
   "source": [
    "### Documentation"
   ]
  },
  {
   "cell_type": "markdown",
   "metadata": {},
   "source": [
    "### Setting Map"
   ]
  },
  {
   "cell_type": "code",
   "execution_count": null,
   "metadata": {},
   "outputs": [],
   "source": [
    "# Graph the shape of Europe\n",
    "# We first select the projection that will be used in this graph\n",
    "PROJ = 'EPSG:4326'"
   ]
  },
  {
   "cell_type": "code",
   "execution_count": null,
   "metadata": {},
   "outputs": [],
   "source": [
    "# We can then integrate the NUTS data [https://nbviewer.jupyter.org/github/eurostat/mortality-viz/blob/master/02_mortality_european_regions.ipynb]\n",
    "GISCO_DOMAIN = 'https://gisco-services.ec.europa.eu/distribution/v2/'\n",
    "NUTS_DOMAIN = 'nuts'\n",
    "\n",
    "NUTS_YEAR = 2021\n",
    "NUTS_RES = 20 # 60\n",
    "NUTS_PROJ = PROJ.split(':')[-1] \n",
    "NUTS_FMT = 'geojson' # 'topojson'\n",
    "\n",
    "nuts_template = 'NUTS_RG_%sM_%s_%s_LEVL_%%s.%s' % (NUTS_RES, NUTS_YEAR, NUTS_PROJ, NUTS_FMT) \n",
    "nuts_url = '%s/%s/%s' %  (GISCO_DOMAIN, NUTS_DOMAIN, NUTS_FMT)\n",
    "\n",
    "# https://gisco-services.ec.europa.eu/distribution/v2/nuts/geojson/NUTS_RG_20M_2021_3857_LEVL_1.geojson\n",
    "#    'NUTS_RG_%sM_%s_3035_LEVL_%s.%s'\n",
    "\n",
    "print(\"Generic URL for NUTS data: \\033[1m%s/%s\\033[0m (where '%%s' represents a level)\" \n",
    "      % (nuts_url, nuts_template))"
   ]
  },
  {
   "cell_type": "code",
   "execution_count": null,
   "metadata": {},
   "outputs": [],
   "source": [
    "# We download the different NUTS data (hay cuatro niveles, cada uno de ellos corresponde a una division territorial)\n",
    "\n",
    "LEVELS = [0,1,2,3]\n",
    "\n",
    "nuts_files = dict.fromkeys(LEVELS)\n",
    "nuts_ext = NUTS_FMT\n",
    "\n",
    "for level in LEVELS:\n",
    "    nuts_file = nuts_template % level\n",
    "    nuts_source = '%s/%s' % (nuts_url,nuts_file)\n",
    "    try : \n",
    "        dest = os.path.join(_THISDIR_[0], nuts_file)\n",
    "        assert os.path.exists(dest)\n",
    "    except:\n",
    "        try:\n",
    "            !wget -O $dest \"$nuts_source\"\n",
    "            #!mkdir $nuts_dir\n",
    "            #!unzip -u -d $nuts_dir $nuts_source        \n",
    "        except:\n",
    "            raise IOError(\"Error fetching the data...\")\n",
    "        else:\n",
    "            print('Data loaded on disk in directory: \\033[1m%s\\033[0m' % dest)\n",
    "    else:\n",
    "        print('Data already loaded on disk in directory: \\033[1m%s\\033[0m' % dest)\n",
    "    finally:\n",
    "        nuts_files.update({level: nuts_file}) # dest"
   ]
  },
  {
   "cell_type": "code",
   "execution_count": null,
   "metadata": {},
   "outputs": [],
   "source": [
    "# We 'store' one vector dataset per NUTS level (nuts_data)\n",
    "\n",
    "DRIVERS = {'geojson': 'GeoJSON',\n",
    "          'shp': 'ESRI Shapefile'}\n",
    "\n",
    "nuts_data = dict.fromkeys(LEVELS)\n",
    "[nuts_data.update({l: gpd.read_file(os.path.join(_THISDIR_[0], nuts_files[l]), \n",
    "                                    driver=DRIVERS[NUTS_FMT])}) \n",
    " for l in LEVELS]\n",
    "\n",
    "print(\"Geographical datasets: \\033[1m%s\\033[0m loaded\" % list(nuts_files.values()))\n",
    "print(\"Projection: \\033[1m%s\\033[0m\" % nuts_data[LEVELS[0]].crs)"
   ]
  },
  {
   "cell_type": "code",
   "execution_count": null,
   "metadata": {},
   "outputs": [],
   "source": [
    "# Map of NUTS data (sin visualizar datos)\n",
    "level = LEVELS[0]\n",
    "\n",
    "f, ax = mplt.subplots(1, figsize=(16, 16))\n",
    "nuts_data[level].plot(ax=ax)\n",
    "ax.axes.get_xaxis().set_visible(False); ax.axes.get_yaxis().set_visible(False)\n",
    "ax.set_title(\"NUTS at level %s (projection 'EPSG:%s')\" % (level,NUTS_PROJ)) \n",
    "f.tight_layout()\n",
    "mplt.show()"
   ]
  },
  {
   "cell_type": "markdown",
   "metadata": {},
   "source": [
    "### Key findings\n",
    "\n",
    "*Ibid*, the code here will help reproducing the material presented in the section [Key findings](https://ec.europa.eu/eurostat/statistics-explained/index.php?title=Living_conditions_in_Europe_-_poverty_and_social_exclusion#Key_findings)."
   ]
  },
  {
   "cell_type": "markdown",
   "metadata": {},
   "source": [
    "### Income distribution\n",
    "\n",
    "*Ibid*, the code here will help reproducing the material presented in the section [Income distribution](https://ec.europa.eu/eurostat/statistics-explained/index.php?title=Living_conditions_in_Europe_-_income_distribution_and_income_inequality#Income_distribution)."
   ]
  },
  {
   "cell_type": "markdown",
   "metadata": {},
   "source": [
    "**Map-1 Median equivalised disposable income in the EU-27**"
   ]
  },
  {
   "cell_type": "code",
   "execution_count": null,
   "metadata": {},
   "outputs": [],
   "source": [
    "# We define query of dataframes from Eurostat query builder\n",
    "\n",
    "dataset_map1_query = 'ilc_di03?precision=1&sex=T&indic_il=MED_E&geo=AT&geo=BE&geo=BG&geo=CH&geo=CY&geo=CZ&geo=DE&geo=DK&geo=EE&geo=EL&geo=ES&geo=EU27_2020&geo=FI&geo=FR&geo=HR&geo=HU&geo=IE&geo=IS&geo=IT&geo=LT&geo=LU&geo=LV&geo=ME&geo=MK&geo=MT&geo=NL&geo=NO&geo=PL&geo=PT&geo=RO&geo=RS&geo=SE&geo=SI&geo=SK&geo=TR&geo=UK&unit=PPS&time=2018&age=TOTAL'\n",
    "\n",
    "# We use this query to retriev the data from the API Client\n",
    "dataset_map1 = client.get_dataset(dataset_map1_query).to_dataframe().sort_values(by = ['values'],ascending = False)\n",
    "\n",
    "# Simplificamos la base de datos incluyendo solo las columnas que necesitamos para la visualización\n",
    "datasetOK_map1 = dataset_map1[['values', 'geo']]\n"
   ]
  },
  {
   "cell_type": "code",
   "execution_count": 35,
   "metadata": {},
   "outputs": [
    {
     "name": "stdout",
     "output_type": "stream",
     "text": [
      "Dimensions of the table: [36, 2]\n"
     ]
    },
    {
     "data": {
      "text/html": [
       "<div>\n",
       "<style scoped>\n",
       "    .dataframe tbody tr th:only-of-type {\n",
       "        vertical-align: middle;\n",
       "    }\n",
       "\n",
       "    .dataframe tbody tr th {\n",
       "        vertical-align: top;\n",
       "    }\n",
       "\n",
       "    .dataframe thead th {\n",
       "        text-align: right;\n",
       "    }\n",
       "</style>\n",
       "<table border=\"1\" class=\"dataframe\">\n",
       "  <thead>\n",
       "    <tr style=\"text-align: right;\">\n",
       "      <th></th>\n",
       "      <th>values</th>\n",
       "      <th>geo</th>\n",
       "    </tr>\n",
       "  </thead>\n",
       "  <tbody>\n",
       "    <tr>\n",
       "      <th>20</th>\n",
       "      <td>32158.0</td>\n",
       "      <td>LU</td>\n",
       "    </tr>\n",
       "    <tr>\n",
       "      <th>3</th>\n",
       "      <td>27066.0</td>\n",
       "      <td>CH</td>\n",
       "    </tr>\n",
       "    <tr>\n",
       "      <th>26</th>\n",
       "      <td>26300.0</td>\n",
       "      <td>NO</td>\n",
       "    </tr>\n",
       "    <tr>\n",
       "      <th>0</th>\n",
       "      <td>23204.0</td>\n",
       "      <td>AT</td>\n",
       "    </tr>\n",
       "    <tr>\n",
       "      <th>6</th>\n",
       "      <td>21980.0</td>\n",
       "      <td>DE</td>\n",
       "    </tr>\n",
       "  </tbody>\n",
       "</table>\n",
       "</div>"
      ],
      "text/plain": [
       "     values geo\n",
       "20  32158.0  LU\n",
       "3   27066.0  CH\n",
       "26  26300.0  NO\n",
       "0   23204.0  AT\n",
       "6   21980.0  DE"
      ]
     },
     "execution_count": 35,
     "metadata": {},
     "output_type": "execute_result"
    }
   ],
   "source": [
    "print('Dimensions of the table: %s' % list(datasetOK_map1.shape))\n",
    "datasetOK_map1.head(5)"
   ]
  },
  {
   "cell_type": "code",
   "execution_count": null,
   "metadata": {},
   "outputs": [],
   "source": []
  },
  {
   "cell_type": "markdown",
   "metadata": {},
   "source": [
    "### Income inequality\n",
    "\n",
    "*Ibid*, the code here will help reproducing the material presented in the section [Income inequality](https://ec.europa.eu/eurostat/statistics-explained/index.php?title=Living_conditions_in_Europe_-_income_distribution_and_income_inequality#Income_inequality)."
   ]
  },
  {
   "cell_type": "code",
   "execution_count": null,
   "metadata": {},
   "outputs": [],
   "source": []
  }
 ],
 "metadata": {
  "kernelspec": {
   "display_name": "Python 3",
   "language": "python",
   "name": "python3"
  },
  "language_info": {
   "codemirror_mode": {
    "name": "ipython",
    "version": 3
   },
   "file_extension": ".py",
   "mimetype": "text/x-python",
   "name": "python",
   "nbconvert_exporter": "python",
   "pygments_lexer": "ipython3",
   "version": "3.8.3"
  }
 },
 "nbformat": 4,
 "nbformat_minor": 4
}
