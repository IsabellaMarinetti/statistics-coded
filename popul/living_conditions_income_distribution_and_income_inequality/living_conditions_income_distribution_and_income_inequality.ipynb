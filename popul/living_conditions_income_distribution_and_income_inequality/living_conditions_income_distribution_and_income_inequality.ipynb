{
 "cells": [
  {
   "cell_type": "markdown",
   "metadata": {},
   "source": [
    "## *Statistics coded:* Living conditions in Europe - income distribution and income inequality \n",
    "\n",
    "Prepared by [**Rodrigo González Santamaría**](rodrgo07@ucm.es) (EMOS).\n",
    "\n",
    "This notebook aims at illustrating the *Statistics Explained* article on [Living conditions in Europe - income distribution and income inequality](https://ec.europa.eu/eurostat/statistics-explained/index.php?title=Living_conditions_in_Europe_-_income_distribution_and_income_inequality).\n"
   ]
  },
  {
   "cell_type": "markdown",
   "metadata": {},
   "source": [
    "### Settings\n",
    "\n",
    "Put all libraries/packages/modules/etc... that are necessary so that you can run this notebook."
   ]
  },
  {
   "cell_type": "code",
   "execution_count": null,
   "metadata": {},
   "outputs": [],
   "source": [
    "from eurostatapiclient import EurostatAPIClient\n",
    "import json\n",
    "import numpy as np\n",
    "import pandas as pd\n",
    "import seaborn as sns\n",
    "import matplotlib.pyplot as plt\n",
    "import matplotlib.ticker as ticker\n",
    "import matplotlib.patches as mpatches\n",
    "import matplotlib.pyplot as mplt\n",
    "import matplotlib.dates as mdates\n",
    "from matplotlib.ticker import FuncFormatter, MaxNLocator, IndexLocator\n",
    "from shapely import geometry\n",
    "import geopandas as gpd\n",
    "import requests\n",
    "import io, os, re, sys\n",
    "import warnings\n",
    "import copy, functools\n",
    "import zipfile\n",
    "import folium\n",
    "from folium import plugins as foliump\n",
    "import branca.colormap as bcm\n",
    "\n",
    "legend_properties = {'weight':'bold','size':'12'}\n",
    "countries_names = {'AT':'Austria', 'BE':'Belgium', 'BG':'Bulgaria', 'CY': 'Cyprus', 'CZ': 'Czechia', 'DE': 'Germany', 'DK':\n",
    "            'Denmark', 'EE':'Estonia', 'EL': 'Greece', 'ES':'Spain', 'FI':'Finland', 'FR':'France', 'HR':'Croatia', \n",
    "            'HU':'Hungary', 'IE':'Ireland', 'IT':'Italy', 'LT':'Lithuania', 'LU':'Luxembourg', 'LV':'Latvia', 'MT':\n",
    "            'Malta', 'NL':'Netherlands', 'PL':'Poland', 'PT':'Portugal', 'RO':'Romania', 'SE':'Sweden', 'SI':'Slovenia',\n",
    "            'SK':'Slovakia', 'UK':'United Kingdom', 'EU28': 'EU-28'}\n",
    "countries_abbr = ['AT','BE','BG','CY','CZ','DE','DK','EE','EL','ES','FI',\n",
    "                  'FR','HR','HU','IE','IT','LT','LU','LV','NV','NL','PL','PT','RO','SE','SI','SK','UK','MT', 'EU28']"
   ]
  },
  {
   "cell_type": "code",
   "execution_count": null,
   "metadata": {},
   "outputs": [],
   "source": [
    "#Set versions and formats, so far only the ones used here are availeable and call client\n",
    "VERSION = 'v2.1'\n",
    "FORMAT = 'json'\n",
    "LANGUAGE = 'en'\n",
    "client = EurostatAPIClient(VERSION, FORMAT, LANGUAGE)"
   ]
  },
  {
   "cell_type": "code",
   "execution_count": null,
   "metadata": {},
   "outputs": [],
   "source": [
    "# We save the direc\n",
    "_THISDIR_ = !pwd\n",
    "print('Current working directory: %s' % _THISDIR_)"
   ]
  },
  {
   "cell_type": "markdown",
   "metadata": {},
   "source": [
    "### General overview\n",
    "- **Key Findings**\n",
    "- **Income distribution**\n",
    "- **Income inequality**\n"
   ]
  },
  {
   "cell_type": "markdown",
   "metadata": {},
   "source": [
    "### Documentation"
   ]
  },
  {
   "cell_type": "markdown",
   "metadata": {},
   "source": [
    "### Setting Map"
   ]
  },
  {
   "cell_type": "code",
   "execution_count": null,
   "metadata": {},
   "outputs": [],
   "source": [
    "# Graph the shape of Europe\n",
    "# We first select the projection that will be used in this graph\n",
    "PROJ = 'EPSG:4326'"
   ]
  },
  {
   "cell_type": "code",
   "execution_count": null,
   "metadata": {},
   "outputs": [],
   "source": [
    "# We can then integrate the NUTS data [https://nbviewer.jupyter.org/github/eurostat/mortality-viz/blob/master/02_mortality_european_regions.ipynb]\n",
    "GISCO_DOMAIN = 'https://gisco-services.ec.europa.eu/distribution/v2/'\n",
    "NUTS_DOMAIN = 'nuts'\n",
    "\n",
    "NUTS_YEAR = 2021\n",
    "NUTS_RES = 20 # 60\n",
    "NUTS_PROJ = PROJ.split(':')[-1] \n",
    "NUTS_FMT = 'geojson' # 'topojson'\n",
    "\n",
    "nuts_template = 'NUTS_RG_%sM_%s_%s_LEVL_%%s.%s' % (NUTS_RES, NUTS_YEAR, NUTS_PROJ, NUTS_FMT) \n",
    "nuts_url = '%s/%s/%s' %  (GISCO_DOMAIN, NUTS_DOMAIN, NUTS_FMT)\n",
    "\n",
    "# https://gisco-services.ec.europa.eu/distribution/v2/nuts/geojson/NUTS_RG_20M_2021_3857_LEVL_1.geojson\n",
    "#    'NUTS_RG_%sM_%s_3035_LEVL_%s.%s'\n",
    "\n",
    "print(\"Generic URL for NUTS data: \\033[1m%s/%s\\033[0m (where '%%s' represents a level)\" \n",
    "      % (nuts_url, nuts_template))"
   ]
  },
  {
   "cell_type": "code",
   "execution_count": null,
   "metadata": {},
   "outputs": [],
   "source": [
    "# We download the different NUTS data (there are four levels, each one corresponds to a different administrative divition level)\n",
    "\n",
    "LEVELS = [0,1,2,3]\n",
    "\n",
    "nuts_files = dict.fromkeys(LEVELS)\n",
    "nuts_ext = NUTS_FMT\n",
    "\n",
    "for level in LEVELS:\n",
    "    nuts_file = nuts_template % level\n",
    "    nuts_source = '%s/%s' % (nuts_url,nuts_file)\n",
    "    try : \n",
    "        dest = os.path.join(_THISDIR_[0], nuts_file)\n",
    "        assert os.path.exists(dest)\n",
    "    except:\n",
    "        try:\n",
    "            !wget -O $dest \"$nuts_source\"\n",
    "            #!mkdir $nuts_dir\n",
    "            #!unzip -u -d $nuts_dir $nuts_source        \n",
    "        except:\n",
    "            raise IOError(\"Error fetching the data...\")\n",
    "        else:\n",
    "            print('Data loaded on disk in directory: \\033[1m%s\\033[0m' % dest)\n",
    "    else:\n",
    "        print('Data already loaded on disk in directory: \\033[1m%s\\033[0m' % dest)\n",
    "    finally:\n",
    "        nuts_files.update({level: nuts_file}) # dest"
   ]
  },
  {
   "cell_type": "code",
   "execution_count": null,
   "metadata": {},
   "outputs": [],
   "source": [
    "# We 'store' one vector dataset per NUTS level (nuts_data)\n",
    "\n",
    "DRIVERS = {'geojson': 'GeoJSON',\n",
    "          'shp': 'ESRI Shapefile'}\n",
    "\n",
    "nuts_data = dict.fromkeys(LEVELS)\n",
    "[nuts_data.update({l: gpd.read_file(os.path.join(_THISDIR_[0], nuts_files[l]), \n",
    "                                    driver=DRIVERS[NUTS_FMT])}) \n",
    " for l in LEVELS]\n",
    "\n",
    "print(\"Geographical datasets: \\033[1m%s\\033[0m loaded\" % list(nuts_files.values()))\n",
    "print(\"Projection: \\033[1m%s\\033[0m\" % nuts_data[LEVELS[0]].crs)"
   ]
  },
  {
   "cell_type": "code",
   "execution_count": null,
   "metadata": {},
   "outputs": [],
   "source": [
    "# Map of NUTS data (sin visualizar datos)\n",
    "level = LEVELS[0]\n",
    "\n",
    "f, ax = mplt.subplots(1, figsize=(16, 16))\n",
    "nuts_data[level].plot(ax=ax)\n",
    "ax.axes.get_xaxis().set_visible(False); ax.axes.get_yaxis().set_visible(False)\n",
    "ax.set_title(\"NUTS at level %s (projection 'EPSG:%s')\" % (level,NUTS_PROJ)) \n",
    "f.tight_layout()\n",
    "mplt.show()"
   ]
  },
  {
   "cell_type": "code",
   "execution_count": null,
   "metadata": {},
   "outputs": [],
   "source": [
    "# We define a very coarse bounding box that is embedded in the NUTS bounding box (NUTSarea) so as to render the data in a smaller region\n",
    "EUmask = geometry.Polygon([#w: -25.5, s:35, e:30.2, n:71.3 in EPSG:4326 system\n",
    "                         (-25.5, 30.2),\n",
    "                         (45.3,  30.2),\n",
    "                         (45.3,  71.3),\n",
    "                         (-25.5, 71.3)\n",
    "])\n",
    "EUclip = gpd.GeoDataFrame(index=[0], geometry=[EUmask], crs=PROJ)\n",
    "\n",
    "NUTSarea = gpd.GeoDataFrame(index=[0], geometry=[nuts_data[0].unary_union], crs=PROJ)\n",
    "\n",
    "\n",
    "f, ax = mplt.subplots(1, figsize=(16, 10))\n",
    "EUclip.boundary.plot(ax=ax, color='r', label='clip area')\n",
    "NUTSarea.boundary.plot(ax=ax, color='b', label='NUTS area')\n",
    "ax.axes.get_xaxis().set_visible(False); ax.axes.get_yaxis().set_visible(False)\n",
    "ax.set_title('Clipped domain of representation')\n",
    "ax.legend()\n",
    "mplt.show()"
   ]
  },
  {
   "cell_type": "markdown",
   "metadata": {},
   "source": [
    "## Key findings\n",
    "\n",
    "*Ibid*, the code here will help reproducing the material presented in the section [Key findings](https://ec.europa.eu/eurostat/statistics-explained/index.php?title=Living_conditions_in_Europe_-_poverty_and_social_exclusion#Key_findings)."
   ]
  },
  {
   "cell_type": "markdown",
   "metadata": {},
   "source": [
    "## Income distribution\n",
    "\n",
    "*Ibid*, the code here will help reproducing the material presented in the section [Income distribution](https://ec.europa.eu/eurostat/statistics-explained/index.php?title=Living_conditions_in_Europe_-_income_distribution_and_income_inequality#Income_distribution)."
   ]
  },
  {
   "cell_type": "markdown",
   "metadata": {},
   "source": [
    "### **MAP 1: Median equivalised disposable income in the EU-27**"
   ]
  },
  {
   "cell_type": "code",
   "execution_count": null,
   "metadata": {},
   "outputs": [],
   "source": [
    "# We define query of dataframes from Eurostat query builder\n",
    "\n",
    "dataset_map1_query = 'ilc_di03?precision=1&sex=T&indic_il=MED_E&geo=AT&geo=BE&geo=BG&geo=CH&geo=CY&geo=CZ&geo=DE&geo=DK&geo=EE&geo=EL&geo=ES&geo=EU27_2020&geo=FI&geo=FR&geo=HR&geo=HU&geo=IE&geo=IS&geo=IT&geo=LT&geo=LU&geo=LV&geo=ME&geo=MK&geo=MT&geo=NL&geo=NO&geo=PL&geo=PT&geo=RO&geo=RS&geo=SE&geo=SI&geo=SK&geo=TR&geo=UK&unit=PPS&time=2018&age=TOTAL'\n",
    "\n",
    "# We use this query to retriev the data from the API Client\n",
    "dataset_map1 = client.get_dataset(dataset_map1_query).to_dataframe().sort_values(by = ['values'],ascending = False)\n",
    "\n",
    "# Simplify the dataset and change \n",
    "dataset_map1 = dataset_map1[['geo','values']]\n",
    "dataset_map1.rename(columns=lambda x: x.strip(), inplace=True)\n",
    "\n",
    "dataset_map1.head(n=5)"
   ]
  },
  {
   "cell_type": "code",
   "execution_count": null,
   "metadata": {},
   "outputs": [],
   "source": [
    "# We add a conditional variable to set the colors of the map\n",
    "trace = []\n",
    "colors = []\n",
    "for value in dataset_map1['values']:\n",
    "    if value< 10000:\n",
    "        colors.append('papayawhip')\n",
    "    elif value< 15000:\n",
    "        colors.append('bisque')\n",
    "    elif value< 20000:\n",
    "        colors.append('sandybrown')\n",
    "    elif value< 25000:\n",
    "        colors.append('orange')\n",
    "    elif value >25000:\n",
    "        colors.append('orangered')\n",
    "    else:\n",
    "        colors.append('darkgrey')\n",
    "dataset_map1['colors'] = colors\n",
    "\n",
    "dataset_map1.head(n = 5)"
   ]
  },
  {
   "cell_type": "code",
   "execution_count": null,
   "metadata": {},
   "outputs": [],
   "source": [
    "# Check which data/countries (DATA_NUTS_ID) are actually made available throughout the dataset\n",
    "KEY = 'NUTS_ID'\n",
    "\n",
    "NUTS_ID = dict.fromkeys(LEVELS)\n",
    "CTRY_ID = dict.fromkeys(LEVELS) \n",
    "\n",
    "for l in LEVELS:\n",
    "    NUTS_ID.update({l: nuts_data[l][KEY].unique().tolist()})\n",
    "    CTRY_ID.update({l: list(set([_id[:2] for _id in NUTS_ID[l]]))})\n",
    "    \n",
    "DATA_NUTS_ID = dict.fromkeys(LEVELS) \n",
    "all_id = dataset_map1['geo'].unique().tolist()\n",
    "\n",
    "print('Data are availalble:') \n",
    "for l in LEVELS:\n",
    "    DATA_NUTS_ID.update({l: list(set([_id[:2] for _id in all_id if len(_id)==l+2]))})\n",
    "    print('* NUTS level %s: \\033[1m%s\\033[0m' \n",
    "          % (l, DATA_NUTS_ID[l]))"
   ]
  },
  {
   "cell_type": "code",
   "execution_count": null,
   "metadata": {},
   "outputs": [],
   "source": [
    "# Check which country/datasets are missing\n",
    "MISSING_CTRY_ID = dict.fromkeys(LEVELS) \n",
    "\n",
    "print('Data are NOT availalble:') \n",
    "for l in LEVELS:\n",
    "    MISSING_CTRY_ID.update({l: list(set(CTRY_ID[l]).difference(set(DATA_NUTS_ID[l])))})\n",
    "    print('* NUTS level %s: \\033[1m%s\\033[0m' \n",
    "          % (l, MISSING_CTRY_ID[l]))"
   ]
  },
  {
   "cell_type": "code",
   "execution_count": null,
   "metadata": {},
   "outputs": [],
   "source": [
    "# Prepare dataframe to merge the NUTS DATA\n",
    "dataset_map1.rename(columns = {'geo':'NUTS_ID'}, inplace = True)\n",
    "dataset_map1.head(n = 5)"
   ]
  },
  {
   "cell_type": "code",
   "execution_count": null,
   "metadata": {},
   "outputs": [],
   "source": [
    "# We merge NUTS_Data and Dataset_map1\n",
    "country_data = nuts_data[LEVELS[0]]\n",
    "\n",
    "# Merge on NUTS_ID\n",
    "income_nuts = pd.merge(country_data, dataset_map1, how = 'inner', on = 'NUTS_ID') \n",
    "income_nuts.head()\n",
    "\n",
    "colors = income_nuts['colors']"
   ]
  },
  {
   "cell_type": "code",
   "execution_count": null,
   "metadata": {},
   "outputs": [],
   "source": [
    "LEVEL = 0\n",
    "crop = gpd.clip(income_nuts, EUclip)\n",
    "# crop = nuts_death_data[LEVEL].intersection(EUclip.unary_union) \n",
    "\n",
    "f, ax = mplt.subplots(1, figsize=(25, 20))\n",
    "crop.plot(color=colors, ax=ax,  legend = True,\n",
    "          legend_kwds = {'shrink':0.55},\n",
    "          missing_kwds={ \"color\": \"lightgrey\", \"alpha\": 0.2, \"edgecolor\": \"grey\", \"hatch\": \"///\"}\n",
    "         )\n",
    "\n",
    "crop.boundary.plot(ax = ax, color = 'black')\n",
    "ax.set_axis_off()\n",
    "ax.set_title('Median equivalised disposable income, 2018', fontsize=30,fontweight='bold', horizontalalignment = 'cent', x = 0, y =1.05)\n",
    "# f.tight_layout()\n",
    "#f.subplots_adjust(hspace=0,wspace=-1)\n",
    "\n",
    "# f.tight_layout()\n",
    "#f.subplots_adjust(hspace=0,wspace=-1)\n",
    "\n",
    "#Create custom legend\n",
    "\n",
    "papayawhip_patch = mpatches.Patch(color='papayawhip', label='<10000')\n",
    "bisque_patch = mpatches.Patch(color='bisque', label='>=10000 - <15000')\n",
    "sandybrown_patch = mpatches.Patch(color='sandybrown', label='>=15000 - <20000')\n",
    "orange_patch = mpatches.Patch(color='orange', label='>=20000 - <25000')\n",
    "orangered_patch = mpatches.Patch(color='orangered', label='>=25000')\n",
    "\n",
    "darkgrey_patch = mpatches.Patch(color='darkgrey', label='No data available')\n",
    "\n",
    "leg= ax.legend(handles=[papayawhip_patch, sandybrown_patch, bisque_patch, orange_patch, orangered_patch, darkgrey_patch],frameon=False, loc=(0, -0.1), ncol=1, prop={'weight':'bold','size':'15'},labelspacing=0.5, handlelength=1)"
   ]
  },
  {
   "cell_type": "markdown",
   "metadata": {},
   "source": [
    "### **Figure 1: Median equivalised disposable income of the population aged 18-64 years, analysed by educational level, 2018 (PPS per inhabitant)**"
   ]
  },
  {
   "cell_type": "markdown",
   "metadata": {},
   "source": [
    "### Income inequality\n",
    "\n",
    "*Ibid*, the code here will help reproducing the material presented in the section [Income inequality](https://ec.europa.eu/eurostat/statistics-explained/index.php?title=Living_conditions_in_Europe_-_income_distribution_and_income_inequality#Income_inequality)."
   ]
  },
  {
   "cell_type": "code",
   "execution_count": null,
   "metadata": {},
   "outputs": [],
   "source": []
  },
  {
   "cell_type": "code",
   "execution_count": null,
   "metadata": {},
   "outputs": [],
   "source": []
  }
 ],
 "metadata": {
  "kernelspec": {
   "display_name": "firstEnv",
   "language": "python",
   "name": "firstenv"
  },
  "language_info": {
   "codemirror_mode": {
    "name": "ipython",
    "version": 3
   },
   "file_extension": ".py",
   "mimetype": "text/x-python",
   "name": "python",
   "nbconvert_exporter": "python",
   "pygments_lexer": "ipython3",
   "version": "3.8.3"
  }
 },
 "nbformat": 4,
 "nbformat_minor": 4
}
