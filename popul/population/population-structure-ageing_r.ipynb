{
 "cells": [
  {
   "cell_type": "markdown",
   "metadata": {},
   "source": [
    "# *Statistics coded*: Population structure and ageing\n",
    "\n",
    "Prepared by [**Isabella Marinetti**](isabella.marinetti@studio.unibo.it) ([EMOS](https://ec.europa.eu/eurostat/web/european-statistical-system/emos)).\n",
    "\n",
    "This notebook aims at reproducing the *Statistics Explained* article on [**population structure and ageing**](https://ec.europa.eu/eurostat/statistics-explained/index.php?title=Population_structure_and_ageing#The_share_of_elderly_people_continues_to_increase).\n",
    "\n",
    "The original article looks at the impact of demographic ageing within the [European Union (EU)](https://ec.europa.eu/eurostat/statistics-explained/index.php?title=Glossary:European_Union_(EU)), considering EFTA countries (Norway, Liechtenstein, Switzerland and Iceland) and other potential member states, alongside with the United Kingdom. \n",
    "Consistently low birth rates and higher life expectancy are transforming the shape of the EU-27’s age pyramid; probably the most important change will be the marked transition towards a much older population structure, a development which is already apparent in several EU-27 Member States.\n",
    "\n",
    "As a result, the proportion of people of working age in the EU-27 is shrinking while the relative number of those retired is expanding. This will, in turn, lead to an increased burden on those of working age to provide for the social expenditure required by the ageing population for a range of related services. "
   ]
  },
  {
   "cell_type": "markdown",
   "metadata": {},
   "source": [
    "## Configuration\n",
    "\n",
    "1. Install the required packages:"
   ]
  },
  {
   "cell_type": "code",
   "execution_count": 1,
   "metadata": {},
   "outputs": [],
   "source": [
    "#install.packages(c(\"ggplot2\", tidyr\", \"plyr\", \"repr\", \"dplyr\", \"devtools\", \"restatapi\",\"reshape2\", \"plotly\", \"forcats\", \"scales\", \"kableExtra\", \"knitr\",\"IRdisplay\"))"
   ]
  },
  {
   "cell_type": "markdown",
   "metadata": {},
   "source": [
    "2. Load the packages:"
   ]
  },
  {
   "cell_type": "code",
   "execution_count": 2,
   "metadata": {
    "scrolled": false
   },
   "outputs": [
    {
     "name": "stderr",
     "output_type": "stream",
     "text": [
      "Warning message:\n",
      "\"package 'ggplot2' was built under R version 3.6.3\"Warning message:\n",
      "\"package 'tidyr' was built under R version 3.6.3\"Warning message:\n",
      "\"package 'plyr' was built under R version 3.6.2\"Warning message:\n",
      "\"package 'repr' was built under R version 3.6.3\"Warning message:\n",
      "\"package 'dplyr' was built under R version 3.6.3\"\n",
      "Attaching package: 'dplyr'\n",
      "\n",
      "The following objects are masked from 'package:plyr':\n",
      "\n",
      "    arrange, count, desc, failwith, id, mutate, rename, summarise,\n",
      "    summarize\n",
      "\n",
      "The following objects are masked from 'package:stats':\n",
      "\n",
      "    filter, lag\n",
      "\n",
      "The following objects are masked from 'package:base':\n",
      "\n",
      "    intersect, setdiff, setequal, union\n",
      "\n",
      "Warning message:\n",
      "\"package 'devtools' was built under R version 3.6.3\"Loading required package: usethis\n",
      "Warning message:\n",
      "\"package 'usethis' was built under R version 3.6.3\"Warning message:\n",
      "\"package 'restatapi' was built under R version 3.6.3\"restatapi: - config file with the API version 1 loaded from GitHub (the 'current' API version number is 1).\n",
      "           - 2 from the 8 cores are used for parallel computing.\n",
      "           - 'auto' will be used for file download.\n",
      "           - the Table of contents (TOC) was not pre-loaded into the deafult cache ('.restatapi_env').\n",
      "Warning message:\n",
      "\"package 'reshape2' was built under R version 3.6.2\"\n",
      "Attaching package: 'reshape2'\n",
      "\n",
      "The following object is masked from 'package:tidyr':\n",
      "\n",
      "    smiths\n",
      "\n",
      "Warning message:\n",
      "\"package 'plotly' was built under R version 3.6.3\"\n",
      "Attaching package: 'plotly'\n",
      "\n",
      "The following objects are masked from 'package:plyr':\n",
      "\n",
      "    arrange, mutate, rename, summarise\n",
      "\n",
      "The following object is masked from 'package:ggplot2':\n",
      "\n",
      "    last_plot\n",
      "\n",
      "The following object is masked from 'package:stats':\n",
      "\n",
      "    filter\n",
      "\n",
      "The following object is masked from 'package:graphics':\n",
      "\n",
      "    layout\n",
      "\n",
      "Warning message:\n",
      "\"package 'forcats' was built under R version 3.6.3\"Warning message:\n",
      "\"package 'scales' was built under R version 3.6.3\"Warning message:\n",
      "\"package 'kableExtra' was built under R version 3.6.3\"\n",
      "Attaching package: 'kableExtra'\n",
      "\n",
      "The following object is masked from 'package:dplyr':\n",
      "\n",
      "    group_rows\n",
      "\n",
      "Warning message:\n",
      "\"package 'knitr' was built under R version 3.6.2\"Warning message:\n",
      "\"package 'IRdisplay' was built under R version 3.6.3\""
     ]
    }
   ],
   "source": [
    "library(ggplot2)\n",
    "library(tidyr)\n",
    "library(plyr)\n",
    "library(repr)\n",
    "library(dplyr)\n",
    "library(devtools)\n",
    "library(restatapi)\n",
    "library(reshape2)\n",
    "library(plotly)\n",
    "library(forcats)\n",
    "library(scales)\n",
    "library(kableExtra)\n",
    "library(knitr)\n",
    "library(IRdisplay)"
   ]
  },
  {
   "cell_type": "markdown",
   "metadata": {},
   "source": [
    "## Past and future population ageing trends in the EU-27"
   ]
  },
  {
   "cell_type": "markdown",
   "metadata": {},
   "source": [
    "### Figure 1: Population pyramids, EU-27, 2004 and 2019\n",
    "\n",
    "Before loading the dataset \"*Population on 1 January by age group and sex*\" from [_Eurostat_ API](https://ec.europa.eu/eurostat/web/json-and-unicode-web-services/getting-started/rest-request) (with the id [_demo_pjangroup_](https://ec.europa.eu/eurostat/en/web/products-datasets/-/DEMO_PJANGROUP)) we need to define the subset of group ages (`ageclass`) we are interested in:"
   ]
  },
  {
   "cell_type": "code",
   "execution_count": 3,
   "metadata": {},
   "outputs": [],
   "source": [
    "ageclass <- c(\"Y_LT5\", \"Y5-9\", \"Y10-14\", \"Y15-19\", \"Y20-24\", \"Y25-29\", \"Y30-34\", \"Y35-39\", \"Y40-44\",\n",
    "              \"Y45-49\", \"Y50-54\", \"Y55-59\", \"Y60-64\", \"Y65-69\", \"Y70-74\", \"Y75-79\", \"Y80-84\", \"Y_GE85\")"
   ]
  },
  {
   "cell_type": "markdown",
   "metadata": {},
   "source": [
    "- Choose the dataset with the R function `get_eurostat_data`, filtering the data with the information we need: `geo` entity (`\"EU27_2020\"`), `time` (*2004* and *2019*), `sex` (`\"M\"`, `\"F\"`) and the group of `age` (`ageclass`):"
   ]
  },
  {
   "cell_type": "code",
   "execution_count": 4,
   "metadata": {},
   "outputs": [],
   "source": [
    "assign(\"dmethod\",\"curl\",envir=.restatapi_env) \n",
    "dataset1 <- get_eurostat_data(id=\"demo_pjangroup\", filters=list(geo=\"EU27_2020\", age=ageclass, sex=c(\"M\",\"F\")), \n",
    "                              date_filter=c(2004,2019))"
   ]
  },
  {
   "cell_type": "markdown",
   "metadata": {},
   "source": [
    "- Change the labels of the variable `age`, so that the graph will be more readable:"
   ]
  },
  {
   "cell_type": "code",
   "execution_count": 5,
   "metadata": {},
   "outputs": [],
   "source": [
    "levels(dataset1$age) <- list(\"<5\"=\"Y_LT5\", \"5-9\"= \"Y5-9\", \"10-14\"= \"Y10-14\", \n",
    "                             \"15-19\"=\"Y15-19\", \"20-24\"=\"Y20-24\", \"25-29\"=\"Y25-29\", \n",
    "                             \"30-34\"=\"Y30-34\", \"35-39\"=\"Y35-39\", \"40-44\"= \"Y40-44\",\n",
    "                             \"45-49\"= \"Y45-49\", \"50-54\"= \"Y50-54\", \"55-59\"= \"Y55-59\", \n",
    "                             \"60-64\"=\"Y60-64\", \"65-69\"=\"Y65-69\", \"70-74\"=\"Y70-74\", \n",
    "                             \"75-79\"=\"Y75-79\", \"80-84\"=\"Y80-84\", \"85+\" =\"Y_GE85\")"
   ]
  },
  {
   "cell_type": "markdown",
   "metadata": {},
   "source": [
    "- Define the total amount of people for the two years, in this way it will be easier to compute the percentages:"
   ]
  },
  {
   "cell_type": "code",
   "execution_count": 6,
   "metadata": {},
   "outputs": [
    {
     "data": {
      "text/html": [
       "<table>\n",
       "<caption>A data.table: 6 × 6</caption>\n",
       "<thead>\n",
       "\t<tr><th scope=col>unit</th><th scope=col>age</th><th scope=col>sex</th><th scope=col>geo</th><th scope=col>time</th><th scope=col>values</th></tr>\n",
       "\t<tr><th scope=col>&lt;fct&gt;</th><th scope=col>&lt;fct&gt;</th><th scope=col>&lt;fct&gt;</th><th scope=col>&lt;fct&gt;</th><th scope=col>&lt;fct&gt;</th><th scope=col>&lt;dbl&gt;</th></tr>\n",
       "</thead>\n",
       "<tbody>\n",
       "\t<tr><td>NR</td><td>10-14</td><td>F</td><td>EU27_2020</td><td>2004</td><td>12392609</td></tr>\n",
       "\t<tr><td>NR</td><td>10-14</td><td>F</td><td>EU27_2020</td><td>2019</td><td>11322538</td></tr>\n",
       "\t<tr><td>NR</td><td>10-14</td><td>M</td><td>EU27_2020</td><td>2004</td><td>13022330</td></tr>\n",
       "\t<tr><td>NR</td><td>10-14</td><td>M</td><td>EU27_2020</td><td>2019</td><td>11947145</td></tr>\n",
       "\t<tr><td>NR</td><td>15-19</td><td>F</td><td>EU27_2020</td><td>2004</td><td>13126800</td></tr>\n",
       "\t<tr><td>NR</td><td>15-19</td><td>F</td><td>EU27_2020</td><td>2019</td><td>11227333</td></tr>\n",
       "</tbody>\n",
       "</table>\n"
      ],
      "text/latex": [
       "A data.table: 6 × 6\n",
       "\\begin{tabular}{llllll}\n",
       " unit & age & sex & geo & time & values\\\\\n",
       " <fct> & <fct> & <fct> & <fct> & <fct> & <dbl>\\\\\n",
       "\\hline\n",
       "\t NR & 10-14 & F & EU27\\_2020 & 2004 & 12392609\\\\\n",
       "\t NR & 10-14 & F & EU27\\_2020 & 2019 & 11322538\\\\\n",
       "\t NR & 10-14 & M & EU27\\_2020 & 2004 & 13022330\\\\\n",
       "\t NR & 10-14 & M & EU27\\_2020 & 2019 & 11947145\\\\\n",
       "\t NR & 15-19 & F & EU27\\_2020 & 2004 & 13126800\\\\\n",
       "\t NR & 15-19 & F & EU27\\_2020 & 2019 & 11227333\\\\\n",
       "\\end{tabular}\n"
      ],
      "text/markdown": [
       "\n",
       "A data.table: 6 × 6\n",
       "\n",
       "| unit &lt;fct&gt; | age &lt;fct&gt; | sex &lt;fct&gt; | geo &lt;fct&gt; | time &lt;fct&gt; | values &lt;dbl&gt; |\n",
       "|---|---|---|---|---|---|\n",
       "| NR | 10-14 | F | EU27_2020 | 2004 | 12392609 |\n",
       "| NR | 10-14 | F | EU27_2020 | 2019 | 11322538 |\n",
       "| NR | 10-14 | M | EU27_2020 | 2004 | 13022330 |\n",
       "| NR | 10-14 | M | EU27_2020 | 2019 | 11947145 |\n",
       "| NR | 15-19 | F | EU27_2020 | 2004 | 13126800 |\n",
       "| NR | 15-19 | F | EU27_2020 | 2019 | 11227333 |\n",
       "\n"
      ],
      "text/plain": [
       "  unit age   sex geo       time values  \n",
       "1 NR   10-14 F   EU27_2020 2004 12392609\n",
       "2 NR   10-14 F   EU27_2020 2019 11322538\n",
       "3 NR   10-14 M   EU27_2020 2004 13022330\n",
       "4 NR   10-14 M   EU27_2020 2019 11947145\n",
       "5 NR   15-19 F   EU27_2020 2004 13126800\n",
       "6 NR   15-19 F   EU27_2020 2019 11227333"
      ]
     },
     "metadata": {},
     "output_type": "display_data"
    }
   ],
   "source": [
    "tot2019 <- sum(dataset1[time==\"2019\"]$values)\n",
    "tot2004 <- sum(dataset1[time==\"2004\"]$values)\n",
    "head(dataset1)"
   ]
  },
  {
   "cell_type": "markdown",
   "metadata": {},
   "source": [
    "Use of the *options* function to control the size of the graphs (in this case: `width=5` and `height=5`):"
   ]
  },
  {
   "cell_type": "code",
   "execution_count": 7,
   "metadata": {},
   "outputs": [],
   "source": [
    "options(repr.plot.width=5, repr.plot.height=5)"
   ]
  },
  {
   "cell_type": "markdown",
   "metadata": {},
   "source": [
    "Use of the function `ggplot` to create the pyramid of age graph:\n",
    "- create the space with `aes` (the variable  `age` on the x axis and `values` on the y axis, filling the bars with the two categories of `sex`: *male* and *female*),\n",
    "- add the barplots with respect of `sex` and `time`: define a subspace to compute percentages, specify a minus (`-`) before the values of males, in this way the two barplots will be mirrored, add a colour (*orange* for females and *blue* for males) and the fill term to distinguish the reference year (solid colour for *2019*, bordered colour for *2004*),\n",
    "- set the `coord_flip` function, so that the cartesian coordinates will be shown in a vertical way,\n",
    "- add the `title`, `subtitle` and `caption`,\n",
    "- specify the *theme*, in this case we choose the white background `theme_bw` with grid lines."
   ]
  },
  {
   "cell_type": "code",
   "execution_count": 8,
   "metadata": {},
   "outputs": [
    {
     "data": {
      "image/png": "[encoded data removed]",
      "text/plain": [
       "plot without title"
      ]
     },
     "metadata": {},
     "output_type": "display_data"
    }
   ],
   "source": [
    "plot1 <- ggplot(dataset1, aes(x=age , y=values, fill= sex,)) + \n",
    "\n",
    "  geom_bar(data=subset(dataset1, sex == \"F\" & time==\"2019\" ),aes(y=(values)/tot2019*100), fill=\"orange\", stat = \"identity\") + \n",
    "  geom_bar(data=subset(dataset1,sex == \"M\" &time==\"2019\"),aes(y=(-values)/tot2019*100), fill=\"steelblue\", stat = \"identity\") +\n",
    "  geom_bar(data=subset(dataset1, sex == \"F\" & time==\"2004\" ),aes(y=(values)/tot2004*100),fill=\"transparent\", colour=\"#FFCC00\", size=1, stat = \"identity\") + \n",
    "  geom_bar(data=subset(dataset1,sex == \"M\" &time==\"2004\"),aes(y=(-values)/tot2004*100), fill=\"transparent\", colour=\"lightblue\", size=1, stat = \"identity\") +\n",
    "  scale_x_discrete(limits= c(\"<5\",\"5-9\", \"10-14\", \"15-19\",\"20-24\",\"25-29\",\"30-34\", \"35-39\", \"40-44\",\"45-49\",\"50-54\",\"55-59\",\"60-64\",\"65-69\",\"70-74\", \"75-79\",\"80-84\", \"85+\")) +\n",
    "  coord_flip()+\n",
    "  labs(title = \"Population pyramids, EU-27, 2004 and 2019\",\n",
    "       subtitle = \"(% of the total population)\",\n",
    "       caption = \"Solid colour: 2019 Bordered: 2004\") +\n",
    "  theme_bw()\n",
    "  \n",
    "print(plot1)"
   ]
  },
  {
   "cell_type": "markdown",
   "metadata": {},
   "source": [
    "### Figure 2:  Population pyramids, EU-27, 2019 and 2100\n",
    "\n",
    "Load the dataset with the `R` function `get_eurostat_data`, filtering the data with the information we need: \n",
    "- first of all selecting the dataset *Population on 1st January by age, sex and type of projection* ([_proj_19np_](https://ec.europa.eu/eurostat/web/products-datasets/-/proj_19np)),\n",
    "- `geo` entity: `\"EU-27_2020\"`,\n",
    "- `time`: *2019* and *2100*,\n",
    "- `sex`: `\"M\"`, `\"F\"`,\n",
    "- finally, the *baseline* (`\"BSL\"`) projections."
   ]
  },
  {
   "cell_type": "code",
   "execution_count": 9,
   "metadata": {},
   "outputs": [],
   "source": [
    "assign(\"dmethod\",\"curl\",envir=.restatapi_env) \n",
    "dataset2 <- get_eurostat_data(id=\"proj_19np\", \n",
    "                              filters=list(geo=\"EU27_2020\", sex=c(\"M\",\"F\"), projection=\"BSL\"))[time %in% c(2019,2100)]"
   ]
  },
  {
   "cell_type": "markdown",
   "metadata": {},
   "source": [
    "- Define a value for the *total* amount of population in 2019 and 2100 to compute percentages.\n",
    "- Delete the *total* amount of population from the dataset, so that it will not be visualized in the graph."
   ]
  },
  {
   "cell_type": "code",
   "execution_count": 10,
   "metadata": {},
   "outputs": [],
   "source": [
    "totproj2019 <- sum(dataset2[dataset2$time==\"2019\"& dataset2$age==\"TOTAL\"]$values)\n",
    "totproj2100 <- sum(dataset2[dataset2$time==\"2100\" & dataset2$age==\"TOTAL\"]$values)\n",
    "dataset2 <- filter(dataset2, dataset2$age!=\"TOTAL\")"
   ]
  },
  {
   "cell_type": "markdown",
   "metadata": {},
   "source": [
    "In the dataset `age` is not divided into five year classes. The main problem is that the variable `age` is a factor with levels (\"Y1\", \"Y2\", ...), so we firstly need to take only the part of the string concerning the number of years (1, 2, 3, ...) through the function `substr`.\n",
    "\n",
    "Before applying the function, we need to rename the first and the last levels of the variable, so that they will have the same format for each year:"
   ]
  },
  {
   "cell_type": "code",
   "execution_count": 11,
   "metadata": {},
   "outputs": [],
   "source": [
    "levels(dataset2$age)[levels(dataset2$age)==\"Y_GE100\"] <- \"Y100\"\n",
    "levels(dataset2$age)[levels(dataset2$age)==\"Y_LT1\"] <- \"Y0\""
   ]
  },
  {
   "cell_type": "markdown",
   "metadata": {},
   "source": [
    "Then we need to transform the variable `age` from a factor to a character, in this way we can apply the function `substr`:\n",
    "  - the function takes as input the variable of interest and then the specification of the *start* (the number of the first character to be returned) and the *stop*, in this case they will be *2* and *4*, because we want to extrapolate the number from 0 to 100, eliminating the \"Y\" part"
   ]
  },
  {
   "cell_type": "code",
   "execution_count": 12,
   "metadata": {},
   "outputs": [
    {
     "data": {
      "text/html": [
       "<table>\n",
       "<caption>A data.table: 6 × 7</caption>\n",
       "<thead>\n",
       "\t<tr><th scope=col>unit</th><th scope=col>age</th><th scope=col>sex</th><th scope=col>projection</th><th scope=col>geo</th><th scope=col>time</th><th scope=col>values</th></tr>\n",
       "\t<tr><th scope=col>&lt;fct&gt;</th><th scope=col>&lt;chr&gt;</th><th scope=col>&lt;fct&gt;</th><th scope=col>&lt;fct&gt;</th><th scope=col>&lt;fct&gt;</th><th scope=col>&lt;fct&gt;</th><th scope=col>&lt;dbl&gt;</th></tr>\n",
       "</thead>\n",
       "<tbody>\n",
       "\t<tr><td>PER</td><td>1 </td><td>F</td><td>BSL</td><td>EU27_2020</td><td>2019</td><td>2101911</td></tr>\n",
       "\t<tr><td>PER</td><td>1 </td><td>F</td><td>BSL</td><td>EU27_2020</td><td>2100</td><td>1838642</td></tr>\n",
       "\t<tr><td>PER</td><td>1 </td><td>M</td><td>BSL</td><td>EU27_2020</td><td>2019</td><td>2211096</td></tr>\n",
       "\t<tr><td>PER</td><td>1 </td><td>M</td><td>BSL</td><td>EU27_2020</td><td>2100</td><td>1944673</td></tr>\n",
       "\t<tr><td>PER</td><td>10</td><td>F</td><td>BSL</td><td>EU27_2020</td><td>2019</td><td>2324280</td></tr>\n",
       "\t<tr><td>PER</td><td>10</td><td>F</td><td>BSL</td><td>EU27_2020</td><td>2100</td><td>1911172</td></tr>\n",
       "</tbody>\n",
       "</table>\n"
      ],
      "text/latex": [
       "A data.table: 6 × 7\n",
       "\\begin{tabular}{lllllll}\n",
       " unit & age & sex & projection & geo & time & values\\\\\n",
       " <fct> & <chr> & <fct> & <fct> & <fct> & <fct> & <dbl>\\\\\n",
       "\\hline\n",
       "\t PER & 1  & F & BSL & EU27\\_2020 & 2019 & 2101911\\\\\n",
       "\t PER & 1  & F & BSL & EU27\\_2020 & 2100 & 1838642\\\\\n",
       "\t PER & 1  & M & BSL & EU27\\_2020 & 2019 & 2211096\\\\\n",
       "\t PER & 1  & M & BSL & EU27\\_2020 & 2100 & 1944673\\\\\n",
       "\t PER & 10 & F & BSL & EU27\\_2020 & 2019 & 2324280\\\\\n",
       "\t PER & 10 & F & BSL & EU27\\_2020 & 2100 & 1911172\\\\\n",
       "\\end{tabular}\n"
      ],
      "text/markdown": [
       "\n",
       "A data.table: 6 × 7\n",
       "\n",
       "| unit &lt;fct&gt; | age &lt;chr&gt; | sex &lt;fct&gt; | projection &lt;fct&gt; | geo &lt;fct&gt; | time &lt;fct&gt; | values &lt;dbl&gt; |\n",
       "|---|---|---|---|---|---|---|\n",
       "| PER | 1  | F | BSL | EU27_2020 | 2019 | 2101911 |\n",
       "| PER | 1  | F | BSL | EU27_2020 | 2100 | 1838642 |\n",
       "| PER | 1  | M | BSL | EU27_2020 | 2019 | 2211096 |\n",
       "| PER | 1  | M | BSL | EU27_2020 | 2100 | 1944673 |\n",
       "| PER | 10 | F | BSL | EU27_2020 | 2019 | 2324280 |\n",
       "| PER | 10 | F | BSL | EU27_2020 | 2100 | 1911172 |\n",
       "\n"
      ],
      "text/plain": [
       "  unit age sex projection geo       time values \n",
       "1 PER  1   F   BSL        EU27_2020 2019 2101911\n",
       "2 PER  1   F   BSL        EU27_2020 2100 1838642\n",
       "3 PER  1   M   BSL        EU27_2020 2019 2211096\n",
       "4 PER  1   M   BSL        EU27_2020 2100 1944673\n",
       "5 PER  10  F   BSL        EU27_2020 2019 2324280\n",
       "6 PER  10  F   BSL        EU27_2020 2100 1911172"
      ]
     },
     "metadata": {},
     "output_type": "display_data"
    }
   ],
   "source": [
    "dataset2$age <- as.character(dataset2$age)\n",
    "dataset2$age <- substr(dataset2$age, 2,4)\n",
    "head(dataset2)"
   ]
  },
  {
   "cell_type": "markdown",
   "metadata": {},
   "source": [
    "- Trasform the variable `age` into a numeric one"
   ]
  },
  {
   "cell_type": "code",
   "execution_count": 13,
   "metadata": {},
   "outputs": [],
   "source": [
    "dataset2$age <- as.numeric(dataset2$age)"
   ]
  },
  {
   "cell_type": "markdown",
   "metadata": {},
   "source": [
    "- Order the dataset with respect to the numeric variable `age`"
   ]
  },
  {
   "cell_type": "code",
   "execution_count": 14,
   "metadata": {},
   "outputs": [],
   "source": [
    "dataset2 <- dataset2[order(dataset2$age), ]"
   ]
  },
  {
   "cell_type": "markdown",
   "metadata": {},
   "source": [
    "Only after these steps we can divide the vector of numbers into five years classes:\n",
    "  \n",
    "  - using the function `cut` we can divide the variable `age` into a specified number of `breaks`, defining also their `labels` and considering the right interval open:"
   ]
  },
  {
   "cell_type": "code",
   "execution_count": 15,
   "metadata": {
    "scrolled": true
   },
   "outputs": [],
   "source": [
    "dataset2$age <- cut(dataset2$age, breaks=c(0,5,10,15,20,25,30,35,40,45,50,55,60,65,70,75,80,85,Inf), \n",
    "                   labels=c(\"<5\",\"05-9\",\"10-14\",\"15-19\",\"20-24\",\"25-29\",\"30-34\",\"35-39\",\"40-44\",\"45-49\",\n",
    "                            \"50-54\",\"55-59\",\"60-64\",\"65-69\",\"70-74\",\"75-79\",\"80-84\",\"85+\"), right=FALSE)"
   ]
  },
  {
   "cell_type": "markdown",
   "metadata": {},
   "source": [
    "  - group the values for each age class with the function `group_by` in the new variable `value_tot`:"
   ]
  },
  {
   "cell_type": "code",
   "execution_count": 16,
   "metadata": {
    "scrolled": false
   },
   "outputs": [
    {
     "name": "stderr",
     "output_type": "stream",
     "text": [
      "`summarise()` regrouping output by 'age', 'sex' (override with `.groups` argument)\n"
     ]
    },
    {
     "data": {
      "text/html": [
       "<table>\n",
       "<caption>A grouped_df: 6 × 4</caption>\n",
       "<thead>\n",
       "\t<tr><th scope=col>age</th><th scope=col>sex</th><th scope=col>time</th><th scope=col>value_tot</th></tr>\n",
       "\t<tr><th scope=col>&lt;fct&gt;</th><th scope=col>&lt;fct&gt;</th><th scope=col>&lt;fct&gt;</th><th scope=col>&lt;dbl&gt;</th></tr>\n",
       "</thead>\n",
       "<tbody>\n",
       "\t<tr><td><span style=white-space:pre-wrap>&lt;5  </span></td><td>F</td><td>2019</td><td>10571075</td></tr>\n",
       "\t<tr><td><span style=white-space:pre-wrap>&lt;5  </span></td><td>F</td><td>2100</td><td> 9235374</td></tr>\n",
       "\t<tr><td><span style=white-space:pre-wrap>&lt;5  </span></td><td>M</td><td>2019</td><td>11126001</td></tr>\n",
       "\t<tr><td><span style=white-space:pre-wrap>&lt;5  </span></td><td>M</td><td>2100</td><td> 9749771</td></tr>\n",
       "\t<tr><td>05-9</td><td>F</td><td>2019</td><td>11118011</td></tr>\n",
       "\t<tr><td>05-9</td><td>F</td><td>2100</td><td> 9440604</td></tr>\n",
       "</tbody>\n",
       "</table>\n"
      ],
      "text/latex": [
       "A grouped\\_df: 6 × 4\n",
       "\\begin{tabular}{llll}\n",
       " age & sex & time & value\\_tot\\\\\n",
       " <fct> & <fct> & <fct> & <dbl>\\\\\n",
       "\\hline\n",
       "\t <5   & F & 2019 & 10571075\\\\\n",
       "\t <5   & F & 2100 &  9235374\\\\\n",
       "\t <5   & M & 2019 & 11126001\\\\\n",
       "\t <5   & M & 2100 &  9749771\\\\\n",
       "\t 05-9 & F & 2019 & 11118011\\\\\n",
       "\t 05-9 & F & 2100 &  9440604\\\\\n",
       "\\end{tabular}\n"
      ],
      "text/markdown": [
       "\n",
       "A grouped_df: 6 × 4\n",
       "\n",
       "| age &lt;fct&gt; | sex &lt;fct&gt; | time &lt;fct&gt; | value_tot &lt;dbl&gt; |\n",
       "|---|---|---|---|\n",
       "| &lt;5   | F | 2019 | 10571075 |\n",
       "| &lt;5   | F | 2100 |  9235374 |\n",
       "| &lt;5   | M | 2019 | 11126001 |\n",
       "| &lt;5   | M | 2100 |  9749771 |\n",
       "| 05-9 | F | 2019 | 11118011 |\n",
       "| 05-9 | F | 2100 |  9440604 |\n",
       "\n"
      ],
      "text/plain": [
       "  age  sex time value_tot\n",
       "1 <5   F   2019 10571075 \n",
       "2 <5   F   2100  9235374 \n",
       "3 <5   M   2019 11126001 \n",
       "4 <5   M   2100  9749771 \n",
       "5 05-9 F   2019 11118011 \n",
       "6 05-9 F   2100  9440604 "
      ]
     },
     "metadata": {},
     "output_type": "display_data"
    }
   ],
   "source": [
    "data <- dataset2 %>%\n",
    "        group_by(age,sex,time) %>%\n",
    "        summarise(value_tot=sum(values))\n",
    "head(data)"
   ]
  },
  {
   "cell_type": "markdown",
   "metadata": {},
   "source": [
    "Plot the pyramid of age using the function `ggplot`:\n",
    "  - create the space with `aes` (the variable  `age` on the x axis and `values_tot` on the y axis, filling the bars with the two categories of `sex`: *male* and *female*),\n",
    "  - add the barplots with respect of `sex` and `time`: define a subspace to compute percentages, specify a minus (`-`) before the values of males, in this way yhe two barplots will be mirrored, add a colour (*orange* for females and *blue* for males) and the fill term to distinguish the reference year (solid colour for *2100*, bordered colour for *2019*),\n",
    "  - add the `title`, `subtitle` and `caption`,\n",
    "  - set the `coord_flip` function, so that the cartesian coordinates will be shown in a vertical way,\n",
    "  - specify the *theme*, in this case we choose the white background `theme_bw` with grid lines."
   ]
  },
  {
   "cell_type": "code",
   "execution_count": 17,
   "metadata": {
    "scrolled": false
   },
   "outputs": [
    {
     "data": {
      "image/png": "[encoded data removed]",
      "text/plain": [
       "plot without title"
      ]
     },
     "metadata": {},
     "output_type": "display_data"
    }
   ],
   "source": [
    "plot2 <- ggplot(data, aes(x=age , y=value_tot, fill= sex)) + \n",
    "\n",
    "  geom_bar(data=subset(data, sex == \"F\" & time==\"2100\" ),aes(y=(value_tot)/totproj2100*100), fill=\"orange\", stat = \"identity\") + \n",
    "  geom_bar(data=subset(data,sex == \"M\" &time==\"2100\"),aes(y=(-value_tot)/totproj2100*100), fill=\"steelblue\", stat = \"identity\") +\n",
    "  geom_bar(data=subset(data, sex == \"F\" & time==\"2019\" ),aes(y=(value_tot)/totproj2019*100),fill=\"transparent\", colour=\"#FFCC00\", size=1, stat = \"identity\") + \n",
    "  geom_bar(data=subset(data,sex == \"M\" &time==\"2019\"),aes(y=(-value_tot)/totproj2019*100), fill=\"transparent\", colour=\"lightblue\", size=1, stat = \"identity\") +\n",
    "  ylab(\"\")+\n",
    "  labs(title = \"Population pyramids, EU-27, 2019 and 2100\",\n",
    "       subtitle = \"(% of the total population)\",\n",
    "       caption = \"Solid colour: 2100 Bordered: 2019\")+\n",
    "  coord_flip()+\n",
    "  theme_bw()\n",
    "\n",
    "print(plot2)"
   ]
  },
  {
   "cell_type": "markdown",
   "metadata": {},
   "source": [
    "### Figure 3: Population structure by major age groups, EU-27, 2019-2100\n",
    "\n",
    "Load the dataset with the R function `get_eurostat_data`, filtering the data with the information we need: \n",
    "  - first of all selecting the dataset \"*Demographic balances and indicators by type of projection*\" ([_proj_19ndbi_](https://appsso.eurostat.ec.europa.eu/nui/show.do?dataset=proj_19ndbi&lang=fr)),\n",
    "  - geopolitical entity (`\"EU-27_2020\"`),\n",
    "  - time (from *2019* to *2100*, by ten years),\n",
    "  - baseline (`\"BSL\"`) projections,\n",
    "  - and the demographic indicator (`indic_de`) with the indicators relevant for the analysis: proportion of population aged 0-14 (`\"PC_Y0_14\"`), proportion of population aged 15-64 (`\"PC_Y15_64\"`), proportion of population aged 65 years and more (`\"PC_Y65_MAX\"`), proportion of population aged 80 years and more (`\"PC_Y80_MAX\"`)."
   ]
  },
  {
   "cell_type": "code",
   "execution_count": 18,
   "metadata": {
    "scrolled": false
   },
   "outputs": [],
   "source": [
    "assign(\"dmethod\",\"curl\",envir=.restatapi_env) \n",
    "dataset3 <- get_eurostat_data(id=\"proj_19ndbi\", filters=list(geo=\"EU27_2020\", projection=\"BSL\", indic_de=c(\"PC_Y0_14\", \"PC_Y15_64\",\"PC_Y65_MAX\",\"PC_Y80_MAX\")))[time %in% c(2019, 2030,2040,2050,2060,2070,2080,2090,2100)]"
   ]
  },
  {
   "cell_type": "markdown",
   "metadata": {},
   "source": [
    "Problem: in the variable `indic_de` the level \"65+\" considers also the values for the level \"85+\", there is an overlapping of percentages, we need to create a new level \"65-79\". \n",
    "To overcome this problem we need to define a vector (`years`) to be used in the for loop that will subtract the value of \"80+\" (`\"PC_Y80_MAX\"`) from the category \"65+\" (`\"PC_Y65_MAX\"`) when the years coincide:"
   ]
  },
  {
   "cell_type": "code",
   "execution_count": 19,
   "metadata": {
    "scrolled": true
   },
   "outputs": [],
   "source": [
    "years <-c(\"2019\",\"2030\",\"2040\",\"2050\",\"2060\",\"2070\",\"2080\",\"2090\",\"2100\")\n",
    "\n",
    "for(i in 1:length(years)){\n",
    "    year <-years[i]\n",
    "    dataset3[dataset3$time==year & dataset3$indic_de==\"PC_Y65_MAX\", 5]<-dataset3[dataset3$time==year & dataset3$indic_de==\"PC_Y65_MAX\", 5] \n",
    "                                                                      - dataset3[dataset3$time==year & dataset3$indic_de==\"PC_Y80_MAX\", 5]\n",
    "}"
   ]
  },
  {
   "cell_type": "markdown",
   "metadata": {},
   "source": [
    "Rename the levels of the variable `indic_de` to provide a better visualization of the graph:"
   ]
  },
  {
   "cell_type": "code",
   "execution_count": 20,
   "metadata": {
    "scrolled": true
   },
   "outputs": [
    {
     "data": {
      "text/html": [
       "<table>\n",
       "<caption>A data.table: 6 × 5</caption>\n",
       "<thead>\n",
       "\t<tr><th scope=col>projection</th><th scope=col>indic_de</th><th scope=col>geo</th><th scope=col>time</th><th scope=col>values</th></tr>\n",
       "\t<tr><th scope=col>&lt;fct&gt;</th><th scope=col>&lt;fct&gt;</th><th scope=col>&lt;fct&gt;</th><th scope=col>&lt;fct&gt;</th><th scope=col>&lt;dbl&gt;</th></tr>\n",
       "</thead>\n",
       "<tbody>\n",
       "\t<tr><td>BSL</td><td>0-14</td><td>EU27_2020</td><td>2019</td><td>15.2</td></tr>\n",
       "\t<tr><td>BSL</td><td>0-14</td><td>EU27_2020</td><td>2030</td><td>14.0</td></tr>\n",
       "\t<tr><td>BSL</td><td>0-14</td><td>EU27_2020</td><td>2040</td><td>13.6</td></tr>\n",
       "\t<tr><td>BSL</td><td>0-14</td><td>EU27_2020</td><td>2050</td><td>13.7</td></tr>\n",
       "\t<tr><td>BSL</td><td>0-14</td><td>EU27_2020</td><td>2060</td><td>13.6</td></tr>\n",
       "\t<tr><td>BSL</td><td>0-14</td><td>EU27_2020</td><td>2070</td><td>13.6</td></tr>\n",
       "</tbody>\n",
       "</table>\n"
      ],
      "text/latex": [
       "A data.table: 6 × 5\n",
       "\\begin{tabular}{lllll}\n",
       " projection & indic\\_de & geo & time & values\\\\\n",
       " <fct> & <fct> & <fct> & <fct> & <dbl>\\\\\n",
       "\\hline\n",
       "\t BSL & 0-14 & EU27\\_2020 & 2019 & 15.2\\\\\n",
       "\t BSL & 0-14 & EU27\\_2020 & 2030 & 14.0\\\\\n",
       "\t BSL & 0-14 & EU27\\_2020 & 2040 & 13.6\\\\\n",
       "\t BSL & 0-14 & EU27\\_2020 & 2050 & 13.7\\\\\n",
       "\t BSL & 0-14 & EU27\\_2020 & 2060 & 13.6\\\\\n",
       "\t BSL & 0-14 & EU27\\_2020 & 2070 & 13.6\\\\\n",
       "\\end{tabular}\n"
      ],
      "text/markdown": [
       "\n",
       "A data.table: 6 × 5\n",
       "\n",
       "| projection &lt;fct&gt; | indic_de &lt;fct&gt; | geo &lt;fct&gt; | time &lt;fct&gt; | values &lt;dbl&gt; |\n",
       "|---|---|---|---|---|\n",
       "| BSL | 0-14 | EU27_2020 | 2019 | 15.2 |\n",
       "| BSL | 0-14 | EU27_2020 | 2030 | 14.0 |\n",
       "| BSL | 0-14 | EU27_2020 | 2040 | 13.6 |\n",
       "| BSL | 0-14 | EU27_2020 | 2050 | 13.7 |\n",
       "| BSL | 0-14 | EU27_2020 | 2060 | 13.6 |\n",
       "| BSL | 0-14 | EU27_2020 | 2070 | 13.6 |\n",
       "\n"
      ],
      "text/plain": [
       "  projection indic_de geo       time values\n",
       "1 BSL        0-14     EU27_2020 2019 15.2  \n",
       "2 BSL        0-14     EU27_2020 2030 14.0  \n",
       "3 BSL        0-14     EU27_2020 2040 13.6  \n",
       "4 BSL        0-14     EU27_2020 2050 13.7  \n",
       "5 BSL        0-14     EU27_2020 2060 13.6  \n",
       "6 BSL        0-14     EU27_2020 2070 13.6  "
      ]
     },
     "metadata": {},
     "output_type": "display_data"
    }
   ],
   "source": [
    "levels(dataset3$indic_de) <- list(\"0-14\"=\"PC_Y0_14\", \"15-64\"= \"PC_Y15_64\", \"65-79\"= \"PC_Y65_MAX\", \"80+\"=\"PC_Y80_MAX\")\n",
    "head(dataset3)"
   ]
  },
  {
   "cell_type": "markdown",
   "metadata": {},
   "source": [
    "Modify the visualization options:"
   ]
  },
  {
   "cell_type": "code",
   "execution_count": 21,
   "metadata": {},
   "outputs": [],
   "source": [
    "options(repr.plot.width=7, repr.plot.height=6)"
   ]
  },
  {
   "cell_type": "markdown",
   "metadata": {},
   "source": [
    "Compute the stack barplot using the function `ggplot`:\n",
    "  - create the space with *aes* (the variable  `time` on the x axis and `values` on the y axis, filling the bars with the categories of `indic_de`: *0-14*, *15-64*, *65-79*, *80+*), \n",
    "  - add the barplots: define a space where the stacked bars have the youngest years (*0-14*) at the bottom and the eldest (*80+*) at the top, \n",
    "  - define the function `scale_fill_manual` to fill the stacked bar with specific colours with respect to the variable `indic_de`,\n",
    "  - add the title and subtitle, \n",
    "  - specify the *theme*, in this case we choose the white background with grid lines."
   ]
  },
  {
   "cell_type": "code",
   "execution_count": 22,
   "metadata": {
    "scrolled": false
   },
   "outputs": [
    {
     "data": {
      "image/png": "[encoded data removed]",
      "text/plain": [
       "plot without title"
      ]
     },
     "metadata": {},
     "output_type": "display_data"
    }
   ],
   "source": [
    "plot3 <- ggplot(dataset3, aes(x=time,y=values, fill=indic_de))+\n",
    "         geom_bar(aes(x=time, y=values, fill = fct_rev(indic_de)),position=position_fill(reverse=F), stat=\"identity\")+\n",
    "         scale_fill_manual(name=\"\",values=c( \"cornflowerblue\",\"steelblue\", \"#FFCC00\",\"orange\"))+   \n",
    "         labs(title = \"Population structure by major age groups, EU-27, 2019-2100\",\n",
    "              subtitle = \"(% of the total population)\")+\n",
    "         theme_bw()\n",
    "\n",
    "print(plot3)"
   ]
  },
  {
   "cell_type": "markdown",
   "metadata": {},
   "source": [
    "### Figure 4: Projected total-age and old-age dependency ratio, EU-27, 2019-2100\n",
    "\n",
    "We use the same dataset as before (*Demographic balances and indicators by type of projection*, _proj_19ndbi_), but this time we need to consider different demographic indicators (`indic_de`): \n",
    "- `\"DEPRATIO1\"`, the total-age dependency ratio (population aged 0-14 and population 65 and more over the population 15-64 years),\n",
    "- `\"OLDDEP1\"`, the old-age dependency ratio (population 65 and over to population 15-64 years).\n",
    "\n",
    "Moreover, we take the time axis from *2019* to *2100* by five years."
   ]
  },
  {
   "cell_type": "code",
   "execution_count": 23,
   "metadata": {
    "scrolled": true
   },
   "outputs": [],
   "source": [
    "assign(\"dmethod\",\"curl\",envir=.restatapi_env) \n",
    "dataset4 <- get_eurostat_data(id=\"proj_19ndbi\", filters=list(geo=\"EU27_2020\", projection=\"BSL\", indic_de=c(\"OLDDEP1\",\"DEPRATIO1\")))[time %in% c(2019,2020, 2025, 2030,2035,2040,2045,2050,2055,2060,2065,2070,2075,2080,2085,2090,2095,2100)]"
   ]
  },
  {
   "cell_type": "markdown",
   "metadata": {},
   "source": [
    "Before plotting the graph we need to change the years from *characters* to *numeric* values (this is important for graphical visualization)"
   ]
  },
  {
   "cell_type": "code",
   "execution_count": 24,
   "metadata": {
    "scrolled": true
   },
   "outputs": [
    {
     "data": {
      "text/html": [
       "<table>\n",
       "<caption>A data.table: 6 × 5</caption>\n",
       "<thead>\n",
       "\t<tr><th scope=col>projection</th><th scope=col>indic_de</th><th scope=col>geo</th><th scope=col>time</th><th scope=col>values</th></tr>\n",
       "\t<tr><th scope=col>&lt;fct&gt;</th><th scope=col>&lt;fct&gt;</th><th scope=col>&lt;fct&gt;</th><th scope=col>&lt;dbl&gt;</th><th scope=col>&lt;dbl&gt;</th></tr>\n",
       "</thead>\n",
       "<tbody>\n",
       "\t<tr><td>BSL</td><td>DEPRATIO1</td><td>EU27_2020</td><td>2019</td><td>54.9</td></tr>\n",
       "\t<tr><td>BSL</td><td>DEPRATIO1</td><td>EU27_2020</td><td>2020</td><td>55.5</td></tr>\n",
       "\t<tr><td>BSL</td><td>DEPRATIO1</td><td>EU27_2020</td><td>2025</td><td>58.3</td></tr>\n",
       "\t<tr><td>BSL</td><td>DEPRATIO1</td><td>EU27_2020</td><td>2030</td><td>61.8</td></tr>\n",
       "\t<tr><td>BSL</td><td>DEPRATIO1</td><td>EU27_2020</td><td>2035</td><td>65.8</td></tr>\n",
       "\t<tr><td>BSL</td><td>DEPRATIO1</td><td>EU27_2020</td><td>2040</td><td>69.8</td></tr>\n",
       "</tbody>\n",
       "</table>\n"
      ],
      "text/latex": [
       "A data.table: 6 × 5\n",
       "\\begin{tabular}{lllll}\n",
       " projection & indic\\_de & geo & time & values\\\\\n",
       " <fct> & <fct> & <fct> & <dbl> & <dbl>\\\\\n",
       "\\hline\n",
       "\t BSL & DEPRATIO1 & EU27\\_2020 & 2019 & 54.9\\\\\n",
       "\t BSL & DEPRATIO1 & EU27\\_2020 & 2020 & 55.5\\\\\n",
       "\t BSL & DEPRATIO1 & EU27\\_2020 & 2025 & 58.3\\\\\n",
       "\t BSL & DEPRATIO1 & EU27\\_2020 & 2030 & 61.8\\\\\n",
       "\t BSL & DEPRATIO1 & EU27\\_2020 & 2035 & 65.8\\\\\n",
       "\t BSL & DEPRATIO1 & EU27\\_2020 & 2040 & 69.8\\\\\n",
       "\\end{tabular}\n"
      ],
      "text/markdown": [
       "\n",
       "A data.table: 6 × 5\n",
       "\n",
       "| projection &lt;fct&gt; | indic_de &lt;fct&gt; | geo &lt;fct&gt; | time &lt;dbl&gt; | values &lt;dbl&gt; |\n",
       "|---|---|---|---|---|\n",
       "| BSL | DEPRATIO1 | EU27_2020 | 2019 | 54.9 |\n",
       "| BSL | DEPRATIO1 | EU27_2020 | 2020 | 55.5 |\n",
       "| BSL | DEPRATIO1 | EU27_2020 | 2025 | 58.3 |\n",
       "| BSL | DEPRATIO1 | EU27_2020 | 2030 | 61.8 |\n",
       "| BSL | DEPRATIO1 | EU27_2020 | 2035 | 65.8 |\n",
       "| BSL | DEPRATIO1 | EU27_2020 | 2040 | 69.8 |\n",
       "\n"
      ],
      "text/plain": [
       "  projection indic_de  geo       time values\n",
       "1 BSL        DEPRATIO1 EU27_2020 2019 54.9  \n",
       "2 BSL        DEPRATIO1 EU27_2020 2020 55.5  \n",
       "3 BSL        DEPRATIO1 EU27_2020 2025 58.3  \n",
       "4 BSL        DEPRATIO1 EU27_2020 2030 61.8  \n",
       "5 BSL        DEPRATIO1 EU27_2020 2035 65.8  \n",
       "6 BSL        DEPRATIO1 EU27_2020 2040 69.8  "
      ]
     },
     "metadata": {},
     "output_type": "display_data"
    }
   ],
   "source": [
    "dataset4$time <- as.numeric(as.character(dataset4$time))\n",
    "head(dataset4)"
   ]
  },
  {
   "cell_type": "markdown",
   "metadata": {},
   "source": [
    "And we modify the visualization options:"
   ]
  },
  {
   "cell_type": "code",
   "execution_count": 25,
   "metadata": {},
   "outputs": [],
   "source": [
    "options(repr.plot.width=10, repr.plot.height=5)"
   ]
  },
  {
   "cell_type": "markdown",
   "metadata": {},
   "source": [
    "Compute the line graph using the function `ggplot`:\n",
    "- create the space with `aes` (the variable  `time` on the x axis and `values` on the y axis, grouping the values by the variable `indic_de`, \n",
    "- add the lines with a thickness (`size`) equal to 1,\n",
    "- define the function `scale_colour_manual` to colour the lines with respect to the categories of the variable `indic_de`,\n",
    "- add the title,\n",
    "- add the `scale_y_continuous` and `scale_x_continuous` to specify the length of the y and x axis,\n",
    "- add a title for the y axis,\n",
    "- indicate the position of the legend, \n",
    "- specify the *theme*, in this case we choose the white background with grid lines."
   ]
  },
  {
   "cell_type": "code",
   "execution_count": 26,
   "metadata": {
    "scrolled": false
   },
   "outputs": [
    {
     "data": {
      "image/png": "[encoded data removed]",
      "text/plain": [
       "plot without title"
      ]
     },
     "metadata": {},
     "output_type": "display_data"
    }
   ],
   "source": [
    "plot4 <- ggplot(data=dataset4, aes(x=time, y=values, group=factor(indic_de), color=factor(indic_de))) + \n",
    "         geom_line(size=1) +\n",
    "         scale_color_manual(labels = c(\"total-age dependency ratio\",\"old-age dependency ratio\"), values = c( \"steelblue\",\"orange\"), name = \" \") +\n",
    "         ggtitle(\"Projected total-age and old-age dependency ratio, EU-27, 2019-2100\") +\n",
    "         scale_y_continuous(limits = c(0, 85), breaks = seq(0, 85, by = 5)) +\n",
    "         scale_x_continuous(limits = c(2015,2100), breaks =seq(2015, 2100, by = 5)) +\n",
    "         ylab(\"%\") +\n",
    "         theme(legend.position=\"bottom\")+\n",
    "         theme_bw() \n",
    "\n",
    "print(plot4)"
   ]
  },
  {
   "cell_type": "markdown",
   "metadata": {},
   "source": [
    "## The share of elderly people continues to increase"
   ]
  },
  {
   "cell_type": "markdown",
   "metadata": {},
   "source": [
    "Before loading the dataset we need to set the vector `countries` that we will use as filter while selecting data"
   ]
  },
  {
   "cell_type": "code",
   "execution_count": 27,
   "metadata": {},
   "outputs": [],
   "source": [
    "countries <- as.factor(c(\"EU27_2020\",\"BE\", \"BG\",\"CZ\",\"DK\", \"DE\", \"EE\",\"IE\",\"EL\",\"ES\",\"FR\",\n",
    "                          \"HR\", \"IT\",\"CY\",\"LV\",\"LT\",\"LU\",\"HU\",\"MT\",\"NL\",\"AT\",\"PL\",\"PT\",\"RO\",\n",
    "                          \"SI\",\"SK\",\"FI\",\"SE\",\"UK\",\"IS\",\"LI\",\"NO\",\"CH\",\"ME\", \"MK\", \"AL\", \"RS\",\"TR\"))"
   ]
  },
  {
   "cell_type": "markdown",
   "metadata": {},
   "source": [
    "We load the dataset \"*Population: Structure indicators*\" ([_demo_pjanind_](https://appsso.eurostat.ec.europa.eu/nui/show.do?dataset=demo_pjanind&lang=en)):\n",
    "  - filter the data using the vector `countries`, \n",
    "  - select from the variable `indic_de` the category: \n",
    "    + `\"PC_Y65_MAX\"` (population 65+ years old) for *Table 1* and *Figure 5*,\n",
    "    + `\"PC_Y0_14\"` (population 0-14 years old), `\"PC_Y15_24\"` (population 15-24 years old), `\"PC_Y25_49\"` (population 25-49 years old), `\"PC_Y50_64\"` (population 50-64 years old) for *Table 1*,\n",
    "    + `\"MEDAGEPOPv` (median age) for *Figure 6*,\n",
    "    + `\"YOUNGDEP1\"` (young age dependency ratio), `\"OLDDEP1\"` (old age dependency ratio), `\"DEPRATIO1\"` (total age dependency ratio), `\"PC_Y80_MAX\"` (proportion of population 80 years old or more) for *Table 2*,\n",
    "  - select the years *2009* and *2019*."
   ]
  },
  {
   "cell_type": "code",
   "execution_count": 28,
   "metadata": {
    "scrolled": false
   },
   "outputs": [],
   "source": [
    "assign(\"dmethod\",\"curl\",envir=.restatapi_env) \n",
    "dataset <- get_eurostat_data(id=\"demo_pjanind\", filters=list(geo=countries, indic_de=c(\"PC_Y0_14\",\"PC_Y15_24\",\"PC_Y25_49\",\"PC_Y50_64\",\"PC_Y65_MAX\" ,\"MEDAGEPOP\", \"YOUNGDEP1\",\"OLDDEP1\",\"DEPRATIO1\",\"PC_Y80_MAX\")), date_filter=c(2009,2019))"
   ]
  },
  {
   "cell_type": "markdown",
   "metadata": {},
   "source": [
    "### Table 1: Population age structure by major age groups, 2009 and 2019"
   ]
  },
  {
   "cell_type": "markdown",
   "metadata": {},
   "source": [
    "Create a vector `x` to filter the dataset with the demographic indicators of interest:"
   ]
  },
  {
   "cell_type": "code",
   "execution_count": 29,
   "metadata": {},
   "outputs": [],
   "source": [
    "x <- c(\"PC_Y0_14\",\"PC_Y15_24\",\"PC_Y25_49\",\"PC_Y50_64\",\"PC_Y65_MAX\")"
   ]
  },
  {
   "cell_type": "markdown",
   "metadata": {},
   "source": [
    "Create a new dataset from a subset of the one loaded from the _Eurostat_ API with respect to the vectors of demographic indicators of interest:"
   ]
  },
  {
   "cell_type": "code",
   "execution_count": 30,
   "metadata": {},
   "outputs": [],
   "source": [
    "dataset5 <- subset(dataset, dataset$indic_de %in% x)"
   ]
  },
  {
   "cell_type": "markdown",
   "metadata": {
    "scrolled": false
   },
   "source": [
    "- Since we are interested in three major age groups (0-14, 15-64 and 65+), we need to sum the values of the three categories \"15-24\" (`\"PC_Y15_24\"`), \"25-49\" (`\"PC_Y25_49\"`) and \"50-64\" (`\"PC_Y50_64\"`) with a `for` loop:"
   ]
  },
  {
   "cell_type": "code",
   "execution_count": 31,
   "metadata": {},
   "outputs": [],
   "source": [
    "times <- c(2009,2019)\n",
    "\n",
    "for(i in 1:length(times)){\n",
    "    year <- times[i]\n",
    "    dataset5[dataset5$time==year & dataset5$indic_de==\"PC_Y15_24\", 4] <- dataset5[dataset5$time==year & dataset5$indic_de==\"PC_Y15_24\", 4]+\n",
    "                                                                         dataset5[dataset5$time==year & dataset5$indic_de==\"PC_Y25_49\", 4]+\n",
    "                                                                         dataset5[dataset5$time==year & dataset5$indic_de==\"PC_Y50_64\", 4]\n",
    "}"
   ]
  },
  {
   "cell_type": "markdown",
   "metadata": {},
   "source": [
    "- Only after that we can rename the level `\"PC_Y15_24\"` into `\"PC_Y15_64\"`:"
   ]
  },
  {
   "cell_type": "code",
   "execution_count": 32,
   "metadata": {},
   "outputs": [],
   "source": [
    "levels(dataset5$indic_de)[levels(dataset5$indic_de)==\"PC_Y15_24\"] <- \"PC_Y15_64\""
   ]
  },
  {
   "cell_type": "markdown",
   "metadata": {},
   "source": [
    "- And then delete the values for the categories `\"PC_Y25_49\"` and `\"PC_Y50_64\"`, now included in the cateogory 15-64:"
   ]
  },
  {
   "cell_type": "code",
   "execution_count": 33,
   "metadata": {},
   "outputs": [
    {
     "data": {
      "text/html": [
       "<table>\n",
       "<caption>A data.table: 6 × 4</caption>\n",
       "<thead>\n",
       "\t<tr><th scope=col>indic_de</th><th scope=col>geo</th><th scope=col>time</th><th scope=col>values</th></tr>\n",
       "\t<tr><th scope=col>&lt;fct&gt;</th><th scope=col>&lt;fct&gt;</th><th scope=col>&lt;fct&gt;</th><th scope=col>&lt;dbl&gt;</th></tr>\n",
       "</thead>\n",
       "<tbody>\n",
       "\t<tr><td>PC_Y0_14</td><td>AL</td><td>2009</td><td>23.3</td></tr>\n",
       "\t<tr><td>PC_Y0_14</td><td>AL</td><td>2019</td><td>17.2</td></tr>\n",
       "\t<tr><td>PC_Y0_14</td><td>AT</td><td>2009</td><td>15.1</td></tr>\n",
       "\t<tr><td>PC_Y0_14</td><td>AT</td><td>2019</td><td>14.4</td></tr>\n",
       "\t<tr><td>PC_Y0_14</td><td>BE</td><td>2009</td><td>16.9</td></tr>\n",
       "\t<tr><td>PC_Y0_14</td><td>BE</td><td>2019</td><td>16.9</td></tr>\n",
       "</tbody>\n",
       "</table>\n"
      ],
      "text/latex": [
       "A data.table: 6 × 4\n",
       "\\begin{tabular}{llll}\n",
       " indic\\_de & geo & time & values\\\\\n",
       " <fct> & <fct> & <fct> & <dbl>\\\\\n",
       "\\hline\n",
       "\t PC\\_Y0\\_14 & AL & 2009 & 23.3\\\\\n",
       "\t PC\\_Y0\\_14 & AL & 2019 & 17.2\\\\\n",
       "\t PC\\_Y0\\_14 & AT & 2009 & 15.1\\\\\n",
       "\t PC\\_Y0\\_14 & AT & 2019 & 14.4\\\\\n",
       "\t PC\\_Y0\\_14 & BE & 2009 & 16.9\\\\\n",
       "\t PC\\_Y0\\_14 & BE & 2019 & 16.9\\\\\n",
       "\\end{tabular}\n"
      ],
      "text/markdown": [
       "\n",
       "A data.table: 6 × 4\n",
       "\n",
       "| indic_de &lt;fct&gt; | geo &lt;fct&gt; | time &lt;fct&gt; | values &lt;dbl&gt; |\n",
       "|---|---|---|---|\n",
       "| PC_Y0_14 | AL | 2009 | 23.3 |\n",
       "| PC_Y0_14 | AL | 2019 | 17.2 |\n",
       "| PC_Y0_14 | AT | 2009 | 15.1 |\n",
       "| PC_Y0_14 | AT | 2019 | 14.4 |\n",
       "| PC_Y0_14 | BE | 2009 | 16.9 |\n",
       "| PC_Y0_14 | BE | 2019 | 16.9 |\n",
       "\n"
      ],
      "text/plain": [
       "  indic_de geo time values\n",
       "1 PC_Y0_14 AL  2009 23.3  \n",
       "2 PC_Y0_14 AL  2019 17.2  \n",
       "3 PC_Y0_14 AT  2009 15.1  \n",
       "4 PC_Y0_14 AT  2019 14.4  \n",
       "5 PC_Y0_14 BE  2009 16.9  \n",
       "6 PC_Y0_14 BE  2019 16.9  "
      ]
     },
     "metadata": {},
     "output_type": "display_data"
    }
   ],
   "source": [
    "dataset5 <- dataset5[dataset5$indic_de!=\"PC_Y25_49\" & dataset5$indic_de!=\"PC_Y50_64\",]\n",
    "head(dataset5)"
   ]
  },
  {
   "cell_type": "markdown",
   "metadata": {},
   "source": [
    "- Create vectors for each year (2009 or 2019) of the category (\"0-14\": `\"PC_Y0_14\"`, \"15-64\": `\"PC_Y15_64\"`, \"65+\": `\"PC_Y65_MAX\"`),\n",
    "- Order them with respect to the vector `countries`, previously defined."
   ]
  },
  {
   "cell_type": "code",
   "execution_count": 34,
   "metadata": {},
   "outputs": [],
   "source": [
    "age0_14_2009 <- dataset5[dataset5$indic_de==\"PC_Y0_14\" & dataset5$time==\"2009\", -c(1,3)]\n",
    "age0_14_2019 <- dataset5[dataset5$indic_de==\"PC_Y0_14\" & dataset5$time==\"2019\", -c(1,3)]\n",
    "\n",
    "age0_14_2009 <- age0_14_2009[order(factor(age0_14_2009$geo, levels=unique(countries))),-1]\n",
    "age0_14_2019 <- age0_14_2019[order(factor(age0_14_2019$geo, levels=unique(countries))),-1]"
   ]
  },
  {
   "cell_type": "code",
   "execution_count": 35,
   "metadata": {},
   "outputs": [],
   "source": [
    "age15_64_2009 <- dataset5[dataset5$indic_de==\"PC_Y15_64\" & dataset5$time==\"2009\", -c(1,3)]\n",
    "age15_64_2019 <- dataset5[dataset5$indic_de==\"PC_Y15_64\" & dataset5$time==\"2019\", -c(1,3)]\n",
    "\n",
    "age15_64_2009 <- age15_64_2009[order(factor(age15_64_2009$geo, levels=unique(countries))),-1]\n",
    "age15_64_2019 <- age15_64_2019[order(factor(age15_64_2019$geo, levels=unique(countries))),-1]"
   ]
  },
  {
   "cell_type": "code",
   "execution_count": 36,
   "metadata": {},
   "outputs": [],
   "source": [
    "age65_MAX_2009 <- dataset5[dataset5$indic_de==\"PC_Y65_MAX\" & dataset5$time==\"2009\", -c(1,3)]\n",
    "age65_MAX_2019 <- dataset5[dataset5$indic_de==\"PC_Y65_MAX\" & dataset5$time==\"2019\", -c(1,3)]\n",
    "\n",
    "age65_MAX_2009 <- age65_MAX_2009[order(factor(age65_MAX_2009$geo, levels=unique(countries))),-1]\n",
    "age65_MAX_2019 <- age65_MAX_2019[order(factor(age65_MAX_2019$geo, levels=unique(countries))),-1]"
   ]
  },
  {
   "cell_type": "markdown",
   "metadata": {},
   "source": [
    "- Define the vector `cntr` with the name of the countries (not just the code) to make the table more comprehensible"
   ]
  },
  {
   "cell_type": "code",
   "execution_count": 37,
   "metadata": {},
   "outputs": [],
   "source": [
    "cntr <- as.factor(c(\"EU-27\", \"Belgium\", \"Bulgaria\", \"Czechia\", \"Denmark\", \"Germany\", \"Estonia\", \"Ireland\",\n",
    "                    \"Greece\", \"Spain\", \"France\", \"Croatia\", \"Italy\", \"Cyprus\", \"Latvia\", \"Lithuania\",\n",
    "                    \"Luxembourg\", \"Hungary\", \"Malta\", \"Netherlands\", \"Austria\", \"Poland\",\"Portugal\", \"Romania\",\n",
    "                    \"Slovenia\", \"Slovakia\", \"Finland\", \"Sweden\",\"United Kingdom\", \"Iceland\", \"Liechtenstein\",\n",
    "                    \"Norway\", \"Switzerland\", \"Montenegro\", \"North Macedonia\", \"Albania\", \"Serbia\", \"Turkey\"))"
   ]
  },
  {
   "cell_type": "markdown",
   "metadata": {},
   "source": [
    "At this point, we can merge the different vectors and create the table with the function `cbind` and rename the columns:"
   ]
  },
  {
   "cell_type": "code",
   "execution_count": 38,
   "metadata": {
    "scrolled": true
   },
   "outputs": [
    {
     "data": {
      "text/html": [
       "<table>\n",
       "<caption>A data.table: 6 × 7</caption>\n",
       "<thead>\n",
       "\t<tr><th scope=col>Countries </th><th scope=col>2009</th><th scope=col>2019</th><th scope=col>2009</th><th scope=col>2019</th><th scope=col>2009</th><th scope=col>2019</th></tr>\n",
       "\t<tr><th scope=col>&lt;fct&gt;</th><th scope=col>&lt;dbl&gt;</th><th scope=col>&lt;dbl&gt;</th><th scope=col>&lt;dbl&gt;</th><th scope=col>&lt;dbl&gt;</th><th scope=col>&lt;dbl&gt;</th><th scope=col>&lt;dbl&gt;</th></tr>\n",
       "</thead>\n",
       "<tbody>\n",
       "\t<tr><td>EU-27   </td><td>15.4</td><td>15.2</td><td>67.1</td><td>64.6</td><td>17.4</td><td>20.3</td></tr>\n",
       "\t<tr><td>Belgium </td><td>16.9</td><td>16.9</td><td>66.0</td><td>64.2</td><td>17.1</td><td>18.9</td></tr>\n",
       "\t<tr><td>Bulgaria</td><td>13.1</td><td>14.4</td><td>68.9</td><td>64.3</td><td>18.0</td><td>21.3</td></tr>\n",
       "\t<tr><td>Czechia </td><td>14.2</td><td>15.9</td><td>70.9</td><td>64.6</td><td>14.9</td><td>19.6</td></tr>\n",
       "\t<tr><td>Denmark </td><td>18.3</td><td>16.5</td><td>65.8</td><td>63.9</td><td>15.9</td><td>19.6</td></tr>\n",
       "\t<tr><td>Germany </td><td>13.6</td><td>13.6</td><td>66.0</td><td>64.8</td><td>20.4</td><td>21.5</td></tr>\n",
       "</tbody>\n",
       "</table>\n"
      ],
      "text/latex": [
       "A data.table: 6 × 7\n",
       "\\begin{tabular}{lllllll}\n",
       " Countries  & 2009 & 2019 & 2009 & 2019 & 2009 & 2019\\\\\n",
       " <fct> & <dbl> & <dbl> & <dbl> & <dbl> & <dbl> & <dbl>\\\\\n",
       "\\hline\n",
       "\t EU-27    & 15.4 & 15.2 & 67.1 & 64.6 & 17.4 & 20.3\\\\\n",
       "\t Belgium  & 16.9 & 16.9 & 66.0 & 64.2 & 17.1 & 18.9\\\\\n",
       "\t Bulgaria & 13.1 & 14.4 & 68.9 & 64.3 & 18.0 & 21.3\\\\\n",
       "\t Czechia  & 14.2 & 15.9 & 70.9 & 64.6 & 14.9 & 19.6\\\\\n",
       "\t Denmark  & 18.3 & 16.5 & 65.8 & 63.9 & 15.9 & 19.6\\\\\n",
       "\t Germany  & 13.6 & 13.6 & 66.0 & 64.8 & 20.4 & 21.5\\\\\n",
       "\\end{tabular}\n"
      ],
      "text/markdown": [
       "\n",
       "A data.table: 6 × 7\n",
       "\n",
       "| Countries  &lt;fct&gt; | 2009 &lt;dbl&gt; | 2019 &lt;dbl&gt; | 2009 &lt;dbl&gt; | 2019 &lt;dbl&gt; | 2009 &lt;dbl&gt; | 2019 &lt;dbl&gt; |\n",
       "|---|---|---|---|---|---|---|\n",
       "| EU-27    | 15.4 | 15.2 | 67.1 | 64.6 | 17.4 | 20.3 |\n",
       "| Belgium  | 16.9 | 16.9 | 66.0 | 64.2 | 17.1 | 18.9 |\n",
       "| Bulgaria | 13.1 | 14.4 | 68.9 | 64.3 | 18.0 | 21.3 |\n",
       "| Czechia  | 14.2 | 15.9 | 70.9 | 64.6 | 14.9 | 19.6 |\n",
       "| Denmark  | 18.3 | 16.5 | 65.8 | 63.9 | 15.9 | 19.6 |\n",
       "| Germany  | 13.6 | 13.6 | 66.0 | 64.8 | 20.4 | 21.5 |\n",
       "\n"
      ],
      "text/plain": [
       "  Countries  2009 2019 2009 2019 2009 2019\n",
       "1 EU-27      15.4 15.2 67.1 64.6 17.4 20.3\n",
       "2 Belgium    16.9 16.9 66.0 64.2 17.1 18.9\n",
       "3 Bulgaria   13.1 14.4 68.9 64.3 18.0 21.3\n",
       "4 Czechia    14.2 15.9 70.9 64.6 14.9 19.6\n",
       "5 Denmark    18.3 16.5 65.8 63.9 15.9 19.6\n",
       "6 Germany    13.6 13.6 66.0 64.8 20.4 21.5"
      ]
     },
     "metadata": {},
     "output_type": "display_data"
    }
   ],
   "source": [
    "dt <- cbind(cntr, age0_14_2009, age0_14_2019, age15_64_2009,age15_64_2019, age65_MAX_2009,age65_MAX_2019 )\n",
    "colnames(dt) <- c(\"Countries \", \"2009\", \"2019\",\"2009\",\"2019\",\"2009\",\"2019\")\n",
    "head(dt)"
   ]
  },
  {
   "cell_type": "markdown",
   "metadata": {},
   "source": [
    "Display the table with the function `kable`:\n",
    "  - `kable_styling`: define the layout of the table,\n",
    "  - `add_header_above`: add grouped column names,\n",
    "  - `row`/`column_spec`: add features to rows or columns,\n",
    "  - `group_rows`: define grouped rows,\n",
    "  - `display_html`: display the table below the code."
   ]
  },
  {
   "cell_type": "code",
   "execution_count": 39,
   "metadata": {},
   "outputs": [
    {
     "data": {
      "text/html": [
       "<table class=\"table table-striped table-bordered\" style=\"margin-left: auto; margin-right: auto;\">\n",
       " <thead>\n",
       "<tr>\n",
       "<th style=\"border-bottom:hidden;padding-bottom:0; padding-left:3px;padding-right:3px;text-align: center; padding-right: 4px; padding-left: 4px; background-color: bisque !important;\" colspan=\"1\"><div style=\"border-bottom: 1px solid #ddd; padding-bottom: 5px; \">-</div></th>\n",
       "<th style=\"border-bottom:hidden;padding-bottom:0; padding-left:3px;padding-right:3px;text-align: center; padding-right: 4px; padding-left: 4px; background-color: bisque !important;\" colspan=\"2\"><div style=\"border-bottom: 1px solid #ddd; padding-bottom: 5px; \">0-14 years old</div></th>\n",
       "<th style=\"border-bottom:hidden;padding-bottom:0; padding-left:3px;padding-right:3px;text-align: center; padding-right: 4px; padding-left: 4px; background-color: bisque !important;\" colspan=\"2\"><div style=\"border-bottom: 1px solid #ddd; padding-bottom: 5px; \">15-64 years old</div></th>\n",
       "<th style=\"border-bottom:hidden;padding-bottom:0; padding-left:3px;padding-right:3px;text-align: center; padding-right: 4px; padding-left: 4px; background-color: bisque !important;\" colspan=\"2\"><div style=\"border-bottom: 1px solid #ddd; padding-bottom: 5px; \">65 years old or over</div></th>\n",
       "</tr>\n",
       "  <tr>\n",
       "   <th style=\"text-align:left;background-color: bisque !important;\"> Countries  </th>\n",
       "   <th style=\"text-align:right;background-color: bisque !important;\"> 2009 </th>\n",
       "   <th style=\"text-align:right;background-color: bisque !important;\"> 2019 </th>\n",
       "   <th style=\"text-align:right;background-color: bisque !important;\"> 2009 </th>\n",
       "   <th style=\"text-align:right;background-color: bisque !important;\"> 2019 </th>\n",
       "   <th style=\"text-align:right;background-color: bisque !important;\"> 2009 </th>\n",
       "   <th style=\"text-align:right;background-color: bisque !important;\"> 2019 </th>\n",
       "  </tr>\n",
       " </thead>\n",
       "<tbody>\n",
       "  <tr>\n",
       "   <td style=\"text-align:left;font-weight: bold;background-color: orange !important;font-weight: bold;\"> EU-27 </td>\n",
       "   <td style=\"text-align:right;font-weight: bold;background-color: orange !important;\"> 15.4 </td>\n",
       "   <td style=\"text-align:right;font-weight: bold;background-color: orange !important;\"> 15.2 </td>\n",
       "   <td style=\"text-align:right;font-weight: bold;background-color: orange !important;\"> 67.1 </td>\n",
       "   <td style=\"text-align:right;font-weight: bold;background-color: orange !important;\"> 64.6 </td>\n",
       "   <td style=\"text-align:right;font-weight: bold;background-color: orange !important;\"> 17.4 </td>\n",
       "   <td style=\"text-align:right;font-weight: bold;background-color: orange !important;\"> 20.3 </td>\n",
       "  </tr>\n",
       "  <tr>\n",
       "   <td style=\"text-align:left;font-weight: bold;\"> Belgium </td>\n",
       "   <td style=\"text-align:right;\"> 16.9 </td>\n",
       "   <td style=\"text-align:right;\"> 16.9 </td>\n",
       "   <td style=\"text-align:right;\"> 66.0 </td>\n",
       "   <td style=\"text-align:right;\"> 64.2 </td>\n",
       "   <td style=\"text-align:right;\"> 17.1 </td>\n",
       "   <td style=\"text-align:right;\"> 18.9 </td>\n",
       "  </tr>\n",
       "  <tr>\n",
       "   <td style=\"text-align:left;font-weight: bold;\"> Bulgaria </td>\n",
       "   <td style=\"text-align:right;\"> 13.1 </td>\n",
       "   <td style=\"text-align:right;\"> 14.4 </td>\n",
       "   <td style=\"text-align:right;\"> 68.9 </td>\n",
       "   <td style=\"text-align:right;\"> 64.3 </td>\n",
       "   <td style=\"text-align:right;\"> 18.0 </td>\n",
       "   <td style=\"text-align:right;\"> 21.3 </td>\n",
       "  </tr>\n",
       "  <tr>\n",
       "   <td style=\"text-align:left;font-weight: bold;\"> Czechia </td>\n",
       "   <td style=\"text-align:right;\"> 14.2 </td>\n",
       "   <td style=\"text-align:right;\"> 15.9 </td>\n",
       "   <td style=\"text-align:right;\"> 70.9 </td>\n",
       "   <td style=\"text-align:right;\"> 64.6 </td>\n",
       "   <td style=\"text-align:right;\"> 14.9 </td>\n",
       "   <td style=\"text-align:right;\"> 19.6 </td>\n",
       "  </tr>\n",
       "  <tr>\n",
       "   <td style=\"text-align:left;font-weight: bold;\"> Denmark </td>\n",
       "   <td style=\"text-align:right;\"> 18.3 </td>\n",
       "   <td style=\"text-align:right;\"> 16.5 </td>\n",
       "   <td style=\"text-align:right;\"> 65.8 </td>\n",
       "   <td style=\"text-align:right;\"> 63.9 </td>\n",
       "   <td style=\"text-align:right;\"> 15.9 </td>\n",
       "   <td style=\"text-align:right;\"> 19.6 </td>\n",
       "  </tr>\n",
       "  <tr>\n",
       "   <td style=\"text-align:left;font-weight: bold;\"> Germany </td>\n",
       "   <td style=\"text-align:right;\"> 13.6 </td>\n",
       "   <td style=\"text-align:right;\"> 13.6 </td>\n",
       "   <td style=\"text-align:right;\"> 66.0 </td>\n",
       "   <td style=\"text-align:right;\"> 64.8 </td>\n",
       "   <td style=\"text-align:right;\"> 20.4 </td>\n",
       "   <td style=\"text-align:right;\"> 21.5 </td>\n",
       "  </tr>\n",
       "  <tr>\n",
       "   <td style=\"text-align:left;font-weight: bold;\"> Estonia </td>\n",
       "   <td style=\"text-align:right;\"> 14.9 </td>\n",
       "   <td style=\"text-align:right;\"> 16.4 </td>\n",
       "   <td style=\"text-align:right;\"> 67.6 </td>\n",
       "   <td style=\"text-align:right;\"> 63.8 </td>\n",
       "   <td style=\"text-align:right;\"> 17.4 </td>\n",
       "   <td style=\"text-align:right;\"> 19.8 </td>\n",
       "  </tr>\n",
       "  <tr>\n",
       "   <td style=\"text-align:left;font-weight: bold;\"> Ireland </td>\n",
       "   <td style=\"text-align:right;\"> 20.6 </td>\n",
       "   <td style=\"text-align:right;\"> 20.5 </td>\n",
       "   <td style=\"text-align:right;\"> 68.5 </td>\n",
       "   <td style=\"text-align:right;\"> 65.4 </td>\n",
       "   <td style=\"text-align:right;\"> 10.9 </td>\n",
       "   <td style=\"text-align:right;\"> 14.1 </td>\n",
       "  </tr>\n",
       "  <tr>\n",
       "   <td style=\"text-align:left;font-weight: bold;\"> Greece </td>\n",
       "   <td style=\"text-align:right;\"> 14.6 </td>\n",
       "   <td style=\"text-align:right;\"> 14.3 </td>\n",
       "   <td style=\"text-align:right;\"> 66.6 </td>\n",
       "   <td style=\"text-align:right;\"> 63.6 </td>\n",
       "   <td style=\"text-align:right;\"> 18.8 </td>\n",
       "   <td style=\"text-align:right;\"> 22.0 </td>\n",
       "  </tr>\n",
       "  <tr>\n",
       "   <td style=\"text-align:left;font-weight: bold;\"> Spain </td>\n",
       "   <td style=\"text-align:right;\"> 14.8 </td>\n",
       "   <td style=\"text-align:right;\"> 14.8 </td>\n",
       "   <td style=\"text-align:right;\"> 68.6 </td>\n",
       "   <td style=\"text-align:right;\"> 65.8 </td>\n",
       "   <td style=\"text-align:right;\"> 16.6 </td>\n",
       "   <td style=\"text-align:right;\"> 19.4 </td>\n",
       "  </tr>\n",
       "  <tr>\n",
       "   <td style=\"text-align:left;font-weight: bold;\"> France </td>\n",
       "   <td style=\"text-align:right;\"> 18.5 </td>\n",
       "   <td style=\"text-align:right;\"> 18.0 </td>\n",
       "   <td style=\"text-align:right;\"> 65.0 </td>\n",
       "   <td style=\"text-align:right;\"> 61.9 </td>\n",
       "   <td style=\"text-align:right;\"> 16.5 </td>\n",
       "   <td style=\"text-align:right;\"> 20.1 </td>\n",
       "  </tr>\n",
       "  <tr>\n",
       "   <td style=\"text-align:left;font-weight: bold;\"> Croatia </td>\n",
       "   <td style=\"text-align:right;\"> 15.4 </td>\n",
       "   <td style=\"text-align:right;\"> 14.4 </td>\n",
       "   <td style=\"text-align:right;\"> 66.7 </td>\n",
       "   <td style=\"text-align:right;\"> 65.0 </td>\n",
       "   <td style=\"text-align:right;\"> 17.9 </td>\n",
       "   <td style=\"text-align:right;\"> 20.6 </td>\n",
       "  </tr>\n",
       "  <tr>\n",
       "   <td style=\"text-align:left;font-weight: bold;\"> Italy </td>\n",
       "   <td style=\"text-align:right;\"> 14.1 </td>\n",
       "   <td style=\"text-align:right;\"> 13.2 </td>\n",
       "   <td style=\"text-align:right;\"> 65.7 </td>\n",
       "   <td style=\"text-align:right;\"> 64.1 </td>\n",
       "   <td style=\"text-align:right;\"> 20.3 </td>\n",
       "   <td style=\"text-align:right;\"> 22.8 </td>\n",
       "  </tr>\n",
       "  <tr>\n",
       "   <td style=\"text-align:left;font-weight: bold;\"> Cyprus </td>\n",
       "   <td style=\"text-align:right;\"> 17.7 </td>\n",
       "   <td style=\"text-align:right;\"> 16.1 </td>\n",
       "   <td style=\"text-align:right;\"> 69.9 </td>\n",
       "   <td style=\"text-align:right;\"> 67.8 </td>\n",
       "   <td style=\"text-align:right;\"> 12.5 </td>\n",
       "   <td style=\"text-align:right;\"> 16.1 </td>\n",
       "  </tr>\n",
       "  <tr>\n",
       "   <td style=\"text-align:left;font-weight: bold;\"> Latvia </td>\n",
       "   <td style=\"text-align:right;\"> 14.1 </td>\n",
       "   <td style=\"text-align:right;\"> 15.9 </td>\n",
       "   <td style=\"text-align:right;\"> 68.1 </td>\n",
       "   <td style=\"text-align:right;\"> 63.9 </td>\n",
       "   <td style=\"text-align:right;\"> 17.8 </td>\n",
       "   <td style=\"text-align:right;\"> 20.3 </td>\n",
       "  </tr>\n",
       "  <tr>\n",
       "   <td style=\"text-align:left;font-weight: bold;\"> Lithuania </td>\n",
       "   <td style=\"text-align:right;\"> 15.1 </td>\n",
       "   <td style=\"text-align:right;\"> 15.1 </td>\n",
       "   <td style=\"text-align:right;\"> 67.7 </td>\n",
       "   <td style=\"text-align:right;\"> 65.1 </td>\n",
       "   <td style=\"text-align:right;\"> 17.2 </td>\n",
       "   <td style=\"text-align:right;\"> 19.8 </td>\n",
       "  </tr>\n",
       "  <tr>\n",
       "   <td style=\"text-align:left;font-weight: bold;\"> Luxembourg </td>\n",
       "   <td style=\"text-align:right;\"> 18.0 </td>\n",
       "   <td style=\"text-align:right;\"> 16.1 </td>\n",
       "   <td style=\"text-align:right;\"> 68.0 </td>\n",
       "   <td style=\"text-align:right;\"> 69.6 </td>\n",
       "   <td style=\"text-align:right;\"> 14.0 </td>\n",
       "   <td style=\"text-align:right;\"> 14.4 </td>\n",
       "  </tr>\n",
       "  <tr>\n",
       "   <td style=\"text-align:left;font-weight: bold;\"> Hungary </td>\n",
       "   <td style=\"text-align:right;\"> 14.9 </td>\n",
       "   <td style=\"text-align:right;\"> 14.5 </td>\n",
       "   <td style=\"text-align:right;\"> 68.8 </td>\n",
       "   <td style=\"text-align:right;\"> 66.1 </td>\n",
       "   <td style=\"text-align:right;\"> 16.4 </td>\n",
       "   <td style=\"text-align:right;\"> 19.3 </td>\n",
       "  </tr>\n",
       "  <tr>\n",
       "   <td style=\"text-align:left;font-weight: bold;\"> Malta </td>\n",
       "   <td style=\"text-align:right;\"> 15.6 </td>\n",
       "   <td style=\"text-align:right;\"> 13.7 </td>\n",
       "   <td style=\"text-align:right;\"> 70.1 </td>\n",
       "   <td style=\"text-align:right;\"> 67.7 </td>\n",
       "   <td style=\"text-align:right;\"> 14.2 </td>\n",
       "   <td style=\"text-align:right;\"> 18.7 </td>\n",
       "  </tr>\n",
       "  <tr>\n",
       "   <td style=\"text-align:left;font-weight: bold;\"> Netherlands </td>\n",
       "   <td style=\"text-align:right;\"> 17.7 </td>\n",
       "   <td style=\"text-align:right;\"> 15.9 </td>\n",
       "   <td style=\"text-align:right;\"> 67.3 </td>\n",
       "   <td style=\"text-align:right;\"> 65.0 </td>\n",
       "   <td style=\"text-align:right;\"> 15.0 </td>\n",
       "   <td style=\"text-align:right;\"> 19.2 </td>\n",
       "  </tr>\n",
       "  <tr>\n",
       "   <td style=\"text-align:left;font-weight: bold;\"> Austria </td>\n",
       "   <td style=\"text-align:right;\"> 15.1 </td>\n",
       "   <td style=\"text-align:right;\"> 14.4 </td>\n",
       "   <td style=\"text-align:right;\"> 67.5 </td>\n",
       "   <td style=\"text-align:right;\"> 66.6 </td>\n",
       "   <td style=\"text-align:right;\"> 17.4 </td>\n",
       "   <td style=\"text-align:right;\"> 18.8 </td>\n",
       "  </tr>\n",
       "  <tr>\n",
       "   <td style=\"text-align:left;font-weight: bold;\"> Poland </td>\n",
       "   <td style=\"text-align:right;\"> 15.3 </td>\n",
       "   <td style=\"text-align:right;\"> 15.4 </td>\n",
       "   <td style=\"text-align:right;\"> 71.2 </td>\n",
       "   <td style=\"text-align:right;\"> 67.0 </td>\n",
       "   <td style=\"text-align:right;\"> 13.5 </td>\n",
       "   <td style=\"text-align:right;\"> 17.7 </td>\n",
       "  </tr>\n",
       "  <tr>\n",
       "   <td style=\"text-align:left;font-weight: bold;\"> Portugal </td>\n",
       "   <td style=\"text-align:right;\"> 15.4 </td>\n",
       "   <td style=\"text-align:right;\"> 13.7 </td>\n",
       "   <td style=\"text-align:right;\"> 66.5 </td>\n",
       "   <td style=\"text-align:right;\"> 64.4 </td>\n",
       "   <td style=\"text-align:right;\"> 18.0 </td>\n",
       "   <td style=\"text-align:right;\"> 21.8 </td>\n",
       "  </tr>\n",
       "  <tr>\n",
       "   <td style=\"text-align:left;font-weight: bold;\"> Romania </td>\n",
       "   <td style=\"text-align:right;\"> 15.8 </td>\n",
       "   <td style=\"text-align:right;\"> 15.7 </td>\n",
       "   <td style=\"text-align:right;\"> 68.1 </td>\n",
       "   <td style=\"text-align:right;\"> 65.9 </td>\n",
       "   <td style=\"text-align:right;\"> 16.1 </td>\n",
       "   <td style=\"text-align:right;\"> 18.5 </td>\n",
       "  </tr>\n",
       "  <tr>\n",
       "   <td style=\"text-align:left;font-weight: bold;\"> Slovenia </td>\n",
       "   <td style=\"text-align:right;\"> 14.0 </td>\n",
       "   <td style=\"text-align:right;\"> 15.1 </td>\n",
       "   <td style=\"text-align:right;\"> 69.6 </td>\n",
       "   <td style=\"text-align:right;\"> 65.1 </td>\n",
       "   <td style=\"text-align:right;\"> 16.4 </td>\n",
       "   <td style=\"text-align:right;\"> 19.8 </td>\n",
       "  </tr>\n",
       "  <tr>\n",
       "   <td style=\"text-align:left;font-weight: bold;\"> Slovakia </td>\n",
       "   <td style=\"text-align:right;\"> 15.6 </td>\n",
       "   <td style=\"text-align:right;\"> 15.7 </td>\n",
       "   <td style=\"text-align:right;\"> 72.1 </td>\n",
       "   <td style=\"text-align:right;\"> 68.2 </td>\n",
       "   <td style=\"text-align:right;\"> 12.2 </td>\n",
       "   <td style=\"text-align:right;\"> 16.0 </td>\n",
       "  </tr>\n",
       "  <tr>\n",
       "   <td style=\"text-align:left;font-weight: bold;\"> Finland </td>\n",
       "   <td style=\"text-align:right;\"> 16.7 </td>\n",
       "   <td style=\"text-align:right;\"> 16.0 </td>\n",
       "   <td style=\"text-align:right;\"> 66.5 </td>\n",
       "   <td style=\"text-align:right;\"> 62.3 </td>\n",
       "   <td style=\"text-align:right;\"> 16.7 </td>\n",
       "   <td style=\"text-align:right;\"> 21.8 </td>\n",
       "  </tr>\n",
       "  <tr>\n",
       "   <td style=\"text-align:left;font-weight: bold;\"> Sweden </td>\n",
       "   <td style=\"text-align:right;\"> 16.7 </td>\n",
       "   <td style=\"text-align:right;\"> 17.8 </td>\n",
       "   <td style=\"text-align:right;\"> 65.5 </td>\n",
       "   <td style=\"text-align:right;\"> 62.3 </td>\n",
       "   <td style=\"text-align:right;\"> 17.8 </td>\n",
       "   <td style=\"text-align:right;\"> 19.9 </td>\n",
       "  </tr>\n",
       "  <tr grouplength=\"2\"><td colspan=\"7\" style=\"border-bottom: 1px solid;\"><strong> </strong></td></tr>\n",
       "<tr>\n",
       "   <td style=\"text-align:left;font-weight: bold; padding-left:  2em;\" indentlevel=\"1\"> United Kingdom </td>\n",
       "   <td style=\"text-align:right;\"> 17.7 </td>\n",
       "   <td style=\"text-align:right;\"> 17.9 </td>\n",
       "   <td style=\"text-align:right;\"> 66.2 </td>\n",
       "   <td style=\"text-align:right;\"> 63.7 </td>\n",
       "   <td style=\"text-align:right;\"> 16.1 </td>\n",
       "   <td style=\"text-align:right;\"> 18.4 </td>\n",
       "  </tr>\n",
       "  <tr grouplength=\"5\"><td colspan=\"7\" style=\"border-bottom: 1px solid;\"><strong> </strong></td></tr>\n",
       "<tr>\n",
       "   <td style=\"text-align:left;font-weight: bold; padding-left:  2em;\" indentlevel=\"2\"> Iceland </td>\n",
       "   <td style=\"text-align:right;\"> 20.8 </td>\n",
       "   <td style=\"text-align:right;\"> 19.0 </td>\n",
       "   <td style=\"text-align:right;\"> 67.5 </td>\n",
       "   <td style=\"text-align:right;\"> 66.8 </td>\n",
       "   <td style=\"text-align:right;\"> 11.6 </td>\n",
       "   <td style=\"text-align:right;\"> 14.2 </td>\n",
       "  </tr>\n",
       "  <tr>\n",
       "   <td style=\"text-align:left;font-weight: bold; padding-left:  2em;\" indentlevel=\"1\"> Liechtenstein </td>\n",
       "   <td style=\"text-align:right;\"> 16.4 </td>\n",
       "   <td style=\"text-align:right;\"> 14.7 </td>\n",
       "   <td style=\"text-align:right;\"> 70.7 </td>\n",
       "   <td style=\"text-align:right;\"> 67.4 </td>\n",
       "   <td style=\"text-align:right;\"> 12.9 </td>\n",
       "   <td style=\"text-align:right;\"> 17.9 </td>\n",
       "  </tr>\n",
       "  <tr>\n",
       "   <td style=\"text-align:left;font-weight: bold; padding-left:  2em;\" indentlevel=\"1\"> Norway </td>\n",
       "   <td style=\"text-align:right;\"> 19.0 </td>\n",
       "   <td style=\"text-align:right;\"> 17.5 </td>\n",
       "   <td style=\"text-align:right;\"> 66.3 </td>\n",
       "   <td style=\"text-align:right;\"> 65.2 </td>\n",
       "   <td style=\"text-align:right;\"> 14.7 </td>\n",
       "   <td style=\"text-align:right;\"> 17.2 </td>\n",
       "  </tr>\n",
       "  <tr>\n",
       "   <td style=\"text-align:left;font-weight: bold; padding-left:  2em;\" indentlevel=\"1\"> Switzerland </td>\n",
       "   <td style=\"text-align:right;\"> 15.3 </td>\n",
       "   <td style=\"text-align:right;\"> 15.0 </td>\n",
       "   <td style=\"text-align:right;\"> 68.0 </td>\n",
       "   <td style=\"text-align:right;\"> 66.5 </td>\n",
       "   <td style=\"text-align:right;\"> 16.6 </td>\n",
       "   <td style=\"text-align:right;\"> 18.5 </td>\n",
       "  </tr>\n",
       "  <tr grouplength=\"5\"><td colspan=\"7\" style=\"border-bottom: 1px solid;\"><strong> </strong></td></tr>\n",
       "<tr>\n",
       "   <td style=\"text-align:left;font-weight: bold; padding-left:  2em;\" indentlevel=\"2\"> Montenegro </td>\n",
       "   <td style=\"text-align:right;\"> 19.6 </td>\n",
       "   <td style=\"text-align:right;\"> 18.0 </td>\n",
       "   <td style=\"text-align:right;\"> 67.4 </td>\n",
       "   <td style=\"text-align:right;\"> 67.0 </td>\n",
       "   <td style=\"text-align:right;\"> 12.9 </td>\n",
       "   <td style=\"text-align:right;\"> 15.2 </td>\n",
       "  </tr>\n",
       "  <tr>\n",
       "   <td style=\"text-align:left;font-weight: bold; padding-left:  2em;\" indentlevel=\"1\"> North Macedonia </td>\n",
       "   <td style=\"text-align:right;\"> 18.1 </td>\n",
       "   <td style=\"text-align:right;\"> 16.4 </td>\n",
       "   <td style=\"text-align:right;\"> 70.4 </td>\n",
       "   <td style=\"text-align:right;\"> 69.6 </td>\n",
       "   <td style=\"text-align:right;\"> 11.5 </td>\n",
       "   <td style=\"text-align:right;\"> 14.1 </td>\n",
       "  </tr>\n",
       "  <tr>\n",
       "   <td style=\"text-align:left;font-weight: bold; padding-left:  2em;\" indentlevel=\"1\"> Albania </td>\n",
       "   <td style=\"text-align:right;\"> 23.3 </td>\n",
       "   <td style=\"text-align:right;\"> 17.2 </td>\n",
       "   <td style=\"text-align:right;\"> 66.3 </td>\n",
       "   <td style=\"text-align:right;\"> 68.7 </td>\n",
       "   <td style=\"text-align:right;\"> 10.4 </td>\n",
       "   <td style=\"text-align:right;\"> 14.1 </td>\n",
       "  </tr>\n",
       "  <tr>\n",
       "   <td style=\"text-align:left;font-weight: bold; padding-left:  2em;\" indentlevel=\"1\"> Serbia </td>\n",
       "   <td style=\"text-align:right;\"> 15.3 </td>\n",
       "   <td style=\"text-align:right;\"> 14.3 </td>\n",
       "   <td style=\"text-align:right;\"> 67.5 </td>\n",
       "   <td style=\"text-align:right;\"> 65.2 </td>\n",
       "   <td style=\"text-align:right;\"> 17.1 </td>\n",
       "   <td style=\"text-align:right;\"> 20.4 </td>\n",
       "  </tr>\n",
       "  <tr>\n",
       "   <td style=\"text-align:left;font-weight: bold; padding-left:  2em;\" indentlevel=\"1\"> Turkey </td>\n",
       "   <td style=\"text-align:right;\"> 26.3 </td>\n",
       "   <td style=\"text-align:right;\"> 23.4 </td>\n",
       "   <td style=\"text-align:right;\"> 66.9 </td>\n",
       "   <td style=\"text-align:right;\"> 67.8 </td>\n",
       "   <td style=\"text-align:right;\"> 6.8 </td>\n",
       "   <td style=\"text-align:right;\"> 8.8 </td>\n",
       "  </tr>\n",
       "</tbody>\n",
       "</table>"
      ]
     },
     "metadata": {},
     "output_type": "display_data"
    }
   ],
   "source": [
    "dt %>%\n",
    "  kable(\"html\")%>%\n",
    "  kable_styling(c(\"striped\", \"bordered\")) %>%\n",
    "  add_header_above(c(\"-\" = 1, \"0-14 years old\" = 2, \"15-64 years old\" = 2, \"65 years old or over\" = 2), background='bisque') %>%\n",
    "  row_spec(0, background = 'bisque') %>%  \n",
    "  row_spec(1, background='orange',bold=TRUE) %>%\n",
    "  column_spec(1, bold=TRUE) %>%\n",
    "  group_rows(\" \", 29,30) %>%\n",
    "  group_rows(\" \", 30,34) %>%\n",
    "  group_rows(\" \", 34,38) %>%\n",
    "  as.character() %>%\n",
    "  display_html()\n"
   ]
  },
  {
   "cell_type": "markdown",
   "metadata": {},
   "source": [
    "### Figure 5: Increase in the share of the population aged 65 years or over between 2009 and 2019\n",
    "\n",
    "Select the part of the dataset regarding the *population 65+ years* of the variable `indic_de`."
   ]
  },
  {
   "cell_type": "code",
   "execution_count": 40,
   "metadata": {},
   "outputs": [],
   "source": [
    "dataset6 <- dataset[dataset$indic_de==\"PC_Y65_MAX\",]"
   ]
  },
  {
   "cell_type": "markdown",
   "metadata": {
    "scrolled": true
   },
   "source": [
    "We have to plot the difference (in percentages) of the population with 65+ years between 2009 and 2019.\n",
    "We compute these differences in the percentage points with a `for` loop, assigning the resulting values to the category *2009* of the variable `time`:"
   ]
  },
  {
   "cell_type": "code",
   "execution_count": 41,
   "metadata": {},
   "outputs": [],
   "source": [
    "for(i in 1:length(countries)){\n",
    "    countries_65 <-countries[i]\n",
    "    dataset6[dataset6$geo==countries_65 & dataset6$time==2009, 4]<-dataset6[dataset6$geo==countries_65 & dataset6$time==2019, 4]-\n",
    "                                                                dataset6[dataset6$geo==countries_65 & dataset6$time==2009, 4]\n",
    "                                                                          \n",
    "}"
   ]
  },
  {
   "cell_type": "markdown",
   "metadata": {},
   "source": [
    "Delete the rows of the category *2019* of the variable `time` (the values of the differences are stored in the category *2009*):"
   ]
  },
  {
   "cell_type": "code",
   "execution_count": 42,
   "metadata": {
    "scrolled": true
   },
   "outputs": [
    {
     "data": {
      "text/html": [
       "<table>\n",
       "<caption>A data.table: 6 × 4</caption>\n",
       "<thead>\n",
       "\t<tr><th scope=col>indic_de</th><th scope=col>geo</th><th scope=col>time</th><th scope=col>values</th></tr>\n",
       "\t<tr><th scope=col>&lt;fct&gt;</th><th scope=col>&lt;fct&gt;</th><th scope=col>&lt;fct&gt;</th><th scope=col>&lt;dbl&gt;</th></tr>\n",
       "</thead>\n",
       "<tbody>\n",
       "\t<tr><td>PC_Y65_MAX</td><td>AL</td><td>2009</td><td>3.7</td></tr>\n",
       "\t<tr><td>PC_Y65_MAX</td><td>AT</td><td>2009</td><td>1.4</td></tr>\n",
       "\t<tr><td>PC_Y65_MAX</td><td>BE</td><td>2009</td><td>1.8</td></tr>\n",
       "\t<tr><td>PC_Y65_MAX</td><td>BG</td><td>2009</td><td>3.3</td></tr>\n",
       "\t<tr><td>PC_Y65_MAX</td><td>CH</td><td>2009</td><td>1.9</td></tr>\n",
       "\t<tr><td>PC_Y65_MAX</td><td>CY</td><td>2009</td><td>3.6</td></tr>\n",
       "</tbody>\n",
       "</table>\n"
      ],
      "text/latex": [
       "A data.table: 6 × 4\n",
       "\\begin{tabular}{llll}\n",
       " indic\\_de & geo & time & values\\\\\n",
       " <fct> & <fct> & <fct> & <dbl>\\\\\n",
       "\\hline\n",
       "\t PC\\_Y65\\_MAX & AL & 2009 & 3.7\\\\\n",
       "\t PC\\_Y65\\_MAX & AT & 2009 & 1.4\\\\\n",
       "\t PC\\_Y65\\_MAX & BE & 2009 & 1.8\\\\\n",
       "\t PC\\_Y65\\_MAX & BG & 2009 & 3.3\\\\\n",
       "\t PC\\_Y65\\_MAX & CH & 2009 & 1.9\\\\\n",
       "\t PC\\_Y65\\_MAX & CY & 2009 & 3.6\\\\\n",
       "\\end{tabular}\n"
      ],
      "text/markdown": [
       "\n",
       "A data.table: 6 × 4\n",
       "\n",
       "| indic_de &lt;fct&gt; | geo &lt;fct&gt; | time &lt;fct&gt; | values &lt;dbl&gt; |\n",
       "|---|---|---|---|\n",
       "| PC_Y65_MAX | AL | 2009 | 3.7 |\n",
       "| PC_Y65_MAX | AT | 2009 | 1.4 |\n",
       "| PC_Y65_MAX | BE | 2009 | 1.8 |\n",
       "| PC_Y65_MAX | BG | 2009 | 3.3 |\n",
       "| PC_Y65_MAX | CH | 2009 | 1.9 |\n",
       "| PC_Y65_MAX | CY | 2009 | 3.6 |\n",
       "\n"
      ],
      "text/plain": [
       "  indic_de   geo time values\n",
       "1 PC_Y65_MAX AL  2009 3.7   \n",
       "2 PC_Y65_MAX AT  2009 1.4   \n",
       "3 PC_Y65_MAX BE  2009 1.8   \n",
       "4 PC_Y65_MAX BG  2009 3.3   \n",
       "5 PC_Y65_MAX CH  2009 1.9   \n",
       "6 PC_Y65_MAX CY  2009 3.6   "
      ]
     },
     "metadata": {},
     "output_type": "display_data"
    }
   ],
   "source": [
    "dataset6 <- dataset6[dataset6$time!=2019]\n",
    "head(dataset6)"
   ]
  },
  {
   "cell_type": "markdown",
   "metadata": {},
   "source": [
    "Transform the dataset into a matrix, renaming the rows as the countries and deleting the variable `time` and `indic_de`:"
   ]
  },
  {
   "cell_type": "code",
   "execution_count": 43,
   "metadata": {},
   "outputs": [
    {
     "data": {
      "text/html": [
       "<table>\n",
       "<caption>A matrix: 6 × 2 of type chr</caption>\n",
       "<thead>\n",
       "\t<tr><th></th><th scope=col>geo</th><th scope=col>values</th></tr>\n",
       "</thead>\n",
       "<tbody>\n",
       "\t<tr><th scope=row>AL</th><td>AL</td><td>3.7</td></tr>\n",
       "\t<tr><th scope=row>AT</th><td>AT</td><td>1.4</td></tr>\n",
       "\t<tr><th scope=row>BE</th><td>BE</td><td>1.8</td></tr>\n",
       "\t<tr><th scope=row>BG</th><td>BG</td><td>3.3</td></tr>\n",
       "\t<tr><th scope=row>CH</th><td>CH</td><td>1.9</td></tr>\n",
       "\t<tr><th scope=row>CY</th><td>CY</td><td>3.6</td></tr>\n",
       "</tbody>\n",
       "</table>\n"
      ],
      "text/latex": [
       "A matrix: 6 × 2 of type chr\n",
       "\\begin{tabular}{r|ll}\n",
       "  & geo & values\\\\\n",
       "\\hline\n",
       "\tAL & AL & 3.7\\\\\n",
       "\tAT & AT & 1.4\\\\\n",
       "\tBE & BE & 1.8\\\\\n",
       "\tBG & BG & 3.3\\\\\n",
       "\tCH & CH & 1.9\\\\\n",
       "\tCY & CY & 3.6\\\\\n",
       "\\end{tabular}\n"
      ],
      "text/markdown": [
       "\n",
       "A matrix: 6 × 2 of type chr\n",
       "\n",
       "| <!--/--> | geo | values |\n",
       "|---|---|---|\n",
       "| AL | AL | 3.7 |\n",
       "| AT | AT | 1.4 |\n",
       "| BE | BE | 1.8 |\n",
       "| BG | BG | 3.3 |\n",
       "| CH | CH | 1.9 |\n",
       "| CY | CY | 3.6 |\n",
       "\n"
      ],
      "text/plain": [
       "   geo values\n",
       "AL AL  3.7   \n",
       "AT AT  1.4   \n",
       "BE BE  1.8   \n",
       "BG BG  3.3   \n",
       "CH CH  1.9   \n",
       "CY CY  3.6   "
      ]
     },
     "metadata": {},
     "output_type": "display_data"
    }
   ],
   "source": [
    "dataset6 <- as.matrix(dataset6[,-c(1,3)], rownames = dataset6$geo)\n",
    "head(dataset6)"
   ]
  },
  {
   "cell_type": "markdown",
   "metadata": {},
   "source": [
    "Order the dataset with respect to the variable `values` in decreasing order:"
   ]
  },
  {
   "cell_type": "code",
   "execution_count": 44,
   "metadata": {
    "scrolled": true
   },
   "outputs": [
    {
     "data": {
      "text/html": [
       "<table>\n",
       "<caption>A matrix: 6 × 2 of type chr</caption>\n",
       "<thead>\n",
       "\t<tr><th></th><th scope=col>geo</th><th scope=col>values</th></tr>\n",
       "</thead>\n",
       "<tbody>\n",
       "\t<tr><th scope=row>FI</th><td>FI</td><td>5.1</td></tr>\n",
       "\t<tr><th scope=row>LI</th><td>LI</td><td>5.0</td></tr>\n",
       "\t<tr><th scope=row>CZ</th><td>CZ</td><td>4.7</td></tr>\n",
       "\t<tr><th scope=row>MT</th><td>MT</td><td>4.5</td></tr>\n",
       "\t<tr><th scope=row>NL</th><td>NL</td><td>4.2</td></tr>\n",
       "\t<tr><th scope=row>PL</th><td>PL</td><td>4.2</td></tr>\n",
       "</tbody>\n",
       "</table>\n"
      ],
      "text/latex": [
       "A matrix: 6 × 2 of type chr\n",
       "\\begin{tabular}{r|ll}\n",
       "  & geo & values\\\\\n",
       "\\hline\n",
       "\tFI & FI & 5.1\\\\\n",
       "\tLI & LI & 5.0\\\\\n",
       "\tCZ & CZ & 4.7\\\\\n",
       "\tMT & MT & 4.5\\\\\n",
       "\tNL & NL & 4.2\\\\\n",
       "\tPL & PL & 4.2\\\\\n",
       "\\end{tabular}\n"
      ],
      "text/markdown": [
       "\n",
       "A matrix: 6 × 2 of type chr\n",
       "\n",
       "| <!--/--> | geo | values |\n",
       "|---|---|---|\n",
       "| FI | FI | 5.1 |\n",
       "| LI | LI | 5.0 |\n",
       "| CZ | CZ | 4.7 |\n",
       "| MT | MT | 4.5 |\n",
       "| NL | NL | 4.2 |\n",
       "| PL | PL | 4.2 |\n",
       "\n"
      ],
      "text/plain": [
       "   geo values\n",
       "FI FI  5.1   \n",
       "LI LI  5.0   \n",
       "CZ CZ  4.7   \n",
       "MT MT  4.5   \n",
       "NL NL  4.2   \n",
       "PL PL  4.2   "
      ]
     },
     "metadata": {},
     "output_type": "display_data"
    }
   ],
   "source": [
    "data <- dataset6[order(dataset6[,2], decreasing=TRUE),]\n",
    "head(data)"
   ]
  },
  {
   "cell_type": "markdown",
   "metadata": {},
   "source": [
    "Use the function `which` to know the index of the rows of specific countries: European Union, United Kingdom, EFTA Members, or Candidate Members"
   ]
  },
  {
   "cell_type": "code",
   "execution_count": 45,
   "metadata": {},
   "outputs": [
    {
     "data": {
      "text/html": [
       "18"
      ],
      "text/latex": [
       "18"
      ],
      "text/markdown": [
       "18"
      ],
      "text/plain": [
       "[1] 18"
      ]
     },
     "metadata": {},
     "output_type": "display_data"
    },
    {
     "data": {
      "text/html": [
       "31"
      ],
      "text/latex": [
       "31"
      ],
      "text/markdown": [
       "31"
      ],
      "text/plain": [
       "[1] 31"
      ]
     },
     "metadata": {},
     "output_type": "display_data"
    },
    {
     "data": {
      "text/html": [
       "<style>\n",
       ".list-inline {list-style: none; margin:0; padding: 0}\n",
       ".list-inline>li {display: inline-block}\n",
       ".list-inline>li:not(:last-child)::after {content: \"\\00b7\"; padding: 0 .5ex}\n",
       "</style>\n",
       "<ol class=list-inline><li>2</li><li>22</li><li>27</li><li>34</li></ol>\n"
      ],
      "text/latex": [
       "\\begin{enumerate*}\n",
       "\\item 2\n",
       "\\item 22\n",
       "\\item 27\n",
       "\\item 34\n",
       "\\end{enumerate*}\n"
      ],
      "text/markdown": [
       "1. 2\n",
       "2. 22\n",
       "3. 27\n",
       "4. 34\n",
       "\n",
       "\n"
      ],
      "text/plain": [
       "[1]  2 22 27 34"
      ]
     },
     "metadata": {},
     "output_type": "display_data"
    },
    {
     "data": {
      "text/html": [
       "<style>\n",
       ".list-inline {list-style: none; margin:0; padding: 0}\n",
       ".list-inline>li {display: inline-block}\n",
       ".list-inline>li:not(:last-child)::after {content: \"\\00b7\"; padding: 0 .5ex}\n",
       "</style>\n",
       "<ol class=list-inline><li>9</li><li>15</li><li>24</li><li>30</li><li>33</li></ol>\n"
      ],
      "text/latex": [
       "\\begin{enumerate*}\n",
       "\\item 9\n",
       "\\item 15\n",
       "\\item 24\n",
       "\\item 30\n",
       "\\item 33\n",
       "\\end{enumerate*}\n"
      ],
      "text/markdown": [
       "1. 9\n",
       "2. 15\n",
       "3. 24\n",
       "4. 30\n",
       "5. 33\n",
       "\n",
       "\n"
      ],
      "text/plain": [
       "[1]  9 15 24 30 33"
      ]
     },
     "metadata": {},
     "output_type": "display_data"
    }
   ],
   "source": [
    "which(data %in% \"EU27_2020\")\n",
    "which(data %in% \"UK\")\n",
    "which(data %in% c(\"LI\",\"CH\",\"NO\",\"IS\"))\n",
    "which(data %in% c(\"TR\",\"RS\",\"MK\",\"ME\",\"AL\"))"
   ]
  },
  {
   "cell_type": "markdown",
   "metadata": {},
   "source": [
    "Merge the dataset by row, creating a new matrix divided into subgroups (*EU, EU members, EFTA members, Candidate countries*), using the indexes found "
   ]
  },
  {
   "cell_type": "code",
   "execution_count": 46,
   "metadata": {},
   "outputs": [],
   "source": [
    "data <- rbind(data[18,], 0, data[c(-2,-9,-15,-18,-22,-24,-27,-31,-30,-33,-34),],0,data[31,],0, data[c(2,22,27,34), ], 0, data[c(9,15,24,30,33),])"
   ]
  },
  {
   "cell_type": "markdown",
   "metadata": {},
   "source": [
    "Rename the rows of the \"one member\" groups"
   ]
  },
  {
   "cell_type": "code",
   "execution_count": 47,
   "metadata": {},
   "outputs": [],
   "source": [
    "rownames(data)[1] <- \"EU-27\"\n",
    "rownames(data)[31] <- \"UK\""
   ]
  },
  {
   "cell_type": "markdown",
   "metadata": {},
   "source": [
    "Modify the visualization options"
   ]
  },
  {
   "cell_type": "code",
   "execution_count": 48,
   "metadata": {},
   "outputs": [],
   "source": [
    "options(repr.plot.width=20, repr.plot.height=10)"
   ]
  },
  {
   "cell_type": "markdown",
   "metadata": {},
   "source": [
    "Plot the graph with the function `barplot` (we cannot use `gglot` because we are dealing with matrices):\n",
    "  - select the dataset and apply a table `t` function, in this way the data are correctly set for the barplot,\n",
    "  - `col`: define the colour of the bars,\n",
    "  - `ylim`/`ylab`: expand and rename the y axis, \n",
    "  - `main`/`cex.main`: title of the plot (`main`) and the size of the font (`cex.main`),\n",
    "  - `names.arg`/`cex.names`: put the name of the country as the name of each bar and define their sizes,\n",
    "  - add a `grid` to compare more easily the values"
   ]
  },
  {
   "cell_type": "code",
   "execution_count": 49,
   "metadata": {
    "scrolled": true
   },
   "outputs": [
    {
     "data": {
      "image/png": "[encoded data removed]",
      "text/plain": [
       "Plot with title \"Increase in the share of the population aged 65 years or over between 2009 and 2019\""
      ]
     },
     "metadata": {},
     "output_type": "display_data"
    }
   ],
   "source": [
    "barplot(t(data[,2]), col = \"orange\", ylim=c(0,6), ylab= \"percentage points\", \n",
    "        main = \"Increase in the share of the population aged 65 years or over between 2009 and 2019\", \n",
    "        cex.main=1, names.arg=row.names(data), cex.names=1)\n",
    "\n",
    "grid(NA,5,lwd=2,col=\"lightgrey\")\n"
   ]
  },
  {
   "cell_type": "markdown",
   "metadata": {},
   "source": [
    "## Median age is highest in Italy\n",
    " \n",
    "### Figure 6: Median age of population, 2009 and 2019\n",
    "\n",
    "Select the part of the dataset regarding the *median age* of each country and divide it into two subsets:"
   ]
  },
  {
   "cell_type": "code",
   "execution_count": 50,
   "metadata": {},
   "outputs": [],
   "source": [
    "dt2019 <- dataset[dataset$indic_de==\"MEDAGEPOP\"&dataset$time==2019,]\n",
    "dt2009 <- dataset[dataset$indic_de==\"MEDAGEPOP\"&dataset$time==2009,]"
   ]
  },
  {
   "cell_type": "markdown",
   "metadata": {},
   "source": [
    "Rename the variable `values` for the two dataset:"
   ]
  },
  {
   "cell_type": "code",
   "execution_count": 51,
   "metadata": {},
   "outputs": [],
   "source": [
    "names(dt2019)[4] <- \"values2019\"\n",
    "names(dt2009)[4] <- \"values2009\""
   ]
  },
  {
   "cell_type": "markdown",
   "metadata": {},
   "source": [
    "- **Merge** the two dataset into a new one, with respect to the variable `geo`.\n",
    "- Delete the columns not necessary for the analysis.\n",
    "- **Order** the dataset with respect to the values of *2019*."
   ]
  },
  {
   "cell_type": "code",
   "execution_count": 52,
   "metadata": {},
   "outputs": [
    {
     "data": {
      "text/html": [
       "<table>\n",
       "<caption>A data.table: 6 × 3</caption>\n",
       "<thead>\n",
       "\t<tr><th scope=col>geo</th><th scope=col>values2019</th><th scope=col>values2009</th></tr>\n",
       "\t<tr><th scope=col>&lt;fct&gt;</th><th scope=col>&lt;dbl&gt;</th><th scope=col>&lt;dbl&gt;</th></tr>\n",
       "</thead>\n",
       "<tbody>\n",
       "\t<tr><td>IT</td><td>46.7</td><td>43.0</td></tr>\n",
       "\t<tr><td>DE</td><td>46.0</td><td>43.7</td></tr>\n",
       "\t<tr><td>PT</td><td>45.2</td><td>40.8</td></tr>\n",
       "\t<tr><td>EL</td><td>44.9</td><td>40.7</td></tr>\n",
       "\t<tr><td>BG</td><td>44.5</td><td>42.0</td></tr>\n",
       "\t<tr><td>LI</td><td>44.2</td><td>40.3</td></tr>\n",
       "</tbody>\n",
       "</table>\n"
      ],
      "text/latex": [
       "A data.table: 6 × 3\n",
       "\\begin{tabular}{lll}\n",
       " geo & values2019 & values2009\\\\\n",
       " <fct> & <dbl> & <dbl>\\\\\n",
       "\\hline\n",
       "\t IT & 46.7 & 43.0\\\\\n",
       "\t DE & 46.0 & 43.7\\\\\n",
       "\t PT & 45.2 & 40.8\\\\\n",
       "\t EL & 44.9 & 40.7\\\\\n",
       "\t BG & 44.5 & 42.0\\\\\n",
       "\t LI & 44.2 & 40.3\\\\\n",
       "\\end{tabular}\n"
      ],
      "text/markdown": [
       "\n",
       "A data.table: 6 × 3\n",
       "\n",
       "| geo &lt;fct&gt; | values2019 &lt;dbl&gt; | values2009 &lt;dbl&gt; |\n",
       "|---|---|---|\n",
       "| IT | 46.7 | 43.0 |\n",
       "| DE | 46.0 | 43.7 |\n",
       "| PT | 45.2 | 40.8 |\n",
       "| EL | 44.9 | 40.7 |\n",
       "| BG | 44.5 | 42.0 |\n",
       "| LI | 44.2 | 40.3 |\n",
       "\n"
      ],
      "text/plain": [
       "  geo values2019 values2009\n",
       "1 IT  46.7       43.0      \n",
       "2 DE  46.0       43.7      \n",
       "3 PT  45.2       40.8      \n",
       "4 EL  44.9       40.7      \n",
       "5 BG  44.5       42.0      \n",
       "6 LI  44.2       40.3      "
      ]
     },
     "metadata": {},
     "output_type": "display_data"
    }
   ],
   "source": [
    "data2 <- merge(x=dt2019, y=dt2009, by=\"geo\")\n",
    "data2 <- data2[,-c(2,3,5,6)]\n",
    "data2 <- data2[order(data2[,2],decreasing=T),]\n",
    "head(data2)"
   ]
  },
  {
   "cell_type": "markdown",
   "metadata": {},
   "source": [
    "Transform the dataset into a `matrix` (notice that now the matrix has *char* values):"
   ]
  },
  {
   "cell_type": "code",
   "execution_count": 53,
   "metadata": {
    "scrolled": false
   },
   "outputs": [
    {
     "data": {
      "text/html": [
       "<table>\n",
       "<caption>A matrix: 6 × 3 of type chr</caption>\n",
       "<thead>\n",
       "\t<tr><th></th><th scope=col>geo</th><th scope=col>values2019</th><th scope=col>values2009</th></tr>\n",
       "</thead>\n",
       "<tbody>\n",
       "\t<tr><th scope=row>IT</th><td>IT</td><td>46.7</td><td>43.0</td></tr>\n",
       "\t<tr><th scope=row>DE</th><td>DE</td><td>46.0</td><td>43.7</td></tr>\n",
       "\t<tr><th scope=row>PT</th><td>PT</td><td>45.2</td><td>40.8</td></tr>\n",
       "\t<tr><th scope=row>EL</th><td>EL</td><td>44.9</td><td>40.7</td></tr>\n",
       "\t<tr><th scope=row>BG</th><td>BG</td><td>44.5</td><td>42.0</td></tr>\n",
       "\t<tr><th scope=row>LI</th><td>LI</td><td>44.2</td><td>40.3</td></tr>\n",
       "</tbody>\n",
       "</table>\n"
      ],
      "text/latex": [
       "A matrix: 6 × 3 of type chr\n",
       "\\begin{tabular}{r|lll}\n",
       "  & geo & values2019 & values2009\\\\\n",
       "\\hline\n",
       "\tIT & IT & 46.7 & 43.0\\\\\n",
       "\tDE & DE & 46.0 & 43.7\\\\\n",
       "\tPT & PT & 45.2 & 40.8\\\\\n",
       "\tEL & EL & 44.9 & 40.7\\\\\n",
       "\tBG & BG & 44.5 & 42.0\\\\\n",
       "\tLI & LI & 44.2 & 40.3\\\\\n",
       "\\end{tabular}\n"
      ],
      "text/markdown": [
       "\n",
       "A matrix: 6 × 3 of type chr\n",
       "\n",
       "| <!--/--> | geo | values2019 | values2009 |\n",
       "|---|---|---|---|\n",
       "| IT | IT | 46.7 | 43.0 |\n",
       "| DE | DE | 46.0 | 43.7 |\n",
       "| PT | PT | 45.2 | 40.8 |\n",
       "| EL | EL | 44.9 | 40.7 |\n",
       "| BG | BG | 44.5 | 42.0 |\n",
       "| LI | LI | 44.2 | 40.3 |\n",
       "\n"
      ],
      "text/plain": [
       "   geo values2019 values2009\n",
       "IT IT  46.7       43.0      \n",
       "DE DE  46.0       43.7      \n",
       "PT PT  45.2       40.8      \n",
       "EL EL  44.9       40.7      \n",
       "BG BG  44.5       42.0      \n",
       "LI LI  44.2       40.3      "
      ]
     },
     "metadata": {},
     "output_type": "display_data"
    }
   ],
   "source": [
    "data2<-as.matrix(data2, rownames=data2$geo)\n",
    "head(data2)"
   ]
  },
  {
   "cell_type": "markdown",
   "metadata": {},
   "source": [
    "Use the function `which` to know the index of the rows of specific countries: European Union, United Kingdom, EFTA Members, or Candidate Members."
   ]
  },
  {
   "cell_type": "code",
   "execution_count": 54,
   "metadata": {
    "scrolled": false
   },
   "outputs": [
    {
     "data": {
      "text/html": [
       "11"
      ],
      "text/latex": [
       "11"
      ],
      "text/markdown": [
       "11"
      ],
      "text/plain": [
       "[1] 11"
      ]
     },
     "metadata": {},
     "output_type": "display_data"
    },
    {
     "data": {
      "text/html": [
       "28"
      ],
      "text/latex": [
       "28"
      ],
      "text/markdown": [
       "28"
      ],
      "text/plain": [
       "[1] 28"
      ]
     },
     "metadata": {},
     "output_type": "display_data"
    },
    {
     "data": {
      "text/html": [
       "<style>\n",
       ".list-inline {list-style: none; margin:0; padding: 0}\n",
       ".list-inline>li {display: inline-block}\n",
       ".list-inline>li:not(:last-child)::after {content: \"\\00b7\"; padding: 0 .5ex}\n",
       "</style>\n",
       "<ol class=list-inline><li>6</li><li>19</li><li>30</li><li>37</li></ol>\n"
      ],
      "text/latex": [
       "\\begin{enumerate*}\n",
       "\\item 6\n",
       "\\item 19\n",
       "\\item 30\n",
       "\\item 37\n",
       "\\end{enumerate*}\n"
      ],
      "text/markdown": [
       "1. 6\n",
       "2. 19\n",
       "3. 30\n",
       "4. 37\n",
       "\n",
       "\n"
      ],
      "text/plain": [
       "[1]  6 19 30 37"
      ]
     },
     "metadata": {},
     "output_type": "display_data"
    },
    {
     "data": {
      "text/html": [
       "<style>\n",
       ".list-inline {list-style: none; margin:0; padding: 0}\n",
       ".list-inline>li {display: inline-block}\n",
       ".list-inline>li:not(:last-child)::after {content: \"\\00b7\"; padding: 0 .5ex}\n",
       "</style>\n",
       "<ol class=list-inline><li>12</li><li>32</li><li>33</li><li>36</li><li>38</li></ol>\n"
      ],
      "text/latex": [
       "\\begin{enumerate*}\n",
       "\\item 12\n",
       "\\item 32\n",
       "\\item 33\n",
       "\\item 36\n",
       "\\item 38\n",
       "\\end{enumerate*}\n"
      ],
      "text/markdown": [
       "1. 12\n",
       "2. 32\n",
       "3. 33\n",
       "4. 36\n",
       "5. 38\n",
       "\n",
       "\n"
      ],
      "text/plain": [
       "[1] 12 32 33 36 38"
      ]
     },
     "metadata": {},
     "output_type": "display_data"
    }
   ],
   "source": [
    "which(data2 %in% \"EU27_2020\")\n",
    "which(data2 %in% \"UK\")\n",
    "which(data2 %in% c(\"LI\",\"CH\",\"NO\",\"IS\"))\n",
    "which(data2 %in% c(\"TR\",\"RS\",\"MK\",\"ME\",\"AL\"))"
   ]
  },
  {
   "cell_type": "markdown",
   "metadata": {},
   "source": [
    "Delete from the dataset the column referring to the countries (this information is already contained in the row indexes)"
   ]
  },
  {
   "cell_type": "code",
   "execution_count": 55,
   "metadata": {},
   "outputs": [],
   "source": [
    "data2 <- data2[,-1]"
   ]
  },
  {
   "cell_type": "markdown",
   "metadata": {},
   "source": [
    "Change the *class* of the matrix into a numeric one:"
   ]
  },
  {
   "cell_type": "code",
   "execution_count": 56,
   "metadata": {
    "scrolled": true
   },
   "outputs": [
    {
     "data": {
      "text/html": [
       "<table>\n",
       "<caption>A matrix: 6 × 2 of type dbl</caption>\n",
       "<thead>\n",
       "\t<tr><th></th><th scope=col>values2019</th><th scope=col>values2009</th></tr>\n",
       "</thead>\n",
       "<tbody>\n",
       "\t<tr><th scope=row>IT</th><td>46.7</td><td>43.0</td></tr>\n",
       "\t<tr><th scope=row>DE</th><td>46.0</td><td>43.7</td></tr>\n",
       "\t<tr><th scope=row>PT</th><td>45.2</td><td>40.8</td></tr>\n",
       "\t<tr><th scope=row>EL</th><td>44.9</td><td>40.7</td></tr>\n",
       "\t<tr><th scope=row>BG</th><td>44.5</td><td>42.0</td></tr>\n",
       "\t<tr><th scope=row>LI</th><td>44.2</td><td>40.3</td></tr>\n",
       "</tbody>\n",
       "</table>\n"
      ],
      "text/latex": [
       "A matrix: 6 × 2 of type dbl\n",
       "\\begin{tabular}{r|ll}\n",
       "  & values2019 & values2009\\\\\n",
       "\\hline\n",
       "\tIT & 46.7 & 43.0\\\\\n",
       "\tDE & 46.0 & 43.7\\\\\n",
       "\tPT & 45.2 & 40.8\\\\\n",
       "\tEL & 44.9 & 40.7\\\\\n",
       "\tBG & 44.5 & 42.0\\\\\n",
       "\tLI & 44.2 & 40.3\\\\\n",
       "\\end{tabular}\n"
      ],
      "text/markdown": [
       "\n",
       "A matrix: 6 × 2 of type dbl\n",
       "\n",
       "| <!--/--> | values2019 | values2009 |\n",
       "|---|---|---|\n",
       "| IT | 46.7 | 43.0 |\n",
       "| DE | 46.0 | 43.7 |\n",
       "| PT | 45.2 | 40.8 |\n",
       "| EL | 44.9 | 40.7 |\n",
       "| BG | 44.5 | 42.0 |\n",
       "| LI | 44.2 | 40.3 |\n",
       "\n"
      ],
      "text/plain": [
       "   values2019 values2009\n",
       "IT 46.7       43.0      \n",
       "DE 46.0       43.7      \n",
       "PT 45.2       40.8      \n",
       "EL 44.9       40.7      \n",
       "BG 44.5       42.0      \n",
       "LI 44.2       40.3      "
      ]
     },
     "metadata": {},
     "output_type": "display_data"
    }
   ],
   "source": [
    "class(data2) <- \"numeric\"\n",
    "head(data2)"
   ]
  },
  {
   "cell_type": "markdown",
   "metadata": {},
   "source": [
    "Merge the dataset by row, creating a new matrix divided into subgroups (*EU, EU members, EFTA members, Candidate countries*), with respect to their indexes in the dataset"
   ]
  },
  {
   "cell_type": "code",
   "execution_count": 57,
   "metadata": {},
   "outputs": [],
   "source": [
    "data2 <- rbind(data2[11,], 0, data2[-c(11,28,6,19,30,37,12,32,33,36,38),],0,data2[28,],0, data2[c(6,19,30,37), ], 0, data2[c(12,32,33,36,38),])"
   ]
  },
  {
   "cell_type": "markdown",
   "metadata": {},
   "source": [
    "Rename the rows of the \"one member\" groups"
   ]
  },
  {
   "cell_type": "code",
   "execution_count": 58,
   "metadata": {},
   "outputs": [],
   "source": [
    "rownames(data2)[1] <- \"EU-27\"\n",
    "rownames(data2)[31] <- \"UK\""
   ]
  },
  {
   "cell_type": "markdown",
   "metadata": {},
   "source": [
    "Plot the graph with the function `barplot` (we cannot use `gglot` because we are dealing with matrices):\n",
    "- select the dataset and apply a table `t` function, in this way the data are correctly set for the barplot,\n",
    "- `ylim`: expand the y axis,\n",
    "- `col`: define the colour of the bars (with respect to *2009* and *2019*,\n",
    "- `main`/`cex.main`: title of the plot (`main`) and the size of the font (`cex.main`),\n",
    "- `names.arg`/`cex.names`: put the name of the country as the name of each bar and define their sizes,\n",
    "- add a `legend` function,\n",
    "- add a `grid` to compare more easily the values."
   ]
  },
  {
   "cell_type": "code",
   "execution_count": 59,
   "metadata": {
    "scrolled": true
   },
   "outputs": [
    {
     "data": {
      "image/png": "[encoded data removed]",
      "text/plain": [
       "Plot with title \"Median age of population, 2009 and 2019 \n",
       " (years)\""
      ]
     },
     "metadata": {},
     "output_type": "display_data"
    }
   ],
   "source": [
    "barplot(t(data2), ylim=c(0,60), beside = T, col = c(\"lightskyblue\",\"orange\"), main = \"Median age of population, 2009 and 2019 \\n (years)\",\n",
    "        cex.main=2, names.arg=row.names(data2), cex.names=1)\n",
    "\n",
    "legend(\"topright\", legend =c(\"2019\",\"2009\"), fill = c(\"lightskyblue\",\"orange\"), bty=\"n\", box.lty=4, pt.cex=1, cex=1.5, adj=0.7)\n",
    "\n",
    "grid(NA,5,lwd=2,col=\"lightgrey\")\n"
   ]
  },
  {
   "cell_type": "markdown",
   "metadata": {},
   "source": [
    "## Slightly more than three persons of working age for every person aged 65 or over\n",
    "\n",
    "### Table 2: Population age structure indicators, 1 January 2019\n",
    "\n",
    "Create a vector `y` to filter the dataset with the demographic indicators of interest:"
   ]
  },
  {
   "cell_type": "code",
   "execution_count": 60,
   "metadata": {},
   "outputs": [],
   "source": [
    "y <- c(\"YOUNGDEP1\",\"OLDDEP1\",\"DEPRATIO1\",\"PC_Y80_MAX\")                                                                "
   ]
  },
  {
   "cell_type": "markdown",
   "metadata": {},
   "source": [
    "Create a new dataset from a subset of the one loaded from the _Eurostat_ API with respect to the vectors of demographic indicators of interest:"
   ]
  },
  {
   "cell_type": "code",
   "execution_count": 61,
   "metadata": {},
   "outputs": [
    {
     "data": {
      "text/html": [
       "<table>\n",
       "<caption>A data.table: 6 × 4</caption>\n",
       "<thead>\n",
       "\t<tr><th scope=col>indic_de</th><th scope=col>geo</th><th scope=col>time</th><th scope=col>values</th></tr>\n",
       "\t<tr><th scope=col>&lt;fct&gt;</th><th scope=col>&lt;fct&gt;</th><th scope=col>&lt;fct&gt;</th><th scope=col>&lt;dbl&gt;</th></tr>\n",
       "</thead>\n",
       "<tbody>\n",
       "\t<tr><td>DEPRATIO1</td><td>AL</td><td>2019</td><td>45.6</td></tr>\n",
       "\t<tr><td>DEPRATIO1</td><td>AT</td><td>2019</td><td>49.9</td></tr>\n",
       "\t<tr><td>DEPRATIO1</td><td>BE</td><td>2019</td><td>55.8</td></tr>\n",
       "\t<tr><td>DEPRATIO1</td><td>BG</td><td>2019</td><td>55.5</td></tr>\n",
       "\t<tr><td>DEPRATIO1</td><td>CH</td><td>2019</td><td>50.3</td></tr>\n",
       "\t<tr><td>DEPRATIO1</td><td>CY</td><td>2019</td><td>47.6</td></tr>\n",
       "</tbody>\n",
       "</table>\n"
      ],
      "text/latex": [
       "A data.table: 6 × 4\n",
       "\\begin{tabular}{llll}\n",
       " indic\\_de & geo & time & values\\\\\n",
       " <fct> & <fct> & <fct> & <dbl>\\\\\n",
       "\\hline\n",
       "\t DEPRATIO1 & AL & 2019 & 45.6\\\\\n",
       "\t DEPRATIO1 & AT & 2019 & 49.9\\\\\n",
       "\t DEPRATIO1 & BE & 2019 & 55.8\\\\\n",
       "\t DEPRATIO1 & BG & 2019 & 55.5\\\\\n",
       "\t DEPRATIO1 & CH & 2019 & 50.3\\\\\n",
       "\t DEPRATIO1 & CY & 2019 & 47.6\\\\\n",
       "\\end{tabular}\n"
      ],
      "text/markdown": [
       "\n",
       "A data.table: 6 × 4\n",
       "\n",
       "| indic_de &lt;fct&gt; | geo &lt;fct&gt; | time &lt;fct&gt; | values &lt;dbl&gt; |\n",
       "|---|---|---|---|\n",
       "| DEPRATIO1 | AL | 2019 | 45.6 |\n",
       "| DEPRATIO1 | AT | 2019 | 49.9 |\n",
       "| DEPRATIO1 | BE | 2019 | 55.8 |\n",
       "| DEPRATIO1 | BG | 2019 | 55.5 |\n",
       "| DEPRATIO1 | CH | 2019 | 50.3 |\n",
       "| DEPRATIO1 | CY | 2019 | 47.6 |\n",
       "\n"
      ],
      "text/plain": [
       "  indic_de  geo time values\n",
       "1 DEPRATIO1 AL  2019 45.6  \n",
       "2 DEPRATIO1 AT  2019 49.9  \n",
       "3 DEPRATIO1 BE  2019 55.8  \n",
       "4 DEPRATIO1 BG  2019 55.5  \n",
       "5 DEPRATIO1 CH  2019 50.3  \n",
       "6 DEPRATIO1 CY  2019 47.6  "
      ]
     },
     "metadata": {},
     "output_type": "display_data"
    }
   ],
   "source": [
    "dataset7 <- subset(dataset, dataset$indic_de %in% y & dataset$time==2019)\n",
    "head(dataset7)"
   ]
  },
  {
   "cell_type": "markdown",
   "metadata": {
    "scrolled": true
   },
   "source": [
    "- Create vectors with the values for each year category of `indic_de` (`\"YOUNGDEP1\"`, `\"OLDDEP1\"`, `\"DEPRATIO1\"`, `\"PC_Y80_MAX\"`).\n",
    "- Order them with respect to the vector `countries` previously defined."
   ]
  },
  {
   "cell_type": "code",
   "execution_count": 62,
   "metadata": {},
   "outputs": [],
   "source": [
    "young <- dataset7[dataset7$indic_de==\"YOUNGDEP1\", -c(1,3)]\n",
    "young <- young[order(factor(young$geo, levels=unique(countries))),-1]\n",
    "\n",
    "old <- dataset7[dataset7$indic_de== \"OLDDEP1\", -c(1,3)]\n",
    "old <- old[order(factor(old$geo, levels=unique(countries))),-1]\n",
    "\n",
    "tot <- dataset7[dataset7$indic_de==\"DEPRATIO1\", -c(1,3)]\n",
    "tot <- tot[order(factor(tot$geo, levels=unique(countries))),-1]\n",
    "\n",
    "eight <- dataset7[dataset7$indic_de==\"PC_Y80_MAX\", -c(1,3)]\n",
    "eight <- eight[order(factor(eight$geo, levels=unique(countries))),-1]"
   ]
  },
  {
   "cell_type": "markdown",
   "metadata": {},
   "source": [
    "Merge the different vectors and create the table with the function `cbind`:"
   ]
  },
  {
   "cell_type": "code",
   "execution_count": 63,
   "metadata": {},
   "outputs": [
    {
     "data": {
      "text/html": [
       "<table>\n",
       "<caption>A data.table: 6 × 5</caption>\n",
       "<thead>\n",
       "\t<tr><th scope=col></th><th scope=col>Young-age dependency ratio</th><th scope=col>Old-age dependency ratio</th><th scope=col>Total age dependency ratio</th><th scope=col>Share of population aged 80 or over</th></tr>\n",
       "\t<tr><th scope=col>&lt;fct&gt;</th><th scope=col>&lt;dbl&gt;</th><th scope=col>&lt;dbl&gt;</th><th scope=col>&lt;dbl&gt;</th><th scope=col>&lt;dbl&gt;</th></tr>\n",
       "</thead>\n",
       "<tbody>\n",
       "\t<tr><td>EU-27   </td><td>23.5</td><td>31.4</td><td>54.9</td><td>5.8</td></tr>\n",
       "\t<tr><td>Belgium </td><td>26.4</td><td>29.5</td><td>55.8</td><td>5.6</td></tr>\n",
       "\t<tr><td>Bulgaria</td><td>22.3</td><td>33.2</td><td>55.5</td><td>4.8</td></tr>\n",
       "\t<tr><td>Czechia </td><td>24.6</td><td>30.4</td><td>55.0</td><td>4.1</td></tr>\n",
       "\t<tr><td>Denmark </td><td>25.8</td><td>30.6</td><td>56.4</td><td>4.5</td></tr>\n",
       "\t<tr><td>Germany </td><td>21.0</td><td>33.2</td><td>54.2</td><td>6.5</td></tr>\n",
       "</tbody>\n",
       "</table>\n"
      ],
      "text/latex": [
       "A data.table: 6 × 5\n",
       "\\begin{tabular}{lllll}\n",
       "  & Young-age dependency ratio & Old-age dependency ratio & Total age dependency ratio & Share of population aged 80 or over\\\\\n",
       " <fct> & <dbl> & <dbl> & <dbl> & <dbl>\\\\\n",
       "\\hline\n",
       "\t EU-27    & 23.5 & 31.4 & 54.9 & 5.8\\\\\n",
       "\t Belgium  & 26.4 & 29.5 & 55.8 & 5.6\\\\\n",
       "\t Bulgaria & 22.3 & 33.2 & 55.5 & 4.8\\\\\n",
       "\t Czechia  & 24.6 & 30.4 & 55.0 & 4.1\\\\\n",
       "\t Denmark  & 25.8 & 30.6 & 56.4 & 4.5\\\\\n",
       "\t Germany  & 21.0 & 33.2 & 54.2 & 6.5\\\\\n",
       "\\end{tabular}\n"
      ],
      "text/markdown": [
       "\n",
       "A data.table: 6 × 5\n",
       "\n",
       "| <!----> &lt;fct&gt; | Young-age dependency ratio &lt;dbl&gt; | Old-age dependency ratio &lt;dbl&gt; | Total age dependency ratio &lt;dbl&gt; | Share of population aged 80 or over &lt;dbl&gt; |\n",
       "|---|---|---|---|---|\n",
       "| EU-27    | 23.5 | 31.4 | 54.9 | 5.8 |\n",
       "| Belgium  | 26.4 | 29.5 | 55.8 | 5.6 |\n",
       "| Bulgaria | 22.3 | 33.2 | 55.5 | 4.8 |\n",
       "| Czechia  | 24.6 | 30.4 | 55.0 | 4.1 |\n",
       "| Denmark  | 25.8 | 30.6 | 56.4 | 4.5 |\n",
       "| Germany  | 21.0 | 33.2 | 54.2 | 6.5 |\n",
       "\n"
      ],
      "text/plain": [
       "           Young-age dependency ratio Old-age dependency ratio\n",
       "1 EU-27    23.5                       31.4                    \n",
       "2 Belgium  26.4                       29.5                    \n",
       "3 Bulgaria 22.3                       33.2                    \n",
       "4 Czechia  24.6                       30.4                    \n",
       "5 Denmark  25.8                       30.6                    \n",
       "6 Germany  21.0                       33.2                    \n",
       "  Total age dependency ratio Share of population aged 80 or over\n",
       "1 54.9                       5.8                                \n",
       "2 55.8                       5.6                                \n",
       "3 55.5                       4.8                                \n",
       "4 55.0                       4.1                                \n",
       "5 56.4                       4.5                                \n",
       "6 54.2                       6.5                                "
      ]
     },
     "metadata": {},
     "output_type": "display_data"
    }
   ],
   "source": [
    "dt7 <- cbind(cntr,young,old,tot,eight)\n",
    "colnames(dt7) <- c(\"\", \"Young-age dependency ratio\",\"Old-age dependency ratio\",\"Total age dependency ratio\",\"Share of population aged 80 or over\")\n",
    "head(dt7)"
   ]
  },
  {
   "cell_type": "markdown",
   "metadata": {
    "scrolled": true
   },
   "source": [
    "Display the table with the function `kable`:\n",
    "  - `kable_styling`: define the layout of the table,\n",
    "  - `row`/`column_spec`: add features to rows or columns,\n",
    "  - `group_rows`: define grouped rows,\n",
    "  - `display_html`: display the table below the code."
   ]
  },
  {
   "cell_type": "code",
   "execution_count": 64,
   "metadata": {},
   "outputs": [
    {
     "data": {
      "text/html": [
       "<table class=\"table table-striped table-bordered\" style=\"margin-left: auto; margin-right: auto;\">\n",
       " <thead>\n",
       "  <tr>\n",
       "   <th style=\"text-align:left;font-weight: bold;background-color: bisque !important;text-align: center;font-size: 15px;\">  </th>\n",
       "   <th style=\"text-align:right;font-weight: bold;background-color: bisque !important;text-align: center;font-size: 15px;\"> Young-age dependency ratio </th>\n",
       "   <th style=\"text-align:right;font-weight: bold;background-color: bisque !important;text-align: center;font-size: 15px;\"> Old-age dependency ratio </th>\n",
       "   <th style=\"text-align:right;font-weight: bold;background-color: bisque !important;text-align: center;font-size: 15px;\"> Total age dependency ratio </th>\n",
       "   <th style=\"text-align:right;font-weight: bold;background-color: bisque !important;text-align: center;font-size: 15px;\"> Share of population aged 80 or over </th>\n",
       "  </tr>\n",
       " </thead>\n",
       "<tbody>\n",
       "  <tr>\n",
       "   <td style=\"text-align:left;background-color: orange !important;font-weight: bold;\"> EU-27 </td>\n",
       "   <td style=\"text-align:right;background-color: orange !important;\"> 23.5 </td>\n",
       "   <td style=\"text-align:right;background-color: orange !important;\"> 31.4 </td>\n",
       "   <td style=\"text-align:right;background-color: orange !important;\"> 54.9 </td>\n",
       "   <td style=\"text-align:right;background-color: orange !important;\"> 5.8 </td>\n",
       "  </tr>\n",
       "  <tr>\n",
       "   <td style=\"text-align:left;font-weight: bold;\"> Belgium </td>\n",
       "   <td style=\"text-align:right;\"> 26.4 </td>\n",
       "   <td style=\"text-align:right;\"> 29.5 </td>\n",
       "   <td style=\"text-align:right;\"> 55.8 </td>\n",
       "   <td style=\"text-align:right;\"> 5.6 </td>\n",
       "  </tr>\n",
       "  <tr>\n",
       "   <td style=\"text-align:left;font-weight: bold;\"> Bulgaria </td>\n",
       "   <td style=\"text-align:right;\"> 22.3 </td>\n",
       "   <td style=\"text-align:right;\"> 33.2 </td>\n",
       "   <td style=\"text-align:right;\"> 55.5 </td>\n",
       "   <td style=\"text-align:right;\"> 4.8 </td>\n",
       "  </tr>\n",
       "  <tr>\n",
       "   <td style=\"text-align:left;font-weight: bold;\"> Czechia </td>\n",
       "   <td style=\"text-align:right;\"> 24.6 </td>\n",
       "   <td style=\"text-align:right;\"> 30.4 </td>\n",
       "   <td style=\"text-align:right;\"> 55.0 </td>\n",
       "   <td style=\"text-align:right;\"> 4.1 </td>\n",
       "  </tr>\n",
       "  <tr>\n",
       "   <td style=\"text-align:left;font-weight: bold;\"> Denmark </td>\n",
       "   <td style=\"text-align:right;\"> 25.8 </td>\n",
       "   <td style=\"text-align:right;\"> 30.6 </td>\n",
       "   <td style=\"text-align:right;\"> 56.4 </td>\n",
       "   <td style=\"text-align:right;\"> 4.5 </td>\n",
       "  </tr>\n",
       "  <tr>\n",
       "   <td style=\"text-align:left;font-weight: bold;\"> Germany </td>\n",
       "   <td style=\"text-align:right;\"> 21.0 </td>\n",
       "   <td style=\"text-align:right;\"> 33.2 </td>\n",
       "   <td style=\"text-align:right;\"> 54.2 </td>\n",
       "   <td style=\"text-align:right;\"> 6.5 </td>\n",
       "  </tr>\n",
       "  <tr>\n",
       "   <td style=\"text-align:left;font-weight: bold;\"> Estonia </td>\n",
       "   <td style=\"text-align:right;\"> 25.7 </td>\n",
       "   <td style=\"text-align:right;\"> 31.0 </td>\n",
       "   <td style=\"text-align:right;\"> 56.7 </td>\n",
       "   <td style=\"text-align:right;\"> 5.6 </td>\n",
       "  </tr>\n",
       "  <tr>\n",
       "   <td style=\"text-align:left;font-weight: bold;\"> Ireland </td>\n",
       "   <td style=\"text-align:right;\"> 31.4 </td>\n",
       "   <td style=\"text-align:right;\"> 21.6 </td>\n",
       "   <td style=\"text-align:right;\"> 53.0 </td>\n",
       "   <td style=\"text-align:right;\"> 3.3 </td>\n",
       "  </tr>\n",
       "  <tr>\n",
       "   <td style=\"text-align:left;font-weight: bold;\"> Greece </td>\n",
       "   <td style=\"text-align:right;\"> 22.5 </td>\n",
       "   <td style=\"text-align:right;\"> 34.6 </td>\n",
       "   <td style=\"text-align:right;\"> 57.2 </td>\n",
       "   <td style=\"text-align:right;\"> 7.1 </td>\n",
       "  </tr>\n",
       "  <tr>\n",
       "   <td style=\"text-align:left;font-weight: bold;\"> Spain </td>\n",
       "   <td style=\"text-align:right;\"> 22.4 </td>\n",
       "   <td style=\"text-align:right;\"> 29.5 </td>\n",
       "   <td style=\"text-align:right;\"> 51.9 </td>\n",
       "   <td style=\"text-align:right;\"> 6.1 </td>\n",
       "  </tr>\n",
       "  <tr>\n",
       "   <td style=\"text-align:left;font-weight: bold;\"> France </td>\n",
       "   <td style=\"text-align:right;\"> 29.0 </td>\n",
       "   <td style=\"text-align:right;\"> 32.5 </td>\n",
       "   <td style=\"text-align:right;\"> 61.5 </td>\n",
       "   <td style=\"text-align:right;\"> 6.1 </td>\n",
       "  </tr>\n",
       "  <tr>\n",
       "   <td style=\"text-align:left;font-weight: bold;\"> Croatia </td>\n",
       "   <td style=\"text-align:right;\"> 22.2 </td>\n",
       "   <td style=\"text-align:right;\"> 31.6 </td>\n",
       "   <td style=\"text-align:right;\"> 53.8 </td>\n",
       "   <td style=\"text-align:right;\"> 5.3 </td>\n",
       "  </tr>\n",
       "  <tr>\n",
       "   <td style=\"text-align:left;font-weight: bold;\"> Italy </td>\n",
       "   <td style=\"text-align:right;\"> 20.6 </td>\n",
       "   <td style=\"text-align:right;\"> 35.7 </td>\n",
       "   <td style=\"text-align:right;\"> 56.3 </td>\n",
       "   <td style=\"text-align:right;\"> 7.2 </td>\n",
       "  </tr>\n",
       "  <tr>\n",
       "   <td style=\"text-align:left;font-weight: bold;\"> Cyprus </td>\n",
       "   <td style=\"text-align:right;\"> 23.8 </td>\n",
       "   <td style=\"text-align:right;\"> 23.8 </td>\n",
       "   <td style=\"text-align:right;\"> 47.6 </td>\n",
       "   <td style=\"text-align:right;\"> 3.7 </td>\n",
       "  </tr>\n",
       "  <tr>\n",
       "   <td style=\"text-align:left;font-weight: bold;\"> Latvia </td>\n",
       "   <td style=\"text-align:right;\"> 24.9 </td>\n",
       "   <td style=\"text-align:right;\"> 31.7 </td>\n",
       "   <td style=\"text-align:right;\"> 56.6 </td>\n",
       "   <td style=\"text-align:right;\"> 5.6 </td>\n",
       "  </tr>\n",
       "  <tr>\n",
       "   <td style=\"text-align:left;font-weight: bold;\"> Lithuania </td>\n",
       "   <td style=\"text-align:right;\"> 23.2 </td>\n",
       "   <td style=\"text-align:right;\"> 30.4 </td>\n",
       "   <td style=\"text-align:right;\"> 53.5 </td>\n",
       "   <td style=\"text-align:right;\"> 5.8 </td>\n",
       "  </tr>\n",
       "  <tr>\n",
       "   <td style=\"text-align:left;font-weight: bold;\"> Luxembourg </td>\n",
       "   <td style=\"text-align:right;\"> 23.1 </td>\n",
       "   <td style=\"text-align:right;\"> 20.7 </td>\n",
       "   <td style=\"text-align:right;\"> 43.8 </td>\n",
       "   <td style=\"text-align:right;\"> 4.0 </td>\n",
       "  </tr>\n",
       "  <tr>\n",
       "   <td style=\"text-align:left;font-weight: bold;\"> Hungary </td>\n",
       "   <td style=\"text-align:right;\"> 22.0 </td>\n",
       "   <td style=\"text-align:right;\"> 29.3 </td>\n",
       "   <td style=\"text-align:right;\"> 51.3 </td>\n",
       "   <td style=\"text-align:right;\"> 4.4 </td>\n",
       "  </tr>\n",
       "  <tr>\n",
       "   <td style=\"text-align:left;font-weight: bold;\"> Malta </td>\n",
       "   <td style=\"text-align:right;\"> 20.2 </td>\n",
       "   <td style=\"text-align:right;\"> 27.6 </td>\n",
       "   <td style=\"text-align:right;\"> 47.8 </td>\n",
       "   <td style=\"text-align:right;\"> 4.2 </td>\n",
       "  </tr>\n",
       "  <tr>\n",
       "   <td style=\"text-align:left;font-weight: bold;\"> Netherlands </td>\n",
       "   <td style=\"text-align:right;\"> 24.4 </td>\n",
       "   <td style=\"text-align:right;\"> 29.5 </td>\n",
       "   <td style=\"text-align:right;\"> 53.9 </td>\n",
       "   <td style=\"text-align:right;\"> 4.6 </td>\n",
       "  </tr>\n",
       "  <tr>\n",
       "   <td style=\"text-align:left;font-weight: bold;\"> Austria </td>\n",
       "   <td style=\"text-align:right;\"> 21.6 </td>\n",
       "   <td style=\"text-align:right;\"> 28.2 </td>\n",
       "   <td style=\"text-align:right;\"> 49.9 </td>\n",
       "   <td style=\"text-align:right;\"> 5.0 </td>\n",
       "  </tr>\n",
       "  <tr>\n",
       "   <td style=\"text-align:left;font-weight: bold;\"> Poland </td>\n",
       "   <td style=\"text-align:right;\"> 22.9 </td>\n",
       "   <td style=\"text-align:right;\"> 26.4 </td>\n",
       "   <td style=\"text-align:right;\"> 49.3 </td>\n",
       "   <td style=\"text-align:right;\"> 4.4 </td>\n",
       "  </tr>\n",
       "  <tr>\n",
       "   <td style=\"text-align:left;font-weight: bold;\"> Portugal </td>\n",
       "   <td style=\"text-align:right;\"> 21.2 </td>\n",
       "   <td style=\"text-align:right;\"> 33.9 </td>\n",
       "   <td style=\"text-align:right;\"> 55.1 </td>\n",
       "   <td style=\"text-align:right;\"> 6.4 </td>\n",
       "  </tr>\n",
       "  <tr>\n",
       "   <td style=\"text-align:left;font-weight: bold;\"> Romania </td>\n",
       "   <td style=\"text-align:right;\"> 23.8 </td>\n",
       "   <td style=\"text-align:right;\"> 28.1 </td>\n",
       "   <td style=\"text-align:right;\"> 52.0 </td>\n",
       "   <td style=\"text-align:right;\"> 4.7 </td>\n",
       "  </tr>\n",
       "  <tr>\n",
       "   <td style=\"text-align:left;font-weight: bold;\"> Slovenia </td>\n",
       "   <td style=\"text-align:right;\"> 23.2 </td>\n",
       "   <td style=\"text-align:right;\"> 30.5 </td>\n",
       "   <td style=\"text-align:right;\"> 53.7 </td>\n",
       "   <td style=\"text-align:right;\"> 5.3 </td>\n",
       "  </tr>\n",
       "  <tr>\n",
       "   <td style=\"text-align:left;font-weight: bold;\"> Slovakia </td>\n",
       "   <td style=\"text-align:right;\"> 23.1 </td>\n",
       "   <td style=\"text-align:right;\"> 23.5 </td>\n",
       "   <td style=\"text-align:right;\"> 46.6 </td>\n",
       "   <td style=\"text-align:right;\"> 3.3 </td>\n",
       "  </tr>\n",
       "  <tr>\n",
       "   <td style=\"text-align:left;font-weight: bold;\"> Finland </td>\n",
       "   <td style=\"text-align:right;\"> 25.7 </td>\n",
       "   <td style=\"text-align:right;\"> 35.1 </td>\n",
       "   <td style=\"text-align:right;\"> 60.8 </td>\n",
       "   <td style=\"text-align:right;\"> 5.5 </td>\n",
       "  </tr>\n",
       "  <tr>\n",
       "   <td style=\"text-align:left;font-weight: bold;\"> Sweden </td>\n",
       "   <td style=\"text-align:right;\"> 28.5 </td>\n",
       "   <td style=\"text-align:right;\"> 31.9 </td>\n",
       "   <td style=\"text-align:right;\"> 60.5 </td>\n",
       "   <td style=\"text-align:right;\"> 5.1 </td>\n",
       "  </tr>\n",
       "  <tr grouplength=\"2\"><td colspan=\"5\" style=\"border-bottom: 1px solid;\"><strong> </strong></td></tr>\n",
       "<tr>\n",
       "   <td style=\"text-align:left;font-weight: bold; padding-left:  2em;\" indentlevel=\"1\"> United Kingdom </td>\n",
       "   <td style=\"text-align:right;\"> 28.1 </td>\n",
       "   <td style=\"text-align:right;\"> 28.9 </td>\n",
       "   <td style=\"text-align:right;\"> 57.1 </td>\n",
       "   <td style=\"text-align:right;\"> 5.0 </td>\n",
       "  </tr>\n",
       "  <tr grouplength=\"5\"><td colspan=\"5\" style=\"border-bottom: 1px solid;\"><strong> </strong></td></tr>\n",
       "<tr>\n",
       "   <td style=\"text-align:left;font-weight: bold; padding-left:  2em;\" indentlevel=\"2\"> Iceland </td>\n",
       "   <td style=\"text-align:right;\"> 28.4 </td>\n",
       "   <td style=\"text-align:right;\"> 21.3 </td>\n",
       "   <td style=\"text-align:right;\"> 49.7 </td>\n",
       "   <td style=\"text-align:right;\"> 3.5 </td>\n",
       "  </tr>\n",
       "  <tr>\n",
       "   <td style=\"text-align:left;font-weight: bold; padding-left:  2em;\" indentlevel=\"1\"> Liechtenstein </td>\n",
       "   <td style=\"text-align:right;\"> 21.9 </td>\n",
       "   <td style=\"text-align:right;\"> 26.5 </td>\n",
       "   <td style=\"text-align:right;\"> 48.4 </td>\n",
       "   <td style=\"text-align:right;\"> 3.8 </td>\n",
       "  </tr>\n",
       "  <tr>\n",
       "   <td style=\"text-align:left;font-weight: bold; padding-left:  2em;\" indentlevel=\"1\"> Norway </td>\n",
       "   <td style=\"text-align:right;\"> 26.9 </td>\n",
       "   <td style=\"text-align:right;\"> 26.4 </td>\n",
       "   <td style=\"text-align:right;\"> 53.4 </td>\n",
       "   <td style=\"text-align:right;\"> 4.2 </td>\n",
       "  </tr>\n",
       "  <tr>\n",
       "   <td style=\"text-align:left;font-weight: bold; padding-left:  2em;\" indentlevel=\"1\"> Switzerland </td>\n",
       "   <td style=\"text-align:right;\"> 22.6 </td>\n",
       "   <td style=\"text-align:right;\"> 27.8 </td>\n",
       "   <td style=\"text-align:right;\"> 50.3 </td>\n",
       "   <td style=\"text-align:right;\"> 5.2 </td>\n",
       "  </tr>\n",
       "  <tr grouplength=\"5\"><td colspan=\"5\" style=\"border-bottom: 1px solid;\"><strong> </strong></td></tr>\n",
       "<tr>\n",
       "   <td style=\"text-align:left;font-weight: bold; padding-left:  2em;\" indentlevel=\"2\"> Montenegro </td>\n",
       "   <td style=\"text-align:right;\"> 26.9 </td>\n",
       "   <td style=\"text-align:right;\"> 22.7 </td>\n",
       "   <td style=\"text-align:right;\"> 49.5 </td>\n",
       "   <td style=\"text-align:right;\"> 3.3 </td>\n",
       "  </tr>\n",
       "  <tr>\n",
       "   <td style=\"text-align:left;font-weight: bold; padding-left:  2em;\" indentlevel=\"1\"> North Macedonia </td>\n",
       "   <td style=\"text-align:right;\"> 23.5 </td>\n",
       "   <td style=\"text-align:right;\"> 20.2 </td>\n",
       "   <td style=\"text-align:right;\"> 43.7 </td>\n",
       "   <td style=\"text-align:right;\"> 2.5 </td>\n",
       "  </tr>\n",
       "  <tr>\n",
       "   <td style=\"text-align:left;font-weight: bold; padding-left:  2em;\" indentlevel=\"1\"> Albania </td>\n",
       "   <td style=\"text-align:right;\"> 25.1 </td>\n",
       "   <td style=\"text-align:right;\"> 20.5 </td>\n",
       "   <td style=\"text-align:right;\"> 45.6 </td>\n",
       "   <td style=\"text-align:right;\"> 2.7 </td>\n",
       "  </tr>\n",
       "  <tr>\n",
       "   <td style=\"text-align:left;font-weight: bold; padding-left:  2em;\" indentlevel=\"1\"> Serbia </td>\n",
       "   <td style=\"text-align:right;\"> 21.9 </td>\n",
       "   <td style=\"text-align:right;\"> 31.3 </td>\n",
       "   <td style=\"text-align:right;\"> 53.2 </td>\n",
       "   <td style=\"text-align:right;\"> 4.6 </td>\n",
       "  </tr>\n",
       "  <tr>\n",
       "   <td style=\"text-align:left;font-weight: bold; padding-left:  2em;\" indentlevel=\"1\"> Turkey </td>\n",
       "   <td style=\"text-align:right;\"> 34.5 </td>\n",
       "   <td style=\"text-align:right;\"> 12.9 </td>\n",
       "   <td style=\"text-align:right;\"> 47.4 </td>\n",
       "   <td style=\"text-align:right;\"> 1.8 </td>\n",
       "  </tr>\n",
       "</tbody>\n",
       "</table>"
      ]
     },
     "metadata": {},
     "output_type": "display_data"
    }
   ],
   "source": [
    "dt7 %>%\n",
    "  kable(\"html\")%>%\n",
    "  kable_styling(c(\"striped\", \"bordered\")) %>%\n",
    "  row_spec(0, background='bisque', bold=TRUE, align=\"c\", font_size=15) %>%\n",
    "  row_spec(1, background='orange') %>%\n",
    "  column_spec(1, bold=TRUE) %>%\n",
    "  group_rows(\" \", 29,30) %>%\n",
    "  group_rows(\" \", 30,34) %>%\n",
    "  group_rows(\" \", 34,38) %>%\n",
    "  as.character()%>%\n",
    "  display_html()\n"
   ]
  }
 ],
 "metadata": {
  "kernelspec": {
   "display_name": "R",
   "language": "R",
   "name": "ir"
  },
  "language_info": {
   "codemirror_mode": "r",
   "file_extension": ".r",
   "mimetype": "text/x-r-source",
   "name": "R",
   "pygments_lexer": "r",
   "version": "3.6.1"
  }
 },
 "nbformat": 4,
 "nbformat_minor": 4
}
