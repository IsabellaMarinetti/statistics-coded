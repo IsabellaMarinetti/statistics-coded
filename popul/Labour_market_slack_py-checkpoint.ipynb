{
 "cells": [
  {
   "cell_type": "code",
   "execution_count": null,
   "metadata": {},
   "outputs": [],
   "source": []
  },
  {
   "cell_type": "markdown",
   "metadata": {},
   "source": [
    "## *Statistics coded:* Labour market slack - annual statistics on unmet need for employment\n",
    "\n",
    "Prepared by [**Ajsi Kanapari**](https://github.com/ajsikanap) (EMOS).\n",
    "\n",
    "This notebook aims at illustrating the *Statistics Expplained* article on [Labour market slack - annual statistics on unmet need for employment](https://ec.europa.eu/eurostat/statistics-explained/index.php?title=Labour_market_slack_%E2%80%93_annual_statistics_on_unmet_needs_for_employment#Overview_of_the_underemployed_and_the_potential_additional_labour_force).\n"
   ]
  },
  {
   "cell_type": "markdown",
   "metadata": {},
   "source": [
    "### Settings\n",
    "\n",
    "The libraries needed for this notebook are the following ones:"
   ]
  },
  {
   "cell_type": "code",
   "execution_count": 84,
   "metadata": {},
   "outputs": [
    {
     "name": "stdout",
     "output_type": "stream",
     "text": [
      "Requirement already satisfied: eurostatapiclient in c:\\users\\ajsik\\anaconda3\\lib\\site-packages (0.2.5)\n",
      "Requirement already satisfied: requests==2.21.0 in c:\\users\\ajsik\\anaconda3\\lib\\site-packages (from eurostatapiclient) (2.21.0)\n",
      "Requirement already satisfied: pandas==0.23.4 in c:\\users\\ajsik\\anaconda3\\lib\\site-packages (from eurostatapiclient) (0.23.4)\n",
      "Requirement already satisfied: idna<2.9,>=2.5 in c:\\users\\ajsik\\anaconda3\\lib\\site-packages (from requests==2.21.0->eurostatapiclient) (2.8)\n",
      "Requirement already satisfied: certifi>=2017.4.17 in c:\\users\\ajsik\\anaconda3\\lib\\site-packages (from requests==2.21.0->eurostatapiclient) (2020.6.20)\n",
      "Requirement already satisfied: chardet<3.1.0,>=3.0.2 in c:\\users\\ajsik\\anaconda3\\lib\\site-packages (from requests==2.21.0->eurostatapiclient) (3.0.4)\n",
      "Requirement already satisfied: urllib3<1.25,>=1.21.1 in c:\\users\\ajsik\\anaconda3\\lib\\site-packages (from requests==2.21.0->eurostatapiclient) (1.24.3)\n",
      "Requirement already satisfied: python-dateutil>=2.5.0 in c:\\users\\ajsik\\anaconda3\\lib\\site-packages (from pandas==0.23.4->eurostatapiclient) (2.8.1)\n",
      "Requirement already satisfied: pytz>=2011k in c:\\users\\ajsik\\anaconda3\\lib\\site-packages (from pandas==0.23.4->eurostatapiclient) (2020.1)\n",
      "Requirement already satisfied: numpy>=1.9.0 in c:\\users\\ajsik\\anaconda3\\lib\\site-packages (from pandas==0.23.4->eurostatapiclient) (1.18.5)\n",
      "Requirement already satisfied: six>=1.5 in c:\\users\\ajsik\\anaconda3\\lib\\site-packages (from python-dateutil>=2.5.0->pandas==0.23.4->eurostatapiclient) (1.15.0)\n"
     ]
    }
   ],
   "source": [
    "#Install api\n",
    "!pip install eurostatapiclient\n",
    "from eurostatapiclient import EurostatAPIClient\n",
    "\n",
    "\n",
    "#import libraries\n",
    "import numpy as np\n",
    "import json\n",
    "import pandas as pd\n",
    "import matplotlib.pyplot as plt\n",
    "import matplotlib.ticker as mtick\n",
    "import matplotlib.patches as mpatches\n",
    "from matplotlib.lines import Line2D\n",
    "import matplotlib.dates as mdates\n",
    "from matplotlib.ticker import FuncFormatter, MaxNLocator, IndexLocator\n",
    "import seaborn as sns\n",
    "import math\n",
    "import seaborn as sns\n",
    "from sklearn.linear_model import LinearRegression\n",
    "\n",
    "##import other libraries (needed?)\n",
    "import requests\n",
    "costum_lib_locations = ['../src']\n",
    "for location in costum_lib_locations:\n",
    "    if location not in sys.path:\n",
    "        sys.path.append('../src')\n",
    "import requestLib\n",
    "import dataDealer\n",
    "import dataDealer\n",
    "\n",
    "\n"
   ]
  },
  {
   "cell_type": "markdown",
   "metadata": {},
   "source": [
    "### Documentation:\n",
    "- [**Numpy**](https://numpy.org/)\n",
    "- [**EurostatApiClient**](https://pypi.org/project/eurostatapiclient/)\n",
    "- [**Matplotlib**](https://matplotlib.org/contents.html)\n",
    "- [**Seaborn**](https://seaborn.pydata.org/)\n",
    "- [**Math**](https://docs.python.org/3/library/math.html)"
   ]
  },
  {
   "cell_type": "markdown",
   "metadata": {},
   "source": [
    "#### Set up eurostatapiclinet by supplying settings, which will stay the same throught"
   ]
  },
  {
   "cell_type": "code",
   "execution_count": 85,
   "metadata": {},
   "outputs": [],
   "source": [
    "VERSION = 'v2.1'\n",
    "FORMAT = 'json'\n",
    "LANGUAGE = 'en'\n",
    "client = EurostatAPIClient(VERSION, FORMAT, LANGUAGE)\n"
   ]
  },
  {
   "cell_type": "code",
   "execution_count": 86,
   "metadata": {},
   "outputs": [],
   "source": [
    "#legend proprieties\n",
    "legend_properties = {'weight':'bold','size':'12'}\n",
    "countries_names = {'AT':'Austria', 'BE':'Belgium', 'BG':'Bulgaria', 'CY': 'Cyprus', 'CZ': 'Czechia', 'DE': 'Germany', 'DK':\n",
    "            'Denmark', 'EE':'Estonia', 'EL': 'Greece', 'ES':'Spain', 'FI':'Finland', 'FR':'France', 'HR':'Croatia', \n",
    "            'HU':'Hungary', 'IE':'Ireland', 'IT':'Italy', 'LT':'Lithuania', 'LU':'Luxembourg', 'LV':'Latvia', 'MT':\n",
    "            'Malta', 'NL':'Netherlands', 'PL':'Poland', 'PT':'Portugal', 'RO':'Romania', 'SE':'Sweden', 'SI':'Slovenia',\n",
    "            'SK':'Slovakia', 'UK':'United Kingdom', 'EU28': 'EU-28'}\n",
    "#countries_abbr = ['AT','BE','BG','CY','CZ','DE','DK','EE','EL','ES','FI',\n",
    "#                  'FR','HR','HU','IE','IT','LT','LU','LV','NV','NL','PL','PT','RO','SE','SI','SK','UK','MT', 'EU28']\n",
    "countries_abbr = ['AT','BE','BG','CH','CY','CZ','DE','DK','EE','EL','ES','FI','FR','HR','HU','IE','IS','IT','LI','LT',\n",
    "                  'LU','LV','MT','NL','NO','PL','PT','RO','SE','SI','SK','UK']"
   ]
  },
  {
   "cell_type": "markdown",
   "metadata": {},
   "source": [
    "### EU LABOUR MARKET 2019\n",
    "\n",
    "#### Figure 1"
   ]
  },
  {
   "cell_type": "code",
   "execution_count": 87,
   "metadata": {},
   "outputs": [],
   "source": [
    "#\n",
    "host_url = \"http://ec.europa.eu/eurostat/wdds/rest/data/v2.1/json/en/\"\n",
    "\n",
    "def assign_reference(data, multiplicity='time'):\n",
    "    lines = list(list(data['dimension']['geo']['category'].values())[1].values())\n",
    "    columns= list(list(data['dimension'][multiplicity]['category'].values())[1].values())\n",
    "    return {'lines' : lines, 'columns': columns}\n",
    "\n",
    "client = requestLib.RequestHandeler(host_url)"
   ]
  },
  {
   "cell_type": "markdown",
   "metadata": {},
   "source": [
    "#### Request and wrangle data so that it is usable, by pivoting dataframe, and sorting it for graphing"
   ]
  },
  {
   "cell_type": "code",
   "execution_count": 88,
   "metadata": {},
   "outputs": [
    {
     "ename": "AttributeError",
     "evalue": "'RequestHandeler' object has no attribute 'get_dataset'",
     "output_type": "error",
     "traceback": [
      "\u001b[1;31m---------------------------------------------------------------------------\u001b[0m",
      "\u001b[1;31mAttributeError\u001b[0m                            Traceback (most recent call last)",
      "\u001b[1;32m<ipython-input-88-641fd93b9226>\u001b[0m in \u001b[0;36m<module>\u001b[1;34m\u001b[0m\n\u001b[0;32m      9\u001b[0m \u001b[1;31m#first table:\u001b[0m\u001b[1;33m\u001b[0m\u001b[1;33m\u001b[0m\u001b[1;33m\u001b[0m\u001b[0m\n\u001b[0;32m     10\u001b[0m \u001b[1;33m\u001b[0m\u001b[0m\n\u001b[1;32m---> 11\u001b[1;33m \u001b[0mdataframe_1\u001b[0m \u001b[1;33m=\u001b[0m \u001b[0mclient\u001b[0m\u001b[1;33m.\u001b[0m\u001b[0mget_dataset\u001b[0m\u001b[1;33m(\u001b[0m\u001b[1;33m)\u001b[0m\u001b[1;33m.\u001b[0m\u001b[0mto_dataframe\u001b[0m\u001b[1;33m(\u001b[0m\u001b[1;33m)\u001b[0m\u001b[1;33m\u001b[0m\u001b[1;33m\u001b[0m\u001b[0m\n\u001b[0m\u001b[0;32m     12\u001b[0m \u001b[1;31m#dataframe_1 = dataframe_1.drop(['citizen', 'agedef','age','unit','sex','time'], axis=1)\u001b[0m\u001b[1;33m\u001b[0m\u001b[1;33m\u001b[0m\u001b[1;33m\u001b[0m\u001b[0m\n\u001b[0;32m     13\u001b[0m \u001b[1;31m#dataframe_1 = dataframe_1.sort_values(by = \"time\")\u001b[0m\u001b[1;33m\u001b[0m\u001b[1;33m\u001b[0m\u001b[1;33m\u001b[0m\u001b[0m\n",
      "\u001b[1;31mAttributeError\u001b[0m: 'RequestHandeler' object has no attribute 'get_dataset'"
     ]
    }
   ],
   "source": [
    "params_df_1 = {\n",
    "    'age': 'Y15-74',\n",
    "    'indic_em':'INAC',\n",
    "    'sinceTimePeriod': '2005',\n",
    "    'sex': 'T',\n",
    "    'geo':'EU27_2020',\n",
    "    'unit':'THS_PER'\n",
    "} \n",
    "#first table:\n",
    "\n",
    "dataframe_1 = client.get_dataset().to_dataframe()\n",
    "#dataframe_1 = dataframe_1.drop(['citizen', 'agedef','age','unit','sex','time'], axis=1)\n",
    "#dataframe_1 = dataframe_1.sort_values(by = \"time\")"
   ]
  },
  {
   "cell_type": "code",
   "execution_count": 76,
   "metadata": {},
   "outputs": [
    {
     "data": {
      "text/plain": [
       "'lfsi_sup_a?sinceTimePeriod=2005&precision=1&sex=T&indic_em=INAC&indic_em=NSEE_AV&indic_em=SEEK_NAV&indic_em=UEMP&geo=EU27_2020&unit=THS_PER&age=Y15-74'"
      ]
     },
     "execution_count": 76,
     "metadata": {},
     "output_type": "execute_result"
    }
   ],
   "source": [
    "#We define params of dataframes\n",
    "params_1 = {\n",
    "    'age': 'Y15-74',\n",
    "    'indic_em':'INAC',\n",
    "    'sinceTimePeriod': '2005',\n",
    "    'sex': 'T',\n",
    "    'geo':'EU27_2020',\n",
    "    'unit':'THS_PER'\n",
    "} \n",
    "\n",
    "#params_2 = {\n",
    "#    'AGE': 'Y15-74',\n",
    "#    'sinceTimePeriod': '2005',\n",
    "#    'sex': 'T',\n",
    "#    'geo':'EU27_2020',\n",
    "#    'unit':'THS_PER'\n",
    "#} \n",
    "# =============================================================================\n",
    "# DATA RETRIEVE AND CLEAN SECTION\n",
    "# =============================================================================\n",
    "\n",
    "dataframe_1 = 'lfsi_sup_a?sinceTimePeriod=2005&precision=1&sex=T&indic_em=INAC&indic_em=NSEE_AV&indic_em=SEEK_NAV&indic_em=UEMP&geo=EU27_2020&unit=THS_PER&age=Y15-74'\n",
    "dataframe_2 = 'http://ec.europa.eu/eurostat/wdds/rest/data/v2.1/json/en/une_rt_a?sinceTimePeriod=2005&precision=1&sex=T&geo=EU27_2020&unit=THS_PER&age=Y15-74'\n",
    "\n",
    "\n",
    "dataframe_1\n",
    "\n",
    "#dataframe_1_total = client.get_dataset('lfsi_sup_a', params=params_1).to_dataframe()\n",
    "\n",
    "#response = client.get_request(params)"
   ]
  },
  {
   "cell_type": "code",
   "execution_count": null,
   "metadata": {},
   "outputs": [],
   "source": []
  },
  {
   "cell_type": "code",
   "execution_count": null,
   "metadata": {},
   "outputs": [],
   "source": []
  }
 ],
 "metadata": {
  "kernelspec": {
   "display_name": "Python 3",
   "language": "python",
   "name": "python3"
  },
  "language_info": {
   "codemirror_mode": {
    "name": "ipython",
    "version": 3
   },
   "file_extension": ".py",
   "mimetype": "text/x-python",
   "name": "python",
   "nbconvert_exporter": "python",
   "pygments_lexer": "ipython3",
   "version": "3.8.3"
  }
 },
 "nbformat": 4,
 "nbformat_minor": 4
}
