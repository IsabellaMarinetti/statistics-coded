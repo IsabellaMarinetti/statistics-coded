{
  "nbformat": 4,
  "nbformat_minor": 0,
  "metadata": {
    "kernelspec": {
      "display_name": "Python 3",
      "language": "python",
      "name": "python3"
    },
    "language_info": {
      "codemirror_mode": {
        "name": "ipython",
        "version": 3
      },
      "file_extension": ".py",
      "mimetype": "text/x-python",
      "name": "python",
      "nbconvert_exporter": "python",
      "pygments_lexer": "ipython3",
      "version": "3.7.1"
    },
    "colab": {
      "name": "trade_investment_employment_globalisation_py.ipynb",
      "provenance": []
    }
  },
  "cells": [
    {
      "cell_type": "markdown",
      "metadata": {
        "id": "weVfzNkwEXfv",
        "colab_type": "text"
      },
      "source": [
        "## Statistics computed: Trade, investment and employment as aspects of globalisation \n",
        "\n",
        "Illustrating https://ec.europa.eu/eurostat/statistics-explained/index.php?title=Trade,_investment_and_employment_as_aspects_of_globalisation\n"
      ]
    },
    {
      "cell_type": "markdown",
      "metadata": {
        "id": "WC0y07O1EXf8",
        "colab_type": "text"
      },
      "source": [
        "#### Import necessary packages and set global properties, such as countrynames for EU28 and corresponding labels"
      ]
    },
    {
      "cell_type": "code",
      "metadata": {
        "id": "f53mAXHcEa2f",
        "colab_type": "code",
        "colab": {}
      },
      "source": [
        "try:\n",
        "  import google.colab\n",
        "  pass\n",
        "except:\n",
        "  !pip install eurostatapiclient"
      ],
      "execution_count": 0,
      "outputs": []
    },
    {
      "cell_type": "code",
      "metadata": {
        "id": "HoJb_QK9Eb0n",
        "colab_type": "code",
        "colab": {}
      },
      "source": [
        "## %%bash\n",
        "## [[ ! -e /colabtools ]] && exit\n",
        "## pip install eurostatapiclient"
      ],
      "execution_count": 0,
      "outputs": []
    },
    {
      "cell_type": "code",
      "metadata": {
        "id": "T_t6bq9aE2wa",
        "colab_type": "code",
        "colab": {}
      },
      "source": [
        "import pandas.compat as compat\n",
        "from pandas.compat import map\n",
        "from pandas.compat import lmap\n",
        "from pandas.compat import u"
      ],
      "execution_count": 0,
      "outputs": []
    },
    {
      "cell_type": "code",
      "metadata": {
        "id": "EbKYreyvEXgD",
        "colab_type": "code",
        "colab": {}
      },
      "source": [
        "from eurostatapiclient import EurostatAPIClient\n",
        "import numpy as np\n",
        "import pandas as pd\n",
        "import seaborn as sns\n",
        "import matplotlib.pyplot as plt\n",
        "import matplotlib.ticker as ticker\n",
        "import matplotlib.patches as mpatches\n",
        "from sklearn.linear_model import LinearRegression\n",
        "\n",
        "legend_properties = {'weight':'bold','size':'12'}\n",
        "countries_names = {'AT':'Austria', 'BE':'Belgium', 'BG':'Bulgaria', 'CY': 'Cyprus', 'CZ': 'Czechia', 'DE': 'Germany', 'DK':\n",
        "            'Denmark', 'EE':'Estonia', 'EL': 'Greece', 'ES':'Spain', 'FI':'Finland', 'FR':'France', 'HR':'Croatia', \n",
        "            'HU':'Hungary', 'IE':'Ireland', 'IT':'Italy', 'LT':'Lithuania', 'LU':'Luxembourg', 'LV':'Latvia', 'MT':\n",
        "            'Malta', 'NL':'Netherlands', 'PL':'Poland', 'PT':'Portugal', 'RO':'Romania', 'SE':'Sweden', 'SI':'Slovenia',\n",
        "            'SK':'Slovakia', 'UK':'United Kingdom', 'EU28': 'EU-28'}\n",
        "countries_abbr = ['AT','BE','BG','CY','CZ','DE','DK','EE','EL','ES','FI',\n",
        "                  'FR','HR','HU','IE','IT','LT','LU','LV','NV','NL','PL','PT','RO','SE','SI','SK','UK','MT', 'EU28']"
      ],
      "execution_count": 0,
      "outputs": []
    },
    {
      "cell_type": "markdown",
      "metadata": {
        "id": "1CC1-QzMEXgq",
        "colab_type": "text"
      },
      "source": [
        "#### Set up eurostatapiclinet by supplying settings, which will stay the same throught"
      ]
    },
    {
      "cell_type": "code",
      "metadata": {
        "id": "R0IwIFf5EXgv",
        "colab_type": "code",
        "colab": {}
      },
      "source": [
        "#Set versions and formats, so far only the ones used here are availeable and call client\n",
        "VERSION = 'v2.1'\n",
        "FORMAT = 'json'\n",
        "LANGUAGE = 'en'\n",
        "client = EurostatAPIClient(VERSION, FORMAT, LANGUAGE)"
      ],
      "execution_count": 0,
      "outputs": []
    },
    {
      "cell_type": "markdown",
      "metadata": {
        "id": "TQzzXeC1EXg_",
        "colab_type": "text"
      },
      "source": [
        "#### Define  Functions for graphing"
      ]
    },
    {
      "cell_type": "code",
      "metadata": {
        "id": "ldMepZpJEXhC",
        "colab_type": "code",
        "colab": {}
      },
      "source": [
        "def subcategorybar(X,vals,lower,upper,distance,col,rot,width=0.6):\n",
        "    ax.grid(axis='y', color='silver', linestyle='--', linewidth=1)\n",
        "    n = len(vals)\n",
        "    _X = np.arange(len(X))\n",
        "    X_ticks=np.append(_X,_X[-1]+1)\n",
        "    X_ticks=np.insert(X_ticks,_X[0],_X[0]-0.5)\n",
        "    for i in range(n):\n",
        "        plt.bar(_X - width/2. + i/float(n)*width, vals[i], \n",
        "                width=width/float(n), align=\"edge\", zorder=2, color=col[i])\n",
        "        \n",
        "    ax.set_xlim(left=X_ticks[0],right=X_ticks[-1]-0.5)\n",
        "    ax.tick_params(axis='x', which='minor', length=0)    \n",
        "    ax.set_xticks(_X, minor=True)\n",
        "    ax.set_xticklabels(X, minor = True)\n",
        "    ax.set_xticks(X_ticks-0.5, minor=False)\n",
        "    ax.set_xticklabels('', minor=False)\n",
        "    \n",
        "    Y_ticks=range(lower,upper,distance)\n",
        "    ax.set_yticks(Y_ticks)\n",
        "    new_ticks= [str(i)+'%'for i in Y_ticks]\n",
        "    new_ticks[0]='%'\n",
        "    ax.set_yticklabels(new_ticks)\n",
        "    ax.tick_params(axis='y', which='major', length=0)\n",
        "    \n",
        "    ax.spines['top'].set_visible(False)\n",
        "    ax.spines['left'].set_visible(False)\n",
        "    ax.spines['right'].set_visible(False)\n",
        "    \n",
        "    for tick in ax.get_xticklabels(minor=True):\n",
        "        tick.set_rotation(rot)\n"
      ],
      "execution_count": 0,
      "outputs": []
    },
    {
      "cell_type": "code",
      "metadata": {
        "id": "W8WyO7t0EXhU",
        "colab_type": "code",
        "colab": {}
      },
      "source": [
        "def hcatbar(Y,cats,lower,upper,col,labsize,barsize,width=0.6): \n",
        "    y_pos = np.arange(len(cats))\n",
        "    if any(Y)>0:\n",
        "        ax.barh(y_pos, Y,align='center', color= (Y < 0).map({True: col[0],\n",
        "                                         False: col[1]}), zorder=2, height=barsize)\n",
        "        ax.spines['left'].set_position('zero')\n",
        "    else:\n",
        "        ax.barh(y_pos, Y,align='center', color= col, zorder=2, height=barsize)\n",
        "        \n",
        "    ax.set_xlim(lower,upper)\n",
        "    ax.set_yticks(y_pos)\n",
        "    ax.tick_params(axis='y', which='major', labelsize=labsize, length=0)\n",
        "    ax.set_yticklabels(cats)\n",
        "    ax.spines['left'].set_visible(False)\n",
        "    ax.spines['top'].set_visible(False)\n",
        "    ax.spines['right'].set_visible(False)\n",
        "    ax.spines['bottom'].set_visible(False)\n",
        "\n",
        "    for n, label in enumerate(ax.yaxis.get_ticklabels()):\n",
        "        label.set_horizontalalignment('left' if(Y[n]<0) else 'right')\n",
        "        \n",
        "    for n, tick in enumerate(ax.get_yaxis().get_major_ticks()):\n",
        "        if(Y[n]<0):\n",
        "            tick.set_pad(-4)\n",
        "\n",
        "    ax.grid(axis='x', color='silver', linestyle='--', linewidth=1)\n",
        "    ax.tick_params(axis='x', which='major', length=0)"
      ],
      "execution_count": 0,
      "outputs": []
    },
    {
      "cell_type": "markdown",
      "metadata": {
        "id": "aku8bwr4EXhn",
        "colab_type": "text"
      },
      "source": [
        "#### Set parameters for data of interest and retrieve requested data. \n",
        "#### Clean and wrangle data so that it is usable, by filtering NANs and pivoting, so the final dataframe consists of two columns, which will be graphed as bars"
      ]
    },
    {
      "cell_type": "code",
      "metadata": {
        "id": "t-vUIaN0EXht",
        "colab_type": "code",
        "colab": {}
      },
      "source": [
        "params_df1 = {\n",
        "    'na_item': ['P6','P7'],\n",
        "    'sinceTimePeriod': '2012',\n",
        "    'geo':'EU28',\n",
        "    'unit':'PC_GDP'\n",
        "}\n",
        "dataframe_1 = client.get_dataset('nama_10_gdp', params=params_df1).to_dataframe()\n",
        "params_df1.update({'lastTimePeriod': '2018'})\n",
        "dataframe_1 = dataframe_1[dataframe_1.time <= params_df1['lastTimePeriod']]\n",
        "dataframe_1 = dataframe_1.pivot(index='time', columns='na_item', values='values').reset_index().rename(columns={'P6':'Exports', 'P7':'Imports'})"
      ],
      "execution_count": 0,
      "outputs": []
    },
    {
      "cell_type": "markdown",
      "metadata": {
        "id": "iblLzOqoEXh1",
        "colab_type": "text"
      },
      "source": [
        "#### Produce Graph 1. Use options as laid out in the function above. Additionally, define patches for custom legend and provide custom Title"
      ]
    },
    {
      "cell_type": "code",
      "metadata": {
        "id": "6mK2jlRUEXh9",
        "colab_type": "code",
        "colab": {}
      },
      "source": [
        "#make plot\n",
        "fig, ax = plt.subplots(figsize=(15, 4))\n",
        "subcategorybar(dataframe_1['time'], [dataframe_1['Exports'],dataframe_1['Imports']], 0,55,5, ['crimson','royalblue'],0)\n",
        "red_patch = mpatches.Patch(color='crimson', label='Exports as % of GDP')\n",
        "blue_patch = mpatches.Patch(color='royalblue', label='Imports as % of GDP')\n",
        "leg= ax.legend(handles=[red_patch,blue_patch],frameon=False, loc=(0.26, -0.26), ncol=2, prop=legend_properties,labelspacing=0.1, handlelength=0.5)\n",
        "for patch in leg.get_patches():\n",
        "    patch.set_height(6)\n",
        "ax.set_title('{} imports and exports in percentage of GDP by year, {}-{}'.format(params_df1['geo'],params_df1['sinceTimePeriod'],params_df1['lastTimePeriod']),\n",
        "             fontsize=15,fontweight='bold',y=1.08, x=0.3)\n",
        "\n",
        "plt.show()"
      ],
      "execution_count": 0,
      "outputs": []
    },
    {
      "cell_type": "markdown",
      "metadata": {
        "id": "DPk3OpnCEXiO",
        "colab_type": "text"
      },
      "source": [
        "#### Request and wrangle data so that it is usable, by pivoting dataframe, and sorting it for graphing"
      ]
    },
    {
      "cell_type": "code",
      "metadata": {
        "id": "bmP_d75WEXiQ",
        "colab_type": "code",
        "colab": {}
      },
      "source": [
        "#df2 manipulation\n",
        "params_df_2 = {\n",
        "    'na_item': ['P6','P7'],\n",
        "    'time': '2018',\n",
        "    'geo':countries_abbr,\n",
        "    'unit':'PC_GDP'\n",
        "}\n",
        "\n",
        "dataframe_2 = client.get_dataset('nama_10_gdp', params=params_df_2).to_dataframe()\n",
        "dataframe_2 = dataframe_2.pivot(index='geo', columns='na_item', values='values').reset_index().rename(columns={'P6':'Exports', 'P7':'Imports'})\n",
        "dataframe_2['geo']=dataframe_2['geo'].map(countries_names)\n",
        "dataframe_2 = dataframe_2.sort_values(by='Exports', ascending=False)"
      ],
      "execution_count": 0,
      "outputs": []
    },
    {
      "cell_type": "markdown",
      "metadata": {
        "id": "ATDwZQiNEXiY",
        "colab_type": "text"
      },
      "source": [
        "#### Produce Graph 2. Add custom legend, title."
      ]
    },
    {
      "cell_type": "code",
      "metadata": {
        "id": "q18iOW6dEXie",
        "colab_type": "code",
        "colab": {}
      },
      "source": [
        "fig, ax = plt.subplots(figsize=(15, 4))\n",
        "subcategorybar(dataframe_2['geo'], [dataframe_2['Exports'],dataframe_2['Imports']], 0,300,50, ['crimson','royalblue'],90)\n",
        "\n",
        "#patches are set with the corresponding labels\n",
        "red_patch = mpatches.Patch(color='crimson', label='Exports as % of GDP')\n",
        "blue_patch = mpatches.Patch(color='royalblue', label='Imports as % of GDP')\n",
        "\n",
        "leg= ax.legend(handles=[red_patch,blue_patch],frameon=False, loc=(0.26, -0.5), ncol=2, prop=legend_properties,labelspacing=0.1, handlelength=0.5)\n",
        "    \n",
        "ax.set_title('Imports and exports in % of GDP by country, {}'.format(params_df_2['time']),fontsize=15,fontweight='bold',y=1.08, x=0.21)\n",
        "\n",
        "plt.show()\n"
      ],
      "execution_count": 0,
      "outputs": []
    },
    {
      "cell_type": "markdown",
      "metadata": {
        "id": "nPpmem8NEXip",
        "colab_type": "text"
      },
      "source": [
        "#### Request and wrangle data so that it is usable, by pivoting dataframe, and sorting it for graphing"
      ]
    },
    {
      "cell_type": "code",
      "metadata": {
        "id": "xPsWw2x8EXis",
        "colab_type": "code",
        "colab": {}
      },
      "source": [
        "params_df3={\n",
        "    'na_item': ['P6','P7'],\n",
        "    'time': '2018',\n",
        "    'geo':[countries_abbr,'EU28'],\n",
        "    'unit':'PC_GDP'\n",
        "}"
      ],
      "execution_count": 0,
      "outputs": []
    },
    {
      "cell_type": "code",
      "metadata": {
        "id": "jW058YdREXi6",
        "colab_type": "code",
        "colab": {}
      },
      "source": [
        "dataframe_3 = client.get_dataset('nama_10_gdp', params=params_df3).to_dataframe()\n",
        "dataframe_3=dataframe_3.pivot(index='geo', columns='na_item', values='values').reset_index().rename(columns={'P6':'Exports', 'P7':'Imports'})\n",
        "# issues with some pandas version, including on Google colab... ? we use methods for regular operations\n",
        "dataframe_3['balance'] = dataframe_3['Exports'].sub(dataframe_3['Imports']).div(dataframe_3['Exports'])  \n",
        "# dataframe_3['balance']=(dataframe_3['Exports'] - dataframe_3['Imports']) /dataframe_3['Exports']\n",
        "dataframe_3['geo'] = dataframe_3['geo'].map(countries_names)\n",
        "dataframe_3 = dataframe_3.sort_values(by='balance', ascending=True).reset_index(drop=True)"
      ],
      "execution_count": 0,
      "outputs": []
    },
    {
      "cell_type": "markdown",
      "metadata": {
        "id": "ys7zUPsuEXjL",
        "colab_type": "text"
      },
      "source": [
        "#### Produce Graph 3. Add custom legend, title."
      ]
    },
    {
      "cell_type": "code",
      "metadata": {
        "id": "r_-TZNyLEXjO",
        "colab_type": "code",
        "colab": {}
      },
      "source": [
        "fig, ax = plt.subplots(figsize=(15, 8))\n",
        "hcatbar(dataframe_3['balance'], dataframe_3['geo'], -0.1, 0.3, ['crimson', 'royalblue'], 8,0.4)\n",
        "ax.set_ylim(-0.75,28.5)\n",
        "ax.set_title('Export-Import balance by country, {}'.format(params_df3['time']),fontsize=15,fontweight='bold',y=1.00, x=0.3)\n",
        "plt.show()\n"
      ],
      "execution_count": 0,
      "outputs": []
    },
    {
      "cell_type": "markdown",
      "metadata": {
        "id": "gfdpf8dnEXjX",
        "colab_type": "text"
      },
      "source": [
        "#### Request and wrangle data so that it is usable, by pivoting dataframe, and calculating quantities of interest to be graphed"
      ]
    },
    {
      "cell_type": "code",
      "metadata": {
        "id": "LPc2X4WhEXjf",
        "colab_type": "code",
        "colab": {}
      },
      "source": [
        "params_df4_bop={\n",
        "    'fdi_item': ['DO__D__F','DI__D__F'],\n",
        "    'precision': '0',\n",
        "    'geo':'EU28',\n",
        "    'partner':'EXT_EU28',\n",
        "    'stk_flow':['NO','NI'],\n",
        "    'currency':'MIO_EUR',\n",
        "    'entity':'TOTAL',\n",
        "    'nace_r2':'FDI'\n",
        "}\n",
        "\n",
        "params_df4_gdp={\n",
        "    'unit':'CP_MEUR',\n",
        "    'na_item': 'B1G',\n",
        "    'time':['2013','2014','2015','2016','2017'],\n",
        "    'geo':'EU28',\n",
        "    'nace_r2':'TOTAL'\n",
        "}"
      ],
      "execution_count": 0,
      "outputs": []
    },
    {
      "cell_type": "code",
      "metadata": {
        "id": "ZxC_rVYPEXkB",
        "colab_type": "code",
        "colab": {}
      },
      "source": [
        "dataframe_4_bop = client.get_dataset('bop_fdi6_pos', params=params_df4_bop).to_dataframe().dropna()\n",
        "dataframe_4_gdp = client.get_dataset('nama_10_a64', params=params_df4_gdp).to_dataframe()\n",
        "dataframe_4 = dataframe_4_bop.merge(dataframe_4_gdp[['values','time']],how='left', left_on='time', right_on='time')\n",
        "dataframe_4['per_gdp'] = dataframe_4['values_x'].div(dataframe_4['values_y']).apply(lambda x: x*100)  \n",
        "# dataframe_4['per_gdp'] = (dataframe_4['values_x']/dataframe_4['values_y'])*100\n",
        "dataframe_4 = dataframe_4.pivot(index='time', columns='stk_flow', values='per_gdp').reset_index().rename(columns={'NI':'Inward', 'NO':'Outward'})"
      ],
      "execution_count": 0,
      "outputs": []
    },
    {
      "cell_type": "markdown",
      "metadata": {
        "id": "cW9aMrHkEXkQ",
        "colab_type": "text"
      },
      "source": [
        "#### Produce Graph 4. Add custom legend, title."
      ]
    },
    {
      "cell_type": "code",
      "metadata": {
        "id": "5qtdj8QSEXkW",
        "colab_type": "code",
        "colab": {}
      },
      "source": [
        "#make plot\n",
        "fig, ax = plt.subplots(figsize=(15, 4))\n",
        "subcategorybar(dataframe_4['time'], [dataframe_4['Outward'],dataframe_4['Inward']], 0,70,10, ['crimson','royalblue'],0)\n",
        "red_patch = mpatches.Patch(color='crimson', label='EU outward FDI stocks as % of GDP')\n",
        "blue_patch = mpatches.Patch(color='royalblue', label='EU inward FDI stocks as % of GDP')\n",
        "leg= ax.legend(handles=[red_patch,blue_patch],frameon=False, loc=(0.26, -0.26), ncol=2, prop=legend_properties,labelspacing=0.1, handlelength=0.5)\n",
        "for patch in leg.get_patches():\n",
        "    patch.set_height(6)\n",
        "ax.set_title('Inward and outward foreign direct investment stocks relative to the rest of \\nthe world as a percentage of GDP, {}, {}-{}'.format(params_df4_gdp['geo'],min(params_df4_gdp['time']),max(params_df4_gdp['time'])),\n",
        "                                                                                                                                                fontsize=15,fontweight='bold',y=1.08, x=-0.025, loc='left')\n",
        "\n",
        "plt.show()"
      ],
      "execution_count": 0,
      "outputs": []
    },
    {
      "cell_type": "markdown",
      "metadata": {
        "id": "zJajzByKEXkm",
        "colab_type": "text"
      },
      "source": [
        "#### Request and wrangle data so that it is usable, by pivoting dataframe, and calculating quantities of interest to be graphed, additionally sort out outliers as defined in source graphs"
      ]
    },
    {
      "cell_type": "code",
      "metadata": {
        "id": "7JKmDvo3EXkp",
        "colab_type": "code",
        "colab": {}
      },
      "source": [
        "params_df5_bop={\n",
        "    'fdi_item': ['DO__D__F','DI__D__F'],\n",
        "    'precision': '0',\n",
        "    'geo':countries_abbr,\n",
        "    'partner':'WRL_REST',\n",
        "    'stk_flow':['NO','NI'],\n",
        "    'currency':'MIO_EUR',\n",
        "    'time':'2017',\n",
        "    'entity':'TOTAL',\n",
        "    'nace_r2':'FDI'\n",
        "}\n",
        "\n",
        "params_df5_gdp={\n",
        "    'unit':'CP_MEUR',\n",
        "    'na_item': 'B1G',\n",
        "    'time':'2017',\n",
        "    'geo':countries_abbr,\n",
        "    'nace_r2':'TOTAL'\n",
        "}"
      ],
      "execution_count": 0,
      "outputs": []
    },
    {
      "cell_type": "code",
      "metadata": {
        "id": "EGtjEbbmEXk6",
        "colab_type": "code",
        "colab": {}
      },
      "source": [
        "dataframe_5_bop = client.get_dataset('bop_fdi6_pos', params=params_df5_bop).to_dataframe().dropna()\n",
        "dataframe_5_gdp = client.get_dataset('nama_10_a64', params=params_df5_gdp).to_dataframe()\n",
        "dataframe_5 = dataframe_5_bop.merge(dataframe_5_gdp[['values','geo']],how='left', left_on='geo', right_on='geo')\n",
        "dataframe_5['per_gdp'] = dataframe_5['values_x'].div(dataframe_5['values_y']).apply(lambda x: x*100)  \n",
        "# dataframe_5['per_gdp'] = (dataframe_5['values_x']/dataframe_5['values_y'])*100\n",
        "dataframe_5 = dataframe_5.pivot(index='geo', columns='stk_flow', values='per_gdp').reset_index().rename(columns={'NI':'Inward', 'NO':'Outward'})\n",
        "dataframe_6 = dataframe_5\n",
        "outlier = dataframe_5.loc[dataframe_5['geo'].isin(['IE','MT','CY','LU','NL'])]\n",
        "dataframe_5 = dataframe_5.loc[dataframe_5['geo'].isin(['IE','MT','CY','LU','NL','EU28'])==False].reset_index()"
      ],
      "execution_count": 0,
      "outputs": []
    },
    {
      "cell_type": "markdown",
      "metadata": {
        "id": "EOi6xNR3EXlK",
        "colab_type": "text"
      },
      "source": [
        "#### Produce Graph 5. Emulate style manually and add labels to observations. In addition, add a linear approximation for purposes of data exploration."
      ]
    },
    {
      "cell_type": "code",
      "metadata": {
        "id": "BF6xH7xIEXlM",
        "colab_type": "code",
        "colab": {}
      },
      "source": [
        "fig, ax = plt.subplots(figsize=(15, 4))\n",
        "ax.grid(axis='y', color='silver', linestyle='--', linewidth=0.75)\n",
        "ax.grid(axis='x', color='silver', linestyle='--', linewidth=0.75)\n",
        "ax.spines['top'].set_visible(False)\n",
        "ax.spines['left'].set_visible(False)\n",
        "ax.spines['right'].set_visible(False)\n",
        "ax.set_xlim(left=0,right=160)\n",
        "ax.set_ylim(0,200)\n",
        "\n",
        "ax.tick_params(axis='y', which='major', length=0)\n",
        "\n",
        "for i,type in enumerate(dataframe_5['geo']):\n",
        "    x = dataframe_5['Outward'][i]\n",
        "    y = dataframe_5['Inward'][i]\n",
        "    ax.scatter(x, y, marker='.', color='royalblue')\n",
        "    ax.text(x-1, y+3, type, fontsize=9)\n",
        "\n",
        "    \n",
        "z = np.polyfit(dataframe_5['Outward'], dataframe_5['Inward'], 1)\n",
        "p = np.poly1d(z)\n",
        "plt.plot(dataframe_5['Outward'],p(dataframe_5['Outward']),\"r\")\n",
        "\n",
        "ax.set_title('Inward and outward foreign direct investment by Member State, in percentage of GDP, {}'.format(params_df5_gdp['time']),\n",
        "             fontsize=15,fontweight='bold',y=1.08, x=-0.025, loc='left')\n",
        "plt.xlabel('EU outward FDI stocks as % of GDP')\n",
        "plt.ylabel('EU inward FDI stocks as % of GDP')\n",
        "\n",
        "plt.show()"
      ],
      "execution_count": 0,
      "outputs": []
    },
    {
      "cell_type": "markdown",
      "metadata": {
        "id": "Cjn4N09REXlY",
        "colab_type": "text"
      },
      "source": [
        "#### Request and wrangle data so that it is usable, by pivoting dataframe"
      ]
    },
    {
      "cell_type": "code",
      "metadata": {
        "id": "8FcBlpY0EXlZ",
        "colab_type": "code",
        "colab": {}
      },
      "source": [
        "dataframe_6['balance'] = dataframe_6['Outward'].div(dataframe_6['Inward']).apply(lambda x: x-1)\n",
        "# dataframe_6['balance'] = (dataframe_6['Outward']/dataframe_6['Inward'])-1\n",
        "dataframe_6['geo'] = dataframe_6['geo'].map(countries_names)\n",
        "dataframe_6 = dataframe_6.sort_values(by='balance', ascending=True).reset_index(drop=True)"
      ],
      "execution_count": 0,
      "outputs": []
    },
    {
      "cell_type": "markdown",
      "metadata": {
        "id": "dJh46vA5EXlf",
        "colab_type": "text"
      },
      "source": [
        "#### Produce Graph 6. Add custom legend, title."
      ]
    },
    {
      "cell_type": "code",
      "metadata": {
        "id": "iJOzlfKTEXlk",
        "colab_type": "code",
        "colab": {}
      },
      "source": [
        "fig, ax = plt.subplots(figsize=(15, 8))\n",
        "hcatbar(dataframe_6['balance'], dataframe_6['geo'], -1.20, 1, ['crimson', 'royalblue'], 8,0.4)\n",
        "ax.set_ylim(-0.75,28.5)\n",
        "ax.set_xlim(-1.3,0.9)\n",
        "ax.set_title('Inward - Outward FDI balance ratio by Member State, {}'.format(params_df5_gdp['time']),\n",
        "             fontsize=15,fontweight='bold',y=1.00, x=0.3)\n",
        "plt.show()"
      ],
      "execution_count": 0,
      "outputs": []
    },
    {
      "cell_type": "markdown",
      "metadata": {
        "id": "PFl0_bxQEXls",
        "colab_type": "text"
      },
      "source": [
        "#### Request and wrangle data so that it is usable, by pivoting dataframe and calculating quantities of interest to be graphed"
      ]
    },
    {
      "cell_type": "code",
      "metadata": {
        "id": "fq066TRVEXlu",
        "colab_type": "code",
        "colab": {}
      },
      "source": [
        "params_df7={\n",
        "    'precision':1,\n",
        "    'geo':'EU28',\n",
        "    'indic_sb':'V16110',\n",
        "    'time':['2013','2014','2015','2016'],\n",
        "    'c_ctrl':['EXT_EU28','WORLD'],\n",
        "    'nace_r2':'B-N_S95_X_K'\n",
        "}"
      ],
      "execution_count": 0,
      "outputs": []
    },
    {
      "cell_type": "code",
      "metadata": {
        "id": "ujWt1_Q6EXly",
        "colab_type": "code",
        "colab": {}
      },
      "source": [
        "dataframe_7 = client.get_dataset('fats_g1a_08', params=params_df7).to_dataframe()\n",
        "dataframe_7 = dataframe_7.pivot(index='time', columns='c_ctrl', values='values').reset_index()\n",
        "dataframe_7['perc'] = dataframe_7['EXT_EU28'].div(dataframe_7['WORLD']).apply(lambda x : round(x*100,2))\n",
        "# dataframe_7['perc'] = round(((dataframe_7['EXT_EU28']/dataframe_7['WORLD'])*100),2)"
      ],
      "execution_count": 0,
      "outputs": []
    },
    {
      "cell_type": "markdown",
      "metadata": {
        "id": "5g6qyzcpEXl3",
        "colab_type": "text"
      },
      "source": [
        "#### Produce Graph 7. Add custom legend, title, insert percentage labels above the bars."
      ]
    },
    {
      "cell_type": "code",
      "metadata": {
        "id": "CTlQ6oOHEXl6",
        "colab_type": "code",
        "colab": {}
      },
      "source": [
        "fig, ax = plt.subplots(figsize=(15, 4))\n",
        "subcategorybar(dataframe_7['time'], [dataframe_7['perc']], 0,8,1, ['royalblue'],0)\n",
        "ax.set_title('Employment shares of enterprises controlled from outside the {} in total EU employment by year, {}-{}'.format(params_df7['geo'],min(params_df7['time']),max(params_df7['time'])),\n",
        "             fontsize=15,fontweight='bold',y=1.08, x=0.55)\n",
        "ax.spines['left'].set_visible(False)\n",
        "ax.tick_params(axis='y', which='major', length=0)\n",
        "ax.set_yticklabels('', minor=False)\n",
        "\n",
        "for p in ax.patches: ax.annotate(p.get_height(), (p.get_x()+p.get_width()/2., p.get_height()), ha='center', va='center', xytext=(0, 10), textcoords='offset points')\n",
        "\n",
        "plt.show()"
      ],
      "execution_count": 0,
      "outputs": []
    },
    {
      "cell_type": "markdown",
      "metadata": {
        "id": "nxGaeZNdEXl-",
        "colab_type": "text"
      },
      "source": [
        "#### Request and wrangle data so that it is usable, by pivoting dataframe and calculating quantities of interest to be graphed, mapping countrynames and sorting"
      ]
    },
    {
      "cell_type": "code",
      "metadata": {
        "id": "-eHNWOIuEXmC",
        "colab_type": "code",
        "colab": {}
      },
      "source": [
        "params_df8={\n",
        "    'precision':1,\n",
        "    'geo':countries_abbr,\n",
        "    'indic_sb':'V16110',\n",
        "    'time':'2016',\n",
        "    'c_ctrl':['WRL_X_REP','WORLD'],\n",
        "    'nace_r2':'B-N_S95_X_K'\n",
        "}"
      ],
      "execution_count": 0,
      "outputs": []
    },
    {
      "cell_type": "code",
      "metadata": {
        "id": "dK1_QEBkEXmK",
        "colab_type": "code",
        "colab": {}
      },
      "source": [
        "dataframe_8 = client.get_dataset('fats_g1a_08', params=params_df8).to_dataframe()\n",
        "dataframe_8 = dataframe_8.pivot(index='geo', columns='c_ctrl', values='values').reset_index()\n",
        "dataframe_8['perc'] = dataframe_8['WRL_X_REP'].div(dataframe_8['WORLD']).apply(lambda x: x*100)\n",
        "#dataframe_8['perc'] = (dataframe_8['WRL_X_REP']/dataframe_8['WORLD'])*100\n",
        "dataframe_8['geo'] = dataframe_8['geo'].map(countries_names)\n",
        "dataframe_8 = dataframe_8.sort_values(by='perc', ascending=True).reset_index(drop=True)"
      ],
      "execution_count": 0,
      "outputs": []
    },
    {
      "cell_type": "markdown",
      "metadata": {
        "id": "laSKWnHbEXmP",
        "colab_type": "text"
      },
      "source": [
        "#### Produce Graph 8. Add custom legend, title, color EU28 bar blue."
      ]
    },
    {
      "cell_type": "code",
      "metadata": {
        "id": "MVZ1wL4iEXmT",
        "colab_type": "code",
        "colab": {}
      },
      "source": [
        "fig, ax = plt.subplots(figsize=(15, 8))\n",
        "hcatbar(dataframe_8['perc'], dataframe_8['geo'], 0, 50, 'crimson', 8,0.4)\n",
        "ax.set_ylim(-0.75,28.5)\n",
        "ax.set_title('Employment shares of foreign controlled enterprises (world except \\nreporting country) in total domestic employment by country, {}'.format(params_df8['time']),\n",
        "             fontsize=15,fontweight='bold',y=1.05, x=-0.06, loc='left')\n",
        "ax.spines['left'].set_visible(True)\n",
        "ax.get_children()[11].set_color('royalblue')\n",
        "plt.show()"
      ],
      "execution_count": 0,
      "outputs": []
    },
    {
      "cell_type": "code",
      "metadata": {
        "id": "BJOxrQSfEXmf",
        "colab_type": "code",
        "colab": {}
      },
      "source": [
        ""
      ],
      "execution_count": 0,
      "outputs": []
    }
  ]
}